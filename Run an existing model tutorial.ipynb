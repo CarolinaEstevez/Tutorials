{
 "cells": [
  {
   "attachments": {},
   "cell_type": "markdown",
   "id": "77b2556c",
   "metadata": {},
   "source": [
    "Run Fund model for n steps of time "
   ]
  },
  {
   "cell_type": "code",
   "execution_count": 8,
   "id": "6383719a",
   "metadata": {},
   "outputs": [],
   "source": [
    "using MimiFUND\n",
    "m = MimiFUND.get_model(nsteps = 200)\n",
    "run(m)"
   ]
  },
  {
   "attachments": {},
   "cell_type": "markdown",
   "id": "e8570707",
   "metadata": {},
   "source": [
    "Specific n=99 value of the Component Socioeconomic and the Varible income "
   ]
  },
  {
   "cell_type": "code",
   "execution_count": 3,
   "id": "ac616ef1",
   "metadata": {},
   "outputs": [
    {
     "data": {
      "text/plain": [
       "20744.14023561717"
      ]
     },
     "execution_count": 3,
     "metadata": {},
     "output_type": "execute_result"
    }
   ],
   "source": [
    "using Mimi\n",
    "m[:socioeconomic, :income][99]\n"
   ]
  },
  {
   "attachments": {},
   "cell_type": "markdown",
   "id": "e3400f84",
   "metadata": {},
   "source": [
    "Data frame for the 1:16 regions and its income"
   ]
  },
  {
   "cell_type": "code",
   "execution_count": 9,
   "id": "47dcd767",
   "metadata": {},
   "outputs": [
    {
     "data": {
      "text/html": [
       "<div><div style = \"float: left;\"><span>16×3 DataFrame</span></div><div style = \"clear: both;\"></div></div><div class = \"data-frame\" style = \"overflow-x: scroll;\"><table class = \"data-frame\" style = \"margin-bottom: 6px;\"><thead><tr class = \"header\"><th class = \"rowNumber\" style = \"font-weight: bold; text-align: right;\">Row</th><th style = \"text-align: left;\">time</th><th style = \"text-align: left;\">regions</th><th style = \"text-align: left;\">income</th></tr><tr class = \"subheader headerLastRow\"><th class = \"rowNumber\" style = \"font-weight: bold; text-align: right;\"></th><th title = \"Int64\" style = \"text-align: left;\">Int64</th><th title = \"String\" style = \"text-align: left;\">String</th><th title = \"Union{Missing, Float64}\" style = \"text-align: left;\">Float64?</th></tr></thead><tbody><tr><td class = \"rowNumber\" style = \"font-weight: bold; text-align: right;\">1</td><td style = \"text-align: right;\">1950</td><td style = \"text-align: left;\">USA</td><td style = \"text-align: right;\">1643.9</td></tr><tr><td class = \"rowNumber\" style = \"font-weight: bold; text-align: right;\">2</td><td style = \"text-align: right;\">1950</td><td style = \"text-align: left;\">CAN</td><td style = \"text-align: right;\">84.8225</td></tr><tr><td class = \"rowNumber\" style = \"font-weight: bold; text-align: right;\">3</td><td style = \"text-align: right;\">1950</td><td style = \"text-align: left;\">WEU</td><td style = \"text-align: right;\">1913.32</td></tr><tr><td class = \"rowNumber\" style = \"font-weight: bold; text-align: right;\">4</td><td style = \"text-align: right;\">1950</td><td style = \"text-align: left;\">JPK</td><td style = \"text-align: right;\">616.022</td></tr><tr><td class = \"rowNumber\" style = \"font-weight: bold; text-align: right;\">5</td><td style = \"text-align: right;\">1950</td><td style = \"text-align: left;\">ANZ</td><td style = \"text-align: right;\">119.058</td></tr><tr><td class = \"rowNumber\" style = \"font-weight: bold; text-align: right;\">6</td><td style = \"text-align: right;\">1950</td><td style = \"text-align: left;\">EEU</td><td style = \"text-align: right;\">87.9192</td></tr><tr><td class = \"rowNumber\" style = \"font-weight: bold; text-align: right;\">7</td><td style = \"text-align: right;\">1950</td><td style = \"text-align: left;\">FSU</td><td style = \"text-align: right;\">167.309</td></tr><tr><td class = \"rowNumber\" style = \"font-weight: bold; text-align: right;\">8</td><td style = \"text-align: right;\">1950</td><td style = \"text-align: left;\">MDE</td><td style = \"text-align: right;\">76.065</td></tr><tr><td class = \"rowNumber\" style = \"font-weight: bold; text-align: right;\">9</td><td style = \"text-align: right;\">1950</td><td style = \"text-align: left;\">CAM</td><td style = \"text-align: right;\">40.5139</td></tr><tr><td class = \"rowNumber\" style = \"font-weight: bold; text-align: right;\">10</td><td style = \"text-align: right;\">1950</td><td style = \"text-align: left;\">LAM</td><td style = \"text-align: right;\">193.139</td></tr><tr><td class = \"rowNumber\" style = \"font-weight: bold; text-align: right;\">11</td><td style = \"text-align: right;\">1950</td><td style = \"text-align: left;\">SAS</td><td style = \"text-align: right;\">57.9714</td></tr><tr><td class = \"rowNumber\" style = \"font-weight: bold; text-align: right;\">12</td><td style = \"text-align: right;\">1950</td><td style = \"text-align: left;\">SEA</td><td style = \"text-align: right;\">25.6943</td></tr><tr><td class = \"rowNumber\" style = \"font-weight: bold; text-align: right;\">13</td><td style = \"text-align: right;\">1950</td><td style = \"text-align: left;\">CHI</td><td style = \"text-align: right;\">18.8014</td></tr><tr><td class = \"rowNumber\" style = \"font-weight: bold; text-align: right;\">14</td><td style = \"text-align: right;\">1950</td><td style = \"text-align: left;\">MAF</td><td style = \"text-align: right;\">13.4482</td></tr><tr><td class = \"rowNumber\" style = \"font-weight: bold; text-align: right;\">15</td><td style = \"text-align: right;\">1950</td><td style = \"text-align: left;\">SSA</td><td style = \"text-align: right;\">94.686</td></tr><tr><td class = \"rowNumber\" style = \"font-weight: bold; text-align: right;\">16</td><td style = \"text-align: right;\">1950</td><td style = \"text-align: left;\">SIS</td><td style = \"text-align: right;\">6.82114</td></tr></tbody></table></div>"
      ],
      "text/latex": [
       "\\begin{tabular}{r|ccc}\n",
       "\t& time & regions & income\\\\\n",
       "\t\\hline\n",
       "\t& Int64 & String & Float64?\\\\\n",
       "\t\\hline\n",
       "\t1 & 1950 & USA & 1643.9 \\\\\n",
       "\t2 & 1950 & CAN & 84.8225 \\\\\n",
       "\t3 & 1950 & WEU & 1913.32 \\\\\n",
       "\t4 & 1950 & JPK & 616.022 \\\\\n",
       "\t5 & 1950 & ANZ & 119.058 \\\\\n",
       "\t6 & 1950 & EEU & 87.9192 \\\\\n",
       "\t7 & 1950 & FSU & 167.309 \\\\\n",
       "\t8 & 1950 & MDE & 76.065 \\\\\n",
       "\t9 & 1950 & CAM & 40.5139 \\\\\n",
       "\t10 & 1950 & LAM & 193.139 \\\\\n",
       "\t11 & 1950 & SAS & 57.9714 \\\\\n",
       "\t12 & 1950 & SEA & 25.6943 \\\\\n",
       "\t13 & 1950 & CHI & 18.8014 \\\\\n",
       "\t14 & 1950 & MAF & 13.4482 \\\\\n",
       "\t15 & 1950 & SSA & 94.686 \\\\\n",
       "\t16 & 1950 & SIS & 6.82114 \\\\\n",
       "\\end{tabular}\n"
      ],
      "text/plain": [
       "\u001b[1m16×3 DataFrame\u001b[0m\n",
       "\u001b[1m Row \u001b[0m│\u001b[1m time  \u001b[0m\u001b[1m regions \u001b[0m\u001b[1m income     \u001b[0m\n",
       "     │\u001b[90m Int64 \u001b[0m\u001b[90m String  \u001b[0m\u001b[90m Float64?   \u001b[0m\n",
       "─────┼────────────────────────────\n",
       "   1 │  1950  USA      1643.9\n",
       "   2 │  1950  CAN        84.8225\n",
       "   3 │  1950  WEU      1913.32\n",
       "   4 │  1950  JPK       616.022\n",
       "   5 │  1950  ANZ       119.058\n",
       "   6 │  1950  EEU        87.9192\n",
       "   7 │  1950  FSU       167.309\n",
       "   8 │  1950  MDE        76.065\n",
       "   9 │  1950  CAM        40.5139\n",
       "  10 │  1950  LAM       193.139\n",
       "  11 │  1950  SAS        57.9714\n",
       "  12 │  1950  SEA        25.6943\n",
       "  13 │  1950  CHI        18.8014\n",
       "  14 │  1950  MAF        13.4482\n",
       "  15 │  1950  SSA        94.686\n",
       "  16 │  1950  SIS         6.82114"
      ]
     },
     "execution_count": 9,
     "metadata": {},
     "output_type": "execute_result"
    }
   ],
   "source": [
    "getdataframe(m, :socioeconomic=>:income)[1:16,:]"
   ]
  },
  {
   "attachments": {},
   "cell_type": "markdown",
   "id": "bdfc5158",
   "metadata": {},
   "source": [
    "Explore the different graphs from FUND model "
   ]
  },
  {
   "cell_type": "code",
   "execution_count": 6,
   "id": "3280a6f1",
   "metadata": {},
   "outputs": [
    {
     "data": {
      "text/plain": [
       "Electron.Window(Application(Base.PipeEndpoint(RawFD(51) paused, 0 bytes waiting), Process(setenv(`\u001b[4m/Users/ce3304/.julia/artifacts/af89516f228377420737a306e9701ae844eee264/Julia.app/Contents/MacOS/Julia\u001b[24m \u001b[4m/Users/ce3304/.julia/packages/Electron/pOy6n/src/main.js\u001b[24m \u001b[4m/var/folders/t7/fy2lqlxs1mv8209nfcq776m58xvr_f/T/jlel-48a119bea70211ed19012983df0dfa65\u001b[24m \u001b[4m/var/folders/t7/fy2lqlxs1mv8209nfcq776m58xvr_f/T/jlel-sn-48a1262aa70211ed140f5947b2670b73\u001b[24m \u001b[4mhgEUsJjboyaKvvMcG2oSHsdqkiZqym6sweUVAR/RT7qDV/SGV/eQUDS1FCjMMz4gOwl9IsZraEYu+pmptDqzENBOJLcxBgKHwmP9QS51lsrhiTW9EhOB8fpIAGOjCjzlgh+duXus/3Jyg2qzR+f3caN7GT0LB0yjpCg470GYw7o=\u001b[24m`,[\"VSCODE_CWD=/Users/ce3304\", \"XPC_FLAGS=0x0\", \"COMMAND_MODE=unix2003\", \"CONDA_PROMPT_MODIFIER=(base) \", \"PATH=/Applications/Julia-1.6.app/Contents/Resources/julia/bin:/Users/aewsma/anaconda3/bin:/Users/aewsma/anaconda3/condabin:/usr/bin:/bin:/usr/sbin:/sbin\", \"PWD=/Users/ce3304\", \"VSCODE_CODE_CACHE_PATH=/Users/ce3304/.anaconda/navigator/Code/CachedData/97dec172d3256f8ca4bfb2143f3f76b503ca0534\", \"VSCODE_HANDLES_UNCAUGHT_ERRORS=true\", \"XPC_SERVICE_NAME=application.com.microsoft.VSCode.152802133.152802359.FA3387CE-DD6E-4399-82A9-88A71F04FFDE\", \"OPENBLAS_MAIN_FREE=1\"  …  \"LINES=30\", \"USER=ce3304\", \"CONDA_SHLVL=1\", \"CONDA_EXE=/Users/aewsma/anaconda3/bin/conda\", \"HOME=/Users/ce3304\", \"CONDA_ROOT=/Users/aewsma/anaconda3\", \"ELECTRON_NO_ATTACH_CONSOLE=1\", \"PYTHONUNBUFFERED=1\", \"PYTHONIOENCODING=utf-8\", \"MLM_LICENSE_FILE=27004@license01.ad.rit.edu:27004@license02.ad.rit.edu:27004@license03.ad.rit.edu\"]), ProcessRunning), [1 window]), 1, true, Channel{Any}(128))"
      ]
     },
     "execution_count": 6,
     "metadata": {},
     "output_type": "execute_result"
    }
   ],
   "source": [
    "explore(m)"
   ]
  },
  {
   "cell_type": "code",
   "execution_count": null,
   "id": "8ee5e45d",
   "metadata": {},
   "outputs": [],
   "source": []
  },
  {
   "attachments": {},
   "cell_type": "markdown",
   "id": "c2043def",
   "metadata": {},
   "source": [
    "Graph of the FUND model for the regions of the component socioeconomic and the variable income"
   ]
  },
  {
   "cell_type": "code",
   "execution_count": 5,
   "id": "8efb7619",
   "metadata": {},
   "outputs": [
    {
     "data": {
      "application/vnd.vegalite.v4+json": {
       "$schema": "https://vega.github.io/schema/vega-lite/v3.json",
       "data": {
        "values": [
         {
          "income": "1643.89944236897",
          "regions": "USA",
          "time": "1950-01-01"
         },
         {
          "income": "84.8224831391005",
          "regions": "CAN",
          "time": "1950-01-01"
         },
         {
          "income": "1913.31508308279",
          "regions": "WEU",
          "time": "1950-01-01"
         },
         {
          "income": "616.021980672332",
          "regions": "JPK",
          "time": "1950-01-01"
         },
         {
          "income": "119.057728115324",
          "regions": "ANZ",
          "time": "1950-01-01"
         },
         {
          "income": "87.9192108941911",
          "regions": "EEU",
          "time": "1950-01-01"
         },
         {
          "income": "167.308878761848",
          "regions": "FSU",
          "time": "1950-01-01"
         },
         {
          "income": "76.0649829670573",
          "regions": "MDE",
          "time": "1950-01-01"
         },
         {
          "income": "40.5139010341431",
          "regions": "CAM",
          "time": "1950-01-01"
         },
         {
          "income": "193.138523290388",
          "regions": "LAM",
          "time": "1950-01-01"
         },
         {
          "income": "57.9713701148353",
          "regions": "SAS",
          "time": "1950-01-01"
         },
         {
          "income": "25.6942546016562",
          "regions": "SEA",
          "time": "1950-01-01"
         },
         {
          "income": "18.8014266052303",
          "regions": "CHI",
          "time": "1950-01-01"
         },
         {
          "income": "13.4482462152325",
          "regions": "MAF",
          "time": "1950-01-01"
         },
         {
          "income": "94.6859977634632",
          "regions": "SSA",
          "time": "1950-01-01"
         },
         {
          "income": "6.82113737296979",
          "regions": "SIS",
          "time": "1950-01-01"
         },
         {
          "income": "1702.5064446350696",
          "regions": "USA",
          "time": "1951-01-01"
         },
         {
          "income": "89.52831643076127",
          "regions": "CAN",
          "time": "1951-01-01"
         },
         {
          "income": "1978.5601206177726",
          "regions": "WEU",
          "time": "1951-01-01"
         },
         {
          "income": "644.6374878052532",
          "regions": "JPK",
          "time": "1951-01-01"
         },
         {
          "income": "123.06897040811064",
          "regions": "ANZ",
          "time": "1951-01-01"
         },
         {
          "income": "91.62583585448974",
          "regions": "EEU",
          "time": "1951-01-01"
         },
         {
          "income": "174.9933213385721",
          "regions": "FSU",
          "time": "1951-01-01"
         },
         {
          "income": "79.95998559239216",
          "regions": "MDE",
          "time": "1951-01-01"
         },
         {
          "income": "43.193057091598924",
          "regions": "CAM",
          "time": "1951-01-01"
         },
         {
          "income": "204.9750146965923",
          "regions": "LAM",
          "time": "1951-01-01"
         },
         {
          "income": "59.680189397490274",
          "regions": "SAS",
          "time": "1951-01-01"
         },
         {
          "income": "27.412654133958547",
          "regions": "SEA",
          "time": "1951-01-01"
         },
         {
          "income": "19.934909692532234",
          "regions": "CHI",
          "time": "1951-01-01"
         },
         {
          "income": "14.269081510104037",
          "regions": "MAF",
          "time": "1951-01-01"
         },
         {
          "income": "97.5523777370377",
          "regions": "SSA",
          "time": "1951-01-01"
         },
         {
          "income": "7.154395635259763",
          "regions": "SIS",
          "time": "1951-01-01"
         },
         {
          "income": "1763.2028573760997",
          "regions": "USA",
          "time": "1952-01-01"
         },
         {
          "income": "94.49522280292344",
          "regions": "CAN",
          "time": "1952-01-01"
         },
         {
          "income": "2046.030047801397",
          "regions": "WEU",
          "time": "1952-01-01"
         },
         {
          "income": "674.5822449879543",
          "regions": "JPK",
          "time": "1952-01-01"
         },
         {
          "income": "127.21535776864002",
          "regions": "ANZ",
          "time": "1952-01-01"
         },
         {
          "income": "95.48873005852445",
          "regions": "EEU",
          "time": "1952-01-01"
         },
         {
          "income": "183.03070787231727",
          "regions": "FSU",
          "time": "1952-01-01"
         },
         {
          "income": "84.05443670058457",
          "regions": "MDE",
          "time": "1952-01-01"
         },
         {
          "income": "46.0493838731021",
          "regions": "CAM",
          "time": "1952-01-01"
         },
         {
          "income": "217.5369052951602",
          "regions": "LAM",
          "time": "1952-01-01"
         },
         {
          "income": "61.439379463774976",
          "regions": "SAS",
          "time": "1952-01-01"
         },
         {
          "income": "29.24597807245194",
          "regions": "SEA",
          "time": "1952-01-01"
         },
         {
          "income": "21.136727164036806",
          "regions": "CHI",
          "time": "1952-01-01"
         },
         {
          "income": "15.140017804802874",
          "regions": "MAF",
          "time": "1952-01-01"
         },
         {
          "income": "100.50553014103463",
          "regions": "SSA",
          "time": "1952-01-01"
         },
         {
          "income": "7.503935796492959",
          "regions": "SIS",
          "time": "1952-01-01"
         },
         {
          "income": "1826.0631706011714",
          "regions": "USA",
          "time": "1953-01-01"
         },
         {
          "income": "99.73768622667949",
          "regions": "CAN",
          "time": "1953-01-01"
         },
         {
          "income": "2115.800734525622",
          "regions": "WEU",
          "time": "1953-01-01"
         },
         {
          "income": "705.9179986604559",
          "regions": "JPK",
          "time": "1953-01-01"
         },
         {
          "income": "131.50144344700325",
          "regions": "ANZ",
          "time": "1953-01-01"
         },
         {
          "income": "99.5144817305692",
          "regions": "EEU",
          "time": "1953-01-01"
         },
         {
          "income": "191.4372489646404",
          "regions": "FSU",
          "time": "1953-01-01"
         },
         {
          "income": "88.3585493007492",
          "regions": "MDE",
          "time": "1953-01-01"
         },
         {
          "income": "49.09459755523448",
          "regions": "CAM",
          "time": "1953-01-01"
         },
         {
          "income": "230.86865116435203",
          "regions": "LAM",
          "time": "1953-01-01"
         },
         {
          "income": "63.25042509085059",
          "regions": "SAS",
          "time": "1953-01-01"
         },
         {
          "income": "31.20191241733022",
          "regions": "SEA",
          "time": "1953-01-01"
         },
         {
          "income": "22.41099870014919",
          "regions": "CHI",
          "time": "1953-01-01"
         },
         {
          "income": "16.064113094275594",
          "regions": "MAF",
          "time": "1953-01-01"
         },
         {
          "income": "103.5480817921185",
          "regions": "SSA",
          "time": "1953-01-01"
         },
         {
          "income": "7.870553336521477",
          "regions": "SIS",
          "time": "1953-01-01"
         },
         {
          "income": "1891.1645299782633",
          "regions": "USA",
          "time": "1954-01-01"
         },
         {
          "income": "105.27099422367644",
          "regions": "CAN",
          "time": "1954-01-01"
         },
         {
          "income": "2187.9506378851065",
          "regions": "WEU",
          "time": "1954-01-01"
         },
         {
          "income": "738.7093635138317",
          "regions": "JPK",
          "time": "1954-01-01"
         },
         {
          "income": "135.93193409945522",
          "regions": "ANZ",
          "time": "1954-01-01"
         },
         {
          "income": "103.70995685076369",
          "regions": "EEU",
          "time": "1954-01-01"
         },
         {
          "income": "200.22989976477396",
          "regions": "FSU",
          "time": "1954-01-01"
         },
         {
          "income": "92.88305937191095",
          "regions": "MDE",
          "time": "1954-01-01"
         },
         {
          "income": "52.34118909717495",
          "regions": "CAM",
          "time": "1954-01-01"
         },
         {
          "income": "245.01743287249522",
          "regions": "LAM",
          "time": "1954-01-01"
         },
         {
          "income": "65.11485482258311",
          "regions": "SAS",
          "time": "1954-01-01"
         },
         {
          "income": "33.288657198843474",
          "regions": "SEA",
          "time": "1954-01-01"
         },
         {
          "income": "23.762092344771776",
          "regions": "CHI",
          "time": "1954-01-01"
         },
         {
          "income": "17.04461202309904",
          "regions": "MAF",
          "time": "1954-01-01"
         },
         {
          "income": "106.68273902720877",
          "regions": "SSA",
          "time": "1954-01-01"
         },
         {
          "income": "8.255082599717905",
          "regions": "SIS",
          "time": "1954-01-01"
         },
         {
          "income": "1958.586831511672",
          "regions": "USA",
          "time": "1955-01-01"
         },
         {
          "income": "111.11128244598206",
          "regions": "CAN",
          "time": "1955-01-01"
         },
         {
          "income": "2262.5608904021647",
          "regions": "WEU",
          "time": "1955-01-01"
         },
         {
          "income": "773.0239557264584",
          "regions": "JPK",
          "time": "1955-01-01"
         },
         {
          "income": "140.51169495690974",
          "regions": "ANZ",
          "time": "1955-01-01"
         },
         {
          "income": "108.08231086514593",
          "regions": "EEU",
          "time": "1955-01-01"
         },
         {
          "income": "209.42639416645954",
          "regions": "FSU",
          "time": "1955-01-01"
         },
         {
          "income": "97.63925264233353",
          "regions": "MDE",
          "time": "1955-01-01"
         },
         {
          "income": "55.802475476532926",
          "regions": "CAM",
          "time": "1955-01-01"
         },
         {
          "income": "260.03332244831586",
          "regions": "LAM",
          "time": "1955-01-01"
         },
         {
          "income": "67.0342422596524",
          "regions": "SAS",
          "time": "1955-01-01"
         },
         {
          "income": "35.51496085498373",
          "regions": "SEA",
          "time": "1955-01-01"
         },
         {
          "income": "25.194639478413904",
          "regions": "CHI",
          "time": "1955-01-01"
         },
         {
          "income": "18.084957277940106",
          "regions": "MAF",
          "time": "1955-01-01"
         },
         {
          "income": "109.91229011075517",
          "regions": "SSA",
          "time": "1955-01-01"
         },
         {
          "income": "8.658398693767543",
          "regions": "SIS",
          "time": "1955-01-01"
         },
         {
          "income": "2028.4128195948247",
          "regions": "USA",
          "time": "1956-01-01"
         },
         {
          "income": "117.27558172917998",
          "regions": "CAN",
          "time": "1956-01-01"
         },
         {
          "income": "2339.7153912602366",
          "regions": "WEU",
          "time": "1956-01-01"
         },
         {
          "income": "808.9325323893672",
          "regions": "JPK",
          "time": "1956-01-01"
         },
         {
          "income": "145.24575516756943",
          "regions": "ANZ",
          "time": "1956-01-01"
         },
         {
          "income": "112.63900088937334",
          "regions": "EEU",
          "time": "1956-01-01"
         },
         {
          "income": "219.0452805754307",
          "regions": "FSU",
          "time": "1956-01-01"
         },
         {
          "income": "102.63899274011713",
          "regions": "MDE",
          "time": "1956-01-01"
         },
         {
          "income": "59.49265431337189",
          "regions": "CAM",
          "time": "1956-01-01"
         },
         {
          "income": "275.9694605840444",
          "regions": "LAM",
          "time": "1956-01-01"
         },
         {
          "income": "69.01020738768972",
          "regions": "SAS",
          "time": "1956-01-01"
         },
         {
          "income": "37.89015690830712",
          "regions": "SEA",
          "time": "1956-01-01"
         },
         {
          "income": "26.71355069398663",
          "regions": "CHI",
          "time": "1956-01-01"
         },
         {
          "income": "19.1888016753726",
          "regions": "MAF",
          "time": "1956-01-01"
         },
         {
          "income": "113.2396077148872",
          "regions": "SSA",
          "time": "1956-01-01"
         },
         {
          "income": "9.081419481229336",
          "regions": "SIS",
          "time": "1956-01-01"
         },
         {
          "income": "2100.7281885587963",
          "regions": "USA",
          "time": "1957-01-01"
         },
         {
          "income": "123.78186775590513",
          "regions": "CAN",
          "time": "1957-01-01"
         },
         {
          "income": "2419.50090064847",
          "regions": "WEU",
          "time": "1957-01-01"
         },
         {
          "income": "846.5091374081945",
          "regions": "JPK",
          "time": "1957-01-01"
         },
         {
          "income": "150.13931331955723",
          "regions": "ANZ",
          "time": "1957-01-01"
         },
         {
          "income": "117.38779842694582",
          "regions": "EEU",
          "time": "1957-01-01"
         },
         {
          "income": "229.1059593196848",
          "regions": "FSU",
          "time": "1957-01-01"
         },
         {
          "income": "107.89475078528254",
          "regions": "MDE",
          "time": "1957-01-01"
         },
         {
          "income": "63.42686210648145",
          "regions": "CAM",
          "time": "1957-01-01"
         },
         {
          "income": "292.8822446984109",
          "regions": "LAM",
          "time": "1957-01-01"
         },
         {
          "income": "71.04441794456467",
          "regions": "SAS",
          "time": "1957-01-01"
         },
         {
          "income": "40.42420309565597",
          "regions": "SEA",
          "time": "1957-01-01"
         },
         {
          "income": "28.324032629702792",
          "regions": "CHI",
          "time": "1957-01-01"
         },
         {
          "income": "20.36002098749341",
          "regions": "MAF",
          "time": "1957-01-01"
         },
         {
          "income": "116.66765147464398",
          "regions": "SSA",
          "time": "1957-01-01"
         },
         {
          "income": "9.525107668397913",
          "regions": "SIS",
          "time": "1957-01-01"
         },
         {
          "income": "2175.6216878411515",
          "regions": "USA",
          "time": "1958-01-01"
         },
         {
          "income": "130.64911347464283",
          "regions": "CAN",
          "time": "1958-01-01"
         },
         {
          "income": "2502.0071373235005",
          "regions": "WEU",
          "time": "1958-01-01"
         },
         {
          "income": "885.8312541825824",
          "regions": "JPK",
          "time": "1958-01-01"
         },
         {
          "income": "155.1977431496141",
          "regions": "ANZ",
          "time": "1958-01-01"
         },
         {
          "income": "122.33680262362215",
          "regions": "EEU",
          "time": "1958-01-01"
         },
         {
          "income": "239.62872177799653",
          "regions": "FSU",
          "time": "1958-01-01"
         },
         {
          "income": "113.41963649715511",
          "regions": "MDE",
          "time": "1958-01-01"
         },
         {
          "income": "67.62123632077362",
          "regions": "CAM",
          "time": "1958-01-01"
         },
         {
          "income": "310.83152852507817",
          "regions": "LAM",
          "time": "1958-01-01"
         },
         {
          "income": "73.13859082797568",
          "regions": "SAS",
          "time": "1958-01-01"
         },
         {
          "income": "43.127723114827596",
          "regions": "SEA",
          "time": "1958-01-01"
         },
         {
          "income": "30.03160581678345",
          "regions": "CHI",
          "time": "1958-01-01"
         },
         {
          "income": "21.602727550370755",
          "regions": "MAF",
          "time": "1958-01-01"
         },
         {
          "income": "120.19947062055711",
          "regions": "SSA",
          "time": "1958-01-01"
         },
         {
          "income": "9.990472996220529",
          "regions": "SIS",
          "time": "1958-01-01"
         },
         {
          "income": "2253.185230904184",
          "regions": "USA",
          "time": "1959-01-01"
         },
         {
          "income": "137.89734442665005",
          "regions": "CAN",
          "time": "1959-01-01"
         },
         {
          "income": "2587.326879498137",
          "regions": "WEU",
          "time": "1959-01-01"
         },
         {
          "income": "926.9799653778559",
          "regions": "JPK",
          "time": "1959-01-01"
         },
         {
          "income": "160.42659944413165",
          "regions": "ANZ",
          "time": "1959-01-01"
         },
         {
          "income": "127.49445408063501",
          "regions": "EEU",
          "time": "1959-01-01"
         },
         {
          "income": "250.6347913055912",
          "regions": "FSU",
          "time": "1959-01-01"
         },
         {
          "income": "119.22743089464112",
          "regions": "MDE",
          "time": "1959-01-01"
         },
         {
          "income": "72.0929815804753",
          "regions": "CAM",
          "time": "1959-01-01"
         },
         {
          "income": "329.8808339328489",
          "regions": "LAM",
          "time": "1959-01-01"
         },
         {
          "income": "75.29449354453185",
          "regions": "SAS",
          "time": "1959-01-01"
         },
         {
          "income": "46.01205116320802",
          "regions": "SEA",
          "time": "1959-01-01"
         },
         {
          "income": "31.84212360315041",
          "regions": "CHI",
          "time": "1959-01-01"
         },
         {
          "income": "22.921284703105893",
          "regions": "MAF",
          "time": "1959-01-01"
         },
         {
          "income": "123.83820669092852",
          "regions": "SSA",
          "time": "1959-01-01"
         },
         {
          "income": "10.478574538254977",
          "regions": "SIS",
          "time": "1959-01-01"
         },
         {
          "income": "2333.5140080362253",
          "regions": "USA",
          "time": "1960-01-01"
         },
         {
          "income": "145.54769714233717",
          "regions": "CAN",
          "time": "1960-01-01"
         },
         {
          "income": "2675.5560691704063",
          "regions": "WEU",
          "time": "1960-01-01"
         },
         {
          "income": "970.0401201184292",
          "regions": "JPK",
          "time": "1960-01-01"
         },
         {
          "income": "165.83162413899998",
          "regions": "ANZ",
          "time": "1960-01-01"
         },
         {
          "income": "132.86954925026367",
          "regions": "EEU",
          "time": "1960-01-01"
         },
         {
          "income": "262.1463660395211",
          "regions": "FSU",
          "time": "1960-01-01"
         },
         {
          "income": "125.33262067096275",
          "regions": "MDE",
          "time": "1960-01-01"
         },
         {
          "income": "76.86044023963046",
          "regions": "CAM",
          "time": "1960-01-01"
         },
         {
          "income": "350.09757572727057",
          "regions": "LAM",
          "time": "1960-01-01"
         },
         {
          "income": "77.51394570154943",
          "regions": "SAS",
          "time": "1960-01-01"
         },
         {
          "income": "49.089279455093624",
          "regions": "SEA",
          "time": "1960-01-01"
         },
         {
          "income": "33.761792217972875",
          "regions": "CHI",
          "time": "1960-01-01"
         },
         {
          "income": "24.320322108206163",
          "regions": "MAF",
          "time": "1960-01-01"
         },
         {
          "income": "127.58709632621552",
          "regions": "SSA",
          "time": "1960-01-01"
         },
         {
          "income": "10.990523110898138",
          "regions": "SIS",
          "time": "1960-01-01"
         },
         {
          "income": "2406.057177031765",
          "regions": "USA",
          "time": "1961-01-01"
         },
         {
          "income": "152.23567764869273",
          "regions": "CAN",
          "time": "1961-01-01"
         },
         {
          "income": "2769.7624355561256",
          "regions": "WEU",
          "time": "1961-01-01"
         },
         {
          "income": "1014.9803396015806",
          "regions": "JPK",
          "time": "1961-01-01"
         },
         {
          "income": "170.65223987118347",
          "regions": "ANZ",
          "time": "1961-01-01"
         },
         {
          "income": "137.90380633189838",
          "regions": "EEU",
          "time": "1961-01-01"
         },
         {
          "income": "272.8340126960687",
          "regions": "FSU",
          "time": "1961-01-01"
         },
         {
          "income": "131.90822081619388",
          "regions": "MDE",
          "time": "1961-01-01"
         },
         {
          "income": "82.11908136015367",
          "regions": "CAM",
          "time": "1961-01-01"
         },
         {
          "income": "371.1194327059469",
          "regions": "LAM",
          "time": "1961-01-01"
         },
         {
          "income": "79.96129746239569",
          "regions": "SAS",
          "time": "1961-01-01"
         },
         {
          "income": "52.55180313090007",
          "regions": "SEA",
          "time": "1961-01-01"
         },
         {
          "income": "36.03123192934869",
          "regions": "CHI",
          "time": "1961-01-01"
         },
         {
          "income": "25.832223175252864",
          "regions": "MAF",
          "time": "1961-01-01"
         },
         {
          "income": "131.9251813607903",
          "regions": "SSA",
          "time": "1961-01-01"
         },
         {
          "income": "11.538796346808404",
          "regions": "SIS",
          "time": "1961-01-01"
         },
         {
          "income": "2480.855533418421",
          "regions": "USA",
          "time": "1962-01-01"
         },
         {
          "income": "159.23097379199478",
          "regions": "CAN",
          "time": "1962-01-01"
         },
         {
          "income": "2867.2858094117546",
          "regions": "WEU",
          "time": "1962-01-01"
         },
         {
          "income": "1062.0025588755727",
          "regions": "JPK",
          "time": "1962-01-01"
         },
         {
          "income": "175.61298771723864",
          "regions": "ANZ",
          "time": "1962-01-01"
         },
         {
          "income": "143.12880496799002",
          "regions": "EEU",
          "time": "1962-01-01"
         },
         {
          "income": "283.95739223261353",
          "regions": "FSU",
          "time": "1962-01-01"
         },
         {
          "income": "138.82881109279293",
          "regions": "MDE",
          "time": "1962-01-01"
         },
         {
          "income": "87.7375084297066",
          "regions": "CAM",
          "time": "1962-01-01"
         },
         {
          "income": "393.4035619808935",
          "regions": "LAM",
          "time": "1962-01-01"
         },
         {
          "income": "82.48591958520208",
          "regions": "SAS",
          "time": "1962-01-01"
         },
         {
          "income": "56.25855671471499",
          "regions": "SEA",
          "time": "1962-01-01"
         },
         {
          "income": "38.45322149857323",
          "regions": "CHI",
          "time": "1962-01-01"
         },
         {
          "income": "27.43811332790323",
          "regions": "MAF",
          "time": "1962-01-01"
         },
         {
          "income": "136.41076549448312",
          "regions": "SSA",
          "time": "1962-01-01"
         },
         {
          "income": "12.114420741365288",
          "regions": "SIS",
          "time": "1962-01-01"
         },
         {
          "income": "2557.9791853847305",
          "regions": "USA",
          "time": "1963-01-01"
         },
         {
          "income": "166.54770686051893",
          "regions": "CAN",
          "time": "1963-01-01"
         },
         {
          "income": "2968.2429826164152",
          "regions": "WEU",
          "time": "1963-01-01"
         },
         {
          "income": "1111.2032332576898",
          "regions": "JPK",
          "time": "1963-01-01"
         },
         {
          "income": "180.71794122511645",
          "regions": "ANZ",
          "time": "1963-01-01"
         },
         {
          "income": "148.55177211179242",
          "regions": "EEU",
          "time": "1963-01-01"
         },
         {
          "income": "295.5342693778009",
          "regions": "FSU",
          "time": "1963-01-01"
         },
         {
          "income": "146.11249147461973",
          "regions": "MDE",
          "time": "1963-01-01"
         },
         {
          "income": "93.74033729982816",
          "regions": "CAM",
          "time": "1963-01-01"
         },
         {
          "income": "417.0257575864599",
          "regions": "LAM",
          "time": "1963-01-01"
         },
         {
          "income": "85.09025173104757",
          "regions": "SAS",
          "time": "1963-01-01"
         },
         {
          "income": "60.22676701956573",
          "regions": "SEA",
          "time": "1963-01-01"
         },
         {
          "income": "41.03801520074927",
          "regions": "CHI",
          "time": "1963-01-01"
         },
         {
          "income": "29.143835506813343",
          "regions": "MAF",
          "time": "1963-01-01"
         },
         {
          "income": "141.0488638397381",
          "regions": "SSA",
          "time": "1963-01-01"
         },
         {
          "income": "12.718760734469038",
          "regions": "SIS",
          "time": "1963-01-01"
         },
         {
          "income": "2637.500420609112",
          "regions": "USA",
          "time": "1964-01-01"
         },
         {
          "income": "174.2006470219292",
          "regions": "CAN",
          "time": "1964-01-01"
         },
         {
          "income": "3072.7548592929165",
          "regions": "WEU",
          "time": "1964-01-01"
         },
         {
          "income": "1162.6832866671214",
          "regions": "JPK",
          "time": "1964-01-01"
         },
         {
          "income": "185.971292358115",
          "regions": "ANZ",
          "time": "1964-01-01"
         },
         {
          "income": "154.18020853656407",
          "regions": "EEU",
          "time": "1964-01-01"
         },
         {
          "income": "307.58313312415055",
          "regions": "FSU",
          "time": "1964-01-01"
         },
         {
          "income": "153.77831155415777",
          "regions": "MDE",
          "time": "1964-01-01"
         },
         {
          "income": "100.15386799051525",
          "regions": "CAM",
          "time": "1964-01-01"
         },
         {
          "income": "442.0663646634881",
          "regions": "LAM",
          "time": "1964-01-01"
         },
         {
          "income": "87.77681058855478",
          "regions": "SAS",
          "time": "1964-01-01"
         },
         {
          "income": "64.47487595571933",
          "regions": "SEA",
          "time": "1964-01-01"
         },
         {
          "income": "43.796556594859446",
          "regions": "CHI",
          "time": "1964-01-01"
         },
         {
          "income": "30.95559588583057",
          "regions": "MAF",
          "time": "1964-01-01"
         },
         {
          "income": "145.84466202768712",
          "regions": "SSA",
          "time": "1964-01-01"
         },
         {
          "income": "13.353248832468761",
          "regions": "SIS",
          "time": "1964-01-01"
         },
         {
          "income": "2719.4937740148075",
          "regions": "USA",
          "time": "1965-01-01"
         },
         {
          "income": "182.20524313957054",
          "regions": "CAN",
          "time": "1965-01-01"
         },
         {
          "income": "3180.9466005999125",
          "regions": "WEU",
          "time": "1965-01-01"
         },
         {
          "income": "1216.5483186472761",
          "regions": "JPK",
          "time": "1965-01-01"
         },
         {
          "income": "191.37735493713538",
          "regions": "ANZ",
          "time": "1965-01-01"
         },
         {
          "income": "160.0218992102575",
          "regions": "EEU",
          "time": "1965-01-01"
         },
         {
          "income": "320.1232262561269",
          "regions": "FSU",
          "time": "1965-01-01"
         },
         {
          "income": "161.8463203644386",
          "regions": "MDE",
          "time": "1965-01-01"
         },
         {
          "income": "107.00619991773749",
          "regions": "CAM",
          "time": "1965-01-01"
         },
         {
          "income": "468.6105527337266",
          "regions": "LAM",
          "time": "1965-01-01"
         },
         {
          "income": "90.54819230588457",
          "regions": "SAS",
          "time": "1965-01-01"
         },
         {
          "income": "69.02262623784732",
          "regions": "SEA",
          "time": "1965-01-01"
         },
         {
          "income": "46.740524856857725",
          "regions": "CHI",
          "time": "1965-01-01"
         },
         {
          "income": "32.879986452806726",
          "regions": "MAF",
          "time": "1965-01-01"
         },
         {
          "income": "150.80352200595067",
          "regions": "SSA",
          "time": "1965-01-01"
         },
         {
          "income": "14.0193890037253",
          "regions": "SIS",
          "time": "1965-01-01"
         },
         {
          "income": "2804.0360976311536",
          "regions": "USA",
          "time": "1966-01-01"
         },
         {
          "income": "190.57765395883288",
          "regions": "CAN",
          "time": "1966-01-01"
         },
         {
          "income": "3292.9477746221933",
          "regions": "WEU",
          "time": "1966-01-01"
         },
         {
          "income": "1272.908820979069",
          "regions": "JPK",
          "time": "1966-01-01"
         },
         {
          "income": "196.94056818300174",
          "regions": "ANZ",
          "time": "1966-01-01"
         },
         {
          "income": "166.08492406329222",
          "regions": "EEU",
          "time": "1966-01-01"
         },
         {
          "income": "333.17457608206234",
          "regions": "FSU",
          "time": "1966-01-01"
         },
         {
          "income": "170.33761881488334",
          "regions": "MDE",
          "time": "1966-01-01"
         },
         {
          "income": "114.32735500459322",
          "regions": "CAM",
          "time": "1966-01-01"
         },
         {
          "income": "496.7486053831998",
          "regions": "LAM",
          "time": "1966-01-01"
         },
         {
          "income": "93.40707499951608",
          "regions": "SAS",
          "time": "1966-01-01"
         },
         {
          "income": "73.89115313756507",
          "regions": "SEA",
          "time": "1966-01-01"
         },
         {
          "income": "49.88238422723301",
          "regions": "CHI",
          "time": "1966-01-01"
         },
         {
          "income": "34.924008994173725",
          "regions": "MAF",
          "time": "1966-01-01"
         },
         {
          "income": "155.93098803356935",
          "regions": "SSA",
          "time": "1966-01-01"
         },
         {
          "income": "14.718760243565141",
          "regions": "SIS",
          "time": "1966-01-01"
         },
         {
          "income": "2891.206632626671",
          "regions": "USA",
          "time": "1967-01-01"
         },
         {
          "income": "199.33478072654248",
          "regions": "CAN",
          "time": "1967-01-01"
         },
         {
          "income": "3408.8925115386146",
          "regions": "WEU",
          "time": "1967-01-01"
         },
         {
          "income": "1331.8804043295133",
          "regions": "JPK",
          "time": "1967-01-01"
         },
         {
          "income": "202.6655003617541",
          "regions": "ANZ",
          "time": "1967-01-01"
         },
         {
          "income": "172.37766916430513",
          "regions": "EEU",
          "time": "1967-01-01"
         },
         {
          "income": "346.75802641901373",
          "regions": "FSU",
          "time": "1967-01-01"
         },
         {
          "income": "179.2744148782004",
          "regions": "MDE",
          "time": "1967-01-01"
         },
         {
          "income": "122.14940921549035",
          "regions": "CAM",
          "time": "1967-01-01"
         },
         {
          "income": "526.5762273398209",
          "regions": "LAM",
          "time": "1967-01-01"
         },
         {
          "income": "96.35622134223664",
          "regions": "SAS",
          "time": "1967-01-01"
         },
         {
          "income": "79.10308270775784",
          "regions": "SEA",
          "time": "1967-01-01"
         },
         {
          "income": "53.235436782396995",
          "regions": "CHI",
          "time": "1967-01-01"
         },
         {
          "income": "37.095100570548176",
          "regions": "MAF",
          "time": "1967-01-01"
         },
         {
          "income": "161.2327928797691",
          "regions": "SSA",
          "time": "1967-01-01"
         },
         {
          "income": "15.453020317075634",
          "regions": "SIS",
          "time": "1967-01-01"
         },
         {
          "income": "2981.0870835814812",
          "regions": "USA",
          "time": "1968-01-01"
         },
         {
          "income": "208.4943013092284",
          "regions": "CAN",
          "time": "1968-01-01"
         },
         {
          "income": "3528.9196642534953",
          "regions": "WEU",
          "time": "1968-01-01"
         },
         {
          "income": "1393.5840354005347",
          "regions": "JPK",
          "time": "1968-01-01"
         },
         {
          "income": "208.55685253590764",
          "regions": "ANZ",
          "time": "1968-01-01"
         },
         {
          "income": "178.90883831933533",
          "regions": "EEU",
          "time": "1968-01-01"
         },
         {
          "income": "360.89527088163385",
          "regions": "FSU",
          "time": "1968-01-01"
         },
         {
          "income": "188.68008167267467",
          "regions": "MDE",
          "time": "1968-01-01"
         },
         {
          "income": "130.5066330896387",
          "regions": "CAM",
          "time": "1968-01-01"
         },
         {
          "income": "558.1948699896975",
          "regions": "LAM",
          "time": "1968-01-01"
         },
         {
          "income": "99.39848123284237",
          "regions": "SAS",
          "time": "1968-01-01"
         },
         {
          "income": "84.68263693518226",
          "regions": "SEA",
          "time": "1968-01-01"
         },
         {
          "income": "56.81387875332097",
          "regions": "CHI",
          "time": "1968-01-01"
         },
         {
          "income": "39.4011605760566",
          "regions": "MAF",
          "time": "1968-01-01"
         },
         {
          "income": "166.71486423349037",
          "regions": "SSA",
          "time": "1968-01-01"
         },
         {
          "income": "16.22390968861327",
          "regions": "SIS",
          "time": "1968-01-01"
         },
         {
          "income": "3073.761695068671",
          "regions": "USA",
          "time": "1969-01-01"
         },
         {
          "income": "218.07470587913852",
          "regions": "CAN",
          "time": "1969-01-01"
         },
         {
          "income": "3653.172974683844",
          "regions": "WEU",
          "time": "1969-01-01"
         },
         {
          "income": "1458.146285064466",
          "regions": "JPK",
          "time": "1969-01-01"
         },
         {
          "income": "214.6194624247583",
          "regions": "ANZ",
          "time": "1969-01-01"
         },
         {
          "income": "185.68746511048752",
          "regions": "EEU",
          "time": "1969-01-01"
         },
         {
          "income": "375.6088875282229",
          "regions": "FSU",
          "time": "1969-01-01"
         },
         {
          "income": "198.5792185917553",
          "regions": "MDE",
          "time": "1969-01-01"
         },
         {
          "income": "139.4356418895694",
          "regions": "CAM",
          "time": "1969-01-01"
         },
         {
          "income": "591.7120764392943",
          "regions": "LAM",
          "time": "1969-01-01"
         },
         {
          "income": "102.53679455012946",
          "regions": "SAS",
          "time": "1969-01-01"
         },
         {
          "income": "90.655746310031",
          "regions": "SEA",
          "time": "1969-01-01"
         },
         {
          "income": "60.632860629864815",
          "regions": "CHI",
          "time": "1969-01-01"
         },
         {
          "income": "41.850579479834934",
          "regions": "MAF",
          "time": "1969-01-01"
         },
         {
          "income": "172.38333133084737",
          "regions": "SSA",
          "time": "1969-01-01"
         },
         {
          "income": "17.03325564733943",
          "regions": "SIS",
          "time": "1969-01-01"
         },
         {
          "income": "3169.3173306163803",
          "regions": "USA",
          "time": "1970-01-01"
         },
         {
          "income": "228.09533424004343",
          "regions": "CAN",
          "time": "1970-01-01"
         },
         {
          "income": "3781.8012459015667",
          "regions": "WEU",
          "time": "1970-01-01"
         },
         {
          "income": "1525.6995879952135",
          "regions": "JPK",
          "time": "1970-01-01"
         },
         {
          "income": "220.85830837690523",
          "regions": "ANZ",
          "time": "1970-01-01"
         },
         {
          "income": "192.72292539072484",
          "regions": "EEU",
          "time": "1970-01-01"
         },
         {
          "income": "390.92237491929114",
          "regions": "FSU",
          "time": "1970-01-01"
         },
         {
          "income": "208.99771564081885",
          "regions": "MDE",
          "time": "1970-01-01"
         },
         {
          "income": "148.9755560225224",
          "regions": "CAM",
          "time": "1970-01-01"
         },
         {
          "income": "627.2418472970978",
          "regions": "LAM",
          "time": "1970-01-01"
         },
         {
          "income": "105.77419399383723",
          "regions": "SAS",
          "time": "1970-01-01"
         },
         {
          "income": "97.0501703356176",
          "regions": "SEA",
          "time": "1970-01-01"
         },
         {
          "income": "64.70855130526915",
          "regions": "CHI",
          "time": "1970-01-01"
         },
         {
          "income": "44.45226935427682",
          "regions": "MAF",
          "time": "1970-01-01"
         },
         {
          "income": "178.2445318079276",
          "regions": "SSA",
          "time": "1970-01-01"
         },
         {
          "income": "17.882976638562607",
          "regions": "SIS",
          "time": "1970-01-01"
         },
         {
          "income": "3258.416275203837",
          "regions": "USA",
          "time": "1971-01-01"
         },
         {
          "income": "237.81445955295692",
          "regions": "CAN",
          "time": "1971-01-01"
         },
         {
          "income": "3901.593837438329",
          "regions": "WEU",
          "time": "1971-01-01"
         },
         {
          "income": "1595.4059890858148",
          "regions": "JPK",
          "time": "1971-01-01"
         },
         {
          "income": "225.6053768941277",
          "regions": "ANZ",
          "time": "1971-01-01"
         },
         {
          "income": "200.04874976030828",
          "regions": "EEU",
          "time": "1971-01-01"
         },
         {
          "income": "405.41364707279104",
          "regions": "FSU",
          "time": "1971-01-01"
         },
         {
          "income": "220.45910495135774",
          "regions": "MDE",
          "time": "1971-01-01"
         },
         {
          "income": "158.79326339869866",
          "regions": "CAM",
          "time": "1971-01-01"
         },
         {
          "income": "662.8904591379979",
          "regions": "LAM",
          "time": "1971-01-01"
         },
         {
          "income": "109.02000627538385",
          "regions": "SAS",
          "time": "1971-01-01"
         },
         {
          "income": "103.73543147038666",
          "regions": "SEA",
          "time": "1971-01-01"
         },
         {
          "income": "68.7148682782043",
          "regions": "CHI",
          "time": "1971-01-01"
         },
         {
          "income": "47.21155041130702",
          "regions": "MAF",
          "time": "1971-01-01"
         },
         {
          "income": "184.59240601011757",
          "regions": "SSA",
          "time": "1971-01-01"
         },
         {
          "income": "18.71066249366469",
          "regions": "SIS",
          "time": "1971-01-01"
         },
         {
          "income": "3350.0200563533854",
          "regions": "USA",
          "time": "1972-01-01"
         },
         {
          "income": "247.94771607623838",
          "regions": "CAN",
          "time": "1972-01-01"
         },
         {
          "income": "4025.18098719061",
          "regions": "WEU",
          "time": "1972-01-01"
         },
         {
          "income": "1668.2971471175833",
          "regions": "JPK",
          "time": "1972-01-01"
         },
         {
          "income": "230.4544776132302",
          "regions": "ANZ",
          "time": "1972-01-01"
         },
         {
          "income": "207.6530449064492",
          "regions": "EEU",
          "time": "1972-01-01"
         },
         {
          "income": "420.44210251918935",
          "regions": "FSU",
          "time": "1972-01-01"
         },
         {
          "income": "232.5490343611267",
          "regions": "MDE",
          "time": "1972-01-01"
         },
         {
          "income": "169.25797207292445",
          "regions": "CAM",
          "time": "1972-01-01"
         },
         {
          "income": "700.5651212682073",
          "regions": "LAM",
          "time": "1972-01-01"
         },
         {
          "income": "112.36542033094779",
          "regions": "SAS",
          "time": "1972-01-01"
         },
         {
          "income": "110.88120407345606",
          "regions": "SEA",
          "time": "1972-01-01"
         },
         {
          "income": "72.9692293714893",
          "regions": "CHI",
          "time": "1972-01-01"
         },
         {
          "income": "50.1421080322176",
          "regions": "MAF",
          "time": "1972-01-01"
         },
         {
          "income": "191.16634889715365",
          "regions": "SSA",
          "time": "1972-01-01"
         },
         {
          "income": "19.576656505657095",
          "regions": "SIS",
          "time": "1972-01-01"
         },
         {
          "income": "3444.199092477183",
          "regions": "USA",
          "time": "1973-01-01"
         },
         {
          "income": "258.5127499101159",
          "regions": "CAN",
          "time": "1973-01-01"
         },
         {
          "income": "4152.682891840576",
          "regions": "WEU",
          "time": "1973-01-01"
         },
         {
          "income": "1744.5185677631061",
          "regions": "JPK",
          "time": "1973-01-01"
         },
         {
          "income": "235.40780358665828",
          "regions": "ANZ",
          "time": "1973-01-01"
         },
         {
          "income": "215.5463961188685",
          "regions": "EEU",
          "time": "1973-01-01"
         },
         {
          "income": "436.027654340451",
          "regions": "FSU",
          "time": "1973-01-01"
         },
         {
          "income": "245.30197287258574",
          "regions": "MDE",
          "time": "1973-01-01"
         },
         {
          "income": "180.41232037853345",
          "regions": "CAM",
          "time": "1973-01-01"
         },
         {
          "income": "740.3809820641377",
          "regions": "LAM",
          "time": "1973-01-01"
         },
         {
          "income": "115.81349256445105",
          "regions": "SAS",
          "time": "1973-01-01"
         },
         {
          "income": "118.51921028823368",
          "regions": "SEA",
          "time": "1973-01-01"
         },
         {
          "income": "77.48699180375057",
          "regions": "CHI",
          "time": "1973-01-01"
         },
         {
          "income": "53.25457384920852",
          "regions": "MAF",
          "time": "1973-01-01"
         },
         {
          "income": "197.9744115186692",
          "regions": "SSA",
          "time": "1973-01-01"
         },
         {
          "income": "20.48273170820385",
          "regions": "SIS",
          "time": "1973-01-01"
         },
         {
          "income": "3541.0257816585754",
          "regions": "USA",
          "time": "1974-01-01"
         },
         {
          "income": "269.5279590538424",
          "regions": "CAN",
          "time": "1974-01-01"
         },
         {
          "income": "4284.2235554286135",
          "regions": "WEU",
          "time": "1974-01-01"
         },
         {
          "income": "1824.2224045808675",
          "regions": "JPK",
          "time": "1974-01-01"
         },
         {
          "income": "240.4675950037312",
          "regions": "ANZ",
          "time": "1974-01-01"
         },
         {
          "income": "223.73979105754603",
          "regions": "EEU",
          "time": "1974-01-01"
         },
         {
          "income": "452.1909537852684",
          "regions": "FSU",
          "time": "1974-01-01"
         },
         {
          "income": "258.75427976079965",
          "regions": "MDE",
          "time": "1974-01-01"
         },
         {
          "income": "192.30175657748694",
          "regions": "CAM",
          "time": "1974-01-01"
         },
         {
          "income": "782.4597342356066",
          "regions": "LAM",
          "time": "1974-01-01"
         },
         {
          "income": "119.36737316935933",
          "regions": "SAS",
          "time": "1974-01-01"
         },
         {
          "income": "126.6833574249509",
          "regions": "SEA",
          "time": "1974-01-01"
         },
         {
          "income": "82.28446360899208",
          "regions": "CHI",
          "time": "1974-01-01"
         },
         {
          "income": "56.5602394306711",
          "regions": "MAF",
          "time": "1974-01-01"
         },
         {
          "income": "205.02493164866294",
          "regions": "SSA",
          "time": "1974-01-01"
         },
         {
          "income": "21.430743197083917",
          "regions": "SIS",
          "time": "1974-01-01"
         },
         {
          "income": "3640.574557306545",
          "regions": "USA",
          "time": "1975-01-01"
         },
         {
          "income": "281.0125254440576",
          "regions": "CAN",
          "time": "1975-01-01"
         },
         {
          "income": "4419.93090995546",
          "regions": "WEU",
          "time": "1975-01-01"
         },
         {
          "income": "1907.5677627448981",
          "regions": "JPK",
          "time": "1975-01-01"
         },
         {
          "income": "245.63614020378932",
          "regions": "ANZ",
          "time": "1975-01-01"
         },
         {
          "income": "232.24463504770353",
          "regions": "EEU",
          "time": "1975-01-01"
         },
         {
          "income": "468.9534176324859",
          "regions": "FSU",
          "time": "1975-01-01"
         },
         {
          "income": "272.9443082355769",
          "regions": "MDE",
          "time": "1975-01-01"
         },
         {
          "income": "204.97472403878655",
          "regions": "CAM",
          "time": "1975-01-01"
         },
         {
          "income": "826.9299867659468",
          "regions": "LAM",
          "time": "1975-01-01"
         },
         {
          "income": "123.03030900673038",
          "regions": "SAS",
          "time": "1975-01-01"
         },
         {
          "income": "135.40988848498208",
          "regions": "SEA",
          "time": "1975-01-01"
         },
         {
          "income": "87.37896250466935",
          "regions": "CHI",
          "time": "1975-01-01"
         },
         {
          "income": "60.07109724533806",
          "regions": "MAF",
          "time": "1975-01-01"
         },
         {
          "income": "212.32654399669698",
          "regions": "SSA",
          "time": "1975-01-01"
         },
         {
          "income": "22.42263192830899",
          "regions": "SIS",
          "time": "1975-01-01"
         },
         {
          "income": "3742.9219453747746",
          "regions": "USA",
          "time": "1976-01-01"
         },
         {
          "income": "292.98644835830197",
          "regions": "CAN",
          "time": "1976-01-01"
         },
         {
          "income": "4559.9369398045465",
          "regions": "WEU",
          "time": "1976-01-01"
         },
         {
          "income": "1994.721016651272",
          "regions": "JPK",
          "time": "1976-01-01"
         },
         {
          "income": "250.91577671111747",
          "regions": "ANZ",
          "time": "1976-01-01"
         },
         {
          "income": "241.07276695618359",
          "regions": "EEU",
          "time": "1976-01-01"
         },
         {
          "income": "486.3372565688714",
          "regions": "FSU",
          "time": "1976-01-01"
         },
         {
          "income": "287.91251478841775",
          "regions": "MDE",
          "time": "1976-01-01"
         },
         {
          "income": "218.48285862041584",
          "regions": "CAM",
          "time": "1976-01-01"
         },
         {
          "income": "873.9276579909296",
          "regions": "LAM",
          "time": "1976-01-01"
         },
         {
          "income": "126.80564657157902",
          "regions": "SAS",
          "time": "1976-01-01"
         },
         {
          "income": "144.73754305396983",
          "regions": "SEA",
          "time": "1976-01-01"
         },
         {
          "income": "92.7888784044774",
          "regions": "CHI",
          "time": "1976-01-01"
         },
         {
          "income": "63.799884169196936",
          "regions": "MAF",
          "time": "1976-01-01"
         },
         {
          "income": "219.88819078274915",
          "regions": "SSA",
          "time": "1976-01-01"
         },
         {
          "income": "23.460428692031286",
          "regions": "SIS",
          "time": "1976-01-01"
         },
         {
          "income": "3848.146623189307",
          "regions": "USA",
          "time": "1977-01-01"
         },
         {
          "income": "305.470579241852",
          "regions": "CAN",
          "time": "1977-01-01"
         },
         {
          "income": "4704.377810105539",
          "regions": "WEU",
          "time": "1977-01-01"
         },
         {
          "income": "2085.8561420354586",
          "regions": "JPK",
          "time": "1977-01-01"
         },
         {
          "income": "256.30889229211283",
          "regions": "ANZ",
          "time": "1977-01-01"
         },
         {
          "income": "250.23647567132494",
          "regions": "EEU",
          "time": "1977-01-01"
         },
         {
          "income": "504.3655046188355",
          "regions": "FSU",
          "time": "1977-01-01"
         },
         {
          "income": "303.70157453602513",
          "regions": "MDE",
          "time": "1977-01-01"
         },
         {
          "income": "232.88119905904085",
          "regions": "CAM",
          "time": "1977-01-01"
         },
         {
          "income": "923.5963910179036",
          "regions": "LAM",
          "time": "1977-01-01"
         },
         {
          "income": "130.69683505026856",
          "regions": "SAS",
          "time": "1977-01-01"
         },
         {
          "income": "154.70772927800735",
          "regions": "SEA",
          "time": "1977-01-01"
         },
         {
          "income": "98.5337398015089",
          "regions": "CHI",
          "time": "1977-01-01"
         },
         {
          "income": "67.76012769300364",
          "regions": "MAF",
          "time": "1977-01-01"
         },
         {
          "income": "227.71913268867056",
          "regions": "SSA",
          "time": "1977-01-01"
         },
         {
          "income": "24.546258270377482",
          "regions": "SIS",
          "time": "1977-01-01"
         },
         {
          "income": "3956.3294799300265",
          "regions": "USA",
          "time": "1978-01-01"
         },
         {
          "income": "318.48665801852445",
          "regions": "CAN",
          "time": "1978-01-01"
         },
         {
          "income": "4853.3939991639445",
          "regions": "WEU",
          "time": "1978-01-01"
         },
         {
          "income": "2181.1550632635044",
          "regions": "JPK",
          "time": "1978-01-01"
         },
         {
          "income": "261.8179260351752",
          "regions": "ANZ",
          "time": "1978-01-01"
         },
         {
          "income": "259.74851720927415",
          "regions": "EEU",
          "time": "1978-01-01"
         },
         {
          "income": "523.0620496650939",
          "regions": "FSU",
          "time": "1978-01-01"
         },
         {
          "income": "320.3565028892286",
          "regions": "MDE",
          "time": "1978-01-01"
         },
         {
          "income": "248.22841122470015",
          "regions": "CAM",
          "time": "1978-01-01"
         },
         {
          "income": "976.0879927548302",
          "regions": "LAM",
          "time": "1978-01-01"
         },
         {
          "income": "134.70742947172215",
          "regions": "SAS",
          "time": "1978-01-01"
         },
         {
          "income": "165.3647076863292",
          "regions": "SEA",
          "time": "1978-01-01"
         },
         {
          "income": "104.63428426140962",
          "regions": "CHI",
          "time": "1978-01-01"
         },
         {
          "income": "71.96619499803008",
          "regions": "MAF",
          "time": "1978-01-01"
         },
         {
          "income": "235.82896019966068",
          "regions": "SSA",
          "time": "1978-01-01"
         },
         {
          "income": "25.682343787721585",
          "regions": "SIS",
          "time": "1978-01-01"
         },
         {
          "income": "4067.553678812456",
          "regions": "USA",
          "time": "1979-01-01"
         },
         {
          "income": "332.05735094868106",
          "regions": "CAN",
          "time": "1979-01-01"
         },
         {
          "income": "5007.130435085557",
          "regions": "WEU",
          "time": "1979-01-01"
         },
         {
          "income": "2280.8080164903085",
          "regions": "JPK",
          "time": "1979-01-01"
         },
         {
          "income": "267.4453694538083",
          "regions": "ANZ",
          "time": "1979-01-01"
         },
         {
          "income": "269.62213247054626",
          "regions": "EEU",
          "time": "1979-01-01"
         },
         {
          "income": "542.4516651007141",
          "regions": "FSU",
          "time": "1979-01-01"
         },
         {
          "income": "337.9247838942058",
          "regions": "MDE",
          "time": "1979-01-01"
         },
         {
          "income": "264.58702715420753",
          "regions": "CAM",
          "time": "1979-01-01"
         },
         {
          "income": "1031.5628978910604",
          "regions": "LAM",
          "time": "1979-01-01"
         },
         {
          "income": "138.841093955333",
          "regions": "SAS",
          "time": "1979-01-01"
         },
         {
          "income": "176.755787676553",
          "regions": "SEA",
          "time": "1979-01-01"
         },
         {
          "income": "111.11253327999445",
          "regions": "CHI",
          "time": "1979-01-01"
         },
         {
          "income": "76.43334507808557",
          "regions": "MAF",
          "time": "1979-01-01"
         },
         {
          "income": "244.22760534964968",
          "regions": "SSA",
          "time": "1979-01-01"
         },
         {
          "income": "26.87101126230341",
          "regions": "SIS",
          "time": "1979-01-01"
         },
         {
          "income": "4181.904721017666",
          "regions": "USA",
          "time": "1980-01-01"
         },
         {
          "income": "346.2062901003604",
          "regions": "CAN",
          "time": "1980-01-01"
         },
         {
          "income": "5165.736636728632",
          "regions": "WEU",
          "time": "1980-01-01"
         },
         {
          "income": "2385.0139294099304",
          "regions": "JPK",
          "time": "1980-01-01"
         },
         {
          "income": "273.1937676134306",
          "regions": "ANZ",
          "time": "1980-01-01"
         },
         {
          "income": "279.87106567155115",
          "regions": "EEU",
          "time": "1980-01-01"
         },
         {
          "income": "562.5600426544844",
          "regions": "FSU",
          "time": "1980-01-01"
         },
         {
          "income": "356.4565056119085",
          "regions": "MDE",
          "time": "1980-01-01"
         },
         {
          "income": "282.0236998372059",
          "regions": "CAM",
          "time": "1980-01-01"
         },
         {
          "income": "1090.1906592479559",
          "regions": "LAM",
          "time": "1980-01-01"
         },
         {
          "income": "143.10160505854068",
          "regions": "SAS",
          "time": "1980-01-01"
         },
         {
          "income": "188.93153753472592",
          "regions": "SEA",
          "time": "1980-01-01"
         },
         {
          "income": "117.99187177554218",
          "regions": "CHI",
          "time": "1980-01-01"
         },
         {
          "income": "81.17778409690301",
          "regions": "MAF",
          "time": "1980-01-01"
         },
         {
          "income": "252.92535388497234",
          "regions": "SSA",
          "time": "1980-01-01"
         },
         {
          "income": "28.114694368511664",
          "regions": "SIS",
          "time": "1980-01-01"
         },
         {
          "income": "4359.796230456203",
          "regions": "USA",
          "time": "1981-01-01"
         },
         {
          "income": "361.4376749546365",
          "regions": "CAN",
          "time": "1981-01-01"
         },
         {
          "income": "5415.647426006043",
          "regions": "WEU",
          "time": "1981-01-01"
         },
         {
          "income": "2573.3852416567343",
          "regions": "JPK",
          "time": "1981-01-01"
         },
         {
          "income": "280.7977336636758",
          "regions": "ANZ",
          "time": "1981-01-01"
         },
         {
          "income": "285.21129359189086",
          "regions": "EEU",
          "time": "1981-01-01"
         },
         {
          "income": "590.6073525810904",
          "regions": "FSU",
          "time": "1981-01-01"
         },
         {
          "income": "364.64123657376837",
          "regions": "MDE",
          "time": "1981-01-01"
         },
         {
          "income": "283.39110618548",
          "regions": "CAM",
          "time": "1981-01-01"
         },
         {
          "income": "1088.965415333764",
          "regions": "LAM",
          "time": "1981-01-01"
         },
         {
          "income": "156.55703487477055",
          "regions": "SAS",
          "time": "1981-01-01"
         },
         {
          "income": "206.34290530134172",
          "regions": "SEA",
          "time": "1981-01-01"
         },
         {
          "income": "136.6290201876",
          "regions": "CHI",
          "time": "1981-01-01"
         },
         {
          "income": "85.55798078353305",
          "regions": "MAF",
          "time": "1981-01-01"
         },
         {
          "income": "255.05990223356335",
          "regions": "SSA",
          "time": "1981-01-01"
         },
         {
          "income": "28.913077746931204",
          "regions": "SIS",
          "time": "1981-01-01"
         },
         {
          "income": "4545.254958959124",
          "regions": "USA",
          "time": "1982-01-01"
         },
         {
          "income": "377.33916630672303",
          "regions": "CAN",
          "time": "1982-01-01"
         },
         {
          "income": "5677.648534049068",
          "regions": "WEU",
          "time": "1982-01-01"
         },
         {
          "income": "2776.634350146163",
          "regions": "JPK",
          "time": "1982-01-01"
         },
         {
          "income": "288.6133454633771",
          "regions": "ANZ",
          "time": "1982-01-01"
         },
         {
          "income": "290.6534185560452",
          "regions": "EEU",
          "time": "1982-01-01"
         },
         {
          "income": "620.0530049680091",
          "regions": "FSU",
          "time": "1982-01-01"
         },
         {
          "income": "373.0139002002405",
          "regions": "MDE",
          "time": "1982-01-01"
         },
         {
          "income": "284.7651424734449",
          "regions": "CAM",
          "time": "1982-01-01"
         },
         {
          "income": "1087.7415484471926",
          "regions": "LAM",
          "time": "1982-01-01"
         },
         {
          "income": "171.2776398192977",
          "regions": "SAS",
          "time": "1982-01-01"
         },
         {
          "income": "225.35885286156994",
          "regions": "SEA",
          "time": "1982-01-01"
         },
         {
          "income": "158.20995867355228",
          "regions": "CHI",
          "time": "1982-01-01"
         },
         {
          "income": "90.17452443660237",
          "regions": "MAF",
          "time": "1982-01-01"
         },
         {
          "income": "257.2124649748694",
          "regions": "SSA",
          "time": "1982-01-01"
         },
         {
          "income": "29.734133113549575",
          "regions": "SIS",
          "time": "1982-01-01"
         },
         {
          "income": "4738.602803870204",
          "regions": "USA",
          "time": "1983-01-01"
         },
         {
          "income": "393.94024556771313",
          "regions": "CAN",
          "time": "1983-01-01"
         },
         {
          "income": "5952.324872810796",
          "regions": "WEU",
          "time": "1983-01-01"
         },
         {
          "income": "2995.936321391248",
          "regions": "JPK",
          "time": "1983-01-01"
         },
         {
          "income": "296.6464938756665",
          "regions": "ANZ",
          "time": "1983-01-01"
         },
         {
          "income": "296.1993848644622",
          "regions": "EEU",
          "time": "1983-01-01"
         },
         {
          "income": "650.9667163635095",
          "regions": "FSU",
          "time": "1983-01-01"
         },
         {
          "income": "381.57881168343",
          "regions": "MDE",
          "time": "1983-01-01"
         },
         {
          "income": "286.14584084670264",
          "regions": "CAM",
          "time": "1983-01-01"
         },
         {
          "income": "1086.519057040627",
          "regions": "LAM",
          "time": "1983-01-01"
         },
         {
          "income": "187.38238064827215",
          "regions": "SAS",
          "time": "1983-01-01"
         },
         {
          "income": "246.12725350994899",
          "regions": "SEA",
          "time": "1983-01-01"
         },
         {
          "income": "183.1996671652835",
          "regions": "CHI",
          "time": "1983-01-01"
         },
         {
          "income": "95.04016788264852",
          "regions": "MAF",
          "time": "1983-01-01"
         },
         {
          "income": "259.38319414027694",
          "regions": "SSA",
          "time": "1983-01-01"
         },
         {
          "income": "30.578504293204293",
          "regions": "SIS",
          "time": "1983-01-01"
         },
         {
          "income": "4940.175355529159",
          "regions": "USA",
          "time": "1984-01-01"
         },
         {
          "income": "411.2716911867124",
          "regions": "CAN",
          "time": "1984-01-01"
         },
         {
          "income": "6240.289651429814",
          "regions": "WEU",
          "time": "1984-01-01"
         },
         {
          "income": "3232.5590300929766",
          "regions": "JPK",
          "time": "1984-01-01"
         },
         {
          "income": "304.90323372760423",
          "regions": "ANZ",
          "time": "1984-01-01"
         },
         {
          "income": "301.85117391684315",
          "regions": "EEU",
          "time": "1984-01-01"
         },
         {
          "income": "683.4216791433066",
          "regions": "FSU",
          "time": "1984-01-01"
         },
         {
          "income": "390.3403852981794",
          "regions": "MDE",
          "time": "1984-01-01"
         },
         {
          "income": "287.5332336067149",
          "regions": "CAM",
          "time": "1984-01-01"
         },
         {
          "income": "1085.2979395681928",
          "regions": "LAM",
          "time": "1984-01-01"
         },
         {
          "income": "205.00140365349606",
          "regions": "SAS",
          "time": "1984-01-01"
         },
         {
          "income": "268.80960810340133",
          "regions": "SEA",
          "time": "1984-01-01"
         },
         {
          "income": "212.13657048430278",
          "regions": "CHI",
          "time": "1984-01-01"
         },
         {
          "income": "100.16835206613649",
          "regions": "MAF",
          "time": "1984-01-01"
         },
         {
          "income": "261.57224304423215",
          "regions": "SSA",
          "time": "1984-01-01"
         },
         {
          "income": "31.446853393665002",
          "regions": "SIS",
          "time": "1984-01-01"
         },
         {
          "income": "5150.322479749695",
          "regions": "USA",
          "time": "1985-01-01"
         },
         {
          "income": "429.3656357141729",
          "regions": "CAN",
          "time": "1985-01-01"
         },
         {
          "income": "6542.185745206692",
          "regions": "WEU",
          "time": "1985-01-01"
         },
         {
          "income": "3487.870489244295",
          "regions": "JPK",
          "time": "1985-01-01"
         },
         {
          "income": "313.38978837388487",
          "regions": "ANZ",
          "time": "1985-01-01"
         },
         {
          "income": "307.6108049200344",
          "regions": "EEU",
          "time": "1985-01-01"
         },
         {
          "income": "717.4947348033699",
          "regions": "FSU",
          "time": "1985-01-01"
         },
         {
          "income": "399.30313667714483",
          "regions": "MDE",
          "time": "1985-01-01"
         },
         {
          "income": "288.92735321155857",
          "regions": "CAM",
          "time": "1985-01-01"
         },
         {
          "income": "1084.0781944857517",
          "regions": "LAM",
          "time": "1985-01-01"
         },
         {
          "income": "224.27709240597238",
          "regions": "SAS",
          "time": "1985-01-01"
         },
         {
          "income": "293.58230093679305",
          "regions": "SEA",
          "time": "1985-01-01"
         },
         {
          "income": "245.6441391688809",
          "regions": "CHI",
          "time": "1985-01-01"
         },
         {
          "income": "105.5732431789751",
          "regions": "MAF",
          "time": "1985-01-01"
         },
         {
          "income": "263.7797662950694",
          "regions": "SSA",
          "time": "1985-01-01"
         },
         {
          "income": "32.33986132482066",
          "regions": "SIS",
          "time": "1985-01-01"
         },
         {
          "income": "5369.408925075248",
          "regions": "USA",
          "time": "1986-01-01"
         },
         {
          "income": "448.25562537573484",
          "regions": "CAN",
          "time": "1986-01-01"
         },
         {
          "income": "6858.687130809545",
          "regions": "WEU",
          "time": "1986-01-01"
         },
         {
          "income": "3763.346759174676",
          "regions": "JPK",
          "time": "1986-01-01"
         },
         {
          "income": "322.1125543875682",
          "regions": "ANZ",
          "time": "1986-01-01"
         },
         {
          "income": "313.4803356094269",
          "regions": "EEU",
          "time": "1986-01-01"
         },
         {
          "income": "753.266555892515",
          "regions": "FSU",
          "time": "1986-01-01"
         },
         {
          "income": "408.47168513811033",
          "regions": "MDE",
          "time": "1986-01-01"
         },
         {
          "income": "290.32823227668524",
          "regions": "CAM",
          "time": "1986-01-01"
         },
         {
          "income": "1082.8598202509017",
          "regions": "LAM",
          "time": "1986-01-01"
         },
         {
          "income": "245.36521839185596",
          "regions": "SAS",
          "time": "1986-01-01"
         },
         {
          "income": "320.6379713562446",
          "regions": "SEA",
          "time": "1986-01-01"
         },
         {
          "income": "284.44432268450157",
          "regions": "CHI",
          "time": "1986-01-01"
         },
         {
          "income": "111.26977179347047",
          "regions": "MAF",
          "time": "1986-01-01"
         },
         {
          "income": "266.0059198059307",
          "regions": "SSA",
          "time": "1986-01-01"
         },
         {
          "income": "33.25822833261028",
          "regions": "SIS",
          "time": "1986-01-01"
         },
         {
          "income": "5597.814955866392",
          "regions": "USA",
          "time": "1987-01-01"
         },
         {
          "income": "467.976682267026",
          "regions": "CAN",
          "time": "1987-01-01"
         },
         {
          "income": "7190.500390912739",
          "regions": "WEU",
          "time": "1987-01-01"
         },
         {
          "income": "4060.5804812606843",
          "regions": "JPK",
          "time": "1987-01-01"
         },
         {
          "income": "331.07810638137",
          "regions": "ANZ",
          "time": "1987-01-01"
         },
         {
          "income": "319.46186298412005",
          "regions": "EEU",
          "time": "1987-01-01"
         },
         {
          "income": "790.82183701553",
          "regions": "FSU",
          "time": "1987-01-01"
         },
         {
          "income": "417.8507560647409",
          "regions": "MDE",
          "time": "1987-01-01"
         },
         {
          "income": "291.7359035756842",
          "regions": "CAM",
          "time": "1987-01-01"
         },
         {
          "income": "1081.6428153229742",
          "regions": "LAM",
          "time": "1987-01-01"
         },
         {
          "income": "268.4361998393732",
          "regions": "SAS",
          "time": "1987-01-01"
         },
         {
          "income": "350.1870117762384",
          "regions": "SEA",
          "time": "1987-01-01"
         },
         {
          "income": "329.3731044477313",
          "regions": "CHI",
          "time": "1987-01-01"
         },
         {
          "income": "117.27367410681822",
          "regions": "MAF",
          "time": "1987-01-01"
         },
         {
          "income": "268.2508608057777",
          "regions": "SSA",
          "time": "1987-01-01"
         },
         {
          "income": "34.202674548115894",
          "regions": "SIS",
          "time": "1987-01-01"
         },
         {
          "income": "5835.937012318784",
          "regions": "USA",
          "time": "1988-01-01"
         },
         {
          "income": "488.5653692847289",
          "regions": "CAN",
          "time": "1988-01-01"
         },
         {
          "income": "7538.366291627827",
          "regions": "WEU",
          "time": "1988-01-01"
         },
         {
          "income": "4381.29008563942",
          "regions": "JPK",
          "time": "1988-01-01"
         },
         {
          "income": "340.2932019631465",
          "regions": "ANZ",
          "time": "1988-01-01"
         },
         {
          "income": "325.557524056114",
          "regions": "EEU",
          "time": "1988-01-01"
         },
         {
          "income": "830.2494953590597",
          "regions": "FSU",
          "time": "1988-01-01"
         },
         {
          "income": "427.4451833420008",
          "regions": "MDE",
          "time": "1988-01-01"
         },
         {
          "income": "293.15040004104907",
          "regions": "CAM",
          "time": "1988-01-01"
         },
         {
          "income": "1080.4271781630318",
          "regions": "LAM",
          "time": "1988-01-01"
         },
         {
          "income": "293.6764789095944",
          "regions": "SAS",
          "time": "1988-01-01"
         },
         {
          "income": "382.459203749522",
          "regions": "SEA",
          "time": "1988-01-01"
         },
         {
          "income": "381.39851380991263",
          "regions": "CHI",
          "time": "1988-01-01"
         },
         {
          "income": "123.601535411069",
          "regions": "MAF",
          "time": "1988-01-01"
         },
         {
          "income": "270.5147478504964",
          "regions": "SSA",
          "time": "1988-01-01"
         },
         {
          "income": "35.173940552248325",
          "regions": "SIS",
          "time": "1988-01-01"
         },
         {
          "income": "6084.188398557201",
          "regions": "USA",
          "time": "1989-01-01"
         },
         {
          "income": "510.05985791429725",
          "regions": "CAN",
          "time": "1989-01-01"
         },
         {
          "income": "7903.061436248285",
          "regions": "WEU",
          "time": "1989-01-01"
         },
         {
          "income": "4727.329726158415",
          "regions": "JPK",
          "time": "1989-01-01"
         },
         {
          "income": "349.76478682930787",
          "regions": "ANZ",
          "time": "1989-01-01"
         },
         {
          "income": "331.7694966137969",
          "regions": "EEU",
          "time": "1989-01-01"
         },
         {
          "income": "871.6428812150222",
          "regions": "FSU",
          "time": "1989-01-01"
         },
         {
          "income": "437.2599118474925",
          "regions": "MDE",
          "time": "1989-01-01"
         },
         {
          "income": "294.57175476494854",
          "regions": "CAM",
          "time": "1989-01-01"
         },
         {
          "income": "1079.212907233867",
          "regions": "LAM",
          "time": "1989-01-01"
         },
         {
          "income": "321.29002838046887",
          "regions": "SAS",
          "time": "1989-01-01"
         },
         {
          "income": "417.7055048123396",
          "regions": "SEA",
          "time": "1989-01-01"
         },
         {
          "income": "441.64148308440326",
          "regions": "CHI",
          "time": "1989-01-01"
         },
         {
          "income": "130.27083590864942",
          "regions": "MAF",
          "time": "1989-01-01"
         },
         {
          "income": "272.7977408340958",
          "regions": "SSA",
          "time": "1989-01-01"
         },
         {
          "income": "36.172787956468525",
          "regions": "SIS",
          "time": "1989-01-01"
         },
         {
          "income": "6343.380356846341",
          "regions": "USA",
          "time": "1990-01-01"
         },
         {
          "income": "532.5441175170785",
          "regions": "CAN",
          "time": "1990-01-01"
         },
         {
          "income": "8286.135550654346",
          "regions": "WEU",
          "time": "1990-01-01"
         },
         {
          "income": "5101.409854257302",
          "regions": "JPK",
          "time": "1990-01-01"
         },
         {
          "income": "359.541682103419",
          "regions": "ANZ",
          "time": "1990-01-01"
         },
         {
          "income": "338.1545725117814",
          "regions": "EEU",
          "time": "1990-01-01"
         },
         {
          "income": "915.2083818720909",
          "regions": "FSU",
          "time": "1990-01-01"
         },
         {
          "income": "447.5064940614003",
          "regions": "MDE",
          "time": "1990-01-01"
         },
         {
          "income": "296.0721980940424",
          "regions": "CAM",
          "time": "1990-01-01"
         },
         {
          "income": "1078.0848206502878",
          "regions": "LAM",
          "time": "1990-01-01"
         },
         {
          "income": "351.58779864713017",
          "regions": "SAS",
          "time": "1990-01-01"
         },
         {
          "income": "456.301856321065",
          "regions": "SEA",
          "time": "1990-01-01"
         },
         {
          "income": "512.0399171830318",
          "regions": "CHI",
          "time": "1990-01-01"
         },
         {
          "income": "137.29577590231136",
          "regions": "MAF",
          "time": "1990-01-01"
         },
         {
          "income": "275.09964666569175",
          "regions": "SSA",
          "time": "1990-01-01"
         },
         {
          "income": "37.211226506476606",
          "regions": "SIS",
          "time": "1990-01-01"
         },
         {
          "income": "6476.270165613767",
          "regions": "USA",
          "time": "1991-01-01"
         },
         {
          "income": "540.538425257306",
          "regions": "CAN",
          "time": "1991-01-01"
         },
         {
          "income": "8407.529450956226",
          "regions": "WEU",
          "time": "1991-01-01"
         },
         {
          "income": "5197.148671210779",
          "regions": "JPK",
          "time": "1991-01-01"
         },
         {
          "income": "370.4383151197377",
          "regions": "ANZ",
          "time": "1991-01-01"
         },
         {
          "income": "335.7052613356037",
          "regions": "EEU",
          "time": "1991-01-01"
         },
         {
          "income": "821.852077860059",
          "regions": "FSU",
          "time": "1991-01-01"
         },
         {
          "income": "465.34517531040854",
          "regions": "MDE",
          "time": "1991-01-01"
         },
         {
          "income": "301.5920890608028",
          "regions": "CAM",
          "time": "1991-01-01"
         },
         {
          "income": "1123.2650567982566",
          "regions": "LAM",
          "time": "1991-01-01"
         },
         {
          "income": "369.6423380009133",
          "regions": "SAS",
          "time": "1991-01-01"
         },
         {
          "income": "490.17059692266025",
          "regions": "SEA",
          "time": "1991-01-01"
         },
         {
          "income": "567.1706273255048",
          "regions": "CHI",
          "time": "1991-01-01"
         },
         {
          "income": "139.9800110644861",
          "regions": "MAF",
          "time": "1991-01-01"
         },
         {
          "income": "278.3770027968431",
          "regions": "SSA",
          "time": "1991-01-01"
         },
         {
          "income": "38.04954136795649",
          "regions": "SIS",
          "time": "1991-01-01"
         },
         {
          "income": "6611.9476389644415",
          "regions": "USA",
          "time": "1992-01-01"
         },
         {
          "income": "548.6534590295031",
          "regions": "CAN",
          "time": "1992-01-01"
         },
         {
          "income": "8530.70569157714",
          "regions": "WEU",
          "time": "1992-01-01"
         },
         {
          "income": "5294.692807360532",
          "regions": "JPK",
          "time": "1992-01-01"
         },
         {
          "income": "381.6657829956633",
          "regions": "ANZ",
          "time": "1992-01-01"
         },
         {
          "income": "333.2745226500977",
          "regions": "EEU",
          "time": "1992-01-01"
         },
         {
          "income": "738.0244148289518",
          "regions": "FSU",
          "time": "1992-01-01"
         },
         {
          "income": "483.897990968525",
          "regions": "MDE",
          "time": "1992-01-01"
         },
         {
          "income": "307.21639920045527",
          "regions": "CAM",
          "time": "1992-01-01"
         },
         {
          "income": "1170.3381666136136",
          "regions": "LAM",
          "time": "1992-01-01"
         },
         {
          "income": "388.62455026848534",
          "regions": "SAS",
          "time": "1992-01-01"
         },
         {
          "income": "526.5527571434642",
          "regions": "SEA",
          "time": "1992-01-01"
         },
         {
          "income": "628.2296955039386",
          "regions": "CHI",
          "time": "1992-01-01"
         },
         {
          "income": "142.71598725384345",
          "regions": "MAF",
          "time": "1992-01-01"
         },
         {
          "income": "281.69305100696613",
          "regions": "SSA",
          "time": "1992-01-01"
         },
         {
          "income": "38.90689678101884",
          "regions": "SIS",
          "time": "1992-01-01"
         },
         {
          "income": "6750.471893256021",
          "regions": "USA",
          "time": "1993-01-01"
         },
         {
          "income": "556.8911509967936",
          "regions": "CAN",
          "time": "1993-01-01"
         },
         {
          "income": "8655.691869691362",
          "regions": "WEU",
          "time": "1993-01-01"
         },
         {
          "income": "5394.077042251856",
          "regions": "JPK",
          "time": "1993-01-01"
         },
         {
          "income": "393.23416742119014",
          "regions": "ANZ",
          "time": "1993-01-01"
         },
         {
          "income": "330.86226270022553",
          "regions": "EEU",
          "time": "1993-01-01"
         },
         {
          "income": "662.7523696163041",
          "regions": "FSU",
          "time": "1993-01-01"
         },
         {
          "income": "503.1936927238991",
          "regions": "MDE",
          "time": "1993-01-01"
         },
         {
          "income": "312.946846781373",
          "regions": "CAM",
          "time": "1993-01-01"
         },
         {
          "income": "1219.3835655173998",
          "regions": "LAM",
          "time": "1993-01-01"
         },
         {
          "income": "408.58233804306434",
          "regions": "SAS",
          "time": "1993-01-01"
         },
         {
          "income": "565.6350039622348",
          "regions": "SEA",
          "time": "1993-01-01"
         },
         {
          "income": "695.8536308494589",
          "regions": "CHI",
          "time": "1993-01-01"
         },
         {
          "income": "145.5048982218192",
          "regions": "MAF",
          "time": "1993-01-01"
         },
         {
          "income": "285.04832401227213",
          "regions": "SSA",
          "time": "1993-01-01"
         },
         {
          "income": "39.783725421864055",
          "regions": "SIS",
          "time": "1993-01-01"
         },
         {
          "income": "6891.902649287133",
          "regions": "USA",
          "time": "1994-01-01"
         },
         {
          "income": "565.2534668183598",
          "regions": "CAN",
          "time": "1994-01-01"
         },
         {
          "income": "8782.51423270082",
          "regions": "WEU",
          "time": "1994-01-01"
         },
         {
          "income": "5495.3361580182955",
          "regions": "JPK",
          "time": "1994-01-01"
         },
         {
          "income": "405.1538338528984",
          "regions": "ANZ",
          "time": "1994-01-01"
         },
         {
          "income": "328.468324450375",
          "regions": "EEU",
          "time": "1994-01-01"
         },
         {
          "income": "595.1623714143176",
          "regions": "FSU",
          "time": "1994-01-01"
         },
         {
          "income": "523.2621546025332",
          "regions": "MDE",
          "time": "1994-01-01"
         },
         {
          "income": "318.78544894292367",
          "regions": "CAM",
          "time": "1994-01-01"
         },
         {
          "income": "1270.4840947985222",
          "regions": "LAM",
          "time": "1994-01-01"
         },
         {
          "income": "429.56583587470453",
          "regions": "SAS",
          "time": "1994-01-01"
         },
         {
          "income": "607.6175931877582",
          "regions": "SEA",
          "time": "1994-01-01"
         },
         {
          "income": "770.7471786370118",
          "regions": "CHI",
          "time": "1994-01-01"
         },
         {
          "income": "148.34771857199772",
          "regions": "MAF",
          "time": "1994-01-01"
         },
         {
          "income": "288.4432512063994",
          "regions": "SSA",
          "time": "1994-01-01"
         },
         {
          "income": "40.68047044768902",
          "regions": "SIS",
          "time": "1994-01-01"
         },
         {
          "income": "7036.300888688201",
          "regions": "USA",
          "time": "1995-01-01"
         },
         {
          "income": "573.7423907136267",
          "regions": "CAN",
          "time": "1995-01-01"
         },
         {
          "income": "8911.199408335338",
          "regions": "WEU",
          "time": "1995-01-01"
         },
         {
          "income": "5598.505635490683",
          "regions": "JPK",
          "time": "1995-01-01"
         },
         {
          "income": "417.4354659611088",
          "regions": "ANZ",
          "time": "1995-01-01"
         },
         {
          "income": "326.09255369319897",
          "regions": "EEU",
          "time": "1995-01-01"
         },
         {
          "income": "534.4700882841379",
          "regions": "FSU",
          "time": "1995-01-01"
         },
         {
          "income": "544.1344706940846",
          "regions": "MDE",
          "time": "1995-01-01"
         },
         {
          "income": "324.73426431861407",
          "regions": "CAM",
          "time": "1995-01-01"
         },
         {
          "income": "1323.7260090808045",
          "regions": "LAM",
          "time": "1995-01-01"
         },
         {
          "income": "451.6277560134974",
          "regions": "SAS",
          "time": "1995-01-01"
         },
         {
          "income": "652.7156220161522",
          "regions": "SEA",
          "time": "1995-01-01"
         },
         {
          "income": "853.6906477665228",
          "regions": "CHI",
          "time": "1995-01-01"
         },
         {
          "income": "151.2454351112961",
          "regions": "MAF",
          "time": "1995-01-01"
         },
         {
          "income": "291.8782626667079",
          "regions": "SSA",
          "time": "1995-01-01"
         },
         {
          "income": "41.597585661932584",
          "regions": "SIS",
          "time": "1995-01-01"
         },
         {
          "income": "7289.494670647135",
          "regions": "USA",
          "time": "1996-01-01"
         },
         {
          "income": "580.8651003170959",
          "regions": "CAN",
          "time": "1996-01-01"
         },
         {
          "income": "9068.418041423321",
          "regions": "WEU",
          "time": "1996-01-01"
         },
         {
          "income": "5834.162872224889",
          "regions": "JPK",
          "time": "1996-01-01"
         },
         {
          "income": "428.6836669147509",
          "regions": "ANZ",
          "time": "1996-01-01"
         },
         {
          "income": "338.9094845621525",
          "regions": "EEU",
          "time": "1996-01-01"
         },
         {
          "income": "515.9072189861707",
          "regions": "FSU",
          "time": "1996-01-01"
         },
         {
          "income": "566.8608077338907",
          "regions": "MDE",
          "time": "1996-01-01"
         },
         {
          "income": "341.03753539846116",
          "regions": "CAM",
          "time": "1996-01-01"
         },
         {
          "income": "1366.3584687140155",
          "regions": "LAM",
          "time": "1996-01-01"
         },
         {
          "income": "482.2785622679436",
          "regions": "SAS",
          "time": "1996-01-01"
         },
         {
          "income": "698.7827993205505",
          "regions": "SEA",
          "time": "1996-01-01"
         },
         {
          "income": "929.9739271080218",
          "regions": "CHI",
          "time": "1996-01-01"
         },
         {
          "income": "161.16331081404206",
          "regions": "MAF",
          "time": "1996-01-01"
         },
         {
          "income": "304.9674735234447",
          "regions": "SSA",
          "time": "1996-01-01"
         },
         {
          "income": "43.64954747863235",
          "regions": "SIS",
          "time": "1996-01-01"
         },
         {
          "income": "7795.923645703091",
          "regions": "USA",
          "time": "1997-01-01"
         },
         {
          "income": "612.7343274172662",
          "regions": "CAN",
          "time": "1997-01-01"
         },
         {
          "income": "9300.38117477577",
          "regions": "WEU",
          "time": "1997-01-01"
         },
         {
          "income": "5907.5079837002595",
          "regions": "JPK",
          "time": "1997-01-01"
         },
         {
          "income": "439.27846199986885",
          "regions": "ANZ",
          "time": "1997-01-01"
         },
         {
          "income": "350.0430751321851",
          "regions": "EEU",
          "time": "1997-01-01"
         },
         {
          "income": "522.3196882513009",
          "regions": "FSU",
          "time": "1997-01-01"
         },
         {
          "income": "592.2795346108405",
          "regions": "MDE",
          "time": "1997-01-01"
         },
         {
          "income": "364.03574809076724",
          "regions": "CAM",
          "time": "1997-01-01"
         },
         {
          "income": "1433.6183939340142",
          "regions": "LAM",
          "time": "1997-01-01"
         },
         {
          "income": "504.6461449257334",
          "regions": "SAS",
          "time": "1997-01-01"
         },
         {
          "income": "729.768255888086",
          "regions": "SEA",
          "time": "1997-01-01"
         },
         {
          "income": "1007.5955866031345",
          "regions": "CHI",
          "time": "1997-01-01"
         },
         {
          "income": "165.42949172193227",
          "regions": "MAF",
          "time": "1997-01-01"
         },
         {
          "income": "314.2758756649394",
          "regions": "SSA",
          "time": "1997-01-01"
         },
         {
          "income": "45.45613540841626",
          "regions": "SIS",
          "time": "1997-01-01"
         },
         {
          "income": "8144.141505706323",
          "regions": "USA",
          "time": "1998-01-01"
         },
         {
          "income": "639.7785133819818",
          "regions": "CAN",
          "time": "1998-01-01"
         },
         {
          "income": "9548.995541969807",
          "regions": "WEU",
          "time": "1998-01-01"
         },
         {
          "income": "6038.12101324241",
          "regions": "JPK",
          "time": "1998-01-01"
         },
         {
          "income": "456.5442399919024",
          "regions": "ANZ",
          "time": "1998-01-01"
         },
         {
          "income": "361.56338860430697",
          "regions": "EEU",
          "time": "1998-01-01"
         },
         {
          "income": "524.5592226922688",
          "regions": "FSU",
          "time": "1998-01-01"
         },
         {
          "income": "627.3481417310184",
          "regions": "MDE",
          "time": "1998-01-01"
         },
         {
          "income": "389.1561530079881",
          "regions": "CAM",
          "time": "1998-01-01"
         },
         {
          "income": "1508.3232221696792",
          "regions": "LAM",
          "time": "1998-01-01"
         },
         {
          "income": "528.0774524221141",
          "regions": "SAS",
          "time": "1998-01-01"
         },
         {
          "income": "768.9316336702534",
          "regions": "SEA",
          "time": "1998-01-01"
         },
         {
          "income": "1092.0653624197946",
          "regions": "CHI",
          "time": "1998-01-01"
         },
         {
          "income": "172.0237716753679",
          "regions": "MAF",
          "time": "1998-01-01"
         },
         {
          "income": "323.0171738116064",
          "regions": "SSA",
          "time": "1998-01-01"
         },
         {
          "income": "48.58777883894616",
          "regions": "SIS",
          "time": "1998-01-01"
         },
         {
          "income": "8502.986776698825",
          "regions": "USA",
          "time": "1999-01-01"
         },
         {
          "income": "661.1657928828479",
          "regions": "CAN",
          "time": "1999-01-01"
         },
         {
          "income": "9821.00111188619",
          "regions": "WEU",
          "time": "1999-01-01"
         },
         {
          "income": "5945.066342881114",
          "regions": "JPK",
          "time": "1999-01-01"
         },
         {
          "income": "477.93004391507",
          "regions": "ANZ",
          "time": "1999-01-01"
         },
         {
          "income": "370.8365929246366",
          "regions": "EEU",
          "time": "1999-01-01"
         },
         {
          "income": "502.1542235291592",
          "regions": "FSU",
          "time": "1999-01-01"
         },
         {
          "income": "650.0882089813557",
          "regions": "MDE",
          "time": "1999-01-01"
         },
         {
          "income": "408.5954878658947",
          "regions": "CAM",
          "time": "1999-01-01"
         },
         {
          "income": "1522.9144939203954",
          "regions": "LAM",
          "time": "1999-01-01"
         },
         {
          "income": "557.3196507248915",
          "regions": "SAS",
          "time": "1999-01-01"
         },
         {
          "income": "748.4302672291672",
          "regions": "SEA",
          "time": "1999-01-01"
         },
         {
          "income": "1156.3502012561019",
          "regions": "CHI",
          "time": "1999-01-01"
         },
         {
          "income": "181.43713502251788",
          "regions": "MAF",
          "time": "1999-01-01"
         },
         {
          "income": "326.0138205988657",
          "regions": "SSA",
          "time": "1999-01-01"
         },
         {
          "income": "51.013471743986976",
          "regions": "SIS",
          "time": "1999-01-01"
         },
         {
          "income": "8865.604132068796",
          "regions": "USA",
          "time": "2000-01-01"
         },
         {
          "income": "691.477654636363",
          "regions": "CAN",
          "time": "2000-01-01"
         },
         {
          "income": "10071.906204945328",
          "regions": "WEU",
          "time": "2000-01-01"
         },
         {
          "income": "6045.492446349192",
          "regions": "JPK",
          "time": "2000-01-01"
         },
         {
          "income": "499.8599505989495",
          "regions": "ANZ",
          "time": "2000-01-01"
         },
         {
          "income": "380.3217956768031",
          "regions": "EEU",
          "time": "2000-01-01"
         },
         {
          "income": "515.6114480744284",
          "regions": "FSU",
          "time": "2000-01-01"
         },
         {
          "income": "647.1756029032014",
          "regions": "MDE",
          "time": "2000-01-01"
         },
         {
          "income": "424.55195180134626",
          "regions": "CAM",
          "time": "2000-01-01"
         },
         {
          "income": "1499.39013947247",
          "regions": "LAM",
          "time": "2000-01-01"
         },
         {
          "income": "594.5219695838236",
          "regions": "SAS",
          "time": "2000-01-01"
         },
         {
          "income": "780.2673021002308",
          "regions": "SEA",
          "time": "2000-01-01"
         },
         {
          "income": "1234.9474686798344",
          "regions": "CHI",
          "time": "2000-01-01"
         },
         {
          "income": "190.730180327509",
          "regions": "MAF",
          "time": "2000-01-01"
         },
         {
          "income": "332.80387650569907",
          "regions": "SSA",
          "time": "2000-01-01"
         },
         {
          "income": "53.006739100455526",
          "regions": "SIS",
          "time": "2000-01-01"
         },
         {
          "income": "9306.775773159385",
          "regions": "USA",
          "time": "2001-01-01"
         },
         {
          "income": "723.6693649797113",
          "regions": "CAN",
          "time": "2001-01-01"
         },
         {
          "income": "10411.866381324566",
          "regions": "WEU",
          "time": "2001-01-01"
         },
         {
          "income": "6190.05292138848",
          "regions": "JPK",
          "time": "2001-01-01"
         },
         {
          "income": "518.5283378250524",
          "regions": "ANZ",
          "time": "2001-01-01"
         },
         {
          "income": "394.6472342769006",
          "regions": "EEU",
          "time": "2001-01-01"
         },
         {
          "income": "554.8402695980035",
          "regions": "FSU",
          "time": "2001-01-01"
         },
         {
          "income": "684.0769074745871",
          "regions": "MDE",
          "time": "2001-01-01"
         },
         {
          "income": "435.6856625363149",
          "regions": "CAM",
          "time": "2001-01-01"
         },
         {
          "income": "1545.3113861257177",
          "regions": "LAM",
          "time": "2001-01-01"
         },
         {
          "income": "629.7143833205982",
          "regions": "SAS",
          "time": "2001-01-01"
         },
         {
          "income": "827.9250931028704",
          "regions": "SEA",
          "time": "2001-01-01"
         },
         {
          "income": "1341.2076783950235",
          "regions": "CHI",
          "time": "2001-01-01"
         },
         {
          "income": "198.4136629284171",
          "regions": "MAF",
          "time": "2001-01-01"
         },
         {
          "income": "342.8281463282054",
          "regions": "SSA",
          "time": "2001-01-01"
         },
         {
          "income": "56.714635828125836",
          "regions": "SIS",
          "time": "2001-01-01"
         },
         {
          "income": "9532.912282761807",
          "regions": "USA",
          "time": "2002-01-01"
         },
         {
          "income": "743.5769260038804",
          "regions": "CAN",
          "time": "2002-01-01"
         },
         {
          "income": "10624.333032813967",
          "regions": "WEU",
          "time": "2002-01-01"
         },
         {
          "income": "6345.099338437421",
          "regions": "JPK",
          "time": "2002-01-01"
         },
         {
          "income": "534.7564446205872",
          "regions": "ANZ",
          "time": "2002-01-01"
         },
         {
          "income": "403.04460838762463",
          "regions": "EEU",
          "time": "2002-01-01"
         },
         {
          "income": "566.4009915957439",
          "regions": "FSU",
          "time": "2002-01-01"
         },
         {
          "income": "699.6728138925823",
          "regions": "MDE",
          "time": "2002-01-01"
         },
         {
          "income": "447.5234517452401",
          "regions": "CAM",
          "time": "2002-01-01"
         },
         {
          "income": "1582.8739844653871",
          "regions": "LAM",
          "time": "2002-01-01"
         },
         {
          "income": "660.4351386207583",
          "regions": "SAS",
          "time": "2002-01-01"
         },
         {
          "income": "872.5275281024062",
          "regions": "SEA",
          "time": "2002-01-01"
         },
         {
          "income": "1406.568312019753",
          "regions": "CHI",
          "time": "2002-01-01"
         },
         {
          "income": "204.34950984405717",
          "regions": "MAF",
          "time": "2002-01-01"
         },
         {
          "income": "354.6981106726903",
          "regions": "SSA",
          "time": "2002-01-01"
         },
         {
          "income": "58.032957080800415",
          "regions": "SIS",
          "time": "2002-01-01"
         },
         {
          "income": "9760.941581242201",
          "regions": "USA",
          "time": "2003-01-01"
         },
         {
          "income": "763.5398765781046",
          "regions": "CAN",
          "time": "2003-01-01"
         },
         {
          "income": "10840.589291026075",
          "regions": "WEU",
          "time": "2003-01-01"
         },
         {
          "income": "6511.302022105173",
          "regions": "JPK",
          "time": "2003-01-01"
         },
         {
          "income": "551.37396865943",
          "regions": "ANZ",
          "time": "2003-01-01"
         },
         {
          "income": "412.36345948364584",
          "regions": "EEU",
          "time": "2003-01-01"
         },
         {
          "income": "579.2692442477069",
          "regions": "FSU",
          "time": "2003-01-01"
         },
         {
          "income": "717.436691569673",
          "regions": "MDE",
          "time": "2003-01-01"
         },
         {
          "income": "460.1050591253109",
          "regions": "CAM",
          "time": "2003-01-01"
         },
         {
          "income": "1623.2959056853902",
          "regions": "LAM",
          "time": "2003-01-01"
         },
         {
          "income": "691.8647568900715",
          "regions": "SAS",
          "time": "2003-01-01"
         },
         {
          "income": "918.2607627133539",
          "regions": "SEA",
          "time": "2003-01-01"
         },
         {
          "income": "1473.1984422392457",
          "regions": "CHI",
          "time": "2003-01-01"
         },
         {
          "income": "210.87222765473592",
          "regions": "MAF",
          "time": "2003-01-01"
         },
         {
          "income": "367.5070257667592",
          "regions": "SSA",
          "time": "2003-01-01"
         },
         {
          "income": "59.46174996914688",
          "regions": "SIS",
          "time": "2003-01-01"
         },
         {
          "income": "9990.734973628114",
          "regions": "USA",
          "time": "2004-01-01"
         },
         {
          "income": "783.5409970380349",
          "regions": "CAN",
          "time": "2004-01-01"
         },
         {
          "income": "11060.909815288936",
          "regions": "WEU",
          "time": "2004-01-01"
         },
         {
          "income": "6684.869402867611",
          "regions": "JPK",
          "time": "2004-01-01"
         },
         {
          "income": "568.3914742021142",
          "regions": "ANZ",
          "time": "2004-01-01"
         },
         {
          "income": "422.66192674470716",
          "regions": "EEU",
          "time": "2004-01-01"
         },
         {
          "income": "593.5322362174119",
          "regions": "FSU",
          "time": "2004-01-01"
         },
         {
          "income": "737.5159333803559",
          "regions": "MDE",
          "time": "2004-01-01"
         },
         {
          "income": "473.4731225670651",
          "regions": "CAM",
          "time": "2004-01-01"
         },
         {
          "income": "1666.743164507392",
          "regions": "LAM",
          "time": "2004-01-01"
         },
         {
          "income": "723.9703420297682",
          "regions": "SAS",
          "time": "2004-01-01"
         },
         {
          "income": "965.0532200163354",
          "regions": "SEA",
          "time": "2004-01-01"
         },
         {
          "income": "1540.9804744174867",
          "regions": "CHI",
          "time": "2004-01-01"
         },
         {
          "income": "218.02365126352365",
          "regions": "MAF",
          "time": "2004-01-01"
         },
         {
          "income": "381.32889869196924",
          "regions": "SSA",
          "time": "2004-01-01"
         },
         {
          "income": "61.007960914901844",
          "regions": "SIS",
          "time": "2004-01-01"
         },
         {
          "income": "10222.159781826093",
          "regions": "USA",
          "time": "2005-01-01"
         },
         {
          "income": "803.555145073564",
          "regions": "CAN",
          "time": "2005-01-01"
         },
         {
          "income": "11285.363198045741",
          "regions": "WEU",
          "time": "2005-01-01"
         },
         {
          "income": "6865.683541169595",
          "regions": "JPK",
          "time": "2005-01-01"
         },
         {
          "income": "585.8083954038239",
          "regions": "ANZ",
          "time": "2005-01-01"
         },
         {
          "income": "434.00097299290775",
          "regions": "EEU",
          "time": "2005-01-01"
         },
         {
          "income": "609.2697720270085",
          "regions": "FSU",
          "time": "2005-01-01"
         },
         {
          "income": "760.0722906919896",
          "regions": "MDE",
          "time": "2005-01-01"
         },
         {
          "income": "487.6735411328014",
          "regions": "CAM",
          "time": "2005-01-01"
         },
         {
          "income": "1713.3966031716823",
          "regions": "LAM",
          "time": "2005-01-01"
         },
         {
          "income": "756.7009711141457",
          "regions": "SAS",
          "time": "2005-01-01"
         },
         {
          "income": "1012.8244199722561",
          "regions": "SEA",
          "time": "2005-01-01"
         },
         {
          "income": "1609.8013461332202",
          "regions": "CHI",
          "time": "2005-01-01"
         },
         {
          "income": "225.8525753753925",
          "regions": "MAF",
          "time": "2005-01-01"
         },
         {
          "income": "396.23752932793934",
          "regions": "SSA",
          "time": "2005-01-01"
         },
         {
          "income": "62.67806430365182",
          "regions": "SIS",
          "time": "2005-01-01"
         },
         {
          "income": "10455.179942463352",
          "regions": "USA",
          "time": "2006-01-01"
         },
         {
          "income": "823.5482892467161",
          "regions": "CAN",
          "time": "2006-01-01"
         },
         {
          "income": "11513.903944761378",
          "regions": "WEU",
          "time": "2006-01-01"
         },
         {
          "income": "7054.146645573788",
          "regions": "JPK",
          "time": "2006-01-01"
         },
         {
          "income": "603.6412370809594",
          "regions": "ANZ",
          "time": "2006-01-01"
         },
         {
          "income": "446.4485501063542",
          "regions": "EEU",
          "time": "2006-01-01"
         },
         {
          "income": "626.5835490931711",
          "regions": "FSU",
          "time": "2006-01-01"
         },
         {
          "income": "785.2908075460455",
          "regions": "MDE",
          "time": "2006-01-01"
         },
         {
          "income": "502.75572733167274",
          "regions": "CAM",
          "time": "2006-01-01"
         },
         {
          "income": "1763.4706717376455",
          "regions": "LAM",
          "time": "2006-01-01"
         },
         {
          "income": "790.0157015944717",
          "regions": "SAS",
          "time": "2006-01-01"
         },
         {
          "income": "1061.4753618171721",
          "regions": "SEA",
          "time": "2006-01-01"
         },
         {
          "income": "1679.5081378938748",
          "regions": "CHI",
          "time": "2006-01-01"
         },
         {
          "income": "234.41571093384297",
          "regions": "MAF",
          "time": "2006-01-01"
         },
         {
          "income": "412.32179750229216",
          "regions": "SSA",
          "time": "2006-01-01"
         },
         {
          "income": "64.48041784048758",
          "regions": "SIS",
          "time": "2006-01-01"
         },
         {
          "income": "10689.55336822627",
          "regions": "USA",
          "time": "2007-01-01"
         },
         {
          "income": "843.4934427343425",
          "regions": "CAN",
          "time": "2007-01-01"
         },
         {
          "income": "11746.59738375124",
          "regions": "WEU",
          "time": "2007-01-01"
         },
         {
          "income": "7250.472189339605",
          "regions": "JPK",
          "time": "2007-01-01"
         },
         {
          "income": "621.8833193809892",
          "regions": "ANZ",
          "time": "2007-01-01"
         },
         {
          "income": "460.0805627517036",
          "regions": "EEU",
          "time": "2007-01-01"
         },
         {
          "income": "645.5808906460736",
          "regions": "FSU",
          "time": "2007-01-01"
         },
         {
          "income": "813.3742996428357",
          "regions": "MDE",
          "time": "2007-01-01"
         },
         {
          "income": "518.7677810597776",
          "regions": "CAM",
          "time": "2007-01-01"
         },
         {
          "income": "1817.1457434578333",
          "regions": "LAM",
          "time": "2007-01-01"
         },
         {
          "income": "823.8464107009189",
          "regions": "SAS",
          "time": "2007-01-01"
         },
         {
          "income": "1110.9184530068242",
          "regions": "SEA",
          "time": "2007-01-01"
         },
         {
          "income": "1749.9523387713627",
          "regions": "CHI",
          "time": "2007-01-01"
         },
         {
          "income": "243.7691918241729",
          "regions": "MAF",
          "time": "2007-01-01"
         },
         {
          "income": "429.6670025512637",
          "regions": "SSA",
          "time": "2007-01-01"
         },
         {
          "income": "66.4228189530541",
          "regions": "SIS",
          "time": "2007-01-01"
         },
         {
          "income": "10925.23847298273",
          "regions": "USA",
          "time": "2008-01-01"
         },
         {
          "income": "863.3713960212754",
          "regions": "CAN",
          "time": "2008-01-01"
         },
         {
          "income": "11983.505550878761",
          "regions": "WEU",
          "time": "2008-01-01"
         },
         {
          "income": "7455.097709551724",
          "regions": "JPK",
          "time": "2008-01-01"
         },
         {
          "income": "640.5453587655669",
          "regions": "ANZ",
          "time": "2008-01-01"
         },
         {
          "income": "474.976928896526",
          "regions": "EEU",
          "time": "2008-01-01"
         },
         {
          "income": "666.3750487854012",
          "regions": "FSU",
          "time": "2008-01-01"
         },
         {
          "income": "844.5696825400662",
          "regions": "MDE",
          "time": "2008-01-01"
         },
         {
          "income": "535.7664473752108",
          "regions": "CAM",
          "time": "2008-01-01"
         },
         {
          "income": "1874.672283248038",
          "regions": "LAM",
          "time": "2008-01-01"
         },
         {
          "income": "858.151711366269",
          "regions": "SAS",
          "time": "2008-01-01"
         },
         {
          "income": "1161.048179669831",
          "regions": "SEA",
          "time": "2008-01-01"
         },
         {
          "income": "1820.993591920341",
          "regions": "CHI",
          "time": "2008-01-01"
         },
         {
          "income": "253.98530268293302",
          "regions": "MAF",
          "time": "2008-01-01"
         },
         {
          "income": "448.3838563402516",
          "regions": "SSA",
          "time": "2008-01-01"
         },
         {
          "income": "68.51444871391867",
          "regions": "SIS",
          "time": "2008-01-01"
         },
         {
          "income": "11161.86746154606",
          "regions": "USA",
          "time": "2009-01-01"
         },
         {
          "income": "883.1545001092522",
          "regions": "CAN",
          "time": "2009-01-01"
         },
         {
          "income": "12224.81518077287",
          "regions": "WEU",
          "time": "2009-01-01"
         },
         {
          "income": "7668.412259409996",
          "regions": "JPK",
          "time": "2009-01-01"
         },
         {
          "income": "659.6256214061027",
          "regions": "ANZ",
          "time": "2009-01-01"
         },
         {
          "income": "491.2408569940852",
          "regions": "EEU",
          "time": "2009-01-01"
         },
         {
          "income": "689.0985274585516",
          "regions": "FSU",
          "time": "2009-01-01"
         },
         {
          "income": "879.1396752449006",
          "regions": "MDE",
          "time": "2009-01-01"
         },
         {
          "income": "553.8182862383484",
          "regions": "CAM",
          "time": "2009-01-01"
         },
         {
          "income": "1936.3045654462085",
          "regions": "LAM",
          "time": "2009-01-01"
         },
         {
          "income": "892.8624959027582",
          "regions": "SAS",
          "time": "2009-01-01"
         },
         {
          "income": "1211.7394689175972",
          "regions": "SEA",
          "time": "2009-01-01"
         },
         {
          "income": "1892.4485062973595",
          "regions": "CHI",
          "time": "2009-01-01"
         },
         {
          "income": "265.13709464923414",
          "regions": "MAF",
          "time": "2009-01-01"
         },
         {
          "income": "468.5810013944435",
          "regions": "SSA",
          "time": "2009-01-01"
         },
         {
          "income": "70.76610369235708",
          "regions": "SIS",
          "time": "2009-01-01"
         },
         {
          "income": "11399.500063535075",
          "regions": "USA",
          "time": "2010-01-01"
         },
         {
          "income": "902.7967569998656",
          "regions": "CAN",
          "time": "2010-01-01"
         },
         {
          "income": "12470.352009194155",
          "regions": "WEU",
          "time": "2010-01-01"
         },
         {
          "income": "7890.747539047548",
          "regions": "JPK",
          "time": "2010-01-01"
         },
         {
          "income": "679.1349266265802",
          "regions": "ANZ",
          "time": "2010-01-01"
         },
         {
          "income": "508.96728252607346",
          "regions": "EEU",
          "time": "2010-01-01"
         },
         {
          "income": "713.8991584770334",
          "regions": "FSU",
          "time": "2010-01-01"
         },
         {
          "income": "917.3992388946078",
          "regions": "MDE",
          "time": "2010-01-01"
         },
         {
          "income": "572.9896293770704",
          "regions": "CAM",
          "time": "2010-01-01"
         },
         {
          "income": "2002.3391447719023",
          "regions": "LAM",
          "time": "2010-01-01"
         },
         {
          "income": "927.9225830520172",
          "regions": "SAS",
          "time": "2010-01-01"
         },
         {
          "income": "1262.8945383464304",
          "regions": "SEA",
          "time": "2010-01-01"
         },
         {
          "income": "1964.1604401938134",
          "regions": "CHI",
          "time": "2010-01-01"
         },
         {
          "income": "277.31127023737304",
          "regions": "MAF",
          "time": "2010-01-01"
         },
         {
          "income": "490.38717747231874",
          "regions": "SSA",
          "time": "2010-01-01"
         },
         {
          "income": "73.18818477598025",
          "regions": "SIS",
          "time": "2010-01-01"
         },
         {
          "income": "11637.865607250875",
          "regions": "USA",
          "time": "2011-01-01"
         },
         {
          "income": "921.7073879949342",
          "regions": "CAN",
          "time": "2011-01-01"
         },
         {
          "income": "12720.426803342643",
          "regions": "WEU",
          "time": "2011-01-01"
         },
         {
          "income": "8122.60905050276",
          "regions": "JPK",
          "time": "2011-01-01"
         },
         {
          "income": "699.0708822437284",
          "regions": "ANZ",
          "time": "2011-01-01"
         },
         {
          "income": "528.276753276013",
          "regions": "EEU",
          "time": "2011-01-01"
         },
         {
          "income": "740.9482409048242",
          "regions": "FSU",
          "time": "2011-01-01"
         },
         {
          "income": "959.6955164464297",
          "regions": "MDE",
          "time": "2011-01-01"
         },
         {
          "income": "593.3519194520504",
          "regions": "CAM",
          "time": "2011-01-01"
         },
         {
          "income": "2073.058803451543",
          "regions": "LAM",
          "time": "2011-01-01"
         },
         {
          "income": "963.2543024115064",
          "regions": "SAS",
          "time": "2011-01-01"
         },
         {
          "income": "1310.9076004133465",
          "regions": "SEA",
          "time": "2011-01-01"
         },
         {
          "income": "2035.9279358459162",
          "regions": "CHI",
          "time": "2011-01-01"
         },
         {
          "income": "290.59904691232646",
          "regions": "MAF",
          "time": "2011-01-01"
         },
         {
          "income": "513.9344842382179",
          "regions": "SSA",
          "time": "2011-01-01"
         },
         {
          "income": "75.79350286487157",
          "regions": "SIS",
          "time": "2011-01-01"
         },
         {
          "income": "11877.208639880393",
          "regions": "USA",
          "time": "2012-01-01"
         },
         {
          "income": "940.6973729814065",
          "regions": "CAN",
          "time": "2012-01-01"
         },
         {
          "income": "12972.319551257493",
          "regions": "WEU",
          "time": "2012-01-01"
         },
         {
          "income": "8355.430982000995",
          "regions": "JPK",
          "time": "2012-01-01"
         },
         {
          "income": "719.0882994063611",
          "regions": "ANZ",
          "time": "2012-01-01"
         },
         {
          "income": "548.169290621866",
          "regions": "EEU",
          "time": "2012-01-01"
         },
         {
          "income": "768.8079856497266",
          "regions": "FSU",
          "time": "2012-01-01"
         },
         {
          "income": "1003.4036128088891",
          "regions": "MDE",
          "time": "2012-01-01"
         },
         {
          "income": "614.2563003086387",
          "regions": "CAM",
          "time": "2012-01-01"
         },
         {
          "income": "2145.638921425121",
          "regions": "LAM",
          "time": "2012-01-01"
         },
         {
          "income": "999.6364258099097",
          "regions": "SAS",
          "time": "2012-01-01"
         },
         {
          "income": "1360.3425956925932",
          "regions": "SEA",
          "time": "2012-01-01"
         },
         {
          "income": "2110.0198762979167",
          "regions": "CHI",
          "time": "2012-01-01"
         },
         {
          "income": "304.35849904736386",
          "regions": "MAF",
          "time": "2012-01-01"
         },
         {
          "income": "538.3221426004667",
          "regions": "SSA",
          "time": "2012-01-01"
         },
         {
          "income": "78.46835319679128",
          "regions": "SIS",
          "time": "2012-01-01"
         },
         {
          "income": "12117.385351302488",
          "regions": "USA",
          "time": "2013-01-01"
         },
         {
          "income": "959.7553730733924",
          "regions": "CAN",
          "time": "2013-01-01"
         },
         {
          "income": "13226.069544084125",
          "regions": "WEU",
          "time": "2013-01-01"
         },
         {
          "income": "8588.90763707302",
          "regions": "JPK",
          "time": "2013-01-01"
         },
         {
          "income": "739.1608659086348",
          "regions": "ANZ",
          "time": "2013-01-01"
         },
         {
          "income": "568.6557208997964",
          "regions": "EEU",
          "time": "2013-01-01"
         },
         {
          "income": "797.4928936761343",
          "regions": "FSU",
          "time": "2013-01-01"
         },
         {
          "income": "1048.539415315265",
          "regions": "MDE",
          "time": "2013-01-01"
         },
         {
          "income": "635.7092049178209",
          "regions": "CAM",
          "time": "2013-01-01"
         },
         {
          "income": "2220.1006454305175",
          "regions": "LAM",
          "time": "2013-01-01"
         },
         {
          "income": "1037.086658696659",
          "regions": "SAS",
          "time": "2013-01-01"
         },
         {
          "income": "1411.2231828511353",
          "regions": "SEA",
          "time": "2013-01-01"
         },
         {
          "income": "2186.4986970257273",
          "regions": "CHI",
          "time": "2013-01-01"
         },
         {
          "income": "318.5965308531015",
          "regions": "MAF",
          "time": "2013-01-01"
         },
         {
          "income": "563.5628810839048",
          "regions": "SSA",
          "time": "2013-01-01"
         },
         {
          "income": "81.21356512824045",
          "regions": "SIS",
          "time": "2013-01-01"
         },
         {
          "income": "12358.248121308387",
          "regions": "USA",
          "time": "2014-01-01"
         },
         {
          "income": "978.869745628328",
          "regions": "CAN",
          "time": "2014-01-01"
         },
         {
          "income": "13481.458522413834",
          "regions": "WEU",
          "time": "2014-01-01"
         },
         {
          "income": "8822.809906191913",
          "regions": "JPK",
          "time": "2014-01-01"
         },
         {
          "income": "759.2688531103068",
          "regions": "ANZ",
          "time": "2014-01-01"
         },
         {
          "income": "589.752480936265",
          "regions": "EEU",
          "time": "2014-01-01"
         },
         {
          "income": "827.0252943184078",
          "regions": "FSU",
          "time": "2014-01-01"
         },
         {
          "income": "1095.1064692162138",
          "regions": "MDE",
          "time": "2014-01-01"
         },
         {
          "income": "657.7103925191634",
          "regions": "CAM",
          "time": "2014-01-01"
         },
         {
          "income": "2296.44173224361",
          "regions": "LAM",
          "time": "2014-01-01"
         },
         {
          "income": "1075.6118744144867",
          "regions": "SAS",
          "time": "2014-01-01"
         },
         {
          "income": "1463.5582030015614",
          "regions": "SEA",
          "time": "2014-01-01"
         },
         {
          "income": "2265.4061267986417",
          "regions": "CHI",
          "time": "2014-01-01"
         },
         {
          "income": "333.3163392439387",
          "regions": "MAF",
          "time": "2014-01-01"
         },
         {
          "income": "589.6628853610193",
          "regions": "SSA",
          "time": "2014-01-01"
         },
         {
          "income": "84.02912329351423",
          "regions": "SIS",
          "time": "2014-01-01"
         },
         {
          "income": "12599.645607926528",
          "regions": "USA",
          "time": "2015-01-01"
         },
         {
          "income": "998.0285523904558",
          "regions": "CAN",
          "time": "2015-01-01"
         },
         {
          "income": "13738.52490676816",
          "regions": "WEU",
          "time": "2015-01-01"
         },
         {
          "income": "9056.7303844953",
          "regions": "JPK",
          "time": "2015-01-01"
         },
         {
          "income": "779.3771910822466",
          "regions": "ANZ",
          "time": "2015-01-01"
         },
         {
          "income": "611.4649308528329",
          "regions": "EEU",
          "time": "2015-01-01"
         },
         {
          "income": "857.411936562872",
          "regions": "FSU",
          "time": "2015-01-01"
         },
         {
          "income": "1143.1269542711939",
          "regions": "MDE",
          "time": "2015-01-01"
         },
         {
          "income": "680.271722897924",
          "regions": "CAM",
          "time": "2015-01-01"
         },
         {
          "income": "2374.7021692792055",
          "regions": "LAM",
          "time": "2015-01-01"
         },
         {
          "income": "1115.238815896305",
          "regions": "SAS",
          "time": "2015-01-01"
         },
         {
          "income": "1517.3835121889217",
          "regions": "SEA",
          "time": "2015-01-01"
         },
         {
          "income": "2346.827555011695",
          "regions": "CHI",
          "time": "2015-01-01"
         },
         {
          "income": "348.526800918375",
          "regions": "MAF",
          "time": "2015-01-01"
         },
         {
          "income": "616.6384182177211",
          "regions": "SSA",
          "time": "2015-01-01"
         },
         {
          "income": "86.9165605779425",
          "regions": "SIS",
          "time": "2015-01-01"
         },
         {
          "income": "12841.422879713446",
          "regions": "USA",
          "time": "2016-01-01"
         },
         {
          "income": "1017.219570022144",
          "regions": "CAN",
          "time": "2016-01-01"
         },
         {
          "income": "13997.039261994962",
          "regions": "WEU",
          "time": "2016-01-01"
         },
         {
          "income": "9290.334713773684",
          "regions": "JPK",
          "time": "2016-01-01"
         },
         {
          "income": "799.4570996571846",
          "regions": "ANZ",
          "time": "2016-01-01"
         },
         {
          "income": "633.8035929538124",
          "regions": "EEU",
          "time": "2016-01-01"
         },
         {
          "income": "888.6667634303976",
          "regions": "FSU",
          "time": "2016-01-01"
         },
         {
          "income": "1192.611346013548",
          "regions": "MDE",
          "time": "2016-01-01"
         },
         {
          "income": "703.3987494551645",
          "regions": "CAM",
          "time": "2016-01-01"
         },
         {
          "income": "2454.8998910526648",
          "regions": "LAM",
          "time": "2016-01-01"
         },
         {
          "income": "1155.9840892811153",
          "regions": "SAS",
          "time": "2016-01-01"
         },
         {
          "income": "1572.7211483406984",
          "regions": "SEA",
          "time": "2016-01-01"
         },
         {
          "income": "2430.8289927032415",
          "regions": "CHI",
          "time": "2016-01-01"
         },
         {
          "income": "364.2332542114811",
          "regions": "MAF",
          "time": "2016-01-01"
         },
         {
          "income": "644.499516864561",
          "regions": "SSA",
          "time": "2016-01-01"
         },
         {
          "income": "89.87660587415274",
          "regions": "SIS",
          "time": "2016-01-01"
         },
         {
          "income": "13083.421554363962",
          "regions": "USA",
          "time": "2017-01-01"
         },
         {
          "income": "1036.430300615367",
          "regions": "CAN",
          "time": "2017-01-01"
         },
         {
          "income": "14256.898985856245",
          "regions": "WEU",
          "time": "2017-01-01"
         },
         {
          "income": "9523.280262711367",
          "regions": "JPK",
          "time": "2017-01-01"
         },
         {
          "income": "819.4790896225508",
          "regions": "ANZ",
          "time": "2017-01-01"
         },
         {
          "income": "656.7788450035172",
          "regions": "EEU",
          "time": "2017-01-01"
         },
         {
          "income": "920.8034646396673",
          "regions": "FSU",
          "time": "2017-01-01"
         },
         {
          "income": "1243.5680953041335",
          "regions": "MDE",
          "time": "2017-01-01"
         },
         {
          "income": "727.0966947364482",
          "regions": "CAM",
          "time": "2017-01-01"
         },
         {
          "income": "2537.05165523607",
          "regions": "LAM",
          "time": "2017-01-01"
         },
         {
          "income": "1197.863882317808",
          "regions": "SAS",
          "time": "2017-01-01"
         },
         {
          "income": "1629.5925569747026",
          "regions": "SEA",
          "time": "2017-01-01"
         },
         {
          "income": "2517.477614109107",
          "regions": "CHI",
          "time": "2017-01-01"
         },
         {
          "income": "380.44043247462173",
          "regions": "MAF",
          "time": "2017-01-01"
         },
         {
          "income": "673.2551788340984",
          "regions": "SSA",
          "time": "2017-01-01"
         },
         {
          "income": "92.90994736827494",
          "regions": "SIS",
          "time": "2017-01-01"
         },
         {
          "income": "13325.479947548822",
          "regions": "USA",
          "time": "2018-01-01"
         },
         {
          "income": "1055.6479833704207",
          "regions": "CAN",
          "time": "2018-01-01"
         },
         {
          "income": "14518.141147795206",
          "regions": "WEU",
          "time": "2018-01-01"
         },
         {
          "income": "9755.216887148072",
          "regions": "JPK",
          "time": "2018-01-01"
         },
         {
          "income": "839.4130283610899",
          "regions": "ANZ",
          "time": "2018-01-01"
         },
         {
          "income": "680.4009029549331",
          "regions": "EEU",
          "time": "2018-01-01"
         },
         {
          "income": "953.8354524832016",
          "regions": "FSU",
          "time": "2018-01-01"
         },
         {
          "income": "1296.0035178361038",
          "regions": "MDE",
          "time": "2018-01-01"
         },
         {
          "income": "751.3704326670614",
          "regions": "CAM",
          "time": "2018-01-01"
         },
         {
          "income": "2621.1729833134555",
          "regions": "LAM",
          "time": "2018-01-01"
         },
         {
          "income": "1240.8939289571024",
          "regions": "SAS",
          "time": "2018-01-01"
         },
         {
          "income": "1688.0185427107867",
          "regions": "SEA",
          "time": "2018-01-01"
         },
         {
          "income": "2606.841749188172",
          "regions": "CHI",
          "time": "2018-01-01"
         },
         {
          "income": "397.1524239138047",
          "regions": "MAF",
          "time": "2018-01-01"
         },
         {
          "income": "702.9132925856344",
          "regions": "SSA",
          "time": "2018-01-01"
         },
         {
          "income": "96.01722997801932",
          "regions": "SIS",
          "time": "2018-01-01"
         },
         {
          "income": "13567.433229899289",
          "regions": "USA",
          "time": "2019-01-01"
         },
         {
          "income": "1074.8596068466827",
          "regions": "CAN",
          "time": "2019-01-01"
         },
         {
          "income": "14780.519690389085",
          "regions": "WEU",
          "time": "2019-01-01"
         },
         {
          "income": "9985.885892552915",
          "regions": "JPK",
          "time": "2019-01-01"
         },
         {
          "income": "859.236655181826",
          "regions": "ANZ",
          "time": "2019-01-01"
         },
         {
          "income": "704.6866125488345",
          "regions": "EEU",
          "time": "2019-01-01"
         },
         {
          "income": "987.7853824430182",
          "regions": "FSU",
          "time": "2019-01-01"
         },
         {
          "income": "1349.9085091299148",
          "regions": "MDE",
          "time": "2019-01-01"
         },
         {
          "income": "776.2168945375048",
          "regions": "CAM",
          "time": "2019-01-01"
         },
         {
          "income": "2707.251677414484",
          "regions": "LAM",
          "time": "2019-01-01"
         },
         {
          "income": "1285.0769301965108",
          "regions": "SAS",
          "time": "2019-01-01"
         },
         {
          "income": "1748.0021586041535",
          "regions": "SEA",
          "time": "2019-01-01"
         },
         {
          "income": "2698.9646340972563",
          "regions": "CHI",
          "time": "2019-01-01"
         },
         {
          "income": "414.36858677374295",
          "regions": "MAF",
          "time": "2019-01-01"
         },
         {
          "income": "733.4734088037914",
          "regions": "SSA",
          "time": "2019-01-01"
         },
         {
          "income": "99.19808465103102",
          "regions": "SIS",
          "time": "2019-01-01"
         },
         {
          "income": "13809.113591544285",
          "regions": "USA",
          "time": "2020-01-01"
         },
         {
          "income": "1094.05192181065",
          "regions": "CAN",
          "time": "2020-01-01"
         },
         {
          "income": "15044.071077284641",
          "regions": "WEU",
          "time": "2020-01-01"
         },
         {
          "income": "10214.830937118999",
          "regions": "JPK",
          "time": "2020-01-01"
         },
         {
          "income": "878.9107054438759",
          "regions": "ANZ",
          "time": "2020-01-01"
         },
         {
          "income": "729.6394868142338",
          "regions": "EEU",
          "time": "2020-01-01"
         },
         {
          "income": "1022.6571626584068",
          "regions": "FSU",
          "time": "2020-01-01"
         },
         {
          "income": "1405.296883197466",
          "regions": "MDE",
          "time": "2020-01-01"
         },
         {
          "income": "801.6472823006873",
          "regions": "CAM",
          "time": "2020-01-01"
         },
         {
          "income": "2795.325308283852",
          "regions": "LAM",
          "time": "2020-01-01"
         },
         {
          "income": "1330.43925915696",
          "regions": "SAS",
          "time": "2020-01-01"
         },
         {
          "income": "1809.5786356406932",
          "regions": "SEA",
          "time": "2020-01-01"
         },
         {
          "income": "2793.941301463086",
          "regions": "CHI",
          "time": "2020-01-01"
         },
         {
          "income": "432.0952992647504",
          "regions": "MAF",
          "time": "2020-01-01"
         },
         {
          "income": "764.9475351754545",
          "regions": "SSA",
          "time": "2020-01-01"
         },
         {
          "income": "102.45396706874925",
          "regions": "SIS",
          "time": "2020-01-01"
         },
         {
          "income": "14050.350412450425",
          "regions": "USA",
          "time": "2021-01-01"
         },
         {
          "income": "1113.211455690001",
          "regions": "CAN",
          "time": "2021-01-01"
         },
         {
          "income": "15308.538321040052",
          "regions": "WEU",
          "time": "2021-01-01"
         },
         {
          "income": "10441.68430042289",
          "regions": "JPK",
          "time": "2021-01-01"
         },
         {
          "income": "898.4035440979796",
          "regions": "ANZ",
          "time": "2021-01-01"
         },
         {
          "income": "755.2691669931118",
          "regions": "EEU",
          "time": "2021-01-01"
         },
         {
          "income": "1058.4632296317263",
          "regions": "FSU",
          "time": "2021-01-01"
         },
         {
          "income": "1462.167862411526",
          "regions": "MDE",
          "time": "2021-01-01"
         },
         {
          "income": "827.66529693047",
          "regions": "CAM",
          "time": "2021-01-01"
         },
         {
          "income": "2885.4052628547893",
          "regions": "LAM",
          "time": "2021-01-01"
         },
         {
          "income": "1376.9950300212813",
          "regions": "SAS",
          "time": "2021-01-01"
         },
         {
          "income": "1872.7664996022445",
          "regions": "SEA",
          "time": "2021-01-01"
         },
         {
          "income": "2891.843431933168",
          "regions": "CHI",
          "time": "2021-01-01"
         },
         {
          "income": "450.33445882746986",
          "regions": "MAF",
          "time": "2021-01-01"
         },
         {
          "income": "797.3397896338698",
          "regions": "SSA",
          "time": "2021-01-01"
         },
         {
          "income": "105.78537515002117",
          "regions": "SIS",
          "time": "2021-01-01"
         },
         {
          "income": "14293.113437656346",
          "regions": "USA",
          "time": "2022-01-01"
         },
         {
          "income": "1132.494324693918",
          "regions": "CAN",
          "time": "2022-01-01"
         },
         {
          "income": "15573.804282746885",
          "regions": "WEU",
          "time": "2022-01-01"
         },
         {
          "income": "10668.728798993849",
          "regions": "JPK",
          "time": "2022-01-01"
         },
         {
          "income": "917.9115853893666",
          "regions": "ANZ",
          "time": "2022-01-01"
         },
         {
          "income": "781.5850565733452",
          "regions": "EEU",
          "time": "2022-01-01"
         },
         {
          "income": "1095.2156141761407",
          "regions": "FSU",
          "time": "2022-01-01"
         },
         {
          "income": "1520.51811816469",
          "regions": "MDE",
          "time": "2022-01-01"
         },
         {
          "income": "854.2742157446686",
          "regions": "CAM",
          "time": "2022-01-01"
         },
         {
          "income": "2977.5014413931185",
          "regions": "LAM",
          "time": "2022-01-01"
         },
         {
          "income": "1424.757747086239",
          "regions": "SAS",
          "time": "2022-01-01"
         },
         {
          "income": "1937.5834145120034",
          "regions": "SEA",
          "time": "2022-01-01"
         },
         {
          "income": "2992.743818092088",
          "regions": "CHI",
          "time": "2022-01-01"
         },
         {
          "income": "469.0871485925538",
          "regions": "MAF",
          "time": "2022-01-01"
         },
         {
          "income": "830.6528968793576",
          "regions": "SSA",
          "time": "2022-01-01"
         },
         {
          "income": "109.19275350364309",
          "regions": "SIS",
          "time": "2022-01-01"
         },
         {
          "income": "14537.336400883247",
          "regions": "USA",
          "time": "2023-01-01"
         },
         {
          "income": "1151.8953448579778",
          "regions": "CAN",
          "time": "2023-01-01"
         },
         {
          "income": "15839.904873644138",
          "regions": "WEU",
          "time": "2023-01-01"
         },
         {
          "income": "10895.759096379259",
          "regions": "JPK",
          "time": "2023-01-01"
         },
         {
          "income": "937.4171501874624",
          "regions": "ANZ",
          "time": "2023-01-01"
         },
         {
          "income": "808.5963028679307",
          "regions": "EEU",
          "time": "2023-01-01"
         },
         {
          "income": "1132.9259141638968",
          "regions": "FSU",
          "time": "2023-01-01"
         },
         {
          "income": "1580.3416647878705",
          "regions": "MDE",
          "time": "2023-01-01"
         },
         {
          "income": "881.4768740347187",
          "regions": "CAM",
          "time": "2023-01-01"
         },
         {
          "income": "3071.622197332401",
          "regions": "LAM",
          "time": "2023-01-01"
         },
         {
          "income": "1473.7402674383486",
          "regions": "SAS",
          "time": "2023-01-01"
         },
         {
          "income": "2004.0461343257077",
          "regions": "SEA",
          "time": "2023-01-01"
         },
         {
          "income": "3096.716362531806",
          "regions": "CHI",
          "time": "2023-01-01"
         },
         {
          "income": "488.35360582165345",
          "regions": "MAF",
          "time": "2023-01-01"
         },
         {
          "income": "864.8881266380353",
          "regions": "SSA",
          "time": "2023-01-01"
         },
         {
          "income": "112.67649111901713",
          "regions": "SIS",
          "time": "2023-01-01"
         },
         {
          "income": "14782.951002036598",
          "regions": "USA",
          "time": "2024-01-01"
         },
         {
          "income": "1171.4091723265035",
          "regions": "CAN",
          "time": "2024-01-01"
         },
         {
          "income": "16106.566981089903",
          "regions": "WEU",
          "time": "2024-01-01"
         },
         {
          "income": "11122.674808842332",
          "regions": "JPK",
          "time": "2024-01-01"
         },
         {
          "income": "956.9115918872683",
          "regions": "ANZ",
          "time": "2024-01-01"
         },
         {
          "income": "836.3198692681202",
          "regions": "EEU",
          "time": "2024-01-01"
         },
         {
          "income": "1171.616611809531",
          "regions": "FSU",
          "time": "2024-01-01"
         },
         {
          "income": "1641.6137295325532",
          "regions": "MDE",
          "time": "2024-01-01"
         },
         {
          "income": "909.2667711309281",
          "regions": "CAM",
          "time": "2024-01-01"
         },
         {
          "income": "3167.743355745914",
          "regions": "LAM",
          "time": "2024-01-01"
         },
         {
          "income": "1523.9398865812484",
          "regions": "SAS",
          "time": "2024-01-01"
         },
         {
          "income": "2072.150227549413",
          "regions": "SEA",
          "time": "2024-01-01"
         },
         {
          "income": "3203.804934530067",
          "regions": "CHI",
          "time": "2024-01-01"
         },
         {
          "income": "508.1282284991971",
          "regions": "MAF",
          "time": "2024-01-01"
         },
         {
          "income": "900.0364447430038",
          "regions": "SSA",
          "time": "2024-01-01"
         },
         {
          "income": "116.23578443674133",
          "regions": "SIS",
          "time": "2024-01-01"
         },
         {
          "income": "15029.88693723023",
          "regions": "USA",
          "time": "2025-01-01"
         },
         {
          "income": "1191.0303043891354",
          "regions": "CAN",
          "time": "2025-01-01"
         },
         {
          "income": "16373.826575286472",
          "regions": "WEU",
          "time": "2025-01-01"
         },
         {
          "income": "11349.156965063758",
          "regions": "JPK",
          "time": "2025-01-01"
         },
         {
          "income": "976.3674592033412",
          "regions": "ANZ",
          "time": "2025-01-01"
         },
         {
          "income": "864.7567965046303",
          "regions": "EEU",
          "time": "2025-01-01"
         },
         {
          "income": "1211.2878145800082",
          "regions": "FSU",
          "time": "2025-01-01"
         },
         {
          "income": "1704.3375160156897",
          "regions": "MDE",
          "time": "2025-01-01"
         },
         {
          "income": "937.6541291016808",
          "regions": "CAM",
          "time": "2025-01-01"
         },
         {
          "income": "3265.899013980238",
          "regions": "LAM",
          "time": "2025-01-01"
         },
         {
          "income": "1575.381927415883",
          "regions": "SAS",
          "time": "2025-01-01"
         },
         {
          "income": "2141.9293496437176",
          "regions": "SEA",
          "time": "2025-01-01"
         },
         {
          "income": "3314.114618575154",
          "regions": "CHI",
          "time": "2025-01-01"
         },
         {
          "income": "528.4140227100634",
          "regions": "MAF",
          "time": "2025-01-01"
         },
         {
          "income": "936.1041029379751",
          "regions": "SSA",
          "time": "2025-01-01"
         },
         {
          "income": "119.87196847930049",
          "regions": "SIS",
          "time": "2025-01-01"
         },
         {
          "income": "15278.071918626618",
          "regions": "USA",
          "time": "2026-01-01"
         },
         {
          "income": "1210.753081085998",
          "regions": "CAN",
          "time": "2026-01-01"
         },
         {
          "income": "16641.400148701785",
          "regions": "WEU",
          "time": "2026-01-01"
         },
         {
          "income": "11574.987668390138",
          "regions": "JPK",
          "time": "2026-01-01"
         },
         {
          "income": "995.7659990269879",
          "regions": "ANZ",
          "time": "2026-01-01"
         },
         {
          "income": "893.9153710328761",
          "regions": "EEU",
          "time": "2026-01-01"
         },
         {
          "income": "1251.949712048565",
          "regions": "FSU",
          "time": "2026-01-01"
         },
         {
          "income": "1768.4984392650947",
          "regions": "MDE",
          "time": "2026-01-01"
         },
         {
          "income": "966.6403343717392",
          "regions": "CAM",
          "time": "2026-01-01"
         },
         {
          "income": "3366.0924792920905",
          "regions": "LAM",
          "time": "2026-01-01"
         },
         {
          "income": "1628.0770401783514",
          "regions": "SAS",
          "time": "2026-01-01"
         },
         {
          "income": "2213.3971765854017",
          "regions": "SEA",
          "time": "2026-01-01"
         },
         {
          "income": "3427.72248091362",
          "regions": "CHI",
          "time": "2026-01-01"
         },
         {
          "income": "549.2084668594676",
          "regions": "MAF",
          "time": "2026-01-01"
         },
         {
          "income": "973.0876021464865",
          "regions": "SSA",
          "time": "2026-01-01"
         },
         {
          "income": "123.58524980347893",
          "regions": "SIS",
          "time": "2026-01-01"
         },
         {
          "income": "15526.667376211517",
          "regions": "USA",
          "time": "2027-01-01"
         },
         {
          "income": "1230.511114824558",
          "regions": "CAN",
          "time": "2027-01-01"
         },
         {
          "income": "16909.49060802344",
          "regions": "WEU",
          "time": "2027-01-01"
         },
         {
          "income": "11800.293844678368",
          "regions": "JPK",
          "time": "2027-01-01"
         },
         {
          "income": "1015.1181269817723",
          "regions": "ANZ",
          "time": "2027-01-01"
         },
         {
          "income": "923.4905780624119",
          "regions": "EEU",
          "time": "2027-01-01"
         },
         {
          "income": "1293.1736813703883",
          "regions": "FSU",
          "time": "2027-01-01"
         },
         {
          "income": "1834.1327752702543",
          "regions": "MDE",
          "time": "2027-01-01"
         },
         {
          "income": "996.2554401145967",
          "regions": "CAM",
          "time": "2027-01-01"
         },
         {
          "income": "3468.426867247308",
          "regions": "LAM",
          "time": "2027-01-01"
         },
         {
          "income": "1682.084342500741",
          "regions": "SAS",
          "time": "2027-01-01"
         },
         {
          "income": "2286.633246979917",
          "regions": "SEA",
          "time": "2027-01-01"
         },
         {
          "income": "3544.2589801585677",
          "regions": "CHI",
          "time": "2027-01-01"
         },
         {
          "income": "570.5247854258172",
          "regions": "MAF",
          "time": "2027-01-01"
         },
         {
          "income": "1011.0113677254246",
          "regions": "SSA",
          "time": "2027-01-01"
         },
         {
          "income": "127.37950165905254",
          "regions": "SIS",
          "time": "2027-01-01"
         },
         {
          "income": "15775.559782372811",
          "regions": "USA",
          "time": "2028-01-01"
         },
         {
          "income": "1250.2954709348132",
          "regions": "CAN",
          "time": "2028-01-01"
         },
         {
          "income": "17177.81240430617",
          "regions": "WEU",
          "time": "2028-01-01"
         },
         {
          "income": "12024.752207218393",
          "regions": "JPK",
          "time": "2028-01-01"
         },
         {
          "income": "1034.39602915509",
          "regions": "ANZ",
          "time": "2028-01-01"
         },
         {
          "income": "953.4682340217465",
          "regions": "EEU",
          "time": "2028-01-01"
         },
         {
          "income": "1334.938498321423",
          "regions": "FSU",
          "time": "2028-01-01"
         },
         {
          "income": "1901.2444362345475",
          "regions": "MDE",
          "time": "2028-01-01"
         },
         {
          "income": "1026.5124614270426",
          "regions": "CAM",
          "time": "2028-01-01"
         },
         {
          "income": "3572.945919768567",
          "regions": "LAM",
          "time": "2028-01-01"
         },
         {
          "income": "1737.4346554375184",
          "regions": "SAS",
          "time": "2028-01-01"
         },
         {
          "income": "2361.678589391541",
          "regions": "SEA",
          "time": "2028-01-01"
         },
         {
          "income": "3663.7935395422705",
          "regions": "CHI",
          "time": "2028-01-01"
         },
         {
          "income": "592.3661800727208",
          "regions": "MAF",
          "time": "2028-01-01"
         },
         {
          "income": "1049.8821170862275",
          "regions": "SSA",
          "time": "2028-01-01"
         },
         {
          "income": "131.25642039662551",
          "regions": "SIS",
          "time": "2028-01-01"
         },
         {
          "income": "16024.475715232904",
          "regions": "USA",
          "time": "2029-01-01"
         },
         {
          "income": "1270.0845402880889",
          "regions": "CAN",
          "time": "2029-01-01"
         },
         {
          "income": "17446.410703989746",
          "regions": "WEU",
          "time": "2029-01-01"
         },
         {
          "income": "12248.268773015558",
          "regions": "JPK",
          "time": "2029-01-01"
         },
         {
          "income": "1053.5916201179084",
          "regions": "ANZ",
          "time": "2029-01-01"
         },
         {
          "income": "983.8147361847753",
          "regions": "EEU",
          "time": "2029-01-01"
         },
         {
          "income": "1377.1957174132629",
          "regions": "FSU",
          "time": "2029-01-01"
         },
         {
          "income": "1969.7986294943998",
          "regions": "MDE",
          "time": "2029-01-01"
         },
         {
          "income": "1057.4045279845207",
          "regions": "CAM",
          "time": "2029-01-01"
         },
         {
          "income": "3679.6241612778917",
          "regions": "LAM",
          "time": "2029-01-01"
         },
         {
          "income": "1794.1253187523441",
          "regions": "SAS",
          "time": "2029-01-01"
         },
         {
          "income": "2438.528692020938",
          "regions": "SEA",
          "time": "2029-01-01"
         },
         {
          "income": "3786.3253144304613",
          "regions": "CHI",
          "time": "2029-01-01"
         },
         {
          "income": "614.7237670415188",
          "regions": "MAF",
          "time": "2029-01-01"
         },
         {
          "income": "1089.6851892301606",
          "regions": "SSA",
          "time": "2029-01-01"
         },
         {
          "income": "135.21516099685314",
          "regions": "SIS",
          "time": "2029-01-01"
         },
         {
          "income": "16273.450338008544",
          "regions": "USA",
          "time": "2030-01-01"
         },
         {
          "income": "1289.8811694752828",
          "regions": "CAN",
          "time": "2030-01-01"
         },
         {
          "income": "17714.990203054123",
          "regions": "WEU",
          "time": "2030-01-01"
         },
         {
          "income": "12470.509964100871",
          "regions": "JPK",
          "time": "2030-01-01"
         },
         {
          "income": "1072.6762059058408",
          "regions": "ANZ",
          "time": "2030-01-01"
         },
         {
          "income": "1014.5134517494829",
          "regions": "EEU",
          "time": "2030-01-01"
         },
         {
          "income": "1419.920627729238",
          "regions": "FSU",
          "time": "2030-01-01"
         },
         {
          "income": "2039.794762036657",
          "regions": "MDE",
          "time": "2030-01-01"
         },
         {
          "income": "1088.944382138351",
          "regions": "CAM",
          "time": "2030-01-01"
         },
         {
          "income": "3788.504392066335",
          "regions": "LAM",
          "time": "2030-01-01"
         },
         {
          "income": "1852.186959144086",
          "regions": "SAS",
          "time": "2030-01-01"
         },
         {
          "income": "2517.2242632063126",
          "regions": "SEA",
          "time": "2030-01-01"
         },
         {
          "income": "3911.92323717447",
          "regions": "CHI",
          "time": "2030-01-01"
         },
         {
          "income": "637.5992655864823",
          "regions": "MAF",
          "time": "2030-01-01"
         },
         {
          "income": "1130.424753293915",
          "regions": "SSA",
          "time": "2030-01-01"
         },
         {
          "income": "139.25738749908078",
          "regions": "SIS",
          "time": "2030-01-01"
         },
         {
          "income": "16522.363992110993",
          "regions": "USA",
          "time": "2031-01-01"
         },
         {
          "income": "1309.6759351745704",
          "regions": "CAN",
          "time": "2031-01-01"
         },
         {
          "income": "17983.597116451056",
          "regions": "WEU",
          "time": "2031-01-01"
         },
         {
          "income": "12691.381039785743",
          "regions": "JPK",
          "time": "2031-01-01"
         },
         {
          "income": "1091.6416401216898",
          "regions": "ANZ",
          "time": "2031-01-01"
         },
         {
          "income": "1045.5271603187014",
          "regions": "EEU",
          "time": "2031-01-01"
         },
         {
          "income": "1463.059659751057",
          "regions": "FSU",
          "time": "2031-01-01"
         },
         {
          "income": "2111.1907484732797",
          "regions": "MDE",
          "time": "2031-01-01"
         },
         {
          "income": "1121.1236499752724",
          "regions": "CAM",
          "time": "2031-01-01"
         },
         {
          "income": "3899.55595146962",
          "regions": "LAM",
          "time": "2031-01-01"
         },
         {
          "income": "1911.6144538034935",
          "regions": "SAS",
          "time": "2031-01-01"
         },
         {
          "income": "2597.7573878707312",
          "regions": "SEA",
          "time": "2031-01-01"
         },
         {
          "income": "4040.581056004994",
          "regions": "CHI",
          "time": "2031-01-01"
         },
         {
          "income": "660.9813743309721",
          "regions": "MAF",
          "time": "2031-01-01"
         },
         {
          "income": "1172.081947258878",
          "regions": "SSA",
          "time": "2031-01-01"
         },
         {
          "income": "143.38206487438916",
          "regions": "SIS",
          "time": "2031-01-01"
         },
         {
          "income": "16771.93369847256",
          "regions": "USA",
          "time": "2032-01-01"
         },
         {
          "income": "1329.5257405337175",
          "regions": "CAN",
          "time": "2032-01-01"
         },
         {
          "income": "18253.019008721792",
          "regions": "WEU",
          "time": "2032-01-01"
         },
         {
          "income": "12913.887089305035",
          "regions": "JPK",
          "time": "2032-01-01"
         },
         {
          "income": "1110.7463996754138",
          "regions": "ANZ",
          "time": "2032-01-01"
         },
         {
          "income": "1076.8802293197712",
          "regions": "EEU",
          "time": "2032-01-01"
         },
         {
          "income": "1506.6453575145747",
          "regions": "FSU",
          "time": "2032-01-01"
         },
         {
          "income": "2184.500815504308",
          "regions": "MDE",
          "time": "2032-01-01"
         },
         {
          "income": "1154.2306028323342",
          "regions": "CAM",
          "time": "2032-01-01"
         },
         {
          "income": "4013.7798047724036",
          "regions": "LAM",
          "time": "2032-01-01"
         },
         {
          "income": "1972.9084109701469",
          "regions": "SAS",
          "time": "2032-01-01"
         },
         {
          "income": "2680.8073075304897",
          "regions": "SEA",
          "time": "2032-01-01"
         },
         {
          "income": "4173.367071472352",
          "regions": "CHI",
          "time": "2032-01-01"
         },
         {
          "income": "685.0326886377148",
          "regions": "MAF",
          "time": "2032-01-01"
         },
         {
          "income": "1214.946385842083",
          "regions": "SSA",
          "time": "2032-01-01"
         },
         {
          "income": "147.62610002215482",
          "regions": "SIS",
          "time": "2032-01-01"
         },
         {
          "income": "17022.073567711206",
          "regions": "USA",
          "time": "2033-01-01"
         },
         {
          "income": "1349.4238551996848",
          "regions": "CAN",
          "time": "2033-01-01"
         },
         {
          "income": "18522.98676266588",
          "regions": "WEU",
          "time": "2033-01-01"
         },
         {
          "income": "13137.847513326748",
          "regions": "JPK",
          "time": "2033-01-01"
         },
         {
          "income": "1129.9749395369865",
          "regions": "ANZ",
          "time": "2033-01-01"
         },
         {
          "income": "1108.557228942485",
          "regions": "EEU",
          "time": "2033-01-01"
         },
         {
          "income": "1550.6545002294542",
          "regions": "FSU",
          "time": "2033-01-01"
         },
         {
          "income": "2259.7731302896927",
          "regions": "MDE",
          "time": "2033-01-01"
         },
         {
          "income": "1188.3027638766575",
          "regions": "CAM",
          "time": "2033-01-01"
         },
         {
          "income": "4131.304244239395",
          "regions": "LAM",
          "time": "2033-01-01"
         },
         {
          "income": "2036.1458118142418",
          "regions": "SAS",
          "time": "2033-01-01"
         },
         {
          "income": "2766.4773865602697",
          "regions": "SEA",
          "time": "2033-01-01"
         },
         {
          "income": "4310.450856590828",
          "regions": "CHI",
          "time": "2033-01-01"
         },
         {
          "income": "709.770801340762",
          "regions": "MAF",
          "time": "2033-01-01"
         },
         {
          "income": "1259.0507538481609",
          "regions": "SSA",
          "time": "2033-01-01"
         },
         {
          "income": "151.99433795962753",
          "regions": "SIS",
          "time": "2033-01-01"
         },
         {
          "income": "17272.52572872305",
          "regions": "USA",
          "time": "2034-01-01"
         },
         {
          "income": "1369.3499102738147",
          "regions": "CAN",
          "time": "2034-01-01"
         },
         {
          "income": "18793.589117211828",
          "regions": "WEU",
          "time": "2034-01-01"
         },
         {
          "income": "13363.334400386582",
          "regions": "JPK",
          "time": "2034-01-01"
         },
         {
          "income": "1149.3334420571712",
          "regions": "ANZ",
          "time": "2034-01-01"
         },
         {
          "income": "1140.5204597426848",
          "regions": "EEU",
          "time": "2034-01-01"
         },
         {
          "income": "1595.0326839191894",
          "regions": "FSU",
          "time": "2034-01-01"
         },
         {
          "income": "2337.012487539274",
          "regions": "MDE",
          "time": "2034-01-01"
         },
         {
          "income": "1223.3558128135096",
          "regions": "CAM",
          "time": "2034-01-01"
         },
         {
          "income": "4252.181566665826",
          "regions": "LAM",
          "time": "2034-01-01"
         },
         {
          "income": "2101.366776966483",
          "regions": "SAS",
          "time": "2034-01-01"
         },
         {
          "income": "2854.8208614310674",
          "regions": "SEA",
          "time": "2034-01-01"
         },
         {
          "income": "4451.924644263792",
          "regions": "CHI",
          "time": "2034-01-01"
         },
         {
          "income": "735.1997225300522",
          "regions": "MAF",
          "time": "2034-01-01"
         },
         {
          "income": "1304.4037070520383",
          "regions": "SSA",
          "time": "2034-01-01"
         },
         {
          "income": "156.4888330289618",
          "regions": "SIS",
          "time": "2034-01-01"
         },
         {
          "income": "17523.366138705784",
          "regions": "USA",
          "time": "2035-01-01"
         },
         {
          "income": "1389.310000192644",
          "regions": "CAN",
          "time": "2035-01-01"
         },
         {
          "income": "19064.54790439375",
          "regions": "WEU",
          "time": "2035-01-01"
         },
         {
          "income": "13590.158989380696",
          "regions": "JPK",
          "time": "2035-01-01"
         },
         {
          "income": "1168.8056542342567",
          "regions": "ANZ",
          "time": "2035-01-01"
         },
         {
          "income": "1172.75244790812",
          "regions": "EEU",
          "time": "2035-01-01"
         },
         {
          "income": "1639.7537736991758",
          "regions": "FSU",
          "time": "2035-01-01"
         },
         {
          "income": "2416.26709910162",
          "regions": "MDE",
          "time": "2035-01-01"
         },
         {
          "income": "1259.4293846756416",
          "regions": "CAM",
          "time": "2035-01-01"
         },
         {
          "income": "4376.547298465907",
          "regions": "LAM",
          "time": "2035-01-01"
         },
         {
          "income": "2168.6529977513364",
          "regions": "SAS",
          "time": "2035-01-01"
         },
         {
          "income": "2945.947388507594",
          "regions": "SEA",
          "time": "2035-01-01"
         },
         {
          "income": "4597.96843919158",
          "regions": "CHI",
          "time": "2035-01-01"
         },
         {
          "income": "761.3371220661636",
          "regions": "MAF",
          "time": "2035-01-01"
         },
         {
          "income": "1351.0382096741746",
          "regions": "SSA",
          "time": "2035-01-01"
         },
         {
          "income": "161.11470668921197",
          "regions": "SIS",
          "time": "2035-01-01"
         },
         {
          "income": "17774.503887356666",
          "regions": "USA",
          "time": "2036-01-01"
         },
         {
          "income": "1409.2969900987941",
          "regions": "CAN",
          "time": "2036-01-01"
         },
         {
          "income": "19335.953763292815",
          "regions": "WEU",
          "time": "2036-01-01"
         },
         {
          "income": "13818.39420737555",
          "regions": "JPK",
          "time": "2036-01-01"
         },
         {
          "income": "1188.3978306755207",
          "regions": "ANZ",
          "time": "2036-01-01"
         },
         {
          "income": "1205.2122368933315",
          "regions": "EEU",
          "time": "2036-01-01"
         },
         {
          "income": "1684.7587783738693",
          "regions": "FSU",
          "time": "2036-01-01"
         },
         {
          "income": "2497.5387174875864",
          "regions": "MDE",
          "time": "2036-01-01"
         },
         {
          "income": "1296.5399689536878",
          "regions": "CAM",
          "time": "2036-01-01"
         },
         {
          "income": "4504.456468248295",
          "regions": "LAM",
          "time": "2036-01-01"
         },
         {
          "income": "2238.0469435283803",
          "regions": "SAS",
          "time": "2036-01-01"
         },
         {
          "income": "3039.9132768193026",
          "regions": "SEA",
          "time": "2036-01-01"
         },
         {
          "income": "4748.6797418046135",
          "regions": "CHI",
          "time": "2036-01-01"
         },
         {
          "income": "788.1860777686802",
          "regions": "MAF",
          "time": "2036-01-01"
         },
         {
          "income": "1398.961414795322",
          "regions": "SSA",
          "time": "2036-01-01"
         },
         {
          "income": "165.87412274584142",
          "regions": "SIS",
          "time": "2036-01-01"
         },
         {
          "income": "18025.84649879467",
          "regions": "USA",
          "time": "2037-01-01"
         },
         {
          "income": "1429.3036199012256",
          "regions": "CAN",
          "time": "2037-01-01"
         },
         {
          "income": "19607.71306765577",
          "regions": "WEU",
          "time": "2037-01-01"
         },
         {
          "income": "14047.981695090177",
          "regions": "JPK",
          "time": "2037-01-01"
         },
         {
          "income": "1208.1049342678275",
          "regions": "ANZ",
          "time": "2037-01-01"
         },
         {
          "income": "1237.8683698313903",
          "regions": "EEU",
          "time": "2037-01-01"
         },
         {
          "income": "1730.0019805460013",
          "regions": "FSU",
          "time": "2037-01-01"
         },
         {
          "income": "2580.8502560841903",
          "regions": "MDE",
          "time": "2037-01-01"
         },
         {
          "income": "1334.7164046575767",
          "regions": "CAM",
          "time": "2037-01-01"
         },
         {
          "income": "4636.006989076945",
          "regions": "LAM",
          "time": "2037-01-01"
         },
         {
          "income": "2309.6127925636692",
          "regions": "SAS",
          "time": "2037-01-01"
         },
         {
          "income": "3136.8042648782625",
          "regions": "SEA",
          "time": "2037-01-01"
         },
         {
          "income": "4904.201982159608",
          "regions": "CHI",
          "time": "2037-01-01"
         },
         {
          "income": "815.7563254949462",
          "regions": "MAF",
          "time": "2037-01-01"
         },
         {
          "income": "1448.1923689516923",
          "regions": "SSA",
          "time": "2037-01-01"
         },
         {
          "income": "170.77082787440264",
          "regions": "SIS",
          "time": "2037-01-01"
         },
         {
          "income": "18277.299985627375",
          "regions": "USA",
          "time": "2038-01-01"
         },
         {
          "income": "1449.322508308904",
          "regions": "CAN",
          "time": "2038-01-01"
         },
         {
          "income": "19879.53446775444",
          "regions": "WEU",
          "time": "2038-01-01"
         },
         {
          "income": "14278.7204750073",
          "regions": "JPK",
          "time": "2038-01-01"
         },
         {
          "income": "1227.9096639459024",
          "regions": "ANZ",
          "time": "2038-01-01"
         },
         {
          "income": "1270.700529759121",
          "regions": "EEU",
          "time": "2038-01-01"
         },
         {
          "income": "1775.4532196262517",
          "regions": "FSU",
          "time": "2038-01-01"
         },
         {
          "income": "2666.249697710699",
          "regions": "MDE",
          "time": "2038-01-01"
         },
         {
          "income": "1374.0017130942579",
          "regions": "CAM",
          "time": "2038-01-01"
         },
         {
          "income": "4771.3459787861475",
          "regions": "LAM",
          "time": "2038-01-01"
         },
         {
          "income": "2383.4398776265093",
          "regions": "SAS",
          "time": "2038-01-01"
         },
         {
          "income": "3236.7401850963292",
          "regions": "SEA",
          "time": "2038-01-01"
         },
         {
          "income": "5064.731954911741",
          "regions": "CHI",
          "time": "2038-01-01"
         },
         {
          "income": "844.0655518091294",
          "regions": "MAF",
          "time": "2038-01-01"
         },
         {
          "income": "1498.7643202998997",
          "regions": "SSA",
          "time": "2038-01-01"
         },
         {
          "income": "175.8103868084323",
          "regions": "SIS",
          "time": "2038-01-01"
         },
         {
          "income": "18528.586116725437",
          "regions": "USA",
          "time": "2039-01-01"
         },
         {
          "income": "1469.3316619222355",
          "regions": "CAN",
          "time": "2039-01-01"
         },
         {
          "income": "20151.511809242413",
          "regions": "WEU",
          "time": "2039-01-01"
         },
         {
          "income": "14510.684944166724",
          "regions": "JPK",
          "time": "2039-01-01"
         },
         {
          "income": "1247.818401035785",
          "regions": "ANZ",
          "time": "2039-01-01"
         },
         {
          "income": "1303.6630880519706",
          "regions": "EEU",
          "time": "2039-01-01"
         },
         {
          "income": "1821.0469571561346",
          "regions": "FSU",
          "time": "2039-01-01"
         },
         {
          "income": "2753.733628344055",
          "regions": "MDE",
          "time": "2039-01-01"
         },
         {
          "income": "1414.4136512275752",
          "regions": "CAM",
          "time": "2039-01-01"
         },
         {
          "income": "4910.532760402642",
          "regions": "LAM",
          "time": "2039-01-01"
         },
         {
          "income": "2459.5743963442997",
          "regions": "SAS",
          "time": "2039-01-01"
         },
         {
          "income": "3339.782217053904",
          "regions": "SEA",
          "time": "2039-01-01"
         },
         {
          "income": "5230.37549062612",
          "regions": "CHI",
          "time": "2039-01-01"
         },
         {
          "income": "873.1152108620037",
          "regions": "MAF",
          "time": "2039-01-01"
         },
         {
          "income": "1550.681786617958",
          "regions": "SSA",
          "time": "2039-01-01"
         },
         {
          "income": "180.99513535644485",
          "regions": "SIS",
          "time": "2039-01-01"
         },
         {
          "income": "18779.78582095871",
          "regions": "USA",
          "time": "2040-01-01"
         },
         {
          "income": "1489.3375658778232",
          "regions": "CAN",
          "time": "2040-01-01"
         },
         {
          "income": "20423.345171918725",
          "regions": "WEU",
          "time": "2040-01-01"
         },
         {
          "income": "14743.66597041373",
          "regions": "JPK",
          "time": "2040-01-01"
         },
         {
          "income": "1267.8131446684872",
          "regions": "ANZ",
          "time": "2040-01-01"
         },
         {
          "income": "1336.7340351924342",
          "regions": "EEU",
          "time": "2040-01-01"
         },
         {
          "income": "1866.7506576911935",
          "regions": "FSU",
          "time": "2040-01-01"
         },
         {
          "income": "2843.349708666173",
          "regions": "MDE",
          "time": "2040-01-01"
         },
         {
          "income": "1455.9976604124358",
          "regions": "CAM",
          "time": "2040-01-01"
         },
         {
          "income": "5053.722746997529",
          "regions": "LAM",
          "time": "2040-01-01"
         },
         {
          "income": "2538.111174219236",
          "regions": "SAS",
          "time": "2040-01-01"
         },
         {
          "income": "3446.0575060647416",
          "regions": "SEA",
          "time": "2040-01-01"
         },
         {
          "income": "5401.3414427179905",
          "regions": "CHI",
          "time": "2040-01-01"
         },
         {
          "income": "902.9229343825564",
          "regions": "MAF",
          "time": "2040-01-01"
         },
         {
          "income": "1603.9781002870204",
          "regions": "SSA",
          "time": "2040-01-01"
         },
         {
          "income": "186.33095543244235",
          "regions": "SIS",
          "time": "2040-01-01"
         },
         {
          "income": "19030.800898959536",
          "regions": "USA",
          "time": "2041-01-01"
         },
         {
          "income": "1509.3324990685514",
          "regions": "CAN",
          "time": "2041-01-01"
         },
         {
          "income": "20695.130838137396",
          "regions": "WEU",
          "time": "2041-01-01"
         },
         {
          "income": "14977.739066968796",
          "regions": "JPK",
          "time": "2041-01-01"
         },
         {
          "income": "1287.9003721897516",
          "regions": "ANZ",
          "time": "2041-01-01"
         },
         {
          "income": "1369.8648354055963",
          "regions": "EEU",
          "time": "2041-01-01"
         },
         {
          "income": "1912.4947511909954",
          "regions": "FSU",
          "time": "2041-01-01"
         },
         {
          "income": "2935.0907052945668",
          "regions": "MDE",
          "time": "2041-01-01"
         },
         {
          "income": "1498.7724043768962",
          "regions": "CAM",
          "time": "2041-01-01"
         },
         {
          "income": "5200.97834574788",
          "regions": "LAM",
          "time": "2041-01-01"
         },
         {
          "income": "2619.0990909666325",
          "regions": "SAS",
          "time": "2041-01-01"
         },
         {
          "income": "3555.6307400010746",
          "regions": "SEA",
          "time": "2041-01-01"
         },
         {
          "income": "5577.74162525435",
          "regions": "CHI",
          "time": "2041-01-01"
         },
         {
          "income": "933.4889641799023",
          "regions": "MAF",
          "time": "2041-01-01"
         },
         {
          "income": "1658.6557920661107",
          "regions": "SSA",
          "time": "2041-01-01"
         },
         {
          "income": "191.82030623278607",
          "regions": "SIS",
          "time": "2041-01-01"
         },
         {
          "income": "19280.567792018453",
          "regions": "USA",
          "time": "2042-01-01"
         },
         {
          "income": "1529.232170328052",
          "regions": "CAN",
          "time": "2042-01-01"
         },
         {
          "income": "20965.719227410904",
          "regions": "WEU",
          "time": "2042-01-01"
         },
         {
          "income": "15210.560931203108",
          "regions": "JPK",
          "time": "2042-01-01"
         },
         {
          "income": "1307.878577635306",
          "regions": "ANZ",
          "time": "2042-01-01"
         },
         {
          "income": "1402.9481413628685",
          "regions": "EEU",
          "time": "2042-01-01"
         },
         {
          "income": "1958.1276300440031",
          "regions": "FSU",
          "time": "2042-01-01"
         },
         {
          "income": "3028.9742206962283",
          "regions": "MDE",
          "time": "2042-01-01"
         },
         {
          "income": "1542.387039904091",
          "regions": "CAM",
          "time": "2042-01-01"
         },
         {
          "income": "5351.080016504072",
          "regions": "LAM",
          "time": "2042-01-01"
         },
         {
          "income": "2701.941785676963",
          "regions": "SAS",
          "time": "2042-01-01"
         },
         {
          "income": "3667.6906841039813",
          "regions": "SEA",
          "time": "2042-01-01"
         },
         {
          "income": "5758.879931550894",
          "regions": "CHI",
          "time": "2042-01-01"
         },
         {
          "income": "964.8214122396995",
          "regions": "MAF",
          "time": "2042-01-01"
         },
         {
          "income": "1714.7314488301076",
          "regions": "SSA",
          "time": "2042-01-01"
         },
         {
          "income": "197.41835524790739",
          "regions": "SIS",
          "time": "2042-01-01"
         },
         {
          "income": "19528.948294494592",
          "regions": "USA",
          "time": "2043-01-01"
         },
         {
          "income": "1549.0256638129508",
          "regions": "CAN",
          "time": "2043-01-01"
         },
         {
          "income": "21234.757449701337",
          "regions": "WEU",
          "time": "2043-01-01"
         },
         {
          "income": "15441.805057735808",
          "regions": "JPK",
          "time": "2043-01-01"
         },
         {
          "income": "1327.7196846788252",
          "regions": "ANZ",
          "time": "2043-01-01"
         },
         {
          "income": "1435.9548302171079",
          "regions": "EEU",
          "time": "2043-01-01"
         },
         {
          "income": "2003.6069712223557",
          "regions": "FSU",
          "time": "2043-01-01"
         },
         {
          "income": "3125.0471122315084",
          "regions": "MDE",
          "time": "2043-01-01"
         },
         {
          "income": "1586.8572686406799",
          "regions": "CAM",
          "time": "2043-01-01"
         },
         {
          "income": "5504.080811496872",
          "regions": "LAM",
          "time": "2043-01-01"
         },
         {
          "income": "2786.679063836094",
          "regions": "SAS",
          "time": "2043-01-01"
         },
         {
          "income": "3782.289914866091",
          "regions": "SEA",
          "time": "2043-01-01"
         },
         {
          "income": "5944.900573651382",
          "regions": "CHI",
          "time": "2043-01-01"
         },
         {
          "income": "996.9377282087091",
          "regions": "MAF",
          "time": "2043-01-01"
         },
         {
          "income": "1772.2383446900458",
          "regions": "SSA",
          "time": "2043-01-01"
         },
         {
          "income": "203.12717607659454",
          "regions": "SIS",
          "time": "2043-01-01"
         },
         {
          "income": "19775.608096289812",
          "regions": "USA",
          "time": "2044-01-01"
         },
         {
          "income": "1568.6865068950926",
          "regions": "CAN",
          "time": "2044-01-01"
         },
         {
          "income": "21502.30557646164",
          "regions": "WEU",
          "time": "2044-01-01"
         },
         {
          "income": "15671.44399418284",
          "regions": "JPK",
          "time": "2044-01-01"
         },
         {
          "income": "1347.4213375931015",
          "regions": "ANZ",
          "time": "2044-01-01"
         },
         {
          "income": "1468.8274681600544",
          "regions": "EEU",
          "time": "2044-01-01"
         },
         {
          "income": "2048.8509804154696",
          "regions": "FSU",
          "time": "2044-01-01"
         },
         {
          "income": "3223.2957844249618",
          "regions": "MDE",
          "time": "2044-01-01"
         },
         {
          "income": "1632.1679786382574",
          "regions": "CAM",
          "time": "2044-01-01"
         },
         {
          "income": "5659.926947771318",
          "regions": "LAM",
          "time": "2044-01-01"
         },
         {
          "income": "2873.296849575165",
          "regions": "SAS",
          "time": "2044-01-01"
         },
         {
          "income": "3899.4078190209643",
          "regions": "SEA",
          "time": "2044-01-01"
         },
         {
          "income": "6135.835929022993",
          "regions": "CHI",
          "time": "2044-01-01"
         },
         {
          "income": "1029.836104634424",
          "regions": "MAF",
          "time": "2044-01-01"
         },
         {
          "income": "1831.1756236419478",
          "regions": "SSA",
          "time": "2044-01-01"
         },
         {
          "income": "208.94490186589323",
          "regions": "SIS",
          "time": "2044-01-01"
         },
         {
          "income": "20020.59779270165",
          "regions": "USA",
          "time": "2045-01-01"
         },
         {
          "income": "1588.2187541711323",
          "regions": "CAN",
          "time": "2045-01-01"
         },
         {
          "income": "21768.00346622326",
          "regions": "WEU",
          "time": "2045-01-01"
         },
         {
          "income": "15899.14423422019",
          "regions": "JPK",
          "time": "2045-01-01"
         },
         {
          "income": "1366.954867048291",
          "regions": "ANZ",
          "time": "2045-01-01"
         },
         {
          "income": "1501.5358713627118",
          "regions": "EEU",
          "time": "2045-01-01"
         },
         {
          "income": "2093.815934184314",
          "regions": "FSU",
          "time": "2045-01-01"
         },
         {
          "income": "3323.7663843243286",
          "regions": "MDE",
          "time": "2045-01-01"
         },
         {
          "income": "1678.3343499321713",
          "regions": "CAM",
          "time": "2045-01-01"
         },
         {
          "income": "5818.669788928744",
          "regions": "LAM",
          "time": "2045-01-01"
         },
         {
          "income": "2961.8343191947192",
          "regions": "SAS",
          "time": "2045-01-01"
         },
         {
          "income": "4019.096033838977",
          "regions": "SEA",
          "time": "2045-01-01"
         },
         {
          "income": "6331.834045582986",
          "regions": "CHI",
          "time": "2045-01-01"
         },
         {
          "income": "1063.5337853698113",
          "regions": "MAF",
          "time": "2045-01-01"
         },
         {
          "income": "1891.5763945677406",
          "regions": "SSA",
          "time": "2045-01-01"
         },
         {
          "income": "214.87354569798006",
          "regions": "SIS",
          "time": "2045-01-01"
         },
         {
          "income": "20263.777016580196",
          "regions": "USA",
          "time": "2046-01-01"
         },
         {
          "income": "1607.611310054112",
          "regions": "CAN",
          "time": "2046-01-01"
         },
         {
          "income": "22031.91490879244",
          "regions": "WEU",
          "time": "2046-01-01"
         },
         {
          "income": "16124.880953770948",
          "regions": "JPK",
          "time": "2046-01-01"
         },
         {
          "income": "1386.318146375239",
          "regions": "ANZ",
          "time": "2046-01-01"
         },
         {
          "income": "1534.0204053157297",
          "regions": "EEU",
          "time": "2046-01-01"
         },
         {
          "income": "2138.41708824908",
          "regions": "FSU",
          "time": "2046-01-01"
         },
         {
          "income": "3426.4406871246965",
          "regions": "MDE",
          "time": "2046-01-01"
         },
         {
          "income": "1725.3389385680669",
          "regions": "CAM",
          "time": "2046-01-01"
         },
         {
          "income": "5980.247658854422",
          "regions": "LAM",
          "time": "2046-01-01"
         },
         {
          "income": "3052.2732562031943",
          "regions": "SAS",
          "time": "2046-01-01"
         },
         {
          "income": "4141.328283565182",
          "regions": "SEA",
          "time": "2046-01-01"
         },
         {
          "income": "6532.923646889224",
          "regions": "CHI",
          "time": "2046-01-01"
         },
         {
          "income": "1098.0274403047483",
          "regions": "MAF",
          "time": "2046-01-01"
         },
         {
          "income": "1953.4372810532889",
          "regions": "SSA",
          "time": "2046-01-01"
         },
         {
          "income": "220.9109466597849",
          "regions": "SIS",
          "time": "2046-01-01"
         },
         {
          "income": "20505.00490388964",
          "regions": "USA",
          "time": "2047-01-01"
         },
         {
          "income": "1626.8530357101085",
          "regions": "CAN",
          "time": "2047-01-01"
         },
         {
          "income": "22293.893323208693",
          "regions": "WEU",
          "time": "2047-01-01"
         },
         {
          "income": "16348.476123730825",
          "regions": "JPK",
          "time": "2047-01-01"
         },
         {
          "income": "1405.49587754788",
          "regions": "ANZ",
          "time": "2047-01-01"
         },
         {
          "income": "1566.2348501016315",
          "regions": "EEU",
          "time": "2047-01-01"
         },
         {
          "income": "2182.5884825031803",
          "regions": "FSU",
          "time": "2047-01-01"
         },
         {
          "income": "3531.3294827439227",
          "regions": "MDE",
          "time": "2047-01-01"
         },
         {
          "income": "1773.1790198993551",
          "regions": "CAM",
          "time": "2047-01-01"
         },
         {
          "income": "6144.650030938807",
          "regions": "LAM",
          "time": "2047-01-01"
         },
         {
          "income": "3144.6213005130962",
          "regions": "SAS",
          "time": "2047-01-01"
         },
         {
          "income": "4266.113364626454",
          "regions": "SEA",
          "time": "2047-01-01"
         },
         {
          "income": "6739.191017236221",
          "regions": "CHI",
          "time": "2047-01-01"
         },
         {
          "income": "1133.3229753737949",
          "regions": "MAF",
          "time": "2047-01-01"
         },
         {
          "income": "2016.7714245569553",
          "regions": "SSA",
          "time": "2047-01-01"
         },
         {
          "income": "227.05683037852575",
          "regions": "SIS",
          "time": "2047-01-01"
         },
         {
          "income": "20744.14023561717",
          "regions": "USA",
          "time": "2048-01-01"
         },
         {
          "income": "1645.9327599429348",
          "regions": "CAN",
          "time": "2048-01-01"
         },
         {
          "income": "22553.568722400243",
          "regions": "WEU",
          "time": "2048-01-01"
         },
         {
          "income": "16569.587488128138",
          "regions": "JPK",
          "time": "2048-01-01"
         },
         {
          "income": "1424.458646385209",
          "regions": "ANZ",
          "time": "2048-01-01"
         },
         {
          "income": "1598.1481248790856",
          "regions": "EEU",
          "time": "2048-01-01"
         },
         {
          "income": "2226.2853262110953",
          "regions": "FSU",
          "time": "2048-01-01"
         },
         {
          "income": "3638.477527665142",
          "regions": "MDE",
          "time": "2048-01-01"
         },
         {
          "income": "1821.8688659129598",
          "regions": "CAM",
          "time": "2048-01-01"
         },
         {
          "income": "6311.925364125821",
          "regions": "LAM",
          "time": "2048-01-01"
         },
         {
          "income": "3238.9163189682863",
          "regions": "SAS",
          "time": "2048-01-01"
         },
         {
          "income": "4393.501056290057",
          "regions": "SEA",
          "time": "2048-01-01"
         },
         {
          "income": "6950.789704914034",
          "regions": "CHI",
          "time": "2048-01-01"
         },
         {
          "income": "1169.4371992400172",
          "regions": "MAF",
          "time": "2048-01-01"
         },
         {
          "income": "2081.6114710402167",
          "regions": "SSA",
          "time": "2048-01-01"
         },
         {
          "income": "233.31310158736724",
          "regions": "SIS",
          "time": "2048-01-01"
         },
         {
          "income": "20980.834204000927",
          "regions": "USA",
          "time": "2049-01-01"
         },
         {
          "income": "1664.8228351935802",
          "regions": "CAN",
          "time": "2049-01-01"
         },
         {
          "income": "22811.011331819773",
          "regions": "WEU",
          "time": "2049-01-01"
         },
         {
          "income": "16788.195716352806",
          "regions": "JPK",
          "time": "2049-01-01"
         },
         {
          "income": "1443.204803065805",
          "regions": "ANZ",
          "time": "2049-01-01"
         },
         {
          "income": "1629.6980452755095",
          "regions": "EEU",
          "time": "2049-01-01"
         },
         {
          "income": "2269.4195722464465",
          "regions": "FSU",
          "time": "2049-01-01"
         },
         {
          "income": "3747.8590043250097",
          "regions": "MDE",
          "time": "2049-01-01"
         },
         {
          "income": "1871.3873085480311",
          "regions": "CAM",
          "time": "2049-01-01"
         },
         {
          "income": "6481.999417198316",
          "regions": "LAM",
          "time": "2049-01-01"
         },
         {
          "income": "3335.133325856955",
          "regions": "SAS",
          "time": "2049-01-01"
         },
         {
          "income": "4523.455852988829",
          "regions": "SEA",
          "time": "2049-01-01"
         },
         {
          "income": "7167.741982957425",
          "regions": "CHI",
          "time": "2049-01-01"
         },
         {
          "income": "1206.3642545213322",
          "regions": "MAF",
          "time": "2049-01-01"
         },
         {
          "income": "2147.9498311307366",
          "regions": "SSA",
          "time": "2049-01-01"
         },
         {
          "income": "239.67712936479919",
          "regions": "SIS",
          "time": "2049-01-01"
         },
         {
          "income": "21215.147968245732",
          "regions": "USA",
          "time": "2050-01-01"
         },
         {
          "income": "1683.5281382734647",
          "regions": "CAN",
          "time": "2050-01-01"
         },
         {
          "income": "23065.845408660833",
          "regions": "WEU",
          "time": "2050-01-01"
         },
         {
          "income": "17003.954026099927",
          "regions": "JPK",
          "time": "2050-01-01"
         },
         {
          "income": "1461.704548861252",
          "regions": "ANZ",
          "time": "2050-01-01"
         },
         {
          "income": "1660.8534360583376",
          "regions": "EEU",
          "time": "2050-01-01"
         },
         {
          "income": "2311.9464638736217",
          "regions": "FSU",
          "time": "2050-01-01"
         },
         {
          "income": "3859.5175715841897",
          "regions": "MDE",
          "time": "2050-01-01"
         },
         {
          "income": "1921.7479653445464",
          "regions": "CAM",
          "time": "2050-01-01"
         },
         {
          "income": "6654.918573842143",
          "regions": "LAM",
          "time": "2050-01-01"
         },
         {
          "income": "3433.3091671089833",
          "regions": "SAS",
          "time": "2050-01-01"
         },
         {
          "income": "4656.026106089894",
          "regions": "SEA",
          "time": "2050-01-01"
         },
         {
          "income": "7390.205006610174",
          "regions": "CHI",
          "time": "2050-01-01"
         },
         {
          "income": "1244.1205907047972",
          "regions": "MAF",
          "time": "2050-01-01"
         },
         {
          "income": "2215.8187236036606",
          "regions": "SSA",
          "time": "2050-01-01"
         },
         {
          "income": "246.15074001142762",
          "regions": "SIS",
          "time": "2050-01-01"
         },
         {
          "income": "21446.940156265548",
          "regions": "USA",
          "time": "2051-01-01"
         },
         {
          "income": "1702.0374706435966",
          "regions": "CAN",
          "time": "2051-01-01"
         },
         {
          "income": "23318.14617807479",
          "regions": "WEU",
          "time": "2051-01-01"
         },
         {
          "income": "17216.847872213686",
          "regions": "JPK",
          "time": "2051-01-01"
         },
         {
          "income": "1479.9566479868377",
          "regions": "ANZ",
          "time": "2051-01-01"
         },
         {
          "income": "1691.5509683157816",
          "regions": "EEU",
          "time": "2051-01-01"
         },
         {
          "income": "2353.776604311826",
          "regions": "FSU",
          "time": "2051-01-01"
         },
         {
          "income": "3973.4219686171364",
          "regions": "MDE",
          "time": "2051-01-01"
         },
         {
          "income": "1972.9270661774403",
          "regions": "CAM",
          "time": "2051-01-01"
         },
         {
          "income": "6830.599827951911",
          "regions": "LAM",
          "time": "2051-01-01"
         },
         {
          "income": "3533.4140304064426",
          "regions": "SAS",
          "time": "2051-01-01"
         },
         {
          "income": "4791.169756325042",
          "regions": "SEA",
          "time": "2051-01-01"
         },
         {
          "income": "7618.196253159279",
          "regions": "CHI",
          "time": "2051-01-01"
         },
         {
          "income": "1282.698540468983",
          "regions": "MAF",
          "time": "2051-01-01"
         },
         {
          "income": "2285.2075046705036",
          "regions": "SSA",
          "time": "2051-01-01"
         },
         {
          "income": "252.73097375718478",
          "regions": "SIS",
          "time": "2051-01-01"
         },
         {
          "income": "21681.012671733948",
          "regions": "USA",
          "time": "2052-01-01"
         },
         {
          "income": "1720.7319537783603",
          "regions": "CAN",
          "time": "2052-01-01"
         },
         {
          "income": "23572.907447233345",
          "regions": "WEU",
          "time": "2052-01-01"
         },
         {
          "income": "17432.413971688584",
          "regions": "JPK",
          "time": "2052-01-01"
         },
         {
          "income": "1498.4370335476735",
          "regions": "ANZ",
          "time": "2052-01-01"
         },
         {
          "income": "1722.8435623171706",
          "regions": "EEU",
          "time": "2052-01-01"
         },
         {
          "income": "2396.37341351752",
          "regions": "FSU",
          "time": "2052-01-01"
         },
         {
          "income": "4091.0317533386487",
          "regions": "MDE",
          "time": "2052-01-01"
         },
         {
          "income": "2025.6404935096796",
          "regions": "CAM",
          "time": "2052-01-01"
         },
         {
          "income": "7011.520551572719",
          "regions": "LAM",
          "time": "2052-01-01"
         },
         {
          "income": "3636.743429050875",
          "regions": "SAS",
          "time": "2052-01-01"
         },
         {
          "income": "4930.641629351456",
          "regions": "SEA",
          "time": "2052-01-01"
         },
         {
          "income": "7852.97707942555",
          "regions": "CHI",
          "time": "2052-01-01"
         },
         {
          "income": "1322.571516082752",
          "regions": "MAF",
          "time": "2052-01-01"
         },
         {
          "income": "2356.9629040764307",
          "regions": "SSA",
          "time": "2052-01-01"
         },
         {
          "income": "259.50963068393435",
          "regions": "SIS",
          "time": "2052-01-01"
         },
         {
          "income": "21917.383903961705",
          "regions": "USA",
          "time": "2053-01-01"
         },
         {
          "income": "1739.6131337640027",
          "regions": "CAN",
          "time": "2053-01-01"
         },
         {
          "income": "23830.147719888068",
          "regions": "WEU",
          "time": "2053-01-01"
         },
         {
          "income": "17650.684984680123",
          "regions": "JPK",
          "time": "2053-01-01"
         },
         {
          "income": "1517.1484899751774",
          "regions": "ANZ",
          "time": "2053-01-01"
         },
         {
          "income": "1754.7258310819784",
          "regions": "EEU",
          "time": "2053-01-01"
         },
         {
          "income": "2439.7265758314775",
          "regions": "FSU",
          "time": "2053-01-01"
         },
         {
          "income": "4212.4758827753185",
          "regions": "MDE",
          "time": "2053-01-01"
         },
         {
          "income": "2079.9379759310123",
          "regions": "CAM",
          "time": "2053-01-01"
         },
         {
          "income": "7197.850742640335",
          "regions": "LAM",
          "time": "2053-01-01"
         },
         {
          "income": "3743.408777963968",
          "regions": "SAS",
          "time": "2053-01-01"
         },
         {
          "income": "5074.590439241538",
          "regions": "SEA",
          "time": "2053-01-01"
         },
         {
          "income": "8094.818427463937",
          "regions": "CHI",
          "time": "2053-01-01"
         },
         {
          "income": "1363.785630653376",
          "regions": "MAF",
          "time": "2053-01-01"
         },
         {
          "income": "2431.1710628855776",
          "regions": "SSA",
          "time": "2053-01-01"
         },
         {
          "income": "266.4932027757012",
          "regions": "SIS",
          "time": "2053-01-01"
         },
         {
          "income": "22156.291289671386",
          "regions": "USA",
          "time": "2054-01-01"
         },
         {
          "income": "1758.6999424021085",
          "regions": "CAN",
          "time": "2054-01-01"
         },
         {
          "income": "24089.647179203526",
          "regions": "WEU",
          "time": "2054-01-01"
         },
         {
          "income": "17871.693886554414",
          "regions": "JPK",
          "time": "2054-01-01"
         },
         {
          "income": "1536.0938199152617",
          "regions": "ANZ",
          "time": "2054-01-01"
         },
         {
          "income": "1787.2264276442922",
          "regions": "EEU",
          "time": "2054-01-01"
         },
         {
          "income": "2483.8730218523833",
          "regions": "FSU",
          "time": "2054-01-01"
         },
         {
          "income": "4337.845692253455",
          "regions": "MDE",
          "time": "2054-01-01"
         },
         {
          "income": "2135.850076092294",
          "regions": "CAM",
          "time": "2054-01-01"
         },
         {
          "income": "7389.694079629189",
          "regions": "LAM",
          "time": "2054-01-01"
         },
         {
          "income": "3853.487835700746",
          "regions": "SAS",
          "time": "2054-01-01"
         },
         {
          "income": "5223.119213001297",
          "regions": "SEA",
          "time": "2054-01-01"
         },
         {
          "income": "8343.843780959947",
          "regions": "CHI",
          "time": "2054-01-01"
         },
         {
          "income": "1406.3749663997646",
          "regions": "MAF",
          "time": "2054-01-01"
         },
         {
          "income": "2507.896875092273",
          "regions": "SSA",
          "time": "2054-01-01"
         },
         {
          "income": "273.68572978711506",
          "regions": "SIS",
          "time": "2054-01-01"
         },
         {
          "income": "22397.538977496948",
          "regions": "USA",
          "time": "2055-01-01"
         },
         {
          "income": "1777.9769208156724",
          "regions": "CAN",
          "time": "2055-01-01"
         },
         {
          "income": "24351.657223349568",
          "regions": "WEU",
          "time": "2055-01-01"
         },
         {
          "income": "18095.474018713878",
          "regions": "JPK",
          "time": "2055-01-01"
         },
         {
          "income": "1555.2758562993595",
          "regions": "ANZ",
          "time": "2055-01-01"
         },
         {
          "income": "1820.3397789359499",
          "regions": "EEU",
          "time": "2055-01-01"
         },
         {
          "income": "2528.801989589132",
          "regions": "FSU",
          "time": "2055-01-01"
         },
         {
          "income": "4467.319645984681",
          "regions": "MDE",
          "time": "2055-01-01"
         },
         {
          "income": "2193.449721076545",
          "regions": "CAM",
          "time": "2055-01-01"
         },
         {
          "income": "7587.300825821318",
          "regions": "LAM",
          "time": "2055-01-01"
         },
         {
          "income": "3967.1356190445554",
          "regions": "SAS",
          "time": "2055-01-01"
         },
         {
          "income": "5376.4356031336765",
          "regions": "SEA",
          "time": "2055-01-01"
         },
         {
          "income": "8600.339510307607",
          "regions": "CHI",
          "time": "2055-01-01"
         },
         {
          "income": "1450.4019984731856",
          "regions": "MAF",
          "time": "2055-01-01"
         },
         {
          "income": "2587.2560971880857",
          "regions": "SSA",
          "time": "2055-01-01"
         },
         {
          "income": "281.0966865743894",
          "regions": "SIS",
          "time": "2055-01-01"
         },
         {
          "income": "22641.145568437914",
          "regions": "USA",
          "time": "2056-01-01"
         },
         {
          "income": "1797.4456316316353",
          "regions": "CAN",
          "time": "2056-01-01"
         },
         {
          "income": "24616.19618980318",
          "regions": "WEU",
          "time": "2056-01-01"
         },
         {
          "income": "18322.05909150415",
          "regions": "JPK",
          "time": "2056-01-01"
         },
         {
          "income": "1574.6974632476981",
          "regions": "ANZ",
          "time": "2056-01-01"
         },
         {
          "income": "1854.0956254208834",
          "regions": "EEU",
          "time": "2056-01-01"
         },
         {
          "income": "2574.551683937136",
          "regions": "FSU",
          "time": "2056-01-01"
         },
         {
          "income": "4601.041364169081",
          "regions": "MDE",
          "time": "2056-01-01"
         },
         {
          "income": "2252.7918897870795",
          "regions": "CAM",
          "time": "2056-01-01"
         },
         {
          "income": "7790.859105792766",
          "regions": "LAM",
          "time": "2056-01-01"
         },
         {
          "income": "4084.475999433057",
          "regions": "SAS",
          "time": "2056-01-01"
         },
         {
          "income": "5534.704924546369",
          "regions": "SEA",
          "time": "2056-01-01"
         },
         {
          "income": "8864.435274613148",
          "regions": "CHI",
          "time": "2056-01-01"
         },
         {
          "income": "1495.9181406039531",
          "regions": "MAF",
          "time": "2056-01-01"
         },
         {
          "income": "2669.345036232895",
          "regions": "SSA",
          "time": "2056-01-01"
         },
         {
          "income": "288.7332562346775",
          "regions": "SIS",
          "time": "2056-01-01"
         },
         {
          "income": "22887.129751024393",
          "regions": "USA",
          "time": "2057-01-01"
         },
         {
          "income": "1817.107644506136",
          "regions": "CAN",
          "time": "2057-01-01"
         },
         {
          "income": "24883.282437627044",
          "regions": "WEU",
          "time": "2057-01-01"
         },
         {
          "income": "18551.483189367747",
          "regions": "JPK",
          "time": "2057-01-01"
         },
         {
          "income": "1594.3615357735773",
          "regions": "ANZ",
          "time": "2057-01-01"
         },
         {
          "income": "1888.5067369866058",
          "regions": "EEU",
          "time": "2057-01-01"
         },
         {
          "income": "2621.1366037806356",
          "regions": "FSU",
          "time": "2057-01-01"
         },
         {
          "income": "4739.1597801994485",
          "regions": "MDE",
          "time": "2057-01-01"
         },
         {
          "income": "2313.933463828874",
          "regions": "CAM",
          "time": "2057-01-01"
         },
         {
          "income": "8000.5636141835785",
          "regions": "LAM",
          "time": "2057-01-01"
         },
         {
          "income": "4205.6373879086495",
          "regions": "SAS",
          "time": "2057-01-01"
         },
         {
          "income": "5698.098532902442",
          "regions": "SEA",
          "time": "2057-01-01"
         },
         {
          "income": "9136.344939463432",
          "regions": "CHI",
          "time": "2057-01-01"
         },
         {
          "income": "1542.9767356390562",
          "regions": "MAF",
          "time": "2057-01-01"
         },
         {
          "income": "2754.2637112178027",
          "regions": "SSA",
          "time": "2057-01-01"
         },
         {
          "income": "296.6028735166084",
          "regions": "SIS",
          "time": "2057-01-01"
         },
         {
          "income": "23135.51030574326",
          "regions": "USA",
          "time": "2058-01-01"
         },
         {
          "income": "1836.9645365039626",
          "regions": "CAN",
          "time": "2058-01-01"
         },
         {
          "income": "25152.93436121937",
          "regions": "WEU",
          "time": "2058-01-01"
         },
         {
          "income": "18783.78077723013",
          "regions": "JPK",
          "time": "2058-01-01"
         },
         {
          "income": "1614.27100055413",
          "regions": "ANZ",
          "time": "2058-01-01"
         },
         {
          "income": "1923.567264194923",
          "regions": "EEU",
          "time": "2058-01-01"
         },
         {
          "income": "2668.5453075196906",
          "regions": "FSU",
          "time": "2058-01-01"
         },
         {
          "income": "4881.8293484636815",
          "regions": "MDE",
          "time": "2058-01-01"
         },
         {
          "income": "2376.9332985694723",
          "regions": "CAM",
          "time": "2058-01-01"
         },
         {
          "income": "8216.615862070465",
          "regions": "LAM",
          "time": "2058-01-01"
         },
         {
          "income": "4330.75291385617",
          "regions": "SAS",
          "time": "2058-01-01"
         },
         {
          "income": "5866.7940630139265",
          "regions": "SEA",
          "time": "2058-01-01"
         },
         {
          "income": "9416.379558463475",
          "regions": "CHI",
          "time": "2058-01-01"
         },
         {
          "income": "1591.633134499276",
          "regions": "MAF",
          "time": "2058-01-01"
         },
         {
          "income": "2842.116006308411",
          "regions": "SSA",
          "time": "2058-01-01"
         },
         {
          "income": "304.71323437515036",
          "regions": "SIS",
          "time": "2058-01-01"
         },
         {
          "income": "23386.5373474253",
          "regions": "USA",
          "time": "2059-01-01"
         },
         {
          "income": "1857.0362541809868",
          "regions": "CAN",
          "time": "2059-01-01"
         },
         {
          "income": "25424.918978788915",
          "regions": "WEU",
          "time": "2059-01-01"
         },
         {
          "income": "19018.98670354905",
          "regions": "JPK",
          "time": "2059-01-01"
         },
         {
          "income": "1634.4288161796367",
          "regions": "ANZ",
          "time": "2059-01-01"
         },
         {
          "income": "1959.3086734797612",
          "regions": "EEU",
          "time": "2059-01-01"
         },
         {
          "income": "2716.818032173709",
          "regions": "FSU",
          "time": "2059-01-01"
         },
         {
          "income": "5029.161170184466",
          "regions": "MDE",
          "time": "2059-01-01"
         },
         {
          "income": "2441.8284607907153",
          "regions": "CAM",
          "time": "2059-01-01"
         },
         {
          "income": "8439.142056084756",
          "regions": "LAM",
          "time": "2059-01-01"
         },
         {
          "income": "4459.917073833804",
          "regions": "SAS",
          "time": "2059-01-01"
         },
         {
          "income": "6040.916705449693",
          "regions": "SEA",
          "time": "2059-01-01"
         },
         {
          "income": "9704.678506993308",
          "regions": "CHI",
          "time": "2059-01-01"
         },
         {
          "income": "1641.9287481539163",
          "regions": "MAF",
          "time": "2059-01-01"
         },
         {
          "income": "2932.981198588215",
          "regions": "SSA",
          "time": "2059-01-01"
         },
         {
          "income": "313.0692498088434",
          "regions": "SIS",
          "time": "2059-01-01"
         },
         {
          "income": "23640.003604639856",
          "regions": "USA",
          "time": "2060-01-01"
         },
         {
          "income": "1877.3064270837044",
          "regions": "CAN",
          "time": "2060-01-01"
         },
         {
          "income": "25699.500714236325",
          "regions": "WEU",
          "time": "2060-01-01"
         },
         {
          "income": "19257.136202308127",
          "regions": "JPK",
          "time": "2060-01-01"
         },
         {
          "income": "1654.8379730056208",
          "regions": "ANZ",
          "time": "2060-01-01"
         },
         {
          "income": "1995.7249175545214",
          "regions": "EEU",
          "time": "2060-01-01"
         },
         {
          "income": "2765.9428574422336",
          "regions": "FSU",
          "time": "2060-01-01"
         },
         {
          "income": "5181.367522648674",
          "regions": "MDE",
          "time": "2060-01-01"
         },
         {
          "income": "2508.70450382271",
          "regions": "CAM",
          "time": "2060-01-01"
         },
         {
          "income": "8668.436010029483",
          "regions": "LAM",
          "time": "2060-01-01"
         },
         {
          "income": "4593.313917876597",
          "regions": "SAS",
          "time": "2060-01-01"
         },
         {
          "income": "6220.7128446721845",
          "regions": "SEA",
          "time": "2060-01-01"
         },
         {
          "income": "10001.570501797605",
          "regions": "CHI",
          "time": "2060-01-01"
         },
         {
          "income": "1693.9381926307628",
          "regions": "MAF",
          "time": "2060-01-01"
         },
         {
          "income": "3026.998170330124",
          "regions": "SSA",
          "time": "2060-01-01"
         },
         {
          "income": "321.68205564893475",
          "regions": "SIS",
          "time": "2060-01-01"
         },
         {
          "income": "23895.928214453314",
          "regions": "USA",
          "time": "2061-01-01"
         },
         {
          "income": "1897.7766607730944",
          "regions": "CAN",
          "time": "2061-01-01"
         },
         {
          "income": "25976.698005136728",
          "regions": "WEU",
          "time": "2061-01-01"
         },
         {
          "income": "19498.264905935597",
          "regions": "JPK",
          "time": "2061-01-01"
         },
         {
          "income": "1675.501494775007",
          "regions": "ANZ",
          "time": "2061-01-01"
         },
         {
          "income": "2032.8486663561555",
          "regions": "EEU",
          "time": "2061-01-01"
         },
         {
          "income": "2815.9614395871836",
          "regions": "FSU",
          "time": "2061-01-01"
         },
         {
          "income": "5338.62060429801",
          "regions": "MDE",
          "time": "2061-01-01"
         },
         {
          "income": "2577.626591840908",
          "regions": "CAM",
          "time": "2061-01-01"
         },
         {
          "income": "8904.721041766521",
          "regions": "LAM",
          "time": "2061-01-01"
         },
         {
          "income": "4731.091730176124",
          "regions": "SAS",
          "time": "2061-01-01"
         },
         {
          "income": "6406.380282765084",
          "regions": "SEA",
          "time": "2061-01-01"
         },
         {
          "income": "10307.201870707146",
          "regions": "CHI",
          "time": "2061-01-01"
         },
         {
          "income": "1747.7232844200446",
          "regions": "MAF",
          "time": "2061-01-01"
         },
         {
          "income": "3124.2832769594183",
          "regions": "SSA",
          "time": "2061-01-01"
         },
         {
          "income": "330.5601837353657",
          "regions": "SIS",
          "time": "2061-01-01"
         },
         {
          "income": "24154.330423091196",
          "regions": "USA",
          "time": "2062-01-01"
         },
         {
          "income": "1918.448568756339",
          "regions": "CAN",
          "time": "2062-01-01"
         },
         {
          "income": "26256.52935160033",
          "regions": "WEU",
          "time": "2062-01-01"
         },
         {
          "income": "19742.408851498716",
          "regions": "JPK",
          "time": "2062-01-01"
         },
         {
          "income": "1696.422438425492",
          "regions": "ANZ",
          "time": "2062-01-01"
         },
         {
          "income": "2070.6939944809715",
          "regions": "EEU",
          "time": "2062-01-01"
         },
         {
          "income": "2866.889528397528",
          "regions": "FSU",
          "time": "2062-01-01"
         },
         {
          "income": "5501.09904731468",
          "regions": "MDE",
          "time": "2062-01-01"
         },
         {
          "income": "2648.6621707322265",
          "regions": "CAM",
          "time": "2062-01-01"
         },
         {
          "income": "9148.228356230447",
          "regions": "LAM",
          "time": "2062-01-01"
         },
         {
          "income": "4873.4042893796095",
          "regions": "SAS",
          "time": "2062-01-01"
         },
         {
          "income": "6598.124137835552",
          "regions": "SEA",
          "time": "2062-01-01"
         },
         {
          "income": "10621.816794776858",
          "regions": "CHI",
          "time": "2062-01-01"
         },
         {
          "income": "1803.3481930442651",
          "regions": "MAF",
          "time": "2062-01-01"
         },
         {
          "income": "3224.9574096635947",
          "regions": "SSA",
          "time": "2062-01-01"
         },
         {
          "income": "339.7124682322309",
          "regions": "SIS",
          "time": "2062-01-01"
         },
         {
          "income": "24415.229581290187",
          "regions": "USA",
          "time": "2063-01-01"
         },
         {
          "income": "1939.3237725067065",
          "regions": "CAN",
          "time": "2063-01-01"
         },
         {
          "income": "26539.01330818593",
          "regions": "WEU",
          "time": "2063-01-01"
         },
         {
          "income": "19989.604482676878",
          "regions": "JPK",
          "time": "2063-01-01"
         },
         {
          "income": "1717.6038945798523",
          "regions": "ANZ",
          "time": "2063-01-01"
         },
         {
          "income": "2109.2545659261896",
          "regions": "EEU",
          "time": "2063-01-01"
         },
         {
          "income": "2918.714513788867",
          "regions": "FSU",
          "time": "2063-01-01"
         },
         {
          "income": "5668.988169291804",
          "regions": "MDE",
          "time": "2063-01-01"
         },
         {
          "income": "2721.881051463931",
          "regions": "CAM",
          "time": "2063-01-01"
         },
         {
          "income": "9399.19733873795",
          "regions": "LAM",
          "time": "2063-01-01"
         },
         {
          "income": "5020.411081085116",
          "regions": "SAS",
          "time": "2063-01-01"
         },
         {
          "income": "6796.157124993894",
          "regions": "SEA",
          "time": "2063-01-01"
         },
         {
          "income": "10945.772307316583",
          "regions": "CHI",
          "time": "2063-01-01"
         },
         {
          "income": "1860.879531782352",
          "regions": "MAF",
          "time": "2063-01-01"
         },
         {
          "income": "3329.146179025972",
          "regions": "SSA",
          "time": "2063-01-01"
         },
         {
          "income": "349.14805691721944",
          "regions": "SIS",
          "time": "2063-01-01"
         },
         {
          "income": "24678.889164319222",
          "regions": "USA",
          "time": "2064-01-01"
         },
         {
          "income": "1960.4232860867573",
          "regions": "CAN",
          "time": "2064-01-01"
         },
         {
          "income": "26823.903198008735",
          "regions": "WEU",
          "time": "2064-01-01"
         },
         {
          "income": "20239.88864699147",
          "regions": "JPK",
          "time": "2064-01-01"
         },
         {
          "income": "1739.0489873881063",
          "regions": "ANZ",
          "time": "2064-01-01"
         },
         {
          "income": "2148.564959235599",
          "regions": "EEU",
          "time": "2064-01-01"
         },
         {
          "income": "2971.4803034698725",
          "regions": "FSU",
          "time": "2064-01-01"
         },
         {
          "income": "5842.423229597472",
          "regions": "MDE",
          "time": "2064-01-01"
         },
         {
          "income": "2797.3282015010514",
          "regions": "CAM",
          "time": "2064-01-01"
         },
         {
          "income": "9657.781627424592",
          "regions": "LAM",
          "time": "2064-01-01"
         },
         {
          "income": "5172.227049019989",
          "regions": "SAS",
          "time": "2064-01-01"
         },
         {
          "income": "7000.63153657506",
          "regions": "SEA",
          "time": "2064-01-01"
         },
         {
          "income": "11279.22567052175",
          "regions": "CHI",
          "time": "2064-01-01"
         },
         {
          "income": "1920.3677107456833",
          "regions": "MAF",
          "time": "2064-01-01"
         },
         {
          "income": "3436.9465685308237",
          "regions": "SSA",
          "time": "2064-01-01"
         },
         {
          "income": "358.8729211724768",
          "regions": "SIS",
          "time": "2064-01-01"
         },
         {
          "income": "24945.089942276114",
          "regions": "USA",
          "time": "2065-01-01"
         },
         {
          "income": "1981.729781149666",
          "regions": "CAN",
          "time": "2065-01-01"
         },
         {
          "income": "27111.477191226215",
          "regions": "WEU",
          "time": "2065-01-01"
         },
         {
          "income": "20493.29859993792",
          "regions": "JPK",
          "time": "2065-01-01"
         },
         {
          "income": "1760.7608745306866",
          "regions": "ANZ",
          "time": "2065-01-01"
         },
         {
          "income": "2188.618624102389",
          "regions": "EEU",
          "time": "2065-01-01"
         },
         {
          "income": "3025.1737657706276",
          "regions": "FSU",
          "time": "2065-01-01"
         },
         {
          "income": "6021.657225225777",
          "regions": "MDE",
          "time": "2065-01-01"
         },
         {
          "income": "2875.104199455953",
          "regions": "CAM",
          "time": "2065-01-01"
         },
         {
          "income": "9924.326921144417",
          "regions": "LAM",
          "time": "2065-01-01"
         },
         {
          "income": "5329.0711621814435",
          "regions": "SAS",
          "time": "2065-01-01"
         },
         {
          "income": "7211.840342798049",
          "regions": "SEA",
          "time": "2065-01-01"
         },
         {
          "income": "11622.554094133031",
          "regions": "CHI",
          "time": "2065-01-01"
         },
         {
          "income": "1981.9020460144277",
          "regions": "MAF",
          "time": "2065-01-01"
         },
         {
          "income": "3548.525558397359",
          "regions": "SSA",
          "time": "2065-01-01"
         },
         {
          "income": "368.9001772654646",
          "regions": "SIS",
          "time": "2065-01-01"
         },
         {
          "income": "25213.851626006875",
          "regions": "USA",
          "time": "2066-01-01"
         },
         {
          "income": "2003.244907855759",
          "regions": "CAN",
          "time": "2066-01-01"
         },
         {
          "income": "27401.75385340009",
          "regions": "WEU",
          "time": "2066-01-01"
         },
         {
          "income": "20749.872012088486",
          "regions": "JPK",
          "time": "2066-01-01"
         },
         {
          "income": "1782.7427484429347",
          "regions": "ANZ",
          "time": "2066-01-01"
         },
         {
          "income": "2229.45146386907",
          "regions": "EEU",
          "time": "2066-01-01"
         },
         {
          "income": "3079.8403510877974",
          "regions": "FSU",
          "time": "2066-01-01"
         },
         {
          "income": "6206.8969651083",
          "regions": "MDE",
          "time": "2066-01-01"
         },
         {
          "income": "2955.286410946427",
          "regions": "CAM",
          "time": "2066-01-01"
         },
         {
          "income": "10199.098777258623",
          "regions": "LAM",
          "time": "2066-01-01"
         },
         {
          "income": "5491.121226808348",
          "regions": "SAS",
          "time": "2066-01-01"
         },
         {
          "income": "7430.020636596866",
          "regions": "SEA",
          "time": "2066-01-01"
         },
         {
          "income": "11975.922591704142",
          "regions": "CHI",
          "time": "2066-01-01"
         },
         {
          "income": "2045.556999216677",
          "regions": "MAF",
          "time": "2066-01-01"
         },
         {
          "income": "3664.0239777645957",
          "regions": "SSA",
          "time": "2066-01-01"
         },
         {
          "income": "379.23997625410675",
          "regions": "SIS",
          "time": "2066-01-01"
         },
         {
          "income": "25485.194013221182",
          "regions": "USA",
          "time": "2067-01-01"
         },
         {
          "income": "2024.970323151994",
          "regions": "CAN",
          "time": "2067-01-01"
         },
         {
          "income": "27694.751749989606",
          "regions": "WEU",
          "time": "2067-01-01"
         },
         {
          "income": "21009.646965295065",
          "regions": "JPK",
          "time": "2067-01-01"
         },
         {
          "income": "1804.997835384345",
          "regions": "ANZ",
          "time": "2067-01-01"
         },
         {
          "income": "2271.078989351028",
          "regions": "EEU",
          "time": "2067-01-01"
         },
         {
          "income": "3135.497147748738",
          "regions": "FSU",
          "time": "2067-01-01"
         },
         {
          "income": "6398.357045061841",
          "regions": "MDE",
          "time": "2067-01-01"
         },
         {
          "income": "3037.954927543674",
          "regions": "CAM",
          "time": "2067-01-01"
         },
         {
          "income": "10482.372210352856",
          "regions": "LAM",
          "time": "2067-01-01"
         },
         {
          "income": "5658.561678347528",
          "regions": "SAS",
          "time": "2067-01-01"
         },
         {
          "income": "7655.418330816907",
          "regions": "SEA",
          "time": "2067-01-01"
         },
         {
          "income": "12339.60967221167",
          "regions": "CHI",
          "time": "2067-01-01"
         },
         {
          "income": "2111.4098722406916",
          "regions": "MAF",
          "time": "2067-01-01"
         },
         {
          "income": "3783.588179618556",
          "regions": "SSA",
          "time": "2067-01-01"
         },
         {
          "income": "389.9028314859565",
          "regions": "SIS",
          "time": "2067-01-01"
         },
         {
          "income": "25759.13698732926",
          "regions": "USA",
          "time": "2068-01-01"
         },
         {
          "income": "2046.9076908985294",
          "regions": "CAN",
          "time": "2068-01-01"
         },
         {
          "income": "27990.489448316355",
          "regions": "WEU",
          "time": "2068-01-01"
         },
         {
          "income": "21272.66195658044",
          "regions": "JPK",
          "time": "2068-01-01"
         },
         {
          "income": "1827.5293960350837",
          "regions": "ANZ",
          "time": "2068-01-01"
         },
         {
          "income": "2313.494323179215",
          "regions": "EEU",
          "time": "2068-01-01"
         },
         {
          "income": "3192.1302047161375",
          "regions": "FSU",
          "time": "2068-01-01"
         },
         {
          "income": "6596.260155194829",
          "regions": "MDE",
          "time": "2068-01-01"
         },
         {
          "income": "3123.192668246315",
          "regions": "CAM",
          "time": "2068-01-01"
         },
         {
          "income": "10774.432049333574",
          "regions": "LAM",
          "time": "2068-01-01"
         },
         {
          "income": "5831.583841995354",
          "regions": "SAS",
          "time": "2068-01-01"
         },
         {
          "income": "7888.288504062846",
          "regions": "SEA",
          "time": "2068-01-01"
         },
         {
          "income": "12714.024685951954",
          "regions": "CHI",
          "time": "2068-01-01"
         },
         {
          "income": "2179.5409204294874",
          "regions": "MAF",
          "time": "2068-01-01"
         },
         {
          "income": "3907.3702684113464",
          "regions": "SSA",
          "time": "2068-01-01"
         },
         {
          "income": "400.89963236989496",
          "regions": "SIS",
          "time": "2068-01-01"
         },
         {
          "income": "26035.957977007405",
          "regions": "USA",
          "time": "2069-01-01"
         },
         {
          "income": "2069.079142172879",
          "regions": "CAN",
          "time": "2069-01-01"
         },
         {
          "income": "28288.70575499353",
          "regions": "WEU",
          "time": "2069-01-01"
         },
         {
          "income": "21538.95590144237",
          "regions": "JPK",
          "time": "2069-01-01"
         },
         {
          "income": "1850.3407257507502",
          "regions": "ANZ",
          "time": "2069-01-01"
         },
         {
          "income": "2356.735457930582",
          "regions": "EEU",
          "time": "2069-01-01"
         },
         {
          "income": "3249.7873658526055",
          "regions": "FSU",
          "time": "2069-01-01"
         },
         {
          "income": "6800.77107522265",
          "regions": "MDE",
          "time": "2069-01-01"
         },
         {
          "income": "3211.0541686426045",
          "regions": "CAM",
          "time": "2069-01-01"
         },
         {
          "income": "11075.46529422956",
          "regions": "LAM",
          "time": "2069-01-01"
         },
         {
          "income": "6010.327586389659",
          "regions": "SAS",
          "time": "2069-01-01"
         },
         {
          "income": "8128.816482633268",
          "regions": "SEA",
          "time": "2069-01-01"
         },
         {
          "income": "13099.34465783512",
          "regions": "CHI",
          "time": "2069-01-01"
         },
         {
          "income": "2250.011526892543",
          "regions": "MAF",
          "time": "2069-01-01"
         },
         {
          "income": "4035.488980287995",
          "regions": "SSA",
          "time": "2069-01-01"
         },
         {
          "income": "412.23763820488455",
          "regions": "SIS",
          "time": "2069-01-01"
         },
         {
          "income": "26315.425101469435",
          "regions": "USA",
          "time": "2070-01-01"
         },
         {
          "income": "2091.466335920713",
          "regions": "CAN",
          "time": "2070-01-01"
         },
         {
          "income": "28589.693031285333",
          "regions": "WEU",
          "time": "2070-01-01"
         },
         {
          "income": "21808.568137521474",
          "regions": "JPK",
          "time": "2070-01-01"
         },
         {
          "income": "1873.435154524707",
          "regions": "ANZ",
          "time": "2070-01-01"
         },
         {
          "income": "2400.7952778845047",
          "regions": "EEU",
          "time": "2070-01-01"
         },
         {
          "income": "3308.454084252539",
          "regions": "FSU",
          "time": "2070-01-01"
         },
         {
          "income": "7012.1918708076355",
          "regions": "MDE",
          "time": "2070-01-01"
         },
         {
          "income": "3301.657874261919",
          "regions": "CAM",
          "time": "2070-01-01"
         },
         {
          "income": "11385.879494987686",
          "regions": "LAM",
          "time": "2070-01-01"
         },
         {
          "income": "6195.053854278961",
          "regions": "SAS",
          "time": "2070-01-01"
         },
         {
          "income": "8377.351201350237",
          "regions": "SEA",
          "time": "2070-01-01"
         },
         {
          "income": "13496.001867166087",
          "regions": "CHI",
          "time": "2070-01-01"
         },
         {
          "income": "2322.928731891966",
          "regions": "MAF",
          "time": "2070-01-01"
         },
         {
          "income": "4168.145411081749",
          "regions": "SSA",
          "time": "2070-01-01"
         },
         {
          "income": "423.932326450616",
          "regions": "SIS",
          "time": "2070-01-01"
         },
         {
          "income": "26597.558586125568",
          "regions": "USA",
          "time": "2071-01-01"
         },
         {
          "income": "2114.070963348732",
          "regions": "CAN",
          "time": "2071-01-01"
         },
         {
          "income": "28893.46978152145",
          "regions": "WEU",
          "time": "2071-01-01"
         },
         {
          "income": "22081.538435883584",
          "regions": "JPK",
          "time": "2071-01-01"
         },
         {
          "income": "1896.8160485163642",
          "regions": "ANZ",
          "time": "2071-01-01"
         },
         {
          "income": "2445.713231266138",
          "regions": "EEU",
          "time": "2071-01-01"
         },
         {
          "income": "3368.179868268852",
          "regions": "FSU",
          "time": "2071-01-01"
         },
         {
          "income": "7230.771284337814",
          "regions": "MDE",
          "time": "2071-01-01"
         },
         {
          "income": "3395.0957545620035",
          "regions": "CAM",
          "time": "2071-01-01"
         },
         {
          "income": "11705.990928383657",
          "regions": "LAM",
          "time": "2071-01-01"
         },
         {
          "income": "6385.976130894801",
          "regions": "SAS",
          "time": "2071-01-01"
         },
         {
          "income": "8634.177218820058",
          "regions": "SEA",
          "time": "2071-01-01"
         },
         {
          "income": "13904.18190813038",
          "regions": "CHI",
          "time": "2071-01-01"
         },
         {
          "income": "2398.3823112974083",
          "regions": "MAF",
          "time": "2071-01-01"
         },
         {
          "income": "4305.510249223659",
          "regions": "SSA",
          "time": "2071-01-01"
         },
         {
          "income": "435.9957918174128",
          "regions": "SIS",
          "time": "2071-01-01"
         },
         {
          "income": "26883.723551833336",
          "regions": "USA",
          "time": "2072-01-01"
         },
         {
          "income": "2137.0016213708323",
          "regions": "CAN",
          "time": "2072-01-01"
         },
         {
          "income": "29201.515275127764",
          "regions": "WEU",
          "time": "2072-01-01"
         },
         {
          "income": "22356.790231911502",
          "regions": "JPK",
          "time": "2072-01-01"
         },
         {
          "income": "1920.3908816939643",
          "regions": "ANZ",
          "time": "2072-01-01"
         },
         {
          "income": "2491.6310449943107",
          "regions": "EEU",
          "time": "2072-01-01"
         },
         {
          "income": "3429.1547613097177",
          "regions": "FSU",
          "time": "2072-01-01"
         },
         {
          "income": "7454.912596197069",
          "regions": "MDE",
          "time": "2072-01-01"
         },
         {
          "income": "3490.7665036909693",
          "regions": "CAM",
          "time": "2072-01-01"
         },
         {
          "income": "12033.726032456212",
          "regions": "LAM",
          "time": "2072-01-01"
         },
         {
          "income": "6581.678302069443",
          "regions": "SAS",
          "time": "2072-01-01"
         },
         {
          "income": "8897.375967758331",
          "regions": "SEA",
          "time": "2072-01-01"
         },
         {
          "income": "14323.486554472369",
          "regions": "CHI",
          "time": "2072-01-01"
         },
         {
          "income": "2475.850999676417",
          "regions": "MAF",
          "time": "2072-01-01"
         },
         {
          "income": "4446.657285074553",
          "regions": "SSA",
          "time": "2072-01-01"
         },
         {
          "income": "448.35110088047867",
          "regions": "SIS",
          "time": "2072-01-01"
         },
         {
          "income": "27173.98367967765",
          "regions": "USA",
          "time": "2073-01-01"
         },
         {
          "income": "2160.2634771529465",
          "regions": "CAN",
          "time": "2073-01-01"
         },
         {
          "income": "29513.89462307904",
          "regions": "WEU",
          "time": "2073-01-01"
         },
         {
          "income": "22634.322352337593",
          "regions": "JPK",
          "time": "2073-01-01"
         },
         {
          "income": "1944.1595023321424",
          "regions": "ANZ",
          "time": "2073-01-01"
         },
         {
          "income": "2538.5482742388294",
          "regions": "EEU",
          "time": "2073-01-01"
         },
         {
          "income": "3491.3726738222254",
          "regions": "FSU",
          "time": "2073-01-01"
         },
         {
          "income": "7684.710375005901",
          "regions": "MDE",
          "time": "2073-01-01"
         },
         {
          "income": "3588.7095362842524",
          "regions": "CAM",
          "time": "2073-01-01"
         },
         {
          "income": "12369.221386823536",
          "regions": "LAM",
          "time": "2073-01-01"
         },
         {
          "income": "6782.238734923104",
          "regions": "SAS",
          "time": "2073-01-01"
         },
         {
          "income": "9167.050118393592",
          "regions": "SEA",
          "time": "2073-01-01"
         },
         {
          "income": "14754.320072277604",
          "regions": "CHI",
          "time": "2073-01-01"
         },
         {
          "income": "2555.371755991969",
          "regions": "MAF",
          "time": "2073-01-01"
         },
         {
          "income": "4591.66181839684",
          "regions": "SSA",
          "time": "2073-01-01"
         },
         {
          "income": "461.0035820449464",
          "regions": "SIS",
          "time": "2073-01-01"
         },
         {
          "income": "27468.675455876328",
          "regions": "USA",
          "time": "2074-01-01"
         },
         {
          "income": "2183.8833938071452",
          "regions": "CAN",
          "time": "2074-01-01"
         },
         {
          "income": "29830.379046008555",
          "regions": "WEU",
          "time": "2074-01-01"
         },
         {
          "income": "22914.133213192294",
          "regions": "JPK",
          "time": "2074-01-01"
         },
         {
          "income": "1968.1217308181906",
          "regions": "ANZ",
          "time": "2074-01-01"
         },
         {
          "income": "2586.513992003466",
          "regions": "EEU",
          "time": "2074-01-01"
         },
         {
          "income": "3554.8954593310555",
          "regions": "FSU",
          "time": "2074-01-01"
         },
         {
          "income": "7920.181914351605",
          "regions": "MDE",
          "time": "2074-01-01"
         },
         {
          "income": "3688.928572973773",
          "regions": "CAM",
          "time": "2074-01-01"
         },
         {
          "income": "12712.490771089591",
          "regions": "LAM",
          "time": "2074-01-01"
         },
         {
          "income": "6987.667582344156",
          "regions": "SAS",
          "time": "2074-01-01"
         },
         {
          "income": "9443.210075065588",
          "regions": "SEA",
          "time": "2074-01-01"
         },
         {
          "income": "15196.813196862819",
          "regions": "CHI",
          "time": "2074-01-01"
         },
         {
          "income": "2636.9559125195447",
          "regions": "MAF",
          "time": "2074-01-01"
         },
         {
          "income": "4740.553449959254",
          "regions": "SSA",
          "time": "2074-01-01"
         },
         {
          "income": "473.95399202433913",
          "regions": "SIS",
          "time": "2074-01-01"
         },
         {
          "income": "27767.599145301174",
          "regions": "USA",
          "time": "2075-01-01"
         },
         {
          "income": "2207.845606902515",
          "regions": "CAN",
          "time": "2075-01-01"
         },
         {
          "income": "30151.324558814405",
          "regions": "WEU",
          "time": "2075-01-01"
         },
         {
          "income": "23196.22079772709",
          "regions": "JPK",
          "time": "2075-01-01"
         },
         {
          "income": "1992.2773493196314",
          "regions": "ANZ",
          "time": "2075-01-01"
         },
         {
          "income": "2635.5280817014577",
          "regions": "EEU",
          "time": "2075-01-01"
         },
         {
          "income": "3619.717112764266",
          "regions": "FSU",
          "time": "2075-01-01"
         },
         {
          "income": "8161.494086364626",
          "regions": "MDE",
          "time": "2075-01-01"
         },
         {
          "income": "3791.497494705539",
          "regions": "CAM",
          "time": "2075-01-01"
         },
         {
          "income": "13063.789999919522",
          "regions": "LAM",
          "time": "2075-01-01"
         },
         {
          "income": "7198.106876555145",
          "regions": "SAS",
          "time": "2075-01-01"
         },
         {
          "income": "9726.044453994173",
          "regions": "SEA",
          "time": "2075-01-01"
         },
         {
          "income": "15651.388870963081",
          "regions": "CHI",
          "time": "2075-01-01"
         },
         {
          "income": "2720.6646131913435",
          "regions": "MAF",
          "time": "2075-01-01"
         },
         {
          "income": "4893.451630903737",
          "regions": "SSA",
          "time": "2075-01-01"
         },
         {
          "income": "487.212111038622",
          "regions": "SIS",
          "time": "2075-01-01"
         },
         {
          "income": "28070.822032877426",
          "regions": "USA",
          "time": "2076-01-01"
         },
         {
          "income": "2232.1555801108343",
          "regions": "CAN",
          "time": "2076-01-01"
         },
         {
          "income": "30476.79951326747",
          "regions": "WEU",
          "time": "2076-01-01"
         },
         {
          "income": "23480.58265271994",
          "regions": "JPK",
          "time": "2076-01-01"
         },
         {
          "income": "2016.6261021302037",
          "regions": "ANZ",
          "time": "2076-01-01"
         },
         {
          "income": "2685.6418408372406",
          "regions": "EEU",
          "time": "2076-01-01"
         },
         {
          "income": "3685.9020729535005",
          "regions": "FSU",
          "time": "2076-01-01"
         },
         {
          "income": "8408.740852133491",
          "regions": "MDE",
          "time": "2076-01-01"
         },
         {
          "income": "3896.456368745462",
          "regions": "CAM",
          "time": "2076-01-01"
         },
         {
          "income": "13423.258553303345",
          "regions": "LAM",
          "time": "2076-01-01"
         },
         {
          "income": "7413.634158517324",
          "regions": "SAS",
          "time": "2076-01-01"
         },
         {
          "income": "10015.654654635799",
          "regions": "SEA",
          "time": "2076-01-01"
         },
         {
          "income": "16118.179626470837",
          "regions": "CHI",
          "time": "2076-01-01"
         },
         {
          "income": "2806.53487556661",
          "regions": "MAF",
          "time": "2076-01-01"
         },
         {
          "income": "5050.432829731157",
          "regions": "SSA",
          "time": "2076-01-01"
         },
         {
          "income": "500.78338727257665",
          "regions": "SIS",
          "time": "2076-01-01"
         },
         {
          "income": "28375.04486234788",
          "regions": "USA",
          "time": "2077-01-01"
         },
         {
          "income": "2256.551051258655",
          "regions": "CAN",
          "time": "2077-01-01"
         },
         {
          "income": "30803.52179665878",
          "regions": "WEU",
          "time": "2077-01-01"
         },
         {
          "income": "23764.160661747574",
          "regions": "JPK",
          "time": "2077-01-01"
         },
         {
          "income": "2040.9053071418155",
          "regions": "ANZ",
          "time": "2077-01-01"
         },
         {
          "income": "2735.8352061292426",
          "regions": "EEU",
          "time": "2077-01-01"
         },
         {
          "income": "3752.045140856351",
          "regions": "FSU",
          "time": "2077-01-01"
         },
         {
          "income": "8659.230084708426",
          "regions": "MDE",
          "time": "2077-01-01"
         },
         {
          "income": "4002.5577894559397",
          "regions": "CAM",
          "time": "2077-01-01"
         },
         {
          "income": "13786.601522683164",
          "regions": "LAM",
          "time": "2077-01-01"
         },
         {
          "income": "7631.871296610152",
          "regions": "SAS",
          "time": "2077-01-01"
         },
         {
          "income": "10308.825018118912",
          "regions": "SEA",
          "time": "2077-01-01"
         },
         {
          "income": "16592.30226344771",
          "regions": "CHI",
          "time": "2077-01-01"
         },
         {
          "income": "2893.6727585740114",
          "regions": "MAF",
          "time": "2077-01-01"
         },
         {
          "income": "5209.897739368179",
          "regions": "SSA",
          "time": "2077-01-01"
         },
         {
          "income": "514.5077822497857",
          "regions": "SIS",
          "time": "2077-01-01"
         },
         {
          "income": "28680.226901150418",
          "regions": "USA",
          "time": "2078-01-01"
         },
         {
          "income": "2281.0288293458766",
          "regions": "CAN",
          "time": "2078-01-01"
         },
         {
          "income": "31131.1454316217",
          "regions": "WEU",
          "time": "2078-01-01"
         },
         {
          "income": "24046.84101217805",
          "regions": "JPK",
          "time": "2078-01-01"
         },
         {
          "income": "2065.1051649811766",
          "regions": "ANZ",
          "time": "2078-01-01"
         },
         {
          "income": "2786.0767343544135",
          "regions": "EEU",
          "time": "2078-01-01"
         },
         {
          "income": "3818.0998607661263",
          "regions": "FSU",
          "time": "2078-01-01"
         },
         {
          "income": "8912.807455397084",
          "regions": "MDE",
          "time": "2078-01-01"
         },
         {
          "income": "4109.737351727517",
          "regions": "CAM",
          "time": "2078-01-01"
         },
         {
          "income": "14153.600937216019",
          "regions": "LAM",
          "time": "2078-01-01"
         },
         {
          "income": "7852.679080481369",
          "regions": "SAS",
          "time": "2078-01-01"
         },
         {
          "income": "10605.36568495877",
          "regions": "SEA",
          "time": "2078-01-01"
         },
         {
          "income": "17073.587423251094",
          "regions": "CHI",
          "time": "2078-01-01"
         },
         {
          "income": "2982.028729836281",
          "regions": "MAF",
          "time": "2078-01-01"
         },
         {
          "income": "5371.765149226654",
          "regions": "SSA",
          "time": "2078-01-01"
         },
         {
          "income": "528.3772530922664",
          "regions": "SIS",
          "time": "2078-01-01"
         },
         {
          "income": "28986.613522460233",
          "regions": "USA",
          "time": "2079-01-01"
         },
         {
          "income": "2305.608478810821",
          "regions": "CAN",
          "time": "2079-01-01"
         },
         {
          "income": "31459.933144156177",
          "regions": "WEU",
          "time": "2079-01-01"
         },
         {
          "income": "24328.26829092882",
          "regions": "JPK",
          "time": "2079-01-01"
         },
         {
          "income": "2089.1951348105413",
          "regions": "ANZ",
          "time": "2079-01-01"
         },
         {
          "income": "2836.306463214986",
          "regions": "EEU",
          "time": "2079-01-01"
         },
         {
          "income": "3883.9808289141342",
          "regions": "FSU",
          "time": "2079-01-01"
         },
         {
          "income": "9169.309338237392",
          "regions": "MDE",
          "time": "2079-01-01"
         },
         {
          "income": "4217.927418224723",
          "regions": "CAM",
          "time": "2079-01-01"
         },
         {
          "income": "14524.028045103214",
          "regions": "LAM",
          "time": "2079-01-01"
         },
         {
          "income": "8075.910312572783",
          "regions": "SAS",
          "time": "2079-01-01"
         },
         {
          "income": "10905.076148162028",
          "regions": "SEA",
          "time": "2079-01-01"
         },
         {
          "income": "17561.851907113167",
          "regions": "CHI",
          "time": "2079-01-01"
         },
         {
          "income": "3071.5498352766213",
          "regions": "MAF",
          "time": "2079-01-01"
         },
         {
          "income": "5535.947674840457",
          "regions": "SSA",
          "time": "2079-01-01"
         },
         {
          "income": "542.3833441455537",
          "regions": "SIS",
          "time": "2079-01-01"
         },
         {
          "income": "29293.881978114092",
          "regions": "USA",
          "time": "2080-01-01"
         },
         {
          "income": "2330.264376381726",
          "regions": "CAN",
          "time": "2080-01-01"
         },
         {
          "income": "31789.530878095295",
          "regions": "WEU",
          "time": "2080-01-01"
         },
         {
          "income": "24608.561943317476",
          "regions": "JPK",
          "time": "2080-01-01"
         },
         {
          "income": "2113.1854571199274",
          "regions": "ANZ",
          "time": "2080-01-01"
         },
         {
          "income": "2886.5185120030546",
          "regions": "EEU",
          "time": "2080-01-01"
         },
         {
          "income": "3949.6768745691816",
          "regions": "FSU",
          "time": "2080-01-01"
         },
         {
          "income": "9428.562854237574",
          "regions": "MDE",
          "time": "2080-01-01"
         },
         {
          "income": "4327.0571371564065",
          "regions": "CAM",
          "time": "2080-01-01"
         },
         {
          "income": "14897.643391713034",
          "regions": "LAM",
          "time": "2080-01-01"
         },
         {
          "income": "8301.409801909973",
          "regions": "SAS",
          "time": "2080-01-01"
         },
         {
          "income": "11207.745280543719",
          "regions": "SEA",
          "time": "2080-01-01"
         },
         {
          "income": "18056.898519464397",
          "regions": "CHI",
          "time": "2080-01-01"
         },
         {
          "income": "3162.1796890895384",
          "regions": "MAF",
          "time": "2080-01-01"
         },
         {
          "income": "5702.351697624051",
          "regions": "SSA",
          "time": "2080-01-01"
         },
         {
          "income": "556.517185474757",
          "regions": "SIS",
          "time": "2080-01-01"
         },
         {
          "income": "29601.9894553657",
          "regions": "USA",
          "time": "2081-01-01"
         },
         {
          "income": "2354.9931598746025",
          "regions": "CAN",
          "time": "2081-01-01"
         },
         {
          "income": "32120.206275602293",
          "regions": "WEU",
          "time": "2081-01-01"
         },
         {
          "income": "24887.605520001933",
          "regions": "JPK",
          "time": "2081-01-01"
         },
         {
          "income": "2137.0661147166547",
          "regions": "ANZ",
          "time": "2081-01-01"
         },
         {
          "income": "2936.679528175964",
          "regions": "EEU",
          "time": "2081-01-01"
         },
         {
          "income": "4015.1392617212423",
          "regions": "FSU",
          "time": "2081-01-01"
         },
         {
          "income": "9690.38592887663",
          "regions": "MDE",
          "time": "2081-01-01"
         },
         {
          "income": "4437.052471374921",
          "regions": "CAM",
          "time": "2081-01-01"
         },
         {
          "income": "15274.19694342777",
          "regions": "LAM",
          "time": "2081-01-01"
         },
         {
          "income": "8529.014417209626",
          "regions": "SAS",
          "time": "2081-01-01"
         },
         {
          "income": "11513.151412677342",
          "regions": "SEA",
          "time": "2081-01-01"
         },
         {
          "income": "18558.51586631377",
          "regions": "CHI",
          "time": "2081-01-01"
         },
         {
          "income": "3253.858459378435",
          "regions": "MAF",
          "time": "2081-01-01"
         },
         {
          "income": "5870.87733845169",
          "regions": "SSA",
          "time": "2081-01-01"
         },
         {
          "income": "570.7694963767535",
          "regions": "SIS",
          "time": "2081-01-01"
         },
         {
          "income": "29909.39685258158",
          "regions": "USA",
          "time": "2082-01-01"
         },
         {
          "income": "2379.6724177266374",
          "regions": "CAN",
          "time": "2082-01-01"
         },
         {
          "income": "32450.29543035838",
          "regions": "WEU",
          "time": "2082-01-01"
         },
         {
          "income": "25166.53943862288",
          "regions": "JPK",
          "time": "2082-01-01"
         },
         {
          "income": "2160.935013933003",
          "regions": "ANZ",
          "time": "2082-01-01"
         },
         {
          "income": "2986.6062250493474",
          "regions": "EEU",
          "time": "2082-01-01"
         },
         {
          "income": "4080.1144671709867",
          "regions": "FSU",
          "time": "2082-01-01"
         },
         {
          "income": "9955.580556144345",
          "regions": "MDE",
          "time": "2082-01-01"
         },
         {
          "income": "4548.7455028421045",
          "regions": "CAM",
          "time": "2082-01-01"
         },
         {
          "income": "15656.55794591052",
          "regions": "LAM",
          "time": "2082-01-01"
         },
         {
          "income": "8759.426991426173",
          "regions": "SAS",
          "time": "2082-01-01"
         },
         {
          "income": "11822.241802440318",
          "regions": "SEA",
          "time": "2082-01-01"
         },
         {
          "income": "19067.430817836997",
          "regions": "CHI",
          "time": "2082-01-01"
         },
         {
          "income": "3346.522807850191",
          "regions": "MAF",
          "time": "2082-01-01"
         },
         {
          "income": "6041.418401016662",
          "regions": "SSA",
          "time": "2082-01-01"
         },
         {
          "income": "585.2475784206663",
          "regions": "SIS",
          "time": "2082-01-01"
         },
         {
          "income": "30216.013624708234",
          "regions": "USA",
          "time": "2083-01-01"
         },
         {
          "income": "2404.29495721876",
          "regions": "CAN",
          "time": "2083-01-01"
         },
         {
          "income": "32779.38196119166",
          "regions": "WEU",
          "time": "2083-01-01"
         },
         {
          "income": "25445.28738825345",
          "regions": "JPK",
          "time": "2083-01-01"
         },
         {
          "income": "2184.785577675333",
          "regions": "ANZ",
          "time": "2083-01-01"
         },
         {
          "income": "3036.2566215482707",
          "regions": "EEU",
          "time": "2083-01-01"
         },
         {
          "income": "4144.542591006515",
          "regions": "FSU",
          "time": "2083-01-01"
         },
         {
          "income": "10224.026965271343",
          "regions": "MDE",
          "time": "2083-01-01"
         },
         {
          "income": "4662.123574637638",
          "regions": "CAM",
          "time": "2083-01-01"
         },
         {
          "income": "16044.687253579239",
          "regions": "LAM",
          "time": "2083-01-01"
         },
         {
          "income": "8992.538632462498",
          "regions": "SAS",
          "time": "2083-01-01"
         },
         {
          "income": "12134.867736559909",
          "regions": "SEA",
          "time": "2083-01-01"
         },
         {
          "income": "19583.480137573817",
          "regions": "CHI",
          "time": "2083-01-01"
         },
         {
          "income": "3440.1059596176005",
          "regions": "MAF",
          "time": "2083-01-01"
         },
         {
          "income": "6213.8624309025945",
          "regions": "SSA",
          "time": "2083-01-01"
         },
         {
          "income": "599.950121261989",
          "regions": "SIS",
          "time": "2083-01-01"
         },
         {
          "income": "30522.05069755194",
          "regions": "USA",
          "time": "2084-01-01"
         },
         {
          "income": "2428.877568321179",
          "regions": "CAN",
          "time": "2084-01-01"
         },
         {
          "income": "33107.691103887664",
          "regions": "WEU",
          "time": "2084-01-01"
         },
         {
          "income": "25723.51753971491",
          "regions": "JPK",
          "time": "2084-01-01"
         },
         {
          "income": "2208.5892884611667",
          "regions": "ANZ",
          "time": "2084-01-01"
         },
         {
          "income": "3085.557939769926",
          "regions": "EEU",
          "time": "2084-01-01"
         },
         {
          "income": "4208.321917721739",
          "regions": "FSU",
          "time": "2084-01-01"
         },
         {
          "income": "10495.598129181923",
          "regions": "MDE",
          "time": "2084-01-01"
         },
         {
          "income": "4777.17238998275",
          "regions": "CAM",
          "time": "2084-01-01"
         },
         {
          "income": "16438.540425836527",
          "regions": "LAM",
          "time": "2084-01-01"
         },
         {
          "income": "9228.234112222",
          "regions": "SAS",
          "time": "2084-01-01"
         },
         {
          "income": "12450.872112940533",
          "regions": "SEA",
          "time": "2084-01-01"
         },
         {
          "income": "20106.488176693678",
          "regions": "CHI",
          "time": "2084-01-01"
         },
         {
          "income": "3534.5377775492225",
          "regions": "MAF",
          "time": "2084-01-01"
         },
         {
          "income": "6388.090787222035",
          "regions": "SSA",
          "time": "2084-01-01"
         },
         {
          "income": "614.8756056476582",
          "regions": "SIS",
          "time": "2084-01-01"
         },
         {
          "income": "30827.120155620247",
          "regions": "USA",
          "time": "2085-01-01"
         },
         {
          "income": "2453.389385691124",
          "regions": "CAN",
          "time": "2085-01-01"
         },
         {
          "income": "33434.79838182072",
          "regions": "WEU",
          "time": "2085-01-01"
         },
         {
          "income": "26001.400951044532",
          "regions": "JPK",
          "time": "2085-01-01"
         },
         {
          "income": "2232.360808373427",
          "regions": "ANZ",
          "time": "2085-01-01"
         },
         {
          "income": "3134.4967670960386",
          "regions": "EEU",
          "time": "2085-01-01"
         },
         {
          "income": "4271.431965472396",
          "regions": "FSU",
          "time": "2085-01-01"
         },
         {
          "income": "10770.159773713127",
          "regions": "MDE",
          "time": "2085-01-01"
         },
         {
          "income": "4893.876007064902",
          "regions": "CAM",
          "time": "2085-01-01"
         },
         {
          "income": "16838.067718316084",
          "regions": "LAM",
          "time": "2085-01-01"
         },
         {
          "income": "9466.391926917595",
          "regions": "SAS",
          "time": "2085-01-01"
         },
         {
          "income": "12770.089513548452",
          "regions": "SEA",
          "time": "2085-01-01"
         },
         {
          "income": "20636.266797176304",
          "regions": "CHI",
          "time": "2085-01-01"
         },
         {
          "income": "3629.7448099558937",
          "regions": "MAF",
          "time": "2085-01-01"
         },
         {
          "income": "6563.978700895665",
          "regions": "SSA",
          "time": "2085-01-01"
         },
         {
          "income": "630.0223072902586",
          "regions": "SIS",
          "time": "2085-01-01"
         },
         {
          "income": "31131.129539273046",
          "regions": "USA",
          "time": "2086-01-01"
         },
         {
          "income": "2477.8230474450975",
          "regions": "CAN",
          "time": "2086-01-01"
         },
         {
          "income": "33760.93420005545",
          "regions": "WEU",
          "time": "2086-01-01"
         },
         {
          "income": "26278.858790750204",
          "regions": "JPK",
          "time": "2086-01-01"
         },
         {
          "income": "2256.0933430969594",
          "regions": "ANZ",
          "time": "2086-01-01"
         },
         {
          "income": "3183.0299976635215",
          "regions": "EEU",
          "time": "2086-01-01"
         },
         {
          "income": "4333.8119145749615",
          "regions": "FSU",
          "time": "2086-01-01"
         },
         {
          "income": "11047.570405753317",
          "regions": "MDE",
          "time": "2086-01-01"
         },
         {
          "income": "5012.216818691235",
          "regions": "CAM",
          "time": "2086-01-01"
         },
         {
          "income": "17243.214007203675",
          "regions": "LAM",
          "time": "2086-01-01"
         },
         {
          "income": "9706.884336533618",
          "regions": "SAS",
          "time": "2086-01-01"
         },
         {
          "income": "13092.346268783618",
          "regions": "SEA",
          "time": "2086-01-01"
         },
         {
          "income": "21172.615351624805",
          "regions": "CHI",
          "time": "2086-01-01"
         },
         {
          "income": "3725.650360105632",
          "regions": "MAF",
          "time": "2086-01-01"
         },
         {
          "income": "6741.395359998172",
          "regions": "SSA",
          "time": "2086-01-01"
         },
         {
          "income": "645.3882938464923",
          "regions": "SIS",
          "time": "2086-01-01"
         },
         {
          "income": "31433.98583009348",
          "regions": "USA",
          "time": "2087-01-01"
         },
         {
          "income": "2502.171142513609",
          "regions": "CAN",
          "time": "2087-01-01"
         },
         {
          "income": "34086.00375093116",
          "regions": "WEU",
          "time": "2087-01-01"
         },
         {
          "income": "26555.81144081677",
          "regions": "JPK",
          "time": "2087-01-01"
         },
         {
          "income": "2279.7800317068095",
          "regions": "ANZ",
          "time": "2087-01-01"
         },
         {
          "income": "3231.1142610369043",
          "regions": "EEU",
          "time": "2087-01-01"
         },
         {
          "income": "4395.400797627252",
          "regions": "FSU",
          "time": "2087-01-01"
         },
         {
          "income": "11327.681328747469",
          "regions": "MDE",
          "time": "2087-01-01"
         },
         {
          "income": "5132.175515726477",
          "regions": "CAM",
          "time": "2087-01-01"
         },
         {
          "income": "17653.918692748754",
          "regions": "LAM",
          "time": "2087-01-01"
         },
         {
          "income": "9949.577379063969",
          "regions": "SAS",
          "time": "2087-01-01"
         },
         {
          "income": "13417.460481839147",
          "regions": "SEA",
          "time": "2087-01-01"
         },
         {
          "income": "21715.32051997517",
          "regions": "CHI",
          "time": "2087-01-01"
         },
         {
          "income": "3822.1745305521526",
          "regions": "MAF",
          "time": "2087-01-01"
         },
         {
          "income": "6920.203983242739",
          "regions": "SSA",
          "time": "2087-01-01"
         },
         {
          "income": "660.9714204332856",
          "regions": "SIS",
          "time": "2087-01-01"
         },
         {
          "income": "31735.59551210802",
          "regions": "USA",
          "time": "2088-01-01"
         },
         {
          "income": "2526.4262153208647",
          "regions": "CAN",
          "time": "2088-01-01"
         },
         {
          "income": "34409.57077902924",
          "regions": "WEU",
          "time": "2088-01-01"
         },
         {
          "income": "26832.17854665875",
          "regions": "JPK",
          "time": "2088-01-01"
         },
         {
          "income": "2303.413950725891",
          "regions": "ANZ",
          "time": "2088-01-01"
         },
         {
          "income": "3278.7059885724493",
          "regions": "EEU",
          "time": "2088-01-01"
         },
         {
          "income": "4456.137614696436",
          "regions": "FSU",
          "time": "2088-01-01"
         },
         {
          "income": "11610.336704110452",
          "regions": "MDE",
          "time": "2088-01-01"
         },
         {
          "income": "5253.731071506462",
          "regions": "CAM",
          "time": "2088-01-01"
         },
         {
          "income": "18070.115635284612",
          "regions": "LAM",
          "time": "2088-01-01"
         },
         {
          "income": "10194.33094095154",
          "regions": "SAS",
          "time": "2088-01-01"
         },
         {
          "income": "13745.242135011144",
          "regions": "SEA",
          "time": "2088-01-01"
         },
         {
          "income": "22264.15634738776",
          "regions": "CHI",
          "time": "2088-01-01"
         },
         {
          "income": "3919.2343162926336",
          "regions": "MAF",
          "time": "2088-01-01"
         },
         {
          "income": "7100.261943310113",
          "regions": "SSA",
          "time": "2088-01-01"
         },
         {
          "income": "676.7693271182718",
          "regions": "SIS",
          "time": "2088-01-01"
         },
         {
          "income": "32036.181956991895",
          "regions": "USA",
          "time": "2089-01-01"
         },
         {
          "income": "2550.606034720279",
          "regions": "CAN",
          "time": "2089-01-01"
         },
         {
          "income": "34731.873663810075",
          "regions": "WEU",
          "time": "2089-01-01"
         },
         {
          "income": "27107.610552266964",
          "regions": "JPK",
          "time": "2089-01-01"
         },
         {
          "income": "2326.9650686385676",
          "regions": "ANZ",
          "time": "2089-01-01"
         },
         {
          "income": "3325.728694245396",
          "regions": "EEU",
          "time": "2089-01-01"
         },
         {
          "income": "4515.916919302077",
          "regions": "FSU",
          "time": "2089-01-01"
         },
         {
          "income": "11895.37361977144",
          "regions": "MDE",
          "time": "2089-01-01"
         },
         {
          "income": "5376.860722270028",
          "regions": "CAM",
          "time": "2089-01-01"
         },
         {
          "income": "18491.733087985594",
          "regions": "LAM",
          "time": "2089-01-01"
         },
         {
          "income": "10440.99882923269",
          "regions": "SAS",
          "time": "2089-01-01"
         },
         {
          "income": "14075.493196053918",
          "regions": "SEA",
          "time": "2089-01-01"
         },
         {
          "income": "22818.88425263296",
          "regions": "CHI",
          "time": "2089-01-01"
         },
         {
          "income": "4016.7436967454278",
          "regions": "MAF",
          "time": "2089-01-01"
         },
         {
          "income": "7281.420898615851",
          "regions": "SSA",
          "time": "2089-01-01"
         },
         {
          "income": "692.779436078115",
          "regions": "SIS",
          "time": "2089-01-01"
         },
         {
          "income": "32335.3394329971",
          "regions": "USA",
          "time": "2090-01-01"
         },
         {
          "income": "2574.6782816328373",
          "regions": "CAN",
          "time": "2090-01-01"
         },
         {
          "income": "35052.46863505558",
          "regions": "WEU",
          "time": "2090-01-01"
         },
         {
          "income": "27382.28877567666",
          "regions": "JPK",
          "time": "2090-01-01"
         },
         {
          "income": "2350.4489276709623",
          "regions": "ANZ",
          "time": "2090-01-01"
         },
         {
          "income": "3372.170458876779",
          "regions": "EEU",
          "time": "2090-01-01"
         },
         {
          "income": "4574.72127369366",
          "regions": "FSU",
          "time": "2090-01-01"
         },
         {
          "income": "12182.622166959336",
          "regions": "MDE",
          "time": "2090-01-01"
         },
         {
          "income": "5501.53994443738",
          "regions": "CAM",
          "time": "2090-01-01"
         },
         {
          "income": "18918.69362799141",
          "regions": "LAM",
          "time": "2090-01-01"
         },
         {
          "income": "10689.428847257128",
          "regions": "SAS",
          "time": "2090-01-01"
         },
         {
          "income": "14408.007727685725",
          "regions": "SEA",
          "time": "2090-01-01"
         },
         {
          "income": "23379.253014237824",
          "regions": "CHI",
          "time": "2090-01-01"
         },
         {
          "income": "4114.613728548017",
          "regions": "MAF",
          "time": "2090-01-01"
         },
         {
          "income": "7463.526935190084",
          "regions": "SSA",
          "time": "2090-01-01"
         },
         {
          "income": "708.9989484971047",
          "regions": "SIS",
          "time": "2090-01-01"
         },
         {
          "income": "32632.973241172785",
          "regions": "USA",
          "time": "2091-01-01"
         },
         {
          "income": "2598.635390543579",
          "regions": "CAN",
          "time": "2091-01-01"
         },
         {
          "income": "35371.59976861665",
          "regions": "WEU",
          "time": "2091-01-01"
         },
         {
          "income": "27656.13095497598",
          "regions": "JPK",
          "time": "2091-01-01"
         },
         {
          "income": "2373.858442397167",
          "regions": "ANZ",
          "time": "2091-01-01"
         },
         {
          "income": "3417.9875402576704",
          "regions": "EEU",
          "time": "2091-01-01"
         },
         {
          "income": "4632.490279249016",
          "regions": "FSU",
          "time": "2091-01-01"
         },
         {
          "income": "12471.905594709875",
          "regions": "MDE",
          "time": "2091-01-01"
         },
         {
          "income": "5627.7424717148015",
          "regions": "CAM",
          "time": "2091-01-01"
         },
         {
          "income": "19350.914145183237",
          "regions": "LAM",
          "time": "2091-01-01"
         },
         {
          "income": "10939.462967902633",
          "regions": "SAS",
          "time": "2091-01-01"
         },
         {
          "income": "14742.572137798672",
          "regions": "SEA",
          "time": "2091-01-01"
         },
         {
          "income": "23944.99912944312",
          "regions": "CHI",
          "time": "2091-01-01"
         },
         {
          "income": "4212.752721788818",
          "regions": "MAF",
          "time": "2091-01-01"
         },
         {
          "income": "7646.420787979819",
          "regions": "SSA",
          "time": "2091-01-01"
         },
         {
          "income": "725.4248451446645",
          "regions": "SIS",
          "time": "2091-01-01"
         },
         {
          "income": "32928.98846382541",
          "regions": "USA",
          "time": "2092-01-01"
         },
         {
          "income": "2622.4697720400145",
          "regions": "CAN",
          "time": "2092-01-01"
         },
         {
          "income": "35689.17006334465",
          "regions": "WEU",
          "time": "2092-01-01"
         },
         {
          "income": "27927.658559392727",
          "regions": "JPK",
          "time": "2092-01-01"
         },
         {
          "income": "2397.06668449197",
          "regions": "ANZ",
          "time": "2092-01-01"
         },
         {
          "income": "3463.136284027297",
          "regions": "EEU",
          "time": "2092-01-01"
         },
         {
          "income": "4689.16400424903",
          "regions": "FSU",
          "time": "2092-01-01"
         },
         {
          "income": "12764.315662685387",
          "regions": "MDE",
          "time": "2092-01-01"
         },
         {
          "income": "5755.152661692629",
          "regions": "CAM",
          "time": "2092-01-01"
         },
         {
          "income": "19787.31688128881",
          "regions": "LAM",
          "time": "2092-01-01"
         },
         {
          "income": "11192.055611642068",
          "regions": "SAS",
          "time": "2092-01-01"
         },
         {
          "income": "15080.471985809847",
          "regions": "SEA",
          "time": "2092-01-01"
         },
         {
          "income": "24514.62179424492",
          "regions": "CHI",
          "time": "2092-01-01"
         },
         {
          "income": "4311.4965173154915",
          "regions": "MAF",
          "time": "2092-01-01"
         },
         {
          "income": "7830.719276360245",
          "regions": "SSA",
          "time": "2092-01-01"
         },
         {
          "income": "742.0168007489184",
          "regions": "SIS",
          "time": "2092-01-01"
         },
         {
          "income": "33223.28999527017",
          "regions": "USA",
          "time": "2093-01-01"
         },
         {
          "income": "2646.1738170320655",
          "regions": "CAN",
          "time": "2093-01-01"
         },
         {
          "income": "36004.72544445401",
          "regions": "WEU",
          "time": "2093-01-01"
         },
         {
          "income": "28196.747669126868",
          "regions": "JPK",
          "time": "2093-01-01"
         },
         {
          "income": "2420.0630125972943",
          "regions": "ANZ",
          "time": "2093-01-01"
         },
         {
          "income": "3507.573181310767",
          "regions": "EEU",
          "time": "2093-01-01"
         },
         {
          "income": "4744.683044387497",
          "regions": "FSU",
          "time": "2093-01-01"
         },
         {
          "income": "13059.750740283853",
          "regions": "MDE",
          "time": "2093-01-01"
         },
         {
          "income": "5883.721377765834",
          "regions": "CAM",
          "time": "2093-01-01"
         },
         {
          "income": "20227.740928980096",
          "regions": "LAM",
          "time": "2093-01-01"
         },
         {
          "income": "11447.113858466913",
          "regions": "SAS",
          "time": "2093-01-01"
         },
         {
          "income": "15421.581047226131",
          "regions": "SEA",
          "time": "2093-01-01"
         },
         {
          "income": "25087.747035269582",
          "regions": "CHI",
          "time": "2093-01-01"
         },
         {
          "income": "4410.778098187676",
          "regions": "MAF",
          "time": "2093-01-01"
         },
         {
          "income": "8016.308692087503",
          "regions": "SSA",
          "time": "2093-01-01"
         },
         {
          "income": "758.768826392373",
          "regions": "SIS",
          "time": "2093-01-01"
         },
         {
          "income": "33516.114706619024",
          "regions": "USA",
          "time": "2094-01-01"
         },
         {
          "income": "2669.7663543467265",
          "regions": "CAN",
          "time": "2094-01-01"
         },
         {
          "income": "36318.51887897984",
          "regions": "WEU",
          "time": "2094-01-01"
         },
         {
          "income": "28462.992309267218",
          "regions": "JPK",
          "time": "2094-01-01"
         },
         {
          "income": "2442.8125768376367",
          "regions": "ANZ",
          "time": "2094-01-01"
         },
         {
          "income": "3551.219852011752",
          "regions": "EEU",
          "time": "2094-01-01"
         },
         {
          "income": "4798.941172938184",
          "regions": "FSU",
          "time": "2094-01-01"
         },
         {
          "income": "13358.104035456514",
          "regions": "MDE",
          "time": "2094-01-01"
         },
         {
          "income": "6013.397294590868",
          "regions": "CAM",
          "time": "2094-01-01"
         },
         {
          "income": "20672.018205276305",
          "regions": "LAM",
          "time": "2094-01-01"
         },
         {
          "income": "11704.540277006576",
          "regions": "SAS",
          "time": "2094-01-01"
         },
         {
          "income": "15765.767186412168",
          "regions": "SEA",
          "time": "2094-01-01"
         },
         {
          "income": "25663.987473995567",
          "regions": "CHI",
          "time": "2094-01-01"
         },
         {
          "income": "4510.528170120422",
          "regions": "MAF",
          "time": "2094-01-01"
         },
         {
          "income": "8203.070957935015",
          "regions": "SSA",
          "time": "2094-01-01"
         },
         {
          "income": "775.6746532462581",
          "regions": "SIS",
          "time": "2094-01-01"
         },
         {
          "income": "33807.0407150901",
          "regions": "USA",
          "time": "2095-01-01"
         },
         {
          "income": "2693.2137382382343",
          "regions": "CAN",
          "time": "2095-01-01"
         },
         {
          "income": "36630.08942211658",
          "regions": "WEU",
          "time": "2095-01-01"
         },
         {
          "income": "28726.545614122126",
          "regions": "JPK",
          "time": "2095-01-01"
         },
         {
          "income": "2465.3285162156776",
          "regions": "ANZ",
          "time": "2095-01-01"
         },
         {
          "income": "3594.067463888981",
          "regions": "EEU",
          "time": "2095-01-01"
         },
         {
          "income": "4851.926544400618",
          "regions": "FSU",
          "time": "2095-01-01"
         },
         {
          "income": "13659.263605925817",
          "regions": "MDE",
          "time": "2095-01-01"
         },
         {
          "income": "6144.126901706991",
          "regions": "CAM",
          "time": "2095-01-01"
         },
         {
          "income": "21119.973459087818",
          "regions": "LAM",
          "time": "2095-01-01"
         },
         {
          "income": "11964.232992040183",
          "regions": "SAS",
          "time": "2095-01-01"
         },
         {
          "income": "16112.892431718428",
          "regions": "SEA",
          "time": "2095-01-01"
         },
         {
          "income": "26242.94260564155",
          "regions": "CHI",
          "time": "2095-01-01"
         },
         {
          "income": "4610.675231802898",
          "regions": "MAF",
          "time": "2095-01-01"
         },
         {
          "income": "8390.88374930222",
          "regions": "SSA",
          "time": "2095-01-01"
         },
         {
          "income": "792.7277310474863",
          "regions": "SIS",
          "time": "2095-01-01"
         },
         {
          "income": "34095.97237654291",
          "regions": "USA",
          "time": "2096-01-01"
         },
         {
          "income": "2716.5083006228883",
          "regions": "CAN",
          "time": "2096-01-01"
         },
         {
          "income": "36939.695993630055",
          "regions": "WEU",
          "time": "2096-01-01"
         },
         {
          "income": "28987.284187040415",
          "regions": "JPK",
          "time": "2096-01-01"
         },
         {
          "income": "2487.600236355613",
          "regions": "ANZ",
          "time": "2096-01-01"
         },
         {
          "income": "3636.0733401605376",
          "regions": "EEU",
          "time": "2096-01-01"
         },
         {
          "income": "4903.581822822352",
          "regions": "FSU",
          "time": "2096-01-01"
         },
         {
          "income": "13963.112389678234",
          "regions": "MDE",
          "time": "2096-01-01"
         },
         {
          "income": "6275.854528281365",
          "regions": "CAM",
          "time": "2096-01-01"
         },
         {
          "income": "21571.424329641042",
          "regions": "LAM",
          "time": "2096-01-01"
         },
         {
          "income": "12226.085726250338",
          "regions": "SAS",
          "time": "2096-01-01"
         },
         {
          "income": "16462.813039178924",
          "regions": "SEA",
          "time": "2096-01-01"
         },
         {
          "income": "26824.19923259476",
          "regions": "CHI",
          "time": "2096-01-01"
         },
         {
          "income": "4711.14566002834",
          "regions": "MAF",
          "time": "2096-01-01"
         },
         {
          "income": "8579.620605105007",
          "regions": "SSA",
          "time": "2096-01-01"
         },
         {
          "income": "809.9212303169498",
          "regions": "SIS",
          "time": "2096-01-01"
         },
         {
          "income": "34382.81396664635",
          "regions": "USA",
          "time": "2097-01-01"
         },
         {
          "income": "2739.6423619566754",
          "regions": "CAN",
          "time": "2097-01-01"
         },
         {
          "income": "37247.24042343949",
          "regions": "WEU",
          "time": "2097-01-01"
         },
         {
          "income": "29245.08493914202",
          "regions": "JPK",
          "time": "2097-01-01"
         },
         {
          "income": "2509.617171488956",
          "regions": "ANZ",
          "time": "2097-01-01"
         },
         {
          "income": "3677.195204773675",
          "regions": "EEU",
          "time": "2097-01-01"
         },
         {
          "income": "4953.850520626615",
          "regions": "FSU",
          "time": "2097-01-01"
         },
         {
          "income": "14269.528193516146",
          "regions": "MDE",
          "time": "2097-01-01"
         },
         {
          "income": "6408.522341115962",
          "regions": "CAM",
          "time": "2097-01-01"
         },
         {
          "income": "22026.181375985816",
          "regions": "LAM",
          "time": "2097-01-01"
         },
         {
          "income": "12489.98778288492",
          "regions": "SAS",
          "time": "2097-01-01"
         },
         {
          "income": "16815.379470771026",
          "regions": "SEA",
          "time": "2097-01-01"
         },
         {
          "income": "27407.33165724079",
          "regions": "CHI",
          "time": "2097-01-01"
         },
         {
          "income": "4811.863743894971",
          "regions": "MAF",
          "time": "2097-01-01"
         },
         {
          "income": "8769.151001280405",
          "regions": "SSA",
          "time": "2097-01-01"
         },
         {
          "income": "827.248042289046",
          "regions": "SIS",
          "time": "2097-01-01"
         },
         {
          "income": "34667.46975869894",
          "regions": "USA",
          "time": "2098-01-01"
         },
         {
          "income": "2762.608237313924",
          "regions": "CAN",
          "time": "2098-01-01"
         },
         {
          "income": "37552.25202463418",
          "regions": "WEU",
          "time": "2098-01-01"
         },
         {
          "income": "29499.825211058538",
          "regions": "JPK",
          "time": "2098-01-01"
         },
         {
          "income": "2531.368794616726",
          "regions": "ANZ",
          "time": "2098-01-01"
         },
         {
          "income": "3717.391260179577",
          "regions": "EEU",
          "time": "2098-01-01"
         },
         {
          "income": "5002.677131888462",
          "regions": "FSU",
          "time": "2098-01-01"
         },
         {
          "income": "14578.383747606014",
          "regions": "MDE",
          "time": "2098-01-01"
         },
         {
          "income": "6542.070381442003",
          "regions": "CAM",
          "time": "2098-01-01"
         },
         {
          "income": "22484.048164807074",
          "regions": "LAM",
          "time": "2098-01-01"
         },
         {
          "income": "12755.82411237911",
          "regions": "SAS",
          "time": "2098-01-01"
         },
         {
          "income": "17170.436492024815",
          "regions": "SEA",
          "time": "2098-01-01"
         },
         {
          "income": "27991.902226616538",
          "regions": "CHI",
          "time": "2098-01-01"
         },
         {
          "income": "4912.751790612506",
          "regions": "MAF",
          "time": "2098-01-01"
         },
         {
          "income": "8959.340490300308",
          "regions": "SSA",
          "time": "2098-01-01"
         },
         {
          "income": "844.7007824720273",
          "regions": "SIS",
          "time": "2098-01-01"
         },
         {
          "income": "34950.19071592254",
          "regions": "USA",
          "time": "2099-01-01"
         },
         {
          "income": "2785.425866719727",
          "regions": "CAN",
          "time": "2099-01-01"
         },
         {
          "income": "37854.99880123516",
          "regions": "WEU",
          "time": "2099-01-01"
         },
         {
          "income": "29751.087796481053",
          "regions": "JPK",
          "time": "2099-01-01"
         },
         {
          "income": "2552.819306822417",
          "regions": "ANZ",
          "time": "2099-01-01"
         },
         {
          "income": "3756.583090478755",
          "regions": "EEU",
          "time": "2099-01-01"
         },
         {
          "income": "5049.957270471691",
          "regions": "FSU",
          "time": "2099-01-01"
         },
         {
          "income": "14889.546746106113",
          "regions": "MDE",
          "time": "2099-01-01"
         },
         {
          "income": "6676.436591848986",
          "regions": "CAM",
          "time": "2099-01-01"
         },
         {
          "income": "22944.821351747156",
          "regions": "LAM",
          "time": "2099-01-01"
         },
         {
          "income": "13023.47535671289",
          "regions": "SAS",
          "time": "2099-01-01"
         },
         {
          "income": "17527.82323676125",
          "regions": "SEA",
          "time": "2099-01-01"
         },
         {
          "income": "28577.461788168603",
          "regions": "CHI",
          "time": "2099-01-01"
         },
         {
          "income": "5013.730211524258",
          "regions": "MAF",
          "time": "2099-01-01"
         },
         {
          "income": "9150.050829675478",
          "regions": "SSA",
          "time": "2099-01-01"
         },
         {
          "income": "862.2717934332068",
          "regions": "SIS",
          "time": "2099-01-01"
         },
         {
          "income": "35230.54024008568",
          "regions": "USA",
          "time": "2100-01-01"
         },
         {
          "income": "2808.060393043755",
          "regions": "CAN",
          "time": "2100-01-01"
         },
         {
          "income": "38155.00401656368",
          "regions": "WEU",
          "time": "2100-01-01"
         },
         {
          "income": "29999.041309087042",
          "regions": "JPK",
          "time": "2100-01-01"
         },
         {
          "income": "2573.9831801618634",
          "regions": "ANZ",
          "time": "2100-01-01"
         },
         {
          "income": "3794.7664600655976",
          "regions": "EEU",
          "time": "2100-01-01"
         },
         {
          "income": "5095.686723225075",
          "regions": "FSU",
          "time": "2100-01-01"
         },
         {
          "income": "15202.879894276377",
          "regions": "MDE",
          "time": "2100-01-01"
         },
         {
          "income": "6811.55684577753",
          "regions": "CAM",
          "time": "2100-01-01"
         },
         {
          "income": "23408.29077300287",
          "regions": "LAM",
          "time": "2100-01-01"
         },
         {
          "income": "13292.817898685327",
          "regions": "SAS",
          "time": "2100-01-01"
         },
         {
          "income": "17887.373277984523",
          "regions": "SEA",
          "time": "2100-01-01"
         },
         {
          "income": "29163.55016824546",
          "regions": "CHI",
          "time": "2100-01-01"
         },
         {
          "income": "5114.717611710295",
          "regions": "MAF",
          "time": "2100-01-01"
         },
         {
          "income": "9341.140119105066",
          "regions": "SSA",
          "time": "2100-01-01"
         },
         {
          "income": "879.9531479384118",
          "regions": "SIS",
          "time": "2100-01-01"
         },
         {
          "income": "35508.4229184307",
          "regions": "USA",
          "time": "2101-01-01"
         },
         {
          "income": "2830.5041404729045",
          "regions": "CAN",
          "time": "2101-01-01"
         },
         {
          "income": "38452.54214562796",
          "regions": "WEU",
          "time": "2101-01-01"
         },
         {
          "income": "30243.56512905428",
          "regions": "JPK",
          "time": "2101-01-01"
         },
         {
          "income": "2594.85006821485",
          "regions": "ANZ",
          "time": "2101-01-01"
         },
         {
          "income": "3831.901476828425",
          "regions": "EEU",
          "time": "2101-01-01"
         },
         {
          "income": "5139.8136609068215",
          "regions": "FSU",
          "time": "2101-01-01"
         },
         {
          "income": "15518.241037332848",
          "regions": "MDE",
          "time": "2101-01-01"
         },
         {
          "income": "6947.365024489096",
          "regions": "CAM",
          "time": "2101-01-01"
         },
         {
          "income": "23874.239604917875",
          "regions": "LAM",
          "time": "2101-01-01"
         },
         {
          "income": "13563.724014043988",
          "regions": "SAS",
          "time": "2101-01-01"
         },
         {
          "income": "18248.914842345726",
          "regions": "SEA",
          "time": "2101-01-01"
         },
         {
          "income": "29749.69707388933",
          "regions": "CHI",
          "time": "2101-01-01"
         },
         {
          "income": "5215.630964439765",
          "regions": "MAF",
          "time": "2101-01-01"
         },
         {
          "income": "9532.463015358955",
          "regions": "SSA",
          "time": "2101-01-01"
         },
         {
          "income": "897.7366564408447",
          "regions": "SIS",
          "time": "2101-01-01"
         },
         {
          "income": "35786.93927802853",
          "regions": "USA",
          "time": "2102-01-01"
         },
         {
          "income": "2853.0042114127446",
          "regions": "CAN",
          "time": "2102-01-01"
         },
         {
          "income": "38750.59188341958",
          "regions": "WEU",
          "time": "2102-01-01"
         },
         {
          "income": "30488.786133145266",
          "regions": "JPK",
          "time": "2102-01-01"
         },
         {
          "income": "2615.7740398199026",
          "regions": "ANZ",
          "time": "2102-01-01"
         },
         {
          "income": "3869.213302485201",
          "regions": "EEU",
          "time": "2102-01-01"
         },
         {
          "income": "5183.981701875579",
          "regions": "FSU",
          "time": "2102-01-01"
         },
         {
          "income": "15836.104127833909",
          "regions": "MDE",
          "time": "2102-01-01"
         },
         {
          "income": "7084.425222949094",
          "regions": "CAM",
          "time": "2102-01-01"
         },
         {
          "income": "24344.616828669423",
          "regions": "LAM",
          "time": "2102-01-01"
         },
         {
          "income": "13836.604942683796",
          "regions": "SAS",
          "time": "2102-01-01"
         },
         {
          "income": "18613.001680963873",
          "regions": "SEA",
          "time": "2102-01-01"
         },
         {
          "income": "30341.107306396076",
          "regions": "CHI",
          "time": "2102-01-01"
         },
         {
          "income": "5317.126156135274",
          "regions": "MAF",
          "time": "2102-01-01"
         },
         {
          "income": "9725.22445961768",
          "regions": "SSA",
          "time": "2102-01-01"
         },
         {
          "income": "915.6955814895988",
          "regions": "SIS",
          "time": "2102-01-01"
         },
         {
          "income": "36066.06938689443",
          "regions": "USA",
          "time": "2103-01-01"
         },
         {
          "income": "2875.5590047125497",
          "regions": "CAN",
          "time": "2103-01-01"
         },
         {
          "income": "39049.127776439076",
          "regions": "WEU",
          "time": "2103-01-01"
         },
         {
          "income": "30734.68702908628",
          "regions": "JPK",
          "time": "2103-01-01"
         },
         {
          "income": "2636.753571909292",
          "regions": "ANZ",
          "time": "2103-01-01"
         },
         {
          "income": "3906.6997418250885",
          "regions": "EEU",
          "time": "2103-01-01"
         },
         {
          "income": "5228.184876164234",
          "regions": "FSU",
          "time": "2103-01-01"
         },
         {
          "income": "16156.355111979414",
          "regions": "MDE",
          "time": "2103-01-01"
         },
         {
          "income": "7222.7045551844485",
          "regions": "CAM",
          "time": "2103-01-01"
         },
         {
          "income": "24819.32000670664",
          "regions": "LAM",
          "time": "2103-01-01"
         },
         {
          "income": "14111.357812833534",
          "regions": "SAS",
          "time": "2103-01-01"
         },
         {
          "income": "18979.49583330262",
          "regions": "SEA",
          "time": "2103-01-01"
         },
         {
          "income": "30937.628880518165",
          "regions": "CHI",
          "time": "2103-01-01"
         },
         {
          "income": "5419.160532546376",
          "regions": "MAF",
          "time": "2103-01-01"
         },
         {
          "income": "9919.35424531873",
          "regions": "SSA",
          "time": "2103-01-01"
         },
         {
          "income": "933.826086786694",
          "regions": "SIS",
          "time": "2103-01-01"
         },
         {
          "income": "36345.793040626864",
          "regions": "USA",
          "time": "2104-01-01"
         },
         {
          "income": "2898.166896244565",
          "regions": "CAN",
          "time": "2104-01-01"
         },
         {
          "income": "39348.12400853166",
          "regions": "WEU",
          "time": "2104-01-01"
         },
         {
          "income": "30981.25017284641",
          "regions": "JPK",
          "time": "2104-01-01"
         },
         {
          "income": "2657.787111338925",
          "regions": "ANZ",
          "time": "2104-01-01"
         },
         {
          "income": "3944.3585410343458",
          "regions": "EEU",
          "time": "2104-01-01"
         },
         {
          "income": "5272.4171582077915",
          "regions": "FSU",
          "time": "2104-01-01"
         },
         {
          "income": "16478.87568650565",
          "regions": "MDE",
          "time": "2104-01-01"
         },
         {
          "income": "7362.168674594141",
          "regions": "CAM",
          "time": "2104-01-01"
         },
         {
          "income": "25298.24200760188",
          "regions": "LAM",
          "time": "2104-01-01"
         },
         {
          "income": "14387.876145611013",
          "regions": "SAS",
          "time": "2104-01-01"
         },
         {
          "income": "19348.25468603128",
          "regions": "SEA",
          "time": "2104-01-01"
         },
         {
          "income": "31539.1033981195",
          "regions": "CHI",
          "time": "2104-01-01"
         },
         {
          "income": "5521.690197070776",
          "regions": "MAF",
          "time": "2104-01-01"
         },
         {
          "income": "10114.77964776538",
          "regions": "SSA",
          "time": "2104-01-01"
         },
         {
          "income": "952.124145744282",
          "regions": "SIS",
          "time": "2104-01-01"
         },
         {
          "income": "36626.08982222842",
          "regions": "USA",
          "time": "2105-01-01"
         },
         {
          "income": "2920.826242750746",
          "regions": "CAN",
          "time": "2105-01-01"
         },
         {
          "income": "39647.55449999303",
          "regions": "WEU",
          "time": "2105-01-01"
         },
         {
          "income": "31228.457619717225",
          "regions": "JPK",
          "time": "2105-01-01"
         },
         {
          "income": "2678.8730801152988",
          "regions": "ANZ",
          "time": "2105-01-01"
         },
         {
          "income": "3982.187392678177",
          "regions": "EEU",
          "time": "2105-01-01"
         },
         {
          "income": "5316.672471841155",
          "regions": "FSU",
          "time": "2105-01-01"
         },
         {
          "income": "16803.543340187447",
          "regions": "MDE",
          "time": "2105-01-01"
         },
         {
          "income": "7502.781787505677",
          "regions": "CAM",
          "time": "2105-01-01"
         },
         {
          "income": "25781.27104301709",
          "regions": "LAM",
          "time": "2105-01-01"
         },
         {
          "income": "14666.049913579567",
          "regions": "SAS",
          "time": "2105-01-01"
         },
         {
          "income": "19719.13105052483",
          "regions": "SEA",
          "time": "2105-01-01"
         },
         {
          "income": "32145.366150032074",
          "regions": "CHI",
          "time": "2105-01-01"
         },
         {
          "income": "5624.670054316051",
          "regions": "MAF",
          "time": "2105-01-01"
         },
         {
          "income": "10311.425508631604",
          "regions": "SSA",
          "time": "2105-01-01"
         },
         {
          "income": "970.5855452651899",
          "regions": "SIS",
          "time": "2105-01-01"
         },
         {
          "income": "36906.939108279614",
          "regions": "USA",
          "time": "2106-01-01"
         },
         {
          "income": "2943.5353823138043",
          "regions": "CAN",
          "time": "2106-01-01"
         },
         {
          "income": "39947.392921266844",
          "regions": "WEU",
          "time": "2106-01-01"
         },
         {
          "income": "31476.291130576235",
          "regions": "JPK",
          "time": "2106-01-01"
         },
         {
          "income": "2700.0098759048537",
          "regions": "ANZ",
          "time": "2106-01-01"
         },
         {
          "income": "4020.1839369606237",
          "regions": "EEU",
          "time": "2106-01-01"
         },
         {
          "income": "5360.944695826794",
          "regions": "FSU",
          "time": "2106-01-01"
         },
         {
          "income": "17130.23140033208",
          "regions": "MDE",
          "time": "2106-01-01"
         },
         {
          "income": "7644.506656954937",
          "regions": "CAM",
          "time": "2106-01-01"
         },
         {
          "income": "26268.290670169787",
          "regions": "LAM",
          "time": "2106-01-01"
         },
         {
          "income": "14945.765589986999",
          "regions": "SAS",
          "time": "2106-01-01"
         },
         {
          "income": "20091.973233187524",
          "regions": "SEA",
          "time": "2106-01-01"
         },
         {
          "income": "32756.246160435345",
          "regions": "CHI",
          "time": "2106-01-01"
         },
         {
          "income": "5728.053839785688",
          "regions": "MAF",
          "time": "2106-01-01"
         },
         {
          "income": "10509.214268917647",
          "regions": "SSA",
          "time": "2106-01-01"
         },
         {
          "income": "989.2058857064119",
          "regions": "SIS",
          "time": "2106-01-01"
         },
         {
          "income": "37188.32007446411",
          "regions": "USA",
          "time": "2107-01-01"
         },
         {
          "income": "2966.2926347882185",
          "regions": "CAN",
          "time": "2107-01-01"
         },
         {
          "income": "40247.61270474865",
          "regions": "WEU",
          "time": "2107-01-01"
         },
         {
          "income": "31724.732177120586",
          "regions": "JPK",
          "time": "2107-01-01"
         },
         {
          "income": "2721.1958724886535",
          "regions": "ANZ",
          "time": "2107-01-01"
         },
         {
          "income": "4058.345762754926",
          "regions": "EEU",
          "time": "2107-01-01"
         },
         {
          "income": "5405.2276685682655",
          "regions": "FSU",
          "time": "2107-01-01"
         },
         {
          "income": "17458.809084875837",
          "regions": "MDE",
          "time": "2107-01-01"
         },
         {
          "income": "7787.304607614752",
          "regions": "CAM",
          "time": "2107-01-01"
         },
         {
          "income": "26759.1797984162",
          "regions": "LAM",
          "time": "2107-01-01"
         },
         {
          "income": "15226.90620272542",
          "regions": "SAS",
          "time": "2107-01-01"
         },
         {
          "income": "20466.625111545778",
          "regions": "SEA",
          "time": "2107-01-01"
         },
         {
          "income": "33371.56623402962",
          "regions": "CHI",
          "time": "2107-01-01"
         },
         {
          "income": "5831.7941509321945",
          "regions": "MAF",
          "time": "2107-01-01"
         },
         {
          "income": "10708.06600505123",
          "regions": "SSA",
          "time": "2107-01-01"
         },
         {
          "income": "1007.980580976628",
          "regions": "SIS",
          "time": "2107-01-01"
         },
         {
          "income": "37470.21169984765",
          "regions": "USA",
          "time": "2108-01-01"
         },
         {
          "income": "2989.0963022424776",
          "regions": "CAN",
          "time": "2108-01-01"
         },
         {
          "income": "40548.18704195814",
          "regions": "WEU",
          "time": "2108-01-01"
         },
         {
          "income": "31973.761928194035",
          "regions": "JPK",
          "time": "2108-01-01"
         },
         {
          "income": "2742.4294190675582",
          "regions": "ANZ",
          "time": "2108-01-01"
         },
         {
          "income": "4096.670406977483",
          "regions": "EEU",
          "time": "2108-01-01"
         },
         {
          "income": "5449.515191691596",
          "regions": "FSU",
          "time": "2108-01-01"
         },
         {
          "income": "17789.141551858742",
          "regions": "MDE",
          "time": "2108-01-01"
         },
         {
          "income": "7931.1355275375045",
          "regions": "CAM",
          "time": "2108-01-01"
         },
         {
          "income": "27253.8126945661",
          "regions": "LAM",
          "time": "2108-01-01"
         },
         {
          "income": "15509.35138505414",
          "regions": "SAS",
          "time": "2108-01-01"
         },
         {
          "income": "20842.926204047195",
          "regions": "SEA",
          "time": "2108-01-01"
         },
         {
          "income": "33991.14294746233",
          "regions": "CHI",
          "time": "2108-01-01"
         },
         {
          "income": "5935.842479481789",
          "regions": "MAF",
          "time": "2108-01-01"
         },
         {
          "income": "10907.898467358173",
          "regions": "SSA",
          "time": "2108-01-01"
         },
         {
          "income": "1026.9048576950076",
          "regions": "SIS",
          "time": "2108-01-01"
         },
         {
          "income": "37752.59276913776",
          "regions": "USA",
          "time": "2109-01-01"
         },
         {
          "income": "3011.944669180496",
          "regions": "CAN",
          "time": "2109-01-01"
         },
         {
          "income": "40849.088885586156",
          "regions": "WEU",
          "time": "2109-01-01"
         },
         {
          "income": "32223.361248987872",
          "regions": "JPK",
          "time": "2109-01-01"
         },
         {
          "income": "2763.7088402670583",
          "regions": "ANZ",
          "time": "2109-01-01"
         },
         {
          "income": "4135.155354422263",
          "regions": "EEU",
          "time": "2109-01-01"
         },
         {
          "income": "5493.801031047263",
          "regions": "FSU",
          "time": "2109-01-01"
         },
         {
          "income": "18121.08995945971",
          "regions": "MDE",
          "time": "2109-01-01"
         },
         {
          "income": "8075.957873556973",
          "regions": "CAM",
          "time": "2109-01-01"
         },
         {
          "income": "27752.05899553635",
          "regions": "LAM",
          "time": "2109-01-01"
         },
         {
          "income": "15792.977434810446",
          "regions": "SAS",
          "time": "2109-01-01"
         },
         {
          "income": "21220.71175217609",
          "regions": "SEA",
          "time": "2109-01-01"
         },
         {
          "income": "34614.78668188935",
          "regions": "CHI",
          "time": "2109-01-01"
         },
         {
          "income": "6040.149243152895",
          "regions": "MAF",
          "time": "2109-01-01"
         },
         {
          "income": "11108.62712055199",
          "regions": "SSA",
          "time": "2109-01-01"
         },
         {
          "income": "1045.973755262472",
          "regions": "SIS",
          "time": "2109-01-01"
         },
         {
          "income": "38035.441890925664",
          "regions": "USA",
          "time": "2110-01-01"
         },
         {
          "income": "3034.8360037852544",
          "regions": "CAN",
          "time": "2110-01-01"
         },
         {
          "income": "41150.29100493771",
          "regions": "WEU",
          "time": "2110-01-01"
         },
         {
          "income": "32473.51074087953",
          "regions": "JPK",
          "time": "2110-01-01"
         },
         {
          "income": "2785.032438912869",
          "regions": "ANZ",
          "time": "2110-01-01"
         },
         {
          "income": "4173.798044306266",
          "regions": "EEU",
          "time": "2110-01-01"
         },
         {
          "income": "5538.078935451106",
          "regions": "FSU",
          "time": "2110-01-01"
         },
         {
          "income": "18454.511560569623",
          "regions": "MDE",
          "time": "2110-01-01"
         },
         {
          "income": "8221.72869408918",
          "regions": "CAM",
          "time": "2110-01-01"
         },
         {
          "income": "28253.783745406457",
          "regions": "LAM",
          "time": "2110-01-01"
         },
         {
          "income": "16077.657411044931",
          "regions": "SAS",
          "time": "2110-01-01"
         },
         {
          "income": "21599.812855082735",
          "regions": "SEA",
          "time": "2110-01-01"
         },
         {
          "income": "35242.30183126513",
          "regions": "CHI",
          "time": "2110-01-01"
         },
         {
          "income": "6144.6638352978625",
          "regions": "MAF",
          "time": "2110-01-01"
         },
         {
          "income": "11310.165202713779",
          "regions": "SSA",
          "time": "2110-01-01"
         },
         {
          "income": "1065.1821285536978",
          "regions": "SIS",
          "time": "2110-01-01"
         },
         {
          "income": "38318.73749762132",
          "regions": "USA",
          "time": "2111-01-01"
         },
         {
          "income": "3057.7685579649797",
          "regions": "CAN",
          "time": "2111-01-01"
         },
         {
          "income": "41451.765984108126",
          "regions": "WEU",
          "time": "2111-01-01"
         },
         {
          "income": "32724.190741086855",
          "regions": "JPK",
          "time": "2111-01-01"
         },
         {
          "income": "2806.398496038901",
          "regions": "ANZ",
          "time": "2111-01-01"
         },
         {
          "income": "4212.595869620607",
          "regions": "EEU",
          "time": "2111-01-01"
         },
         {
          "income": "5582.342634923339",
          "regions": "FSU",
          "time": "2111-01-01"
         },
         {
          "income": "18789.259775244736",
          "regions": "MDE",
          "time": "2111-01-01"
         },
         {
          "income": "8368.403637458197",
          "regions": "CAM",
          "time": "2111-01-01"
         },
         {
          "income": "28758.847417448946",
          "regions": "LAM",
          "time": "2111-01-01"
         },
         {
          "income": "16363.261203298782",
          "regions": "SAS",
          "time": "2111-01-01"
         },
         {
          "income": "21980.05656442774",
          "regions": "SEA",
          "time": "2111-01-01"
         },
         {
          "income": "35873.48684989967",
          "regions": "CHI",
          "time": "2111-01-01"
         },
         {
          "income": "6249.33465823325",
          "regions": "MAF",
          "time": "2111-01-01"
         },
         {
          "income": "11512.423771425625",
          "regions": "SSA",
          "time": "2111-01-01"
         },
         {
          "income": "1084.5246484874428",
          "regions": "SIS",
          "time": "2111-01-01"
         },
         {
          "income": "38602.457856780704",
          "regions": "USA",
          "time": "2112-01-01"
         },
         {
          "income": "3080.74056823558",
          "regions": "CAN",
          "time": "2112-01-01"
         },
         {
          "income": "41753.48624626715",
          "regions": "WEU",
          "time": "2112-01-01"
         },
         {
          "income": "32975.38133315916",
          "regions": "JPK",
          "time": "2112-01-01"
         },
         {
          "income": "2827.8052717922587",
          "regions": "ANZ",
          "time": "2112-01-01"
         },
         {
          "income": "4251.546179962591",
          "regions": "EEU",
          "time": "2112-01-01"
         },
         {
          "income": "5626.585851889886",
          "regions": "FSU",
          "time": "2112-01-01"
         },
         {
          "income": "19126.140588688653",
          "regions": "MDE",
          "time": "2112-01-01"
         },
         {
          "income": "8515.936968963992",
          "regions": "CAM",
          "time": "2112-01-01"
         },
         {
          "income": "29267.1059497581",
          "regions": "LAM",
          "time": "2112-01-01"
         },
         {
          "income": "16650.4881461261",
          "regions": "SAS",
          "time": "2112-01-01"
         },
         {
          "income": "22362.38412618375",
          "regions": "SEA",
          "time": "2112-01-01"
         },
         {
          "income": "36508.13436875994",
          "regions": "CHI",
          "time": "2112-01-01"
         },
         {
          "income": "6354.109170392828",
          "regions": "MAF",
          "time": "2112-01-01"
         },
         {
          "income": "11715.311763876965",
          "regions": "SSA",
          "time": "2112-01-01"
         },
         {
          "income": "1103.9958034261",
          "regions": "SIS",
          "time": "2112-01-01"
         },
         {
          "income": "38886.581078078205",
          "regions": "USA",
          "time": "2113-01-01"
         },
         {
          "income": "3103.7502568411023",
          "regions": "CAN",
          "time": "2113-01-01"
         },
         {
          "income": "42055.42405974653",
          "regions": "WEU",
          "time": "2113-01-01"
         },
         {
          "income": "33227.06234954455",
          "regions": "JPK",
          "time": "2113-01-01"
         },
         {
          "income": "2849.2510064146786",
          "regions": "ANZ",
          "time": "2113-01-01"
         },
         {
          "income": "4290.646281440645",
          "regions": "EEU",
          "time": "2113-01-01"
         },
         {
          "income": "5670.802301253029",
          "regions": "FSU",
          "time": "2113-01-01"
         },
         {
          "income": "19465.05077561458",
          "regions": "MDE",
          "time": "2113-01-01"
         },
         {
          "income": "8664.28158376262",
          "regions": "CAM",
          "time": "2113-01-01"
         },
         {
          "income": "29778.410778788988",
          "regions": "LAM",
          "time": "2113-01-01"
         },
         {
          "income": "16939.245333904226",
          "regions": "SAS",
          "time": "2113-01-01"
         },
         {
          "income": "22746.672445866436",
          "regions": "SEA",
          "time": "2113-01-01"
         },
         {
          "income": "37146.03126815124",
          "regions": "CHI",
          "time": "2113-01-01"
         },
         {
          "income": "6458.933925081487",
          "regions": "MAF",
          "time": "2113-01-01"
         },
         {
          "income": "11918.736051821745",
          "regions": "SSA",
          "time": "2113-01-01"
         },
         {
          "income": "1123.5899002720787",
          "regions": "SIS",
          "time": "2113-01-01"
         },
         {
          "income": "39171.08511290319",
          "regions": "USA",
          "time": "2114-01-01"
         },
         {
          "income": "3126.795830674918",
          "regions": "CAN",
          "time": "2114-01-01"
         },
         {
          "income": "42357.55155280273",
          "regions": "WEU",
          "time": "2114-01-01"
         },
         {
          "income": "33479.21338108226",
          "regions": "JPK",
          "time": "2114-01-01"
         },
         {
          "income": "2870.7339195672944",
          "regions": "ANZ",
          "time": "2114-01-01"
         },
         {
          "income": "4329.893439332946",
          "regions": "EEU",
          "time": "2114-01-01"
         },
         {
          "income": "5714.985700288815",
          "regions": "FSU",
          "time": "2114-01-01"
         },
         {
          "income": "19805.883977622085",
          "regions": "MDE",
          "time": "2114-01-01"
         },
         {
          "income": "8813.38902724248",
          "regions": "CAM",
          "time": "2114-01-01"
         },
         {
          "income": "30292.608884987345",
          "regions": "LAM",
          "time": "2114-01-01"
         },
         {
          "income": "17229.437222466942",
          "regions": "SAS",
          "time": "2114-01-01"
         },
         {
          "income": "23132.795085376612",
          "regions": "SEA",
          "time": "2114-01-01"
         },
         {
          "income": "37786.95880921427",
          "regions": "CHI",
          "time": "2114-01-01"
         },
         {
          "income": "6563.7546201762525",
          "regions": "MAF",
          "time": "2114-01-01"
         },
         {
          "income": "12122.601508123154",
          "regions": "SSA",
          "time": "2114-01-01"
         },
         {
          "income": "1143.3010663321575",
          "regions": "SIS",
          "time": "2114-01-01"
         },
         {
          "income": "39455.94776274762",
          "regions": "USA",
          "time": "2115-01-01"
         },
         {
          "income": "3149.875482502379",
          "regions": "CAN",
          "time": "2115-01-01"
         },
         {
          "income": "42659.84072303835",
          "regions": "WEU",
          "time": "2115-01-01"
         },
         {
          "income": "33731.81378125354",
          "regions": "JPK",
          "time": "2115-01-01"
         },
         {
          "income": "2892.2522114431",
          "regions": "ANZ",
          "time": "2115-01-01"
         },
         {
          "income": "4369.284878490262",
          "regions": "EEU",
          "time": "2115-01-01"
         },
         {
          "income": "5759.12977037244",
          "regions": "FSU",
          "time": "2115-01-01"
         },
         {
          "income": "20148.530741939663",
          "regions": "MDE",
          "time": "2115-01-01"
         },
         {
          "income": "8963.20951241752",
          "regions": "CAM",
          "time": "2115-01-01"
         },
         {
          "income": "30809.542837888588",
          "regions": "LAM",
          "time": "2115-01-01"
         },
         {
          "income": "17520.96570385433",
          "regions": "SAS",
          "time": "2115-01-01"
         },
         {
          "income": "23520.62234991378",
          "regions": "SEA",
          "time": "2115-01-01"
         },
         {
          "income": "38430.69273058222",
          "regions": "CHI",
          "time": "2115-01-01"
         },
         {
          "income": "6668.516142004108",
          "regions": "MAF",
          "time": "2115-01-01"
         },
         {
          "income": "12326.811070313199",
          "regions": "SSA",
          "time": "2115-01-01"
         },
         {
          "income": "1163.1232509345941",
          "regions": "SIS",
          "time": "2115-01-01"
         },
         {
          "income": "39741.14668585923",
          "regions": "USA",
          "time": "2116-01-01"
         },
         {
          "income": "3172.987391514553",
          "regions": "CAN",
          "time": "2116-01-01"
         },
         {
          "income": "42962.263451030725",
          "regions": "WEU",
          "time": "2116-01-01"
         },
         {
          "income": "33984.84267309888",
          "regions": "JPK",
          "time": "2116-01-01"
         },
         {
          "income": "2913.804063373166",
          "regions": "ANZ",
          "time": "2116-01-01"
         },
         {
          "income": "4408.817784851455",
          "regions": "EEU",
          "time": "2116-01-01"
         },
         {
          "income": "5803.228242735205",
          "regions": "FSU",
          "time": "2116-01-01"
         },
         {
          "income": "20492.878563624232",
          "regions": "MDE",
          "time": "2116-01-01"
         },
         {
          "income": "9113.69194136213",
          "regions": "CAM",
          "time": "2116-01-01"
         },
         {
          "income": "31329.050849166983",
          "regions": "LAM",
          "time": "2116-01-01"
         },
         {
          "income": "17813.730150625306",
          "regions": "SAS",
          "time": "2116-01-01"
         },
         {
          "income": "23910.02134828189",
          "regions": "SEA",
          "time": "2116-01-01"
         },
         {
          "income": "39077.00337217476",
          "regions": "CHI",
          "time": "2116-01-01"
         },
         {
          "income": "6773.162614687448",
          "regions": "MAF",
          "time": "2116-01-01"
         },
         {
          "income": "12531.26581096762",
          "regions": "SSA",
          "time": "2116-01-01"
         },
         {
          "income": "1183.0502274637226",
          "regions": "SIS",
          "time": "2116-01-01"
         },
         {
          "income": "40026.65940213761",
          "regions": "USA",
          "time": "2117-01-01"
         },
         {
          "income": "3196.1297237533163",
          "regions": "CAN",
          "time": "2117-01-01"
         },
         {
          "income": "43264.79150993194",
          "regions": "WEU",
          "time": "2117-01-01"
         },
         {
          "income": "34238.278954618916",
          "regions": "JPK",
          "time": "2117-01-01"
         },
         {
          "income": "2935.3876383056586",
          "regions": "ANZ",
          "time": "2117-01-01"
         },
         {
          "income": "4448.4893064388625",
          "regions": "EEU",
          "time": "2117-01-01"
         },
         {
          "income": "5847.274862184737",
          "regions": "FSU",
          "time": "2117-01-01"
         },
         {
          "income": "20838.811929830357",
          "regions": "MDE",
          "time": "2117-01-01"
         },
         {
          "income": "9264.783927311335",
          "regions": "CAM",
          "time": "2117-01-01"
         },
         {
          "income": "31850.96682962665",
          "regions": "LAM",
          "time": "2117-01-01"
         },
         {
          "income": "18107.62746120947",
          "regions": "SAS",
          "time": "2117-01-01"
         },
         {
          "income": "24300.85605422134",
          "regions": "SEA",
          "time": "2117-01-01"
         },
         {
          "income": "39725.6557970539",
          "regions": "CHI",
          "time": "2117-01-01"
         },
         {
          "income": "6877.637449219603",
          "regions": "MAF",
          "time": "2117-01-01"
         },
         {
          "income": "12735.86500993057",
          "regions": "SSA",
          "time": "2117-01-01"
         },
         {
          "income": "1203.0755955190866",
          "regions": "SIS",
          "time": "2117-01-01"
         },
         {
          "income": "40312.46330185442",
          "regions": "USA",
          "time": "2118-01-01"
         },
         {
          "income": "3219.3006328274378",
          "regions": "CAN",
          "time": "2118-01-01"
         },
         {
          "income": "43567.396583795155",
          "regions": "WEU",
          "time": "2118-01-01"
         },
         {
          "income": "34492.10130800411",
          "regions": "JPK",
          "time": "2118-01-01"
         },
         {
          "income": "2957.001081606469",
          "regions": "ANZ",
          "time": "2118-01-01"
         },
         {
          "income": "4488.296555562702",
          "regions": "EEU",
          "time": "2118-01-01"
         },
         {
          "income": "5891.2633951564385",
          "regions": "FSU",
          "time": "2118-01-01"
         },
         {
          "income": "21186.212372470854",
          "regions": "MDE",
          "time": "2118-01-01"
         },
         {
          "income": "9416.431821098378",
          "regions": "CAM",
          "time": "2118-01-01"
         },
         {
          "income": "32375.120454464526",
          "regions": "LAM",
          "time": "2118-01-01"
         },
         {
          "income": "18402.552114233094",
          "regions": "SAS",
          "time": "2118-01-01"
         },
         {
          "income": "24692.98737930859",
          "regions": "SEA",
          "time": "2118-01-01"
         },
         {
          "income": "40376.40994251716",
          "regions": "CHI",
          "time": "2118-01-01"
         },
         {
          "income": "6981.883398280311",
          "regions": "MAF",
          "time": "2118-01-01"
         },
         {
          "income": "12940.506233602897",
          "regions": "SSA",
          "time": "2118-01-01"
         },
         {
          "income": "1223.192783516259",
          "regions": "SIS",
          "time": "2118-01-01"
         },
         {
          "income": "40598.53564882972",
          "regions": "USA",
          "time": "2119-01-01"
         },
         {
          "income": "3242.49826021407",
          "regions": "CAN",
          "time": "2119-01-01"
         },
         {
          "income": "43870.05027319961",
          "regions": "WEU",
          "time": "2119-01-01"
         },
         {
          "income": "34746.288203669734",
          "regions": "JPK",
          "time": "2119-01-01"
         },
         {
          "income": "2978.6425214238093",
          "regions": "ANZ",
          "time": "2119-01-01"
         },
         {
          "income": "4528.23660932839",
          "regions": "EEU",
          "time": "2119-01-01"
         },
         {
          "income": "5935.187631418945",
          "regions": "FSU",
          "time": "2119-01-01"
         },
         {
          "income": "21534.958518618918",
          "regions": "MDE",
          "time": "2119-01-01"
         },
         {
          "income": "9568.580735736541",
          "regions": "CAM",
          "time": "2119-01-01"
         },
         {
          "income": "32901.33722956524",
          "regions": "LAM",
          "time": "2119-01-01"
         },
         {
          "income": "18698.396218415408",
          "regions": "SAS",
          "time": "2119-01-01"
         },
         {
          "income": "25086.27323962731",
          "regions": "SEA",
          "time": "2119-01-01"
         },
         {
          "income": "41029.020747710034",
          "regions": "CHI",
          "time": "2119-01-01"
         },
         {
          "income": "7085.842606528194",
          "regions": "MAF",
          "time": "2119-01-01"
         },
         {
          "income": "13145.085412361395",
          "regions": "SSA",
          "time": "2119-01-01"
         },
         {
          "income": "1243.3950511961757",
          "regions": "SIS",
          "time": "2119-01-01"
         },
         {
          "income": "40884.85358915017",
          "regions": "USA",
          "time": "2120-01-01"
         },
         {
          "income": "3265.7207359821414",
          "regions": "CAN",
          "time": "2120-01-01"
         },
         {
          "income": "44172.724113536504",
          "regions": "WEU",
          "time": "2120-01-01"
         },
         {
          "income": "35000.81790979144",
          "regions": "JPK",
          "time": "2120-01-01"
         },
         {
          "income": "3000.3100695153394",
          "regions": "ANZ",
          "time": "2120-01-01"
         },
         {
          "income": "4568.306511891646",
          "regions": "EEU",
          "time": "2120-01-01"
         },
         {
          "income": "5979.041392069481",
          "regions": "FSU",
          "time": "2120-01-01"
         },
         {
          "income": "21884.926151306878",
          "regions": "MDE",
          "time": "2120-01-01"
         },
         {
          "income": "9721.174576493187",
          "regions": "CAM",
          "time": "2120-01-01"
         },
         {
          "income": "33429.43856742256",
          "regions": "LAM",
          "time": "2120-01-01"
         },
         {
          "income": "18995.04957392654",
          "regions": "SAS",
          "time": "2120-01-01"
         },
         {
          "income": "25480.568637250708",
          "regions": "SEA",
          "time": "2120-01-01"
         },
         {
          "income": "41683.23832004623",
          "regions": "CHI",
          "time": "2120-01-01"
         },
         {
          "income": "7189.4566683805015",
          "regions": "MAF",
          "time": "2120-01-01"
         },
         {
          "income": "13349.496926541196",
          "regions": "SSA",
          "time": "2120-01-01"
         },
         {
          "income": "1263.6754926770302",
          "regions": "SIS",
          "time": "2120-01-01"
         },
         {
          "income": "41171.394156974326",
          "regions": "USA",
          "time": "2121-01-01"
         },
         {
          "income": "3288.966179298806",
          "regions": "CAN",
          "time": "2121-01-01"
         },
         {
          "income": "44475.38958659925",
          "regions": "WEU",
          "time": "2121-01-01"
         },
         {
          "income": "35255.66849917001",
          "regions": "JPK",
          "time": "2121-01-01"
         },
         {
          "income": "3022.001821851408",
          "regions": "ANZ",
          "time": "2121-01-01"
         },
         {
          "income": "4608.50327583278",
          "regions": "EEU",
          "time": "2121-01-01"
         },
         {
          "income": "6022.818534182721",
          "regions": "FSU",
          "time": "2121-01-01"
         },
         {
          "income": "22235.988271054026",
          "regions": "MDE",
          "time": "2121-01-01"
         },
         {
          "income": "9874.156070839641",
          "regions": "CAM",
          "time": "2121-01-01"
         },
         {
          "income": "33959.24186613624",
          "regions": "LAM",
          "time": "2121-01-01"
         },
         {
          "income": "19292.39973305431",
          "regions": "SAS",
          "time": "2121-01-01"
         },
         {
          "income": "25875.72574044324",
          "regions": "SEA",
          "time": "2121-01-01"
         },
         {
          "income": "42338.80809277928",
          "regions": "CHI",
          "time": "2121-01-01"
         },
         {
          "income": "7292.666684001319",
          "regions": "MAF",
          "time": "2121-01-01"
         },
         {
          "income": "13553.63369289115",
          "regions": "SSA",
          "time": "2121-01-01"
         },
         {
          "income": "1284.0270395649939",
          "regions": "SIS",
          "time": "2121-01-01"
         },
         {
          "income": "41458.13427588587",
          "regions": "USA",
          "time": "2122-01-01"
         },
         {
          "income": "3312.2326985967943",
          "regions": "CAN",
          "time": "2122-01-01"
         },
         {
          "income": "44778.018121972214",
          "regions": "WEU",
          "time": "2122-01-01"
         },
         {
          "income": "35510.817851816435",
          "regions": "JPK",
          "time": "2122-01-01"
         },
         {
          "income": "3043.7158588560187",
          "regions": "ANZ",
          "time": "2122-01-01"
         },
         {
          "income": "4648.82388214689",
          "regions": "EEU",
          "time": "2122-01-01"
         },
         {
          "income": "6066.512950357217",
          "regions": "FSU",
          "time": "2122-01-01"
         },
         {
          "income": "22588.015155998903",
          "regions": "MDE",
          "time": "2122-01-01"
         },
         {
          "income": "10027.466797053783",
          "regions": "CAM",
          "time": "2122-01-01"
         },
         {
          "income": "34490.560590159854",
          "regions": "LAM",
          "time": "2122-01-01"
         },
         {
          "income": "19590.33205755778",
          "regions": "SAS",
          "time": "2122-01-01"
         },
         {
          "income": "26271.593959228823",
          "regions": "SEA",
          "time": "2122-01-01"
         },
         {
          "income": "42995.470963688495",
          "regions": "CHI",
          "time": "2122-01-01"
         },
         {
          "income": "7395.783100754748",
          "regions": "MAF",
          "time": "2122-01-01"
         },
         {
          "income": "13758.075153548125",
          "regions": "SSA",
          "time": "2122-01-01"
         },
         {
          "income": "1304.442464023292",
          "regions": "SIS",
          "time": "2122-01-01"
         },
         {
          "income": "41745.05077616753",
          "regions": "USA",
          "time": "2123-01-01"
         },
         {
          "income": "3335.5183932218106",
          "regions": "CAN",
          "time": "2123-01-01"
         },
         {
          "income": "45080.5811322108",
          "regions": "WEU",
          "time": "2123-01-01"
         },
         {
          "income": "35766.243666025",
          "regions": "JPK",
          "time": "2123-01-01"
         },
         {
          "income": "3065.450247278603",
          "regions": "ANZ",
          "time": "2123-01-01"
         },
         {
          "income": "4689.265282929211",
          "regions": "EEU",
          "time": "2123-01-01"
         },
         {
          "income": "6110.11857792592",
          "regions": "FSU",
          "time": "2123-01-01"
         },
         {
          "income": "22940.874436087495",
          "regions": "MDE",
          "time": "2123-01-01"
         },
         {
          "income": "10181.047220419614",
          "regions": "CAM",
          "time": "2123-01-01"
         },
         {
          "income": "35023.20436303417",
          "regions": "LAM",
          "time": "2123-01-01"
         },
         {
          "income": "19888.729792003374",
          "regions": "SAS",
          "time": "2123-01-01"
         },
         {
          "income": "26668.02004158596",
          "regions": "SEA",
          "time": "2123-01-01"
         },
         {
          "income": "43652.96348989032",
          "regions": "CHI",
          "time": "2123-01-01"
         },
         {
          "income": "7498.761635109237",
          "regions": "MAF",
          "time": "2123-01-01"
         },
         {
          "income": "13962.742243160488",
          "regions": "SSA",
          "time": "2123-01-01"
         },
         {
          "income": "1324.9143825645283",
          "regions": "SIS",
          "time": "2123-01-01"
         },
         {
          "income": "42032.120382860434",
          "regions": "USA",
          "time": "2124-01-01"
         },
         {
          "income": "3358.8213520679674",
          "regions": "CAN",
          "time": "2124-01-01"
         },
         {
          "income": "45383.04998915359",
          "regions": "WEU",
          "time": "2124-01-01"
         },
         {
          "income": "36021.92346277615",
          "regions": "JPK",
          "time": "2124-01-01"
         },
         {
          "income": "3087.2030387674495",
          "regions": "ANZ",
          "time": "2124-01-01"
         },
         {
          "income": "4729.824401858642",
          "regions": "EEU",
          "time": "2124-01-01"
         },
         {
          "income": "6153.629400037498",
          "regions": "FSU",
          "time": "2124-01-01"
         },
         {
          "income": "23294.431162813406",
          "regions": "MDE",
          "time": "2124-01-01"
         },
         {
          "income": "10334.83672630571",
          "regions": "CAM",
          "time": "2124-01-01"
         },
         {
          "income": "35556.979059836915",
          "regions": "LAM",
          "time": "2124-01-01"
         },
         {
          "income": "20187.474129931306",
          "regions": "SAS",
          "time": "2124-01-01"
         },
         {
          "income": "27064.848159986665",
          "regions": "SEA",
          "time": "2124-01-01"
         },
         {
          "income": "44311.01804924312",
          "regions": "CHI",
          "time": "2124-01-01"
         },
         {
          "income": "7601.557558940501",
          "regions": "MAF",
          "time": "2124-01-01"
         },
         {
          "income": "14167.554610781764",
          "regions": "SSA",
          "time": "2124-01-01"
         },
         {
          "income": "1345.4352596596973",
          "regions": "SIS",
          "time": "2124-01-01"
         },
         {
          "income": "42319.3197323196",
          "regions": "USA",
          "time": "2125-01-01"
         },
         {
          "income": "3382.1396551737625",
          "regions": "CAN",
          "time": "2125-01-01"
         },
         {
          "income": "45685.39605742229",
          "regions": "WEU",
          "time": "2125-01-01"
         },
         {
          "income": "36277.834596510074",
          "regions": "JPK",
          "time": "2125-01-01"
         },
         {
          "income": "3108.9722717029827",
          "regions": "ANZ",
          "time": "2125-01-01"
         },
         {
          "income": "4770.4981367527225",
          "regions": "EEU",
          "time": "2125-01-01"
         },
         {
          "income": "6197.039454151085",
          "regions": "FSU",
          "time": "2125-01-01"
         },
         {
          "income": "23648.547890683003",
          "regions": "MDE",
          "time": "2125-01-01"
         },
         {
          "income": "10488.773659489187",
          "regions": "CAM",
          "time": "2125-01-01"
         },
         {
          "income": "36091.68690997617",
          "regions": "LAM",
          "time": "2125-01-01"
         },
         {
          "income": "20486.44429309669",
          "regions": "SAS",
          "time": "2125-01-01"
         },
         {
          "income": "27461.92001461814",
          "regions": "SEA",
          "time": "2125-01-01"
         },
         {
          "income": "44969.363045908955",
          "regions": "CHI",
          "time": "2125-01-01"
         },
         {
          "income": "7704.125746585602",
          "regions": "MAF",
          "time": "2125-01-01"
         },
         {
          "income": "14372.430703532702",
          "regions": "SSA",
          "time": "2125-01-01"
         },
         {
          "income": "1365.9974119428866",
          "regions": "SIS",
          "time": "2125-01-01"
         },
         {
          "income": "42606.62537598027",
          "regions": "USA",
          "time": "2126-01-01"
         },
         {
          "income": "3405.471374082085",
          "regions": "CAN",
          "time": "2126-01-01"
         },
         {
          "income": "45987.59070121072",
          "regions": "WEU",
          "time": "2126-01-01"
         },
         {
          "income": "36533.95426054162",
          "regions": "JPK",
          "time": "2126-01-01"
         },
         {
          "income": "3130.75597167715",
          "regions": "ANZ",
          "time": "2126-01-01"
         },
         {
          "income": "4811.283360400316",
          "regions": "EEU",
          "time": "2126-01-01"
         },
         {
          "income": "6240.342834231691",
          "regions": "FSU",
          "time": "2126-01-01"
         },
         {
          "income": "24003.084755852527",
          "regions": "MDE",
          "time": "2126-01-01"
         },
         {
          "income": "10642.795361308794",
          "regions": "CAM",
          "time": "2126-01-01"
         },
         {
          "income": "36627.12660078653",
          "regions": "LAM",
          "time": "2126-01-01"
         },
         {
          "income": "20785.51760561923",
          "regions": "SAS",
          "time": "2126-01-01"
         },
         {
          "income": "27859.074929682567",
          "regions": "SEA",
          "time": "2126-01-01"
         },
         {
          "income": "45627.72309033645",
          "regions": "CHI",
          "time": "2126-01-01"
         },
         {
          "income": "7806.420707518004",
          "regions": "MAF",
          "time": "2126-01-01"
         },
         {
          "income": "14577.287816343161",
          "regions": "SSA",
          "time": "2126-01-01"
         },
         {
          "income": "1386.5930123053336",
          "regions": "SIS",
          "time": "2126-01-01"
         },
         {
          "income": "42894.013787003496",
          "regions": "USA",
          "time": "2127-01-01"
         },
         {
          "income": "3428.814572424798",
          "regions": "CAN",
          "time": "2127-01-01"
         },
         {
          "income": "46289.605297654096",
          "regions": "WEU",
          "time": "2127-01-01"
         },
         {
          "income": "36790.25949546528",
          "regions": "JPK",
          "time": "2127-01-01"
         },
         {
          "income": "3152.5521522260083",
          "regions": "ANZ",
          "time": "2127-01-01"
         },
         {
          "income": "4852.1769223298215",
          "regions": "EEU",
          "time": "2127-01-01"
         },
         {
          "income": "6283.533696195131",
          "regions": "FSU",
          "time": "2127-01-01"
         },
         {
          "income": "24357.899562100567",
          "regions": "MDE",
          "time": "2127-01-01"
         },
         {
          "income": "10796.838210521602",
          "regions": "CAM",
          "time": "2127-01-01"
         },
         {
          "income": "37163.09338855174",
          "regions": "LAM",
          "time": "2127-01-01"
         },
         {
          "income": "21084.569575703936",
          "regions": "SAS",
          "time": "2127-01-01"
         },
         {
          "income": "28256.149959222945",
          "regions": "SEA",
          "time": "2127-01-01"
         },
         {
          "income": "46285.81920255721",
          "regions": "CHI",
          "time": "2127-01-01"
         },
         {
          "income": "7908.396622921874",
          "regions": "MAF",
          "time": "2127-01-01"
         },
         {
          "income": "14782.042146347481",
          "regions": "SSA",
          "time": "2127-01-01"
         },
         {
          "income": "1407.2140943796687",
          "regions": "SIS",
          "time": "2127-01-01"
         },
         {
          "income": "43181.46136373341",
          "regions": "USA",
          "time": "2128-01-01"
         },
         {
          "income": "3452.1673062604245",
          "regions": "CAN",
          "time": "2128-01-01"
         },
         {
          "income": "46591.41124286592",
          "regions": "WEU",
          "time": "2128-01-01"
         },
         {
          "income": "37046.72719444184",
          "regions": "JPK",
          "time": "2128-01-01"
         },
         {
          "income": "3174.3588152967754",
          "regions": "ANZ",
          "time": "2128-01-01"
         },
         {
          "income": "4893.175649575395",
          "regions": "EEU",
          "time": "2128-01-01"
         },
         {
          "income": "6326.606259687042",
          "regions": "FSU",
          "time": "2128-01-01"
         },
         {
          "income": "24712.847866525473",
          "regions": "MDE",
          "time": "2128-01-01"
         },
         {
          "income": "10950.837663474033",
          "regions": "CAM",
          "time": "2128-01-01"
         },
         {
          "income": "37699.379212016654",
          "regions": "LAM",
          "time": "2128-01-01"
         },
         {
          "income": "21383.473975486286",
          "regions": "SAS",
          "time": "2128-01-01"
         },
         {
          "income": "28652.979990268006",
          "regions": "SEA",
          "time": "2128-01-01"
         },
         {
          "income": "46943.36900256062",
          "regions": "CHI",
          "time": "2128-01-01"
         },
         {
          "income": "8010.007379312552",
          "regions": "MAF",
          "time": "2128-01-01"
         },
         {
          "income": "14986.608845888959",
          "regions": "SSA",
          "time": "2128-01-01"
         },
         {
          "income": "1427.8525570422792",
          "regions": "SIS",
          "time": "2128-01-01"
         },
         {
          "income": "43468.944435742684",
          "regions": "USA",
          "time": "2129-01-01"
         },
         {
          "income": "3475.5276246149597",
          "regions": "CAN",
          "time": "2129-01-01"
         },
         {
          "income": "46892.979963885264",
          "regions": "WEU",
          "time": "2129-01-01"
         },
         {
          "income": "37303.334111202916",
          "regions": "JPK",
          "time": "2129-01-01"
         },
         {
          "income": "3196.17395194512",
          "regions": "ANZ",
          "time": "2129-01-01"
         },
         {
          "income": "4934.276348291017",
          "regions": "EEU",
          "time": "2129-01-01"
         },
         {
          "income": "6369.554812786137",
          "regions": "FSU",
          "time": "2129-01-01"
         },
         {
          "income": "25067.78307214788",
          "regions": "MDE",
          "time": "2129-01-01"
         },
         {
          "income": "11104.728297732472",
          "regions": "CAM",
          "time": "2129-01-01"
         },
         {
          "income": "38235.77281298519",
          "regions": "LAM",
          "time": "2129-01-01"
         },
         {
          "income": "21682.10292792399",
          "regions": "SAS",
          "time": "2129-01-01"
         },
         {
          "income": "29049.39785480182",
          "regions": "SEA",
          "time": "2129-01-01"
         },
         {
          "income": "47600.08692201588",
          "regions": "CHI",
          "time": "2129-01-01"
         },
         {
          "income": "8111.206605669447",
          "regions": "MAF",
          "time": "2129-01-01"
         },
         {
          "income": "15190.902079819449",
          "regions": "SSA",
          "time": "2129-01-01"
         },
         {
          "income": "1448.5001692850467",
          "regions": "SIS",
          "time": "2129-01-01"
         },
         {
          "income": "43756.439269565606",
          "regions": "USA",
          "time": "2130-01-01"
         },
         {
          "income": "3498.8935700001593",
          "regions": "CAN",
          "time": "2130-01-01"
         },
         {
          "income": "47194.28292987585",
          "regions": "WEU",
          "time": "2130-01-01"
         },
         {
          "income": "37560.05686785172",
          "regions": "JPK",
          "time": "2130-01-01"
         },
         {
          "income": "3217.9955430149685",
          "regions": "ANZ",
          "time": "2130-01-01"
         },
         {
          "income": "4975.475805286291",
          "regions": "EEU",
          "time": "2130-01-01"
         },
         {
          "income": "6412.373716323438",
          "regions": "FSU",
          "time": "2130-01-01"
         },
         {
          "income": "25422.556523760995",
          "regions": "MDE",
          "time": "2130-01-01"
         },
         {
          "income": "11258.44385706741",
          "regions": "CAM",
          "time": "2130-01-01"
         },
         {
          "income": "38772.05986160772",
          "regions": "LAM",
          "time": "2130-01-01"
         },
         {
          "income": "21980.326996202144",
          "regions": "SAS",
          "time": "2130-01-01"
         },
         {
          "income": "29445.234444698963",
          "regions": "SEA",
          "time": "2130-01-01"
         },
         {
          "income": "48255.68442000207",
          "regions": "CHI",
          "time": "2130-01-01"
         },
         {
          "income": "8211.947710795539",
          "regions": "MAF",
          "time": "2130-01-01"
         },
         {
          "income": "15394.835084191758",
          "regions": "SSA",
          "time": "2130-01-01"
         },
         {
          "income": "1469.1485752770363",
          "regions": "SIS",
          "time": "2130-01-01"
         },
         {
          "income": "44043.92207203676",
          "regions": "USA",
          "time": "2131-01-01"
         },
         {
          "income": "3522.263178744285",
          "regions": "CAN",
          "time": "2131-01-01"
         },
         {
          "income": "47495.29165780479",
          "regions": "WEU",
          "time": "2131-01-01"
         },
         {
          "income": "37816.87196028841",
          "regions": "JPK",
          "time": "2131-01-01"
         },
         {
          "income": "3239.821559614992",
          "regions": "ANZ",
          "time": "2131-01-01"
         },
         {
          "income": "5016.770788802831",
          "regions": "EEU",
          "time": "2131-01-01"
         },
         {
          "income": "6455.057405437506",
          "regions": "FSU",
          "time": "2131-01-01"
         },
         {
          "income": "25777.017604178825",
          "regions": "MDE",
          "time": "2131-01-01"
         },
         {
          "income": "11411.917296156642",
          "regions": "CAM",
          "time": "2131-01-01"
         },
         {
          "income": "39308.023084546185",
          "regions": "LAM",
          "time": "2131-01-01"
         },
         {
          "income": "22278.015272152217",
          "regions": "SAS",
          "time": "2131-01-01"
         },
         {
          "income": "29840.31882517871",
          "regions": "SEA",
          "time": "2131-01-01"
         },
         {
          "income": "48909.87018956183",
          "regions": "CHI",
          "time": "2131-01-01"
         },
         {
          "income": "8312.183918462459",
          "regions": "MAF",
          "time": "2131-01-01"
         },
         {
          "income": "15598.32022415948",
          "regions": "SSA",
          "time": "2131-01-01"
         },
         {
          "income": "1489.7892994792555",
          "regions": "SIS",
          "time": "2131-01-01"
         },
         {
          "income": "44331.36899780386",
          "regions": "USA",
          "time": "2132-01-01"
         },
         {
          "income": "3545.6344816534133",
          "regions": "CAN",
          "time": "2132-01-01"
         },
         {
          "income": "47795.97772766599",
          "regions": "WEU",
          "time": "2132-01-01"
         },
         {
          "income": "38073.75576803668",
          "regions": "JPK",
          "time": "2132-01-01"
         },
         {
          "income": "3261.6499639701765",
          "regions": "ANZ",
          "time": "2132-01-01"
         },
         {
          "income": "5058.158050665258",
          "regions": "EEU",
          "time": "2132-01-01"
         },
         {
          "income": "6497.600395868601",
          "regions": "FSU",
          "time": "2132-01-01"
         },
         {
          "income": "26131.013839379146",
          "regions": "MDE",
          "time": "2132-01-01"
         },
         {
          "income": "11565.080829904155",
          "regions": "CAM",
          "time": "2132-01-01"
         },
         {
          "income": "39843.44240132684",
          "regions": "LAM",
          "time": "2132-01-01"
         },
         {
          "income": "22575.035474198132",
          "regions": "SAS",
          "time": "2132-01-01"
         },
         {
          "income": "30234.47836018503",
          "regions": "SEA",
          "time": "2132-01-01"
         },
         {
          "income": "49562.35039508907",
          "regions": "CHI",
          "time": "2132-01-01"
         },
         {
          "income": "8411.86830780037",
          "regions": "MAF",
          "time": "2132-01-01"
         },
         {
          "income": "15801.26905768065",
          "regions": "SSA",
          "time": "2132-01-01"
         },
         {
          "income": "1510.4137522235644",
          "regions": "SIS",
          "time": "2132-01-01"
         },
         {
          "income": "44618.75615410371",
          "regions": "USA",
          "time": "2133-01-01"
         },
         {
          "income": "3569.005504458255",
          "regions": "CAN",
          "time": "2133-01-01"
         },
         {
          "income": "48096.31279138395",
          "regions": "WEU",
          "time": "2133-01-01"
         },
         {
          "income": "38330.68456134773",
          "regions": "JPK",
          "time": "2133-01-01"
         },
         {
          "income": "3283.478710040968",
          "regions": "ANZ",
          "time": "2133-01-01"
         },
         {
          "income": "5099.634327563972",
          "regions": "EEU",
          "time": "2133-01-01"
         },
         {
          "income": "6539.997287098433",
          "regions": "FSU",
          "time": "2133-01-01"
         },
         {
          "income": "26484.391003481353",
          "regions": "MDE",
          "time": "2133-01-01"
         },
         {
          "income": "11717.865982166095",
          "regions": "CAM",
          "time": "2133-01-01"
         },
         {
          "income": "40378.095063123765",
          "regions": "LAM",
          "time": "2133-01-01"
         },
         {
          "income": "22871.254043650682",
          "regions": "SAS",
          "time": "2133-01-01"
         },
         {
          "income": "30627.53883542886",
          "regions": "SEA",
          "time": "2133-01-01"
         },
         {
          "income": "50212.82889818035",
          "regions": "CHI",
          "time": "2133-01-01"
         },
         {
          "income": "8510.953851021653",
          "regions": "MAF",
          "time": "2133-01-01"
         },
         {
          "income": "16003.592397999255",
          "regions": "SSA",
          "time": "2133-01-01"
         },
         {
          "income": "1531.0132353164922",
          "regions": "SIS",
          "time": "2133-01-01"
         },
         {
          "income": "44906.05960351434",
          "regions": "USA",
          "time": "2134-01-01"
         },
         {
          "income": "3592.374268100309",
          "regions": "CAN",
          "time": "2134-01-01"
         },
         {
          "income": "48396.26857704293",
          "regions": "WEU",
          "time": "2134-01-01"
         },
         {
          "income": "38587.634506254515",
          "regions": "JPK",
          "time": "2134-01-01"
         },
         {
          "income": "3305.3057439659046",
          "regions": "ANZ",
          "time": "2134-01-01"
         },
         {
          "income": "5141.196341687157",
          "regions": "EEU",
          "time": "2134-01-01"
         },
         {
          "income": "6582.242763145506",
          "regions": "FSU",
          "time": "2134-01-01"
         },
         {
          "income": "26836.99322422766",
          "regions": "MDE",
          "time": "2134-01-01"
         },
         {
          "income": "11870.203634279274",
          "regions": "CAM",
          "time": "2134-01-01"
         },
         {
          "income": "40911.755794403725",
          "regions": "LAM",
          "time": "2134-01-01"
         },
         {
          "income": "23166.536240219015",
          "regions": "SAS",
          "time": "2134-01-01"
         },
         {
          "income": "31019.32458026382",
          "regions": "SEA",
          "time": "2134-01-01"
         },
         {
          "income": "50861.007475514285",
          "regions": "CHI",
          "time": "2134-01-01"
         },
         {
          "income": "8609.39344919354",
          "regions": "MAF",
          "time": "2134-01-01"
         },
         {
          "income": "16205.200375496122",
          "regions": "SSA",
          "time": "2134-01-01"
         },
         {
          "income": "1551.5789477029518",
          "regions": "SIS",
          "time": "2134-01-01"
         },
         {
          "income": "45193.25537118485",
          "regions": "USA",
          "time": "2135-01-01"
         },
         {
          "income": "3615.7387893751716",
          "regions": "CAN",
          "time": "2135-01-01"
         },
         {
          "income": "48695.8169033627",
          "regions": "WEU",
          "time": "2135-01-01"
         },
         {
          "income": "38844.581674393135",
          "regions": "JPK",
          "time": "2135-01-01"
         },
         {
          "income": "3327.129004911615",
          "regions": "ANZ",
          "time": "2135-01-01"
         },
         {
          "income": "5182.84080283851",
          "regions": "EEU",
          "time": "2135-01-01"
         },
         {
          "income": "6624.331598449472",
          "regions": "FSU",
          "time": "2135-01-01"
         },
         {
          "income": "27188.663097617857",
          "regions": "MDE",
          "time": "2135-01-01"
         },
         {
          "income": "12022.024078371645",
          "regions": "CAM",
          "time": "2135-01-01"
         },
         {
          "income": "41444.19694272969",
          "regions": "LAM",
          "time": "2135-01-01"
         },
         {
          "income": "23460.746247411418",
          "regions": "SAS",
          "time": "2135-01-01"
         },
         {
          "income": "31409.658601883562",
          "regions": "SEA",
          "time": "2135-01-01"
         },
         {
          "income": "51506.58606905592",
          "regions": "CHI",
          "time": "2135-01-01"
         },
         {
          "income": "8707.139973505997",
          "regions": "MAF",
          "time": "2135-01-01"
         },
         {
          "income": "16406.002505521745",
          "regions": "SSA",
          "time": "2135-01-01"
         },
         {
          "income": "1572.1019916049554",
          "regions": "SIS",
          "time": "2135-01-01"
         },
         {
          "income": "45480.31944688293",
          "regions": "USA",
          "time": "2136-01-01"
         },
         {
          "income": "3639.0970811628126",
          "regions": "CAN",
          "time": "2136-01-01"
         },
         {
          "income": "48994.92968223681",
          "regions": "WEU",
          "time": "2136-01-01"
         },
         {
          "income": "39101.50204745165",
          "regions": "JPK",
          "time": "2136-01-01"
         },
         {
          "income": "3348.9464254618183",
          "regions": "ANZ",
          "time": "2136-01-01"
         },
         {
          "income": "5224.5644088641475",
          "regions": "EEU",
          "time": "2136-01-01"
         },
         {
          "income": "6666.258657798491",
          "regions": "FSU",
          "time": "2136-01-01"
         },
         {
          "income": "27539.241798604922",
          "regions": "MDE",
          "time": "2136-01-01"
         },
         {
          "income": "12173.257067939761",
          "regions": "CAM",
          "time": "2136-01-01"
         },
         {
          "income": "41975.18862857762",
          "regions": "LAM",
          "time": "2136-01-01"
         },
         {
          "income": "23753.747271733708",
          "regions": "SAS",
          "time": "2136-01-01"
         },
         {
          "income": "31798.362711521357",
          "regions": "SEA",
          "time": "2136-01-01"
         },
         {
          "income": "52149.26300817979",
          "regions": "CHI",
          "time": "2136-01-01"
         },
         {
          "income": "8804.146300876824",
          "regions": "MAF",
          "time": "2136-01-01"
         },
         {
          "income": "16605.907752244402",
          "regions": "SSA",
          "time": "2136-01-01"
         },
         {
          "income": "1592.5733785063794",
          "regions": "SIS",
          "time": "2136-01-01"
         },
         {
          "income": "45767.2277880168",
          "regions": "USA",
          "time": "2137-01-01"
         },
         {
          "income": "3662.447152734585",
          "regions": "CAN",
          "time": "2137-01-01"
         },
         {
          "income": "49293.57892348148",
          "regions": "WEU",
          "time": "2137-01-01"
         },
         {
          "income": "39358.37152267184",
          "regions": "JPK",
          "time": "2137-01-01"
         },
         {
          "income": "3370.7559320947144",
          "regions": "ANZ",
          "time": "2137-01-01"
         },
         {
          "income": "5266.363846404625",
          "regions": "EEU",
          "time": "2137-01-01"
         },
         {
          "income": "6708.018897336114",
          "regions": "FSU",
          "time": "2137-01-01"
         },
         {
          "income": "27888.56919592588",
          "regions": "MDE",
          "time": "2137-01-01"
         },
         {
          "income": "12323.831870343543",
          "regions": "CAM",
          "time": "2137-01-01"
         },
         {
          "income": "42504.49890012626",
          "regions": "LAM",
          "time": "2137-01-01"
         },
         {
          "income": "24045.401645663645",
          "regions": "SAS",
          "time": "2137-01-01"
         },
         {
          "income": "32185.25765528623",
          "regions": "SEA",
          "time": "2137-01-01"
         },
         {
          "income": "52788.73524145754",
          "regions": "CHI",
          "time": "2137-01-01"
         },
         {
          "income": "8900.36535090384",
          "regions": "MAF",
          "time": "2137-01-01"
         },
         {
          "income": "16804.824594719754",
          "regions": "SSA",
          "time": "2137-01-01"
         },
         {
          "income": "1612.9840353730092",
          "regions": "SIS",
          "time": "2137-01-01"
         },
         {
          "income": "46053.956326639505",
          "regions": "USA",
          "time": "2138-01-01"
         },
         {
          "income": "3685.7870103805712",
          "regions": "CAN",
          "time": "2138-01-01"
         },
         {
          "income": "49591.73674869375",
          "regions": "WEU",
          "time": "2138-01-01"
         },
         {
          "income": "39615.16592265586",
          "regions": "JPK",
          "time": "2138-01-01"
         },
         {
          "income": "3392.5554460294384",
          "regions": "ANZ",
          "time": "2138-01-01"
         },
         {
          "income": "5308.235792983534",
          "regions": "EEU",
          "time": "2138-01-01"
         },
         {
          "income": "6749.607370096163",
          "regions": "FSU",
          "time": "2138-01-01"
         },
         {
          "income": "28236.483975250572",
          "regions": "MDE",
          "time": "2138-01-01"
         },
         {
          "income": "12473.677323627626",
          "regions": "CAM",
          "time": "2138-01-01"
         },
         {
          "income": "43031.89389545663",
          "regions": "LAM",
          "time": "2138-01-01"
         },
         {
          "income": "24335.570939548306",
          "regions": "SAS",
          "time": "2138-01-01"
         },
         {
          "income": "32570.16325603654",
          "regions": "SEA",
          "time": "2138-01-01"
         },
         {
          "income": "53424.69859734129",
          "regions": "CHI",
          "time": "2138-01-01"
         },
         {
          "income": "8995.750127651623",
          "regions": "MAF",
          "time": "2138-01-01"
         },
         {
          "income": "17002.661098294615",
          "regions": "SSA",
          "time": "2138-01-01"
         },
         {
          "income": "1633.3248113048546",
          "regions": "SIS",
          "time": "2138-01-01"
         },
         {
          "income": "46340.48097370542",
          "regions": "USA",
          "time": "2139-01-01"
         },
         {
          "income": "3709.114657817016",
          "regions": "CAN",
          "time": "2139-01-01"
         },
         {
          "income": "49889.37539874792",
          "regions": "WEU",
          "time": "2139-01-01"
         },
         {
          "income": "39871.86100232998",
          "regions": "JPK",
          "time": "2139-01-01"
         },
         {
          "income": "3414.342883828255",
          "regions": "ANZ",
          "time": "2139-01-01"
         },
         {
          "income": "5350.176918201447",
          "regions": "EEU",
          "time": "2139-01-01"
         },
         {
          "income": "6791.019228362858",
          "regions": "FSU",
          "time": "2139-01-01"
         },
         {
          "income": "28582.82376130611",
          "regions": "MDE",
          "time": "2139-01-01"
         },
         {
          "income": "12622.721892316871",
          "regions": "CAM",
          "time": "2139-01-01"
         },
         {
          "income": "43557.13800638671",
          "regions": "LAM",
          "time": "2139-01-01"
         },
         {
          "income": "24624.116070981643",
          "regions": "SAS",
          "time": "2139-01-01"
         },
         {
          "income": "32952.89855193411",
          "regions": "SEA",
          "time": "2139-01-01"
         },
         {
          "income": "54056.8480311044",
          "regions": "CHI",
          "time": "2139-01-01"
         },
         {
          "income": "9090.253758448944",
          "regions": "MAF",
          "time": "2139-01-01"
         },
         {
          "income": "17199.324984320665",
          "regions": "SSA",
          "time": "2139-01-01"
         },
         {
          "income": "1653.586484173414",
          "regions": "SIS",
          "time": "2139-01-01"
         },
         {
          "income": "46626.77762541227",
          "regions": "USA",
          "time": "2140-01-01"
         },
         {
          "income": "3732.4280967630298",
          "regions": "CAN",
          "time": "2140-01-01"
         },
         {
          "income": "50186.46724603861",
          "regions": "WEU",
          "time": "2140-01-01"
         },
         {
          "income": "40128.43245821861",
          "regions": "JPK",
          "time": "2140-01-01"
         },
         {
          "income": "3436.1161581973465",
          "regions": "ANZ",
          "time": "2140-01-01"
         },
         {
          "income": "5392.183885643734",
          "regions": "EEU",
          "time": "2140-01-01"
         },
         {
          "income": "6832.249728391376",
          "regions": "FSU",
          "time": "2140-01-01"
         },
         {
          "income": "28927.42524553911",
          "regions": "MDE",
          "time": "2140-01-01"
         },
         {
          "income": "12770.893725963815",
          "regions": "CAM",
          "time": "2140-01-01"
         },
         {
          "income": "44079.994047851964",
          "regions": "LAM",
          "time": "2140-01-01"
         },
         {
          "income": "24910.897419747846",
          "regions": "SAS",
          "time": "2140-01-01"
         },
         {
          "income": "33333.28194179345",
          "regions": "SEA",
          "time": "2140-01-01"
         },
         {
          "income": "54684.877888322306",
          "regions": "CHI",
          "time": "2140-01-01"
         },
         {
          "income": "9183.829535251138",
          "regions": "MAF",
          "time": "2140-01-01"
         },
         {
          "income": "17394.723703121068",
          "regions": "SSA",
          "time": "2140-01-01"
         },
         {
          "income": "1673.7597675563136",
          "regions": "SIS",
          "time": "2140-01-01"
         },
         {
          "income": "46912.822163018194",
          "regions": "USA",
          "time": "2141-01-01"
         },
         {
          "income": "3755.7253269884754",
          "regions": "CAN",
          "time": "2141-01-01"
         },
         {
          "income": "50482.984791685376",
          "regions": "WEU",
          "time": "2141-01-01"
         },
         {
          "income": "40384.85593072424",
          "regions": "JPK",
          "time": "2141-01-01"
         },
         {
          "income": "3457.873178184111",
          "regions": "ANZ",
          "time": "2141-01-01"
         },
         {
          "income": "5434.253352608007",
          "regions": "EEU",
          "time": "2141-01-01"
         },
         {
          "income": "6873.294227617184",
          "regions": "FSU",
          "time": "2141-01-01"
         },
         {
          "income": "29270.124306982838",
          "regions": "MDE",
          "time": "2141-01-01"
         },
         {
          "income": "12918.120713387596",
          "regions": "CAM",
          "time": "2141-01-01"
         },
         {
          "income": "44600.22342537225",
          "regions": "LAM",
          "time": "2141-01-01"
         },
         {
          "income": "25195.774933272085",
          "regions": "SAS",
          "time": "2141-01-01"
         },
         {
          "income": "33711.131318521424",
          "regions": "SEA",
          "time": "2141-01-01"
         },
         {
          "income": "55308.482129315315",
          "regions": "CHI",
          "time": "2141-01-01"
         },
         {
          "income": "9276.43094847689",
          "regions": "MAF",
          "time": "2141-01-01"
         },
         {
          "income": "17588.76450109723",
          "regions": "SSA",
          "time": "2141-01-01"
         },
         {
          "income": "1693.83531738506",
          "regions": "SIS",
          "time": "2141-01-01"
         },
         {
          "income": "47198.59045482914",
          "regions": "USA",
          "time": "2142-01-01"
         },
         {
          "income": "3779.0043465353733",
          "regions": "CAN",
          "time": "2142-01-01"
         },
         {
          "income": "50778.900667699854",
          "regions": "WEU",
          "time": "2142-01-01"
         },
         {
          "income": "40641.1070087337",
          "regions": "JPK",
          "time": "2142-01-01"
         },
         {
          "income": "3479.611849572374",
          "regions": "ANZ",
          "time": "2142-01-01"
         },
         {
          "income": "5476.381970554261",
          "regions": "EEU",
          "time": "2142-01-01"
         },
         {
          "income": "6914.148184314584",
          "regions": "FSU",
          "time": "2142-01-01"
         },
         {
          "income": "29610.75613831674",
          "regions": "MDE",
          "time": "2142-01-01"
         },
         {
          "income": "13064.330539493849",
          "regions": "CAM",
          "time": "2142-01-01"
         },
         {
          "income": "45117.58630776738",
          "regions": "LAM",
          "time": "2142-01-01"
         },
         {
          "income": "25478.60823731208",
          "regions": "SAS",
          "time": "2142-01-01"
         },
         {
          "income": "34086.264209030436",
          "regions": "SEA",
          "time": "2142-01-01"
         },
         {
          "income": "55927.354569494666",
          "regions": "CHI",
          "time": "2142-01-01"
         },
         {
          "income": "9368.011723368625",
          "regions": "MAF",
          "time": "2142-01-01"
         },
         {
          "income": "17781.354490951413",
          "regions": "SSA",
          "time": "2142-01-01"
         },
         {
          "income": "1713.8037388764706",
          "regions": "SIS",
          "time": "2142-01-01"
         },
         {
          "income": "47484.058364646706",
          "regions": "USA",
          "time": "2143-01-01"
         },
         {
          "income": "3802.263152465485",
          "regions": "CAN",
          "time": "2143-01-01"
         },
         {
          "income": "51074.18765396277",
          "regions": "WEU",
          "time": "2143-01-01"
         },
         {
          "income": "40897.161241313544",
          "regions": "JPK",
          "time": "2143-01-01"
         },
         {
          "income": "3501.3300758889236",
          "regions": "ANZ",
          "time": "2143-01-01"
         },
         {
          "income": "5518.566387750679",
          "regions": "EEU",
          "time": "2143-01-01"
         },
         {
          "income": "6954.807164635726",
          "regions": "FSU",
          "time": "2143-01-01"
         },
         {
          "income": "29949.155383381923",
          "regions": "MDE",
          "time": "2143-01-01"
         },
         {
          "income": "13209.450748276993",
          "regions": "CAM",
          "time": "2143-01-01"
         },
         {
          "income": "45631.84180867223",
          "regions": "LAM",
          "time": "2143-01-01"
         },
         {
          "income": "25759.256759557084",
          "regions": "SAS",
          "time": "2143-01-01"
         },
         {
          "income": "34458.49793001465",
          "regions": "SEA",
          "time": "2143-01-01"
         },
         {
          "income": "56541.18916376946",
          "regions": "CHI",
          "time": "2143-01-01"
         },
         {
          "income": "9458.52586390913",
          "regions": "MAF",
          "time": "2143-01-01"
         },
         {
          "income": "17972.400729564073",
          "regions": "SSA",
          "time": "2143-01-01"
         },
         {
          "income": "1733.6555940388726",
          "regions": "SIS",
          "time": "2143-01-01"
         },
         {
          "income": "47769.20175230108",
          "regions": "USA",
          "time": "2144-01-01"
         },
         {
          "income": "3825.499740962657",
          "regions": "CAN",
          "time": "2144-01-01"
         },
         {
          "income": "51368.81867694186",
          "regions": "WEU",
          "time": "2144-01-01"
         },
         {
          "income": "41152.99414082117",
          "regions": "JPK",
          "time": "2144-01-01"
         },
         {
          "income": "3523.025758668643",
          "regions": "ANZ",
          "time": "2144-01-01"
         },
         {
          "income": "5560.8032492524135",
          "regions": "EEU",
          "time": "2144-01-01"
         },
         {
          "income": "6995.266840537797",
          "regions": "FSU",
          "time": "2144-01-01"
         },
         {
          "income": "30285.156265373564",
          "regions": "MDE",
          "time": "2144-01-01"
         },
         {
          "income": "13353.408800110203",
          "regions": "CAM",
          "time": "2144-01-01"
         },
         {
          "income": "46142.74816443523",
          "regions": "LAM",
          "time": "2144-01-01"
         },
         {
          "income": "26037.579840784056",
          "regions": "SAS",
          "time": "2144-01-01"
         },
         {
          "income": "34827.64972825761",
          "regions": "SEA",
          "time": "2144-01-01"
         },
         {
          "income": "57149.6802418495",
          "regions": "CHI",
          "time": "2144-01-01"
         },
         {
          "income": "9547.927687451578",
          "regions": "MAF",
          "time": "2144-01-01"
         },
         {
          "income": "18161.81028829262",
          "regions": "SSA",
          "time": "2144-01-01"
         },
         {
          "income": "1753.3814087708975",
          "regions": "SIS",
          "time": "2144-01-01"
         },
         {
          "income": "48053.99647652101",
          "regions": "USA",
          "time": "2145-01-01"
         },
         {
          "income": "3848.71210762433",
          "regions": "CAN",
          "time": "2145-01-01"
         },
         {
          "income": "51662.76681374761",
          "regions": "WEU",
          "time": "2145-01-01"
         },
         {
          "income": "41408.58118856366",
          "regions": "JPK",
          "time": "2145-01-01"
         },
         {
          "income": "3544.696797938029",
          "regions": "ANZ",
          "time": "2145-01-01"
         },
         {
          "income": "5603.0891976703915",
          "regions": "EEU",
          "time": "2145-01-01"
         },
         {
          "income": "7035.522990356105",
          "regions": "FSU",
          "time": "2145-01-01"
         },
         {
          "income": "30618.592720170196",
          "regions": "MDE",
          "time": "2145-01-01"
         },
         {
          "income": "13496.132131625967",
          "regions": "CAM",
          "time": "2145-01-01"
         },
         {
          "income": "46650.062916918854",
          "regions": "LAM",
          "time": "2145-01-01"
         },
         {
          "income": "26313.436851297567",
          "regions": "SAS",
          "time": "2145-01-01"
         },
         {
          "income": "35193.536927418536",
          "regions": "SEA",
          "time": "2145-01-01"
         },
         {
          "income": "57752.522760009815",
          "regions": "CHI",
          "time": "2145-01-01"
         },
         {
          "income": "9636.171861971205",
          "regions": "MAF",
          "time": "2145-01-01"
         },
         {
          "income": "18349.490326376737",
          "regions": "SSA",
          "time": "2145-01-01"
         },
         {
          "income": "1772.9716802369587",
          "regions": "SIS",
          "time": "2145-01-01"
         },
         {
          "income": "48338.418401504234",
          "regions": "USA",
          "time": "2146-01-01"
         },
         {
          "income": "3871.8982480565955",
          "regions": "CAN",
          "time": "2146-01-01"
         },
         {
          "income": "51956.005304652754",
          "regions": "WEU",
          "time": "2146-01-01"
         },
         {
          "income": "41663.89784458543",
          "regions": "JPK",
          "time": "2146-01-01"
         },
         {
          "income": "3566.3410930555883",
          "regions": "ANZ",
          "time": "2146-01-01"
         },
         {
          "income": "5645.420875214684",
          "regions": "EEU",
          "time": "2146-01-01"
         },
         {
          "income": "7075.571503598648",
          "regions": "FSU",
          "time": "2146-01-01"
         },
         {
          "income": "30949.298536838614",
          "regions": "MDE",
          "time": "2146-01-01"
         },
         {
          "income": "13637.548219369193",
          "regions": "CAM",
          "time": "2146-01-01"
         },
         {
          "income": "47153.543102232914",
          "regions": "LAM",
          "time": "2146-01-01"
         },
         {
          "income": "26586.687315163213",
          "regions": "SAS",
          "time": "2146-01-01"
         },
         {
          "income": "35555.97708430554",
          "regions": "SEA",
          "time": "2146-01-01"
         },
         {
          "income": "58349.412578466785",
          "regions": "CHI",
          "time": "2146-01-01"
         },
         {
          "income": "9723.213447535207",
          "regions": "MAF",
          "time": "2146-01-01"
         },
         {
          "income": "18535.348168884917",
          "regions": "SSA",
          "time": "2146-01-01"
         },
         {
          "income": "1792.4168846113205",
          "regions": "SIS",
          "time": "2146-01-01"
         },
         {
          "income": "48622.44339398185",
          "regions": "USA",
          "time": "2147-01-01"
         },
         {
          "income": "3895.056157686509",
          "regions": "CAN",
          "time": "2147-01-01"
         },
         {
          "income": "52248.50754368646",
          "regions": "WEU",
          "time": "2147-01-01"
         },
         {
          "income": "41918.91954692947",
          "regions": "JPK",
          "time": "2147-01-01"
         },
         {
          "income": "3587.9565426395825",
          "regions": "ANZ",
          "time": "2147-01-01"
         },
         {
          "income": "5687.794922482366",
          "regions": "EEU",
          "time": "2147-01-01"
         },
         {
          "income": "7115.408374780619",
          "regions": "FSU",
          "time": "2147-01-01"
         },
         {
          "income": "31277.1074856435",
          "regions": "MDE",
          "time": "2147-01-01"
         },
         {
          "income": "13777.584635974197",
          "regions": "CAM",
          "time": "2147-01-01"
         },
         {
          "income": "47652.94543384957",
          "regions": "LAM",
          "time": "2147-01-01"
         },
         {
          "income": "26857.191018318452",
          "regions": "SAS",
          "time": "2147-01-01"
         },
         {
          "income": "35914.78812536503",
          "regions": "SEA",
          "time": "2147-01-01"
         },
         {
          "income": "58940.04667741254",
          "regions": "CHI",
          "time": "2147-01-01"
         },
         {
          "income": "9809.007926432374",
          "regions": "MAF",
          "time": "2147-01-01"
         },
         {
          "income": "18719.291375033794",
          "regions": "SSA",
          "time": "2147-01-01"
         },
         {
          "income": "1811.7074842685013",
          "regions": "SIS",
          "time": "2147-01-01"
         },
         {
          "income": "48906.04733717134",
          "regions": "USA",
          "time": "2148-01-01"
         },
         {
          "income": "3918.183832966026",
          "regions": "CAN",
          "time": "2148-01-01"
         },
         {
          "income": "52540.24710805213",
          "regions": "WEU",
          "time": "2148-01-01"
         },
         {
          "income": "42173.62172972271",
          "regions": "JPK",
          "time": "2148-01-01"
         },
         {
          "income": "3609.541046126894",
          "regions": "ANZ",
          "time": "2148-01-01"
         },
         {
          "income": "5730.207983059693",
          "regions": "EEU",
          "time": "2148-01-01"
         },
         {
          "income": "7155.0297166505425",
          "regions": "FSU",
          "time": "2148-01-01"
         },
         {
          "income": "31601.853472546412",
          "regions": "MDE",
          "time": "2148-01-01"
         },
         {
          "income": "13916.169121205276",
          "regions": "CAM",
          "time": "2148-01-01"
         },
         {
          "income": "48148.026502623616",
          "regions": "LAM",
          "time": "2148-01-01"
         },
         {
          "income": "27124.80814808241",
          "regions": "SAS",
          "time": "2148-01-01"
         },
         {
          "income": "36269.78852146394",
          "regions": "SEA",
          "time": "2148-01-01"
         },
         {
          "income": "59524.12348481048",
          "regions": "CHI",
          "time": "2148-01-01"
         },
         {
          "income": "9893.511252937908",
          "regions": "MAF",
          "time": "2148-01-01"
         },
         {
          "income": "18901.227824980055",
          "regions": "SSA",
          "time": "2148-01-01"
         },
         {
          "income": "1830.8339362430622",
          "regions": "SIS",
          "time": "2148-01-01"
         },
         {
          "income": "49189.20612561272",
          "regions": "USA",
          "time": "2149-01-01"
         },
         {
          "income": "3941.27927099806",
          "regions": "CAN",
          "time": "2149-01-01"
         },
         {
          "income": "52831.197743467026",
          "regions": "WEU",
          "time": "2149-01-01"
         },
         {
          "income": "42427.97981997187",
          "regions": "JPK",
          "time": "2149-01-01"
         },
         {
          "income": "3631.0925034860093",
          "regions": "ANZ",
          "time": "2149-01-01"
         },
         {
          "income": "5772.656701549993",
          "regions": "EEU",
          "time": "2149-01-01"
         },
         {
          "income": "7194.4317513978995",
          "regions": "FSU",
          "time": "2149-01-01"
         },
         {
          "income": "31923.370666532894",
          "regions": "MDE",
          "time": "2149-01-01"
         },
         {
          "income": "14053.229637156195",
          "regions": "CAM",
          "time": "2149-01-01"
         },
         {
          "income": "48638.542962513035",
          "regions": "LAM",
          "time": "2149-01-01"
         },
         {
          "income": "27389.399398790014",
          "regions": "SAS",
          "time": "2149-01-01"
         },
         {
          "income": "36620.797421283445",
          "regions": "SEA",
          "time": "2149-01-01"
         },
         {
          "income": "60101.34307897211",
          "regions": "CHI",
          "time": "2149-01-01"
         },
         {
          "income": "9976.67988036317",
          "regions": "MAF",
          "time": "2149-01-01"
         },
         {
          "income": "19081.06578654258",
          "regions": "SSA",
          "time": "2149-01-01"
         },
         {
          "income": "1849.786699447141",
          "regions": "SIS",
          "time": "2149-01-01"
         },
         {
          "income": "49471.89566678188",
          "regions": "USA",
          "time": "2150-01-01"
         },
         {
          "income": "3964.340469719027",
          "regions": "CAN",
          "time": "2150-01-01"
         },
         {
          "income": "53121.33336507826",
          "regions": "WEU",
          "time": "2150-01-01"
         },
         {
          "income": "42681.969241853454",
          "regions": "JPK",
          "time": "2150-01-01"
         },
         {
          "income": "3652.6088155771763",
          "regions": "ANZ",
          "time": "2150-01-01"
         },
         {
          "income": "5815.137723919068",
          "regions": "EEU",
          "time": "2150-01-01"
         },
         {
          "income": "7233.610809616467",
          "regions": "FSU",
          "time": "2150-01-01"
         },
         {
          "income": "32241.493637908865",
          "regions": "MDE",
          "time": "2150-01-01"
         },
         {
          "income": "14188.694429462328",
          "regions": "CAM",
          "time": "2150-01-01"
         },
         {
          "income": "49124.25172404352",
          "regions": "LAM",
          "time": "2150-01-01"
         },
         {
          "income": "27650.82609005353",
          "regions": "SAS",
          "time": "2150-01-01"
         },
         {
          "income": "36967.63480014586",
          "regions": "SEA",
          "time": "2150-01-01"
         },
         {
          "income": "60671.40743527208",
          "regions": "CHI",
          "time": "2150-01-01"
         },
         {
          "income": "10058.470795739488",
          "regions": "MAF",
          "time": "2150-01-01"
         },
         {
          "income": "19258.71398936347",
          "regions": "SSA",
          "time": "2150-01-01"
         },
         {
          "income": "1868.5562424326936",
          "regions": "SIS",
          "time": "2150-01-01"
         }
        ]
       },
       "description": "plot for a specific component variable pair",
       "encoding": {
        "color": {
         "field": "regions",
         "scale": {
          "scheme": "category20"
         },
         "type": "nominal"
        },
        "x": {
         "field": "time",
         "timeUnit": "utcyear",
         "type": "temporal"
        },
        "y": {
         "field": "income",
         "type": "quantitative"
        }
       },
       "height": 410,
       "mark": {
        "type": "line"
       },
       "title": "socioeconomic : income",
       "width": 450
      },
      "image/png": "[encoded data removed]",
      "image/svg+xml": "<?xml version=\"1.0\" encoding=\"utf-8\"?>\n<!DOCTYPE svg PUBLIC \"-//W3C//DTD SVG 1.1//EN\" \"http://www.w3.org/Graphics/SVG/1.1/DTD/svg11.dtd\">\n<svg xmlns=\"http://www.w3.org/2000/svg\" xmlns:xlink=\"http://www.w3.org/1999/xlink\" version=\"1.1\" class=\"marks\" width=\"575\" height=\"474\" viewBox=\"0 0 575 474\"><rect width=\"575\" height=\"474\" fill=\"white\"/><g fill=\"none\" stroke-miterlimit=\"10\" transform=\"translate(60,27)\"><g class=\"mark-group role-frame root\" role=\"graphics-object\" aria-roledescription=\"group mark container\"><g transform=\"translate(0,0)\"><path class=\"background\" aria-hidden=\"true\" d=\"M0.5,0.5h450v410h-450Z\" stroke=\"#ddd\"/><g><g class=\"mark-group role-axis\" aria-hidden=\"true\"><g transform=\"translate(0.5,410.5)\"><path class=\"background\" aria-hidden=\"true\" d=\"M0,0h0v0h0Z\" pointer-events=\"none\"/><g><g class=\"mark-rule role-axis-grid\" pointer-events=\"none\"><line transform=\"translate(22,-410)\" x2=\"0\" y2=\"410\" stroke=\"#ddd\" stroke-width=\"1\" opacity=\"1\"/><line transform=\"translate(67,-410)\" x2=\"0\" y2=\"410\" stroke=\"#ddd\" stroke-width=\"1\" opacity=\"1\"/><line transform=\"translate(112,-410)\" x2=\"0\" y2=\"410\" stroke=\"#ddd\" stroke-width=\"1\" opacity=\"1\"/><line transform=\"translate(157,-410)\" x2=\"0\" y2=\"410\" stroke=\"#ddd\" stroke-width=\"1\" opacity=\"1\"/><line transform=\"translate(202,-410)\" x2=\"0\" y2=\"410\" stroke=\"#ddd\" stroke-width=\"1\" opacity=\"1\"/><line transform=\"translate(248,-410)\" x2=\"0\" y2=\"410\" stroke=\"#ddd\" stroke-width=\"1\" opacity=\"1\"/><line transform=\"translate(293,-410)\" x2=\"0\" y2=\"410\" stroke=\"#ddd\" stroke-width=\"1\" opacity=\"1\"/><line transform=\"translate(338,-410)\" x2=\"0\" y2=\"410\" stroke=\"#ddd\" stroke-width=\"1\" opacity=\"1\"/><line transform=\"translate(382,-410)\" x2=\"0\" y2=\"410\" stroke=\"#ddd\" stroke-width=\"1\" opacity=\"1\"/><line transform=\"translate(427,-410)\" x2=\"0\" y2=\"410\" stroke=\"#ddd\" stroke-width=\"1\" opacity=\"1\"/></g></g><path class=\"foreground\" aria-hidden=\"true\" d=\"\" pointer-events=\"none\" display=\"none\"/></g></g><g class=\"mark-group role-axis\" aria-hidden=\"true\"><g transform=\"translate(0.5,0.5)\"><path class=\"background\" aria-hidden=\"true\" d=\"M0,0h0v0h0Z\" pointer-events=\"none\"/><g><g class=\"mark-rule role-axis-grid\" pointer-events=\"none\"><line transform=\"translate(0,410)\" x2=\"450\" y2=\"0\" stroke=\"#ddd\" stroke-width=\"1\" opacity=\"1\"/><line transform=\"translate(0,378)\" x2=\"450\" y2=\"0\" stroke=\"#ddd\" stroke-width=\"1\" opacity=\"1\"/><line transform=\"translate(0,347)\" x2=\"450\" y2=\"0\" stroke=\"#ddd\" stroke-width=\"1\" opacity=\"1\"/><line transform=\"translate(0,315)\" x2=\"450\" y2=\"0\" stroke=\"#ddd\" stroke-width=\"1\" opacity=\"1\"/><line transform=\"translate(0,284)\" x2=\"450\" y2=\"0\" stroke=\"#ddd\" stroke-width=\"1\" opacity=\"1\"/><line transform=\"translate(0,252)\" x2=\"450\" y2=\"0\" stroke=\"#ddd\" stroke-width=\"1\" opacity=\"1\"/><line transform=\"translate(0,221)\" x2=\"450\" y2=\"0\" stroke=\"#ddd\" stroke-width=\"1\" opacity=\"1\"/><line transform=\"translate(0,189)\" x2=\"450\" y2=\"0\" stroke=\"#ddd\" stroke-width=\"1\" opacity=\"1\"/><line transform=\"translate(0,158)\" x2=\"450\" y2=\"0\" stroke=\"#ddd\" stroke-width=\"1\" opacity=\"1\"/><line transform=\"translate(0,126)\" x2=\"450\" y2=\"0\" stroke=\"#ddd\" stroke-width=\"1\" opacity=\"1\"/><line transform=\"translate(0,95)\" x2=\"450\" y2=\"0\" stroke=\"#ddd\" stroke-width=\"1\" opacity=\"1\"/><line transform=\"translate(0,63)\" x2=\"450\" y2=\"0\" stroke=\"#ddd\" stroke-width=\"1\" opacity=\"1\"/><line transform=\"translate(0,32)\" x2=\"450\" y2=\"0\" stroke=\"#ddd\" stroke-width=\"1\" opacity=\"1\"/><line transform=\"translate(0,0)\" x2=\"450\" y2=\"0\" stroke=\"#ddd\" stroke-width=\"1\" opacity=\"1\"/></g></g><path class=\"foreground\" aria-hidden=\"true\" d=\"\" pointer-events=\"none\" display=\"none\"/></g></g><g class=\"mark-group role-axis\" role=\"graphics-symbol\" aria-roledescription=\"axis\" aria-label=\"X-axis titled 'time (year)' for a utc scale with values from 1950 to 2150\"><g transform=\"translate(0.5,410.5)\"><path class=\"background\" aria-hidden=\"true\" d=\"M0,0h0v0h0Z\" pointer-events=\"none\"/><g><g class=\"mark-rule role-axis-tick\" pointer-events=\"none\"><line transform=\"translate(22,0)\" x2=\"0\" y2=\"5\" stroke=\"#888\" stroke-width=\"1\" opacity=\"1\"/><line transform=\"translate(67,0)\" x2=\"0\" y2=\"5\" stroke=\"#888\" stroke-width=\"1\" opacity=\"1\"/><line transform=\"translate(112,0)\" x2=\"0\" y2=\"5\" stroke=\"#888\" stroke-width=\"1\" opacity=\"1\"/><line transform=\"translate(157,0)\" x2=\"0\" y2=\"5\" stroke=\"#888\" stroke-width=\"1\" opacity=\"1\"/><line transform=\"translate(202,0)\" x2=\"0\" y2=\"5\" stroke=\"#888\" stroke-width=\"1\" opacity=\"1\"/><line transform=\"translate(248,0)\" x2=\"0\" y2=\"5\" stroke=\"#888\" stroke-width=\"1\" opacity=\"1\"/><line transform=\"translate(293,0)\" x2=\"0\" y2=\"5\" stroke=\"#888\" stroke-width=\"1\" opacity=\"1\"/><line transform=\"translate(338,0)\" x2=\"0\" y2=\"5\" stroke=\"#888\" stroke-width=\"1\" opacity=\"1\"/><line transform=\"translate(382,0)\" x2=\"0\" y2=\"5\" stroke=\"#888\" stroke-width=\"1\" opacity=\"1\"/><line transform=\"translate(427,0)\" x2=\"0\" y2=\"5\" stroke=\"#888\" stroke-width=\"1\" opacity=\"1\"/></g><g class=\"mark-text role-axis-label\" pointer-events=\"none\"><text text-anchor=\"middle\" transform=\"translate(22.497227888129885,15)\" font-family=\"sans-serif\" font-size=\"10px\" fill=\"#000\" opacity=\"1\">1960</text><text text-anchor=\"middle\" transform=\"translate(67.49784391298991,15)\" font-family=\"sans-serif\" font-size=\"10px\" fill=\"#000\" opacity=\"1\">1980</text><text text-anchor=\"middle\" transform=\"translate(112.49845993784993,15)\" font-family=\"sans-serif\" font-size=\"10px\" fill=\"#000\" opacity=\"1\">2000</text><text text-anchor=\"middle\" transform=\"translate(157.49907596270995,15)\" font-family=\"sans-serif\" font-size=\"10px\" fill=\"#000\" opacity=\"1\">2020</text><text text-anchor=\"middle\" transform=\"translate(202.49969198757,15)\" font-family=\"sans-serif\" font-size=\"10px\" fill=\"#000\" opacity=\"1\">2040</text><text text-anchor=\"middle\" transform=\"translate(247.50030801243003,15)\" font-family=\"sans-serif\" font-size=\"10px\" fill=\"#000\" opacity=\"1\">2060</text><text text-anchor=\"middle\" transform=\"translate(292.50092403729,15)\" font-family=\"sans-serif\" font-size=\"10px\" fill=\"#000\" opacity=\"1\">2080</text><text text-anchor=\"middle\" transform=\"translate(337.50154006215007,15)\" font-family=\"sans-serif\" font-size=\"10px\" fill=\"#000\" opacity=\"1\">2100</text><text text-anchor=\"middle\" transform=\"translate(382.49599583840984,15)\" font-family=\"sans-serif\" font-size=\"10px\" fill=\"#000\" opacity=\"1\">2120</text><text text-anchor=\"middle\" transform=\"translate(427.49661186326983,15)\" font-family=\"sans-serif\" font-size=\"10px\" fill=\"#000\" opacity=\"1\">2140</text></g><g class=\"mark-rule role-axis-domain\" pointer-events=\"none\"><line transform=\"translate(0,0)\" x2=\"450\" y2=\"0\" stroke=\"#888\" stroke-width=\"1\" opacity=\"1\"/></g><g class=\"mark-text role-axis-title\" pointer-events=\"none\"><text text-anchor=\"middle\" transform=\"translate(225,30)\" font-family=\"sans-serif\" font-size=\"11px\" font-weight=\"bold\" fill=\"#000\" opacity=\"1\">time (year)</text></g></g><path class=\"foreground\" aria-hidden=\"true\" d=\"\" pointer-events=\"none\" display=\"none\"/></g></g><g class=\"mark-group role-axis\" role=\"graphics-symbol\" aria-roledescription=\"axis\" aria-label=\"Y-axis titled 'income' for a linear scale with values from 0 to 65,000\"><g transform=\"translate(0.5,0.5)\"><path class=\"background\" aria-hidden=\"true\" d=\"M0,0h0v0h0Z\" pointer-events=\"none\"/><g><g class=\"mark-rule role-axis-tick\" pointer-events=\"none\"><line transform=\"translate(0,410)\" x2=\"-5\" y2=\"0\" stroke=\"#888\" stroke-width=\"1\" opacity=\"1\"/><line transform=\"translate(0,378)\" x2=\"-5\" y2=\"0\" stroke=\"#888\" stroke-width=\"1\" opacity=\"1\"/><line transform=\"translate(0,347)\" x2=\"-5\" y2=\"0\" stroke=\"#888\" stroke-width=\"1\" opacity=\"1\"/><line transform=\"translate(0,315)\" x2=\"-5\" y2=\"0\" stroke=\"#888\" stroke-width=\"1\" opacity=\"1\"/><line transform=\"translate(0,284)\" x2=\"-5\" y2=\"0\" stroke=\"#888\" stroke-width=\"1\" opacity=\"1\"/><line transform=\"translate(0,252)\" x2=\"-5\" y2=\"0\" stroke=\"#888\" stroke-width=\"1\" opacity=\"1\"/><line transform=\"translate(0,221)\" x2=\"-5\" y2=\"0\" stroke=\"#888\" stroke-width=\"1\" opacity=\"1\"/><line transform=\"translate(0,189)\" x2=\"-5\" y2=\"0\" stroke=\"#888\" stroke-width=\"1\" opacity=\"1\"/><line transform=\"translate(0,158)\" x2=\"-5\" y2=\"0\" stroke=\"#888\" stroke-width=\"1\" opacity=\"1\"/><line transform=\"translate(0,126)\" x2=\"-5\" y2=\"0\" stroke=\"#888\" stroke-width=\"1\" opacity=\"1\"/><line transform=\"translate(0,95)\" x2=\"-5\" y2=\"0\" stroke=\"#888\" stroke-width=\"1\" opacity=\"1\"/><line transform=\"translate(0,63)\" x2=\"-5\" y2=\"0\" stroke=\"#888\" stroke-width=\"1\" opacity=\"1\"/><line transform=\"translate(0,32)\" x2=\"-5\" y2=\"0\" stroke=\"#888\" stroke-width=\"1\" opacity=\"1\"/><line transform=\"translate(0,0)\" x2=\"-5\" y2=\"0\" stroke=\"#888\" stroke-width=\"1\" opacity=\"1\"/></g><g class=\"mark-text role-axis-label\" pointer-events=\"none\"><text text-anchor=\"end\" transform=\"translate(-7,413)\" font-family=\"sans-serif\" font-size=\"10px\" fill=\"#000\" opacity=\"1\">0</text><text text-anchor=\"end\" transform=\"translate(-7,381.4615384615385)\" font-family=\"sans-serif\" font-size=\"10px\" fill=\"#000\" opacity=\"1\">5,000</text><text text-anchor=\"end\" transform=\"translate(-7,349.9230769230769)\" font-family=\"sans-serif\" font-size=\"10px\" fill=\"#000\" opacity=\"1\">10,000</text><text text-anchor=\"end\" transform=\"translate(-7,318.38461538461536)\" font-family=\"sans-serif\" font-size=\"10px\" fill=\"#000\" opacity=\"1\">15,000</text><text text-anchor=\"end\" transform=\"translate(-7,286.8461538461538)\" font-family=\"sans-serif\" font-size=\"10px\" fill=\"#000\" opacity=\"1\">20,000</text><text text-anchor=\"end\" transform=\"translate(-7,255.30769230769232)\" font-family=\"sans-serif\" font-size=\"10px\" fill=\"#000\" opacity=\"1\">25,000</text><text text-anchor=\"end\" transform=\"translate(-7,223.76923076923075)\" font-family=\"sans-serif\" font-size=\"10px\" fill=\"#000\" opacity=\"1\">30,000</text><text text-anchor=\"end\" transform=\"translate(-7,192.23076923076925)\" font-family=\"sans-serif\" font-size=\"10px\" fill=\"#000\" opacity=\"1\">35,000</text><text text-anchor=\"end\" transform=\"translate(-7,160.69230769230768)\" font-family=\"sans-serif\" font-size=\"10px\" fill=\"#000\" opacity=\"1\">40,000</text><text text-anchor=\"end\" transform=\"translate(-7,129.15384615384616)\" font-family=\"sans-serif\" font-size=\"10px\" fill=\"#000\" opacity=\"1\">45,000</text><text text-anchor=\"end\" transform=\"translate(-7,97.6153846153846)\" font-family=\"sans-serif\" font-size=\"10px\" fill=\"#000\" opacity=\"1\">50,000</text><text text-anchor=\"end\" transform=\"translate(-7,66.07692307692308)\" font-family=\"sans-serif\" font-size=\"10px\" fill=\"#000\" opacity=\"1\">55,000</text><text text-anchor=\"end\" transform=\"translate(-7,34.53846153846152)\" font-family=\"sans-serif\" font-size=\"10px\" fill=\"#000\" opacity=\"1\">60,000</text><text text-anchor=\"end\" transform=\"translate(-7,3)\" font-family=\"sans-serif\" font-size=\"10px\" fill=\"#000\" opacity=\"1\">65,000</text></g><g class=\"mark-rule role-axis-domain\" pointer-events=\"none\"><line transform=\"translate(0,410)\" x2=\"0\" y2=\"-410\" stroke=\"#888\" stroke-width=\"1\" opacity=\"1\"/></g><g class=\"mark-text role-axis-title\" pointer-events=\"none\"><text text-anchor=\"middle\" transform=\"translate(-44,205) rotate(-90) translate(0,-2)\" font-family=\"sans-serif\" font-size=\"11px\" font-weight=\"bold\" fill=\"#000\" opacity=\"1\">income</text></g></g><path class=\"foreground\" aria-hidden=\"true\" d=\"\" pointer-events=\"none\" display=\"none\"/></g></g><g class=\"mark-group role-scope pathgroup\" role=\"graphics-object\" aria-roledescription=\"group mark container\"><g transform=\"translate(0,0)\"><path class=\"background\" aria-hidden=\"true\" d=\"M0,0h450v410h-450Z\"/><g><g class=\"mark-line role-mark marks\" role=\"graphics-object\" aria-roledescription=\"line mark container\"><path aria-label=\"time (year): 1949; regions: USA; income: 1643.89944237\" role=\"graphics-symbol\" aria-roledescription=\"line mark\" d=\"M0,399.63078813274956L2.248490739092938,399.26111319537875L4.496981478185876,398.87825889962767L6.751632465879068,398.48175538543876L9.000123204972004,398.07111604167557L11.248613944064942,397.64583690892636L13.497104683157879,397.20539606101727L15.751755670851074,396.74925296447526L18.00024640994401,396.2768478151558L20.24873714903695,395.7876008512198L22.497227888129885,395.28091164161765L24.751878875823078,394.82333165256887L27.000369614916018,394.3515266353607L29.248860354008954,393.8650543691117L31.497351093101894,393.36345888538864L33.75200208079509,392.84627004082967L36.00049281988802,392.3130030764804L38.24898355898095,391.7631581634318L40.4974742980739,391.1962199343322L42.752125285767086,390.6116570003361L45.00061602486002,390.00892145303516L47.249106763952966,389.44691272563733L49.4975975030459,388.86910425992477L51.75224849073909,388.2750518782209L54.000739229832035,387.6642989156921L56.249229968924965,387.0363758692972L58.49772070801791,386.3908000368668L60.752371695711105,385.72707514603667L63.00086243480404,385.04469097274904L65.24935317389698,384.3431229490291L67.49784391298991,383.62183175973473L69.7524949006831,382.4997468540455L72.00098563977603,381.3299302588732L74.24947637886898,380.1103515448187L76.4979671179619,378.83889391127764L78.7526181056551,377.5133505123481L81.00110884474805,376.1314206264484L83.24959958384098,374.6907056629966L85.49809032293392,373.18870499921996L87.75274131062712,371.62281163986995L90.00123204972004,369.98790851835383L92.24972278881299,369.1496804938208L94.49821352790593,368.29386873883965L96.75286451559911,367.4201003656159L99.00135525469206,366.5279986737273L101.249845993785,365.6171790098129L103.49833673287793,364.02011053899497L105.75298772057113,360.82571238864205L108.00147845966407,358.62926127169857L110.249969198757,356.3657757162074L112.49845993784993,354.0784970131045L114.75311092554313,351.2957220462254L117.00160166463607,349.8693225241178L119.250092403729,348.4309838721646L121.49858314282196,346.98151785865343L123.75323413051512,345.52176137617386L126.00172486960808,344.051941901385L128.250215608701,342.57358644657273L130.49870634779396,341.08695732426276L132.75335733548712,339.5943744733248L135.0018480745801,338.0954611377018L137.250338813673,336.59192463118677L139.49882955276595,335.0822224253698L141.75348054045915,333.5672616302458L144.00197127955207,332.0479733886702L146.250462018645,330.5253123192327L148.49895275773795,329.00025568180746L150.75360374543115,327.4738025032427L153.00209448452406,325.9469726385382L155.25058522361704,324.42080578063525L157.49907596270995,322.89636042256683L159.75372695040315,321.374712783005L162.0022176894961,319.8434383163215L164.25070842858904,318.3029550098134L166.49919916768195,316.75369367946143L168.75385015537518,315.1960977805478L171.0023408944681,313.630623282509L173.25083163356103,312.0625596269735L175.49932237265398,310.4926229111869L177.75397336034717,308.92253779622325L180.0024640994401,307.3520824833307L182.25095483853303,305.78201174206913L184.49944557762598,304.20780282501926L186.75409656531914,302.62999749597543L189.00258730441212,301.0502223265162L191.25107804350503,299.4679982020097L193.49956878259798,297.88389855667333L195.75421977029117,296.2985066999105L198.00271050938412,294.71241547527353L200.25120124847703,293.12737987911646L202.49969198757,291.54288943702966L204.75434297526317,289.95956356040904L207.00283371435611,288.3841108503451L209.25132445344906,286.8174030654957L211.499815192542,285.26154893109504L213.75446618023517,283.7162293075742L216.00295691932814,282.18232958772495L218.25144765842106,280.66073829854224L220.499938397514,279.15234620610704L222.7545893852072,277.65935348245574L225.0030801243001,276.18137435414235L227.25157086339306,274.71930055278654L229.50006160248603,273.2428431475243L231.7547125901792,271.75188614424155L234.00320332927214,270.24493186514974L236.25169406836505,268.7232156804039L238.500184807458,267.18662026062236L240.75483579515117,265.6350277243077L243.00332653424414,264.06831960992713L245.25181727333708,262.48491827008655L247.50030801243003,260.8861311091947L249.75495900012322,259.2718374165253L252.00344973921617,257.64191579280936L254.25194047830905,255.99624417955422L256.500431217402,254.33316065583261L258.7550822050952,252.65404805641222L261.00357294418814,250.95878205134127L263.2520636832811,249.24723776275872L265.500554422374,247.5192897722308L267.7552054100672,245.77318814503022L270.0036961491602,244.01039551380816L272.25218688825305,242.23078430290025L274.500677627346,240.42574374997434L276.7553286150392,238.594872174341L279.00381935413213,236.7360471244724L281.2523100932251,234.8505284681003L283.500800832318,232.9378917926193L285.7554518200112,231.01894779134415L288.00394255910413,229.09395339274351L290.2524332981971,227.16136085832778L292.50092403729,225.2232059842034L294.7555750249832,223.279758820001L297.0040657640762,221.34072754525468L299.2525565031691,219.40668329030188L301.501047242262,217.47629560005697L303.75569822995527,215.55201132608767L306.00418896904813,213.6344136753546L308.2526797081411,211.72408937941034L310.5011704472341,209.8216283082417L312.7558214349272,207.9256215020511L315.0043121740202,206.03862819186443L317.2528029131131,204.1612457095255L319.501293652206,202.29407276663972L321.7559446398992,200.43770926060353L324.0044353789922,198.59066108132615L326.2529261180851,196.7555893355855L328.50141685717807,194.93309731719089L330.75606784487127,193.1237888257692L333.0045585839642,191.32826767589899L335.2530493230571,189.5449508687963L337.50154006215007,187.77659233176726L339.750030801243,186.02379389912946L341.99852154033596,184.26699840012776L344.2470122794289,182.50633155958897L346.4955030185218,180.74192082066133L348.750154006215,178.97389496748224L350.99864474530796,177.2023840862363L353.24713548440087,175.4275195303033L355.49562622349384,173.6494338932687L357.75027721118704,171.8682609946695L359.9987679502799,170.08413576493044L362.24725868937287,168.29719424577323L364.49574942846584,166.50757351876788L366.750400416159,164.71541166135285L368.99889115525195,162.92084774937987L371.2473818943449,161.12402180420733L373.4958726334378,159.32507475073407L375.75052362113104,157.52414838651663L377.99901436022395,155.72138532676445L380.24750509931687,153.91692898430486L382.49599583840984,152.11092351459126L384.75064682610304,150.30351377908505L386.99913756519595,148.49484533671992L389.2476283042889,146.68506433494326L391.49611904338184,144.87431758503422L393.75077003107504,143.06275245767637L395.99926077016795,141.25051685920138L398.2477515092609,139.43775918967023L400.49624224835384,137.62462832106615L402.75089323604703,135.81127355916152L404.99938397514,133.9978446073554L407.24787471423286,132.18449154561426L409.49636545332584,130.37136478308335L411.75101644101903,128.55861502796125L413.99950718011195,126.7463932701403L416.2479979192049,124.93485073560322L418.4964886582979,123.12413887350766L420.75113964599103,121.31440933712483L422.999630385084,119.50581393965852L425.2481211241769,117.69850462739659L427.49661186326983,115.89263343970718L429.75126285096303,114.08835251019293L431.999753590056,112.28581405415468L434.2482443291489,110.48517031530541L436.4967350682419,108.68657356240858L438.7513860559351,106.89017607117515L440.999876795028,105.09613008281946L443.2483675341209,103.30458782257605L445.4968582732139,101.51570141168847L447.751509260907,99.72962289998131L450,97.94650425568352\" stroke=\"#7f7f7f\" stroke-width=\"2\"/></g></g><path class=\"foreground\" aria-hidden=\"true\" d=\"\" display=\"none\"/></g><g transform=\"translate(0,0)\"><path class=\"background\" aria-hidden=\"true\" d=\"M0,0h450v410h-450Z\"/><g><g class=\"mark-line role-mark marks\" role=\"graphics-object\" aria-roledescription=\"line mark container\"><path aria-label=\"time (year): 1949; regions: CAN; income: 84.8224831391\" role=\"graphics-symbol\" aria-roledescription=\"line mark\" d=\"M0,409.46496587558414L2.248490739092938,409.43528292712904L4.496981478185876,409.40395321001233L6.751632465879068,409.37088536380094L9.000123204972004,409.3359829595122L11.248613944064942,409.2991442184176L13.497104683157879,409.2602617152467L15.751755670851074,409.2192220649243L18.00024640994401,409.17590559192917L20.24873714903695,409.1301859813088L22.497227888129885,409.081929910333L24.751878875823078,409.03974418713904L27.000369614916018,408.99562001146586L29.248860354008954,408.9494683105721L31.497351093101894,408.90119591878477L33.75200208079509,408.85070538942733L36.00049281988802,408.7978947981058L38.24898355898095,408.7426575369556L40.4974742980739,408.6848820994341L42.752125285767086,408.62445185522387L45.00061602486002,408.56124481479355L47.249106763952966,408.4999395628198L49.4975975030459,408.436022098596L51.75224849073909,408.36938111595157L54.000739229832035,408.2999005659681L56.249229968924965,408.22745945489135L58.49772070801791,408.15193163343224L60.752371695711105,408.0731855770899L63.00086243480404,407.9910841571139L65.24935317389698,407.9054844017083L67.49784391298991,407.8162372470593L69.7524949006831,407.72016235797844L72.00098563977603,407.6198606432961L74.24947637886898,407.5151461433421L76.4979671179619,407.40582471713L78.7526181056551,407.29169368241827L81.00110884474805,407.1725414399377L83.24959958384098,407.0481470810849L85.49809032293392,406.9182799783579L87.75274131062712,406.7826993577713L90.00123204972004,406.64087556643074L92.24972278881299,406.5904499329924L94.49821352790593,406.53926279689085L96.75286451559911,406.4873019706356L99.00135525469206,406.4345550554534L101.249845993785,406.38100953549866L103.49833673287793,406.3360816749229L105.75298772057113,406.13506039629107L108.00147845966407,405.96447399251366L110.249969198757,405.82956961412356L112.49845993784993,405.6383717169091L114.75311092554313,405.43531631320485L117.00160166463607,405.3097455436678L119.250092403729,405.18382539389194L121.49858314282196,405.0576644802216L123.75323413051512,404.9314213926129L126.00172486960808,404.8053107909053L128.250215608701,404.67950289967564L130.49870634779396,404.554118886635L132.75335733548712,404.429333153157L135.0018480745801,404.3054358404624L137.250338813673,404.1861533988012L139.49882955276595,404.0663704165788L141.75348054045915,403.94615841599864L144.00197127955207,403.82559083526746L146.250462018645,403.70474297722944L148.49895275773795,403.58369194293726L150.75360374543115,403.46251656534923L153.00209448452406,403.34129733566346L155.25058522361704,403.220116326044L157.49907596270995,403.09905710857896L159.75372695040315,402.9782046641092L162.0022176894961,402.85657425962296L164.25070842858904,402.73419859397274L166.49919916768195,402.6111113745559L168.75385015537518,402.4873473107762L171.0023408944681,402.36294210391907L173.25083163356103,402.2383145064913L175.49932237265398,402.11352087564194L177.75397336034717,401.9886975151059L180.0024640994401,401.8638264694636L182.25095483853303,401.7389671781296L184.49944557762598,401.6137607135566L186.75409656531914,401.4882495287405L189.00258730441212,401.3625621044267L191.25107804350503,401.2366599987849L193.49956878259798,401.1105882162999L195.75421977029117,400.98439255139226L198.00271050938412,400.8581195629746L200.25120124847703,400.73190797864436L202.49969198757,400.6057168921553L204.75434297526317,400.4795950058753L207.00283371435611,400.35407400254616L209.25132445344906,400.22922273594907L211.499815192542,400.10520818727707L213.75446618023517,399.9820047813821L216.00295691932814,399.8596825058125L218.25144765842106,399.73831162090545L220.499938397514,399.6179625911292L222.7545893852072,399.49880980877896L225.0030801243001,399.3808225124289L227.25157086339306,399.2640713390173L229.50006160248603,399.14615229155186L231.7547125901792,399.0270556177963L234.00320332927214,398.9066619017713L236.25169406836505,398.7850686533165L238.500184807458,398.662266015862L240.75483579515117,398.53824408849977L243.00332653424414,398.41299292359037L245.25181727333708,398.2863867043969L247.50030801243003,398.1585286907028L249.75495900012322,398.02940875512354L252.00344973921617,397.8990167201523L254.25194047830905,397.7673423580346L256.500431217402,397.6342531185297L258.7550822050952,397.4998583035175L261.00357294418814,397.3641475042944L263.2520636832811,397.22711026934894L265.500554422374,397.0887361035631L267.7552054100672,396.94888541090955L270.0036961491602,396.8076738811155L272.25218688825305,396.66509084656957L274.500677627346,396.5204513113532L276.7553286150392,396.3737226825737L279.00381935413213,396.2247355159857L281.2523100932251,396.07358924876877L283.500800832318,395.9202494177625L285.7554518200112,395.7663702920608L288.00394255910413,395.6119719995106L290.2524332981971,395.45693113365485L292.50092403729,395.30140931820756L294.7555750249832,395.14542776079094L297.0040657640762,394.98975859587813L299.2525565031691,394.8344471929278L301.501047242262,394.67938764597415L303.75569822995527,394.52477464410214L306.00418896904813,394.37065462380787L308.2526797081411,394.21707433183724L310.5011704472341,394.06408079566836L312.7558214349272,393.9115619348413L315.0043121740202,393.7597216081621L317.2528029131131,393.60860753657124L319.501293652206,393.4582675917476L321.7559446398992,393.3087497694901L324.0044353789922,393.1599353033514L326.2529261180851,393.01203642034346L328.50141685717807,392.8651014883787L330.75606784487127,392.7191789476579L333.0045585839642,392.57431727232756L335.2530493230571,392.4303906868448L337.50154006215007,392.28761905926245L339.750030801243,392.14605080624784L341.99852154033596,392.0041272818581L344.2470122794289,391.8618585856593L346.4955030185218,391.7192549621497L348.750154006215,391.5763267764953L350.99864474530796,391.43308451155906L353.24713548440087,391.289538765182L355.49562622349384,391.1457002473936L357.75027721118704,391.00157977901534L359.9987679502799,390.8571882838161L362.24725868937287,390.7125367882209L364.49574942846584,390.5676364157448L366.750400416159,390.42249837992534L368.99889115525195,390.27713399112747L371.2473818943449,390.1315546488312L373.4958726334378,389.985771838139L375.75052362113104,389.83979712709447L377.99901436022395,389.6936421621654L380.24750509931687,389.54731866634205L382.49599583840984,389.4008384345742L384.75064682610304,389.25421333057676L386.99913756519595,389.10745528577405L389.2476283042889,388.96057628890856L391.49611904338184,388.8135883946482L393.75077003107504,388.6665037135194L395.99926077016795,388.51933440963603L398.2477515092609,388.3720926970128L400.49624224835384,388.2247908374342L402.75089323604703,388.0774411370441L404.99938397514,387.9300559430759L407.24787471423286,387.7826476417668L409.49636545332584,387.63522865418616L411.75101644101903,387.48781143341716L413.99950718011195,387.3404084627519L416.2479979192049,387.19303225163355L418.4964886582979,387.0456953342038L420.75113964599103,386.8984102673665L422.999630385084,386.75118962683024L425.2481211241769,386.6040460045388L427.49661186326983,386.4569920050332L429.75126285096303,386.3100402451496L431.999753590056,386.16320335262304L434.2482443291489,386.01649396137157L436.4967350682419,385.8699247108509L438.7513860559351,385.72350824421574L440.999876795028,385.57725720456614L443.2483675341209,385.43118423613123L445.4968582732139,385.28530197667584L447.751509260907,385.1396230598584L450,384.99416011408\" stroke=\"#ff7f0e\" stroke-width=\"2\"/></g></g><path class=\"foreground\" aria-hidden=\"true\" d=\"\" display=\"none\"/></g><g transform=\"translate(0,0)\"><path class=\"background\" aria-hidden=\"true\" d=\"M0,0h450v410h-450Z\"/><g><g class=\"mark-line role-mark marks\" role=\"graphics-object\" aria-roledescription=\"line mark container\"><path aria-label=\"time (year): 1949; regions: WEU; income: 1913.31508308\" role=\"graphics-symbol\" aria-roledescription=\"line mark\" d=\"M0,397.93139716824703L2.248490739092938,397.51985154687253L4.496981478185876,397.0942720061758L6.751632465879068,396.654179982223L9.000123204972004,396.19908059180165L11.248613944064942,395.7284620759248L13.497104683157879,395.24179522435855L15.751755670851074,394.738532780525L18.00024640994401,394.21810882611334L20.24873714903695,393.67993814470407L22.497227888129885,393.1234155636943L24.751878875823078,392.5291907911075L27.000369614916018,391.91404335601817L29.248860354008954,391.2772365711888L31.497351093101894,390.6180078106139L33.75200208079509,389.93556759621595L36.00049281988802,389.22909865238313L38.24898355898095,388.49775492721795L40.4974742980739,387.7406605793241L42.752125285767086,386.9569089289173L45.00061602486002,386.1455613720055L47.249106763952966,385.3899465638505L49.4975975030459,384.61039685002845L51.75224849073909,383.8061540668518L54.000739229832035,382.97643603498875L56.249229968924965,382.1204357987425L58.49772070801791,381.2373208412329L60.752371695711105,380.3262322747189L63.00086243480404,379.3862840052736L65.24935317389698,378.4165618709988L67.49784391298991,377.41612275294244L69.7524949006831,375.8397623898081L72.00098563977603,374.1871400159982L74.24947637886898,372.45456618688576L76.4979671179619,370.63817296790427L78.7526181056551,368.73390529946545L81.00110884474805,366.7375119441244L83.24959958384098,364.64453599578115L85.49809032293392,362.45030492973217L87.75274131062712,360.149920171357L90.00123204972004,357.73360652664184L92.24972278881299,356.9678911555069L94.49821352790593,356.1909333300519L96.75286451559911,355.40255897579294L99.00135525469206,354.60260253219485L101.249845993785,353.79089603973097L103.49833673287793,352.799209277176L105.75298772057113,351.33605720526054L108.00147845966407,349.76787427372886L110.249969198757,348.0521468327179L112.49845993784993,346.46951470726793L114.75311092554313,344.32515051779893L117.00160166463607,342.98497625455803L119.250092403729,341.6208983181432L121.49858314282196,340.23118424202363L123.75323413051512,338.81540136617303L126.00172486960808,337.37383665612055L128.250215608701,335.90607804095373L130.49870634779396,334.411734217534L132.75335733548712,332.88962732127885L135.0018480745801,331.3408565573907L137.250338813673,329.7634617019926L139.49882955276595,328.17459975360657L141.75348054045915,326.5740228757771L144.00197127955207,324.9631077816974L146.250462018645,323.3416121265393L148.49895275773795,321.7109831166472L150.75360374543115,320.0718679353683L153.00209448452406,318.42403276006104L155.25058522361704,316.7690296452381L157.49907596270995,315.10662858943533L159.75372695040315,313.4384505903628L162.0022176894961,311.76523452421196L164.25070842858904,310.08675387393697L166.49919916768195,308.4047313500483L168.75385015537518,306.71894006357763L171.0023408944681,305.0311682928041L173.25083163356103,303.34013616477523L175.49932237265398,301.6476448343765L177.75397336034717,299.9534094056031L180.0024640994401,298.2592925653509L182.25095483853303,296.56500280392413L184.49944557762598,294.8655724065241L186.75409656531914,293.162698881646L189.00258730441212,291.45582249143314L191.25107804350503,289.74669783382404L193.49956878259798,288.0347531853838L195.75421977029117,286.3205791117097L198.00271050938412,284.60601335724124L200.25120124847703,282.8904639724709L202.49969198757,281.17582276174346L204.75434297526317,279.4614824055949L207.00283371435611,277.75469410402354L209.25132445344906,276.05768377880696L211.499815192542,274.37007251770353L213.75446618023517,272.69413198228403L216.00295691932814,271.0294598060784L218.25144765842106,269.37698057668365L220.499938397514,267.73902805870614L222.7545893852072,266.11515929159833L225.0030801243001,264.50774434537016L227.25157086339306,262.9163087229129L229.50006160248603,261.3093530251435L231.7547125901792,259.6867605360907L234.00320332927214,258.04991779271626L236.25169406836505,256.39723905271813L238.500184807458,254.7286086489338L240.75483579515117,253.0439107780448L243.00332653424414,251.34302941384703L245.25181727333708,249.62743413379303L247.50030801243003,247.89545703327855L249.75495900012322,246.14698181375297L252.00344973921617,244.38189178221333L254.25194047830905,242.60006990221186L256.500431217402,240.80307213563722L258.7550822050952,238.98914387072696L261.00357294418814,237.15816800163023L263.2520636832811,235.3100274231425L265.500554422374,233.44460501831222L267.7552054100672,231.56354831465617L270.0036961491602,229.6650131872771L272.25218688825305,227.74888291655702L274.500677627346,225.8058267261172L276.7553286150392,223.83543391596302L279.00381935413213,221.83914755594606L281.2523100932251,219.8147220136322L283.500800832318,217.76172614708213L285.7554518200112,215.70086251338304L288.00394255910413,213.63431343130927L290.2524332981971,211.56042170609177L292.50092403729,209.4814206150912L294.7555750249832,207.39562195389323L297.0040657640762,205.31352113158562L299.2525565031691,203.23774455248335L301.501047242262,201.16687149855474L303.75569822995527,199.10357943774622L306.00418896904813,197.04641504580405L308.2526797081411,194.99597634028038L310.5011704472341,192.95501508612324L312.7558214349272,190.92202765904418L315.0043121740202,188.89981322503405L317.2528029131131,186.88683222872572L319.501293652206,184.88369652351835L321.7559446398992,182.89327027344393L324.0044353789922,180.91395784028097L326.2529261180851,178.94866672203386L328.50141685717807,176.99576373248735L330.75606784487127,175.05586809830476L333.0045585839642,173.1319487676921L335.2530493230571,171.22231525374744L337.50154006215007,169.32997466475214L339.750030801243,167.45319569680825L341.99852154033596,165.57318965843032L344.2470122794289,163.69011710246122L346.4955030185218,161.80414086926183L348.750154006215,159.91542546158246L350.99864474530796,158.02413695816298L353.24713548440087,156.13044293927774L355.49562622349384,154.2345125045717L357.75027721118704,152.33651626014884L359.9987679502799,150.43662596885443L362.24725868937287,148.53501456177952L364.49574942846584,146.63185598508412L366.750400416159,144.7273251615988L368.99889115525195,142.82159789770583L371.2473818943449,140.91485082391193L373.4958726334378,139.00726130888313L375.75052362113104,137.09900739889082L377.99901436022395,135.19026770221518L380.24750509931687,133.28122135366402L382.49599583840984,131.37204789923126L384.75064682610304,129.46292722298932L386.99913756519595,127.5540395383291L389.2476283042889,125.64556516605495L391.49611904338184,123.73768468380044L393.75077003107504,121.83057871472094L395.99926077016795,119.92442788467083L398.2477515092609,118.01941273787418L400.49624224835384,116.11571369884572L402.75089323604703,114.2135109970314L404.99938397514,112.31298459616772L407.24787471423286,110.41431415846212L409.49636545332584,108.51767894856839L411.75101644101903,106.62325777742431L413.99950718011195,104.73122897557536L416.2479979192049,102.84177030186608L418.4964886582979,100.95505892742932L420.75113964599103,99.07127140573222L422.999630385084,97.19058358516249L425.2481211241769,95.31317056174386L427.49661186326983,93.43920660191033L429.75126285096303,91.56886516013842L431.999753590056,89.70231886527785L434.2482443291489,87.83973941346562L436.4967350682419,85.9812975762129L438.7513860559351,84.12716317482277L440.999876795028,82.27750500142109L443.2483675341209,80.43249087828542L445.4968582732139,78.59228747228657L447.751509260907,76.75706038736185L450,74.92697415873714\" stroke=\"#c7c7c7\" stroke-width=\"2\"/></g></g><path class=\"foreground\" aria-hidden=\"true\" d=\"\" display=\"none\"/></g><g transform=\"translate(0,0)\"><path class=\"background\" aria-hidden=\"true\" d=\"M0,0h450v410h-450Z\"/><g><g class=\"mark-line role-mark marks\" role=\"graphics-object\" aria-roledescription=\"line mark container\"><path aria-label=\"time (year): 1949; regions: JPK; income: 616.021980672\" role=\"graphics-symbol\" aria-roledescription=\"line mark\" d=\"M0,406.11432289114373L2.248490739092938,405.9338250769207L4.496981478185876,405.7449427623837L6.751632465879068,405.54728646998785L9.000123204972004,405.34044863014356L11.248613944064942,405.1240027408023L13.497104683157879,404.89750248800556L15.751755670851074,404.6604808255791L18.00024640994401,404.4124490120791L20.24873714903695,404.1528956030012L22.497227888129885,403.88128539617605L24.751878875823078,403.59781631943616L27.000369614916018,403.301214628631L29.248860354008954,402.99087191329767L31.497351093101894,402.6661515764074L33.75200208079509,402.32638752853256L36.00049281988802,401.9708828215166L38.24898355898095,401.5989082188446L40.4974742980739,401.20970069978125L42.752125285767086,400.8024618942087L45.00061602486002,400.3763564449533L47.249106763952966,399.93666991499714L49.4975975030459,399.4768949181814L51.75224849073909,398.99611364949425L54.000739229832035,398.4933663711053L56.249229968924965,397.96764949653215L58.49772070801791,397.4179135872766L60.752371695711105,396.84306125793023L63.00086243480404,396.2419449855687L65.24935317389698,395.61336481906113L67.49784391298991,394.956065983722L69.7524949006831,393.7678777064729L72.00098563977603,392.48584486830885L74.24947637886898,391.10255551122447L76.4979671179619,389.61001227172125L78.7526181056551,387.99958614476674L81.00110884474805,386.2619665959751L83.24959958384098,384.38710773358645L85.49809032293392,382.3641702290436L87.75274131062712,380.18145865038537L90.00123204972004,377.8218763039155L92.24972278881299,377.21798530467044L94.49821352790593,376.60270690741817L96.75286451559911,375.97582173348826L99.00135525469206,375.3371103878846L101.249845993785,374.6863490684434L103.49833673287793,373.199895729043L105.75298772057113,372.737257333583L108.00147845966407,371.9133905318556L110.249969198757,372.50035076028837L112.49845993784993,371.86689379995124L114.75311092554313,370.95505080354957L117.00160166463607,369.97706571139474L119.250092403729,368.9287103221058L121.49858314282196,367.8339006896043L123.75323413051512,366.69338074031486L126.00172486960808,365.5046134663807L128.250215608701,364.2662523441656L130.49870634779396,362.9755375243661L132.75335733548712,361.6300149791062L135.0018480745801,360.22759244600775L137.250338813673,358.76508137375185L139.49882955276595,357.2965122673783L141.75348054045915,355.8238133661548L144.00197127955207,354.3484298224818L146.250462018645,352.87293142087583L148.49895275773795,351.3994271900429L150.75360374543115,349.9300783428975L153.00209448452406,348.467093481066L155.25058522361704,347.01210437005085L157.49907596270995,345.56798947355713L159.75372695040315,344.137068258871L162.0022176894961,342.7049414217311L164.25070842858904,341.27290416130006L166.49919916768195,339.84158966730223L168.75385015537518,338.41300991267474L171.0023408944681,336.9885393224622L173.25083163356103,335.56737728741336L175.49932237265398,334.15156300062245L177.75397336034717,332.74168927790186L180.0024640994401,331.33986022644063L182.25095483853303,329.9466734413515L184.49944557762598,328.54317374438364L186.75409656531914,327.1305003005544L189.00258730441212,325.70819839756155L191.25107804350503,324.2774586823679L193.49956878259798,322.8378211534773L195.75421977029117,321.38965392327736L198.00271050938412,319.93422469610783L200.25120124847703,318.47106419833295L202.49969198757,317.0014915712365L204.75434297526317,315.5250305006584L207.00283371435611,314.056461818565L209.25132445344906,312.59784502043567L211.499815192542,311.1493532674621L213.75446618023517,309.7130902149188L216.00295691932814,308.2892124454448L218.25144765842106,306.8788429118517L220.499938397514,305.48414045949943L222.7545893852072,304.1052270199284L225.0030801243001,302.7442899892158L227.25157086339306,301.40142111372904L229.50006160248603,300.04169648627203L231.7547125901792,298.6649100966331L234.00320332927214,297.27085394634906L236.25169406836505,295.85931772811244L238.500184807458,294.43008880743537L240.75483579515117,292.98295219014193L243.00332653424414,291.5176904820869L245.25181727333708,290.0340838699214L247.50030801243003,288.53191010851793L249.75495900012322,287.0109444394831L252.00344973921617,285.47095955208505L254.25194047830905,283.91172557080733L256.500431217402,282.3330100728231L258.7550822050952,280.73457806193L261.00357294418814,279.11619192374957L263.2520636832811,277.4776114496773L265.500554422374,275.81859381233875L267.7552054100672,274.13889354474816L270.0036961491602,272.43826251717223L272.25218688825305,270.71644986596505L274.500677627346,268.98024622948134L276.7553286150392,267.22965900833213L279.00381935413213,265.46469819371015L281.2523100932251,263.6853765066445L283.500800832318,261.89170942130505L285.7554518200112,260.1029865951307L288.00394255910413,258.3199259231846L290.2524332981971,256.54476924183365L292.50092403729,254.77676312676672L294.7555750249832,253.01664210460322L297.0040657640762,251.2572127717634L299.2525565031691,249.4989564740936L301.501047242262,247.7439662879521L303.75569822995527,245.99116323187295L306.00418896904813,244.24104455065256L308.2526797081411,242.49411245023268L310.5011704472341,240.75087378261404L312.7558214349272,239.01353343954685L315.0043121740202,237.28094772265493L317.2528029131131,235.55363551476688L319.501293652206,233.84092293306128L321.7559446398992,232.14359162550744L324.0044353789922,230.46420235692983L326.2529261180851,228.80178920322967L328.50141685717807,227.15713051251433L330.75606784487127,225.5310026915657L333.0045585839642,223.92417943793845L335.2530493230571,222.33929236065796L337.50154006215007,220.7752778965279L339.750030801243,219.23289687827298L341.99852154033596,217.68611823708372L344.2470122794289,216.1350510473019L346.4955030185218,214.57980660204572L348.750154006215,213.02049809101445L350.99864474530796,211.45724056098064L353.24713548440087,209.89015088277782L355.49562622349384,208.3193478375453L357.75027721118704,206.7449521217688L359.9987679502799,205.16708609599067L362.24725868937287,203.58587378699062L364.49574942846584,202.00144082161145L366.750400416159,200.41391441056516L368.99889115525195,198.82342328855802L371.2473818943449,197.23009768747767L373.4958726334378,195.63406929276093L375.75052362113104,194.03547120932683L377.99901436022395,192.4344379033587L380.24750509931687,190.83110517685245L382.49599583840984,189.2256101074694L384.75064682610304,187.61809100523533L386.99913756519595,186.0086873962348L389.2476283042889,184.39753995276538L391.49611904338184,182.78479046556583L393.75077003107504,181.17058177585952L395.99926077016795,179.555057741199L398.2477515092609,177.93836318244976L400.49624224835384,176.3206438504438L402.75089323604703,174.7020463754893L404.99938397514,173.08271821816606L407.24787471423286,171.46280763510387L409.49636545332584,169.8424636169994L411.75101644101903,168.22183584380664L413.99950718011195,166.6010746528561L416.2479979192049,164.98033097690484L418.4964886582979,163.35975631607423L420.75113964599103,161.73950270314685L422.999630385084,160.11972264170916L425.2481211241769,158.5005690622263L427.49661186326983,156.88219526354416L429.75126285096303,155.26475489850864L431.999753590056,153.6484019449105L434.2482443291489,152.03329063171455L436.4967350682419,150.41957541943572L438.7513860559351,148.8074109644446L440.999876795028,147.19695205723036L443.2483675341209,145.58835362706023L445.4968582732139,143.9817706279029L447.751509260907,142.37735805863895L450,140.7752709360013\" stroke=\"#d62728\" stroke-width=\"2\"/></g></g><path class=\"foreground\" aria-hidden=\"true\" d=\"\" display=\"none\"/></g><g transform=\"translate(0,0)\"><path class=\"background\" aria-hidden=\"true\" d=\"M0,0h450v410h-450Z\"/><g><g class=\"mark-line role-mark marks\" role=\"graphics-object\" aria-roledescription=\"line mark container\"><path aria-label=\"time (year): 1949; regions: ANZ; income: 119.057728115\" role=\"graphics-symbol\" aria-roledescription=\"line mark\" d=\"M0,409.2490204841956L2.248490739092938,409.22371880204116L4.496981478185876,409.19756466638245L6.751632465879068,409.1705293567189L9.000123204972004,409.14258318491113L11.248613944064942,409.1136954625795L13.497104683157879,409.0838344674046L15.751755670851074,409.05296740829203L18.00024640994401,409.021060389364L20.24873714903695,408.988078372737L22.497227888129885,408.9539851400463L24.751878875823078,408.92357817927405L27.000369614916018,408.8922873082451L29.248860354008954,408.8600868322724L31.497351093101894,408.8269503097411L33.75200208079509,408.79285053039655L36.00049281988802,408.7577594929995L38.24898355898095,408.72164838233357L40.4974742980739,408.6844875455427L42.752125285767086,408.6462464677823L45.00061602486002,408.60689374716105L47.249106763952966,408.5769506995909L49.4975975030459,408.5463640642858L51.75224849073909,408.5151200081457L54.000739229832035,408.4832044007457L56.249229968924965,408.45060280794536L58.49772070801791,408.4173004853606L60.752371695711105,408.3832823716959L63.00086243480404,408.348533081932L65.24935317389698,408.3130369003683L67.49784391298991,408.2767777735153L69.7524949006831,408.2288142953522L72.00098563977603,408.1795158209233L74.24947637886898,408.12884519247655L76.4979671179619,408.07676421802586L78.7526181056551,408.0232336425647L81.00110884474805,407.96821311847845L83.24959958384098,407.9116611751329L85.49809032293392,407.85353518761707L87.75274131062712,407.79379134461516L90.00123204972004,407.73212169750155L92.24972278881299,407.66338908924473L94.49821352790593,407.5925696764889L96.75286451559911,407.5195998670356L99.00135525469206,407.44441427877405L101.249845993785,407.36694552239913L103.49833673287793,407.2959953317685L105.75298772057113,407.2291666243085L108.00147845966407,407.12025940928186L110.249969198757,406.9853643383819L112.49845993784993,406.84703723468357L114.75311092554313,406.72928279218047L117.00160166463607,406.6269208877778L119.250092403729,406.52210265922514L121.49858314282196,406.41476147041743L123.75323413051512,406.3049008905297L126.00172486960808,406.19241681225856L128.250215608701,406.0773513700584L130.49870634779396,405.9596369677864L132.75335733548712,405.8392845419L135.0018480745801,405.7162258474323L137.250338813673,405.5904759735395L139.49882955276595,405.4642122652829L141.75348054045915,405.3376006919609L144.00197127955207,405.21076569576576L146.250462018645,405.0839284870197L148.49895275773795,404.9572706021624L150.75360374543115,404.83097805007316L153.00209448452406,404.70524089803007L155.25058522361704,404.5801995596224L157.49907596270995,404.4561017041232L159.75372695040315,404.3331468756897L162.0022176894961,404.2100961536978L164.25070842858904,404.0870610526637L166.49919916768195,403.9640961127111L168.75385015537518,403.841374488102L171.0023408944681,403.7190144676759L173.25083163356103,403.596947199038L175.49932237265398,403.475348123791L177.75397336034717,403.35426824233315L180.0024640994401,403.23388854736316L182.25095483853303,403.1142604238478L184.49944557762598,402.99375347897046L186.75409656531914,402.8724657659975L189.00258730441212,402.75035828856244L191.25107804350503,402.6275335655993L193.49956878259798,402.5039521449698L195.75421977029117,402.37964579923374L198.00271050938412,402.2547236581874L200.25120124847703,402.1291454703897L202.49969198757,402.0030247797834L204.75434297526317,401.87632072926465L207.00283371435611,401.75030435645425L209.25132445344906,401.6251527581797L211.499815192542,401.50088079364355L213.75446618023517,401.3776693001569L216.00295691932814,401.2555316920947L218.25144765842106,401.134564464698L220.499938397514,401.0149531535702L222.7545893852072,400.89670816527723L225.0030801243001,400.780017461029L227.25157086339306,400.66488883577534L229.50006160248603,400.5483202499301L231.7547125901792,400.4302941401566L234.00320332927214,400.3107928282268L236.25169406836505,400.189798444881L238.500184807458,400.0672929241299L240.75483579515117,399.9432580051205L243.00332653424414,399.8176752272739L245.25181727333708,399.6905259287131L247.50030801243003,399.56179124719534L249.75495900012322,399.43145210988075L252.00344973921617,399.2994892345469L254.25194047830905,399.16588312649634L256.500431217402,399.030614079552L258.7550822050952,398.89366217603725L261.00357294418814,398.7550072790523L263.2520636832811,398.6146290383449L265.500554422374,398.47250688654793L267.7552054100672,398.3286200375722L270.0036961491602,398.1829474868441L272.25218688825305,398.035468001666L274.500677627346,397.88676520777653L276.7553286150392,397.7368400622126L279.00381935413213,397.58569369791604L281.2523100932251,397.4333274889069L283.500800832318,397.2797430481018L285.7554518200112,397.12659729341317L288.00394255910413,396.9739520362726L290.2524332981971,396.82199991888734L292.50092403729,396.6706763473974L294.7555750249832,396.52004450717186L297.0040657640762,396.3694868351918L299.2525565031691,396.2190448177402L301.501047242262,396.0688983343219L303.75569822995527,395.9189549010291L306.00418896904813,395.7692573743115L308.2526797081411,395.61984903077246L310.5011704472341,395.47077354157517L312.7558214349272,395.32222033627977L315.0043121740202,395.1740913793062L317.2528029131131,395.026431363341L319.501293652206,394.88004091320454L321.7559446398992,394.7349871513094L324.0044353789922,394.5914898999472L326.2529261180851,394.44946628233185L328.50141685717807,394.30898312452615L330.75606784487127,394.17010707214655L333.0045585839642,394.03290452626374L335.2530493230571,393.8976012954278L337.50154006215007,393.7641060943636L339.750030801243,393.63248418510636L341.99852154033596,393.5005022103668L344.2470122794289,393.3681697771876L346.4955030185218,393.23549668232374L348.750154006215,393.10249287927275L350.99864474530796,392.9691684750617L353.24713548440087,392.83553372737924L355.49562622349384,392.7015990489585L357.75027721118704,392.5673750075462L359.9987679502799,392.43287230839576L362.24725868937287,392.29810179421617L364.49574942846584,392.1630744394642L366.750400416159,392.02780134415354L368.99889115525195,391.892293738114L371.2473818943449,391.75656297397427L373.4958726334378,391.62062052333846L375.75052362113104,391.4844779737643L377.99901436022395,391.348147023713L380.24750509931687,391.21163948024986L382.49599583840984,391.07496725382634L384.75064682610304,390.9381423544757L386.99913756519595,390.8011768902928L389.2476283042889,390.6640830556273L391.49611904338184,390.5268731400823L393.75077003107504,390.3895595169504L395.99926077016795,390.2521546401903L398.2477515092609,390.1146710398052L400.49624224835384,389.9771213188973L402.75089323604703,389.8395181492692L404.99938397514,389.70187426713636L407.24787471423286,389.5642024701208L409.49636545332584,389.42651561188046L411.75101644101903,389.2888265982031L413.99950718011195,389.15114838421505L416.2479979192049,389.01349396901907L418.4964886582979,388.87587639324084L420.75113964599103,388.7383087360179L422.999630385084,388.6008041096605L425.2481211241769,388.46337565585253L427.49661186326983,388.32603654060136L429.75126285096303,388.18879995299255L431.999753590056,388.05167910269734L434.2482443291489,387.9146872136237L436.4967350682419,387.77783752224394L438.7513860559351,387.64114327454473L440.999876795028,387.5046177207263L443.2483675341209,387.368274115658L445.4968582732139,387.2321257090457L447.751509260907,387.0961857472421L450,386.9604674709747\" stroke=\"#1f77b4\" stroke-width=\"2\"/></g></g><path class=\"foreground\" aria-hidden=\"true\" d=\"\" display=\"none\"/></g><g transform=\"translate(0,0)\"><path class=\"background\" aria-hidden=\"true\" d=\"M0,0h450v410h-450Z\"/><g><g class=\"mark-line role-mark marks\" role=\"graphics-object\" aria-roledescription=\"line mark container\"><path aria-label=\"time (year): 1949; regions: EEU; income: 87.9192108942\" role=\"graphics-symbol\" aria-roledescription=\"line mark\" d=\"M0,409.4454326697443L2.248490739092938,409.42205241999477L4.496981478185876,409.3976864719385L6.751632465879068,409.37229326908414L9.000123204972004,409.34582950294134L11.248613944064942,409.31825003915833L13.497104683157879,409.289507840544L15.751755670851074,409.2595538868454L18.00024640994401,409.2283370911433L20.24873714903695,409.1958042127221L22.497227888129885,409.16189976626754L24.751878875823078,409.1301452215988L27.000369614916018,409.09718753789423L29.248860354008954,409.0629811297564L31.497351093101894,409.0274786846155L33.75200208079509,408.99063109728917L36.00049281988802,408.9523874020623L38.24898355898095,408.91269470219436L40.4974742980739,408.871498096755L42.752125285767086,408.8287406046877L45.00061602486002,408.784363085997L47.249106763952966,408.73815403997344L49.4975975030459,408.6901884859747L51.75224849073909,408.6403996552502L54.000739229832035,408.58871824102164L56.249229968924965,408.53507230200677L58.49772070801791,408.4793871622764L60.752371695711105,408.421585307304L63.00086243480404,408.36158627606454L65.24935317389698,408.29930654903194L67.49784391298991,408.2346594319179L69.7524949006831,408.20097491734344L72.00098563977603,408.1666476675696L74.24947637886898,408.13166541854724L76.4979671179619,408.0960156722169L78.7526181056551,408.0596856920428L81.00110884474805,408.0226624984636L83.24959958384098,407.984932864254L85.49809032293392,407.94648330979993L87.75274131062712,407.90730009828224L90.00123204972004,407.86702500415646L92.24972278881299,407.8824745054216L94.49821352790593,407.89780685713015L96.75286451559911,407.9130226506601L99.00135525469206,407.9281228765438L101.249845993785,407.94310850747365L103.49833673287793,407.86226325122334L105.75298772057113,407.79203598762774L108.00147845966407,407.7193693949574L110.249969198757,407.66087687539846L112.49845993784993,407.6010471349617L114.75311092554313,407.51068667609957L117.00160166463607,407.45771862401654L119.250092403729,407.39893817864163L121.49858314282196,407.333978615918L123.75323413051512,407.26245540112166L126.00172486960808,407.1839399147138L128.250215608701,407.09795337341234L130.49870634779396,407.00399167926804L132.75335733548712,406.90140382511424L135.0018480745801,406.7895909871432L137.250338813673,406.6677927870282L139.49882955276595,406.5423167822313L141.75348054045915,406.41309468355513L144.00197127955207,406.2800228125559L146.250462018645,406.143067359236L148.49895275773795,406.0021619521375L150.75360374543115,405.8572411315163L153.00209448452406,405.70824045828425L155.25058522361704,405.555053674692L157.49907596270995,405.3976586216333L159.75372695040315,405.2359944851204L162.0022176894961,405.07000195084504L164.25070842858904,404.8996233203715L166.49919916768195,404.7247515938472L168.75385015537518,404.5453802066631L171.0023408944681,404.361456890408L173.25083163356103,404.1749055845294L175.49932237265398,403.98581575463203L177.75397336034717,403.79439935637294L180.0024640994401,403.6007613043494L182.25095483853303,403.4051363733743L184.49944557762598,403.20737086121375L186.75409656531914,403.0075620943628L189.00258730441212,402.8059478693154L191.25107804350503,402.6026384055026L193.49956878259798,402.3978920442113L195.75421977029117,402.19190720567894L198.00271050938412,401.98481204305784L200.25120124847703,401.7768943676722L202.49969198757,401.56829300878616L204.75434297526317,401.35931411513394L207.00283371435611,401.15063480063424L209.25132445344906,400.94243876324595L211.499815192542,400.73508827775964L213.75446618023517,400.5287737344813L216.00295691932814,400.32387128954696L218.25144765842106,400.1206724839743L220.499938397514,399.9193733661473L222.7545893852072,399.72036617595444L225.0030801243001,399.5238475571705L227.25157086339306,399.33021696908503L229.50006160248603,399.13283291461477L231.7547125901792,398.9317293731752L234.00320332927214,398.7267256102437L236.25169406836505,398.5178567790194L238.500184807458,398.3049352858067L240.75483579515117,398.0878805820845L243.00332653424414,397.86672956430897L245.25181727333708,397.6412837518969L247.50030801243003,397.4115812892715L249.75495900012322,397.1774161045227L252.00344973921617,396.93869941942773L254.25194047830905,396.6954711995425L256.500431217402,396.44751333405236L258.7550822050952,396.1948671402772L261.00357294418814,395.93730615097974L263.2520636832811,395.6747325287089L265.500554422374,395.40718965379267L267.7552054100672,395.13443788074557L270.0036961491602,394.85652209334387L272.25218688825305,394.57319346432126L274.500677627346,394.28355802388205L276.7553286150392,393.98761857787815L279.00381935413213,393.68506558890124L281.2523100932251,393.3758997923446L283.500800832318,393.05979761933435L285.7554518200112,392.7431933151848L288.00394255910413,392.42628521407215L290.2524332981971,392.10945153972085L292.50092403729,391.79272938582693L294.7555750249832,391.47632912996704L297.0040657640762,391.1614068881503L299.2525565031691,390.84822746408014L301.501047242262,390.5372499183743L303.75569822995527,390.2285588537019L306.00418896904813,389.9224261685839L308.2526797081411,389.6191254303826L310.5011704472341,389.3189314566969L312.7558214349272,389.0223266978367L315.0043121740202,388.7293863363157L317.2528029131131,388.4403862845286L319.501293652206,388.1556019007509L321.7559446398992,387.8753076255783L324.0044353789922,387.5999978565413L326.2529261180851,387.32972830470027L328.50141685717807,387.0647681620643L330.75606784487127,386.80538409296605L333.0045585839642,386.5518397434827L335.2530493230571,386.30462973698013L337.50154006215007,386.06378079035545L339.750030801243,385.8295445307745L341.99852154033596,385.59419301509337L344.2470122794289,385.35774009002637L346.4955030185218,385.1201999719372L348.750154006215,384.8815872154146L350.99864474530796,384.6419167053253L353.24713548440087,384.4012036503151L355.49562622349384,384.1594635867574L357.75027721118704,383.916712379798L359.9987679502799,383.67296618206814L362.24725868937287,383.4282414377777L364.49574942846584,383.18255486485134L366.750400416159,382.93592345552827L368.99889115525195,382.68836445959215L371.2473818943449,382.43989538183064L373.4958726334378,382.1905339724754L375.75052362113104,381.9402982209241L377.99901436022395,381.6892063418353L380.24750509931687,381.4372767719286L382.49599583840984,381.1845281557604L384.75064682610304,380.93097933705474L386.99913756519595,380.67664935876576L389.2476283042889,380.4215574461388L391.49611904338184,380.16572300366084L393.75077003107504,379.90916559894436L395.99926077016795,379.6519049574749L398.2477515092609,379.39396095145804L400.49624224835384,379.135353594986L402.75089323604703,378.8761030338567L404.99938397514,378.6162295358865L407.24787471423286,378.35575348601293L409.49636545332584,378.09469537272685L411.75101644101903,377.8330757799811L413.99950718011195,377.5709153832041L416.2479979192049,377.3082349359417L418.4964886582979,377.0450552671646L420.75113964599103,376.7813972765247L422.999630385084,376.51728192118077L425.2481211241769,376.2527302082678L427.49661186326983,375.98776318286264L429.75126285096303,375.7224019297033L431.999753590056,375.45666757035L434.2482443291489,375.1905812464957L436.4967350682419,374.92416412010016L438.7513860559351,374.65743736854057L440.999876795028,374.3904221717228L443.2483675341209,374.1231397197266L445.4968582732139,373.85561118377734L447.751509260907,373.5878577286847L450,373.31990051066435\" stroke=\"#2ca02c\" stroke-width=\"2\"/></g></g><path class=\"foreground\" aria-hidden=\"true\" d=\"\" display=\"none\"/></g><g transform=\"translate(0,0)\"><path class=\"background\" aria-hidden=\"true\" d=\"M0,0h450v410h-450Z\"/><g><g class=\"mark-line role-mark marks\" role=\"graphics-object\" aria-roledescription=\"line mark container\"><path aria-label=\"time (year): 1949; regions: FSU; income: 167.308878762\" role=\"graphics-symbol\" aria-roledescription=\"line mark\" d=\"M0,408.94466707242526L2.248490739092938,408.89619597309513L4.496981478185876,408.8454986118823L6.751632465879068,408.79247273729993L9.000123204972004,408.7370114014837L11.248613944064942,408.67900274448846L13.497104683157879,408.61832976867805L15.751755670851074,408.5548701027528L18.00024640994401,408.4884957549388L20.24873714903695,408.41907285484166L22.497227888129885,408.346461383443L24.751878875823078,408.2790469968402L27.000369614916018,408.20888414130195L29.248860354008954,408.1358607623862L31.497351093101894,408.0598602372169L33.75200208079509,407.9807611882306L36.00049281988802,407.8984372893285L38.24898355898095,407.81275706412623L40.4974742980739,407.7235836759774L42.752125285767086,407.63077470943733L45.00061602486002,407.53418194281676L47.249106763952966,407.44277545692546L49.4975975030459,407.34798058410973L51.75224849073909,407.24967171877563L54.000739229832035,407.14771859920063L56.249229968924965,407.04198613493355L58.49772070801791,406.9323342277964L60.752371695711105,406.8186175862504L63.00086243480404,406.7006855328817L65.24935317389698,406.5783818047493L67.49784391298991,406.45154434633326L69.7524949006831,406.2746305452577L72.00098563977603,406.08889643020177L74.24947637886898,405.89390225063016L76.4979671179619,405.6891863315576L78.7526181056551,405.47426398047105L81.00110884474805,405.24862633975494L83.24959958384098,405.01173918190204L85.49809032293392,404.76304164465824L87.75274131062712,404.50194490310525L90.00123204972004,404.22714712972993L92.24972278881299,404.8160099704212L94.49821352790593,405.3447690756943L96.75286451559911,405.81956197626636L99.00135525469206,406.245898888002L101.249845993785,406.6287271354385L103.49833673287793,406.745816003318L105.75298772057113,406.705368120261L108.00147845966407,406.69124182609494L110.249969198757,406.8325656669699L112.49845993784993,406.7476816352228L114.75311092554313,406.5002382994587L117.00160166463607,406.42731682224223L119.250092403729,406.346147843976L121.49858314282196,406.256181279244L123.75323413051512,406.1569137456758L126.00172486960808,406.04770376725844L128.250215608701,405.92787438207864L130.49870634779396,405.7967112307382L132.75335733548712,405.6533785191076L135.0018480745801,405.4969437696064L137.250338813673,405.3263264804465L139.49882955276595,405.15059578282484L141.75348054045915,404.96966020911975L144.00197127955207,404.78337891276084L146.250462018645,404.5917093232188L148.49895275773795,404.39456349220825L150.75360374543115,404.191855069196L153.00209448452406,403.9834994535675L155.25058522361704,403.76935374151327L157.49907596270995,403.5493932816931L159.75372695040315,403.3235396284768L162.0022176894961,403.09171689519667L164.25070842858904,402.8538519260431L166.49919916768195,402.6098029101245L168.75385015537518,402.3595691695723L171.0023408944681,402.10308643169367L173.25083163356103,401.8430583175099L175.49932237265398,401.57961870289563L177.75397336034717,401.3130731670856L180.0024640994401,401.04357757893865L182.25095483853303,400.7714698384933L184.49944557762598,400.496544667985L186.75409656531914,400.2189485370142L189.00258730441212,399.9390246091251L191.25107804350503,399.6569377351283L193.49956878259798,399.37306001333405L195.75421977029117,399.08767981501757L198.00271050938412,398.800987383896L200.25120124847703,398.5133961163998L202.49969198757,398.22511123610167L204.75434297526317,397.93657156941066L207.00283371435611,397.6487334104917L209.25132445344906,397.36186371998207L211.499815192542,397.0764784312255L213.75446618023517,396.792853338222L216.00295691932814,396.5115229818135L218.25144765842106,396.2329034180569L220.499938397514,395.95727717313L222.7545893852072,395.68519962121474L225.0030801243001,395.41695307402796L227.25157086339306,395.15310141895617L229.50006160248603,394.8844138531972L231.7547125901792,394.6109554447553L234.00320332927214,394.3324932467773L236.25169406836505,394.0490951425916L238.500184807458,393.7605201474734L240.75483579515117,393.4666768069221L243.00332653424414,393.1676372910297L245.25181727333708,392.86314779705816L247.50030801243003,392.55328351459514L249.75495900012322,392.23778168875776L252.00344973921617,391.91654297472326L254.25194047830905,391.58964691302407L256.500431217402,391.2568165473439L258.7550822050952,390.91813470821603L261.00357294418814,390.5733147085231L263.2520636832811,390.2222487603541L265.500554422374,389.8650248625597L267.7552054100672,389.5013412307759L270.0036961491602,389.13128962240705L272.25218688825305,388.7545577539965L274.500677627346,388.36994689020025L276.7553286150392,387.9774954420444L279.00381935413213,387.5768132565272L281.2523100932251,387.16793821179465L283.500800832318,386.75046384752403L285.7554518200112,386.3332537269061L288.00394255910413,385.9166008782444L290.2524332981971,385.5010440022339L292.50092403729,385.0866535604098L294.7555750249832,384.67373696452756L297.0040657640762,384.2638933609215L299.2525565031691,383.85750057980505L301.501047242262,383.45520021129363L303.75569822995527,383.05712144855875L306.00418896904813,382.66364792345024L308.2526797081411,382.275164199582L310.5011704472341,381.89205504576097L312.7558214349272,381.51498558594074L315.0043121740202,381.1440658120861L317.2528029131131,380.7796767001216L319.501293652206,380.4221962808907L321.7559446398992,380.07199925847885L324.0044353789922,379.7297556783899L326.2529261180851,379.3955402583961L328.50141685717807,379.06971465604363L330.75606784487127,378.75263517758594L333.0045585839642,378.4446519373189L335.2530493230571,378.1464233708709L337.50154006215007,377.85797605350336L339.750030801243,377.5796369081262L341.99852154033596,377.30103849586175L344.2470122794289,377.0222184734256L346.4955030185218,376.7432148482278L348.750154006215,376.4640659468481L350.99864474530796,376.18481038016944L353.24713548440087,375.90548701364634L355.49562622349384,375.6261349447146L357.75027721118704,375.34679349647115L359.9987679502799,375.0675020994623L362.24725868937287,374.78830030279124L364.49574942846584,374.5092277034638L366.750400416159,374.2303239459424L368.99889115525195,373.95162865971673L371.2473818943449,373.67318144842L373.4958726334378,373.39502185351637L375.75052362113104,373.1171893308347L377.99901436022395,372.8397231997825L380.24750509931687,372.5626626325882L382.49599583840984,372.2860466038694L384.75064682610304,372.009913861309L386.99913756519595,371.734302928516L389.2476283042889,371.4592520469288L391.49611904338184,371.18479916899423L393.75077003107504,370.91098190458547L395.99926077016795,370.63783750715396L398.2477515092609,370.36540283938456L400.49624224835384,370.09371436197404L402.75089323604703,369.8228081039644L404.99938397514,369.5527196354983L407.24787471423286,369.2834840580096L409.49636545332584,369.0151359645211L411.75101644101903,368.74770941984065L413.99950718011195,368.4812379555437L416.2479979192049,368.2157545328572L418.4964886582979,367.95129154311724L420.75113964599103,367.6878808014184L422.999630385084,367.42555351170114L425.2481211241769,367.16434025186504L427.49661186326983,366.90427094399286L429.75126285096303,366.64537487195315L431.999753590056,366.38768068355415L434.2482443291489,366.1312163461439L436.4967350682419,365.8760091596847L438.7513860559351,365.62208575313844L440.999876795028,365.3694720542239L443.2483675341209,365.11819332830686L445.4968582732139,364.8682740949735L447.751509260907,364.61973818349014L450,364.37260873934224\" stroke=\"#98df8a\" stroke-width=\"2\"/></g></g><path class=\"foreground\" aria-hidden=\"true\" d=\"\" display=\"none\"/></g><g transform=\"translate(0,0)\"><path class=\"background\" aria-hidden=\"true\" d=\"M0,0h450v410h-450Z\"/><g><g class=\"mark-line role-mark marks\" role=\"graphics-object\" aria-roledescription=\"line mark container\"><path aria-label=\"time (year): 1949; regions: MDE; income: 76.0649829671\" role=\"graphics-symbol\" aria-roledescription=\"line mark\" d=\"M0,409.52020549205395L2.248490739092938,409.4956370139557L4.496981478185876,409.4698104761963L6.751632465879068,409.44266145825685L9.000123204972004,409.41412224088486L11.248613944064942,409.38412163717913L13.497104683157879,409.3525848150239L15.751755670851074,409.3194331104313L18.00024640994401,409.2845838313256L20.24873714903695,409.24795005127993L22.497227888129885,409.20944039269085L24.751878875823078,409.1679635302363L27.000369614916018,409.1243105761839L29.248860354008954,409.07836736146777L31.497351093101894,409.0300137271199L33.75200208079509,408.97912321000894L36.00049281988802,408.92556271209077L38.24898355898095,408.86919215230677L40.4974742980739,408.8098641002185L42.752125285767086,408.74742339042126L45.00061602486002,408.68170671672715L47.249106763952966,408.6094117995376L49.4975975030459,408.53315224479906L51.75224849073909,408.4527106326498L54.000739229832035,408.3678576199703L56.249229968924965,408.27835128651407L58.49772070801791,408.18393644518073L60.752371695711105,408.0843439144651L63.00086243480404,407.9792897510064L65.24935317389698,407.86847444005195L67.49784391298991,407.7515820415249L69.7524949006831,407.69995527699626L72.00098563977603,407.64714309104465L74.24947637886898,407.593118264766L76.4979671179619,407.537852954273L78.7526181056551,407.48131867634413L81.00110884474805,407.42348629374425L83.24959958384098,407.36432600020703L85.49809032293392,407.3038073050735L87.75274131062712,407.2418990175774L90.00123204972004,407.1772667297666L92.24972278881299,407.0647458172728L94.49821352790593,406.9477203646601L96.75286451559911,406.82600901512615L99.00135525469206,406.6994233325071L101.249845993785,406.5677671848527L103.49833673287793,406.4244164435247L105.75298772057113,406.26408293553163L108.00147845966407,406.0428809521582L110.249969198757,405.89944360488687L112.49845993784993,405.91781542784133L114.75311092554313,405.6850533528526L117.00160166463607,405.5866791739083L119.250092403729,405.4746300993298L121.49858314282196,405.34797642021624L123.75323413051512,405.2056978587121L126.00172486960808,405.0466272139403L128.250215608701,404.8694851868683L130.49870634779396,404.6727143101319L132.75335733548712,404.4546574330706L135.0018480745801,404.21332787774173L137.250338813673,403.94653597318404L139.49882955276595,403.67083874997473L141.75348054045915,403.38613599570374L144.00197127955207,403.0924053480208L146.250462018645,402.7895069038278L148.49895275773795,402.47737458668377L150.75360374543115,402.15595509115855L153.00209448452406,401.8252085798031L155.25058522361704,401.4851924808728L157.49907596270995,401.1358196598314L159.75372695040315,400.77709502171194L162.0022176894961,400.4090395623458L164.25070842858904,400.0316910374919L166.49919916768195,399.6452057060255L168.75385015537518,399.24956336051645L171.0023408944681,398.8448559984817L173.25083163356103,398.4308548021415L175.49932237265398,398.0075350945205L177.75397336034717,397.57511633703535L180.0024640994401,397.1336022702303L182.25095483853303,396.68325835578395L184.49944557762598,396.22084100989593L186.75409656531914,395.74604640894194L189.00258730441212,395.25884430936765L191.25107804350503,394.7589306056667L193.49956878259798,394.24629424353986L195.75421977029117,393.72079069239203L198.00271050938412,393.1821172913633L200.25120124847703,392.6302955750606L202.49969198757,392.06502491456723L204.75434297526317,391.4863509358343L207.00283371435611,390.89416260791614L209.25132445344906,390.28816436900127L211.499815192542,389.6684419751656L213.75446618023517,389.0347043450312L216.00295691932814,388.38706643505964L218.25144765842106,387.7254601857691L220.499938397514,387.0496032870352L222.7545893852072,386.3596585881038L225.0030801243001,385.6553507023151L227.25157086339306,384.9368768133381L229.50006160248603,384.1950304789408L231.7547125901792,383.42899827787875L234.00320332927214,382.63820409501665L236.25169406836505,381.8215222330197L238.500184807458,380.9780467798566L240.75483579515117,380.10683830951115L243.00332653424414,379.2069225712291L245.25181727333708,378.2775987726826L247.50030801243003,377.31752793406224L249.75495900012322,376.32562388058176L252.00344973921617,375.3007598553997L254.25194047830905,374.24176693215935L256.500431217402,373.14779193638515L258.7550822050952,372.0172390408835L261.00357294418814,370.84880375854766L263.2520636832811,369.64113248499456L265.500554422374,368.3928205595403L267.7552054100672,367.1028286024417L270.0036961491602,365.76925127644415L272.25218688825305,364.3905195911L274.500677627346,362.97670516244926L276.7553286150392,361.527211480732L279.00381935413213,360.0419294633206L281.2523100932251,358.51980653216157L283.500800832318,356.96025000961953L285.7554518200112,355.38024100414685L288.00394255910413,353.78075297364916L290.2524332981971,352.16281802034877L292.50092403729,350.52752661173224L294.7555750249832,348.8760272178551L297.0040657640762,347.2032611073972L299.2525565031691,345.5099837575192L301.501047242262,343.7969964159294L303.75569822995527,342.0651460427326L306.00418896904813,340.31532513294064L308.2526797081411,338.5484716186698L310.5011704472341,336.76556848176483L312.7558214349272,334.9676433214417L315.0043121740202,333.1557678699488L317.2528029131131,331.3310570179838L319.501293652206,329.48662428152295L321.7559446398992,327.6231107151326L324.0044353789922,325.7411899301973L326.2529261180851,323.8415680241602L328.50141685717807,321.9249833881834L330.75606784487127,319.9922067793597L333.0045585839642,318.044040976639L335.2530493230571,316.0813205245614L337.50154006215007,314.10491143610284L339.750030801243,312.1157103799005L341.99852154033596,310.11072780904766L344.2470122794289,308.09068313982215L346.4955030185218,306.0563225928105L348.750154006215,304.0084189311254L350.99864474530796,301.9477711671361L353.24713548440087,299.87520423386013L355.49562622349384,297.791568672891L357.75027721118704,295.6977402557157L359.9987679502799,293.59461938717624L362.24725868937287,291.48313064845627L364.49574942846584,289.358190132887L366.750400416159,287.2204489538157L368.99889115525195,285.0705779873069L371.2473818943449,282.9092676277652L373.4958726334378,280.73722752175485L375.75052362113104,278.55518628876234L377.99901436022395,276.36389118902997L380.24750509931687,274.1641078056345L382.49599583840984,271.95661966098737L384.75064682610304,269.74222782873613L386.99913756519595,267.52175055446844L389.2476283042889,265.2960227877558L391.49611904338184,263.06589574225393L393.75077003107504,260.8322363818457L395.99926077016795,258.5959269246225L398.2477515092609,256.3578643005964L400.49624224835384,254.118959611147L402.75089323604703,251.88013754491337L404.99938397514,249.64233577319985L407.24787471423286,247.406504342872L409.49636545332584,245.17360501314693L411.75101644101903,242.94461059342532L413.99950718011195,240.72050427794858L416.2479979192049,238.50227892271812L418.4964886582979,236.2909363472613L420.75113964599103,234.08748661031368L422.999630385084,231.89294723303485L425.2481211241769,229.70834242868452L427.49661186326983,227.53470229736868L429.75126285096303,225.3730620636467L431.999753590056,223.22446128138674L434.2482443291489,221.08994296636016L436.4967350682419,218.97055278764367L438.7513860559351,216.86733822661876L440.999876795028,214.7813476907103L443.2483675341209,212.713629705941L445.4968582732139,210.66523194239954L447.751509260907,208.6372004111002L450,206.63057859165176\" stroke=\"#c5b0d5\" stroke-width=\"2\"/></g></g><path class=\"foreground\" aria-hidden=\"true\" d=\"\" display=\"none\"/></g><g transform=\"translate(0,0)\"><path class=\"background\" aria-hidden=\"true\" d=\"M0,0h450v410h-450Z\"/><g><g class=\"mark-line role-mark marks\" role=\"graphics-object\" aria-roledescription=\"line mark container\"><path aria-label=\"time (year): 1949; regions: CAM; income: 40.5139010341\" role=\"graphics-symbol\" aria-roledescription=\"line mark\" d=\"M0,409.7444507780923L2.248490739092938,409.7275514860376L4.496981478185876,409.70953465556966L6.751632465879068,409.6903263846516L9.000123204972004,409.6698478841563L11.248613944064942,409.6480151546865L13.497104683157879,409.6247386420234L15.751755670851074,409.59992286978985L18.00024640994401,409.5734660478228L20.24873714903695,409.5452596546462L22.497227888129885,409.51518799233463L24.751878875823078,409.4820181021898L27.000369614916018,409.4465787929819L29.248860354008954,409.40871479549344L31.497351093101894,409.3682602172906L33.75200208079509,409.3250378159035L36.00049281988802,409.27885822227876L38.24898355898095,409.22951911110226L40.4974742980739,409.17680431435764L42.752125285767086,409.12048287423505L45.00061602486002,409.0603080312425L47.249106763952966,408.9983809539467L49.4975975030459,408.93237279154005L51.75224849073909,408.86201459453537L54.000739229832035,408.78701968928044L56.249229968924965,408.7070825099092L58.49772070801791,408.62187735331736L60.752371695711105,408.5310570520891L63.00086243480404,408.43425155996727L65.24935317389698,408.33106644410424L67.49784391298991,408.2210812779499L69.7524949006831,408.21245609944543L72.00098563977603,408.2037891013213L74.24947637886898,408.1950800808131L76.4979671179619,408.186328834173L78.7526181056551,408.17753515666556L81.00110884474805,408.16869884256243L83.24959958384098,408.159819685138L85.49809032293392,408.1508974766641L87.75274131062712,408.1419320084057L90.00123204972004,408.13246767356065L92.24972278881299,408.0976498997703L94.49821352790593,408.06217348196634L96.75286451559911,408.02602758184054L99.00135525469206,407.9891994758985L101.249845993785,407.9516761789134L103.49833673287793,407.84884016133276L105.75298772057113,407.70377451204286L108.00147845966407,407.54532272718035L110.249969198757,407.42270538423054L112.49845993784993,407.32205691940686L114.75311092554313,407.2518288978479L117.00160166463607,407.1771597659146L119.250092403729,407.09779885782496L121.49858314282196,407.0134772268847L123.75323413051512,406.92390535593154L126.00172486960808,406.82877156606173L128.250215608701,406.72777245793066L130.49870634779396,406.6205501011717L132.75335733548712,406.506684656035L135.0018480745801,406.3857577223908L137.250338813673,406.25731866191785L139.49882955276595,406.1254602595917L141.75348054045915,405.9901419382107L144.00197127955207,405.8513652164176L146.250462018645,405.7090552863362L148.49895275773795,405.5631771188213L150.75360374543115,405.4136977716624L153.00209448452406,405.26058650163856L155.25058522361704,405.10386266522494L157.49907596270995,404.9434556039495L159.75372695040315,404.7793419732078L162.0022176894961,404.61150110068746L164.25070842858904,404.43991510224254L166.49919916768195,404.2646249820972L168.75385015537518,404.0855662625894L171.0023408944681,403.90273019857824L173.25083163356103,403.71592722389255L175.49932237265398,403.52507524330633L177.75397336034717,403.33021759271304L180.0024640994401,403.1312738972812L182.25095483853303,402.92829697707907L184.49944557762598,402.71946850521147L186.75409656531914,402.5045517970857L189.00258730441212,402.2834479499456L191.25107804350503,402.0559069581998L193.49956878259798,401.8218248112152L195.75421977029117,401.58101960139066L198.00271050938412,401.3332199635593L200.25120124847703,401.07831389225686L202.49969198757,400.8160147573985L204.75434297526317,400.54620483393035L207.00283371435611,400.27109713291264L209.25132445344906,399.99059261318956L211.499815192542,399.70478659628174L213.75446618023517,399.41358333119706L216.00295691932814,399.1170928490322L218.25144765842106,398.8153323360194L220.499938397514,398.5082117688567L222.7545893852072,398.19586466915854L225.0030801243001,397.8782051416729L227.25157086339306,397.5553831210346L229.50006160248603,397.22288304093894L231.7547125901792,396.88039122874284L234.00320332927214,396.5277149046486L236.25169406836505,396.16439406705564L238.500184807458,395.7900819259584L240.75483579515117,395.4044196896948L243.00332653424414,395.00703611671565L245.25181727333708,394.5976974011663L247.50030801243003,394.17586389896445L249.75495900012322,393.74112457454197L252.00344973921617,393.29305399999674L254.25194047830905,392.8312118292275L256.500431217402,392.35531442130105L258.7550822050952,391.86472735727784L261.00357294418814,391.3589626386456L263.2520636832811,390.8375150724168L265.500554422374,390.2998616310617L267.7552054100672,389.7456583208697L270.0036961491602,389.1741580238864L272.25218688825305,388.58478062507044L274.500677627346,387.9813189767185L276.7553286150392,387.3635244634378L279.00381935413213,386.73137361662697L281.2523100932251,386.0844004180112L283.500800832318,385.42235213560554L285.7554518200112,384.75309702035486L288.00394255910413,384.0770413198726L290.2524332981971,383.3946116696594L292.50092403729,382.70625498101344L294.7555750249832,382.0124382574813L297.0040657640762,381.3079129820729L299.2525565031691,380.5927589907472L301.501047242262,379.8670664631857L303.75569822995527,379.13093595543677L306.00418896904813,378.3844785282553L308.2526797081411,377.6278159777253L310.5011704472341,376.8610809335746L312.7558214349272,376.0844169826044L315.0043121740202,375.2979788120104L317.2528029131131,374.50193210149126L319.501293652206,373.6982678262465L321.7559446398992,372.88729592486163L324.0044353789922,372.06934014181144L326.2529261180851,371.24473800461743L328.50141685717807,370.4138406677637L330.75606784487127,369.57701292526855L333.0045585839642,368.7346329785966L335.2530493230571,367.88709226679873L337.50154006215007,367.0347952804802L339.750030801243,366.17815907629955L341.99852154033596,365.3136255167826L344.2470122794289,364.44140203652887L346.4955030185218,363.5617052833293L348.750154006215,362.67476103265653L350.99864474530796,361.78080416382267L353.24713548440087,360.88007862889157L355.49562622349384,359.9728374416865L357.75027721118704,359.0593426437175L359.9987679502799,358.13986516036056L362.24725868937287,357.21468474834063L364.49574942846584,356.28408988807325L366.750400416159,355.3483777024204L368.99889115525195,354.40785382816284L371.2473818943449,353.4628323062895L373.4958726334378,352.5136354467927L375.75052362113104,351.56059368926697L377.99901436022395,350.6040454361487L380.24750509931687,349.6443368976618L382.49599583840984,348.6818219021199L384.75064682610304,347.7168617070115L386.99913756519595,346.7498248185838L389.2476283042889,345.781086763507L391.49611904338184,344.81102988022553L393.75077003107504,343.84004307091436L395.99926077016795,342.86852156712916L398.2477515092609,341.8968666720945L400.49624224835384,340.92548550731766L402.75089323604703,339.9547907373798L404.99938397514,338.9852002861902L407.24787471423286,338.0171370550119L409.49636545332584,337.0510286113738L411.75101644101903,336.0873068817216L413.99950718011195,335.1264078453153L416.2479979192049,334.16877119796345L418.4964886582979,333.2148400329953L420.75113964599103,332.26506051014076L422.999630385084,331.31988149711805L425.2481211241769,330.3797542176936L427.49661186326983,329.4451318823821L429.75126285096303,328.5164693463244L431.999753590056,327.59422275088497L434.2482443291489,326.67884912625277L436.4967350682419,325.7708060300741L438.7513860559351,324.8705511697439L440.999876795028,323.978542000902L443.2483675341209,323.09523537308587L445.4968582732139,322.22108708162824L447.751509260907,321.3565515194763L450,320.50208129108375\" stroke=\"#aec7e8\" stroke-width=\"2\"/></g></g><path class=\"foreground\" aria-hidden=\"true\" d=\"\" display=\"none\"/></g><g transform=\"translate(0,0)\"><path class=\"background\" aria-hidden=\"true\" d=\"M0,0h450v410h-450Z\"/><g><g class=\"mark-line role-mark marks\" role=\"graphics-object\" aria-roledescription=\"line mark container\"><path aria-label=\"time (year): 1949; regions: LAM; income: 193.13852329\" role=\"graphics-symbol\" aria-roledescription=\"line mark\" d=\"M0,408.78174162232216L2.248490739092938,408.7070806765292L4.496981478185876,408.6278441358305L6.751632465879068,408.54375158496333L9.000123204972004,408.4545054234196L11.248613944064942,408.35978981224906L13.497104683157879,408.25926955631604L15.751755670851074,408.15258891805615L18.00024640994401,408.03937035853414L20.24873714903695,407.9192132013467L22.497227888129885,407.7916922146434L24.751878875823078,407.65909280908556L27.000369614916018,407.51853137827436L29.248860354008954,407.36952983676235L31.497351093101894,407.2115813921226L33.75200208079509,407.044148821218L36.00049281988802,406.8666626429675L38.24898355898095,406.67851918139496L40.4974742980739,406.47907851237267L42.752125285767086,406.2676622870752L45.00061602486002,406.0435514247414L47.249106763952966,405.8186909500526L49.4975975030459,405.581050773539L51.75224849073909,405.32990457467236L54.000739229832035,405.06448475328307L56.249229968924965,404.7839800834763L58.49772070801791,404.48753323421107L60.752371695711105,404.174238148964L63.00086243480404,403.8431372764695L65.24935317389698,403.49321864407176L67.49784391298991,403.12341276474365L69.7524949006831,403.13114122635625L72.00098563977603,403.1388610021023L74.24947637886898,403.14657210174374L76.4979671179619,403.15427453503145L78.7526181056551,403.16196831170527L81.00110884474805,403.1696534414943L83.24959958384098,403.17732993411664L85.49809032293392,403.18499779927936L87.75274131062712,403.1926570466787L90.00123204972004,403.19977266974433L92.24972278881299,402.91478964173405L94.49821352790593,402.6178669490526L96.75286451559911,402.30850366365945L99.00135525469206,401.98617724819394L101.249845993785,401.6503436350288L103.49833673287793,401.38143119734235L105.75298772057113,400.9571762844162L108.00147845966407,400.48596121400664L110.249969198757,400.3939239614252L112.49845993784993,400.5423083510198L114.75311092554313,400.2526512567455L117.00160166463607,400.01571794414144L119.250092403729,399.76074890259986L121.49858314282196,399.486696962338L123.75323413051512,399.19242142614786L126.00172486960808,398.87656960903945L128.250215608701,398.5380037720352L130.49870634779396,398.1751440595124L132.75335733548712,397.78638658718546L135.0018480745801,397.3698607791311L137.250338813673,396.92378293207486L139.49882955276595,396.4659698802416L141.75348054045915,395.9962882365152L144.00197127955207,395.5147521504634L146.250462018645,395.0211093937773L148.49895275773795,394.51524684105243L150.75360374543115,393.9970587900494L153.00209448452406,393.4664473360228L155.25058522361704,392.9234894193856L157.49907596270995,392.3679480554403L159.75372695040315,391.79975141891595L162.0022176894961,391.21883706198184L164.25070842858904,390.62515229374947L166.49919916768195,390.0188496022181L168.75385015537518,389.39971391181695L171.0023408944681,388.76772436138833L173.25083163356103,388.12223052967084L175.49932237265398,387.46295650607516L177.75397336034717,386.7900629827087L180.0024640994401,386.10327998850465L182.25095483853303,385.4028009214993L184.49944557762598,384.68231200066634L186.75409656531914,383.9410039978746L189.00258730441212,383.178547041031L191.25107804350503,382.39408627121503L193.49956878259798,381.5872745848954L195.75421977029117,380.7574943765916L198.00271050938412,379.903817672272L200.25120124847703,379.02587028053716L202.49969198757,378.122671903554L204.75434297526317,377.1938288960518L207.00283371435611,376.24703374205126L209.25132445344906,375.28195180440434L211.499815192542,374.29892232944246L213.75446618023517,373.2976213313725L216.00295691932814,372.278437844149L218.25144765842106,371.24143826638596L220.499938397514,370.1863169339756L222.7545893852072,369.11354213767214L225.0030801243001,368.02282130345725L227.25157086339306,366.9146780083033L229.50006160248603,365.77348575161824L231.7547125901792,364.5981722387302L234.00320332927214,363.3880834977236L236.25169406836505,362.1416409448194L238.500184807458,360.8576579480764L240.75483579515117,359.5349064336113L243.00332653424414,358.1721153315555L245.25181727333708,356.76848856931156L247.50030801243003,355.322172859814L249.75495900012322,353.8317595827035L252.00344973921617,352.2957903683926L254.25194047830905,350.7127552479606L256.500431217402,349.0816851193218L258.7550822050952,347.40039942047366L261.00357294418814,345.66722309729175L263.2520636832811,343.88042144238966L265.500554422374,342.0381978426651L267.7552054100672,340.13937275947507L270.0036961491602,338.1813754931546L272.25218688825305,336.1622110671185L274.500677627346,334.0949588721993L276.7553286150392,331.97875740619L279.00381935413213,329.81351975158873L281.2523100932251,327.59763230819993L283.500800832318,325.3302152791635L285.7554518200112,323.0383596261523L288.00394255910413,320.72344024217585L290.2524332981971,318.3869000231951L292.50092403729,316.03024937534855L294.7555750249832,313.6550654337633L297.0040657640762,311.2432498796413L299.2525565031691,308.7950496312694L301.501047242262,306.31074500626187L303.75569822995527,303.79064977677547L306.00418896904813,301.2351116468691L308.2526797081411,298.64451286112325L310.5011704472341,296.01927060820475L312.7558214349272,293.35983744501397L315.0043121740202,290.6667017311311L317.2528029131131,287.94038769961344L319.501293652206,285.18769351802445L321.7559446398992,282.40963414027937L324.0044353789922,279.6072697821033L326.2529261180851,276.78170587344607L328.50141685717807,273.9340926899565L330.75606784487127,271.0656251668587L333.0045585839642,268.1775423450631L335.2530493230571,265.27112685821027L337.50154006215007,262.347704354905L339.750030801243,259.4086424920565L341.99852154033596,256.44164769608517L344.2470122794289,253.4473661115427L346.4955030185218,250.42647349051123L348.750154006215,247.37967495943067L350.99864474530796,244.3077050035444L353.24713548440087,241.21132742537475L355.49562622349384,238.09133531119846L357.75027721118704,234.94855095123228L359.9987679502799,231.78382560589773L362.24725868937287,228.59803936686046L364.49574942846584,225.39210093229508L366.750400416159,222.166947395331L368.99889115525195,218.9235439562337L371.2473818943449,215.66288363793353L373.4958726334378,212.38598695140823L375.75052362113104,209.09390153620114L377.99901436022395,205.78770174876223L380.24750509931687,202.46848824428082L382.49599583840984,199.1373874977961L384.75064682610304,195.79555130590987L386.99913756519595,192.44415627745323L389.2476283042889,189.0844032485537L391.49611904338184,185.71751669949023L393.75077003107504,182.34474410630415L395.99926077016795,178.96735528734652L398.2477515092609,175.58664170298132L400.49624224835384,172.20391573958727L402.75089323604703,168.82050994886262L404.99938397514,165.4377762575513L407.24787471423286,162.05708515901637L409.49636545332584,158.67982485316915L411.75101644101903,155.30740037106548L413.99950718011195,151.9412326814534L416.2479979192049,148.58275774585886L418.4964886582979,145.2334255735873L420.75113964599103,141.89469924535743L422.999630385084,138.5680538901966L425.2481211241769,135.25497565202227L427.49661186326983,131.95696062124145L429.75126285096303,128.67551377842122L431.999753590056,125.41214790485193L434.2482443291489,122.16838243760591L436.4967350682419,118.94574234740855L438.7513860559351,115.74575698558876L440.999876795028,112.56995889360778L443.2483675341209,109.41988264802579L445.4968582732139,106.29706359883566L447.751509260907,103.20303669799472L450,100.13933527911013\" stroke=\"#ff9896\" stroke-width=\"2\"/></g></g><path class=\"foreground\" aria-hidden=\"true\" d=\"\" display=\"none\"/></g><g transform=\"translate(0,0)\"><path class=\"background\" aria-hidden=\"true\" d=\"M0,0h450v410h-450Z\"/><g><g class=\"mark-line role-mark marks\" role=\"graphics-object\" aria-roledescription=\"line mark container\"><path aria-label=\"time (year): 1949; regions: SAS; income: 57.9713701148\" role=\"graphics-symbol\" aria-roledescription=\"line mark\" d=\"M0,409.6343344346603L2.248490739092938,409.6235557284158L4.496981478185876,409.61245929876696L6.751632465879068,409.6010357801962L9.000123204972004,409.5892755311191L11.248613944064942,409.57716862574676L13.497104683157879,409.56470484570843L15.751755670851074,409.55187367142656L18.00024640994401,409.5386642732389L20.24873714903695,409.5250655022576L22.497227888129885,409.51106588095945L24.751878875823078,409.4956287390834L27.000369614916018,409.4797041995395L29.248860354008954,409.4632768736965L31.497351093101894,409.4463308870568L33.75200208079509,409.4288498639167L36.00049281988802,409.41081691154153L38.24898355898095,409.3922146038413L40.4974742980739,409.3730249645313L42.752125285767086,409.35322944976076L45.00061602486002,409.33280893019275L47.249106763952966,409.31233534503224L49.4975975030459,409.29123350252786L51.75224849073909,409.2694841238242L54.000739229832035,409.2470673384702L56.249229968924965,409.22396266626527L58.49772070801791,409.2001489985485L60.752371695711105,409.1756045789137L63.00086243480404,409.1503069833322L65.24935317389698,409.12423309966636L67.49784391298991,409.0973591065538L69.7524949006831,409.0124863954053L72.00098563977603,408.9196333488321L74.24947637886898,408.81804959898784L76.4979671179619,408.7069142231087L78.7526181056551,408.5853291094393L81.00110884474805,408.45231169937443L83.24959958384098,408.306787047167L85.49809032293392,408.1475791330318L87.75274131062712,407.9734013594463L90.00123204972004,407.782292346995L92.24972278881299,407.6684098679942L94.49821352790593,407.5486759136911L96.75286451559911,407.42278832926684L99.00135525469206,407.2904308814057L101.249845993785,407.1512710774533L103.49833673287793,406.9579352226176L105.75298772057113,406.81684739354534L108.00147845966407,406.66904991549126L110.249969198757,406.4845991261968L112.49845993784993,406.24993834570205L114.75311092554313,406.02795542828545L117.00160166463607,405.83417835639216L119.250092403729,405.6359299950011L121.49858314282196,405.43341784258143L123.75323413051512,405.22696310528L126.00172486960808,405.0168240360964L128.250215608701,404.8034303325019L130.49870634779396,404.58704305138195L132.75335733548712,404.36809810276725L135.0018480745801,404.1469498607488L137.250338813673,403.9240882463274L139.49882955276595,403.6946010064298L141.75348054045915,403.45837646052877L144.00197127955207,403.21537125369326L146.250462018645,402.965416699731L148.49895275773795,402.70840805222684L150.75360374543115,402.44424320384155L153.00209448452406,402.1728229096552L155.25058522361704,401.8941301326066L157.49907596270995,401.6079985191638L159.75372695040315,401.31433904140425L162.0022176894961,401.0130665183791L164.25070842858904,400.70409985154276L166.49919916768195,400.387456100026L168.75385015537518,400.0629755347614L171.0023408944681,399.73059097733653L173.25083163356103,399.38992953191837L175.49932237265398,399.0407967887787L177.75397336034717,398.68320952786985L180.0024640994401,398.3169745653989L182.25095483853303,397.94212421447025L184.49944557762598,397.5555007923422L186.75409656531914,397.1566187254794L189.00258730441212,396.7452249452883L191.25107804350503,396.32080416803007L193.49956878259798,395.8830885100518L195.75421977029117,395.4316731545984L198.00271050938412,394.96599461804817L200.25120124847703,394.4857614999821L202.49969198757,393.99037567030945L204.75434297526317,393.47952881082585L207.00283371435611,392.956982582653L209.25132445344906,392.42248590503385L211.499815192542,391.8761275642182L213.75446618023517,391.3176604481564L216.00295691932814,390.74719946087214L218.25144765842106,390.16469641214815L220.499938397514,389.56991244958465L222.7545893852072,388.96300517536383L225.0030801243001,388.34374217669716L227.25157086339306,387.71231150051324L229.50006160248603,387.0605414475252L231.7547125901792,386.3877292466888L234.00320332927214,385.69338442096455L236.25169406836505,384.9765291721805L238.500184807458,384.23638215742227L240.75483579515117,383.4721333993454L243.00332653424414,382.6829431587534L245.25181727333708,381.8682153804329L247.50030801243003,381.0267891333938L249.75495900012322,380.15772908658136L252.00344973921617,379.26006525160557L254.25194047830905,378.3327916423862L256.500431217402,377.37518322925854L258.7550822050952,376.3858588231632L261.00357294418814,375.363696877055L263.2520636832811,374.30753402888485L265.500554422374,373.2161634581832L267.7552054100672,372.08870291661907L270.0036961491602,370.923506457625L272.25218688825305,369.71922748204815L274.500677627346,368.4847984023312L276.7553286150392,367.21972490279273L279.00381935413213,365.9239429421369L281.2523100932251,364.596556624806L283.500800832318,363.23707684627533L285.7554518200112,361.8605041290744L288.00394255910413,360.4677165692714L290.2524332981971,359.05964264377167L292.50092403729,357.63726124949096L294.7555750249832,356.20160136837006L297.0040657640762,354.74822974638874L299.2525565031691,353.2778332413904L301.501047242262,351.7911386767535L303.75569822995527,350.28891246098135L306.00418896904813,348.77196033878795L308.2526797081411,347.2411273012888L310.5011704472341,345.6972971416903L312.7558214349272,344.1413920002246L315.0043121740202,342.574371886532L317.2528029131131,340.9972335870757L319.501293652206,339.40395691118084L321.7559446398992,337.79512796967026L324.0044353789922,336.1713613296508L326.2529261180851,334.53329958866965L328.50141685717807,332.881613111344L330.75606784487127,331.2170001387259L333.0045585839642,329.54018636807024L335.2530493230571,327.85192467304176L337.50154006215007,326.1529947929079L339.750030801243,324.4442023729533L341.99852154033596,322.72295343845605L344.2470122794289,320.98989687289617L346.4955030185218,319.2457043122997L348.750154006215,317.49106977588275L350.99864474530796,315.7267093554666L353.24713548440087,313.9533608751166L355.49562622349384,312.17178357119695L357.75027721118704,310.38275771888794L359.9987679502799,308.58708402263966L362.24725868937287,306.7855831791923L364.49574942846584,304.97384400135843L366.750400416159,303.1524525092195L368.99889115525195,301.32201136597774L371.2473818943449,299.48313940645727L373.4958726334378,297.63647135759425L375.75052362113104,295.78265755237106L377.99901436022395,293.92236358714507L380.24750509931687,292.05627000691817L382.49599583840984,290.1850719183095L384.75064682610304,288.3094786068882L386.99913756519595,286.43021317540473L389.2476283042889,284.54801208120944L391.49611904338184,282.6636247188948L393.75077003107504,280.77781292046706L395.99926077016795,278.89135048763256L398.2477515092609,277.005022676329L400.49624224835384,275.11962569308656L402.75089323604703,273.235966146941L404.99938397514,271.35486048549416L407.24787471423286,269.4771344371937L409.49636545332584,267.60362239351946L411.75101644101903,265.735166801588L413.99950718011195,263.87261756169545L416.2479979192049,262.0168313624818L418.4964886582979,260.1686710552181L420.75113964599103,258.3290050042755L422.999630385084,256.4987063813107L425.2481211241769,254.67865247534655L427.49661186326983,252.86972396774436L429.75126285096303,251.07280426705304L431.999753590056,249.28877881080072L434.2482443291489,247.51853428587071L436.4967350682419,245.76295792736212L438.7513860559351,244.02293678412303L440.999876795028,242.29935693512437L443.2483675341209,240.5931028075298L445.4968582732139,238.90505629671094L447.751509260907,237.2360960999399L450,235.5870969704316\" stroke=\"#8c564b\" stroke-width=\"2\"/></g></g><path class=\"foreground\" aria-hidden=\"true\" d=\"\" display=\"none\"/></g><g transform=\"translate(0,0)\"><path class=\"background\" aria-hidden=\"true\" d=\"M0,0h450v410h-450Z\"/><g><g class=\"mark-line role-mark marks\" role=\"graphics-object\" aria-roledescription=\"line mark container\"><path aria-label=\"time (year): 1949; regions: SEA; income: 25.6942546017\" role=\"graphics-symbol\" aria-roledescription=\"line mark\" d=\"M0,409.83792854789726L2.248490739092938,409.8270894123858L4.496981478185876,409.81552536908146L6.751632465879068,409.80318793705993L9.000123204972004,409.79002539305344L11.248613944064942,409.775982554607L13.497104683157879,409.7610005487322L15.751755670851074,409.7450165650889L18.00024640994401,409.7279635926603L20.24873714903695,409.7097701388167L22.497227888129885,409.69035992959095L24.751878875823078,409.6685193956358L27.000369614916018,409.64513833456874L29.248860354008954,409.6201080849535L31.497351093101894,409.5933123208947L33.75200208079509,409.5646265114228L36.00049281988802,409.53391734174767L38.24898355898095,409.50104209368953L40.4974742980739,409.4658479824089L42.752125285767086,409.4281714463521L45.00061602486002,409.3878373871138L47.249106763952966,409.3456688168791L49.4975975030459,409.30059548199824L51.75224849073909,409.2524172889511L54.000739229832035,409.200920360858L56.249229968924965,409.1458760880178L58.49772070801791,409.08704011304417L60.752371695711105,409.0241512460926L63.00086243480404,408.95693030536313L65.24935317389698,408.8850788777325L67.49784391298991,408.80827799401175L69.7524949006831,408.69845244348386L72.00098563977603,408.5785056973347L74.24947637886898,408.4475050163218L76.4979671179619,408.3044317027324L78.7526181056551,408.1481731787064L81.00110884474805,407.97751433452214L83.24959958384098,407.7911280795653L85.49809032293392,407.587565022503L87.75274131062712,407.36524220041446L90.00123204972004,407.1217882908979L92.24972278881299,406.90815469633395L94.49821352790593,406.678667224172L96.75286451559911,406.4321484365459L99.00135525469206,406.16733518143104L101.249845993785,405.8828706918981L103.49833673287793,405.59229311197805L105.75298772057113,405.39684638593667L108.00147845966407,405.1498158491568L110.249969198757,405.27913216055447L112.49845993784993,405.07831394059855L114.75311092554313,404.7777032588896L117.00160166463607,404.49636482273866L119.250092403729,404.2078936505773L121.49858314282196,403.91274122758927L123.75323413051512,403.61141519709804L126.00172486960808,403.30454002546094L128.250215608701,402.9926682194954L130.49870634779396,402.6764653282364L132.75335733548712,402.3567202729813L135.0018480745801,402.0340498350456L137.250338813673,401.7311982127774L139.49882955276595,401.41937747332366L141.75348054045915,401.09843838509283L144.00197127955207,400.76832518106704L146.250462018645,400.4288116923468L148.49895275773795,400.07975891046635L150.75360374543115,399.72103156369803L153.00209448452406,399.3524984229012L155.25058522361704,398.97414023034304L157.49907596270995,398.58573475980484L159.75372695040315,398.1871651563551L162.0022176894961,397.77832000077046L164.25070842858904,397.35909361425325L166.49919916768195,396.9295139493037L168.75385015537518,396.4893687176319L171.0023408944681,396.0385716553844L173.25083163356103,395.5766210575113L175.49932237265398,395.1032581284534L177.75397336034717,394.6185113272525L180.0024640994401,394.1221238782371L182.25095483853303,393.6141457072769L184.49944557762598,393.09029236788456L186.75409656531914,392.54991186938906L189.00258730441212,391.9926684125117L191.25107804350503,391.4178703186444L193.49956878259798,390.82516240775516L195.75421977029117,390.21400386769096L198.00271050938412,389.5836388324693L200.25120124847703,388.9336814001215L202.49969198757,388.2633295771301L204.75434297526317,387.5721753323009L207.00283371435611,386.86533568488255L209.25132445344906,386.142478998537L211.499815192542,385.4037352954062L213.75446618023517,384.6487788634772L216.00295691932814,383.87777544212736L218.25144765842106,383.0906695462024L220.499938397514,382.2871471834012L222.7545893852072,381.46743231191664L225.0030801243001,380.6312199462022L227.25157086339306,379.77877538318046L229.50006160248603,378.89902972255237L231.7547125901792,377.9910449217072L234.00320332927214,377.0541711179918L236.25169406836505,376.08709850331064L238.500184807458,375.0887843220921L240.75483579515117,374.05814771553844L243.00332653424414,372.9940682179122L245.25181727333708,371.895756165625L247.50030801243003,370.76165744129855L249.75495900012322,369.590524370251L252.00344973921617,368.38106313057574L254.25194047830905,367.13193198080774L256.500431217402,365.8421703077573L258.7550822050952,364.5099301454277L261.00357294418814,363.13371598454285L263.2520636832811,361.71197668253956L265.500554422374,360.24310328206514L267.7552054100672,358.7259268018517L270.0036961491602,357.1582462684062L272.25218688825305,355.53826677359655L274.500677627346,353.87809004952436L276.7553286150392,352.17706848397887L279.00381935413213,350.4351364495863L281.2523100932251,348.6511042132675L283.500800832318,346.82433217845113L285.7554518200112,344.9751037318653L288.00394255910413,343.1046164487216L290.2524332981971,341.21413506543956L292.50092403729,339.3049913073396L294.7555750249832,337.3785833969583L297.0040657640762,335.4289363230688L299.2525565031691,333.45698812323747L301.501047242262,331.4637297491443L303.75569822995527,329.4502046068482L306.00418896904813,327.4175081507495L308.2526797081411,325.3667877299377L310.5011704472341,323.299241917622L312.7558214349272,321.21611984027527L315.0043121740202,319.11872048690543L317.2528029131131,317.0083911308084L319.501293652206,314.8770228587379L321.7559446398992,312.72541185595827L324.0044353789922,310.55439159340017L326.2529261180851,308.3648323537761L328.50141685717807,306.1576408297945L330.75606784487127,303.93376026129044L333.0045585839642,301.6941698195358L335.2530493230571,299.4398841988906L337.50154006215007,297.1719531696361L339.750030801243,294.8914602252039L341.99852154033596,292.59491247392015L344.2470122794289,290.2831801283989L346.4955030185218,287.95716274964883L348.750154006215,285.617788758228L350.99864474530796,283.26601499066334L353.24713548440087,280.90282621948046L355.49562622349384,278.5292347129331L357.75027721118704,276.1462797170431L359.9987679502799,273.7550266064012L362.24725868937287,271.3565662859173L364.49574942846584,268.9449616656102L366.750400416159,266.52098918761175L368.99889115525195,264.08544638454754L371.2473818943449,261.6391513313131L373.4958726334378,259.18294226468345L375.75052362113104,256.71767719645L377.99901436022395,254.24423345359196L380.24750509931687,251.76350725773545L382.49599583840984,249.27641321118782L384.75064682610304,246.78388379105033L386.99913756519595,244.28686887255668L389.2476283042889,241.7863351223039L391.49611904338184,239.2832654523918L393.75077003107504,236.77865836933177L395.99926077016795,234.27352736661766L398.2477515092609,231.76890025720914L400.49624224835384,229.2658185229249L402.75089323604703,226.76533660817313L404.99938397514,224.26852119497576L407.24787471423286,221.7764504873343L409.49636545332584,219.29021342037137L411.75101644101903,216.81090888421795L413.99950718011195,214.33964495525896L416.2479979192049,211.87753804965755L418.4964886582979,209.42571212732682L420.75113964599103,206.98529786665608L422.999630385084,204.55743176961568L425.2481211241769,202.14325528780023L427.49661186326983,199.74391390561055L429.75126285096303,197.36055629855716L431.999753590056,194.99433345073106L434.2482443291489,192.64639767221524L436.4967350682419,190.31790171406737L438.7513860559351,188.00999784243695L440.999876795028,185.723836852842L443.2483675341209,183.46056720923596L445.4968582732139,181.22133394153514L447.751509260907,179.00727780421212L450,176.8195343375415\" stroke=\"#c49c94\" stroke-width=\"2\"/></g></g><path class=\"foreground\" aria-hidden=\"true\" d=\"\" display=\"none\"/></g><g transform=\"translate(0,0)\"><path class=\"background\" aria-hidden=\"true\" d=\"M0,0h450v410h-450Z\"/><g><g class=\"mark-line role-mark marks\" role=\"graphics-object\" aria-roledescription=\"line mark container\"><path aria-label=\"time (year): 1949; regions: CHI; income: 18.8014266052\" role=\"graphics-symbol\" aria-roledescription=\"line mark\" d=\"M0,409.8814063860286L2.248490739092938,409.87425672347786L4.496981478185876,409.8666760286576L6.751632465879068,409.85863831589137L9.000123204972004,409.8501160329022L11.248613944064942,409.8410799663669L13.497104683157879,409.8314991417764L15.751755670851074,409.8213407172588L18.00024640994401,409.81056987100186L20.24873714903695,409.7991496818878L22.497227888129885,409.78704100293277L24.751878875823078,409.77272607552254L27.000369614916018,409.7574489105475L29.248860354008954,409.7411448271952L31.497351093101894,409.7237447968632L33.75200208079509,409.7051751509029L36.00049281988802,409.68535726872057L38.24898355898095,409.66420724491104L40.4974742980739,409.6416355340175L42.752125285767086,409.6175465714116L45.00061602486002,409.5918383686898L47.249106763952966,409.5665677539375L49.4975975030459,409.5397325531952L51.75224849073909,409.5112358978532L54.000739229832035,409.480974921851L56.249229968924965,409.44884039035514L58.49772070801791,409.4147163054487L60.752371695711105,409.37847948740585L63.00086243480404,409.3399991300434L65.24935317389698,409.2991363285416L67.49784391298991,409.25574357803123L69.7524949006831,409.13818618035515L72.00098563977603,409.0020602606745L74.24947637886898,408.84443286864973L76.4979671179619,408.66190778617596L78.7526181056551,408.4505523529347L81.00110884474805,408.20581273383624L83.24959958384098,407.9224158027143L85.49809032293392,407.59425552827594L87.75274131062712,407.2142614143907L90.00123204972004,406.7702097531532L92.24972278881299,406.4224621968699L94.49821352790593,406.03732038220596L96.75286451559911,405.6107694054111L99.00135525469206,405.1383639501358L101.249845993785,404.61518206793426L103.49833673287793,404.13401061362634L105.75298772057113,403.6443970691187L108.00147845966407,403.1115877139674L110.249969198757,402.70609873053843L112.49845993784993,402.2103313514041L114.75311092554313,401.54007464396983L117.00160166463607,401.1277998780293L119.250092403729,400.70751751818324L121.49858314282196,400.2799693152128L123.75323413051512,399.84586843208274L126.00172486960808,399.40617943790016L128.250215608701,398.9618390939037L130.49870634779396,398.5137327278871L132.75335733548712,398.0630171141243L135.0018480745801,397.61068030031595L137.250338813673,397.1579930200488L139.49882955276595,396.69064385719776L141.75348054045915,396.2082389879916L144.00197127955207,395.7105152001932L146.250462018645,395.1969338837724L148.49895275773795,394.6670786614103L150.75360374543115,394.1205258186964L153.00209448452406,393.5568443512746L155.25058522361704,392.97576153877117L157.49907596270995,392.3766779446175L159.75372695040315,391.75914142934465L162.0022176894961,391.1226928397268L164.25070842858904,390.4668660209532L166.49919916768195,389.79138425911805L168.75385015537518,389.0955847136029L171.0023408944681,388.37898127423716L173.25083163356103,387.64390489438443L175.49932237265398,386.88991767365644L177.75397336034717,386.11702493974633L180.0024640994401,385.32479188859185L182.25095483853303,384.51325795443L184.49944557762598,383.67568462609745L186.75409656531914,382.8110022891963L189.00258730441212,381.91862916695146L191.25107804350503,380.99742984509925L193.49956878259798,380.04678932092474L195.75421977029117,379.06580288176247L198.00271050938412,378.0532292074798L200.25120124847703,377.00840075143526L202.49969198757,375.9300001305481L204.75434297526317,374.81732205608796L207.00283371435611,373.6747573548328L209.25132445344906,372.5013963815836L211.499815192542,371.2970349092396L213.75446618023517,370.0607390970919L216.00295691932814,368.79232776577567L218.25144765842106,367.49125666051L220.499938397514,366.1565572459268L222.7545893852072,364.78808903057626L225.0030801243001,363.3848607275358L227.25157086339306,361.94676209545685L229.50006160248603,360.46583688362347L231.7547125901792,358.94037607291983L234.00320332927214,357.36960076625263L236.25169406836505,355.7517046272905L238.500184807458,354.08586980628627L240.75483579515117,352.370747304923L243.00332653424414,350.60437509276886L245.25181727333708,348.7858740328114L247.50030801243003,346.91317068096896L249.75495900012322,344.98534204630874L252.00344973921617,343.00084790986904L254.25194047830905,340.9574362153877L256.500431217402,338.8541150013243L258.7550822050952,336.68850494469933L261.00357294418814,334.45956519078925L263.2520636832811,332.16553899066486L265.500554422374,329.8038442886107L267.7552054100672,327.3733644659631L270.0036961491602,324.8713728378754L272.25218688825305,322.2966987333314L274.500677627346,319.65185404102044L276.7553286150392,316.93428877486434L279.00381935413213,314.1431782967115L281.2523100932251,311.2758548139252L283.500800832318,308.331482356107L285.7554518200112,305.3408626459452L288.00394255910413,302.3050639456469L290.2524332981971,299.2252418166708L292.50092403729,296.1026401079938L294.7555750249832,292.938592227867L297.0040657640762,289.7285133028743L299.2525565031691,286.4734329783805L301.501047242262,283.174459193163L303.75569822995527,279.83277866396486L306.00418896904813,276.44965701282814L308.2526797081411,273.0264397970797L310.5011704472341,269.56455227032336L312.7558214349272,266.06549932954596L315.0043121740202,262.5308656024999L317.2528029131131,258.9623131835126L319.501293652206,255.36930868245514L321.7559446398992,251.75421100829956L324.0044353789922,248.11946362556645L326.2529261180851,244.4675927951841L328.50141685717807,240.80120484055615L330.75606784487127,237.12298493125041L333.0045585839642,233.43569364749564L335.2530493230571,229.74216410539805L337.50154006215007,226.04529893875943L339.750030801243,222.3480646108519L341.99852154033596,218.61763083657863L344.2470122794289,214.8549562921162L346.4955030185218,211.06104010416934L348.750154006215,207.23692120748998L350.99864474530796,203.38367806494628L353.24713548440087,199.50242836996702L355.49562622349384,195.59432910062225L357.75027721118704,191.66057631423638L359.9987679502799,187.70240383355838L362.24725868937287,183.72108294678665L364.49574942846584,179.71792167397578L366.750400416159,175.69426430858454L368.99889115525195,171.65149058803306L371.2473818943449,167.5910150840199L373.4958726334378,163.51428642166692L375.75052362113104,159.42278651089077L377.99901436022395,155.31802959335332L380.24750509931687,151.20156143752132L382.49599583840984,147.07495828893917L384.75064682610304,142.9398258763153L386.99913756519595,138.79779853673412L389.2476283042889,134.6505379868457L391.49611904338184,130.49973230477417L393.75077003107504,126.34709463349738L395.99926077016795,122.1943620455701L398.2477515092609,118.04329426079296L400.49624224835384,113.89567244538686L402.75089323604703,109.75329787651522L404.99938397514,105.6179905815254L407.24787471423286,101.49158803507154L409.49636545332584,97.37594366174582L411.75101644101903,93.2729254114778L413.99950718011195,89.1844143852176L416.2479979192049,85.11230325672422L418.4964886582979,81.0584948714813L420.75113964599103,77.0249007846524L422.999630385084,73.01343961677033L425.2481211241769,69.02603549611071L427.49661186326983,65.06461639673621L429.75126285096303,61.13111272278033L431.999753590056,57.22745579241827L434.2482443291489,53.35557604391571L436.4967350682419,49.517401551410835L438.7513860559351,45.71485643686115L440.999876795028,41.9498591204403L443.2483675341209,38.22432095785939L445.4968582732139,34.54014417273392L447.751509260907,30.899220578791315L450,27.30343002366841\" stroke=\"#ffbb78\" stroke-width=\"2\"/></g></g><path class=\"foreground\" aria-hidden=\"true\" d=\"\" display=\"none\"/></g><g transform=\"translate(0,0)\"><path class=\"background\" aria-hidden=\"true\" d=\"M0,0h450v410h-450Z\"/><g><g class=\"mark-line role-mark marks\" role=\"graphics-object\" aria-roledescription=\"line mark container\"><path aria-label=\"time (year): 1949; regions: MAF; income: 13.4482462152\" role=\"graphics-symbol\" aria-roledescription=\"line mark\" d=\"M0,409.9151726007962L2.248490739092938,409.9099950243209L4.496981478185876,409.9045014261543L6.751632465879068,409.8986725174053L9.000123204972004,409.89248783185434L11.248613944064942,409.885925654093L13.497104683157879,409.8789629432784L15.751755670851074,409.87157525223273L18.00024640994401,409.8637366416054L20.24873714903695,409.8554195887958L22.497227888129885,409.84659489131747L24.751878875823078,409.8370582845869L27.000369614916018,409.82692882362403L29.248860354008954,409.816169652957L31.497351093101894,409.8047416259509L33.75200208079509,409.7926031623746L36.00049281988802,409.77971009711365L38.24898355898095,409.7660155194781L40.4974742980739,409.7514696025203L42.752125285767086,409.7360194217426L45.00061602486002,409.71960876253456L47.249106763952966,409.7022040666364L49.4975975030459,409.6837190108737L51.75224849073909,409.6640865341819L54.000739229832035,409.6432354128219L56.249229968924965,409.6210900019909L58.49772070801791,409.5975699613943L60.752371695711105,409.57258996378255L63.00086243480404,409.54605938539703L65.24935317389698,409.51788197719975L67.49784391298991,409.48795551569646L69.7524949006831,409.46032658275004L72.00098563977603,409.4312068458614L74.24947637886898,409.4005158641248L76.4979671179619,409.36816885619817L78.7526181056551,409.33407646610186L81.00110884474805,409.29814451637964L83.24959958384098,409.26027374794165L85.49809032293392,409.22035954586863L87.75274131062712,409.17829165042235L90.00123204972004,409.13398049046236L92.24972278881299,409.11704916097784L94.49821352790593,409.0997914650142L96.75286451559911,409.0821998727547L99.00135525469206,409.06426823669966L101.249845993785,409.0459903323749L103.49833673287793,408.983431424096L105.75298772057113,408.9565216676001L108.00147845966407,408.91492697866306L110.249969198757,408.85555037908875L112.49845993784993,408.79693270870337L114.75311092554313,408.74846766460536L117.00160166463607,408.7110261686759L119.250092403729,408.66988287171625L121.49858314282196,408.6247738920301L123.75323413051512,408.5753914476321L126.00172486960808,408.52137782334034L128.250215608701,408.4623789438783L130.49870634779396,408.39793885999995L132.75335733548712,408.32759678759714L135.0018480745801,408.25080583388734L137.250338813673,408.1669906271684L139.49882955276595,408.0802002367782L141.75348054045915,407.9903911130804L144.00197127955207,407.89754309092285L146.250462018645,407.8016001788225L148.49895275773795,407.7025287042045L150.75360374543115,407.6002988105447L153.00209448452406,407.49488471069753L155.25058522361704,407.38629045265793L157.49907596270995,407.27447580463775L159.75372695040315,407.1594287981652L162.0022176894961,407.0411426011854L164.25070842858904,406.91961571712494L166.49919916768195,406.7948834817743L168.75385015537518,406.666926933675L171.0023408944681,406.53576197827107L173.25083163356103,406.4013051996218L175.49932237265398,406.26353640261823L177.75397336034717,406.1225116232766L180.0024640994401,405.9782200170699L182.25095483853303,405.8307328696046L184.49944557762598,405.67902457936214L186.75409656531914,405.5229841761583L189.00258730441212,405.36258636557966L191.25107804350503,405.1977196915827L193.49956878259798,405.0283647402283L195.75421977029117,404.85446010072417L198.00271050938412,404.6758942116655L200.25120124847703,404.4926579007166L202.49969198757,404.3046399523562L204.75434297526317,404.11183884132674L207.00283371435611,403.9142033997188L209.25132445344906,403.7116235605297L211.499815192542,403.50411072461367L213.75446618023517,403.291556123052L216.00295691932814,403.07398076115464L218.25144765842106,402.8513473861038L220.499938397514,402.6235499740245L222.7545893852072,402.39062547148086L225.0030801243001,402.15247012016977L227.25157086339306,401.9091322831957L229.50006160248603,401.6576258216318L231.7547125901792,401.3976598681864L234.00320332927214,401.1290194427092L236.25169406836505,400.85131047116914L238.500184807458,400.56420865157503L240.75483579515117,400.26737751366136L243.00332653424414,399.9604679208507L245.25181727333708,399.6432186654907L247.50030801243003,399.31515909263675L249.75495900012322,398.975899282889L252.00344973921617,398.6250344746439L254.25194047830905,398.2621444918344L256.500431217402,397.88691136298877L258.7550822050952,397.49877170975515L261.00357294418814,397.0972558510948L263.2520636832811,396.68187619048183L265.500554422374,396.25212650190633L267.7552054100672,395.8076195996009L270.0036961491602,395.3476803065276L272.25218688825305,394.8717423441241L274.500677627346,394.38309369434876L276.7553286150392,393.88150123143527L279.00381935413213,393.36689347487675L281.2523100932251,392.8388847475623L283.500800832318,392.29724155411833L285.7554518200112,391.7476025997639L288.00394255910413,391.1902803194942L290.2524332981971,390.6256087313321L292.50092403729,390.0539434995891L294.7555750249832,389.4756620254591L297.0040657640762,388.8911638274065L299.2525565031691,388.30087010087357L301.501047242262,387.70522324930494L303.75569822995527,387.1046865833551L306.00418896904813,386.4997438824106L308.2526797081411,385.8908991149787L310.5011704472341,385.27867585107725L312.7558214349272,384.6636166820673L315.0043121740202,384.04628263531254L317.2528029131131,383.42725206256284L319.501293652206,382.8044065830869L321.7559446398992,382.1781689191239L324.0044353789922,381.548976157702L326.2529261180851,380.91727930708936L328.50141685717807,380.2835427598213L330.75606784487127,379.6482440769702L333.0045585839642,379.0118733207519L335.2530493230571,378.37493251192393L337.50154006215007,377.73793506459657L339.750030801243,377.1014046858415L341.99852154033596,376.46120424591595L344.2470122794289,375.81760279470745L346.4955030185218,375.1708772184766L348.750154006215,374.5213119650834L350.99864474530796,373.86919885673643L353.24713548440087,373.21483689412L355.49562622349384,372.55853205249946L357.75027721118704,371.900597081651L359.9987679502799,371.24135119273654L362.24725868937287,370.5811198480672L364.49574942846584,369.920234463676L366.750400416159,369.25903216487063L368.99889115525195,368.5978554727344L371.2473818943449,367.93705202735873L373.4958726334378,367.2769742765869L375.75052362113104,366.617979166461L377.99901436022395,365.96042779546264L380.24750509931687,365.3046850972837L382.49599583840984,364.65111947636916L384.75064682610304,364.0001024547609L386.99913756519595,363.3496758260085L389.2476283042889,362.7001189170033L391.49611904338184,362.0517138589907L393.75077003107504,361.4047452907678L395.99926077016795,360.75950015257877L398.2477515092609,360.1162674554159L400.49624224835384,359.4753380689516L402.75089323604703,358.83700448731577L404.99938397514,358.20156059344356L407.24787471423286,357.56930143739066L409.49636545332584,356.9405229815669L411.75101644101903,356.3155218627865L413.99950718011195,355.6945951666254L416.2479979192049,355.078040167116L418.4964886582979,354.46615410216157L420.75113964599103,353.85923394045267L422.999630385084,353.25757611788976L425.2481211241769,352.6614762928605L427.49661186326983,352.071229085339L429.75126285096303,351.48712786345345L431.999753590056,350.90946451413635L434.2482443291489,350.33852916611164L436.4967350682419,349.77460997145926L438.7513860559351,349.2179928706432L440.999876795028,348.6689613309318L443.2483675341209,348.12779615634963L445.4968582732139,347.59477517377627L447.751509260907,347.0701730623246L450,346.55426113456633\" stroke=\"#9467bd\" stroke-width=\"2\"/></g></g><path class=\"foreground\" aria-hidden=\"true\" d=\"\" display=\"none\"/></g><g transform=\"translate(0,0)\"><path class=\"background\" aria-hidden=\"true\" d=\"M0,0h450v410h-450Z\"/><g><g class=\"mark-line role-mark marks\" role=\"graphics-object\" aria-roledescription=\"line mark container\"><path aria-label=\"time (year): 1949; regions: SSA; income: 94.6859977635\" role=\"graphics-symbol\" aria-roledescription=\"line mark\" d=\"M0,409.4027498602612L2.248490739092938,409.384669617351L4.496981478185876,409.3660420406489L6.751632465879068,409.3468505610035L9.000123204972004,409.32707810767454L11.248613944064942,409.30670709314757L13.497104683157879,409.2857193974907L15.751755670851074,409.26409635223683L18.00024640994401,409.241818723778L20.24873714903695,409.21886669625724L22.497227888129885,409.1952198539423L24.751878875823078,409.1678565483396L27.000369614916018,409.13956286380403L29.248860354008954,409.1103071665493L31.497351093101894,409.08005674721L33.75200208079509,409.04877778427016L36.00049281988802,409.0164353062498L38.24898355898095,408.98299315260454L40.4974742980739,408.9484139332965L42.752125285767086,408.91265898699004L45.00061602486002,408.8756883378269L47.249106763952966,408.8356479005516L49.4975975030459,408.7941814915718L51.75224849073909,408.7512383273438L54.000739229832035,408.7067658157546L56.249229968924965,408.66070949171313L58.49772070801791,408.6130129504473L60.752371695711105,408.5636177784253L63.00086243480404,408.5124634818175L65.24935317389698,408.4594874124099L67.49784391298991,408.4046246908794L69.7524949006831,408.3911606166806L72.00098563977603,408.3775829132354L74.24947637886898,408.36389062157673L76.4979671179619,408.3500827746441L78.7526181056551,408.33615839721574L81.00110884474805,408.3221165058395L83.24959958384098,408.30795610876356L85.49809032293392,408.2936762058661L87.75274131062712,408.2792757885849L90.00123204972004,408.26475607487794L92.24972278881299,408.2440835208199L94.49821352790593,408.223166909033L96.75286451559911,408.2020028793072L99.00135525469206,408.18058872315964L101.249845993785,408.1589217277946L103.49833673287793,408.0763590131598L105.75298772057113,408.017644476575L108.00147845966407,407.962507057496L110.249969198757,407.94360513160717L112.49845993784993,407.9007755481948L114.75311092554313,407.8375455385452L117.00160166463607,407.7626734557569L119.250092403729,407.6818787605481L121.49858314282196,407.5946946390199L123.75323413051512,407.50065558423915L126.00172486960808,407.39920096960094L128.250215608701,407.2897927531382L130.49870634779396,407.1717325984692L132.75335733548712,407.04433522197354L135.0018480745801,406.9067885728669L137.250338813673,406.7582594071128L139.49882955276595,406.6044295620586L141.75348054045915,406.44521875008616L144.00197127955207,406.28058795387665L146.250462018645,406.1104345927805L148.49895275773795,405.93469535516203L150.75360374543115,405.75331348735415L153.00209448452406,405.5662392313829L155.25058522361704,405.3734754213915L157.49907596270995,405.1749463165856L159.75372695040315,404.9706259423094L162.0022176894961,404.76049711199175L164.25070842858904,404.54455181659085L166.49919916768195,404.32284704085185L168.75385015537518,404.09534335069895L171.0023408944681,403.86206281722986L173.25083163356103,403.62285137280884L175.49932237265398,403.37766664607153L177.75397336034717,403.12660111408667L180.0024640994401,402.869628479223L182.25095483853303,402.60686771729013L184.49944557762598,402.33649202776536L186.75409656531914,402.0582952449577L189.00258730441212,401.77222277090254L191.25107804350503,401.4780666774398L193.49956878259798,401.1757818451372L195.75421977029117,400.8652481343047L198.00271050938412,400.54625582580064L200.25120124847703,400.2187764228714L202.49969198757,399.88259967511266L204.75434297526317,399.5377096192753L207.00283371435611,399.18400163045624L209.25132445344906,398.8212658258013L211.499815192542,398.44950760472L213.75446618023517,398.0685181265727L216.00295691932814,397.6783186887408L218.25144765842106,397.2788263989484L220.499938397514,396.8698353365155L222.7545893852072,396.45139337286764L225.0030801243001,396.0232972818846L227.25157086339306,395.5856142013091L229.50006160248603,395.13300322044097L231.7547125901792,394.6649209879525L234.00320332927214,394.18095817249485L236.25169406836505,393.6803846177367L238.500184807458,393.1625928483771L240.75483579515117,392.6269519753954L243.00332653424414,392.07280672943926L245.25181727333708,391.49965705505895L247.50030801243003,390.90662692560994L249.75495900012322,390.2929824068713L252.00344973921617,389.65796095442965L254.25194047830905,389.0007702553746L256.500431217402,388.3207985677286L258.7550822050952,387.6169926316474L261.00357294418814,386.8884641402541L263.2520636832811,386.1342899439445L265.500554422374,385.3535106146361L267.7552054100672,384.5453772012603L270.0036961491602,383.70862125317666L272.25218688825305,382.8421661202815L274.500677627346,381.9518540479913L276.7553286150392,381.03721006857376L279.00381935413213,380.09804746948777L281.2523100932251,379.13361278968415L283.500800832318,378.1434236893881L285.7554518200112,377.1375681055238L288.00394255910413,376.1165582894934L290.2524332981971,375.08094543562174L292.50092403729,374.0313200611406L294.7555750249832,372.9683121728432L297.0040657640762,371.89259162435644L299.2525565031691,370.80486774353744L301.501047242262,369.70588888059945L303.75569822995527,368.59644204050426L306.00418896904813,367.4773523446269L308.2526797081411,366.3494825672381L310.5011704472341,365.21373235758233L312.7558214349272,364.0710374087308L315.0043121740202,362.9223685626472L317.2528029131131,361.76873041428115L319.501293652206,360.6062322568046L321.7559446398992,359.43559132683265L324.0044353789922,358.25755241917915L326.2529261180851,357.072887119786L328.50141685717807,355.88239310626074L330.75606784487127,354.6868936842313L333.0045585839642,353.4872369073365L335.2530493230571,352.28429476666236L337.50154006215007,351.07896232564497L339.750030801243,349.8721563646589L341.99852154033596,348.65627648548843L344.2470122794289,347.43176552952804L346.4955030185218,346.1990822217876L348.750154006215,344.9587006378622L350.99864474530796,343.7111099960579L353.24713548440087,342.45681442967685L355.49562622349384,341.19633274435614L357.75027721118704,339.93019816267207L359.9987679502799,338.6589579521131L362.24725868937287,337.38317313408453L364.49574942846584,336.10341810477604L366.750400416159,334.82028028850897L368.99889115525195,333.5343597179924L371.2473818943449,332.24626863340904L373.4958726334378,330.95663103851194L375.75052362113104,329.6660822450533L377.99901436022395,328.37526837265864L380.24750509931687,327.0848458604897L382.49599583840984,325.795480924894L384.75064682610304,324.5078490140712L386.99913756519595,323.21829518531183L389.2476283042889,321.9273181585262L391.49611904338184,320.6354247627612L393.75077003107504,319.34312940848605L395.99926077016795,318.05095377383543L398.2477515092609,316.75942646150054L400.49624224835384,315.4690826643927L402.75089323604703,314.1804638042158L404.99938397514,312.894117161252L407.24787471423286,311.6105955091479L409.49636545332584,310.3304567130913L411.75101644101903,309.054263335697L413.99950718011195,307.7825822468706L416.2479979192049,306.5159841959398L418.4964886582979,305.25504340891996L420.75113964599103,304.0003371717677L422.999630385084,302.7524453799878L425.2481211241769,301.51195009890046L427.49661186326983,300.2794351033902L429.75126285096303,299.0554854546175L431.999753590056,297.8406870570757L434.2482443291489,296.6356261673651L436.4967350682419,295.4408889507696L438.7513860559351,294.257061018239L440.999876795028,293.0847269347259L443.2483675341209,291.92446978824836L445.4968582732139,290.7768706424335L447.751509260907,289.6425081156545L450,288.5219579132458\" stroke=\"#f7b6d2\" stroke-width=\"2\"/></g></g><path class=\"foreground\" aria-hidden=\"true\" d=\"\" display=\"none\"/></g><g transform=\"translate(0,0)\"><path class=\"background\" aria-hidden=\"true\" d=\"M0,0h450v410h-450Z\"/><g><g class=\"mark-line role-mark marks\" role=\"graphics-object\" aria-roledescription=\"line mark container\"><path aria-label=\"time (year): 1949; regions: SIS; income: 6.82113737297\" role=\"graphics-symbol\" aria-roledescription=\"line mark\" d=\"M0,409.9569743642628L2.248490739092938,409.9548722736853L4.496981478185876,409.9526674818991L6.751632465879068,409.95035497126196L9.000123204972004,409.9479294789864L11.248613944064942,409.94538548516243L13.497104683157879,409.9427172001953L15.751755670851074,409.9399185516301L18.00024640994401,409.93698317033153L20.24873714903695,409.93390437598947L22.497227888129885,409.9306751619159L24.751878875823078,409.92721682304324L27.000369614916018,409.92358596147756L29.248860354008954,409.9197739707518L31.497351093101894,409.9157718150567L33.75200208079509,409.91157000782266L36.00049281988802,409.9071585892329L38.24898355898095,409.9025271026154L40.4974742980739,409.89766456965646L42.752125285767086,409.8925594643783L45.00061602486002,409.8871996858183L47.249106763952966,409.8819788981169L49.4975975030459,409.87651647434893L51.75224849073909,409.8708012307636L54.000739229832035,409.86482146598763L56.249229968924965,409.85856493706757L58.49772070801791,409.8520188344041L60.752371695711105,409.8451697555253L63.00086243480404,409.83800367764667L65.24935317389698,409.83050592896086L67.49784391298991,409.82266115859863L69.7524949006831,409.817625201904L72.00098563977603,409.8124462372838L74.24947637886898,409.807120203689L76.4979671179619,409.8016429247477L78.7526181056551,409.7960101054896L81.00110884474805,409.7902173289789L83.24959958384098,409.78426005285036L85.49809032293392,409.77813360574737L87.75274131062712,409.7718331836592L90.00123204972004,409.7652830328053L92.24972278881299,409.75999520060213L94.49821352790593,409.7545872664582L96.75286451559911,409.7490565011851L99.00135525469206,409.7434001094838L101.249845993785,409.7376152289017L103.49833673287793,409.7246720851348L105.75298772057113,409.7132766843469L108.00147845966407,409.6935232411697L110.249969198757,409.6782227166918L112.49845993784993,409.6656497995202L114.75311092554313,409.64226152785335L117.00160166463607,409.6339459630288L119.250092403729,409.62493357711764L121.49858314282196,409.6151805542291L123.75323413051512,409.6046460559308L126.00172486960808,409.59327736439076L128.250215608701,409.5810252958346L130.49870634779396,409.56783193888145L132.75335733548712,409.5536291920943L135.0018480745801,409.5383514498746L137.250338813673,409.5219179050062L139.49882955276595,409.5050457721433L141.75348054045915,409.4877298199603L144.00197127955207,409.46997014537936L146.250462018645,409.45175707943145L148.49895275773795,409.4330860244861L150.75360374543115,409.413952639677L153.00209448452406,409.39435285706173L155.25058522361704,409.3742890045089L157.49907596270995,409.3537519000279L159.75372695040315,409.3327384028999L162.0022176894961,409.31124570866933L164.25070842858904,409.28927136371084L166.49919916768195,409.26682043662976L168.75385015537518,409.2438845065152L171.0023408944681,409.22046227047036L173.25083163356103,409.1965292972275L175.49932237265398,409.172074886729L177.75397336034717,409.1471043690968L180.0024640994401,409.1216072480827L182.25095483853303,409.09559005233075L184.49944557762598,409.0688199844756L186.75409656531914,409.0412664836393L189.00258730441212,409.0129165916635L191.25107804350503,408.98373800396035L193.49956878259798,408.95371707191083L195.75421977029117,408.9228301626384L198.00271050938412,408.891042175516L200.25120124847703,408.85833837698243L202.49969198757,408.8246816657338L204.75434297526317,408.7900565299163L207.00283371435611,408.7547457592055L209.25132445344906,408.7187362739784L211.499815192542,408.68203984976896L213.75446618023517,408.6446437886743L216.00295691932814,408.60656172106906L218.25144765842106,408.56779537761236L220.499938397514,408.5283327438335L222.7545893852072,408.4881904147759L225.0030801243001,408.44735687069715L227.25157086339306,408.40585078091624L229.50006160248603,408.3630930987629L231.7547125901792,408.31904287479944L234.00320332927214,408.27367462749663L236.25169406836505,408.2269285923769L238.500184807458,408.1787594606736L240.75483579515117,408.12912033627987L243.00332653424414,408.0779626754798L245.25181727333708,408.0252555012058L247.50030801243003,407.9709285720606L249.75495900012322,407.9149280718231L252.00344973921617,407.8571982773044L254.25194047830905,407.79768148713754L256.500431217402,407.7363400356813L258.7550822050952,407.6730911895563L261.00357294418814,407.60787091901256L263.2520636832811,407.54061290908857L265.500554422374,407.47124847274375L267.7552054100672,407.3997318205538L270.0036961491602,407.32596532546535L272.25218688825305,407.2498726977671L274.500677627346,407.1719392098308L276.7553286150392,407.09213125171647L279.00381935413213,407.010444050308L281.2523100932251,406.9268159149872L283.500800832318,406.84121248028066L285.7554518200112,406.75464321965524L288.00394255910413,406.6671588651103L290.2524332981971,406.5788127523127L292.50092403729,406.4896608300823L294.7555750249832,406.39976163823894L297.0040657640762,406.3084383515004L299.2525565031691,406.2156992351167L301.501047242262,406.1215538720686L303.75569822995527,406.0260131386307L306.00418896904813,405.9290892234298L308.2526797081411,405.8307956557285L310.5011704472341,405.73114732125396L312.7558214349272,405.6301604801227L315.0043121740202,405.52785278640283L317.2528029131131,405.4242432844721L319.501293652206,405.3195863337376L321.7559446398992,405.21391971044807L324.0044353789922,405.1072829564467L326.2529261180851,404.9997173887774L328.50141685717807,404.8912660856931L330.75606784487127,404.78197388709987L333.0045585839642,404.67188737209955L335.2530493230571,404.5610548414213L337.50154006215007,404.44952629761923L339.750030801243,404.33735339783465L341.99852154033596,404.22407402445026L344.2470122794289,404.10971237565315L346.4955030185218,403.99429384992067L348.750154006215,403.8778450221734L350.99864474530796,403.7603936440057L353.24713548440087,403.64196864307047L355.49562622349384,403.5226001283853L357.75027721118704,403.4023193898829L359.9987679502799,403.28115888143054L362.24725868937287,403.15915221723304L364.49574942846584,403.0363341630046L366.750400416159,402.912740629053L368.99889115525195,402.78840865852027L371.2473818943449,402.6633764171818L373.4958726334378,402.53768318061344L375.75052362113104,402.4113693205719L377.99901436022395,402.28447628858976L380.24750509931687,402.1570466001472L382.49599583840984,402.0291238154218L384.75064682610304,401.900752519667L386.99913756519595,401.7719783038531L389.2476283042889,401.64284774074684L391.49611904338184,401.51340836214655L393.75077003107504,401.38370863236025L395.99926077016795,401.25379792238175L398.2477515092609,401.12372648160516L400.49624224835384,400.9935454094256L402.75089323604703,400.86330662450973L404.99938397514,400.7330628328679L407.24787471423286,400.6028674955924L409.49636545332584,400.47277479366676L411.75101644101903,400.34283959261904L413.99950718011195,400.21311740679675L416.2479979192049,400.0836643606456L418.4964886582979,399.95453715095977L420.75113964599103,399.8257930076472L422.999630385084,399.6974896517694L425.2481211241769,399.5696852536754L427.49661186326983,399.4424383892602L429.75126285096303,399.3158079980327L431.999753590056,399.1898533393946L434.2482443291489,399.0646339452932L436.4967350682419,398.94020957544507L438.7513860559351,398.816640170813L440.999876795028,398.6939858047594L443.2483675341209,398.572306637691L445.4968582732139,398.4516628636976L447.751509260907,398.33211466502576L450,398.2137221631168\" stroke=\"#e377c2\" stroke-width=\"2\"/></g></g><path class=\"foreground\" aria-hidden=\"true\" d=\"\" display=\"none\"/></g></g><g class=\"mark-group role-legend\" role=\"graphics-symbol\" aria-roledescription=\"legend\" aria-label=\"Symbol legend titled 'regions' for stroke color with 16 values: ANZ, CAM, CAN, CHI, EEU, ending with WEU\"><g transform=\"translate(470,0)\"><path class=\"background\" aria-hidden=\"true\" d=\"M0,0h40v222h-40Z\" pointer-events=\"none\"/><g><g class=\"mark-group role-legend-entry\"><g transform=\"translate(0,16)\"><path class=\"background\" aria-hidden=\"true\" d=\"M0,0h0v0h0Z\" pointer-events=\"none\"/><g><g class=\"mark-group role-scope\" role=\"graphics-object\" aria-roledescription=\"group mark container\"><g transform=\"translate(0,0)\"><path class=\"background\" aria-hidden=\"true\" d=\"M0,0h39v11h-39Z\" pointer-events=\"none\" opacity=\"1\"/><g><g class=\"mark-symbol role-legend-symbol\" pointer-events=\"none\"><path transform=\"translate(6,6)\" d=\"M-5,0L5,0\" stroke=\"#1f77b4\" stroke-width=\"1.5\" opacity=\"1\"/></g><g class=\"mark-text role-legend-label\" pointer-events=\"none\"><text text-anchor=\"start\" transform=\"translate(16,9)\" font-family=\"sans-serif\" font-size=\"10px\" fill=\"#000\" opacity=\"1\">ANZ</text></g></g><path class=\"foreground\" aria-hidden=\"true\" d=\"\" pointer-events=\"none\" display=\"none\"/></g><g transform=\"translate(0,13)\"><path class=\"background\" aria-hidden=\"true\" d=\"M0,0h39v11h-39Z\" pointer-events=\"none\" opacity=\"1\"/><g><g class=\"mark-symbol role-legend-symbol\" pointer-events=\"none\"><path transform=\"translate(6,6)\" d=\"M-5,0L5,0\" stroke=\"#aec7e8\" stroke-width=\"1.5\" opacity=\"1\"/></g><g class=\"mark-text role-legend-label\" pointer-events=\"none\"><text text-anchor=\"start\" transform=\"translate(16,9)\" font-family=\"sans-serif\" font-size=\"10px\" fill=\"#000\" opacity=\"1\">CAM</text></g></g><path class=\"foreground\" aria-hidden=\"true\" d=\"\" pointer-events=\"none\" display=\"none\"/></g><g transform=\"translate(0,26)\"><path class=\"background\" aria-hidden=\"true\" d=\"M0,0h39v11h-39Z\" pointer-events=\"none\" opacity=\"1\"/><g><g class=\"mark-symbol role-legend-symbol\" pointer-events=\"none\"><path transform=\"translate(6,6)\" d=\"M-5,0L5,0\" stroke=\"#ff7f0e\" stroke-width=\"1.5\" opacity=\"1\"/></g><g class=\"mark-text role-legend-label\" pointer-events=\"none\"><text text-anchor=\"start\" transform=\"translate(16,9)\" font-family=\"sans-serif\" font-size=\"10px\" fill=\"#000\" opacity=\"1\">CAN</text></g></g><path class=\"foreground\" aria-hidden=\"true\" d=\"\" pointer-events=\"none\" display=\"none\"/></g><g transform=\"translate(0,39)\"><path class=\"background\" aria-hidden=\"true\" d=\"M0,0h39v11h-39Z\" pointer-events=\"none\" opacity=\"1\"/><g><g class=\"mark-symbol role-legend-symbol\" pointer-events=\"none\"><path transform=\"translate(6,6)\" d=\"M-5,0L5,0\" stroke=\"#ffbb78\" stroke-width=\"1.5\" opacity=\"1\"/></g><g class=\"mark-text role-legend-label\" pointer-events=\"none\"><text text-anchor=\"start\" transform=\"translate(16,9)\" font-family=\"sans-serif\" font-size=\"10px\" fill=\"#000\" opacity=\"1\">CHI</text></g></g><path class=\"foreground\" aria-hidden=\"true\" d=\"\" pointer-events=\"none\" display=\"none\"/></g><g transform=\"translate(0,52)\"><path class=\"background\" aria-hidden=\"true\" d=\"M0,0h39v11h-39Z\" pointer-events=\"none\" opacity=\"1\"/><g><g class=\"mark-symbol role-legend-symbol\" pointer-events=\"none\"><path transform=\"translate(6,6)\" d=\"M-5,0L5,0\" stroke=\"#2ca02c\" stroke-width=\"1.5\" opacity=\"1\"/></g><g class=\"mark-text role-legend-label\" pointer-events=\"none\"><text text-anchor=\"start\" transform=\"translate(16,9)\" font-family=\"sans-serif\" font-size=\"10px\" fill=\"#000\" opacity=\"1\">EEU</text></g></g><path class=\"foreground\" aria-hidden=\"true\" d=\"\" pointer-events=\"none\" display=\"none\"/></g><g transform=\"translate(0,65)\"><path class=\"background\" aria-hidden=\"true\" d=\"M0,0h39v11h-39Z\" pointer-events=\"none\" opacity=\"1\"/><g><g class=\"mark-symbol role-legend-symbol\" pointer-events=\"none\"><path transform=\"translate(6,6)\" d=\"M-5,0L5,0\" stroke=\"#98df8a\" stroke-width=\"1.5\" opacity=\"1\"/></g><g class=\"mark-text role-legend-label\" pointer-events=\"none\"><text text-anchor=\"start\" transform=\"translate(16,9)\" font-family=\"sans-serif\" font-size=\"10px\" fill=\"#000\" opacity=\"1\">FSU</text></g></g><path class=\"foreground\" aria-hidden=\"true\" d=\"\" pointer-events=\"none\" display=\"none\"/></g><g transform=\"translate(0,78)\"><path class=\"background\" aria-hidden=\"true\" d=\"M0,0h39v11h-39Z\" pointer-events=\"none\" opacity=\"1\"/><g><g class=\"mark-symbol role-legend-symbol\" pointer-events=\"none\"><path transform=\"translate(6,6)\" d=\"M-5,0L5,0\" stroke=\"#d62728\" stroke-width=\"1.5\" opacity=\"1\"/></g><g class=\"mark-text role-legend-label\" pointer-events=\"none\"><text text-anchor=\"start\" transform=\"translate(16,9)\" font-family=\"sans-serif\" font-size=\"10px\" fill=\"#000\" opacity=\"1\">JPK</text></g></g><path class=\"foreground\" aria-hidden=\"true\" d=\"\" pointer-events=\"none\" display=\"none\"/></g><g transform=\"translate(0,91)\"><path class=\"background\" aria-hidden=\"true\" d=\"M0,0h39v11h-39Z\" pointer-events=\"none\" opacity=\"1\"/><g><g class=\"mark-symbol role-legend-symbol\" pointer-events=\"none\"><path transform=\"translate(6,6)\" d=\"M-5,0L5,0\" stroke=\"#ff9896\" stroke-width=\"1.5\" opacity=\"1\"/></g><g class=\"mark-text role-legend-label\" pointer-events=\"none\"><text text-anchor=\"start\" transform=\"translate(16,9)\" font-family=\"sans-serif\" font-size=\"10px\" fill=\"#000\" opacity=\"1\">LAM</text></g></g><path class=\"foreground\" aria-hidden=\"true\" d=\"\" pointer-events=\"none\" display=\"none\"/></g><g transform=\"translate(0,104)\"><path class=\"background\" aria-hidden=\"true\" d=\"M0,0h39v11h-39Z\" pointer-events=\"none\" opacity=\"1\"/><g><g class=\"mark-symbol role-legend-symbol\" pointer-events=\"none\"><path transform=\"translate(6,6)\" d=\"M-5,0L5,0\" stroke=\"#9467bd\" stroke-width=\"1.5\" opacity=\"1\"/></g><g class=\"mark-text role-legend-label\" pointer-events=\"none\"><text text-anchor=\"start\" transform=\"translate(16,9)\" font-family=\"sans-serif\" font-size=\"10px\" fill=\"#000\" opacity=\"1\">MAF</text></g></g><path class=\"foreground\" aria-hidden=\"true\" d=\"\" pointer-events=\"none\" display=\"none\"/></g><g transform=\"translate(0,117)\"><path class=\"background\" aria-hidden=\"true\" d=\"M0,0h39v11h-39Z\" pointer-events=\"none\" opacity=\"1\"/><g><g class=\"mark-symbol role-legend-symbol\" pointer-events=\"none\"><path transform=\"translate(6,6)\" d=\"M-5,0L5,0\" stroke=\"#c5b0d5\" stroke-width=\"1.5\" opacity=\"1\"/></g><g class=\"mark-text role-legend-label\" pointer-events=\"none\"><text text-anchor=\"start\" transform=\"translate(16,9)\" font-family=\"sans-serif\" font-size=\"10px\" fill=\"#000\" opacity=\"1\">MDE</text></g></g><path class=\"foreground\" aria-hidden=\"true\" d=\"\" pointer-events=\"none\" display=\"none\"/></g><g transform=\"translate(0,130)\"><path class=\"background\" aria-hidden=\"true\" d=\"M0,0h39v11h-39Z\" pointer-events=\"none\" opacity=\"1\"/><g><g class=\"mark-symbol role-legend-symbol\" pointer-events=\"none\"><path transform=\"translate(6,6)\" d=\"M-5,0L5,0\" stroke=\"#8c564b\" stroke-width=\"1.5\" opacity=\"1\"/></g><g class=\"mark-text role-legend-label\" pointer-events=\"none\"><text text-anchor=\"start\" transform=\"translate(16,9)\" font-family=\"sans-serif\" font-size=\"10px\" fill=\"#000\" opacity=\"1\">SAS</text></g></g><path class=\"foreground\" aria-hidden=\"true\" d=\"\" pointer-events=\"none\" display=\"none\"/></g><g transform=\"translate(0,143)\"><path class=\"background\" aria-hidden=\"true\" d=\"M0,0h39v11h-39Z\" pointer-events=\"none\" opacity=\"1\"/><g><g class=\"mark-symbol role-legend-symbol\" pointer-events=\"none\"><path transform=\"translate(6,6)\" d=\"M-5,0L5,0\" stroke=\"#c49c94\" stroke-width=\"1.5\" opacity=\"1\"/></g><g class=\"mark-text role-legend-label\" pointer-events=\"none\"><text text-anchor=\"start\" transform=\"translate(16,9)\" font-family=\"sans-serif\" font-size=\"10px\" fill=\"#000\" opacity=\"1\">SEA</text></g></g><path class=\"foreground\" aria-hidden=\"true\" d=\"\" pointer-events=\"none\" display=\"none\"/></g><g transform=\"translate(0,156)\"><path class=\"background\" aria-hidden=\"true\" d=\"M0,0h39v11h-39Z\" pointer-events=\"none\" opacity=\"1\"/><g><g class=\"mark-symbol role-legend-symbol\" pointer-events=\"none\"><path transform=\"translate(6,6)\" d=\"M-5,0L5,0\" stroke=\"#e377c2\" stroke-width=\"1.5\" opacity=\"1\"/></g><g class=\"mark-text role-legend-label\" pointer-events=\"none\"><text text-anchor=\"start\" transform=\"translate(16,9)\" font-family=\"sans-serif\" font-size=\"10px\" fill=\"#000\" opacity=\"1\">SIS</text></g></g><path class=\"foreground\" aria-hidden=\"true\" d=\"\" pointer-events=\"none\" display=\"none\"/></g><g transform=\"translate(0,169)\"><path class=\"background\" aria-hidden=\"true\" d=\"M0,0h39v11h-39Z\" pointer-events=\"none\" opacity=\"1\"/><g><g class=\"mark-symbol role-legend-symbol\" pointer-events=\"none\"><path transform=\"translate(6,6)\" d=\"M-5,0L5,0\" stroke=\"#f7b6d2\" stroke-width=\"1.5\" opacity=\"1\"/></g><g class=\"mark-text role-legend-label\" pointer-events=\"none\"><text text-anchor=\"start\" transform=\"translate(16,9)\" font-family=\"sans-serif\" font-size=\"10px\" fill=\"#000\" opacity=\"1\">SSA</text></g></g><path class=\"foreground\" aria-hidden=\"true\" d=\"\" pointer-events=\"none\" display=\"none\"/></g><g transform=\"translate(0,182)\"><path class=\"background\" aria-hidden=\"true\" d=\"M0,0h39v11h-39Z\" pointer-events=\"none\" opacity=\"1\"/><g><g class=\"mark-symbol role-legend-symbol\" pointer-events=\"none\"><path transform=\"translate(6,6)\" d=\"M-5,0L5,0\" stroke=\"#7f7f7f\" stroke-width=\"1.5\" opacity=\"1\"/></g><g class=\"mark-text role-legend-label\" pointer-events=\"none\"><text text-anchor=\"start\" transform=\"translate(16,9)\" font-family=\"sans-serif\" font-size=\"10px\" fill=\"#000\" opacity=\"1\">USA</text></g></g><path class=\"foreground\" aria-hidden=\"true\" d=\"\" pointer-events=\"none\" display=\"none\"/></g><g transform=\"translate(0,195)\"><path class=\"background\" aria-hidden=\"true\" d=\"M0,0h39v11h-39Z\" pointer-events=\"none\" opacity=\"1\"/><g><g class=\"mark-symbol role-legend-symbol\" pointer-events=\"none\"><path transform=\"translate(6,6)\" d=\"M-5,0L5,0\" stroke=\"#c7c7c7\" stroke-width=\"1.5\" opacity=\"1\"/></g><g class=\"mark-text role-legend-label\" pointer-events=\"none\"><text text-anchor=\"start\" transform=\"translate(16,9)\" font-family=\"sans-serif\" font-size=\"10px\" fill=\"#000\" opacity=\"1\">WEU</text></g></g><path class=\"foreground\" aria-hidden=\"true\" d=\"\" pointer-events=\"none\" display=\"none\"/></g></g></g><path class=\"foreground\" aria-hidden=\"true\" d=\"\" pointer-events=\"none\" display=\"none\"/></g></g><g class=\"mark-text role-legend-title\" pointer-events=\"none\"><text text-anchor=\"start\" transform=\"translate(0,9)\" font-family=\"sans-serif\" font-size=\"11px\" font-weight=\"bold\" fill=\"#000\" opacity=\"1\">regions</text></g></g><path class=\"foreground\" aria-hidden=\"true\" d=\"\" pointer-events=\"none\" display=\"none\"/></g></g><g class=\"mark-group role-title\"><g transform=\"translate(225,-22)\"><path class=\"background\" aria-hidden=\"true\" d=\"M0,0h0v0h0Z\" pointer-events=\"none\"/><g><g class=\"mark-text role-title-text\" role=\"graphics-symbol\" aria-roledescription=\"title\" aria-label=\"Title text 'socioeconomic : income'\" pointer-events=\"none\"><text text-anchor=\"middle\" transform=\"translate(0,10)\" font-family=\"sans-serif\" font-size=\"13px\" font-weight=\"bold\" fill=\"#000\" opacity=\"1\">socioeconomic : income</text></g></g><path class=\"foreground\" aria-hidden=\"true\" d=\"\" pointer-events=\"none\" display=\"none\"/></g></g></g><path class=\"foreground\" aria-hidden=\"true\" d=\"\" display=\"none\"/></g></g></g></svg>\n",
      "text/plain": [
       "@vlplot(\n",
       "    $schema=\"https://vega.github.io/schema/vega-lite/v3.json\",\n",
       "    height=410,\n",
       "    encoding={\n",
       "        x={\n",
       "            timeUnit=\"utcyear\",\n",
       "            field=\"time\",\n",
       "            type=\"temporal\"\n",
       "        },\n",
       "        color={\n",
       "            field=\"regions\",\n",
       "            type=\"nominal\",\n",
       "            scale={\n",
       "                scheme=\"category20\"\n",
       "            }\n",
       "        },\n",
       "        y={\n",
       "            field=\"income\",\n",
       "            type=\"quantitative\"\n",
       "        }\n",
       "    },\n",
       "    data={\n",
       "        values=JSON.Writer.JSONText(\"[{\\\"time\\\":\\\"1950-01-01\\\",\\\"regions\\\":\\\"USA\\\",\\\"income\\\":\\\"1643.89944236897\\\"},{\\\"time\\\":\\\"1950-01-01\\\",\\\"regions\\\":\\\"CAN\\\",\\\"income\\\":\\\"84.8224831391005\\\"},{\\\"time\\\":\\\"1950-01-01\\\",\\\"regions\\\":\\\"WEU\\\",\\\"income\\\":\\\"1913.31508308279\\\"},{\\\"time\\\":\\\"1950-01-01\\\",\\\"regions\\\":\\\"JPK\\\",\\\"income\\\":\\\"616.021980672332\\\"},{\\\"time\\\":\\\"1950-01-01\\\",\\\"regions\\\":\\\"ANZ\\\",\\\"income\\\":\\\"119.057728115324\\\"},{\\\"time\\\":\\\"1950-01-01\\\",\\\"regions\\\":\\\"EEU\\\",\\\"income\\\":\\\"87.9192108941911\\\"},{\\\"time\\\":\\\"1950-01-01\\\",\\\"regions\\\":\\\"FSU\\\",\\\"income\\\":\\\"167.308878761848\\\"},{\\\"time\\\":\\\"1950-01-01\\\",\\\"regions\\\":\\\"MDE\\\",\\\"income\\\":\\\"76.0649829670573\\\"},{\\\"time\\\":\\\"1950-01-01\\\",\\\"regions\\\":\\\"CAM\\\",\\\"income\\\":\\\"40.5139010341431\\\"},{\\\"time\\\":\\\"1950-01-01\\\",\\\"regions\\\":\\\"LAM\\\",\\\"income\\\":\\\"193.138523290388\\\"},{\\\"time\\\":\\\"1950-01-01\\\",\\\"regions\\\":\\\"SAS\\\",\\\"income\\\":\\\"57.9713701148353\\\"},{\\\"time\\\":\\\"1950-01-01\\\",\\\"regions\\\":\\\"SEA\\\",\\\"income\\\":\\\"25.6942546016562\\\"},{\\\"time\\\":\\\"1950-01-01\\\",\\\"regions\\\":\\\"CHI\\\",\\\"income\\\":\\\"18.8014266052303\\\"},{\\\"time\\\":\\\"1950-01-01\\\",\\\"regions\\\":\\\"MAF\\\",\\\"income\\\":\\\"13.4482462152325\\\"},{\\\"time\\\":\\\"1950-01-01\\\",\\\"regions\\\":\\\"SSA\\\",\\\"income\\\":\\\"94.6859977634632\\\"},{\\\"time\\\":\\\"1950-01-01\\\",\\\"regions\\\":\\\"SIS\\\",\\\"income\\\":\\\"6.82113737296979\\\"},{\\\"time\\\":\\\"1951-01-01\\\",\\\"regions\\\":\\\"USA\\\",\\\"income\\\":\\\"1702.5064446350696\\\"},{\\\"time\\\":\\\"1951-01-01\\\",\\\"regions\\\":\\\"CAN\\\",\\\"income\\\":\\\"89.52831643076127\\\"},{\\\"time\\\":\\\"1951-01-01\\\",\\\"regions\\\":\\\"WEU\\\",\\\"income\\\":\\\"1978.5601206177726\\\"},{\\\"time\\\":\\\"1951-01-01\\\",\\\"regions\\\":\\\"JPK\\\",\\\"income\\\":\\\"644.6374878052532\\\"},{\\\"time\\\":\\\"1951-01-01\\\",\\\"regions\\\":\\\"ANZ\\\",\\\"income\\\":\\\"123.06897040811064\\\"},{\\\"time\\\":\\\"1951-01-01\\\",\\\"regions\\\":\\\"EEU\\\",\\\"income\\\":\\\"91.62583585448974\\\"},{\\\"time\\\":\\\"1951-01-01\\\",\\\"regions\\\":\\\"FSU\\\",\\\"income\\\":\\\"174.9933213385721\\\"},{\\\"time\\\":\\\"1951-01-01\\\",\\\"regions\\\":\\\"MDE\\\",\\\"income\\\":\\\"79.95998559239216\\\"},{\\\"time\\\":\\\"1951-01-01\\\",\\\"regions\\\":\\\"CAM\\\",\\\"income\\\":\\\"43.193057091598924\\\"},{\\\"time\\\":\\\"1951-01-01\\\",\\\"regions\\\":\\\"LAM\\\",\\\"income\\\":\\\"204.9750146965923\\\"},{\\\"time\\\":\\\"1951-01-01\\\",\\\"regions\\\":\\\"SAS\\\",\\\"income\\\":\\\"59.680189397490274\\\"},{\\\"time\\\":\\\"1951-01-01\\\",\\\"regions\\\":\\\"SEA\\\",\\\"income\\\":\\\"27.412654133958547\\\"},{\\\"time\\\":\\\"1951-01-01\\\",\\\"regions\\\":\\\"CHI\\\",\\\"income\\\":\\\"19.934909692532234\\\"},{\\\"time\\\":\\\"1951-01-01\\\",\\\"regions\\\":\\\"MAF\\\",\\\"income\\\":\\\"14.269081510104037\\\"},{\\\"time\\\":\\\"1951-01-01\\\",\\\"regions\\\":\\\"SSA\\\",\\\"income\\\":\\\"97.5523777370377\\\"},{\\\"time\\\":\\\"1951-01-01\\\",\\\"regions\\\":\\\"SIS\\\",\\\"income\\\":\\\"7.154395635259763\\\"},{\\\"time\\\":\\\"1952-01-01\\\",\\\"regions\\\":\\\"USA\\\",\\\"income\\\":\\\"1763.2028573760997\\\"},{\\\"time\\\":\\\"1952-01-01\\\",\\\"regions\\\":\\\"CAN\\\",\\\"income\\\":\\\"94.49522280292344\\\"},{\\\"time\\\":\\\"1952-01-01\\\",\\\"regions\\\":\\\"WEU\\\",\\\"income\\\":\\\"2046.030047801397\\\"},{\\\"time\\\":\\\"1952-01-01\\\",\\\"regions\\\":\\\"JPK\\\",\\\"income\\\":\\\"674.5822449879543\\\"},{\\\"time\\\":\\\"1952-01-01\\\",\\\"regions\\\":\\\"ANZ\\\",\\\"income\\\":\\\"127.21535776864002\\\"},{\\\"time\\\":\\\"1952-01-01\\\",\\\"regions\\\":\\\"EEU\\\",\\\"income\\\":\\\"95.48873005852445\\\"},{\\\"time\\\":\\\"1952-01-01\\\",\\\"regions\\\":\\\"FSU\\\",\\\"income\\\":\\\"183.03070787231727\\\"},{\\\"time\\\":\\\"1952-01-01\\\",\\\"regions\\\":\\\"MDE\\\",\\\"income\\\":\\\"84.05443670058457\\\"},{\\\"time\\\":\\\"1952-01-01\\\",\\\"regions\\\":\\\"CAM\\\",\\\"income\\\":\\\"46.0493838731021\\\"},{\\\"time\\\":\\\"1952-01-01\\\",\\\"regions\\\":\\\"LAM\\\",\\\"income\\\":\\\"217.5369052951602\\\"},{\\\"time\\\":\\\"1952-01-01\\\",\\\"regions\\\":\\\"SAS\\\",\\\"income\\\":\\\"61.439379463774976\\\"},{\\\"time\\\":\\\"1952-01-01\\\",\\\"regions\\\":\\\"SEA\\\",\\\"income\\\":\\\"29.24597807245194\\\"},{\\\"time\\\":\\\"1952-01-01\\\",\\\"regions\\\":\\\"CHI\\\",\\\"income\\\":\\\"21.136727164036806\\\"},{\\\"time\\\":\\\"1952-01-01\\\",\\\"regions\\\":\\\"MAF\\\",\\\"income\\\":\\\"15.140017804802874\\\"},{\\\"time\\\":\\\"1952-01-01\\\",\\\"regions\\\":\\\"SSA\\\",\\\"income\\\":\\\"100.50553014103463\\\"},{\\\"time\\\":\\\"1952-01-01\\\",\\\"regions\\\":\\\"SIS\\\",\\\"income\\\":\\\"7.503935796492959\\\"},{\\\"time\\\":\\\"1953-01-01\\\",\\\"regions\\\":\\\"USA\\\",\\\"income\\\":\\\"1826.0631706011714\\\"},{\\\"time\\\":\\\"1953-01-01\\\",\\\"regions\\\":\\\"CAN\\\",\\\"income\\\":\\\"99.73768622667949\\\"},{\\\"time\\\":\\\"1953-01-01\\\",\\\"regions\\\":\\\"WEU\\\",\\\"income\\\":\\\"2115.800734525622\\\"},{\\\"time\\\":\\\"1953-01-01\\\",\\\"regions\\\":\\\"JPK\\\",\\\"income\\\":\\\"705.9179986604559\\\"},{\\\"time\\\":\\\"1953-01-01\\\",\\\"regions\\\":\\\"ANZ\\\",\\\"income\\\":\\\"131.50144344700325\\\"},{\\\"time\\\":\\\"1953-01-01\\\",\\\"regions\\\":\\\"EEU\\\",\\\"income\\\":\\\"99.5144817305692\\\"},{\\\"time\\\":\\\"1953-01-01\\\",\\\"regions\\\":\\\"FSU\\\",\\\"income\\\":\\\"191.4372489646404\\\"},{\\\"time\\\":\\\"1953-01-01\\\",\\\"regions\\\":\\\"MDE\\\",\\\"income\\\":\\\"88.3585493007492\\\"},{\\\"time\\\":\\\"1953-01-01\\\",\\\"regions\\\":\\\"CAM\\\",\\\"income\\\":\\\"49.09459755523448\\\"},{\\\"time\\\":\\\"1953-01-01\\\",\\\"regions\\\":\\\"LAM\\\",\\\"income\\\":\\\"230.86865116435203\\\"},{\\\"time\\\":\\\"1953-01-01\\\",\\\"regions\\\":\\\"SAS\\\",\\\"income\\\":\\\"63.25042509085059\\\"},{\\\"time\\\":\\\"1953-01-01\\\",\\\"regions\\\":\\\"SEA\\\",\\\"income\\\":\\\"31.20191241733022\\\"},{\\\"time\\\":\\\"1953-01-01\\\",\\\"regions\\\":\\\"CHI\\\",\\\"income\\\":\\\"22.41099870014919\\\"},{\\\"time\\\":\\\"1953-01-01\\\",\\\"regions\\\":\\\"MAF\\\",\\\"income\\\":\\\"16.064113094275594\\\"},{\\\"time\\\":\\\"1953-01-01\\\",\\\"regions\\\":\\\"SSA\\\",\\\"income\\\":\\\"103.5480817921185\\\"},{\\\"time\\\":\\\"1953-01-01\\\",\\\"regions\\\":\\\"SIS\\\",\\\"income\\\":\\\"7.870553336521477\\\"},{\\\"time\\\":\\\"1954-01-01\\\",\\\"regions\\\":\\\"USA\\\",\\\"income\\\":\\\"1891.1645299782633\\\"},{\\\"time\\\":\\\"1954-01-01\\\",\\\"regions\\\":\\\"CAN\\\",\\\"income\\\":\\\"105.27099422367644\\\"},{\\\"time\\\":\\\"1954-01-01\\\",\\\"regions\\\":\\\"WEU\\\",\\\"income\\\":\\\"2187.9506378851065\\\"},{\\\"time\\\":\\\"1954-01-01\\\",\\\"regions\\\":\\\"JPK\\\",\\\"income\\\":\\\"738.7093635138317\\\"},{\\\"time\\\":\\\"1954-01-01\\\",\\\"regions\\\":\\\"ANZ\\\",\\\"income\\\":\\\"135.93193409945522\\\"},{\\\"time\\\":\\\"1954-01-01\\\",\\\"regions\\\":\\\"EEU\\\",\\\"income\\\":\\\"103.70995685076369\\\"},{\\\"time\\\":\\\"1954-01-01\\\",\\\"regions\\\":\\\"FSU\\\",\\\"income\\\":\\\"200.22989976477396\\\"},{\\\"time\\\":\\\"1954-01-01\\\",\\\"regions\\\":\\\"MDE\\\",\\\"income\\\":\\\"92.88305937191095\\\"},{\\\"time\\\":\\\"1954-01-01\\\",\\\"regions\\\":\\\"CAM\\\",\\\"income\\\":\\\"52.34118909717495\\\"},{\\\"time\\\":\\\"1954-01-01\\\",\\\"regions\\\":\\\"LAM\\\",\\\"income\\\":\\\"245.01743287249522\\\"},{\\\"time\\\":\\\"1954-01-01\\\",\\\"regions\\\":\\\"SAS\\\",\\\"income\\\":\\\"65.11485482258311\\\"},{\\\"time\\\":\\\"1954-01-01\\\",\\\"regions\\\":\\\"SEA\\\",\\\"income\\\":\\\"33.288657198843474\\\"},{\\\"time\\\":\\\"1954-01-01\\\",\\\"regions\\\":\\\"CHI\\\",\\\"income\\\":\\\"23.762092344771776\\\"},{\\\"time\\\":\\\"1954-01-01\\\",\\\"regions\\\":\\\"MAF\\\",\\\"income\\\":\\\"17.04461202309904\\\"},{\\\"time\\\":\\\"1954-01-01\\\",\\\"regions\\\":\\\"SSA\\\",\\\"income\\\":\\\"106.68273902720877\\\"},{\\\"time\\\":\\\"1954-01-01\\\",\\\"regions\\\":\\\"SIS\\\",\\\"income\\\":\\\"8.255082599717905\\\"},{\\\"time\\\":\\\"1955-01-01\\\",\\\"regions\\\":\\\"USA\\\",\\\"income\\\":\\\"1958.586831511672\\\"},{\\\"time\\\":\\\"1955-01-01\\\",\\\"regions\\\":\\\"CAN\\\",\\\"income\\\":\\\"111.11128244598206\\\"},{\\\"time\\\":\\\"1955-01-01\\\",\\\"regions\\\":\\\"WEU\\\",\\\"income\\\":\\\"2262.5608904021647\\\"},{\\\"time\\\":\\\"1955-01-01\\\",\\\"regions\\\":\\\"JPK\\\",\\\"income\\\":\\\"773.0239557264584\\\"},{\\\"time\\\":\\\"1955-01-01\\\",\\\"regions\\\":\\\"ANZ\\\",\\\"income\\\":\\\"140.51169495690974\\\"},{\\\"time\\\":\\\"1955-01-01\\\",\\\"regions\\\":\\\"EEU\\\",\\\"income\\\":\\\"108.08231086514593\\\"},{\\\"time\\\":\\\"1955-01-01\\\",\\\"regions\\\":\\\"FSU\\\",\\\"income\\\":\\\"209.42639416645954\\\"},{\\\"time\\\":\\\"1955-01-01\\\",\\\"regions\\\":\\\"MDE\\\",\\\"income\\\":\\\"97.63925264233353\\\"},{\\\"time\\\":\\\"1955-01-01\\\",\\\"regions\\\":\\\"CAM\\\",\\\"income\\\":\\\"55.802475476532926\\\"},{\\\"time\\\":\\\"1955-01-01\\\",\\\"regions\\\":\\\"LAM\\\",\\\"income\\\":\\\"260.03332244831586\\\"},{\\\"time\\\":\\\"1955-01-01\\\",\\\"regions\\\":\\\"SAS\\\",\\\"income\\\":\\\"67.0342422596524\\\"},{\\\"time\\\":\\\"1955-01-01\\\",\\\"regions\\\":\\\"SEA\\\",\\\"income\\\":\\\"35.51496085498373\\\"},{\\\"time\\\":\\\"1955-01-01\\\",\\\"regions\\\":\\\"CHI\\\",\\\"income\\\":\\\"25.194639478413904\\\"},{\\\"time\\\":\\\"1955-01-01\\\",\\\"regions\\\":\\\"MAF\\\",\\\"income\\\":\\\"18.084957277940106\\\"},{\\\"time\\\":\\\"1955-01-01\\\",\\\"regions\\\":\\\"SSA\\\",\\\"income\\\":\\\"109.91229011075517\\\"},{\\\"time\\\":\\\"1955-01-01\\\",\\\"regions\\\":\\\"SIS\\\",\\\"income\\\":\\\"8.658398693767543\\\"},{\\\"time\\\":\\\"1956-01-01\\\",\\\"regions\\\":\\\"USA\\\",\\\"income\\\":\\\"2028.4128195948247\\\"},{\\\"time\\\":\\\"1956-01-01\\\",\\\"regions\\\":\\\"CAN\\\",\\\"income\\\":\\\"117.27558172917998\\\"},{\\\"time\\\":\\\"1956-01-01\\\",\\\"regions\\\":\\\"WEU\\\",\\\"income\\\":\\\"2339.7153912602366\\\"},{\\\"time\\\":\\\"1956-01-01\\\",\\\"regions\\\":\\\"JPK\\\",\\\"income\\\":\\\"808.9325323893672\\\"},{\\\"time\\\":\\\"1956-01-01\\\",\\\"regions\\\":\\\"ANZ\\\",\\\"income\\\":\\\"145.24575516756943\\\"},{\\\"time\\\":\\\"1956-01-01\\\",\\\"regions\\\":\\\"EEU\\\",\\\"income\\\":\\\"112.63900088937334\\\"},{\\\"time\\\":\\\"1956-01-01\\\",\\\"regions\\\":\\\"FSU\\\",\\\"income\\\":\\\"219.0452805754307\\\"},{\\\"time\\\":\\\"1956-01-01\\\",\\\"regions\\\":\\\"MDE\\\",\\\"income\\\":\\\"102.63899274011713\\\"},{\\\"time\\\":\\\"1956-01-01\\\",\\\"regions\\\":\\\"CAM\\\",\\\"income\\\":\\\"59.49265431337189\\\"},{\\\"time\\\":\\\"1956-01-01\\\",\\\"regions\\\":\\\"LAM\\\",\\\"income\\\":\\\"275.9694605840444\\\"},{\\\"time\\\":\\\"1956-01-01\\\",\\\"regions\\\":\\\"SAS\\\",\\\"income\\\":\\\"69.01020738768972\\\"},{\\\"time\\\":\\\"1956-01-01\\\",\\\"regions\\\":\\\"SEA\\\",\\\"income\\\":\\\"37.89015690830712\\\"},{\\\"time\\\":\\\"1956-01-01\\\",\\\"regions\\\":\\\"CHI\\\",\\\"income\\\":\\\"26.71355069398663\\\"},{\\\"time\\\":\\\"1956-01-01\\\",\\\"regions\\\":\\\"MAF\\\",\\\"income\\\":\\\"19.1888016753726\\\"},{\\\"time\\\":\\\"1956-01-01\\\",\\\"regions\\\":\\\"SSA\\\",\\\"income\\\":\\\"113.2396077148872\\\"},{\\\"time\\\":\\\"1956-01-01\\\",\\\"regions\\\":\\\"SIS\\\",\\\"income\\\":\\\"9.081419481229336\\\"},{\\\"time\\\":\\\"1957-01-01\\\",\\\"regions\\\":\\\"USA\\\",\\\"income\\\":\\\"2100.7281885587963\\\"},{\\\"time\\\":\\\"1957-01-01\\\",\\\"regions\\\":\\\"CAN\\\",\\\"income\\\":\\\"123.78186775590513\\\"},{\\\"time\\\":\\\"1957-01-01\\\",\\\"regions\\\":\\\"WEU\\\",\\\"income\\\":\\\"2419.50090064847\\\"},{\\\"time\\\":\\\"1957-01-01\\\",\\\"regions\\\":\\\"JPK\\\",\\\"income\\\":\\\"846.5091374081945\\\"},{\\\"time\\\":\\\"1957-01-01\\\",\\\"regions\\\":\\\"ANZ\\\",\\\"income\\\":\\\"150.13931331955723\\\"},{\\\"time\\\":\\\"1957-01-01\\\",\\\"regions\\\":\\\"EEU\\\",\\\"income\\\":\\\"117.38779842694582\\\"},{\\\"time\\\":\\\"1957-01-01\\\",\\\"regions\\\":\\\"FSU\\\",\\\"income\\\":\\\"229.1059593196848\\\"},{\\\"time\\\":\\\"1957-01-01\\\",\\\"regions\\\":\\\"MDE\\\",\\\"income\\\":\\\"107.89475078528254\\\"},{\\\"time\\\":\\\"1957-01-01\\\",\\\"regions\\\":\\\"CAM\\\",\\\"income\\\":\\\"63.42686210648145\\\"},{\\\"time\\\":\\\"1957-01-01\\\",\\\"regions\\\":\\\"LAM\\\",\\\"income\\\":\\\"292.8822446984109\\\"},{\\\"time\\\":\\\"1957-01-01\\\",\\\"regions\\\":\\\"SAS\\\",\\\"income\\\":\\\"71.04441794456467\\\"},{\\\"time\\\":\\\"1957-01-01\\\",\\\"regions\\\":\\\"SEA\\\",\\\"income\\\":\\\"40.42420309565597\\\"},{\\\"time\\\":\\\"1957-01-01\\\",\\\"regions\\\":\\\"CHI\\\",\\\"income\\\":\\\"28.324032629702792\\\"},{\\\"time\\\":\\\"1957-01-01\\\",\\\"regions\\\":\\\"MAF\\\",\\\"income\\\":\\\"20.36002098749341\\\"},{\\\"time\\\":\\\"1957-01-01\\\",\\\"regions\\\":\\\"SSA\\\",\\\"income\\\":\\\"116.66765147464398\\\"},{\\\"time\\\":\\\"1957-01-01\\\",\\\"regions\\\":\\\"SIS\\\",\\\"income\\\":\\\"9.525107668397913\\\"},{\\\"time\\\":\\\"1958-01-01\\\",\\\"regions\\\":\\\"USA\\\",\\\"income\\\":\\\"2175.6216878411515\\\"},{\\\"time\\\":\\\"1958-01-01\\\",\\\"regions\\\":\\\"CAN\\\",\\\"income\\\":\\\"130.64911347464283\\\"},{\\\"time\\\":\\\"1958-01-01\\\",\\\"regions\\\":\\\"WEU\\\",\\\"income\\\":\\\"2502.0071373235005\\\"},{\\\"time\\\":\\\"1958-01-01\\\",\\\"regions\\\":\\\"JPK\\\",\\\"income\\\":\\\"885.8312541825824\\\"},{\\\"time\\\":\\\"1958-01-01\\\",\\\"regions\\\":\\\"ANZ\\\",\\\"income\\\":\\\"155.1977431496141\\\"},{\\\"time\\\":\\\"1958-01-01\\\",\\\"regions\\\":\\\"EEU\\\",\\\"income\\\":\\\"122.33680262362215\\\"},{\\\"time\\\":\\\"1958-01-01\\\",\\\"regions\\\":\\\"FSU\\\",\\\"income\\\":\\\"239.62872177799653\\\"},{\\\"time\\\":\\\"1958-01-01\\\",\\\"regions\\\":\\\"MDE\\\",\\\"income\\\":\\\"113.41963649715511\\\"},{\\\"time\\\":\\\"1958-01-01\\\",\\\"regions\\\":\\\"CAM\\\",\\\"income\\\":\\\"67.62123632077362\\\"},{\\\"time\\\":\\\"1958-01-01\\\",\\\"regions\\\":\\\"LAM\\\",\\\"income\\\":\\\"310.83152852507817\\\"},{\\\"time\\\":\\\"1958-01-01\\\",\\\"regions\\\":\\\"SAS\\\",\\\"income\\\":\\\"73.13859082797568\\\"},{\\\"time\\\":\\\"1958-01-01\\\",\\\"regions\\\":\\\"SEA\\\",\\\"income\\\":\\\"43.127723114827596\\\"},{\\\"time\\\":\\\"1958-01-01\\\",\\\"regions\\\":\\\"CHI\\\",\\\"income\\\":\\\"30.03160581678345\\\"},{\\\"time\\\":\\\"1958-01-01\\\",\\\"regions\\\":\\\"MAF\\\",\\\"income\\\":\\\"21.602727550370755\\\"},{\\\"time\\\":\\\"1958-01-01\\\",\\\"regions\\\":\\\"SSA\\\",\\\"income\\\":\\\"120.19947062055711\\\"},{\\\"time\\\":\\\"1958-01-01\\\",\\\"regions\\\":\\\"SIS\\\",\\\"income\\\":\\\"9.990472996220529\\\"},{\\\"time\\\":\\\"1959-01-01\\\",\\\"regions\\\":\\\"USA\\\",\\\"income\\\":\\\"2253.185230904184\\\"},{\\\"time\\\":\\\"1959-01-01\\\",\\\"regions\\\":\\\"CAN\\\",\\\"income\\\":\\\"137.89734442665005\\\"},{\\\"time\\\":\\\"1959-01-01\\\",\\\"regions\\\":\\\"WEU\\\",\\\"income\\\":\\\"2587.326879498137\\\"},{\\\"time\\\":\\\"1959-01-01\\\",\\\"regions\\\":\\\"JPK\\\",\\\"income\\\":\\\"926.9799653778559\\\"},{\\\"time\\\":\\\"1959-01-01\\\",\\\"regions\\\":\\\"ANZ\\\",\\\"income\\\":\\\"160.42659944413165\\\"},{\\\"time\\\":\\\"1959-01-01\\\",\\\"regions\\\":\\\"EEU\\\",\\\"income\\\":\\\"127.49445408063501\\\"},{\\\"time\\\":\\\"1959-01-01\\\",\\\"regions\\\":\\\"FSU\\\",\\\"income\\\":\\\"250.6347913055912\\\"},{\\\"time\\\":\\\"1959-01-01\\\",\\\"regions\\\":\\\"MDE\\\",\\\"income\\\":\\\"119.22743089464112\\\"},{\\\"time\\\":\\\"1959-01-01\\\",\\\"regions\\\":\\\"CAM\\\",\\\"income\\\":\\\"72.0929815804753\\\"},{\\\"time\\\":\\\"1959-01-01\\\",\\\"regions\\\":\\\"LAM\\\",\\\"income\\\":\\\"329.8808339328489\\\"},{\\\"time\\\":\\\"1959-01-01\\\",\\\"regions\\\":\\\"SAS\\\",\\\"income\\\":\\\"75.29449354453185\\\"},{\\\"time\\\":\\\"1959-01-01\\\",\\\"regions\\\":\\\"SEA\\\",\\\"income\\\":\\\"46.01205116320802\\\"},{\\\"time\\\":\\\"1959-01-01\\\",\\\"regions\\\":\\\"CHI\\\",\\\"income\\\":\\\"31.84212360315041\\\"},{\\\"time\\\":\\\"1959-01-01\\\",\\\"regions\\\":\\\"MAF\\\",\\\"income\\\":\\\"22.921284703105893\\\"},{\\\"time\\\":\\\"1959-01-01\\\",\\\"regions\\\":\\\"SSA\\\",\\\"income\\\":\\\"123.83820669092852\\\"},{\\\"time\\\":\\\"1959-01-01\\\",\\\"regions\\\":\\\"SIS\\\",\\\"income\\\":\\\"10.478574538254977\\\"},{\\\"time\\\":\\\"1960-01-01\\\",\\\"regions\\\":\\\"USA\\\",\\\"income\\\":\\\"2333.5140080362253\\\"},{\\\"time\\\":\\\"1960-01-01\\\",\\\"regions\\\":\\\"CAN\\\",\\\"income\\\":\\\"145.54769714233717\\\"},{\\\"time\\\":\\\"1960-01-01\\\",\\\"regions\\\":\\\"WEU\\\",\\\"income\\\":\\\"2675.5560691704063\\\"},{\\\"time\\\":\\\"1960-01-01\\\",\\\"regions\\\":\\\"JPK\\\",\\\"income\\\":\\\"970.0401201184292\\\"},{\\\"time\\\":\\\"1960-01-01\\\",\\\"regions\\\":\\\"ANZ\\\",\\\"income\\\":\\\"165.83162413899998\\\"},{\\\"time\\\":\\\"1960-01-01\\\",\\\"regions\\\":\\\"EEU\\\",\\\"income\\\":\\\"132.86954925026367\\\"},{\\\"time\\\":\\\"1960-01-01\\\",\\\"regions\\\":\\\"FSU\\\",\\\"income\\\":\\\"262.1463660395211\\\"},{\\\"time\\\":\\\"1960-01-01\\\",\\\"regions\\\":\\\"MDE\\\",\\\"income\\\":\\\"125.33262067096275\\\"},{\\\"time\\\":\\\"1960-01-01\\\",\\\"regions\\\":\\\"CAM\\\",\\\"income\\\":\\\"76.86044023963046\\\"},{\\\"time\\\":\\\"1960-01-01\\\",\\\"regions\\\":\\\"LAM\\\",\\\"income\\\":\\\"350.09757572727057\\\"},{\\\"time\\\":\\\"1960-01-01\\\",\\\"regions\\\":\\\"SAS\\\",\\\"income\\\":\\\"77.51394570154943\\\"},{\\\"time\\\":\\\"1960-01-01\\\",\\\"regions\\\":\\\"SEA\\\",\\\"income\\\":\\\"49.089279455093624\\\"},{\\\"time\\\":\\\"1960-01-01\\\",\\\"regions\\\":\\\"CHI\\\",\\\"income\\\":\\\"33.761792217972875\\\"},{\\\"time\\\":\\\"1960-01-01\\\",\\\"regions\\\":\\\"MAF\\\",\\\"income\\\":\\\"24.320322108206163\\\"},{\\\"time\\\":\\\"1960-01-01\\\",\\\"regions\\\":\\\"SSA\\\",\\\"income\\\":\\\"127.58709632621552\\\"},{\\\"time\\\":\\\"1960-01-01\\\",\\\"regions\\\":\\\"SIS\\\",\\\"income\\\":\\\"10.990523110898138\\\"},{\\\"time\\\":\\\"1961-01-01\\\",\\\"regions\\\":\\\"USA\\\",\\\"income\\\":\\\"2406.057177031765\\\"},{\\\"time\\\":\\\"1961-01-01\\\",\\\"regions\\\":\\\"CAN\\\",\\\"income\\\":\\\"152.23567764869273\\\"},{\\\"time\\\":\\\"1961-01-01\\\",\\\"regions\\\":\\\"WEU\\\",\\\"income\\\":\\\"2769.7624355561256\\\"},{\\\"time\\\":\\\"1961-01-01\\\",\\\"regions\\\":\\\"JPK\\\",\\\"income\\\":\\\"1014.9803396015806\\\"},{\\\"time\\\":\\\"1961-01-01\\\",\\\"regions\\\":\\\"ANZ\\\",\\\"income\\\":\\\"170.65223987118347\\\"},{\\\"time\\\":\\\"1961-01-01\\\",\\\"regions\\\":\\\"EEU\\\",\\\"income\\\":\\\"137.90380633189838\\\"},{\\\"time\\\":\\\"1961-01-01\\\",\\\"regions\\\":\\\"FSU\\\",\\\"income\\\":\\\"272.8340126960687\\\"},{\\\"time\\\":\\\"1961-01-01\\\",\\\"regions\\\":\\\"MDE\\\",\\\"income\\\":\\\"131.90822081619388\\\"},{\\\"time\\\":\\\"1961-01-01\\\",\\\"regions\\\":\\\"CAM\\\",\\\"income\\\":\\\"82.11908136015367\\\"},{\\\"time\\\":\\\"1961-01-01\\\",\\\"regions\\\":\\\"LAM\\\",\\\"income\\\":\\\"371.1194327059469\\\"},{\\\"time\\\":\\\"1961-01-01\\\",\\\"regions\\\":\\\"SAS\\\",\\\"income\\\":\\\"79.96129746239569\\\"},{\\\"time\\\":\\\"1961-01-01\\\",\\\"regions\\\":\\\"SEA\\\",\\\"income\\\":\\\"52.55180313090007\\\"},{\\\"time\\\":\\\"1961-01-01\\\",\\\"regions\\\":\\\"CHI\\\",\\\"income\\\":\\\"36.03123192934869\\\"},{\\\"time\\\":\\\"1961-01-01\\\",\\\"regions\\\":\\\"MAF\\\",\\\"income\\\":\\\"25.832223175252864\\\"},{\\\"time\\\":\\\"1961-01-01\\\",\\\"regions\\\":\\\"SSA\\\",\\\"income\\\":\\\"131.9251813607903\\\"},{\\\"time\\\":\\\"1961-01-01\\\",\\\"regions\\\":\\\"SIS\\\",\\\"income\\\":\\\"11.538796346808404\\\"},{\\\"time\\\":\\\"1962-01-01\\\",\\\"regions\\\":\\\"USA\\\",\\\"income\\\":\\\"2480.855533418421\\\"},{\\\"time\\\":\\\"1962-01-01\\\",\\\"regions\\\":\\\"CAN\\\",\\\"income\\\":\\\"159.23097379199478\\\"},{\\\"time\\\":\\\"1962-01-01\\\",\\\"regions\\\":\\\"WEU\\\",\\\"income\\\":\\\"2867.2858094117546\\\"},{\\\"time\\\":\\\"1962-01-01\\\",\\\"regions\\\":\\\"JPK\\\",\\\"income\\\":\\\"1062.0025588755727\\\"},{\\\"time\\\":\\\"1962-01-01\\\",\\\"regions\\\":\\\"ANZ\\\",\\\"income\\\":\\\"175.61298771723864\\\"},{\\\"time\\\":\\\"1962-01-01\\\",\\\"regions\\\":\\\"EEU\\\",\\\"income\\\":\\\"143.12880496799002\\\"},{\\\"time\\\":\\\"1962-01-01\\\",\\\"regions\\\":\\\"FSU\\\",\\\"income\\\":\\\"283.95739223261353\\\"},{\\\"time\\\":\\\"1962-01-01\\\",\\\"regions\\\":\\\"MDE\\\",\\\"income\\\":\\\"138.82881109279293\\\"},{\\\"time\\\":\\\"1962-01-01\\\",\\\"regions\\\":\\\"CAM\\\",\\\"income\\\":\\\"87.7375084297066\\\"},{\\\"time\\\":\\\"1962-01-01\\\",\\\"regions\\\":\\\"LAM\\\",\\\"income\\\":\\\"393.4035619808935\\\"},{\\\"time\\\":\\\"1962-01-01\\\",\\\"regions\\\":\\\"SAS\\\",\\\"income\\\":\\\"82.48591958520208\\\"},{\\\"time\\\":\\\"1962-01-01\\\",\\\"regions\\\":\\\"SEA\\\",\\\"income\\\":\\\"56.25855671471499\\\"},{\\\"time\\\":\\\"1962-01-01\\\",\\\"regions\\\":\\\"CHI\\\",\\\"income\\\":\\\"38.45322149857323\\\"},{\\\"time\\\":\\\"1962-01-01\\\",\\\"regions\\\":\\\"MAF\\\",\\\"income\\\":\\\"27.43811332790323\\\"},{\\\"time\\\":\\\"1962-01-01\\\",\\\"regions\\\":\\\"SSA\\\",\\\"income\\\":\\\"136.41076549448312\\\"},{\\\"time\\\":\\\"1962-01-01\\\",\\\"regions\\\":\\\"SIS\\\",\\\"income\\\":\\\"12.114420741365288\\\"},{\\\"time\\\":\\\"1963-01-01\\\",\\\"regions\\\":\\\"USA\\\",\\\"income\\\":\\\"2557.9791853847305\\\"},{\\\"time\\\":\\\"1963-01-01\\\",\\\"regions\\\":\\\"CAN\\\",\\\"income\\\":\\\"166.54770686051893\\\"},{\\\"time\\\":\\\"1963-01-01\\\",\\\"regions\\\":\\\"WEU\\\",\\\"income\\\":\\\"2968.2429826164152\\\"},{\\\"time\\\":\\\"1963-01-01\\\",\\\"regions\\\":\\\"JPK\\\",\\\"income\\\":\\\"1111.2032332576898\\\"},{\\\"time\\\":\\\"1963-01-01\\\",\\\"regions\\\":\\\"ANZ\\\",\\\"income\\\":\\\"180.71794122511645\\\"},{\\\"time\\\":\\\"1963-01-01\\\",\\\"regions\\\":\\\"EEU\\\",\\\"income\\\":\\\"148.55177211179242\\\"},{\\\"time\\\":\\\"1963-01-01\\\",\\\"regions\\\":\\\"FSU\\\",\\\"income\\\":\\\"295.5342693778009\\\"},{\\\"time\\\":\\\"1963-01-01\\\",\\\"regions\\\":\\\"MDE\\\",\\\"income\\\":\\\"146.11249147461973\\\"},{\\\"time\\\":\\\"1963-01-01\\\",\\\"regions\\\":\\\"CAM\\\",\\\"income\\\":\\\"93.74033729982816\\\"},{\\\"time\\\":\\\"1963-01-01\\\",\\\"regions\\\":\\\"LAM\\\",\\\"income\\\":\\\"417.0257575864599\\\"},{\\\"time\\\":\\\"1963-01-01\\\",\\\"regions\\\":\\\"SAS\\\",\\\"income\\\":\\\"85.09025173104757\\\"},{\\\"time\\\":\\\"1963-01-01\\\",\\\"regions\\\":\\\"SEA\\\",\\\"income\\\":\\\"60.22676701956573\\\"},{\\\"time\\\":\\\"1963-01-01\\\",\\\"regions\\\":\\\"CHI\\\",\\\"income\\\":\\\"41.03801520074927\\\"},{\\\"time\\\":\\\"1963-01-01\\\",\\\"regions\\\":\\\"MAF\\\",\\\"income\\\":\\\"29.143835506813343\\\"},{\\\"time\\\":\\\"1963-01-01\\\",\\\"regions\\\":\\\"SSA\\\",\\\"income\\\":\\\"141.0488638397381\\\"},{\\\"time\\\":\\\"1963-01-01\\\",\\\"regions\\\":\\\"SIS\\\",\\\"income\\\":\\\"12.718760734469038\\\"},{\\\"time\\\":\\\"1964-01-01\\\",\\\"regions\\\":\\\"USA\\\",\\\"income\\\":\\\"2637.500420609112\\\"},{\\\"time\\\":\\\"1964-01-01\\\",\\\"regions\\\":\\\"CAN\\\",\\\"income\\\":\\\"174.2006470219292\\\"},{\\\"time\\\":\\\"1964-01-01\\\",\\\"regions\\\":\\\"WEU\\\",\\\"income\\\":\\\"3072.7548592929165\\\"},{\\\"time\\\":\\\"1964-01-01\\\",\\\"regions\\\":\\\"JPK\\\",\\\"income\\\":\\\"1162.6832866671214\\\"},{\\\"time\\\":\\\"1964-01-01\\\",\\\"regions\\\":\\\"ANZ\\\",\\\"income\\\":\\\"185.971292358115\\\"},{\\\"time\\\":\\\"1964-01-01\\\",\\\"regions\\\":\\\"EEU\\\",\\\"income\\\":\\\"154.18020853656407\\\"},{\\\"time\\\":\\\"1964-01-01\\\",\\\"regions\\\":\\\"FSU\\\",\\\"income\\\":\\\"307.58313312415055\\\"},{\\\"time\\\":\\\"1964-01-01\\\",\\\"regions\\\":\\\"MDE\\\",\\\"income\\\":\\\"153.77831155415777\\\"},{\\\"time\\\":\\\"1964-01-01\\\",\\\"regions\\\":\\\"CAM\\\",\\\"income\\\":\\\"100.15386799051525\\\"},{\\\"time\\\":\\\"1964-01-01\\\",\\\"regions\\\":\\\"LAM\\\",\\\"income\\\":\\\"442.0663646634881\\\"},{\\\"time\\\":\\\"1964-01-01\\\",\\\"regions\\\":\\\"SAS\\\",\\\"income\\\":\\\"87.77681058855478\\\"},{\\\"time\\\":\\\"1964-01-01\\\",\\\"regions\\\":\\\"SEA\\\",\\\"income\\\":\\\"64.47487595571933\\\"},{\\\"time\\\":\\\"1964-01-01\\\",\\\"regions\\\":\\\"CHI\\\",\\\"income\\\":\\\"43.796556594859446\\\"},{\\\"time\\\":\\\"1964-01-01\\\",\\\"regions\\\":\\\"MAF\\\",\\\"income\\\":\\\"30.95559588583057\\\"},{\\\"time\\\":\\\"1964-01-01\\\",\\\"regions\\\":\\\"SSA\\\",\\\"income\\\":\\\"145.84466202768712\\\"},{\\\"time\\\":\\\"1964-01-01\\\",\\\"regions\\\":\\\"SIS\\\",\\\"income\\\":\\\"13.353248832468761\\\"},{\\\"time\\\":\\\"1965-01-01\\\",\\\"regions\\\":\\\"USA\\\",\\\"income\\\":\\\"2719.4937740148075\\\"},{\\\"time\\\":\\\"1965-01-01\\\",\\\"regions\\\":\\\"CAN\\\",\\\"income\\\":\\\"182.20524313957054\\\"},{\\\"time\\\":\\\"1965-01-01\\\",\\\"regions\\\":\\\"WEU\\\",\\\"income\\\":\\\"3180.9466005999125\\\"},{\\\"time\\\":\\\"1965-01-01\\\",\\\"regions\\\":\\\"JPK\\\",\\\"income\\\":\\\"1216.5483186472761\\\"},{\\\"time\\\":\\\"1965-01-01\\\",\\\"regions\\\":\\\"ANZ\\\",\\\"income\\\":\\\"191.37735493713538\\\"},{\\\"time\\\":\\\"1965-01-01\\\",\\\"regions\\\":\\\"EEU\\\",\\\"income\\\":\\\"160.0218992102575\\\"},{\\\"time\\\":\\\"1965-01-01\\\",\\\"regions\\\":\\\"FSU\\\",\\\"income\\\":\\\"320.1232262561269\\\"},{\\\"time\\\":\\\"1965-01-01\\\",\\\"regions\\\":\\\"MDE\\\",\\\"income\\\":\\\"161.8463203644386\\\"},{\\\"time\\\":\\\"1965-01-01\\\",\\\"regions\\\":\\\"CAM\\\",\\\"income\\\":\\\"107.00619991773749\\\"},{\\\"time\\\":\\\"1965-01-01\\\",\\\"regions\\\":\\\"LAM\\\",\\\"income\\\":\\\"468.6105527337266\\\"},{\\\"time\\\":\\\"1965-01-01\\\",\\\"regions\\\":\\\"SAS\\\",\\\"income\\\":\\\"90.54819230588457\\\"},{\\\"time\\\":\\\"1965-01-01\\\",\\\"regions\\\":\\\"SEA\\\",\\\"income\\\":\\\"69.02262623784732\\\"},{\\\"time\\\":\\\"1965-01-01\\\",\\\"regions\\\":\\\"CHI\\\",\\\"income\\\":\\\"46.740524856857725\\\"},{\\\"time\\\":\\\"1965-01-01\\\",\\\"regions\\\":\\\"MAF\\\",\\\"income\\\":\\\"32.879986452806726\\\"},{\\\"time\\\":\\\"1965-01-01\\\",\\\"regions\\\":\\\"SSA\\\",\\\"income\\\":\\\"150.80352200595067\\\"},{\\\"time\\\":\\\"1965-01-01\\\",\\\"regions\\\":\\\"SIS\\\",\\\"income\\\":\\\"14.0193890037253\\\"},{\\\"time\\\":\\\"1966-01-01\\\",\\\"regions\\\":\\\"USA\\\",\\\"income\\\":\\\"2804.0360976311536\\\"},{\\\"time\\\":\\\"1966-01-01\\\",\\\"regions\\\":\\\"CAN\\\",\\\"income\\\":\\\"190.57765395883288\\\"},{\\\"time\\\":\\\"1966-01-01\\\",\\\"regions\\\":\\\"WEU\\\",\\\"income\\\":\\\"3292.9477746221933\\\"},{\\\"time\\\":\\\"1966-01-01\\\",\\\"regions\\\":\\\"JPK\\\",\\\"income\\\":\\\"1272.908820979069\\\"},{\\\"time\\\":\\\"1966-01-01\\\",\\\"regions\\\":\\\"ANZ\\\",\\\"income\\\":\\\"196.94056818300174\\\"},{\\\"time\\\":\\\"1966-01-01\\\",\\\"regions\\\":\\\"EEU\\\",\\\"income\\\":\\\"166.08492406329222\\\"},{\\\"time\\\":\\\"1966-01-01\\\",\\\"regions\\\":\\\"FSU\\\",\\\"income\\\":\\\"333.17457608206234\\\"},{\\\"time\\\":\\\"1966-01-01\\\",\\\"regions\\\":\\\"MDE\\\",\\\"income\\\":\\\"170.33761881488334\\\"},{\\\"time\\\":\\\"1966-01-01\\\",\\\"regions\\\":\\\"CAM\\\",\\\"income\\\":\\\"114.32735500459322\\\"},{\\\"time\\\":\\\"1966-01-01\\\",\\\"regions\\\":\\\"LAM\\\",\\\"income\\\":\\\"496.7486053831998\\\"},{\\\"time\\\":\\\"1966-01-01\\\",\\\"regions\\\":\\\"SAS\\\",\\\"income\\\":\\\"93.40707499951608\\\"},{\\\"time\\\":\\\"1966-01-01\\\",\\\"regions\\\":\\\"SEA\\\",\\\"income\\\":\\\"73.89115313756507\\\"},{\\\"time\\\":\\\"1966-01-01\\\",\\\"regions\\\":\\\"CHI\\\",\\\"income\\\":\\\"49.88238422723301\\\"},{\\\"time\\\":\\\"1966-01-01\\\",\\\"regions\\\":\\\"MAF\\\",\\\"income\\\":\\\"34.924008994173725\\\"},{\\\"time\\\":\\\"1966-01-01\\\",\\\"regions\\\":\\\"SSA\\\",\\\"income\\\":\\\"155.93098803356935\\\"},{\\\"time\\\":\\\"1966-01-01\\\",\\\"regions\\\":\\\"SIS\\\",\\\"income\\\":\\\"14.718760243565141\\\"},{\\\"time\\\":\\\"1967-01-01\\\",\\\"regions\\\":\\\"USA\\\",\\\"income\\\":\\\"2891.206632626671\\\"},{\\\"time\\\":\\\"1967-01-01\\\",\\\"regions\\\":\\\"CAN\\\",\\\"income\\\":\\\"199.33478072654248\\\"},{\\\"time\\\":\\\"1967-01-01\\\",\\\"regions\\\":\\\"WEU\\\",\\\"income\\\":\\\"3408.8925115386146\\\"},{\\\"time\\\":\\\"1967-01-01\\\",\\\"regions\\\":\\\"JPK\\\",\\\"income\\\":\\\"1331.8804043295133\\\"},{\\\"time\\\":\\\"1967-01-01\\\",\\\"regions\\\":\\\"ANZ\\\",\\\"income\\\":\\\"202.6655003617541\\\"},{\\\"time\\\":\\\"1967-01-01\\\",\\\"regions\\\":\\\"EEU\\\",\\\"income\\\":\\\"172.37766916430513\\\"},{\\\"time\\\":\\\"1967-01-01\\\",\\\"regions\\\":\\\"FSU\\\",\\\"income\\\":\\\"346.75802641901373\\\"},{\\\"time\\\":\\\"1967-01-01\\\",\\\"regions\\\":\\\"MDE\\\",\\\"income\\\":\\\"179.2744148782004\\\"},{\\\"time\\\":\\\"1967-01-01\\\",\\\"regions\\\":\\\"CAM\\\",\\\"income\\\":\\\"122.14940921549035\\\"},{\\\"time\\\":\\\"1967-01-01\\\",\\\"regions\\\":\\\"LAM\\\",\\\"income\\\":\\\"526.5762273398209\\\"},{\\\"time\\\":\\\"1967-01-01\\\",\\\"regions\\\":\\\"SAS\\\",\\\"income\\\":\\\"96.35622134223664\\\"},{\\\"time\\\":\\\"1967-01-01\\\",\\\"regions\\\":\\\"SEA\\\",\\\"income\\\":\\\"79.10308270775784\\\"},{\\\"time\\\":\\\"1967-01-01\\\",\\\"regions\\\":\\\"CHI\\\",\\\"income\\\":\\\"53.235436782396995\\\"},{\\\"time\\\":\\\"1967-01-01\\\",\\\"regions\\\":\\\"MAF\\\",\\\"income\\\":\\\"37.095100570548176\\\"},{\\\"time\\\":\\\"1967-01-01\\\",\\\"regions\\\":\\\"SSA\\\",\\\"income\\\":\\\"161.2327928797691\\\"},{\\\"time\\\":\\\"1967-01-01\\\",\\\"regions\\\":\\\"SIS\\\",\\\"income\\\":\\\"15.453020317075634\\\"},{\\\"time\\\":\\\"1968-01-01\\\",\\\"regions\\\":\\\"USA\\\",\\\"income\\\":\\\"2981.0870835814812\\\"},{\\\"time\\\":\\\"1968-01-01\\\",\\\"regions\\\":\\\"CAN\\\",\\\"income\\\":\\\"208.4943013092284\\\"},{\\\"time\\\":\\\"1968-01-01\\\",\\\"regions\\\":\\\"WEU\\\",\\\"income\\\":\\\"3528.9196642534953\\\"},{\\\"time\\\":\\\"1968-01-01\\\",\\\"regions\\\":\\\"JPK\\\",\\\"income\\\":\\\"1393.5840354005347\\\"},{\\\"time\\\":\\\"1968-01-01\\\",\\\"regions\\\":\\\"ANZ\\\",\\\"income\\\":\\\"208.55685253590764\\\"},{\\\"time\\\":\\\"1968-01-01\\\",\\\"regions\\\":\\\"EEU\\\",\\\"income\\\":\\\"178.90883831933533\\\"},{\\\"time\\\":\\\"1968-01-01\\\",\\\"regions\\\":\\\"FSU\\\",\\\"income\\\":\\\"360.89527088163385\\\"},{\\\"time\\\":\\\"1968-01-01\\\",\\\"regions\\\":\\\"MDE\\\",\\\"income\\\":\\\"188.68008167267467\\\"},{\\\"time\\\":\\\"1968-01-01\\\",\\\"regions\\\":\\\"CAM\\\",\\\"income\\\":\\\"130.5066330896387\\\"},{\\\"time\\\":\\\"1968-01-01\\\",\\\"regions\\\":\\\"LAM\\\",\\\"income\\\":\\\"558.1948699896975\\\"},{\\\"time\\\":\\\"1968-01-01\\\",\\\"regions\\\":\\\"SAS\\\",\\\"income\\\":\\\"99.39848123284237\\\"},{\\\"time\\\":\\\"1968-01-01\\\",\\\"regions\\\":\\\"SEA\\\",\\\"income\\\":\\\"84.68263693518226\\\"},{\\\"time\\\":\\\"1968-01-01\\\",\\\"regions\\\":\\\"CHI\\\",\\\"income\\\":\\\"56.81387875332097\\\"},{\\\"time\\\":\\\"1968-01-01\\\",\\\"regions\\\":\\\"MAF\\\",\\\"income\\\":\\\"39.4011605760566\\\"},{\\\"time\\\":\\\"1968-01-01\\\",\\\"regions\\\":\\\"SSA\\\",\\\"income\\\":\\\"166.71486423349037\\\"},{\\\"time\\\":\\\"1968-01-01\\\",\\\"regions\\\":\\\"SIS\\\",\\\"income\\\":\\\"16.22390968861327\\\"},{\\\"time\\\":\\\"1969-01-01\\\",\\\"regions\\\":\\\"USA\\\",\\\"income\\\":\\\"3073.761695068671\\\"},{\\\"time\\\":\\\"1969-01-01\\\",\\\"regions\\\":\\\"CAN\\\",\\\"income\\\":\\\"218.07470587913852\\\"},{\\\"time\\\":\\\"1969-01-01\\\",\\\"regions\\\":\\\"WEU\\\",\\\"income\\\":\\\"3653.172974683844\\\"},{\\\"time\\\":\\\"1969-01-01\\\",\\\"regions\\\":\\\"JPK\\\",\\\"income\\\":\\\"1458.146285064466\\\"},{\\\"time\\\":\\\"1969-01-01\\\",\\\"regions\\\":\\\"ANZ\\\",\\\"income\\\":\\\"214.6194624247583\\\"},{\\\"time\\\":\\\"1969-01-01\\\",\\\"regions\\\":\\\"EEU\\\",\\\"income\\\":\\\"185.68746511048752\\\"},{\\\"time\\\":\\\"1969-01-01\\\",\\\"regions\\\":\\\"FSU\\\",\\\"income\\\":\\\"375.6088875282229\\\"},{\\\"time\\\":\\\"1969-01-01\\\",\\\"regions\\\":\\\"MDE\\\",\\\"income\\\":\\\"198.5792185917553\\\"},{\\\"time\\\":\\\"1969-01-01\\\",\\\"regions\\\":\\\"CAM\\\",\\\"income\\\":\\\"139.4356418895694\\\"},{\\\"time\\\":\\\"1969-01-01\\\",\\\"regions\\\":\\\"LAM\\\",\\\"income\\\":\\\"591.7120764392943\\\"},{\\\"time\\\":\\\"1969-01-01\\\",\\\"regions\\\":\\\"SAS\\\",\\\"income\\\":\\\"102.53679455012946\\\"},{\\\"time\\\":\\\"1969-01-01\\\",\\\"regions\\\":\\\"SEA\\\",\\\"income\\\":\\\"90.655746310031\\\"},{\\\"time\\\":\\\"1969-01-01\\\",\\\"regions\\\":\\\"CHI\\\",\\\"income\\\":\\\"60.632860629864815\\\"},{\\\"time\\\":\\\"1969-01-01\\\",\\\"regions\\\":\\\"MAF\\\",\\\"income\\\":\\\"41.850579479834934\\\"},{\\\"time\\\":\\\"1969-01-01\\\",\\\"regions\\\":\\\"SSA\\\",\\\"income\\\":\\\"172.38333133084737\\\"},{\\\"time\\\":\\\"1969-01-01\\\",\\\"regions\\\":\\\"SIS\\\",\\\"income\\\":\\\"17.03325564733943\\\"},{\\\"time\\\":\\\"1970-01-01\\\",\\\"regions\\\":\\\"USA\\\",\\\"income\\\":\\\"3169.3173306163803\\\"},{\\\"time\\\":\\\"1970-01-01\\\",\\\"regions\\\":\\\"CAN\\\",\\\"income\\\":\\\"228.09533424004343\\\"},{\\\"time\\\":\\\"1970-01-01\\\",\\\"regions\\\":\\\"WEU\\\",\\\"income\\\":\\\"3781.8012459015667\\\"},{\\\"time\\\":\\\"1970-01-01\\\",\\\"regions\\\":\\\"JPK\\\",\\\"income\\\":\\\"1525.6995879952135\\\"},{\\\"time\\\":\\\"1970-01-01\\\",\\\"regions\\\":\\\"ANZ\\\",\\\"income\\\":\\\"220.85830837690523\\\"},{\\\"time\\\":\\\"1970-01-01\\\",\\\"regions\\\":\\\"EEU\\\",\\\"income\\\":\\\"192.72292539072484\\\"},{\\\"time\\\":\\\"1970-01-01\\\",\\\"regions\\\":\\\"FSU\\\",\\\"income\\\":\\\"390.92237491929114\\\"},{\\\"time\\\":\\\"1970-01-01\\\",\\\"regions\\\":\\\"MDE\\\",\\\"income\\\":\\\"208.99771564081885\\\"},{\\\"time\\\":\\\"1970-01-01\\\",\\\"regions\\\":\\\"CAM\\\",\\\"income\\\":\\\"148.9755560225224\\\"},{\\\"time\\\":\\\"1970-01-01\\\",\\\"regions\\\":\\\"LAM\\\",\\\"income\\\":\\\"627.2418472970978\\\"},{\\\"time\\\":\\\"1970-01-01\\\",\\\"regions\\\":\\\"SAS\\\",\\\"income\\\":\\\"105.77419399383723\\\"},{\\\"time\\\":\\\"1970-01-01\\\",\\\"regions\\\":\\\"SEA\\\",\\\"income\\\":\\\"97.0501703356176\\\"},{\\\"time\\\":\\\"1970-01-01\\\",\\\"regions\\\":\\\"CHI\\\",\\\"income\\\":\\\"64.70855130526915\\\"},{\\\"time\\\":\\\"1970-01-01\\\",\\\"regions\\\":\\\"MAF\\\",\\\"income\\\":\\\"44.45226935427682\\\"},{\\\"time\\\":\\\"1970-01-01\\\",\\\"regions\\\":\\\"SSA\\\",\\\"income\\\":\\\"178.2445318079276\\\"},{\\\"time\\\":\\\"1970-01-01\\\",\\\"regions\\\":\\\"SIS\\\",\\\"income\\\":\\\"17.882976638562607\\\"},{\\\"time\\\":\\\"1971-01-01\\\",\\\"regions\\\":\\\"USA\\\",\\\"income\\\":\\\"3258.416275203837\\\"},{\\\"time\\\":\\\"1971-01-01\\\",\\\"regions\\\":\\\"CAN\\\",\\\"income\\\":\\\"237.81445955295692\\\"},{\\\"time\\\":\\\"1971-01-01\\\",\\\"regions\\\":\\\"WEU\\\",\\\"income\\\":\\\"3901.593837438329\\\"},{\\\"time\\\":\\\"1971-01-01\\\",\\\"regions\\\":\\\"JPK\\\",\\\"income\\\":\\\"1595.4059890858148\\\"},{\\\"time\\\":\\\"1971-01-01\\\",\\\"regions\\\":\\\"ANZ\\\",\\\"income\\\":\\\"225.6053768941277\\\"},{\\\"time\\\":\\\"1971-01-01\\\",\\\"regions\\\":\\\"EEU\\\",\\\"income\\\":\\\"200.04874976030828\\\"},{\\\"time\\\":\\\"1971-01-01\\\",\\\"regions\\\":\\\"FSU\\\",\\\"income\\\":\\\"405.41364707279104\\\"},{\\\"time\\\":\\\"1971-01-01\\\",\\\"regions\\\":\\\"MDE\\\",\\\"income\\\":\\\"220.45910495135774\\\"},{\\\"time\\\":\\\"1971-01-01\\\",\\\"regions\\\":\\\"CAM\\\",\\\"income\\\":\\\"158.79326339869866\\\"},{\\\"time\\\":\\\"1971-01-01\\\",\\\"regions\\\":\\\"LAM\\\",\\\"income\\\":\\\"662.8904591379979\\\"},{\\\"time\\\":\\\"1971-01-01\\\",\\\"regions\\\":\\\"SAS\\\",\\\"income\\\":\\\"109.02000627538385\\\"},{\\\"time\\\":\\\"1971-01-01\\\",\\\"regions\\\":\\\"SEA\\\",\\\"income\\\":\\\"103.73543147038666\\\"},{\\\"time\\\":\\\"1971-01-01\\\",\\\"regions\\\":\\\"CHI\\\",\\\"income\\\":\\\"68.7148682782043\\\"},{\\\"time\\\":\\\"1971-01-01\\\",\\\"regions\\\":\\\"MAF\\\",\\\"income\\\":\\\"47.21155041130702\\\"},{\\\"time\\\":\\\"1971-01-01\\\",\\\"regions\\\":\\\"SSA\\\",\\\"income\\\":\\\"184.59240601011757\\\"},{\\\"time\\\":\\\"1971-01-01\\\",\\\"regions\\\":\\\"SIS\\\",\\\"income\\\":\\\"18.71066249366469\\\"},{\\\"time\\\":\\\"1972-01-01\\\",\\\"regions\\\":\\\"USA\\\",\\\"income\\\":\\\"3350.0200563533854\\\"},{\\\"time\\\":\\\"1972-01-01\\\",\\\"regions\\\":\\\"CAN\\\",\\\"income\\\":\\\"247.94771607623838\\\"},{\\\"time\\\":\\\"1972-01-01\\\",\\\"regions\\\":\\\"WEU\\\",\\\"income\\\":\\\"4025.18098719061\\\"},{\\\"time\\\":\\\"1972-01-01\\\",\\\"regions\\\":\\\"JPK\\\",\\\"income\\\":\\\"1668.2971471175833\\\"},{\\\"time\\\":\\\"1972-01-01\\\",\\\"regions\\\":\\\"ANZ\\\",\\\"income\\\":\\\"230.4544776132302\\\"},{\\\"time\\\":\\\"1972-01-01\\\",\\\"regions\\\":\\\"EEU\\\",\\\"income\\\":\\\"207.6530449064492\\\"},{\\\"time\\\":\\\"1972-01-01\\\",\\\"regions\\\":\\\"FSU\\\",\\\"income\\\":\\\"420.44210251918935\\\"},{\\\"time\\\":\\\"1972-01-01\\\",\\\"regions\\\":\\\"MDE\\\",\\\"income\\\":\\\"232.5490343611267\\\"},{\\\"time\\\":\\\"1972-01-01\\\",\\\"regions\\\":\\\"CAM\\\",\\\"income\\\":\\\"169.25797207292445\\\"},{\\\"time\\\":\\\"1972-01-01\\\",\\\"regions\\\":\\\"LAM\\\",\\\"income\\\":\\\"700.5651212682073\\\"},{\\\"time\\\":\\\"1972-01-01\\\",\\\"regions\\\":\\\"SAS\\\",\\\"income\\\":\\\"112.36542033094779\\\"},{\\\"time\\\":\\\"1972-01-01\\\",\\\"regions\\\":\\\"SEA\\\",\\\"income\\\":\\\"110.88120407345606\\\"},{\\\"time\\\":\\\"1972-01-01\\\",\\\"regions\\\":\\\"CHI\\\",\\\"income\\\":\\\"72.9692293714893\\\"},{\\\"time\\\":\\\"1972-01-01\\\",\\\"regions\\\":\\\"MAF\\\",\\\"income\\\":\\\"50.1421080322176\\\"},{\\\"time\\\":\\\"1972-01-01\\\",\\\"regions\\\":\\\"SSA\\\",\\\"income\\\":\\\"191.16634889715365\\\"},{\\\"time\\\":\\\"1972-01-01\\\",\\\"regions\\\":\\\"SIS\\\",\\\"income\\\":\\\"19.576656505657095\\\"},{\\\"time\\\":\\\"1973-01-01\\\",\\\"regions\\\":\\\"USA\\\",\\\"income\\\":\\\"3444.199092477183\\\"},{\\\"time\\\":\\\"1973-01-01\\\",\\\"regions\\\":\\\"CAN\\\",\\\"income\\\":\\\"258.5127499101159\\\"},{\\\"time\\\":\\\"1973-01-01\\\",\\\"regions\\\":\\\"WEU\\\",\\\"income\\\":\\\"4152.682891840576\\\"},{\\\"time\\\":\\\"1973-01-01\\\",\\\"regions\\\":\\\"JPK\\\",\\\"income\\\":\\\"1744.5185677631061\\\"},{\\\"time\\\":\\\"1973-01-01\\\",\\\"regions\\\":\\\"ANZ\\\",\\\"income\\\":\\\"235.40780358665828\\\"},{\\\"time\\\":\\\"1973-01-01\\\",\\\"regions\\\":\\\"EEU\\\",\\\"income\\\":\\\"215.5463961188685\\\"},{\\\"time\\\":\\\"1973-01-01\\\",\\\"regions\\\":\\\"FSU\\\",\\\"income\\\":\\\"436.027654340451\\\"},{\\\"time\\\":\\\"1973-01-01\\\",\\\"regions\\\":\\\"MDE\\\",\\\"income\\\":\\\"245.30197287258574\\\"},{\\\"time\\\":\\\"1973-01-01\\\",\\\"regions\\\":\\\"CAM\\\",\\\"income\\\":\\\"180.41232037853345\\\"},{\\\"time\\\":\\\"1973-01-01\\\",\\\"regions\\\":\\\"LAM\\\",\\\"income\\\":\\\"740.3809820641377\\\"},{\\\"time\\\":\\\"1973-01-01\\\",\\\"regions\\\":\\\"SAS\\\",\\\"income\\\":\\\"115.81349256445105\\\"},{\\\"time\\\":\\\"1973-01-01\\\",\\\"regions\\\":\\\"SEA\\\",\\\"income\\\":\\\"118.51921028823368\\\"},{\\\"time\\\":\\\"1973-01-01\\\",\\\"regions\\\":\\\"CHI\\\",\\\"income\\\":\\\"77.48699180375057\\\"},{\\\"time\\\":\\\"1973-01-01\\\",\\\"regions\\\":\\\"MAF\\\",\\\"income\\\":\\\"53.25457384920852\\\"},{\\\"time\\\":\\\"1973-01-01\\\",\\\"regions\\\":\\\"SSA\\\",\\\"income\\\":\\\"197.9744115186692\\\"},{\\\"time\\\":\\\"1973-01-01\\\",\\\"regions\\\":\\\"SIS\\\",\\\"income\\\":\\\"20.48273170820385\\\"},{\\\"time\\\":\\\"1974-01-01\\\",\\\"regions\\\":\\\"USA\\\",\\\"income\\\":\\\"3541.0257816585754\\\"},{\\\"time\\\":\\\"1974-01-01\\\",\\\"regions\\\":\\\"CAN\\\",\\\"income\\\":\\\"269.5279590538424\\\"},{\\\"time\\\":\\\"1974-01-01\\\",\\\"regions\\\":\\\"WEU\\\",\\\"income\\\":\\\"4284.2235554286135\\\"},{\\\"time\\\":\\\"1974-01-01\\\",\\\"regions\\\":\\\"JPK\\\",\\\"income\\\":\\\"1824.2224045808675\\\"},{\\\"time\\\":\\\"1974-01-01\\\",\\\"regions\\\":\\\"ANZ\\\",\\\"income\\\":\\\"240.4675950037312\\\"},{\\\"time\\\":\\\"1974-01-01\\\",\\\"regions\\\":\\\"EEU\\\",\\\"income\\\":\\\"223.73979105754603\\\"},{\\\"time\\\":\\\"1974-01-01\\\",\\\"regions\\\":\\\"FSU\\\",\\\"income\\\":\\\"452.1909537852684\\\"},{\\\"time\\\":\\\"1974-01-01\\\",\\\"regions\\\":\\\"MDE\\\",\\\"income\\\":\\\"258.75427976079965\\\"},{\\\"time\\\":\\\"1974-01-01\\\",\\\"regions\\\":\\\"CAM\\\",\\\"income\\\":\\\"192.30175657748694\\\"},{\\\"time\\\":\\\"1974-01-01\\\",\\\"regions\\\":\\\"LAM\\\",\\\"income\\\":\\\"782.4597342356066\\\"},{\\\"time\\\":\\\"1974-01-01\\\",\\\"regions\\\":\\\"SAS\\\",\\\"income\\\":\\\"119.36737316935933\\\"},{\\\"time\\\":\\\"1974-01-01\\\",\\\"regions\\\":\\\"SEA\\\",\\\"income\\\":\\\"126.6833574249509\\\"},{\\\"time\\\":\\\"1974-01-01\\\",\\\"regions\\\":\\\"CHI\\\",\\\"income\\\":\\\"82.28446360899208\\\"},{\\\"time\\\":\\\"1974-01-01\\\",\\\"regions\\\":\\\"MAF\\\",\\\"income\\\":\\\"56.5602394306711\\\"},{\\\"time\\\":\\\"1974-01-01\\\",\\\"regions\\\":\\\"SSA\\\",\\\"income\\\":\\\"205.02493164866294\\\"},{\\\"time\\\":\\\"1974-01-01\\\",\\\"regions\\\":\\\"SIS\\\",\\\"income\\\":\\\"21.430743197083917\\\"},{\\\"time\\\":\\\"1975-01-01\\\",\\\"regions\\\":\\\"USA\\\",\\\"income\\\":\\\"3640.574557306545\\\"},{\\\"time\\\":\\\"1975-01-01\\\",\\\"regions\\\":\\\"CAN\\\",\\\"income\\\":\\\"281.0125254440576\\\"},{\\\"time\\\":\\\"1975-01-01\\\",\\\"regions\\\":\\\"WEU\\\",\\\"income\\\":\\\"4419.93090995546\\\"},{\\\"time\\\":\\\"1975-01-01\\\",\\\"regions\\\":\\\"JPK\\\",\\\"income\\\":\\\"1907.5677627448981\\\"},{\\\"time\\\":\\\"1975-01-01\\\",\\\"regions\\\":\\\"ANZ\\\",\\\"income\\\":\\\"245.63614020378932\\\"},{\\\"time\\\":\\\"1975-01-01\\\",\\\"regions\\\":\\\"EEU\\\",\\\"income\\\":\\\"232.24463504770353\\\"},{\\\"time\\\":\\\"1975-01-01\\\",\\\"regions\\\":\\\"FSU\\\",\\\"income\\\":\\\"468.9534176324859\\\"},{\\\"time\\\":\\\"1975-01-01\\\",\\\"regions\\\":\\\"MDE\\\",\\\"income\\\":\\\"272.9443082355769\\\"},{\\\"time\\\":\\\"1975-01-01\\\",\\\"regions\\\":\\\"CAM\\\",\\\"income\\\":\\\"204.97472403878655\\\"},{\\\"time\\\":\\\"1975-01-01\\\",\\\"regions\\\":\\\"LAM\\\",\\\"income\\\":\\\"826.9299867659468\\\"},{\\\"time\\\":\\\"1975-01-01\\\",\\\"regions\\\":\\\"SAS\\\",\\\"income\\\":\\\"123.03030900673038\\\"},{\\\"time\\\":\\\"1975-01-01\\\",\\\"regions\\\":\\\"SEA\\\",\\\"income\\\":\\\"135.40988848498208\\\"},{\\\"time\\\":\\\"1975-01-01\\\",\\\"regions\\\":\\\"CHI\\\",\\\"income\\\":\\\"87.37896250466935\\\"},{\\\"time\\\":\\\"1975-01-01\\\",\\\"regions\\\":\\\"MAF\\\",\\\"income\\\":\\\"60.07109724533806\\\"},{\\\"time\\\":\\\"1975-01-01\\\",\\\"regions\\\":\\\"SSA\\\",\\\"income\\\":\\\"212.32654399669698\\\"},{\\\"time\\\":\\\"1975-01-01\\\",\\\"regions\\\":\\\"SIS\\\",\\\"income\\\":\\\"22.42263192830899\\\"},{\\\"time\\\":\\\"1976-01-01\\\",\\\"regions\\\":\\\"USA\\\",\\\"income\\\":\\\"3742.9219453747746\\\"},{\\\"time\\\":\\\"1976-01-01\\\",\\\"regions\\\":\\\"CAN\\\",\\\"income\\\":\\\"292.98644835830197\\\"},{\\\"time\\\":\\\"1976-01-01\\\",\\\"regions\\\":\\\"WEU\\\",\\\"income\\\":\\\"4559.9369398045465\\\"},{\\\"time\\\":\\\"1976-01-01\\\",\\\"regions\\\":\\\"JPK\\\",\\\"income\\\":\\\"1994.721016651272\\\"},{\\\"time\\\":\\\"1976-01-01\\\",\\\"regions\\\":\\\"ANZ\\\",\\\"income\\\":\\\"250.91577671111747\\\"},{\\\"time\\\":\\\"1976-01-01\\\",\\\"regions\\\":\\\"EEU\\\",\\\"income\\\":\\\"241.07276695618359\\\"},{\\\"time\\\":\\\"1976-01-01\\\",\\\"regions\\\":\\\"FSU\\\",\\\"income\\\":\\\"486.3372565688714\\\"},{\\\"time\\\":\\\"1976-01-01\\\",\\\"regions\\\":\\\"MDE\\\",\\\"income\\\":\\\"287.91251478841775\\\"},{\\\"time\\\":\\\"1976-01-01\\\",\\\"regions\\\":\\\"CAM\\\",\\\"income\\\":\\\"218.48285862041584\\\"},{\\\"time\\\":\\\"1976-01-01\\\",\\\"regions\\\":\\\"LAM\\\",\\\"income\\\":\\\"873.9276579909296\\\"},{\\\"time\\\":\\\"1976-01-01\\\",\\\"regions\\\":\\\"SAS\\\",\\\"income\\\":\\\"126.80564657157902\\\"},{\\\"time\\\":\\\"1976-01-01\\\",\\\"regions\\\":\\\"SEA\\\",\\\"income\\\":\\\"144.73754305396983\\\"},{\\\"time\\\":\\\"1976-01-01\\\",\\\"regions\\\":\\\"CHI\\\",\\\"income\\\":\\\"92.7888784044774\\\"},{\\\"time\\\":\\\"1976-01-01\\\",\\\"regions\\\":\\\"MAF\\\",\\\"income\\\":\\\"63.799884169196936\\\"},{\\\"time\\\":\\\"1976-01-01\\\",\\\"regions\\\":\\\"SSA\\\",\\\"income\\\":\\\"219.88819078274915\\\"},{\\\"time\\\":\\\"1976-01-01\\\",\\\"regions\\\":\\\"SIS\\\",\\\"income\\\":\\\"23.460428692031286\\\"},{\\\"time\\\":\\\"1977-01-01\\\",\\\"regions\\\":\\\"USA\\\",\\\"income\\\":\\\"3848.146623189307\\\"},{\\\"time\\\":\\\"1977-01-01\\\",\\\"regions\\\":\\\"CAN\\\",\\\"income\\\":\\\"305.470579241852\\\"},{\\\"time\\\":\\\"1977-01-01\\\",\\\"regions\\\":\\\"WEU\\\",\\\"income\\\":\\\"4704.377810105539\\\"},{\\\"time\\\":\\\"1977-01-01\\\",\\\"regions\\\":\\\"JPK\\\",\\\"income\\\":\\\"2085.8561420354586\\\"},{\\\"time\\\":\\\"1977-01-01\\\",\\\"regions\\\":\\\"ANZ\\\",\\\"income\\\":\\\"256.30889229211283\\\"},{\\\"time\\\":\\\"1977-01-01\\\",\\\"regions\\\":\\\"EEU\\\",\\\"income\\\":\\\"250.23647567132494\\\"},{\\\"time\\\":\\\"1977-01-01\\\",\\\"regions\\\":\\\"FSU\\\",\\\"income\\\":\\\"504.3655046188355\\\"},{\\\"time\\\":\\\"1977-01-01\\\",\\\"regions\\\":\\\"MDE\\\",\\\"income\\\":\\\"303.70157453602513\\\"},{\\\"time\\\":\\\"1977-01-01\\\",\\\"regions\\\":\\\"CAM\\\",\\\"income\\\":\\\"232.88119905904085\\\"},{\\\"time\\\":\\\"1977-01-01\\\",\\\"regions\\\":\\\"LAM\\\",\\\"income\\\":\\\"923.5963910179036\\\"},{\\\"time\\\":\\\"1977-01-01\\\",\\\"regions\\\":\\\"SAS\\\",\\\"income\\\":\\\"130.69683505026856\\\"},{\\\"time\\\":\\\"1977-01-01\\\",\\\"regions\\\":\\\"SEA\\\",\\\"income\\\":\\\"154.70772927800735\\\"},{\\\"time\\\":\\\"1977-01-01\\\",\\\"regions\\\":\\\"CHI\\\",\\\"income\\\":\\\"98.5337398015089\\\"},{\\\"time\\\":\\\"1977-01-01\\\",\\\"regions\\\":\\\"MAF\\\",\\\"income\\\":\\\"67.76012769300364\\\"},{\\\"time\\\":\\\"1977-01-01\\\",\\\"regions\\\":\\\"SSA\\\",\\\"income\\\":\\\"227.71913268867056\\\"},{\\\"time\\\":\\\"1977-01-01\\\",\\\"regions\\\":\\\"SIS\\\",\\\"income\\\":\\\"24.546258270377482\\\"},{\\\"time\\\":\\\"1978-01-01\\\",\\\"regions\\\":\\\"USA\\\",\\\"income\\\":\\\"3956.3294799300265\\\"},{\\\"time\\\":\\\"1978-01-01\\\",\\\"regions\\\":\\\"CAN\\\",\\\"income\\\":\\\"318.48665801852445\\\"},{\\\"time\\\":\\\"1978-01-01\\\",\\\"regions\\\":\\\"WEU\\\",\\\"income\\\":\\\"4853.3939991639445\\\"},{\\\"time\\\":\\\"1978-01-01\\\",\\\"regions\\\":\\\"JPK\\\",\\\"income\\\":\\\"2181.1550632635044\\\"},{\\\"time\\\":\\\"1978-01-01\\\",\\\"regions\\\":\\\"ANZ\\\",\\\"income\\\":\\\"261.8179260351752\\\"},{\\\"time\\\":\\\"1978-01-01\\\",\\\"regions\\\":\\\"EEU\\\",\\\"income\\\":\\\"259.74851720927415\\\"},{\\\"time\\\":\\\"1978-01-01\\\",\\\"regions\\\":\\\"FSU\\\",\\\"income\\\":\\\"523.0620496650939\\\"},{\\\"time\\\":\\\"1978-01-01\\\",\\\"regions\\\":\\\"MDE\\\",\\\"income\\\":\\\"320.3565028892286\\\"},{\\\"time\\\":\\\"1978-01-01\\\",\\\"regions\\\":\\\"CAM\\\",\\\"income\\\":\\\"248.22841122470015\\\"},{\\\"time\\\":\\\"1978-01-01\\\",\\\"regions\\\":\\\"LAM\\\",\\\"income\\\":\\\"976.0879927548302\\\"},{\\\"time\\\":\\\"1978-01-01\\\",\\\"regions\\\":\\\"SAS\\\",\\\"income\\\":\\\"134.70742947172215\\\"},{\\\"time\\\":\\\"1978-01-01\\\",\\\"regions\\\":\\\"SEA\\\",\\\"income\\\":\\\"165.3647076863292\\\"},{\\\"time\\\":\\\"1978-01-01\\\",\\\"regions\\\":\\\"CHI\\\",\\\"income\\\":\\\"104.63428426140962\\\"},{\\\"time\\\":\\\"1978-01-01\\\",\\\"regions\\\":\\\"MAF\\\",\\\"income\\\":\\\"71.96619499803008\\\"},{\\\"time\\\":\\\"1978-01-01\\\",\\\"regions\\\":\\\"SSA\\\",\\\"income\\\":\\\"235.82896019966068\\\"},{\\\"time\\\":\\\"1978-01-01\\\",\\\"regions\\\":\\\"SIS\\\",\\\"income\\\":\\\"25.682343787721585\\\"},{\\\"time\\\":\\\"1979-01-01\\\",\\\"regions\\\":\\\"USA\\\",\\\"income\\\":\\\"4067.553678812456\\\"},{\\\"time\\\":\\\"1979-01-01\\\",\\\"regions\\\":\\\"CAN\\\",\\\"income\\\":\\\"332.05735094868106\\\"},{\\\"time\\\":\\\"1979-01-01\\\",\\\"regions\\\":\\\"WEU\\\",\\\"income\\\":\\\"5007.130435085557\\\"},{\\\"time\\\":\\\"1979-01-01\\\",\\\"regions\\\":\\\"JPK\\\",\\\"income\\\":\\\"2280.8080164903085\\\"},{\\\"time\\\":\\\"1979-01-01\\\",\\\"regions\\\":\\\"ANZ\\\",\\\"income\\\":\\\"267.4453694538083\\\"},{\\\"time\\\":\\\"1979-01-01\\\",\\\"regions\\\":\\\"EEU\\\",\\\"income\\\":\\\"269.62213247054626\\\"},{\\\"time\\\":\\\"1979-01-01\\\",\\\"regions\\\":\\\"FSU\\\",\\\"income\\\":\\\"542.4516651007141\\\"},{\\\"time\\\":\\\"1979-01-01\\\",\\\"regions\\\":\\\"MDE\\\",\\\"income\\\":\\\"337.9247838942058\\\"},{\\\"time\\\":\\\"1979-01-01\\\",\\\"regions\\\":\\\"CAM\\\",\\\"income\\\":\\\"264.58702715420753\\\"},{\\\"time\\\":\\\"1979-01-01\\\",\\\"regions\\\":\\\"LAM\\\",\\\"income\\\":\\\"1031.5628978910604\\\"},{\\\"time\\\":\\\"1979-01-01\\\",\\\"regions\\\":\\\"SAS\\\",\\\"income\\\":\\\"138.841093955333\\\"},{\\\"time\\\":\\\"1979-01-01\\\",\\\"regions\\\":\\\"SEA\\\",\\\"income\\\":\\\"176.755787676553\\\"},{\\\"time\\\":\\\"1979-01-01\\\",\\\"regions\\\":\\\"CHI\\\",\\\"income\\\":\\\"111.11253327999445\\\"},{\\\"time\\\":\\\"1979-01-01\\\",\\\"regions\\\":\\\"MAF\\\",\\\"income\\\":\\\"76.43334507808557\\\"},{\\\"time\\\":\\\"1979-01-01\\\",\\\"regions\\\":\\\"SSA\\\",\\\"income\\\":\\\"244.22760534964968\\\"},{\\\"time\\\":\\\"1979-01-01\\\",\\\"regions\\\":\\\"SIS\\\",\\\"income\\\":\\\"26.87101126230341\\\"},{\\\"time\\\":\\\"1980-01-01\\\",\\\"regions\\\":\\\"USA\\\",\\\"income\\\":\\\"4181.904721017666\\\"},{\\\"time\\\":\\\"1980-01-01\\\",\\\"regions\\\":\\\"CAN\\\",\\\"income\\\":\\\"346.2062901003604\\\"},{\\\"time\\\":\\\"1980-01-01\\\",\\\"regions\\\":\\\"WEU\\\",\\\"income\\\":\\\"5165.736636728632\\\"},{\\\"time\\\":\\\"1980-01-01\\\",\\\"regions\\\":\\\"JPK\\\",\\\"income\\\":\\\"2385.0139294099304\\\"},{\\\"time\\\":\\\"1980-01-01\\\",\\\"regions\\\":\\\"ANZ\\\",\\\"income\\\":\\\"273.1937676134306\\\"},{\\\"time\\\":\\\"1980-01-01\\\",\\\"regions\\\":\\\"EEU\\\",\\\"income\\\":\\\"279.87106567155115\\\"},{\\\"time\\\":\\\"1980-01-01\\\",\\\"regions\\\":\\\"FSU\\\",\\\"income\\\":\\\"562.5600426544844\\\"},{\\\"time\\\":\\\"1980-01-01\\\",\\\"regions\\\":\\\"MDE\\\",\\\"income\\\":\\\"356.4565056119085\\\"},{\\\"time\\\":\\\"1980-01-01\\\",\\\"regions\\\":\\\"CAM\\\",\\\"income\\\":\\\"282.0236998372059\\\"},{\\\"time\\\":\\\"1980-01-01\\\",\\\"regions\\\":\\\"LAM\\\",\\\"income\\\":\\\"1090.1906592479559\\\"},{\\\"time\\\":\\\"1980-01-01\\\",\\\"regions\\\":\\\"SAS\\\",\\\"income\\\":\\\"143.10160505854068\\\"},{\\\"time\\\":\\\"1980-01-01\\\",\\\"regions\\\":\\\"SEA\\\",\\\"income\\\":\\\"188.93153753472592\\\"},{\\\"time\\\":\\\"1980-01-01\\\",\\\"regions\\\":\\\"CHI\\\",\\\"income\\\":\\\"117.99187177554218\\\"},{\\\"time\\\":\\\"1980-01-01\\\",\\\"regions\\\":\\\"MAF\\\",\\\"income\\\":\\\"81.17778409690301\\\"},{\\\"time\\\":\\\"1980-01-01\\\",\\\"regions\\\":\\\"SSA\\\",\\\"income\\\":\\\"252.92535388497234\\\"},{\\\"time\\\":\\\"1980-01-01\\\",\\\"regions\\\":\\\"SIS\\\",\\\"income\\\":\\\"28.114694368511664\\\"},{\\\"time\\\":\\\"1981-01-01\\\",\\\"regions\\\":\\\"USA\\\",\\\"income\\\":\\\"4359.796230456203\\\"},{\\\"time\\\":\\\"1981-01-01\\\",\\\"regions\\\":\\\"CAN\\\",\\\"income\\\":\\\"361.4376749546365\\\"},{\\\"time\\\":\\\"1981-01-01\\\",\\\"regions\\\":\\\"WEU\\\",\\\"income\\\":\\\"5415.647426006043\\\"},{\\\"time\\\":\\\"1981-01-01\\\",\\\"regions\\\":\\\"JPK\\\",\\\"income\\\":\\\"2573.3852416567343\\\"},{\\\"time\\\":\\\"1981-01-01\\\",\\\"regions\\\":\\\"ANZ\\\",\\\"income\\\":\\\"280.7977336636758\\\"},{\\\"time\\\":\\\"1981-01-01\\\",\\\"regions\\\":\\\"EEU\\\",\\\"income\\\":\\\"285.21129359189086\\\"},{\\\"time\\\":\\\"1981-01-01\\\",\\\"regions\\\":\\\"FSU\\\",\\\"income\\\":\\\"590.6073525810904\\\"},{\\\"time\\\":\\\"1981-01-01\\\",\\\"regions\\\":\\\"MDE\\\",\\\"income\\\":\\\"364.64123657376837\\\"},{\\\"time\\\":\\\"1981-01-01\\\",\\\"regions\\\":\\\"CAM\\\",\\\"income\\\":\\\"283.39110618548\\\"},{\\\"time\\\":\\\"1981-01-01\\\",\\\"regions\\\":\\\"LAM\\\",\\\"income\\\":\\\"1088.965415333764\\\"},{\\\"time\\\":\\\"1981-01-01\\\",\\\"regions\\\":\\\"SAS\\\",\\\"income\\\":\\\"156.55703487477055\\\"},{\\\"time\\\":\\\"1981-01-01\\\",\\\"regions\\\":\\\"SEA\\\",\\\"income\\\":\\\"206.34290530134172\\\"},{\\\"time\\\":\\\"1981-01-01\\\",\\\"regions\\\":\\\"CHI\\\",\\\"income\\\":\\\"136.6290201876\\\"},{\\\"time\\\":\\\"1981-01-01\\\",\\\"regions\\\":\\\"MAF\\\",\\\"income\\\":\\\"85.55798078353305\\\"},{\\\"time\\\":\\\"1981-01-01\\\",\\\"regions\\\":\\\"SSA\\\",\\\"income\\\":\\\"255.05990223356335\\\"},{\\\"time\\\":\\\"1981-01-01\\\",\\\"regions\\\":\\\"SIS\\\",\\\"income\\\":\\\"28.913077746931204\\\"},{\\\"time\\\":\\\"1982-01-01\\\",\\\"regions\\\":\\\"USA\\\",\\\"income\\\":\\\"4545.254958959124\\\"},{\\\"time\\\":\\\"1982-01-01\\\",\\\"regions\\\":\\\"CAN\\\",\\\"income\\\":\\\"377.33916630672303\\\"},{\\\"time\\\":\\\"1982-01-01\\\",\\\"regions\\\":\\\"WEU\\\",\\\"income\\\":\\\"5677.648534049068\\\"},{\\\"time\\\":\\\"1982-01-01\\\",\\\"regions\\\":\\\"JPK\\\",\\\"income\\\":\\\"2776.634350146163\\\"},{\\\"time\\\":\\\"1982-01-01\\\",\\\"regions\\\":\\\"ANZ\\\",\\\"income\\\":\\\"288.6133454633771\\\"},{\\\"time\\\":\\\"1982-01-01\\\",\\\"regions\\\":\\\"EEU\\\",\\\"income\\\":\\\"290.6534185560452\\\"},{\\\"time\\\":\\\"1982-01-01\\\",\\\"regions\\\":\\\"FSU\\\",\\\"income\\\":\\\"620.0530049680091\\\"},{\\\"time\\\":\\\"1982-01-01\\\",\\\"regions\\\":\\\"MDE\\\",\\\"income\\\":\\\"373.0139002002405\\\"},{\\\"time\\\":\\\"1982-01-01\\\",\\\"regions\\\":\\\"CAM\\\",\\\"income\\\":\\\"284.7651424734449\\\"},{\\\"time\\\":\\\"1982-01-01\\\",\\\"regions\\\":\\\"LAM\\\",\\\"income\\\":\\\"1087.7415484471926\\\"},{\\\"time\\\":\\\"1982-01-01\\\",\\\"regions\\\":\\\"SAS\\\",\\\"income\\\":\\\"171.2776398192977\\\"},{\\\"time\\\":\\\"1982-01-01\\\",\\\"regions\\\":\\\"SEA\\\",\\\"income\\\":\\\"225.35885286156994\\\"},{\\\"time\\\":\\\"1982-01-01\\\",\\\"regions\\\":\\\"CHI\\\",\\\"income\\\":\\\"158.20995867355228\\\"},{\\\"time\\\":\\\"1982-01-01\\\",\\\"regions\\\":\\\"MAF\\\",\\\"income\\\":\\\"90.17452443660237\\\"},{\\\"time\\\":\\\"1982-01-01\\\",\\\"regions\\\":\\\"SSA\\\",\\\"income\\\":\\\"257.2124649748694\\\"},{\\\"time\\\":\\\"1982-01-01\\\",\\\"regions\\\":\\\"SIS\\\",\\\"income\\\":\\\"29.734133113549575\\\"},{\\\"time\\\":\\\"1983-01-01\\\",\\\"regions\\\":\\\"USA\\\",\\\"income\\\":\\\"4738.602803870204\\\"},{\\\"time\\\":\\\"1983-01-01\\\",\\\"regions\\\":\\\"CAN\\\",\\\"income\\\":\\\"393.94024556771313\\\"},{\\\"time\\\":\\\"1983-01-01\\\",\\\"regions\\\":\\\"WEU\\\",\\\"income\\\":\\\"5952.324872810796\\\"},{\\\"time\\\":\\\"1983-01-01\\\",\\\"regions\\\":\\\"JPK\\\",\\\"income\\\":\\\"2995.936321391248\\\"},{\\\"time\\\":\\\"1983-01-01\\\",\\\"regions\\\":\\\"ANZ\\\",\\\"income\\\":\\\"296.6464938756665\\\"},{\\\"time\\\":\\\"1983-01-01\\\",\\\"regions\\\":\\\"EEU\\\",\\\"income\\\":\\\"296.1993848644622\\\"},{\\\"time\\\":\\\"1983-01-01\\\",\\\"regions\\\":\\\"FSU\\\",\\\"income\\\":\\\"650.9667163635095\\\"},{\\\"time\\\":\\\"1983-01-01\\\",\\\"regions\\\":\\\"MDE\\\",\\\"income\\\":\\\"381.57881168343\\\"},{\\\"time\\\":\\\"1983-01-01\\\",\\\"regions\\\":\\\"CAM\\\",\\\"income\\\":\\\"286.14584084670264\\\"},{\\\"time\\\":\\\"1983-01-01\\\",\\\"regions\\\":\\\"LAM\\\",\\\"income\\\":\\\"1086.519057040627\\\"},{\\\"time\\\":\\\"1983-01-01\\\",\\\"regions\\\":\\\"SAS\\\",\\\"income\\\":\\\"187.38238064827215\\\"},{\\\"time\\\":\\\"1983-01-01\\\",\\\"regions\\\":\\\"SEA\\\",\\\"income\\\":\\\"246.12725350994899\\\"},{\\\"time\\\":\\\"1983-01-01\\\",\\\"regions\\\":\\\"CHI\\\",\\\"income\\\":\\\"183.1996671652835\\\"},{\\\"time\\\":\\\"1983-01-01\\\",\\\"regions\\\":\\\"MAF\\\",\\\"income\\\":\\\"95.04016788264852\\\"},{\\\"time\\\":\\\"1983-01-01\\\",\\\"regions\\\":\\\"SSA\\\",\\\"income\\\":\\\"259.38319414027694\\\"},{\\\"time\\\":\\\"1983-01-01\\\",\\\"regions\\\":\\\"SIS\\\",\\\"income\\\":\\\"30.578504293204293\\\"},{\\\"time\\\":\\\"1984-01-01\\\",\\\"regions\\\":\\\"USA\\\",\\\"income\\\":\\\"4940.175355529159\\\"},{\\\"time\\\":\\\"1984-01-01\\\",\\\"regions\\\":\\\"CAN\\\",\\\"income\\\":\\\"411.2716911867124\\\"},{\\\"time\\\":\\\"1984-01-01\\\",\\\"regions\\\":\\\"WEU\\\",\\\"income\\\":\\\"6240.289651429814\\\"},{\\\"time\\\":\\\"1984-01-01\\\",\\\"regions\\\":\\\"JPK\\\",\\\"income\\\":\\\"3232.5590300929766\\\"},{\\\"time\\\":\\\"1984-01-01\\\",\\\"regions\\\":\\\"ANZ\\\",\\\"income\\\":\\\"304.90323372760423\\\"},{\\\"time\\\":\\\"1984-01-01\\\",\\\"regions\\\":\\\"EEU\\\",\\\"income\\\":\\\"301.85117391684315\\\"},{\\\"time\\\":\\\"1984-01-01\\\",\\\"regions\\\":\\\"FSU\\\",\\\"income\\\":\\\"683.4216791433066\\\"},{\\\"time\\\":\\\"1984-01-01\\\",\\\"regions\\\":\\\"MDE\\\",\\\"income\\\":\\\"390.3403852981794\\\"},{\\\"time\\\":\\\"1984-01-01\\\",\\\"regions\\\":\\\"CAM\\\",\\\"income\\\":\\\"287.5332336067149\\\"},{\\\"time\\\":\\\"1984-01-01\\\",\\\"regions\\\":\\\"LAM\\\",\\\"income\\\":\\\"1085.2979395681928\\\"},{\\\"time\\\":\\\"1984-01-01\\\",\\\"regions\\\":\\\"SAS\\\",\\\"income\\\":\\\"205.00140365349606\\\"},{\\\"time\\\":\\\"1984-01-01\\\",\\\"regions\\\":\\\"SEA\\\",\\\"income\\\":\\\"268.80960810340133\\\"},{\\\"time\\\":\\\"1984-01-01\\\",\\\"regions\\\":\\\"CHI\\\",\\\"income\\\":\\\"212.13657048430278\\\"},{\\\"time\\\":\\\"1984-01-01\\\",\\\"regions\\\":\\\"MAF\\\",\\\"income\\\":\\\"100.16835206613649\\\"},{\\\"time\\\":\\\"1984-01-01\\\",\\\"regions\\\":\\\"SSA\\\",\\\"income\\\":\\\"261.57224304423215\\\"},{\\\"time\\\":\\\"1984-01-01\\\",\\\"regions\\\":\\\"SIS\\\",\\\"income\\\":\\\"31.446853393665002\\\"},{\\\"time\\\":\\\"1985-01-01\\\",\\\"regions\\\":\\\"USA\\\",\\\"income\\\":\\\"5150.322479749695\\\"},{\\\"time\\\":\\\"1985-01-01\\\",\\\"regions\\\":\\\"CAN\\\",\\\"income\\\":\\\"429.3656357141729\\\"},{\\\"time\\\":\\\"1985-01-01\\\",\\\"regions\\\":\\\"WEU\\\",\\\"income\\\":\\\"6542.185745206692\\\"},{\\\"time\\\":\\\"1985-01-01\\\",\\\"regions\\\":\\\"JPK\\\",\\\"income\\\":\\\"3487.870489244295\\\"},{\\\"time\\\":\\\"1985-01-01\\\",\\\"regions\\\":\\\"ANZ\\\",\\\"income\\\":\\\"313.38978837388487\\\"},{\\\"time\\\":\\\"1985-01-01\\\",\\\"regions\\\":\\\"EEU\\\",\\\"income\\\":\\\"307.6108049200344\\\"},{\\\"time\\\":\\\"1985-01-01\\\",\\\"regions\\\":\\\"FSU\\\",\\\"income\\\":\\\"717.4947348033699\\\"},{\\\"time\\\":\\\"1985-01-01\\\",\\\"regions\\\":\\\"MDE\\\",\\\"income\\\":\\\"399.30313667714483\\\"},{\\\"time\\\":\\\"1985-01-01\\\",\\\"regions\\\":\\\"CAM\\\",\\\"income\\\":\\\"288.92735321155857\\\"},{\\\"time\\\":\\\"1985-01-01\\\",\\\"regions\\\":\\\"LAM\\\",\\\"income\\\":\\\"1084.0781944857517\\\"},{\\\"time\\\":\\\"1985-01-01\\\",\\\"regions\\\":\\\"SAS\\\",\\\"income\\\":\\\"224.27709240597238\\\"},{\\\"time\\\":\\\"1985-01-01\\\",\\\"regions\\\":\\\"SEA\\\",\\\"income\\\":\\\"293.58230093679305\\\"},{\\\"time\\\":\\\"1985-01-01\\\",\\\"regions\\\":\\\"CHI\\\",\\\"income\\\":\\\"245.6441391688809\\\"},{\\\"time\\\":\\\"1985-01-01\\\",\\\"regions\\\":\\\"MAF\\\",\\\"income\\\":\\\"105.5732431789751\\\"},{\\\"time\\\":\\\"1985-01-01\\\",\\\"regions\\\":\\\"SSA\\\",\\\"income\\\":\\\"263.7797662950694\\\"},{\\\"time\\\":\\\"1985-01-01\\\",\\\"regions\\\":\\\"SIS\\\",\\\"income\\\":\\\"32.33986132482066\\\"},{\\\"time\\\":\\\"1986-01-01\\\",\\\"regions\\\":\\\"USA\\\",\\\"income\\\":\\\"5369.408925075248\\\"},{\\\"time\\\":\\\"1986-01-01\\\",\\\"regions\\\":\\\"CAN\\\",\\\"income\\\":\\\"448.25562537573484\\\"},{\\\"time\\\":\\\"1986-01-01\\\",\\\"regions\\\":\\\"WEU\\\",\\\"income\\\":\\\"6858.687130809545\\\"},{\\\"time\\\":\\\"1986-01-01\\\",\\\"regions\\\":\\\"JPK\\\",\\\"income\\\":\\\"3763.346759174676\\\"},{\\\"time\\\":\\\"1986-01-01\\\",\\\"regions\\\":\\\"ANZ\\\",\\\"income\\\":\\\"322.1125543875682\\\"},{\\\"time\\\":\\\"1986-01-01\\\",\\\"regions\\\":\\\"EEU\\\",\\\"income\\\":\\\"313.4803356094269\\\"},{\\\"time\\\":\\\"1986-01-01\\\",\\\"regions\\\":\\\"FSU\\\",\\\"income\\\":\\\"753.266555892515\\\"},{\\\"time\\\":\\\"1986-01-01\\\",\\\"regions\\\":\\\"MDE\\\",\\\"income\\\":\\\"408.47168513811033\\\"},{\\\"time\\\":\\\"1986-01-01\\\",\\\"regions\\\":\\\"CAM\\\",\\\"income\\\":\\\"290.32823227668524\\\"},{\\\"time\\\":\\\"1986-01-01\\\",\\\"regions\\\":\\\"LAM\\\",\\\"income\\\":\\\"1082.8598202509017\\\"},{\\\"time\\\":\\\"1986-01-01\\\",\\\"regions\\\":\\\"SAS\\\",\\\"income\\\":\\\"245.36521839185596\\\"},{\\\"time\\\":\\\"1986-01-01\\\",\\\"regions\\\":\\\"SEA\\\",\\\"income\\\":\\\"320.6379713562446\\\"},{\\\"time\\\":\\\"1986-01-01\\\",\\\"regions\\\":\\\"CHI\\\",\\\"income\\\":\\\"284.44432268450157\\\"},{\\\"time\\\":\\\"1986-01-01\\\",\\\"regions\\\":\\\"MAF\\\",\\\"income\\\":\\\"111.26977179347047\\\"},{\\\"time\\\":\\\"1986-01-01\\\",\\\"regions\\\":\\\"SSA\\\",\\\"income\\\":\\\"266.0059198059307\\\"},{\\\"time\\\":\\\"1986-01-01\\\",\\\"regions\\\":\\\"SIS\\\",\\\"income\\\":\\\"33.25822833261028\\\"},{\\\"time\\\":\\\"1987-01-01\\\",\\\"regions\\\":\\\"USA\\\",\\\"income\\\":\\\"5597.814955866392\\\"},{\\\"time\\\":\\\"1987-01-01\\\",\\\"regions\\\":\\\"CAN\\\",\\\"income\\\":\\\"467.976682267026\\\"},{\\\"time\\\":\\\"1987-01-01\\\",\\\"regions\\\":\\\"WEU\\\",\\\"income\\\":\\\"7190.500390912739\\\"},{\\\"time\\\":\\\"1987-01-01\\\",\\\"regions\\\":\\\"JPK\\\",\\\"income\\\":\\\"4060.5804812606843\\\"},{\\\"time\\\":\\\"1987-01-01\\\",\\\"regions\\\":\\\"ANZ\\\",\\\"income\\\":\\\"331.07810638137\\\"},{\\\"time\\\":\\\"1987-01-01\\\",\\\"regions\\\":\\\"EEU\\\",\\\"income\\\":\\\"319.46186298412005\\\"},{\\\"time\\\":\\\"1987-01-01\\\",\\\"regions\\\":\\\"FSU\\\",\\\"income\\\":\\\"790.82183701553\\\"},{\\\"time\\\":\\\"1987-01-01\\\",\\\"regions\\\":\\\"MDE\\\",\\\"income\\\":\\\"417.8507560647409\\\"},{\\\"time\\\":\\\"1987-01-01\\\",\\\"regions\\\":\\\"CAM\\\",\\\"income\\\":\\\"291.7359035756842\\\"},{\\\"time\\\":\\\"1987-01-01\\\",\\\"regions\\\":\\\"LAM\\\",\\\"income\\\":\\\"1081.6428153229742\\\"},{\\\"time\\\":\\\"1987-01-01\\\",\\\"regions\\\":\\\"SAS\\\",\\\"income\\\":\\\"268.4361998393732\\\"},{\\\"time\\\":\\\"1987-01-01\\\",\\\"regions\\\":\\\"SEA\\\",\\\"income\\\":\\\"350.1870117762384\\\"},{\\\"time\\\":\\\"1987-01-01\\\",\\\"regions\\\":\\\"CHI\\\",\\\"income\\\":\\\"329.3731044477313\\\"},{\\\"time\\\":\\\"1987-01-01\\\",\\\"regions\\\":\\\"MAF\\\",\\\"income\\\":\\\"117.27367410681822\\\"},{\\\"time\\\":\\\"1987-01-01\\\",\\\"regions\\\":\\\"SSA\\\",\\\"income\\\":\\\"268.2508608057777\\\"},{\\\"time\\\":\\\"1987-01-01\\\",\\\"regions\\\":\\\"SIS\\\",\\\"income\\\":\\\"34.202674548115894\\\"},{\\\"time\\\":\\\"1988-01-01\\\",\\\"regions\\\":\\\"USA\\\",\\\"income\\\":\\\"5835.937012318784\\\"},{\\\"time\\\":\\\"1988-01-01\\\",\\\"regions\\\":\\\"CAN\\\",\\\"income\\\":\\\"488.5653692847289\\\"},{\\\"time\\\":\\\"1988-01-01\\\",\\\"regions\\\":\\\"WEU\\\",\\\"income\\\":\\\"7538.366291627827\\\"},{\\\"time\\\":\\\"1988-01-01\\\",\\\"regions\\\":\\\"JPK\\\",\\\"income\\\":\\\"4381.29008563942\\\"},{\\\"time\\\":\\\"1988-01-01\\\",\\\"regions\\\":\\\"ANZ\\\",\\\"income\\\":\\\"340.2932019631465\\\"},{\\\"time\\\":\\\"1988-01-01\\\",\\\"regions\\\":\\\"EEU\\\",\\\"income\\\":\\\"325.557524056114\\\"},{\\\"time\\\":\\\"1988-01-01\\\",\\\"regions\\\":\\\"FSU\\\",\\\"income\\\":\\\"830.2494953590597\\\"},{\\\"time\\\":\\\"1988-01-01\\\",\\\"regions\\\":\\\"MDE\\\",\\\"income\\\":\\\"427.4451833420008\\\"},{\\\"time\\\":\\\"1988-01-01\\\",\\\"regions\\\":\\\"CAM\\\",\\\"income\\\":\\\"293.15040004104907\\\"},{\\\"time\\\":\\\"1988-01-01\\\",\\\"regions\\\":\\\"LAM\\\",\\\"income\\\":\\\"1080.4271781630318\\\"},{\\\"time\\\":\\\"1988-01-01\\\",\\\"regions\\\":\\\"SAS\\\",\\\"income\\\":\\\"293.6764789095944\\\"},{\\\"time\\\":\\\"1988-01-01\\\",\\\"regions\\\":\\\"SEA\\\",\\\"income\\\":\\\"382.459203749522\\\"},{\\\"time\\\":\\\"1988-01-01\\\",\\\"regions\\\":\\\"CHI\\\",\\\"income\\\":\\\"381.39851380991263\\\"},{\\\"time\\\":\\\"1988-01-01\\\",\\\"regions\\\":\\\"MAF\\\",\\\"income\\\":\\\"123.601535411069\\\"},{\\\"time\\\":\\\"1988-01-01\\\",\\\"regions\\\":\\\"SSA\\\",\\\"income\\\":\\\"270.5147478504964\\\"},{\\\"time\\\":\\\"1988-01-01\\\",\\\"regions\\\":\\\"SIS\\\",\\\"income\\\":\\\"35.173940552248325\\\"},{\\\"time\\\":\\\"1989-01-01\\\",\\\"regions\\\":\\\"USA\\\",\\\"income\\\":\\\"6084.188398557201\\\"},{\\\"time\\\":\\\"1989-01-01\\\",\\\"regions\\\":\\\"CAN\\\",\\\"income\\\":\\\"510.05985791429725\\\"},{\\\"time\\\":\\\"1989-01-01\\\",\\\"regions\\\":\\\"WEU\\\",\\\"income\\\":\\\"7903.061436248285\\\"},{\\\"time\\\":\\\"1989-01-01\\\",\\\"regions\\\":\\\"JPK\\\",\\\"income\\\":\\\"4727.329726158415\\\"},{\\\"time\\\":\\\"1989-01-01\\\",\\\"regions\\\":\\\"ANZ\\\",\\\"income\\\":\\\"349.76478682930787\\\"},{\\\"time\\\":\\\"1989-01-01\\\",\\\"regions\\\":\\\"EEU\\\",\\\"income\\\":\\\"331.7694966137969\\\"},{\\\"time\\\":\\\"1989-01-01\\\",\\\"regions\\\":\\\"FSU\\\",\\\"income\\\":\\\"871.6428812150222\\\"},{\\\"time\\\":\\\"1989-01-01\\\",\\\"regions\\\":\\\"MDE\\\",\\\"income\\\":\\\"437.2599118474925\\\"},{\\\"time\\\":\\\"1989-01-01\\\",\\\"regions\\\":\\\"CAM\\\",\\\"income\\\":\\\"294.57175476494854\\\"},{\\\"time\\\":\\\"1989-01-01\\\",\\\"regions\\\":\\\"LAM\\\",\\\"income\\\":\\\"1079.212907233867\\\"},{\\\"time\\\":\\\"1989-01-01\\\",\\\"regions\\\":\\\"SAS\\\",\\\"income\\\":\\\"321.29002838046887\\\"},{\\\"time\\\":\\\"1989-01-01\\\",\\\"regions\\\":\\\"SEA\\\",\\\"income\\\":\\\"417.7055048123396\\\"},{\\\"time\\\":\\\"1989-01-01\\\",\\\"regions\\\":\\\"CHI\\\",\\\"income\\\":\\\"441.64148308440326\\\"},{\\\"time\\\":\\\"1989-01-01\\\",\\\"regions\\\":\\\"MAF\\\",\\\"income\\\":\\\"130.27083590864942\\\"},{\\\"time\\\":\\\"1989-01-01\\\",\\\"regions\\\":\\\"SSA\\\",\\\"income\\\":\\\"272.7977408340958\\\"},{\\\"time\\\":\\\"1989-01-01\\\",\\\"regions\\\":\\\"SIS\\\",\\\"income\\\":\\\"36.172787956468525\\\"},{\\\"time\\\":\\\"1990-01-01\\\",\\\"regions\\\":\\\"USA\\\",\\\"income\\\":\\\"6343.380356846341\\\"},{\\\"time\\\":\\\"1990-01-01\\\",\\\"regions\\\":\\\"CAN\\\",\\\"income\\\":\\\"532.5441175170785\\\"},{\\\"time\\\":\\\"1990-01-01\\\",\\\"regions\\\":\\\"WEU\\\",\\\"income\\\":\\\"8286.135550654346\\\"},{\\\"time\\\":\\\"1990-01-01\\\",\\\"regions\\\":\\\"JPK\\\",\\\"income\\\":\\\"5101.409854257302\\\"},{\\\"time\\\":\\\"1990-01-01\\\",\\\"regions\\\":\\\"ANZ\\\",\\\"income\\\":\\\"359.541682103419\\\"},{\\\"time\\\":\\\"1990-01-01\\\",\\\"regions\\\":\\\"EEU\\\",\\\"income\\\":\\\"338.1545725117814\\\"},{\\\"time\\\":\\\"1990-01-01\\\",\\\"regions\\\":\\\"FSU\\\",\\\"income\\\":\\\"915.2083818720909\\\"},{\\\"time\\\":\\\"1990-01-01\\\",\\\"regions\\\":\\\"MDE\\\",\\\"income\\\":\\\"447.5064940614003\\\"},{\\\"time\\\":\\\"1990-01-01\\\",\\\"regions\\\":\\\"CAM\\\",\\\"income\\\":\\\"296.0721980940424\\\"},{\\\"time\\\":\\\"1990-01-01\\\",\\\"regions\\\":\\\"LAM\\\",\\\"income\\\":\\\"1078.0848206502878\\\"},{\\\"time\\\":\\\"1990-01-01\\\",\\\"regions\\\":\\\"SAS\\\",\\\"income\\\":\\\"351.58779864713017\\\"},{\\\"time\\\":\\\"1990-01-01\\\",\\\"regions\\\":\\\"SEA\\\",\\\"income\\\":\\\"456.301856321065\\\"},{\\\"time\\\":\\\"1990-01-01\\\",\\\"regions\\\":\\\"CHI\\\",\\\"income\\\":\\\"512.0399171830318\\\"},{\\\"time\\\":\\\"1990-01-01\\\",\\\"regions\\\":\\\"MAF\\\",\\\"income\\\":\\\"137.29577590231136\\\"},{\\\"time\\\":\\\"1990-01-01\\\",\\\"regions\\\":\\\"SSA\\\",\\\"income\\\":\\\"275.09964666569175\\\"},{\\\"time\\\":\\\"1990-01-01\\\",\\\"regions\\\":\\\"SIS\\\",\\\"income\\\":\\\"37.211226506476606\\\"},{\\\"time\\\":\\\"1991-01-01\\\",\\\"regions\\\":\\\"USA\\\",\\\"income\\\":\\\"6476.270165613767\\\"},{\\\"time\\\":\\\"1991-01-01\\\",\\\"regions\\\":\\\"CAN\\\",\\\"income\\\":\\\"540.538425257306\\\"},{\\\"time\\\":\\\"1991-01-01\\\",\\\"regions\\\":\\\"WEU\\\",\\\"income\\\":\\\"8407.529450956226\\\"},{\\\"time\\\":\\\"1991-01-01\\\",\\\"regions\\\":\\\"JPK\\\",\\\"income\\\":\\\"5197.148671210779\\\"},{\\\"time\\\":\\\"1991-01-01\\\",\\\"regions\\\":\\\"ANZ\\\",\\\"income\\\":\\\"370.4383151197377\\\"},{\\\"time\\\":\\\"1991-01-01\\\",\\\"regions\\\":\\\"EEU\\\",\\\"income\\\":\\\"335.7052613356037\\\"},{\\\"time\\\":\\\"1991-01-01\\\",\\\"regions\\\":\\\"FSU\\\",\\\"income\\\":\\\"821.852077860059\\\"},{\\\"time\\\":\\\"1991-01-01\\\",\\\"regions\\\":\\\"MDE\\\",\\\"income\\\":\\\"465.34517531040854\\\"},{\\\"time\\\":\\\"1991-01-01\\\",\\\"regions\\\":\\\"CAM\\\",\\\"income\\\":\\\"301.5920890608028\\\"},{\\\"time\\\":\\\"1991-01-01\\\",\\\"regions\\\":\\\"LAM\\\",\\\"income\\\":\\\"1123.2650567982566\\\"},{\\\"time\\\":\\\"1991-01-01\\\",\\\"regions\\\":\\\"SAS\\\",\\\"income\\\":\\\"369.6423380009133\\\"},{\\\"time\\\":\\\"1991-01-01\\\",\\\"regions\\\":\\\"SEA\\\",\\\"income\\\":\\\"490.17059692266025\\\"},{\\\"time\\\":\\\"1991-01-01\\\",\\\"regions\\\":\\\"CHI\\\",\\\"income\\\":\\\"567.1706273255048\\\"},{\\\"time\\\":\\\"1991-01-01\\\",\\\"regions\\\":\\\"MAF\\\",\\\"income\\\":\\\"139.9800110644861\\\"},{\\\"time\\\":\\\"1991-01-01\\\",\\\"regions\\\":\\\"SSA\\\",\\\"income\\\":\\\"278.3770027968431\\\"},{\\\"time\\\":\\\"1991-01-01\\\",\\\"regions\\\":\\\"SIS\\\",\\\"income\\\":\\\"38.04954136795649\\\"},{\\\"time\\\":\\\"1992-01-01\\\",\\\"regions\\\":\\\"USA\\\",\\\"income\\\":\\\"6611.9476389644415\\\"},{\\\"time\\\":\\\"1992-01-01\\\",\\\"regions\\\":\\\"CAN\\\",\\\"income\\\":\\\"548.6534590295031\\\"},{\\\"time\\\":\\\"1992-01-01\\\",\\\"regions\\\":\\\"WEU\\\",\\\"income\\\":\\\"8530.70569157714\\\"},{\\\"time\\\":\\\"1992-01-01\\\",\\\"regions\\\":\\\"JPK\\\",\\\"income\\\":\\\"5294.692807360532\\\"},{\\\"time\\\":\\\"1992-01-01\\\",\\\"regions\\\":\\\"ANZ\\\",\\\"income\\\":\\\"381.6657829956633\\\"},{\\\"time\\\":\\\"1992-01-01\\\",\\\"regions\\\":\\\"EEU\\\",\\\"income\\\":\\\"333.2745226500977\\\"},{\\\"time\\\":\\\"1992-01-01\\\",\\\"regions\\\":\\\"FSU\\\",\\\"income\\\":\\\"738.0244148289518\\\"},{\\\"time\\\":\\\"1992-01-01\\\",\\\"regions\\\":\\\"MDE\\\",\\\"income\\\":\\\"483.897990968525\\\"},{\\\"time\\\":\\\"1992-01-01\\\",\\\"regions\\\":\\\"CAM\\\",\\\"income\\\":\\\"307.21639920045527\\\"},{\\\"time\\\":\\\"1992-01-01\\\",\\\"regions\\\":\\\"LAM\\\",\\\"income\\\":\\\"1170.3381666136136\\\"},{\\\"time\\\":\\\"1992-01-01\\\",\\\"regions\\\":\\\"SAS\\\",\\\"income\\\":\\\"388.62455026848534\\\"},{\\\"time\\\":\\\"1992-01-01\\\",\\\"regions\\\":\\\"SEA\\\",\\\"income\\\":\\\"526.5527571434642\\\"},{\\\"time\\\":\\\"1992-01-01\\\",\\\"regions\\\":\\\"CHI\\\",\\\"income\\\":\\\"628.2296955039386\\\"},{\\\"time\\\":\\\"1992-01-01\\\",\\\"regions\\\":\\\"MAF\\\",\\\"income\\\":\\\"142.71598725384345\\\"},{\\\"time\\\":\\\"1992-01-01\\\",\\\"regions\\\":\\\"SSA\\\",\\\"income\\\":\\\"281.69305100696613\\\"},{\\\"time\\\":\\\"1992-01-01\\\",\\\"regions\\\":\\\"SIS\\\",\\\"income\\\":\\\"38.90689678101884\\\"},{\\\"time\\\":\\\"1993-01-01\\\",\\\"regions\\\":\\\"USA\\\",\\\"income\\\":\\\"6750.471893256021\\\"},{\\\"time\\\":\\\"1993-01-01\\\",\\\"regions\\\":\\\"CAN\\\",\\\"income\\\":\\\"556.8911509967936\\\"},{\\\"time\\\":\\\"1993-01-01\\\",\\\"regions\\\":\\\"WEU\\\",\\\"income\\\":\\\"8655.691869691362\\\"},{\\\"time\\\":\\\"1993-01-01\\\",\\\"regions\\\":\\\"JPK\\\",\\\"income\\\":\\\"5394.077042251856\\\"},{\\\"time\\\":\\\"1993-01-01\\\",\\\"regions\\\":\\\"ANZ\\\",\\\"income\\\":\\\"393.23416742119014\\\"},{\\\"time\\\":\\\"1993-01-01\\\",\\\"regions\\\":\\\"EEU\\\",\\\"income\\\":\\\"330.86226270022553\\\"},{\\\"time\\\":\\\"1993-01-01\\\",\\\"regions\\\":\\\"FSU\\\",\\\"income\\\":\\\"662.7523696163041\\\"},{\\\"time\\\":\\\"1993-01-01\\\",\\\"regions\\\":\\\"MDE\\\",\\\"income\\\":\\\"503.1936927238991\\\"},{\\\"time\\\":\\\"1993-01-01\\\",\\\"regions\\\":\\\"CAM\\\",\\\"income\\\":\\\"312.946846781373\\\"},{\\\"time\\\":\\\"1993-01-01\\\",\\\"regions\\\":\\\"LAM\\\",\\\"income\\\":\\\"1219.3835655173998\\\"},{\\\"time\\\":\\\"1993-01-01\\\",\\\"regions\\\":\\\"SAS\\\",\\\"income\\\":\\\"408.58233804306434\\\"},{\\\"time\\\":\\\"1993-01-01\\\",\\\"regions\\\":\\\"SEA\\\",\\\"income\\\":\\\"565.6350039622348\\\"},{\\\"time\\\":\\\"1993-01-01\\\",\\\"regions\\\":\\\"CHI\\\",\\\"income\\\":\\\"695.8536308494589\\\"},{\\\"time\\\":\\\"1993-01-01\\\",\\\"regions\\\":\\\"MAF\\\",\\\"income\\\":\\\"145.5048982218192\\\"},{\\\"time\\\":\\\"1993-01-01\\\",\\\"regions\\\":\\\"SSA\\\",\\\"income\\\":\\\"285.04832401227213\\\"},{\\\"time\\\":\\\"1993-01-01\\\",\\\"regions\\\":\\\"SIS\\\",\\\"income\\\":\\\"39.783725421864055\\\"},{\\\"time\\\":\\\"1994-01-01\\\",\\\"regions\\\":\\\"USA\\\",\\\"income\\\":\\\"6891.902649287133\\\"},{\\\"time\\\":\\\"1994-01-01\\\",\\\"regions\\\":\\\"CAN\\\",\\\"income\\\":\\\"565.2534668183598\\\"},{\\\"time\\\":\\\"1994-01-01\\\",\\\"regions\\\":\\\"WEU\\\",\\\"income\\\":\\\"8782.51423270082\\\"},{\\\"time\\\":\\\"1994-01-01\\\",\\\"regions\\\":\\\"JPK\\\",\\\"income\\\":\\\"5495.3361580182955\\\"},{\\\"time\\\":\\\"1994-01-01\\\",\\\"regions\\\":\\\"ANZ\\\",\\\"income\\\":\\\"405.1538338528984\\\"},{\\\"time\\\":\\\"1994-01-01\\\",\\\"regions\\\":\\\"EEU\\\",\\\"income\\\":\\\"328.468324450375\\\"},{\\\"time\\\":\\\"1994-01-01\\\",\\\"regions\\\":\\\"FSU\\\",\\\"income\\\":\\\"595.1623714143176\\\"},{\\\"time\\\":\\\"1994-01-01\\\",\\\"regions\\\":\\\"MDE\\\",\\\"income\\\":\\\"523.2621546025332\\\"},{\\\"time\\\":\\\"1994-01-01\\\",\\\"regions\\\":\\\"CAM\\\",\\\"income\\\":\\\"318.78544894292367\\\"},{\\\"time\\\":\\\"1994-01-01\\\",\\\"regions\\\":\\\"LAM\\\",\\\"income\\\":\\\"1270.4840947985222\\\"},{\\\"time\\\":\\\"1994-01-01\\\",\\\"regions\\\":\\\"SAS\\\",\\\"income\\\":\\\"429.56583587470453\\\"},{\\\"time\\\":\\\"1994-01-01\\\",\\\"regions\\\":\\\"SEA\\\",\\\"income\\\":\\\"607.6175931877582\\\"},{\\\"time\\\":\\\"1994-01-01\\\",\\\"regions\\\":\\\"CHI\\\",\\\"income\\\":\\\"770.7471786370118\\\"},{\\\"time\\\":\\\"1994-01-01\\\",\\\"regions\\\":\\\"MAF\\\",\\\"income\\\":\\\"148.34771857199772\\\"},{\\\"time\\\":\\\"1994-01-01\\\",\\\"regions\\\":\\\"SSA\\\",\\\"income\\\":\\\"288.4432512063994\\\"},{\\\"time\\\":\\\"1994-01-01\\\",\\\"regions\\\":\\\"SIS\\\",\\\"income\\\":\\\"40.68047044768902\\\"},{\\\"time\\\":\\\"1995-01-01\\\",\\\"regions\\\":\\\"USA\\\",\\\"income\\\":\\\"7036.300888688201\\\"},{\\\"time\\\":\\\"1995-01-01\\\",\\\"regions\\\":\\\"CAN\\\",\\\"income\\\":\\\"573.7423907136267\\\"},{\\\"time\\\":\\\"1995-01-01\\\",\\\"regions\\\":\\\"WEU\\\",\\\"income\\\":\\\"8911.199408335338\\\"},{\\\"time\\\":\\\"1995-01-01\\\",\\\"regions\\\":\\\"JPK\\\",\\\"income\\\":\\\"5598.505635490683\\\"},{\\\"time\\\":\\\"1995-01-01\\\",\\\"regions\\\":\\\"ANZ\\\",\\\"income\\\":\\\"417.4354659611088\\\"},{\\\"time\\\":\\\"1995-01-01\\\",\\\"regions\\\":\\\"EEU\\\",\\\"income\\\":\\\"326.09255369319897\\\"},{\\\"time\\\":\\\"1995-01-01\\\",\\\"regions\\\":\\\"FSU\\\",\\\"income\\\":\\\"534.4700882841379\\\"},{\\\"time\\\":\\\"1995-01-01\\\",\\\"regions\\\":\\\"MDE\\\",\\\"income\\\":\\\"544.1344706940846\\\"},{\\\"time\\\":\\\"1995-01-01\\\",\\\"regions\\\":\\\"CAM\\\",\\\"income\\\":\\\"324.73426431861407\\\"},{\\\"time\\\":\\\"1995-01-01\\\",\\\"regions\\\":\\\"LAM\\\",\\\"income\\\":\\\"1323.7260090808045\\\"},{\\\"time\\\":\\\"1995-01-01\\\",\\\"regions\\\":\\\"SAS\\\",\\\"income\\\":\\\"451.6277560134974\\\"},{\\\"time\\\":\\\"1995-01-01\\\",\\\"regions\\\":\\\"SEA\\\",\\\"income\\\":\\\"652.7156220161522\\\"},{\\\"time\\\":\\\"1995-01-01\\\",\\\"regions\\\":\\\"CHI\\\",\\\"income\\\":\\\"853.6906477665228\\\"},{\\\"time\\\":\\\"1995-01-01\\\",\\\"regions\\\":\\\"MAF\\\",\\\"income\\\":\\\"151.2454351112961\\\"},{\\\"time\\\":\\\"1995-01-01\\\",\\\"regions\\\":\\\"SSA\\\",\\\"income\\\":\\\"291.8782626667079\\\"},{\\\"time\\\":\\\"1995-01-01\\\",\\\"regions\\\":\\\"SIS\\\",\\\"income\\\":\\\"41.597585661932584\\\"},{\\\"time\\\":\\\"1996-01-01\\\",\\\"regions\\\":\\\"USA\\\",\\\"income\\\":\\\"7289.494670647135\\\"},{\\\"time\\\":\\\"1996-01-01\\\",\\\"regions\\\":\\\"CAN\\\",\\\"income\\\":\\\"580.8651003170959\\\"},{\\\"time\\\":\\\"1996-01-01\\\",\\\"regions\\\":\\\"WEU\\\",\\\"income\\\":\\\"9068.418041423321\\\"},{\\\"time\\\":\\\"1996-01-01\\\",\\\"regions\\\":\\\"JPK\\\",\\\"income\\\":\\\"5834.162872224889\\\"},{\\\"time\\\":\\\"1996-01-01\\\",\\\"regions\\\":\\\"ANZ\\\",\\\"income\\\":\\\"428.6836669147509\\\"},{\\\"time\\\":\\\"1996-01-01\\\",\\\"regions\\\":\\\"EEU\\\",\\\"income\\\":\\\"338.9094845621525\\\"},{\\\"time\\\":\\\"1996-01-01\\\",\\\"regions\\\":\\\"FSU\\\",\\\"income\\\":\\\"515.9072189861707\\\"},{\\\"time\\\":\\\"1996-01-01\\\",\\\"regions\\\":\\\"MDE\\\",\\\"income\\\":\\\"566.8608077338907\\\"},{\\\"time\\\":\\\"1996-01-01\\\",\\\"regions\\\":\\\"CAM\\\",\\\"income\\\":\\\"341.03753539846116\\\"},{\\\"time\\\":\\\"1996-01-01\\\",\\\"regions\\\":\\\"LAM\\\",\\\"income\\\":\\\"1366.3584687140155\\\"},{\\\"time\\\":\\\"1996-01-01\\\",\\\"regions\\\":\\\"SAS\\\",\\\"income\\\":\\\"482.2785622679436\\\"},{\\\"time\\\":\\\"1996-01-01\\\",\\\"regions\\\":\\\"SEA\\\",\\\"income\\\":\\\"698.7827993205505\\\"},{\\\"time\\\":\\\"1996-01-01\\\",\\\"regions\\\":\\\"CHI\\\",\\\"income\\\":\\\"929.9739271080218\\\"},{\\\"time\\\":\\\"1996-01-01\\\",\\\"regions\\\":\\\"MAF\\\",\\\"income\\\":\\\"161.16331081404206\\\"},{\\\"time\\\":\\\"1996-01-01\\\",\\\"regions\\\":\\\"SSA\\\",\\\"income\\\":\\\"304.9674735234447\\\"},{\\\"time\\\":\\\"1996-01-01\\\",\\\"regions\\\":\\\"SIS\\\",\\\"income\\\":\\\"43.64954747863235\\\"},{\\\"time\\\":\\\"1997-01-01\\\",\\\"regions\\\":\\\"USA\\\",\\\"income\\\":\\\"7795.923645703091\\\"},{\\\"time\\\":\\\"1997-01-01\\\",\\\"regions\\\":\\\"CAN\\\",\\\"income\\\":\\\"612.7343274172662\\\"},{\\\"time\\\":\\\"1997-01-01\\\",\\\"regions\\\":\\\"WEU\\\",\\\"income\\\":\\\"9300.38117477577\\\"},{\\\"time\\\":\\\"1997-01-01\\\",\\\"regions\\\":\\\"JPK\\\",\\\"income\\\":\\\"5907.5079837002595\\\"},{\\\"time\\\":\\\"1997-01-01\\\",\\\"regions\\\":\\\"ANZ\\\",\\\"income\\\":\\\"439.27846199986885\\\"},{\\\"time\\\":\\\"1997-01-01\\\",\\\"regions\\\":\\\"EEU\\\",\\\"income\\\":\\\"350.0430751321851\\\"},{\\\"time\\\":\\\"1997-01-01\\\",\\\"regions\\\":\\\"FSU\\\",\\\"income\\\":\\\"522.3196882513009\\\"},{\\\"time\\\":\\\"1997-01-01\\\",\\\"regions\\\":\\\"MDE\\\",\\\"income\\\":\\\"592.2795346108405\\\"},{\\\"time\\\":\\\"1997-01-01\\\",\\\"regions\\\":\\\"CAM\\\",\\\"income\\\":\\\"364.03574809076724\\\"},{\\\"time\\\":\\\"1997-01-01\\\",\\\"regions\\\":\\\"LAM\\\",\\\"income\\\":\\\"1433.6183939340142\\\"},{\\\"time\\\":\\\"1997-01-01\\\",\\\"regions\\\":\\\"SAS\\\",\\\"income\\\":\\\"504.6461449257334\\\"},{\\\"time\\\":\\\"1997-01-01\\\",\\\"regions\\\":\\\"SEA\\\",\\\"income\\\":\\\"729.768255888086\\\"},{\\\"time\\\":\\\"1997-01-01\\\",\\\"regions\\\":\\\"CHI\\\",\\\"income\\\":\\\"1007.5955866031345\\\"},{\\\"time\\\":\\\"1997-01-01\\\",\\\"regions\\\":\\\"MAF\\\",\\\"income\\\":\\\"165.42949172193227\\\"},{\\\"time\\\":\\\"1997-01-01\\\",\\\"regions\\\":\\\"SSA\\\",\\\"income\\\":\\\"314.2758756649394\\\"},{\\\"time\\\":\\\"1997-01-01\\\",\\\"regions\\\":\\\"SIS\\\",\\\"income\\\":\\\"45.45613540841626\\\"},{\\\"time\\\":\\\"1998-01-01\\\",\\\"regions\\\":\\\"USA\\\",\\\"income\\\":\\\"8144.141505706323\\\"},{\\\"time\\\":\\\"1998-01-01\\\",\\\"regions\\\":\\\"CAN\\\",\\\"income\\\":\\\"639.7785133819818\\\"},{\\\"time\\\":\\\"1998-01-01\\\",\\\"regions\\\":\\\"WEU\\\",\\\"income\\\":\\\"9548.995541969807\\\"},{\\\"time\\\":\\\"1998-01-01\\\",\\\"regions\\\":\\\"JPK\\\",\\\"income\\\":\\\"6038.12101324241\\\"},{\\\"time\\\":\\\"1998-01-01\\\",\\\"regions\\\":\\\"ANZ\\\",\\\"income\\\":\\\"456.5442399919024\\\"},{\\\"time\\\":\\\"1998-01-01\\\",\\\"regions\\\":\\\"EEU\\\",\\\"income\\\":\\\"361.56338860430697\\\"},{\\\"time\\\":\\\"1998-01-01\\\",\\\"regions\\\":\\\"FSU\\\",\\\"income\\\":\\\"524.5592226922688\\\"},{\\\"time\\\":\\\"1998-01-01\\\",\\\"regions\\\":\\\"MDE\\\",\\\"income\\\":\\\"627.3481417310184\\\"},{\\\"time\\\":\\\"1998-01-01\\\",\\\"regions\\\":\\\"CAM\\\",\\\"income\\\":\\\"389.1561530079881\\\"},{\\\"time\\\":\\\"1998-01-01\\\",\\\"regions\\\":\\\"LAM\\\",\\\"income\\\":\\\"1508.3232221696792\\\"},{\\\"time\\\":\\\"1998-01-01\\\",\\\"regions\\\":\\\"SAS\\\",\\\"income\\\":\\\"528.0774524221141\\\"},{\\\"time\\\":\\\"1998-01-01\\\",\\\"regions\\\":\\\"SEA\\\",\\\"income\\\":\\\"768.9316336702534\\\"},{\\\"time\\\":\\\"1998-01-01\\\",\\\"regions\\\":\\\"CHI\\\",\\\"income\\\":\\\"1092.0653624197946\\\"},{\\\"time\\\":\\\"1998-01-01\\\",\\\"regions\\\":\\\"MAF\\\",\\\"income\\\":\\\"172.0237716753679\\\"},{\\\"time\\\":\\\"1998-01-01\\\",\\\"regions\\\":\\\"SSA\\\",\\\"income\\\":\\\"323.0171738116064\\\"},{\\\"time\\\":\\\"1998-01-01\\\",\\\"regions\\\":\\\"SIS\\\",\\\"income\\\":\\\"48.58777883894616\\\"},{\\\"time\\\":\\\"1999-01-01\\\",\\\"regions\\\":\\\"USA\\\",\\\"income\\\":\\\"8502.986776698825\\\"},{\\\"time\\\":\\\"1999-01-01\\\",\\\"regions\\\":\\\"CAN\\\",\\\"income\\\":\\\"661.1657928828479\\\"},{\\\"time\\\":\\\"1999-01-01\\\",\\\"regions\\\":\\\"WEU\\\",\\\"income\\\":\\\"9821.00111188619\\\"},{\\\"time\\\":\\\"1999-01-01\\\",\\\"regions\\\":\\\"JPK\\\",\\\"income\\\":\\\"5945.066342881114\\\"},{\\\"time\\\":\\\"1999-01-01\\\",\\\"regions\\\":\\\"ANZ\\\",\\\"income\\\":\\\"477.93004391507\\\"},{\\\"time\\\":\\\"1999-01-01\\\",\\\"regions\\\":\\\"EEU\\\",\\\"income\\\":\\\"370.8365929246366\\\"},{\\\"time\\\":\\\"1999-01-01\\\",\\\"regions\\\":\\\"FSU\\\",\\\"income\\\":\\\"502.1542235291592\\\"},{\\\"time\\\":\\\"1999-01-01\\\",\\\"regions\\\":\\\"MDE\\\",\\\"income\\\":\\\"650.0882089813557\\\"},{\\\"time\\\":\\\"1999-01-01\\\",\\\"regions\\\":\\\"CAM\\\",\\\"income\\\":\\\"408.5954878658947\\\"},{\\\"time\\\":\\\"1999-01-01\\\",\\\"regions\\\":\\\"LAM\\\",\\\"income\\\":\\\"1522.9144939203954\\\"},{\\\"time\\\":\\\"1999-01-01\\\",\\\"regions\\\":\\\"SAS\\\",\\\"income\\\":\\\"557.3196507248915\\\"},{\\\"time\\\":\\\"1999-01-01\\\",\\\"regions\\\":\\\"SEA\\\",\\\"income\\\":\\\"748.4302672291672\\\"},{\\\"time\\\":\\\"1999-01-01\\\",\\\"regions\\\":\\\"CHI\\\",\\\"income\\\":\\\"1156.3502012561019\\\"},{\\\"time\\\":\\\"1999-01-01\\\",\\\"regions\\\":\\\"MAF\\\",\\\"income\\\":\\\"181.43713502251788\\\"},{\\\"time\\\":\\\"1999-01-01\\\",\\\"regions\\\":\\\"SSA\\\",\\\"income\\\":\\\"326.0138205988657\\\"},{\\\"time\\\":\\\"1999-01-01\\\",\\\"regions\\\":\\\"SIS\\\",\\\"income\\\":\\\"51.013471743986976\\\"},{\\\"time\\\":\\\"2000-01-01\\\",\\\"regions\\\":\\\"USA\\\",\\\"income\\\":\\\"8865.604132068796\\\"},{\\\"time\\\":\\\"2000-01-01\\\",\\\"regions\\\":\\\"CAN\\\",\\\"income\\\":\\\"691.477654636363\\\"},{\\\"time\\\":\\\"2000-01-01\\\",\\\"regions\\\":\\\"WEU\\\",\\\"income\\\":\\\"10071.906204945328\\\"},{\\\"time\\\":\\\"2000-01-01\\\",\\\"regions\\\":\\\"JPK\\\",\\\"income\\\":\\\"6045.492446349192\\\"},{\\\"time\\\":\\\"2000-01-01\\\",\\\"regions\\\":\\\"ANZ\\\",\\\"income\\\":\\\"499.8599505989495\\\"},{\\\"time\\\":\\\"2000-01-01\\\",\\\"regions\\\":\\\"EEU\\\",\\\"income\\\":\\\"380.3217956768031\\\"},{\\\"time\\\":\\\"2000-01-01\\\",\\\"regions\\\":\\\"FSU\\\",\\\"income\\\":\\\"515.6114480744284\\\"},{\\\"time\\\":\\\"2000-01-01\\\",\\\"regions\\\":\\\"MDE\\\",\\\"income\\\":\\\"647.1756029032014\\\"},{\\\"time\\\":\\\"2000-01-01\\\",\\\"regions\\\":\\\"CAM\\\",\\\"income\\\":\\\"424.55195180134626\\\"},{\\\"time\\\":\\\"2000-01-01\\\",\\\"regions\\\":\\\"LAM\\\",\\\"income\\\":\\\"1499.39013947247\\\"},{\\\"time\\\":\\\"2000-01-01\\\",\\\"regions\\\":\\\"SAS\\\",\\\"income\\\":\\\"594.5219695838236\\\"},{\\\"time\\\":\\\"2000-01-01\\\",\\\"regions\\\":\\\"SEA\\\",\\\"income\\\":\\\"780.2673021002308\\\"},{\\\"time\\\":\\\"2000-01-01\\\",\\\"regions\\\":\\\"CHI\\\",\\\"income\\\":\\\"1234.9474686798344\\\"},{\\\"time\\\":\\\"2000-01-01\\\",\\\"regions\\\":\\\"MAF\\\",\\\"income\\\":\\\"190.730180327509\\\"},{\\\"time\\\":\\\"2000-01-01\\\",\\\"regions\\\":\\\"SSA\\\",\\\"income\\\":\\\"332.80387650569907\\\"},{\\\"time\\\":\\\"2000-01-01\\\",\\\"regions\\\":\\\"SIS\\\",\\\"income\\\":\\\"53.006739100455526\\\"},{\\\"time\\\":\\\"2001-01-01\\\",\\\"regions\\\":\\\"USA\\\",\\\"income\\\":\\\"9306.775773159385\\\"},{\\\"time\\\":\\\"2001-01-01\\\",\\\"regions\\\":\\\"CAN\\\",\\\"income\\\":\\\"723.6693649797113\\\"},{\\\"time\\\":\\\"2001-01-01\\\",\\\"regions\\\":\\\"WEU\\\",\\\"income\\\":\\\"10411.866381324566\\\"},{\\\"time\\\":\\\"2001-01-01\\\",\\\"regions\\\":\\\"JPK\\\",\\\"income\\\":\\\"6190.05292138848\\\"},{\\\"time\\\":\\\"2001-01-01\\\",\\\"regions\\\":\\\"ANZ\\\",\\\"income\\\":\\\"518.5283378250524\\\"},{\\\"time\\\":\\\"2001-01-01\\\",\\\"regions\\\":\\\"EEU\\\",\\\"income\\\":\\\"394.6472342769006\\\"},{\\\"time\\\":\\\"2001-01-01\\\",\\\"regions\\\":\\\"FSU\\\",\\\"income\\\":\\\"554.8402695980035\\\"},{\\\"time\\\":\\\"2001-01-01\\\",\\\"regions\\\":\\\"MDE\\\",\\\"income\\\":\\\"684.0769074745871\\\"},{\\\"time\\\":\\\"2001-01-01\\\",\\\"regions\\\":\\\"CAM\\\",\\\"income\\\":\\\"435.6856625363149\\\"},{\\\"time\\\":\\\"2001-01-01\\\",\\\"regions\\\":\\\"LAM\\\",\\\"income\\\":\\\"1545.3113861257177\\\"},{\\\"time\\\":\\\"2001-01-01\\\",\\\"regions\\\":\\\"SAS\\\",\\\"income\\\":\\\"629.7143833205982\\\"},{\\\"time\\\":\\\"2001-01-01\\\",\\\"regions\\\":\\\"SEA\\\",\\\"income\\\":\\\"827.9250931028704\\\"},{\\\"time\\\":\\\"2001-01-01\\\",\\\"regions\\\":\\\"CHI\\\",\\\"income\\\":\\\"1341.2076783950235\\\"},{\\\"time\\\":\\\"2001-01-01\\\",\\\"regions\\\":\\\"MAF\\\",\\\"income\\\":\\\"198.4136629284171\\\"},{\\\"time\\\":\\\"2001-01-01\\\",\\\"regions\\\":\\\"SSA\\\",\\\"income\\\":\\\"342.8281463282054\\\"},{\\\"time\\\":\\\"2001-01-01\\\",\\\"regions\\\":\\\"SIS\\\",\\\"income\\\":\\\"56.714635828125836\\\"},{\\\"time\\\":\\\"2002-01-01\\\",\\\"regions\\\":\\\"USA\\\",\\\"income\\\":\\\"9532.912282761807\\\"},{\\\"time\\\":\\\"2002-01-01\\\",\\\"regions\\\":\\\"CAN\\\",\\\"income\\\":\\\"743.5769260038804\\\"},{\\\"time\\\":\\\"2002-01-01\\\",\\\"regions\\\":\\\"WEU\\\",\\\"income\\\":\\\"10624.333032813967\\\"},{\\\"time\\\":\\\"2002-01-01\\\",\\\"regions\\\":\\\"JPK\\\",\\\"income\\\":\\\"6345.099338437421\\\"},{\\\"time\\\":\\\"2002-01-01\\\",\\\"regions\\\":\\\"ANZ\\\",\\\"income\\\":\\\"534.7564446205872\\\"},{\\\"time\\\":\\\"2002-01-01\\\",\\\"regions\\\":\\\"EEU\\\",\\\"income\\\":\\\"403.04460838762463\\\"},{\\\"time\\\":\\\"2002-01-01\\\",\\\"regions\\\":\\\"FSU\\\",\\\"income\\\":\\\"566.4009915957439\\\"},{\\\"time\\\":\\\"2002-01-01\\\",\\\"regions\\\":\\\"MDE\\\",\\\"income\\\":\\\"699.6728138925823\\\"},{\\\"time\\\":\\\"2002-01-01\\\",\\\"regions\\\":\\\"CAM\\\",\\\"income\\\":\\\"447.5234517452401\\\"},{\\\"time\\\":\\\"2002-01-01\\\",\\\"regions\\\":\\\"LAM\\\",\\\"income\\\":\\\"1582.8739844653871\\\"},{\\\"time\\\":\\\"2002-01-01\\\",\\\"regions\\\":\\\"SAS\\\",\\\"income\\\":\\\"660.4351386207583\\\"},{\\\"time\\\":\\\"2002-01-01\\\",\\\"regions\\\":\\\"SEA\\\",\\\"income\\\":\\\"872.5275281024062\\\"},{\\\"time\\\":\\\"2002-01-01\\\",\\\"regions\\\":\\\"CHI\\\",\\\"income\\\":\\\"1406.568312019753\\\"},{\\\"time\\\":\\\"2002-01-01\\\",\\\"regions\\\":\\\"MAF\\\",\\\"income\\\":\\\"204.34950984405717\\\"},{\\\"time\\\":\\\"2002-01-01\\\",\\\"regions\\\":\\\"SSA\\\",\\\"income\\\":\\\"354.6981106726903\\\"},{\\\"time\\\":\\\"2002-01-01\\\",\\\"regions\\\":\\\"SIS\\\",\\\"income\\\":\\\"58.032957080800415\\\"},{\\\"time\\\":\\\"2003-01-01\\\",\\\"regions\\\":\\\"USA\\\",\\\"income\\\":\\\"9760.941581242201\\\"},{\\\"time\\\":\\\"2003-01-01\\\",\\\"regions\\\":\\\"CAN\\\",\\\"income\\\":\\\"763.5398765781046\\\"},{\\\"time\\\":\\\"2003-01-01\\\",\\\"regions\\\":\\\"WEU\\\",\\\"income\\\":\\\"10840.589291026075\\\"},{\\\"time\\\":\\\"2003-01-01\\\",\\\"regions\\\":\\\"JPK\\\",\\\"income\\\":\\\"6511.302022105173\\\"},{\\\"time\\\":\\\"2003-01-01\\\",\\\"regions\\\":\\\"ANZ\\\",\\\"income\\\":\\\"551.37396865943\\\"},{\\\"time\\\":\\\"2003-01-01\\\",\\\"regions\\\":\\\"EEU\\\",\\\"income\\\":\\\"412.36345948364584\\\"},{\\\"time\\\":\\\"2003-01-01\\\",\\\"regions\\\":\\\"FSU\\\",\\\"income\\\":\\\"579.2692442477069\\\"},{\\\"time\\\":\\\"2003-01-01\\\",\\\"regions\\\":\\\"MDE\\\",\\\"income\\\":\\\"717.436691569673\\\"},{\\\"time\\\":\\\"2003-01-01\\\",\\\"regions\\\":\\\"CAM\\\",\\\"income\\\":\\\"460.1050591253109\\\"},{\\\"time\\\":\\\"2003-01-01\\\",\\\"regions\\\":\\\"LAM\\\",\\\"income\\\":\\\"1623.2959056853902\\\"},{\\\"time\\\":\\\"2003-01-01\\\",\\\"regions\\\":\\\"SAS\\\",\\\"income\\\":\\\"691.8647568900715\\\"},{\\\"time\\\":\\\"2003-01-01\\\",\\\"regions\\\":\\\"SEA\\\",\\\"income\\\":\\\"918.2607627133539\\\"},{\\\"time\\\":\\\"2003-01-01\\\",\\\"regions\\\":\\\"CHI\\\",\\\"income\\\":\\\"1473.1984422392457\\\"},{\\\"time\\\":\\\"2003-01-01\\\",\\\"regions\\\":\\\"MAF\\\",\\\"income\\\":\\\"210.87222765473592\\\"},{\\\"time\\\":\\\"2003-01-01\\\",\\\"regions\\\":\\\"SSA\\\",\\\"income\\\":\\\"367.5070257667592\\\"},{\\\"time\\\":\\\"2003-01-01\\\",\\\"regions\\\":\\\"SIS\\\",\\\"income\\\":\\\"59.46174996914688\\\"},{\\\"time\\\":\\\"2004-01-01\\\",\\\"regions\\\":\\\"USA\\\",\\\"income\\\":\\\"9990.734973628114\\\"},{\\\"time\\\":\\\"2004-01-01\\\",\\\"regions\\\":\\\"CAN\\\",\\\"income\\\":\\\"783.5409970380349\\\"},{\\\"time\\\":\\\"2004-01-01\\\",\\\"regions\\\":\\\"WEU\\\",\\\"income\\\":\\\"11060.909815288936\\\"},{\\\"time\\\":\\\"2004-01-01\\\",\\\"regions\\\":\\\"JPK\\\",\\\"income\\\":\\\"6684.869402867611\\\"},{\\\"time\\\":\\\"2004-01-01\\\",\\\"regions\\\":\\\"ANZ\\\",\\\"income\\\":\\\"568.3914742021142\\\"},{\\\"time\\\":\\\"2004-01-01\\\",\\\"regions\\\":\\\"EEU\\\",\\\"income\\\":\\\"422.66192674470716\\\"},{\\\"time\\\":\\\"2004-01-01\\\",\\\"regions\\\":\\\"FSU\\\",\\\"income\\\":\\\"593.5322362174119\\\"},{\\\"time\\\":\\\"2004-01-01\\\",\\\"regions\\\":\\\"MDE\\\",\\\"income\\\":\\\"737.5159333803559\\\"},{\\\"time\\\":\\\"2004-01-01\\\",\\\"regions\\\":\\\"CAM\\\",\\\"income\\\":\\\"473.4731225670651\\\"},{\\\"time\\\":\\\"2004-01-01\\\",\\\"regions\\\":\\\"LAM\\\",\\\"income\\\":\\\"1666.743164507392\\\"},{\\\"time\\\":\\\"2004-01-01\\\",\\\"regions\\\":\\\"SAS\\\",\\\"income\\\":\\\"723.9703420297682\\\"},{\\\"time\\\":\\\"2004-01-01\\\",\\\"regions\\\":\\\"SEA\\\",\\\"income\\\":\\\"965.0532200163354\\\"},{\\\"time\\\":\\\"2004-01-01\\\",\\\"regions\\\":\\\"CHI\\\",\\\"income\\\":\\\"1540.9804744174867\\\"},{\\\"time\\\":\\\"2004-01-01\\\",\\\"regions\\\":\\\"MAF\\\",\\\"income\\\":\\\"218.02365126352365\\\"},{\\\"time\\\":\\\"2004-01-01\\\",\\\"regions\\\":\\\"SSA\\\",\\\"income\\\":\\\"381.32889869196924\\\"},{\\\"time\\\":\\\"2004-01-01\\\",\\\"regions\\\":\\\"SIS\\\",\\\"income\\\":\\\"61.007960914901844\\\"},{\\\"time\\\":\\\"2005-01-01\\\",\\\"regions\\\":\\\"USA\\\",\\\"income\\\":\\\"10222.159781826093\\\"},{\\\"time\\\":\\\"2005-01-01\\\",\\\"regions\\\":\\\"CAN\\\",\\\"income\\\":\\\"803.555145073564\\\"},{\\\"time\\\":\\\"2005-01-01\\\",\\\"regions\\\":\\\"WEU\\\",\\\"income\\\":\\\"11285.363198045741\\\"},{\\\"time\\\":\\\"2005-01-01\\\",\\\"regions\\\":\\\"JPK\\\",\\\"income\\\":\\\"6865.683541169595\\\"},{\\\"time\\\":\\\"2005-01-01\\\",\\\"regions\\\":\\\"ANZ\\\",\\\"income\\\":\\\"585.8083954038239\\\"},{\\\"time\\\":\\\"2005-01-01\\\",\\\"regions\\\":\\\"EEU\\\",\\\"income\\\":\\\"434.00097299290775\\\"},{\\\"time\\\":\\\"2005-01-01\\\",\\\"regions\\\":\\\"FSU\\\",\\\"income\\\":\\\"609.2697720270085\\\"},{\\\"time\\\":\\\"2005-01-01\\\",\\\"regions\\\":\\\"MDE\\\",\\\"income\\\":\\\"760.0722906919896\\\"},{\\\"time\\\":\\\"2005-01-01\\\",\\\"regions\\\":\\\"CAM\\\",\\\"income\\\":\\\"487.6735411328014\\\"},{\\\"time\\\":\\\"2005-01-01\\\",\\\"regions\\\":\\\"LAM\\\",\\\"income\\\":\\\"1713.3966031716823\\\"},{\\\"time\\\":\\\"2005-01-01\\\",\\\"regions\\\":\\\"SAS\\\",\\\"income\\\":\\\"756.7009711141457\\\"},{\\\"time\\\":\\\"2005-01-01\\\",\\\"regions\\\":\\\"SEA\\\",\\\"income\\\":\\\"1012.8244199722561\\\"},{\\\"time\\\":\\\"2005-01-01\\\",\\\"regions\\\":\\\"CHI\\\",\\\"income\\\":\\\"1609.8013461332202\\\"},{\\\"time\\\":\\\"2005-01-01\\\",\\\"regions\\\":\\\"MAF\\\",\\\"income\\\":\\\"225.8525753753925\\\"},{\\\"time\\\":\\\"2005-01-01\\\",\\\"regions\\\":\\\"SSA\\\",\\\"income\\\":\\\"396.23752932793934\\\"},{\\\"time\\\":\\\"2005-01-01\\\",\\\"regions\\\":\\\"SIS\\\",\\\"income\\\":\\\"62.67806430365182\\\"},{\\\"time\\\":\\\"2006-01-01\\\",\\\"regions\\\":\\\"USA\\\",\\\"income\\\":\\\"10455.179942463352\\\"},{\\\"time\\\":\\\"2006-01-01\\\",\\\"regions\\\":\\\"CAN\\\",\\\"income\\\":\\\"823.5482892467161\\\"},{\\\"time\\\":\\\"2006-01-01\\\",\\\"regions\\\":\\\"WEU\\\",\\\"income\\\":\\\"11513.903944761378\\\"},{\\\"time\\\":\\\"2006-01-01\\\",\\\"regions\\\":\\\"JPK\\\",\\\"income\\\":\\\"7054.146645573788\\\"},{\\\"time\\\":\\\"2006-01-01\\\",\\\"regions\\\":\\\"ANZ\\\",\\\"income\\\":\\\"603.6412370809594\\\"},{\\\"time\\\":\\\"2006-01-01\\\",\\\"regions\\\":\\\"EEU\\\",\\\"income\\\":\\\"446.4485501063542\\\"},{\\\"time\\\":\\\"2006-01-01\\\",\\\"regions\\\":\\\"FSU\\\",\\\"income\\\":\\\"626.5835490931711\\\"},{\\\"time\\\":\\\"2006-01-01\\\",\\\"regions\\\":\\\"MDE\\\",\\\"income\\\":\\\"785.2908075460455\\\"},{\\\"time\\\":\\\"2006-01-01\\\",\\\"regions\\\":\\\"CAM\\\",\\\"income\\\":\\\"502.75572733167274\\\"},{\\\"time\\\":\\\"2006-01-01\\\",\\\"regions\\\":\\\"LAM\\\",\\\"income\\\":\\\"1763.4706717376455\\\"},{\\\"time\\\":\\\"2006-01-01\\\",\\\"regions\\\":\\\"SAS\\\",\\\"income\\\":\\\"790.0157015944717\\\"},{\\\"time\\\":\\\"2006-01-01\\\",\\\"regions\\\":\\\"SEA\\\",\\\"income\\\":\\\"1061.4753618171721\\\"},{\\\"time\\\":\\\"2006-01-01\\\",\\\"regions\\\":\\\"CHI\\\",\\\"income\\\":\\\"1679.5081378938748\\\"},{\\\"time\\\":\\\"2006-01-01\\\",\\\"regions\\\":\\\"MAF\\\",\\\"income\\\":\\\"234.41571093384297\\\"},{\\\"time\\\":\\\"2006-01-01\\\",\\\"regions\\\":\\\"SSA\\\",\\\"income\\\":\\\"412.32179750229216\\\"},{\\\"time\\\":\\\"2006-01-01\\\",\\\"regions\\\":\\\"SIS\\\",\\\"income\\\":\\\"64.48041784048758\\\"},{\\\"time\\\":\\\"2007-01-01\\\",\\\"regions\\\":\\\"USA\\\",\\\"income\\\":\\\"10689.55336822627\\\"},{\\\"time\\\":\\\"2007-01-01\\\",\\\"regions\\\":\\\"CAN\\\",\\\"income\\\":\\\"843.4934427343425\\\"},{\\\"time\\\":\\\"2007-01-01\\\",\\\"regions\\\":\\\"WEU\\\",\\\"income\\\":\\\"11746.59738375124\\\"},{\\\"time\\\":\\\"2007-01-01\\\",\\\"regions\\\":\\\"JPK\\\",\\\"income\\\":\\\"7250.472189339605\\\"},{\\\"time\\\":\\\"2007-01-01\\\",\\\"regions\\\":\\\"ANZ\\\",\\\"income\\\":\\\"621.8833193809892\\\"},{\\\"time\\\":\\\"2007-01-01\\\",\\\"regions\\\":\\\"EEU\\\",\\\"income\\\":\\\"460.0805627517036\\\"},{\\\"time\\\":\\\"2007-01-01\\\",\\\"regions\\\":\\\"FSU\\\",\\\"income\\\":\\\"645.5808906460736\\\"},{\\\"time\\\":\\\"2007-01-01\\\",\\\"regions\\\":\\\"MDE\\\",\\\"income\\\":\\\"813.3742996428357\\\"},{\\\"time\\\":\\\"2007-01-01\\\",\\\"regions\\\":\\\"CAM\\\",\\\"income\\\":\\\"518.7677810597776\\\"},{\\\"time\\\":\\\"2007-01-01\\\",\\\"regions\\\":\\\"LAM\\\",\\\"income\\\":\\\"1817.1457434578333\\\"},{\\\"time\\\":\\\"2007-01-01\\\",\\\"regions\\\":\\\"SAS\\\",\\\"income\\\":\\\"823.8464107009189\\\"},{\\\"time\\\":\\\"2007-01-01\\\",\\\"regions\\\":\\\"SEA\\\",\\\"income\\\":\\\"1110.9184530068242\\\"},{\\\"time\\\":\\\"2007-01-01\\\",\\\"regions\\\":\\\"CHI\\\",\\\"income\\\":\\\"1749.9523387713627\\\"},{\\\"time\\\":\\\"2007-01-01\\\",\\\"regions\\\":\\\"MAF\\\",\\\"income\\\":\\\"243.7691918241729\\\"},{\\\"time\\\":\\\"2007-01-01\\\",\\\"regions\\\":\\\"SSA\\\",\\\"income\\\":\\\"429.6670025512637\\\"},{\\\"time\\\":\\\"2007-01-01\\\",\\\"regions\\\":\\\"SIS\\\",\\\"income\\\":\\\"66.4228189530541\\\"},{\\\"time\\\":\\\"2008-01-01\\\",\\\"regions\\\":\\\"USA\\\",\\\"income\\\":\\\"10925.23847298273\\\"},{\\\"time\\\":\\\"2008-01-01\\\",\\\"regions\\\":\\\"CAN\\\",\\\"income\\\":\\\"863.3713960212754\\\"},{\\\"time\\\":\\\"2008-01-01\\\",\\\"regions\\\":\\\"WEU\\\",\\\"income\\\":\\\"11983.505550878761\\\"},{\\\"time\\\":\\\"2008-01-01\\\",\\\"regions\\\":\\\"JPK\\\",\\\"income\\\":\\\"7455.097709551724\\\"},{\\\"time\\\":\\\"2008-01-01\\\",\\\"regions\\\":\\\"ANZ\\\",\\\"income\\\":\\\"640.5453587655669\\\"},{\\\"time\\\":\\\"2008-01-01\\\",\\\"regions\\\":\\\"EEU\\\",\\\"income\\\":\\\"474.976928896526\\\"},{\\\"time\\\":\\\"2008-01-01\\\",\\\"regions\\\":\\\"FSU\\\",\\\"income\\\":\\\"666.3750487854012\\\"},{\\\"time\\\":\\\"2008-01-01\\\",\\\"regions\\\":\\\"MDE\\\",\\\"income\\\":\\\"844.5696825400662\\\"},{\\\"time\\\":\\\"2008-01-01\\\",\\\"regions\\\":\\\"CAM\\\",\\\"income\\\":\\\"535.7664473752108\\\"},{\\\"time\\\":\\\"2008-01-01\\\",\\\"regions\\\":\\\"LAM\\\",\\\"income\\\":\\\"1874.672283248038\\\"},{\\\"time\\\":\\\"2008-01-01\\\",\\\"regions\\\":\\\"SAS\\\",\\\"income\\\":\\\"858.151711366269\\\"},{\\\"time\\\":\\\"2008-01-01\\\",\\\"regions\\\":\\\"SEA\\\",\\\"income\\\":\\\"1161.048179669831\\\"},{\\\"time\\\":\\\"2008-01-01\\\",\\\"regions\\\":\\\"CHI\\\",\\\"income\\\":\\\"1820.993591920341\\\"},{\\\"time\\\":\\\"2008-01-01\\\",\\\"regions\\\":\\\"MAF\\\",\\\"income\\\":\\\"253.98530268293302\\\"},{\\\"time\\\":\\\"2008-01-01\\\",\\\"regions\\\":\\\"SSA\\\",\\\"income\\\":\\\"448.3838563402516\\\"},{\\\"time\\\":\\\"2008-01-01\\\",\\\"regions\\\":\\\"SIS\\\",\\\"income\\\":\\\"68.51444871391867\\\"},{\\\"time\\\":\\\"2009-01-01\\\",\\\"regions\\\":\\\"USA\\\",\\\"income\\\":\\\"11161.86746154606\\\"},{\\\"time\\\":\\\"2009-01-01\\\",\\\"regions\\\":\\\"CAN\\\",\\\"income\\\":\\\"883.1545001092522\\\"},{\\\"time\\\":\\\"2009-01-01\\\",\\\"regions\\\":\\\"WEU\\\",\\\"income\\\":\\\"12224.81518077287\\\"},{\\\"time\\\":\\\"2009-01-01\\\",\\\"regions\\\":\\\"JPK\\\",\\\"income\\\":\\\"7668.412259409996\\\"},{\\\"time\\\":\\\"2009-01-01\\\",\\\"regions\\\":\\\"ANZ\\\",\\\"income\\\":\\\"659.6256214061027\\\"},{\\\"time\\\":\\\"2009-01-01\\\",\\\"regions\\\":\\\"EEU\\\",\\\"income\\\":\\\"491.2408569940852\\\"},{\\\"time\\\":\\\"2009-01-01\\\",\\\"regions\\\":\\\"FSU\\\",\\\"income\\\":\\\"689.0985274585516\\\"},{\\\"time\\\":\\\"2009-01-01\\\",\\\"regions\\\":\\\"MDE\\\",\\\"income\\\":\\\"879.1396752449006\\\"},{\\\"time\\\":\\\"2009-01-01\\\",\\\"regions\\\":\\\"CAM\\\",\\\"income\\\":\\\"553.8182862383484\\\"},{\\\"time\\\":\\\"2009-01-01\\\",\\\"regions\\\":\\\"LAM\\\",\\\"income\\\":\\\"1936.3045654462085\\\"},{\\\"time\\\":\\\"2009-01-01\\\",\\\"regions\\\":\\\"SAS\\\",\\\"income\\\":\\\"892.8624959027582\\\"},{\\\"time\\\":\\\"2009-01-01\\\",\\\"regions\\\":\\\"SEA\\\",\\\"income\\\":\\\"1211.7394689175972\\\"},{\\\"time\\\":\\\"2009-01-01\\\",\\\"regions\\\":\\\"CHI\\\",\\\"income\\\":\\\"1892.4485062973595\\\"},{\\\"time\\\":\\\"2009-01-01\\\",\\\"regions\\\":\\\"MAF\\\",\\\"income\\\":\\\"265.13709464923414\\\"},{\\\"time\\\":\\\"2009-01-01\\\",\\\"regions\\\":\\\"SSA\\\",\\\"income\\\":\\\"468.5810013944435\\\"},{\\\"time\\\":\\\"2009-01-01\\\",\\\"regions\\\":\\\"SIS\\\",\\\"income\\\":\\\"70.76610369235708\\\"},{\\\"time\\\":\\\"2010-01-01\\\",\\\"regions\\\":\\\"USA\\\",\\\"income\\\":\\\"11399.500063535075\\\"},{\\\"time\\\":\\\"2010-01-01\\\",\\\"regions\\\":\\\"CAN\\\",\\\"income\\\":\\\"902.7967569998656\\\"},{\\\"time\\\":\\\"2010-01-01\\\",\\\"regions\\\":\\\"WEU\\\",\\\"income\\\":\\\"12470.352009194155\\\"},{\\\"time\\\":\\\"2010-01-01\\\",\\\"regions\\\":\\\"JPK\\\",\\\"income\\\":\\\"7890.747539047548\\\"},{\\\"time\\\":\\\"2010-01-01\\\",\\\"regions\\\":\\\"ANZ\\\",\\\"income\\\":\\\"679.1349266265802\\\"},{\\\"time\\\":\\\"2010-01-01\\\",\\\"regions\\\":\\\"EEU\\\",\\\"income\\\":\\\"508.96728252607346\\\"},{\\\"time\\\":\\\"2010-01-01\\\",\\\"regions\\\":\\\"FSU\\\",\\\"income\\\":\\\"713.8991584770334\\\"},{\\\"time\\\":\\\"2010-01-01\\\",\\\"regions\\\":\\\"MDE\\\",\\\"income\\\":\\\"917.3992388946078\\\"},{\\\"time\\\":\\\"2010-01-01\\\",\\\"regions\\\":\\\"CAM\\\",\\\"income\\\":\\\"572.9896293770704\\\"},{\\\"time\\\":\\\"2010-01-01\\\",\\\"regions\\\":\\\"LAM\\\",\\\"income\\\":\\\"2002.3391447719023\\\"},{\\\"time\\\":\\\"2010-01-01\\\",\\\"regions\\\":\\\"SAS\\\",\\\"income\\\":\\\"927.9225830520172\\\"},{\\\"time\\\":\\\"2010-01-01\\\",\\\"regions\\\":\\\"SEA\\\",\\\"income\\\":\\\"1262.8945383464304\\\"},{\\\"time\\\":\\\"2010-01-01\\\",\\\"regions\\\":\\\"CHI\\\",\\\"income\\\":\\\"1964.1604401938134\\\"},{\\\"time\\\":\\\"2010-01-01\\\",\\\"regions\\\":\\\"MAF\\\",\\\"income\\\":\\\"277.31127023737304\\\"},{\\\"time\\\":\\\"2010-01-01\\\",\\\"regions\\\":\\\"SSA\\\",\\\"income\\\":\\\"490.38717747231874\\\"},{\\\"time\\\":\\\"2010-01-01\\\",\\\"regions\\\":\\\"SIS\\\",\\\"income\\\":\\\"73.18818477598025\\\"},{\\\"time\\\":\\\"2011-01-01\\\",\\\"regions\\\":\\\"USA\\\",\\\"income\\\":\\\"11637.865607250875\\\"},{\\\"time\\\":\\\"2011-01-01\\\",\\\"regions\\\":\\\"CAN\\\",\\\"income\\\":\\\"921.7073879949342\\\"},{\\\"time\\\":\\\"2011-01-01\\\",\\\"regions\\\":\\\"WEU\\\",\\\"income\\\":\\\"12720.426803342643\\\"},{\\\"time\\\":\\\"2011-01-01\\\",\\\"regions\\\":\\\"JPK\\\",\\\"income\\\":\\\"8122.60905050276\\\"},{\\\"time\\\":\\\"2011-01-01\\\",\\\"regions\\\":\\\"ANZ\\\",\\\"income\\\":\\\"699.0708822437284\\\"},{\\\"time\\\":\\\"2011-01-01\\\",\\\"regions\\\":\\\"EEU\\\",\\\"income\\\":\\\"528.276753276013\\\"},{\\\"time\\\":\\\"2011-01-01\\\",\\\"regions\\\":\\\"FSU\\\",\\\"income\\\":\\\"740.9482409048242\\\"},{\\\"time\\\":\\\"2011-01-01\\\",\\\"regions\\\":\\\"MDE\\\",\\\"income\\\":\\\"959.6955164464297\\\"},{\\\"time\\\":\\\"2011-01-01\\\",\\\"regions\\\":\\\"CAM\\\",\\\"income\\\":\\\"593.3519194520504\\\"},{\\\"time\\\":\\\"2011-01-01\\\",\\\"regions\\\":\\\"LAM\\\",\\\"income\\\":\\\"2073.058803451543\\\"},{\\\"time\\\":\\\"2011-01-01\\\",\\\"regions\\\":\\\"SAS\\\",\\\"income\\\":\\\"963.2543024115064\\\"},{\\\"time\\\":\\\"2011-01-01\\\",\\\"regions\\\":\\\"SEA\\\",\\\"income\\\":\\\"1310.9076004133465\\\"},{\\\"time\\\":\\\"2011-01-01\\\",\\\"regions\\\":\\\"CHI\\\",\\\"income\\\":\\\"2035.9279358459162\\\"},{\\\"time\\\":\\\"2011-01-01\\\",\\\"regions\\\":\\\"MAF\\\",\\\"income\\\":\\\"290.59904691232646\\\"},{\\\"time\\\":\\\"2011-01-01\\\",\\\"regions\\\":\\\"SSA\\\",\\\"income\\\":\\\"513.9344842382179\\\"},{\\\"time\\\":\\\"2011-01-01\\\",\\\"regions\\\":\\\"SIS\\\",\\\"income\\\":\\\"75.79350286487157\\\"},{\\\"time\\\":\\\"2012-01-01\\\",\\\"regions\\\":\\\"USA\\\",\\\"income\\\":\\\"11877.208639880393\\\"},{\\\"time\\\":\\\"2012-01-01\\\",\\\"regions\\\":\\\"CAN\\\",\\\"income\\\":\\\"940.6973729814065\\\"},{\\\"time\\\":\\\"2012-01-01\\\",\\\"regions\\\":\\\"WEU\\\",\\\"income\\\":\\\"12972.319551257493\\\"},{\\\"time\\\":\\\"2012-01-01\\\",\\\"regions\\\":\\\"JPK\\\",\\\"income\\\":\\\"8355.430982000995\\\"},{\\\"time\\\":\\\"2012-01-01\\\",\\\"regions\\\":\\\"ANZ\\\",\\\"income\\\":\\\"719.0882994063611\\\"},{\\\"time\\\":\\\"2012-01-01\\\",\\\"regions\\\":\\\"EEU\\\",\\\"income\\\":\\\"548.169290621866\\\"},{\\\"time\\\":\\\"2012-01-01\\\",\\\"regions\\\":\\\"FSU\\\",\\\"income\\\":\\\"768.8079856497266\\\"},{\\\"time\\\":\\\"2012-01-01\\\",\\\"regions\\\":\\\"MDE\\\",\\\"income\\\":\\\"1003.4036128088891\\\"},{\\\"time\\\":\\\"2012-01-01\\\",\\\"regions\\\":\\\"CAM\\\",\\\"income\\\":\\\"614.2563003086387\\\"},{\\\"time\\\":\\\"2012-01-01\\\",\\\"regions\\\":\\\"LAM\\\",\\\"income\\\":\\\"2145.638921425121\\\"},{\\\"time\\\":\\\"2012-01-01\\\",\\\"regions\\\":\\\"SAS\\\",\\\"income\\\":\\\"999.6364258099097\\\"},{\\\"time\\\":\\\"2012-01-01\\\",\\\"regions\\\":\\\"SEA\\\",\\\"income\\\":\\\"1360.3425956925932\\\"},{\\\"time\\\":\\\"2012-01-01\\\",\\\"regions\\\":\\\"CHI\\\",\\\"income\\\":\\\"2110.0198762979167\\\"},{\\\"time\\\":\\\"2012-01-01\\\",\\\"regions\\\":\\\"MAF\\\",\\\"income\\\":\\\"304.35849904736386\\\"},{\\\"time\\\":\\\"2012-01-01\\\",\\\"regions\\\":\\\"SSA\\\",\\\"income\\\":\\\"538.3221426004667\\\"},{\\\"time\\\":\\\"2012-01-01\\\",\\\"regions\\\":\\\"SIS\\\",\\\"income\\\":\\\"78.46835319679128\\\"},{\\\"time\\\":\\\"2013-01-01\\\",\\\"regions\\\":\\\"USA\\\",\\\"income\\\":\\\"12117.385351302488\\\"},{\\\"time\\\":\\\"2013-01-01\\\",\\\"regions\\\":\\\"CAN\\\",\\\"income\\\":\\\"959.7553730733924\\\"},{\\\"time\\\":\\\"2013-01-01\\\",\\\"regions\\\":\\\"WEU\\\",\\\"income\\\":\\\"13226.069544084125\\\"},{\\\"time\\\":\\\"2013-01-01\\\",\\\"regions\\\":\\\"JPK\\\",\\\"income\\\":\\\"8588.90763707302\\\"},{\\\"time\\\":\\\"2013-01-01\\\",\\\"regions\\\":\\\"ANZ\\\",\\\"income\\\":\\\"739.1608659086348\\\"},{\\\"time\\\":\\\"2013-01-01\\\",\\\"regions\\\":\\\"EEU\\\",\\\"income\\\":\\\"568.6557208997964\\\"},{\\\"time\\\":\\\"2013-01-01\\\",\\\"regions\\\":\\\"FSU\\\",\\\"income\\\":\\\"797.4928936761343\\\"},{\\\"time\\\":\\\"2013-01-01\\\",\\\"regions\\\":\\\"MDE\\\",\\\"income\\\":\\\"1048.539415315265\\\"},{\\\"time\\\":\\\"2013-01-01\\\",\\\"regions\\\":\\\"CAM\\\",\\\"income\\\":\\\"635.7092049178209\\\"},{\\\"time\\\":\\\"2013-01-01\\\",\\\"regions\\\":\\\"LAM\\\",\\\"income\\\":\\\"2220.1006454305175\\\"},{\\\"time\\\":\\\"2013-01-01\\\",\\\"regions\\\":\\\"SAS\\\",\\\"income\\\":\\\"1037.086658696659\\\"},{\\\"time\\\":\\\"2013-01-01\\\",\\\"regions\\\":\\\"SEA\\\",\\\"income\\\":\\\"1411.2231828511353\\\"},{\\\"time\\\":\\\"2013-01-01\\\",\\\"regions\\\":\\\"CHI\\\",\\\"income\\\":\\\"2186.4986970257273\\\"},{\\\"time\\\":\\\"2013-01-01\\\",\\\"regions\\\":\\\"MAF\\\",\\\"income\\\":\\\"318.5965308531015\\\"},{\\\"time\\\":\\\"2013-01-01\\\",\\\"regions\\\":\\\"SSA\\\",\\\"income\\\":\\\"563.5628810839048\\\"},{\\\"time\\\":\\\"2013-01-01\\\",\\\"regions\\\":\\\"SIS\\\",\\\"income\\\":\\\"81.21356512824045\\\"},{\\\"time\\\":\\\"2014-01-01\\\",\\\"regions\\\":\\\"USA\\\",\\\"income\\\":\\\"12358.248121308387\\\"},{\\\"time\\\":\\\"2014-01-01\\\",\\\"regions\\\":\\\"CAN\\\",\\\"income\\\":\\\"978.869745628328\\\"},{\\\"time\\\":\\\"2014-01-01\\\",\\\"regions\\\":\\\"WEU\\\",\\\"income\\\":\\\"13481.458522413834\\\"},{\\\"time\\\":\\\"2014-01-01\\\",\\\"regions\\\":\\\"JPK\\\",\\\"income\\\":\\\"8822.809906191913\\\"},{\\\"time\\\":\\\"2014-01-01\\\",\\\"regions\\\":\\\"ANZ\\\",\\\"income\\\":\\\"759.2688531103068\\\"},{\\\"time\\\":\\\"2014-01-01\\\",\\\"regions\\\":\\\"EEU\\\",\\\"income\\\":\\\"589.752480936265\\\"},{\\\"time\\\":\\\"2014-01-01\\\",\\\"regions\\\":\\\"FSU\\\",\\\"income\\\":\\\"827.0252943184078\\\"},{\\\"time\\\":\\\"2014-01-01\\\",\\\"regions\\\":\\\"MDE\\\",\\\"income\\\":\\\"1095.1064692162138\\\"},{\\\"time\\\":\\\"2014-01-01\\\",\\\"regions\\\":\\\"CAM\\\",\\\"income\\\":\\\"657.7103925191634\\\"},{\\\"time\\\":\\\"2014-01-01\\\",\\\"regions\\\":\\\"LAM\\\",\\\"income\\\":\\\"2296.44173224361\\\"},{\\\"time\\\":\\\"2014-01-01\\\",\\\"regions\\\":\\\"SAS\\\",\\\"income\\\":\\\"1075.6118744144867\\\"},{\\\"time\\\":\\\"2014-01-01\\\",\\\"regions\\\":\\\"SEA\\\",\\\"income\\\":\\\"1463.5582030015614\\\"},{\\\"time\\\":\\\"2014-01-01\\\",\\\"regions\\\":\\\"CHI\\\",\\\"income\\\":\\\"2265.4061267986417\\\"},{\\\"time\\\":\\\"2014-01-01\\\",\\\"regions\\\":\\\"MAF\\\",\\\"income\\\":\\\"333.3163392439387\\\"},{\\\"time\\\":\\\"2014-01-01\\\",\\\"regions\\\":\\\"SSA\\\",\\\"income\\\":\\\"589.6628853610193\\\"},{\\\"time\\\":\\\"2014-01-01\\\",\\\"regions\\\":\\\"SIS\\\",\\\"income\\\":\\\"84.02912329351423\\\"},{\\\"time\\\":\\\"2015-01-01\\\",\\\"regions\\\":\\\"USA\\\",\\\"income\\\":\\\"12599.645607926528\\\"},{\\\"time\\\":\\\"2015-01-01\\\",\\\"regions\\\":\\\"CAN\\\",\\\"income\\\":\\\"998.0285523904558\\\"},{\\\"time\\\":\\\"2015-01-01\\\",\\\"regions\\\":\\\"WEU\\\",\\\"income\\\":\\\"13738.52490676816\\\"},{\\\"time\\\":\\\"2015-01-01\\\",\\\"regions\\\":\\\"JPK\\\",\\\"income\\\":\\\"9056.7303844953\\\"},{\\\"time\\\":\\\"2015-01-01\\\",\\\"regions\\\":\\\"ANZ\\\",\\\"income\\\":\\\"779.3771910822466\\\"},{\\\"time\\\":\\\"2015-01-01\\\",\\\"regions\\\":\\\"EEU\\\",\\\"income\\\":\\\"611.4649308528329\\\"},{\\\"time\\\":\\\"2015-01-01\\\",\\\"regions\\\":\\\"FSU\\\",\\\"income\\\":\\\"857.411936562872\\\"},{\\\"time\\\":\\\"2015-01-01\\\",\\\"regions\\\":\\\"MDE\\\",\\\"income\\\":\\\"1143.1269542711939\\\"},{\\\"time\\\":\\\"2015-01-01\\\",\\\"regions\\\":\\\"CAM\\\",\\\"income\\\":\\\"680.271722897924\\\"},{\\\"time\\\":\\\"2015-01-01\\\",\\\"regions\\\":\\\"LAM\\\",\\\"income\\\":\\\"2374.7021692792055\\\"},{\\\"time\\\":\\\"2015-01-01\\\",\\\"regions\\\":\\\"SAS\\\",\\\"income\\\":\\\"1115.238815896305\\\"},{\\\"time\\\":\\\"2015-01-01\\\",\\\"regions\\\":\\\"SEA\\\",\\\"income\\\":\\\"1517.3835121889217\\\"},{\\\"time\\\":\\\"2015-01-01\\\",\\\"regions\\\":\\\"CHI\\\",\\\"income\\\":\\\"2346.827555011695\\\"},{\\\"time\\\":\\\"2015-01-01\\\",\\\"regions\\\":\\\"MAF\\\",\\\"income\\\":\\\"348.526800918375\\\"},{\\\"time\\\":\\\"2015-01-01\\\",\\\"regions\\\":\\\"SSA\\\",\\\"income\\\":\\\"616.6384182177211\\\"},{\\\"time\\\":\\\"2015-01-01\\\",\\\"regions\\\":\\\"SIS\\\",\\\"income\\\":\\\"86.9165605779425\\\"},{\\\"time\\\":\\\"2016-01-01\\\",\\\"regions\\\":\\\"USA\\\",\\\"income\\\":\\\"12841.422879713446\\\"},{\\\"time\\\":\\\"2016-01-01\\\",\\\"regions\\\":\\\"CAN\\\",\\\"income\\\":\\\"1017.219570022144\\\"},{\\\"time\\\":\\\"2016-01-01\\\",\\\"regions\\\":\\\"WEU\\\",\\\"income\\\":\\\"13997.039261994962\\\"},{\\\"time\\\":\\\"2016-01-01\\\",\\\"regions\\\":\\\"JPK\\\",\\\"income\\\":\\\"9290.334713773684\\\"},{\\\"time\\\":\\\"2016-01-01\\\",\\\"regions\\\":\\\"ANZ\\\",\\\"income\\\":\\\"799.4570996571846\\\"},{\\\"time\\\":\\\"2016-01-01\\\",\\\"regions\\\":\\\"EEU\\\",\\\"income\\\":\\\"633.8035929538124\\\"},{\\\"time\\\":\\\"2016-01-01\\\",\\\"regions\\\":\\\"FSU\\\",\\\"income\\\":\\\"888.6667634303976\\\"},{\\\"time\\\":\\\"2016-01-01\\\",\\\"regions\\\":\\\"MDE\\\",\\\"income\\\":\\\"1192.611346013548\\\"},{\\\"time\\\":\\\"2016-01-01\\\",\\\"regions\\\":\\\"CAM\\\",\\\"income\\\":\\\"703.3987494551645\\\"},{\\\"time\\\":\\\"2016-01-01\\\",\\\"regions\\\":\\\"LAM\\\",\\\"income\\\":\\\"2454.8998910526648\\\"},{\\\"time\\\":\\\"2016-01-01\\\",\\\"regions\\\":\\\"SAS\\\",\\\"income\\\":\\\"1155.9840892811153\\\"},{\\\"time\\\":\\\"2016-01-01\\\",\\\"regions\\\":\\\"SEA\\\",\\\"income\\\":\\\"1572.7211483406984\\\"},{\\\"time\\\":\\\"2016-01-01\\\",\\\"regions\\\":\\\"CHI\\\",\\\"income\\\":\\\"2430.8289927032415\\\"},{\\\"time\\\":\\\"2016-01-01\\\",\\\"regions\\\":\\\"MAF\\\",\\\"income\\\":\\\"364.2332542114811\\\"},{\\\"time\\\":\\\"2016-01-01\\\",\\\"regions\\\":\\\"SSA\\\",\\\"income\\\":\\\"644.499516864561\\\"},{\\\"time\\\":\\\"2016-01-01\\\",\\\"regions\\\":\\\"SIS\\\",\\\"income\\\":\\\"89.87660587415274\\\"},{\\\"time\\\":\\\"2017-01-01\\\",\\\"regions\\\":\\\"USA\\\",\\\"income\\\":\\\"13083.421554363962\\\"},{\\\"time\\\":\\\"2017-01-01\\\",\\\"regions\\\":\\\"CAN\\\",\\\"income\\\":\\\"1036.430300615367\\\"},{\\\"time\\\":\\\"2017-01-01\\\",\\\"regions\\\":\\\"WEU\\\",\\\"income\\\":\\\"14256.898985856245\\\"},{\\\"time\\\":\\\"2017-01-01\\\",\\\"regions\\\":\\\"JPK\\\",\\\"income\\\":\\\"9523.280262711367\\\"},{\\\"time\\\":\\\"2017-01-01\\\",\\\"regions\\\":\\\"ANZ\\\",\\\"income\\\":\\\"819.4790896225508\\\"},{\\\"time\\\":\\\"2017-01-01\\\",\\\"regions\\\":\\\"EEU\\\",\\\"income\\\":\\\"656.7788450035172\\\"},{\\\"time\\\":\\\"2017-01-01\\\",\\\"regions\\\":\\\"FSU\\\",\\\"income\\\":\\\"920.8034646396673\\\"},{\\\"time\\\":\\\"2017-01-01\\\",\\\"regions\\\":\\\"MDE\\\",\\\"income\\\":\\\"1243.5680953041335\\\"},{\\\"time\\\":\\\"2017-01-01\\\",\\\"regions\\\":\\\"CAM\\\",\\\"income\\\":\\\"727.0966947364482\\\"},{\\\"time\\\":\\\"2017-01-01\\\",\\\"regions\\\":\\\"LAM\\\",\\\"income\\\":\\\"2537.05165523607\\\"},{\\\"time\\\":\\\"2017-01-01\\\",\\\"regions\\\":\\\"SAS\\\",\\\"income\\\":\\\"1197.863882317808\\\"},{\\\"time\\\":\\\"2017-01-01\\\",\\\"regions\\\":\\\"SEA\\\",\\\"income\\\":\\\"1629.5925569747026\\\"},{\\\"time\\\":\\\"2017-01-01\\\",\\\"regions\\\":\\\"CHI\\\",\\\"income\\\":\\\"2517.477614109107\\\"},{\\\"time\\\":\\\"2017-01-01\\\",\\\"regions\\\":\\\"MAF\\\",\\\"income\\\":\\\"380.44043247462173\\\"},{\\\"time\\\":\\\"2017-01-01\\\",\\\"regions\\\":\\\"SSA\\\",\\\"income\\\":\\\"673.2551788340984\\\"},{\\\"time\\\":\\\"2017-01-01\\\",\\\"regions\\\":\\\"SIS\\\",\\\"income\\\":\\\"92.90994736827494\\\"},{\\\"time\\\":\\\"2018-01-01\\\",\\\"regions\\\":\\\"USA\\\",\\\"income\\\":\\\"13325.479947548822\\\"},{\\\"time\\\":\\\"2018-01-01\\\",\\\"regions\\\":\\\"CAN\\\",\\\"income\\\":\\\"1055.6479833704207\\\"},{\\\"time\\\":\\\"2018-01-01\\\",\\\"regions\\\":\\\"WEU\\\",\\\"income\\\":\\\"14518.141147795206\\\"},{\\\"time\\\":\\\"2018-01-01\\\",\\\"regions\\\":\\\"JPK\\\",\\\"income\\\":\\\"9755.216887148072\\\"},{\\\"time\\\":\\\"2018-01-01\\\",\\\"regions\\\":\\\"ANZ\\\",\\\"income\\\":\\\"839.4130283610899\\\"},{\\\"time\\\":\\\"2018-01-01\\\",\\\"regions\\\":\\\"EEU\\\",\\\"income\\\":\\\"680.4009029549331\\\"},{\\\"time\\\":\\\"2018-01-01\\\",\\\"regions\\\":\\\"FSU\\\",\\\"income\\\":\\\"953.8354524832016\\\"},{\\\"time\\\":\\\"2018-01-01\\\",\\\"regions\\\":\\\"MDE\\\",\\\"income\\\":\\\"1296.0035178361038\\\"},{\\\"time\\\":\\\"2018-01-01\\\",\\\"regions\\\":\\\"CAM\\\",\\\"income\\\":\\\"751.3704326670614\\\"},{\\\"time\\\":\\\"2018-01-01\\\",\\\"regions\\\":\\\"LAM\\\",\\\"income\\\":\\\"2621.1729833134555\\\"},{\\\"time\\\":\\\"2018-01-01\\\",\\\"regions\\\":\\\"SAS\\\",\\\"income\\\":\\\"1240.8939289571024\\\"},{\\\"time\\\":\\\"2018-01-01\\\",\\\"regions\\\":\\\"SEA\\\",\\\"income\\\":\\\"1688.0185427107867\\\"},{\\\"time\\\":\\\"2018-01-01\\\",\\\"regions\\\":\\\"CHI\\\",\\\"income\\\":\\\"2606.841749188172\\\"},{\\\"time\\\":\\\"2018-01-01\\\",\\\"regions\\\":\\\"MAF\\\",\\\"income\\\":\\\"397.1524239138047\\\"},{\\\"time\\\":\\\"2018-01-01\\\",\\\"regions\\\":\\\"SSA\\\",\\\"income\\\":\\\"702.9132925856344\\\"},{\\\"time\\\":\\\"2018-01-01\\\",\\\"regions\\\":\\\"SIS\\\",\\\"income\\\":\\\"96.01722997801932\\\"},{\\\"time\\\":\\\"2019-01-01\\\",\\\"regions\\\":\\\"USA\\\",\\\"income\\\":\\\"13567.433229899289\\\"},{\\\"time\\\":\\\"2019-01-01\\\",\\\"regions\\\":\\\"CAN\\\",\\\"income\\\":\\\"1074.8596068466827\\\"},{\\\"time\\\":\\\"2019-01-01\\\",\\\"regions\\\":\\\"WEU\\\",\\\"income\\\":\\\"14780.519690389085\\\"},{\\\"time\\\":\\\"2019-01-01\\\",\\\"regions\\\":\\\"JPK\\\",\\\"income\\\":\\\"9985.885892552915\\\"},{\\\"time\\\":\\\"2019-01-01\\\",\\\"regions\\\":\\\"ANZ\\\",\\\"income\\\":\\\"859.236655181826\\\"},{\\\"time\\\":\\\"2019-01-01\\\",\\\"regions\\\":\\\"EEU\\\",\\\"income\\\":\\\"704.6866125488345\\\"},{\\\"time\\\":\\\"2019-01-01\\\",\\\"regions\\\":\\\"FSU\\\",\\\"income\\\":\\\"987.7853824430182\\\"},{\\\"time\\\":\\\"2019-01-01\\\",\\\"regions\\\":\\\"MDE\\\",\\\"income\\\":\\\"1349.9085091299148\\\"},{\\\"time\\\":\\\"2019-01-01\\\",\\\"regions\\\":\\\"CAM\\\",\\\"income\\\":\\\"776.2168945375048\\\"},{\\\"time\\\":\\\"2019-01-01\\\",\\\"regions\\\":\\\"LAM\\\",\\\"income\\\":\\\"2707.251677414484\\\"},{\\\"time\\\":\\\"2019-01-01\\\",\\\"regions\\\":\\\"SAS\\\",\\\"income\\\":\\\"1285.0769301965108\\\"},{\\\"time\\\":\\\"2019-01-01\\\",\\\"regions\\\":\\\"SEA\\\",\\\"income\\\":\\\"1748.0021586041535\\\"},{\\\"time\\\":\\\"2019-01-01\\\",\\\"regions\\\":\\\"CHI\\\",\\\"income\\\":\\\"2698.9646340972563\\\"},{\\\"time\\\":\\\"2019-01-01\\\",\\\"regions\\\":\\\"MAF\\\",\\\"income\\\":\\\"414.36858677374295\\\"},{\\\"time\\\":\\\"2019-01-01\\\",\\\"regions\\\":\\\"SSA\\\",\\\"income\\\":\\\"733.4734088037914\\\"},{\\\"time\\\":\\\"2019-01-01\\\",\\\"regions\\\":\\\"SIS\\\",\\\"income\\\":\\\"99.19808465103102\\\"},{\\\"time\\\":\\\"2020-01-01\\\",\\\"regions\\\":\\\"USA\\\",\\\"income\\\":\\\"13809.113591544285\\\"},{\\\"time\\\":\\\"2020-01-01\\\",\\\"regions\\\":\\\"CAN\\\",\\\"income\\\":\\\"1094.05192181065\\\"},{\\\"time\\\":\\\"2020-01-01\\\",\\\"regions\\\":\\\"WEU\\\",\\\"income\\\":\\\"15044.071077284641\\\"},{\\\"time\\\":\\\"2020-01-01\\\",\\\"regions\\\":\\\"JPK\\\",\\\"income\\\":\\\"10214.830937118999\\\"},{\\\"time\\\":\\\"2020-01-01\\\",\\\"regions\\\":\\\"ANZ\\\",\\\"income\\\":\\\"878.9107054438759\\\"},{\\\"time\\\":\\\"2020-01-01\\\",\\\"regions\\\":\\\"EEU\\\",\\\"income\\\":\\\"729.6394868142338\\\"},{\\\"time\\\":\\\"2020-01-01\\\",\\\"regions\\\":\\\"FSU\\\",\\\"income\\\":\\\"1022.6571626584068\\\"},{\\\"time\\\":\\\"2020-01-01\\\",\\\"regions\\\":\\\"MDE\\\",\\\"income\\\":\\\"1405.296883197466\\\"},{\\\"time\\\":\\\"2020-01-01\\\",\\\"regions\\\":\\\"CAM\\\",\\\"income\\\":\\\"801.6472823006873\\\"},{\\\"time\\\":\\\"2020-01-01\\\",\\\"regions\\\":\\\"LAM\\\",\\\"income\\\":\\\"2795.325308283852\\\"},{\\\"time\\\":\\\"2020-01-01\\\",\\\"regions\\\":\\\"SAS\\\",\\\"income\\\":\\\"1330.43925915696\\\"},{\\\"time\\\":\\\"2020-01-01\\\",\\\"regions\\\":\\\"SEA\\\",\\\"income\\\":\\\"1809.5786356406932\\\"},{\\\"time\\\":\\\"2020-01-01\\\",\\\"regions\\\":\\\"CHI\\\",\\\"income\\\":\\\"2793.941301463086\\\"},{\\\"time\\\":\\\"2020-01-01\\\",\\\"regions\\\":\\\"MAF\\\",\\\"income\\\":\\\"432.0952992647504\\\"},{\\\"time\\\":\\\"2020-01-01\\\",\\\"regions\\\":\\\"SSA\\\",\\\"income\\\":\\\"764.9475351754545\\\"},{\\\"time\\\":\\\"2020-01-01\\\",\\\"regions\\\":\\\"SIS\\\",\\\"income\\\":\\\"102.45396706874925\\\"},{\\\"time\\\":\\\"2021-01-01\\\",\\\"regions\\\":\\\"USA\\\",\\\"income\\\":\\\"14050.350412450425\\\"},{\\\"time\\\":\\\"2021-01-01\\\",\\\"regions\\\":\\\"CAN\\\",\\\"income\\\":\\\"1113.211455690001\\\"},{\\\"time\\\":\\\"2021-01-01\\\",\\\"regions\\\":\\\"WEU\\\",\\\"income\\\":\\\"15308.538321040052\\\"},{\\\"time\\\":\\\"2021-01-01\\\",\\\"regions\\\":\\\"JPK\\\",\\\"income\\\":\\\"10441.68430042289\\\"},{\\\"time\\\":\\\"2021-01-01\\\",\\\"regions\\\":\\\"ANZ\\\",\\\"income\\\":\\\"898.4035440979796\\\"},{\\\"time\\\":\\\"2021-01-01\\\",\\\"regions\\\":\\\"EEU\\\",\\\"income\\\":\\\"755.2691669931118\\\"},{\\\"time\\\":\\\"2021-01-01\\\",\\\"regions\\\":\\\"FSU\\\",\\\"income\\\":\\\"1058.4632296317263\\\"},{\\\"time\\\":\\\"2021-01-01\\\",\\\"regions\\\":\\\"MDE\\\",\\\"income\\\":\\\"1462.167862411526\\\"},{\\\"time\\\":\\\"2021-01-01\\\",\\\"regions\\\":\\\"CAM\\\",\\\"income\\\":\\\"827.66529693047\\\"},{\\\"time\\\":\\\"2021-01-01\\\",\\\"regions\\\":\\\"LAM\\\",\\\"income\\\":\\\"2885.4052628547893\\\"},{\\\"time\\\":\\\"2021-01-01\\\",\\\"regions\\\":\\\"SAS\\\",\\\"income\\\":\\\"1376.9950300212813\\\"},{\\\"time\\\":\\\"2021-01-01\\\",\\\"regions\\\":\\\"SEA\\\",\\\"income\\\":\\\"1872.7664996022445\\\"},{\\\"time\\\":\\\"2021-01-01\\\",\\\"regions\\\":\\\"CHI\\\",\\\"income\\\":\\\"2891.843431933168\\\"},{\\\"time\\\":\\\"2021-01-01\\\",\\\"regions\\\":\\\"MAF\\\",\\\"income\\\":\\\"450.33445882746986\\\"},{\\\"time\\\":\\\"2021-01-01\\\",\\\"regions\\\":\\\"SSA\\\",\\\"income\\\":\\\"797.3397896338698\\\"},{\\\"time\\\":\\\"2021-01-01\\\",\\\"regions\\\":\\\"SIS\\\",\\\"income\\\":\\\"105.78537515002117\\\"},{\\\"time\\\":\\\"2022-01-01\\\",\\\"regions\\\":\\\"USA\\\",\\\"income\\\":\\\"14293.113437656346\\\"},{\\\"time\\\":\\\"2022-01-01\\\",\\\"regions\\\":\\\"CAN\\\",\\\"income\\\":\\\"1132.494324693918\\\"},{\\\"time\\\":\\\"2022-01-01\\\",\\\"regions\\\":\\\"WEU\\\",\\\"income\\\":\\\"15573.804282746885\\\"},{\\\"time\\\":\\\"2022-01-01\\\",\\\"regions\\\":\\\"JPK\\\",\\\"income\\\":\\\"10668.728798993849\\\"},{\\\"time\\\":\\\"2022-01-01\\\",\\\"regions\\\":\\\"ANZ\\\",\\\"income\\\":\\\"917.9115853893666\\\"},{\\\"time\\\":\\\"2022-01-01\\\",\\\"regions\\\":\\\"EEU\\\",\\\"income\\\":\\\"781.5850565733452\\\"},{\\\"time\\\":\\\"2022-01-01\\\",\\\"regions\\\":\\\"FSU\\\",\\\"income\\\":\\\"1095.2156141761407\\\"},{\\\"time\\\":\\\"2022-01-01\\\",\\\"regions\\\":\\\"MDE\\\",\\\"income\\\":\\\"1520.51811816469\\\"},{\\\"time\\\":\\\"2022-01-01\\\",\\\"regions\\\":\\\"CAM\\\",\\\"income\\\":\\\"854.2742157446686\\\"},{\\\"time\\\":\\\"2022-01-01\\\",\\\"regions\\\":\\\"LAM\\\",\\\"income\\\":\\\"2977.5014413931185\\\"},{\\\"time\\\":\\\"2022-01-01\\\",\\\"regions\\\":\\\"SAS\\\",\\\"income\\\":\\\"1424.757747086239\\\"},{\\\"time\\\":\\\"2022-01-01\\\",\\\"regions\\\":\\\"SEA\\\",\\\"income\\\":\\\"1937.5834145120034\\\"},{\\\"time\\\":\\\"2022-01-01\\\",\\\"regions\\\":\\\"CHI\\\",\\\"income\\\":\\\"2992.743818092088\\\"},{\\\"time\\\":\\\"2022-01-01\\\",\\\"regions\\\":\\\"MAF\\\",\\\"income\\\":\\\"469.0871485925538\\\"},{\\\"time\\\":\\\"2022-01-01\\\",\\\"regions\\\":\\\"SSA\\\",\\\"income\\\":\\\"830.6528968793576\\\"},{\\\"time\\\":\\\"2022-01-01\\\",\\\"regions\\\":\\\"SIS\\\",\\\"income\\\":\\\"109.19275350364309\\\"},{\\\"time\\\":\\\"2023-01-01\\\",\\\"regions\\\":\\\"USA\\\",\\\"income\\\":\\\"14537.336400883247\\\"},{\\\"time\\\":\\\"2023-01-01\\\",\\\"regions\\\":\\\"CAN\\\",\\\"income\\\":\\\"1151.8953448579778\\\"},{\\\"time\\\":\\\"2023-01-01\\\",\\\"regions\\\":\\\"WEU\\\",\\\"income\\\":\\\"15839.904873644138\\\"},{\\\"time\\\":\\\"2023-01-01\\\",\\\"regions\\\":\\\"JPK\\\",\\\"income\\\":\\\"10895.759096379259\\\"},{\\\"time\\\":\\\"2023-01-01\\\",\\\"regions\\\":\\\"ANZ\\\",\\\"income\\\":\\\"937.4171501874624\\\"},{\\\"time\\\":\\\"2023-01-01\\\",\\\"regions\\\":\\\"EEU\\\",\\\"income\\\":\\\"808.5963028679307\\\"},{\\\"time\\\":\\\"2023-01-01\\\",\\\"regions\\\":\\\"FSU\\\",\\\"income\\\":\\\"1132.9259141638968\\\"},{\\\"time\\\":\\\"2023-01-01\\\",\\\"regions\\\":\\\"MDE\\\",\\\"income\\\":\\\"1580.3416647878705\\\"},{\\\"time\\\":\\\"2023-01-01\\\",\\\"regions\\\":\\\"CAM\\\",\\\"income\\\":\\\"881.4768740347187\\\"},{\\\"time\\\":\\\"2023-01-01\\\",\\\"regions\\\":\\\"LAM\\\",\\\"income\\\":\\\"3071.622197332401\\\"},{\\\"time\\\":\\\"2023-01-01\\\",\\\"regions\\\":\\\"SAS\\\",\\\"income\\\":\\\"1473.7402674383486\\\"},{\\\"time\\\":\\\"2023-01-01\\\",\\\"regions\\\":\\\"SEA\\\",\\\"income\\\":\\\"2004.0461343257077\\\"},{\\\"time\\\":\\\"2023-01-01\\\",\\\"regions\\\":\\\"CHI\\\",\\\"income\\\":\\\"3096.716362531806\\\"},{\\\"time\\\":\\\"2023-01-01\\\",\\\"regions\\\":\\\"MAF\\\",\\\"income\\\":\\\"488.35360582165345\\\"},{\\\"time\\\":\\\"2023-01-01\\\",\\\"regions\\\":\\\"SSA\\\",\\\"income\\\":\\\"864.8881266380353\\\"},{\\\"time\\\":\\\"2023-01-01\\\",\\\"regions\\\":\\\"SIS\\\",\\\"income\\\":\\\"112.67649111901713\\\"},{\\\"time\\\":\\\"2024-01-01\\\",\\\"regions\\\":\\\"USA\\\",\\\"income\\\":\\\"14782.951002036598\\\"},{\\\"time\\\":\\\"2024-01-01\\\",\\\"regions\\\":\\\"CAN\\\",\\\"income\\\":\\\"1171.4091723265035\\\"},{\\\"time\\\":\\\"2024-01-01\\\",\\\"regions\\\":\\\"WEU\\\",\\\"income\\\":\\\"16106.566981089903\\\"},{\\\"time\\\":\\\"2024-01-01\\\",\\\"regions\\\":\\\"JPK\\\",\\\"income\\\":\\\"11122.674808842332\\\"},{\\\"time\\\":\\\"2024-01-01\\\",\\\"regions\\\":\\\"ANZ\\\",\\\"income\\\":\\\"956.9115918872683\\\"},{\\\"time\\\":\\\"2024-01-01\\\",\\\"regions\\\":\\\"EEU\\\",\\\"income\\\":\\\"836.3198692681202\\\"},{\\\"time\\\":\\\"2024-01-01\\\",\\\"regions\\\":\\\"FSU\\\",\\\"income\\\":\\\"1171.616611809531\\\"},{\\\"time\\\":\\\"2024-01-01\\\",\\\"regions\\\":\\\"MDE\\\",\\\"income\\\":\\\"1641.6137295325532\\\"},{\\\"time\\\":\\\"2024-01-01\\\",\\\"regions\\\":\\\"CAM\\\",\\\"income\\\":\\\"909.2667711309281\\\"},{\\\"time\\\":\\\"2024-01-01\\\",\\\"regions\\\":\\\"LAM\\\",\\\"income\\\":\\\"3167.743355745914\\\"},{\\\"time\\\":\\\"2024-01-01\\\",\\\"regions\\\":\\\"SAS\\\",\\\"income\\\":\\\"1523.9398865812484\\\"},{\\\"time\\\":\\\"2024-01-01\\\",\\\"regions\\\":\\\"SEA\\\",\\\"income\\\":\\\"2072.150227549413\\\"},{\\\"time\\\":\\\"2024-01-01\\\",\\\"regions\\\":\\\"CHI\\\",\\\"income\\\":\\\"3203.804934530067\\\"},{\\\"time\\\":\\\"2024-01-01\\\",\\\"regions\\\":\\\"MAF\\\",\\\"income\\\":\\\"508.1282284991971\\\"},{\\\"time\\\":\\\"2024-01-01\\\",\\\"regions\\\":\\\"SSA\\\",\\\"income\\\":\\\"900.0364447430038\\\"},{\\\"time\\\":\\\"2024-01-01\\\",\\\"regions\\\":\\\"SIS\\\",\\\"income\\\":\\\"116.23578443674133\\\"},{\\\"time\\\":\\\"2025-01-01\\\",\\\"regions\\\":\\\"USA\\\",\\\"income\\\":\\\"15029.88693723023\\\"},{\\\"time\\\":\\\"2025-01-01\\\",\\\"regions\\\":\\\"CAN\\\",\\\"income\\\":\\\"1191.0303043891354\\\"},{\\\"time\\\":\\\"2025-01-01\\\",\\\"regions\\\":\\\"WEU\\\",\\\"income\\\":\\\"16373.826575286472\\\"},{\\\"time\\\":\\\"2025-01-01\\\",\\\"regions\\\":\\\"JPK\\\",\\\"income\\\":\\\"11349.156965063758\\\"},{\\\"time\\\":\\\"2025-01-01\\\",\\\"regions\\\":\\\"ANZ\\\",\\\"income\\\":\\\"976.3674592033412\\\"},{\\\"time\\\":\\\"2025-01-01\\\",\\\"regions\\\":\\\"EEU\\\",\\\"income\\\":\\\"864.7567965046303\\\"},{\\\"time\\\":\\\"2025-01-01\\\",\\\"regions\\\":\\\"FSU\\\",\\\"income\\\":\\\"1211.2878145800082\\\"},{\\\"time\\\":\\\"2025-01-01\\\",\\\"regions\\\":\\\"MDE\\\",\\\"income\\\":\\\"1704.3375160156897\\\"},{\\\"time\\\":\\\"2025-01-01\\\",\\\"regions\\\":\\\"CAM\\\",\\\"income\\\":\\\"937.6541291016808\\\"},{\\\"time\\\":\\\"2025-01-01\\\",\\\"regions\\\":\\\"LAM\\\",\\\"income\\\":\\\"3265.899013980238\\\"},{\\\"time\\\":\\\"2025-01-01\\\",\\\"regions\\\":\\\"SAS\\\",\\\"income\\\":\\\"1575.381927415883\\\"},{\\\"time\\\":\\\"2025-01-01\\\",\\\"regions\\\":\\\"SEA\\\",\\\"income\\\":\\\"2141.9293496437176\\\"},{\\\"time\\\":\\\"2025-01-01\\\",\\\"regions\\\":\\\"CHI\\\",\\\"income\\\":\\\"3314.114618575154\\\"},{\\\"time\\\":\\\"2025-01-01\\\",\\\"regions\\\":\\\"MAF\\\",\\\"income\\\":\\\"528.4140227100634\\\"},{\\\"time\\\":\\\"2025-01-01\\\",\\\"regions\\\":\\\"SSA\\\",\\\"income\\\":\\\"936.1041029379751\\\"},{\\\"time\\\":\\\"2025-01-01\\\",\\\"regions\\\":\\\"SIS\\\",\\\"income\\\":\\\"119.87196847930049\\\"},{\\\"time\\\":\\\"2026-01-01\\\",\\\"regions\\\":\\\"USA\\\",\\\"income\\\":\\\"15278.071918626618\\\"},{\\\"time\\\":\\\"2026-01-01\\\",\\\"regions\\\":\\\"CAN\\\",\\\"income\\\":\\\"1210.753081085998\\\"},{\\\"time\\\":\\\"2026-01-01\\\",\\\"regions\\\":\\\"WEU\\\",\\\"income\\\":\\\"16641.400148701785\\\"},{\\\"time\\\":\\\"2026-01-01\\\",\\\"regions\\\":\\\"JPK\\\",\\\"income\\\":\\\"11574.987668390138\\\"},{\\\"time\\\":\\\"2026-01-01\\\",\\\"regions\\\":\\\"ANZ\\\",\\\"income\\\":\\\"995.7659990269879\\\"},{\\\"time\\\":\\\"2026-01-01\\\",\\\"regions\\\":\\\"EEU\\\",\\\"income\\\":\\\"893.9153710328761\\\"},{\\\"time\\\":\\\"2026-01-01\\\",\\\"regions\\\":\\\"FSU\\\",\\\"income\\\":\\\"1251.949712048565\\\"},{\\\"time\\\":\\\"2026-01-01\\\",\\\"regions\\\":\\\"MDE\\\",\\\"income\\\":\\\"1768.4984392650947\\\"},{\\\"time\\\":\\\"2026-01-01\\\",\\\"regions\\\":\\\"CAM\\\",\\\"income\\\":\\\"966.6403343717392\\\"},{\\\"time\\\":\\\"2026-01-01\\\",\\\"regions\\\":\\\"LAM\\\",\\\"income\\\":\\\"3366.0924792920905\\\"},{\\\"time\\\":\\\"2026-01-01\\\",\\\"regions\\\":\\\"SAS\\\",\\\"income\\\":\\\"1628.0770401783514\\\"},{\\\"time\\\":\\\"2026-01-01\\\",\\\"regions\\\":\\\"SEA\\\",\\\"income\\\":\\\"2213.3971765854017\\\"},{\\\"time\\\":\\\"2026-01-01\\\",\\\"regions\\\":\\\"CHI\\\",\\\"income\\\":\\\"3427.72248091362\\\"},{\\\"time\\\":\\\"2026-01-01\\\",\\\"regions\\\":\\\"MAF\\\",\\\"income\\\":\\\"549.2084668594676\\\"},{\\\"time\\\":\\\"2026-01-01\\\",\\\"regions\\\":\\\"SSA\\\",\\\"income\\\":\\\"973.0876021464865\\\"},{\\\"time\\\":\\\"2026-01-01\\\",\\\"regions\\\":\\\"SIS\\\",\\\"income\\\":\\\"123.58524980347893\\\"},{\\\"time\\\":\\\"2027-01-01\\\",\\\"regions\\\":\\\"USA\\\",\\\"income\\\":\\\"15526.667376211517\\\"},{\\\"time\\\":\\\"2027-01-01\\\",\\\"regions\\\":\\\"CAN\\\",\\\"income\\\":\\\"1230.511114824558\\\"},{\\\"time\\\":\\\"2027-01-01\\\",\\\"regions\\\":\\\"WEU\\\",\\\"income\\\":\\\"16909.49060802344\\\"},{\\\"time\\\":\\\"2027-01-01\\\",\\\"regions\\\":\\\"JPK\\\",\\\"income\\\":\\\"11800.293844678368\\\"},{\\\"time\\\":\\\"2027-01-01\\\",\\\"regions\\\":\\\"ANZ\\\",\\\"income\\\":\\\"1015.1181269817723\\\"},{\\\"time\\\":\\\"2027-01-01\\\",\\\"regions\\\":\\\"EEU\\\",\\\"income\\\":\\\"923.4905780624119\\\"},{\\\"time\\\":\\\"2027-01-01\\\",\\\"regions\\\":\\\"FSU\\\",\\\"income\\\":\\\"1293.1736813703883\\\"},{\\\"time\\\":\\\"2027-01-01\\\",\\\"regions\\\":\\\"MDE\\\",\\\"income\\\":\\\"1834.1327752702543\\\"},{\\\"time\\\":\\\"2027-01-01\\\",\\\"regions\\\":\\\"CAM\\\",\\\"income\\\":\\\"996.2554401145967\\\"},{\\\"time\\\":\\\"2027-01-01\\\",\\\"regions\\\":\\\"LAM\\\",\\\"income\\\":\\\"3468.426867247308\\\"},{\\\"time\\\":\\\"2027-01-01\\\",\\\"regions\\\":\\\"SAS\\\",\\\"income\\\":\\\"1682.084342500741\\\"},{\\\"time\\\":\\\"2027-01-01\\\",\\\"regions\\\":\\\"SEA\\\",\\\"income\\\":\\\"2286.633246979917\\\"},{\\\"time\\\":\\\"2027-01-01\\\",\\\"regions\\\":\\\"CHI\\\",\\\"income\\\":\\\"3544.2589801585677\\\"},{\\\"time\\\":\\\"2027-01-01\\\",\\\"regions\\\":\\\"MAF\\\",\\\"income\\\":\\\"570.5247854258172\\\"},{\\\"time\\\":\\\"2027-01-01\\\",\\\"regions\\\":\\\"SSA\\\",\\\"income\\\":\\\"1011.0113677254246\\\"},{\\\"time\\\":\\\"2027-01-01\\\",\\\"regions\\\":\\\"SIS\\\",\\\"income\\\":\\\"127.37950165905254\\\"},{\\\"time\\\":\\\"2028-01-01\\\",\\\"regions\\\":\\\"USA\\\",\\\"income\\\":\\\"15775.559782372811\\\"},{\\\"time\\\":\\\"2028-01-01\\\",\\\"regions\\\":\\\"CAN\\\",\\\"income\\\":\\\"1250.2954709348132\\\"},{\\\"time\\\":\\\"2028-01-01\\\",\\\"regions\\\":\\\"WEU\\\",\\\"income\\\":\\\"17177.81240430617\\\"},{\\\"time\\\":\\\"2028-01-01\\\",\\\"regions\\\":\\\"JPK\\\",\\\"income\\\":\\\"12024.752207218393\\\"},{\\\"time\\\":\\\"2028-01-01\\\",\\\"regions\\\":\\\"ANZ\\\",\\\"income\\\":\\\"1034.39602915509\\\"},{\\\"time\\\":\\\"2028-01-01\\\",\\\"regions\\\":\\\"EEU\\\",\\\"income\\\":\\\"953.4682340217465\\\"},{\\\"time\\\":\\\"2028-01-01\\\",\\\"regions\\\":\\\"FSU\\\",\\\"income\\\":\\\"1334.938498321423\\\"},{\\\"time\\\":\\\"2028-01-01\\\",\\\"regions\\\":\\\"MDE\\\",\\\"income\\\":\\\"1901.2444362345475\\\"},{\\\"time\\\":\\\"2028-01-01\\\",\\\"regions\\\":\\\"CAM\\\",\\\"income\\\":\\\"1026.5124614270426\\\"},{\\\"time\\\":\\\"2028-01-01\\\",\\\"regions\\\":\\\"LAM\\\",\\\"income\\\":\\\"3572.945919768567\\\"},{\\\"time\\\":\\\"2028-01-01\\\",\\\"regions\\\":\\\"SAS\\\",\\\"income\\\":\\\"1737.4346554375184\\\"},{\\\"time\\\":\\\"2028-01-01\\\",\\\"regions\\\":\\\"SEA\\\",\\\"income\\\":\\\"2361.678589391541\\\"},{\\\"time\\\":\\\"2028-01-01\\\",\\\"regions\\\":\\\"CHI\\\",\\\"income\\\":\\\"3663.7935395422705\\\"},{\\\"time\\\":\\\"2028-01-01\\\",\\\"regions\\\":\\\"MAF\\\",\\\"income\\\":\\\"592.3661800727208\\\"},{\\\"time\\\":\\\"2028-01-01\\\",\\\"regions\\\":\\\"SSA\\\",\\\"income\\\":\\\"1049.8821170862275\\\"},{\\\"time\\\":\\\"2028-01-01\\\",\\\"regions\\\":\\\"SIS\\\",\\\"income\\\":\\\"131.25642039662551\\\"},{\\\"time\\\":\\\"2029-01-01\\\",\\\"regions\\\":\\\"USA\\\",\\\"income\\\":\\\"16024.475715232904\\\"},{\\\"time\\\":\\\"2029-01-01\\\",\\\"regions\\\":\\\"CAN\\\",\\\"income\\\":\\\"1270.0845402880889\\\"},{\\\"time\\\":\\\"2029-01-01\\\",\\\"regions\\\":\\\"WEU\\\",\\\"income\\\":\\\"17446.410703989746\\\"},{\\\"time\\\":\\\"2029-01-01\\\",\\\"regions\\\":\\\"JPK\\\",\\\"income\\\":\\\"12248.268773015558\\\"},{\\\"time\\\":\\\"2029-01-01\\\",\\\"regions\\\":\\\"ANZ\\\",\\\"income\\\":\\\"1053.5916201179084\\\"},{\\\"time\\\":\\\"2029-01-01\\\",\\\"regions\\\":\\\"EEU\\\",\\\"income\\\":\\\"983.8147361847753\\\"},{\\\"time\\\":\\\"2029-01-01\\\",\\\"regions\\\":\\\"FSU\\\",\\\"income\\\":\\\"1377.1957174132629\\\"},{\\\"time\\\":\\\"2029-01-01\\\",\\\"regions\\\":\\\"MDE\\\",\\\"income\\\":\\\"1969.7986294943998\\\"},{\\\"time\\\":\\\"2029-01-01\\\",\\\"regions\\\":\\\"CAM\\\",\\\"income\\\":\\\"1057.4045279845207\\\"},{\\\"time\\\":\\\"2029-01-01\\\",\\\"regions\\\":\\\"LAM\\\",\\\"income\\\":\\\"3679.6241612778917\\\"},{\\\"time\\\":\\\"2029-01-01\\\",\\\"regions\\\":\\\"SAS\\\",\\\"income\\\":\\\"1794.1253187523441\\\"},{\\\"time\\\":\\\"2029-01-01\\\",\\\"regions\\\":\\\"SEA\\\",\\\"income\\\":\\\"2438.528692020938\\\"},{\\\"time\\\":\\\"2029-01-01\\\",\\\"regions\\\":\\\"CHI\\\",\\\"income\\\":\\\"3786.3253144304613\\\"},{\\\"time\\\":\\\"2029-01-01\\\",\\\"regions\\\":\\\"MAF\\\",\\\"income\\\":\\\"614.7237670415188\\\"},{\\\"time\\\":\\\"2029-01-01\\\",\\\"regions\\\":\\\"SSA\\\",\\\"income\\\":\\\"1089.6851892301606\\\"},{\\\"time\\\":\\\"2029-01-01\\\",\\\"regions\\\":\\\"SIS\\\",\\\"income\\\":\\\"135.21516099685314\\\"},{\\\"time\\\":\\\"2030-01-01\\\",\\\"regions\\\":\\\"USA\\\",\\\"income\\\":\\\"16273.450338008544\\\"},{\\\"time\\\":\\\"2030-01-01\\\",\\\"regions\\\":\\\"CAN\\\",\\\"income\\\":\\\"1289.8811694752828\\\"},{\\\"time\\\":\\\"2030-01-01\\\",\\\"regions\\\":\\\"WEU\\\",\\\"income\\\":\\\"17714.990203054123\\\"},{\\\"time\\\":\\\"2030-01-01\\\",\\\"regions\\\":\\\"JPK\\\",\\\"income\\\":\\\"12470.509964100871\\\"},{\\\"time\\\":\\\"2030-01-01\\\",\\\"regions\\\":\\\"ANZ\\\",\\\"income\\\":\\\"1072.6762059058408\\\"},{\\\"time\\\":\\\"2030-01-01\\\",\\\"regions\\\":\\\"EEU\\\",\\\"income\\\":\\\"1014.5134517494829\\\"},{\\\"time\\\":\\\"2030-01-01\\\",\\\"regions\\\":\\\"FSU\\\",\\\"income\\\":\\\"1419.920627729238\\\"},{\\\"time\\\":\\\"2030-01-01\\\",\\\"regions\\\":\\\"MDE\\\",\\\"income\\\":\\\"2039.794762036657\\\"},{\\\"time\\\":\\\"2030-01-01\\\",\\\"regions\\\":\\\"CAM\\\",\\\"income\\\":\\\"1088.944382138351\\\"},{\\\"time\\\":\\\"2030-01-01\\\",\\\"regions\\\":\\\"LAM\\\",\\\"income\\\":\\\"3788.504392066335\\\"},{\\\"time\\\":\\\"2030-01-01\\\",\\\"regions\\\":\\\"SAS\\\",\\\"income\\\":\\\"1852.186959144086\\\"},{\\\"time\\\":\\\"2030-01-01\\\",\\\"regions\\\":\\\"SEA\\\",\\\"income\\\":\\\"2517.2242632063126\\\"},{\\\"time\\\":\\\"2030-01-01\\\",\\\"regions\\\":\\\"CHI\\\",\\\"income\\\":\\\"3911.92323717447\\\"},{\\\"time\\\":\\\"2030-01-01\\\",\\\"regions\\\":\\\"MAF\\\",\\\"income\\\":\\\"637.5992655864823\\\"},{\\\"time\\\":\\\"2030-01-01\\\",\\\"regions\\\":\\\"SSA\\\",\\\"income\\\":\\\"1130.424753293915\\\"},{\\\"time\\\":\\\"2030-01-01\\\",\\\"regions\\\":\\\"SIS\\\",\\\"income\\\":\\\"139.25738749908078\\\"},{\\\"time\\\":\\\"2031-01-01\\\",\\\"regions\\\":\\\"USA\\\",\\\"income\\\":\\\"16522.363992110993\\\"},{\\\"time\\\":\\\"2031-01-01\\\",\\\"regions\\\":\\\"CAN\\\",\\\"income\\\":\\\"1309.6759351745704\\\"},{\\\"time\\\":\\\"2031-01-01\\\",\\\"regions\\\":\\\"WEU\\\",\\\"income\\\":\\\"17983.597116451056\\\"},{\\\"time\\\":\\\"2031-01-01\\\",\\\"regions\\\":\\\"JPK\\\",\\\"income\\\":\\\"12691.381039785743\\\"},{\\\"time\\\":\\\"2031-01-01\\\",\\\"regions\\\":\\\"ANZ\\\",\\\"income\\\":\\\"1091.6416401216898\\\"},{\\\"time\\\":\\\"2031-01-01\\\",\\\"regions\\\":\\\"EEU\\\",\\\"income\\\":\\\"1045.5271603187014\\\"},{\\\"time\\\":\\\"2031-01-01\\\",\\\"regions\\\":\\\"FSU\\\",\\\"income\\\":\\\"1463.059659751057\\\"},{\\\"time\\\":\\\"2031-01-01\\\",\\\"regions\\\":\\\"MDE\\\",\\\"income\\\":\\\"2111.1907484732797\\\"},{\\\"time\\\":\\\"2031-01-01\\\",\\\"regions\\\":\\\"CAM\\\",\\\"income\\\":\\\"1121.1236499752724\\\"},{\\\"time\\\":\\\"2031-01-01\\\",\\\"regions\\\":\\\"LAM\\\",\\\"income\\\":\\\"3899.55595146962\\\"},{\\\"time\\\":\\\"2031-01-01\\\",\\\"regions\\\":\\\"SAS\\\",\\\"income\\\":\\\"1911.6144538034935\\\"},{\\\"time\\\":\\\"2031-01-01\\\",\\\"regions\\\":\\\"SEA\\\",\\\"income\\\":\\\"2597.7573878707312\\\"},{\\\"time\\\":\\\"2031-01-01\\\",\\\"regions\\\":\\\"CHI\\\",\\\"income\\\":\\\"4040.581056004994\\\"},{\\\"time\\\":\\\"2031-01-01\\\",\\\"regions\\\":\\\"MAF\\\",\\\"income\\\":\\\"660.9813743309721\\\"},{\\\"time\\\":\\\"2031-01-01\\\",\\\"regions\\\":\\\"SSA\\\",\\\"income\\\":\\\"1172.081947258878\\\"},{\\\"time\\\":\\\"2031-01-01\\\",\\\"regions\\\":\\\"SIS\\\",\\\"income\\\":\\\"143.38206487438916\\\"},{\\\"time\\\":\\\"2032-01-01\\\",\\\"regions\\\":\\\"USA\\\",\\\"income\\\":\\\"16771.93369847256\\\"},{\\\"time\\\":\\\"2032-01-01\\\",\\\"regions\\\":\\\"CAN\\\",\\\"income\\\":\\\"1329.5257405337175\\\"},{\\\"time\\\":\\\"2032-01-01\\\",\\\"regions\\\":\\\"WEU\\\",\\\"income\\\":\\\"18253.019008721792\\\"},{\\\"time\\\":\\\"2032-01-01\\\",\\\"regions\\\":\\\"JPK\\\",\\\"income\\\":\\\"12913.887089305035\\\"},{\\\"time\\\":\\\"2032-01-01\\\",\\\"regions\\\":\\\"ANZ\\\",\\\"income\\\":\\\"1110.7463996754138\\\"},{\\\"time\\\":\\\"2032-01-01\\\",\\\"regions\\\":\\\"EEU\\\",\\\"income\\\":\\\"1076.8802293197712\\\"},{\\\"time\\\":\\\"2032-01-01\\\",\\\"regions\\\":\\\"FSU\\\",\\\"income\\\":\\\"1506.6453575145747\\\"},{\\\"time\\\":\\\"2032-01-01\\\",\\\"regions\\\":\\\"MDE\\\",\\\"income\\\":\\\"2184.500815504308\\\"},{\\\"time\\\":\\\"2032-01-01\\\",\\\"regions\\\":\\\"CAM\\\",\\\"income\\\":\\\"1154.2306028323342\\\"},{\\\"time\\\":\\\"2032-01-01\\\",\\\"regions\\\":\\\"LAM\\\",\\\"income\\\":\\\"4013.7798047724036\\\"},{\\\"time\\\":\\\"2032-01-01\\\",\\\"regions\\\":\\\"SAS\\\",\\\"income\\\":\\\"1972.9084109701469\\\"},{\\\"time\\\":\\\"2032-01-01\\\",\\\"regions\\\":\\\"SEA\\\",\\\"income\\\":\\\"2680.8073075304897\\\"},{\\\"time\\\":\\\"2032-01-01\\\",\\\"regions\\\":\\\"CHI\\\",\\\"income\\\":\\\"4173.367071472352\\\"},{\\\"time\\\":\\\"2032-01-01\\\",\\\"regions\\\":\\\"MAF\\\",\\\"income\\\":\\\"685.0326886377148\\\"},{\\\"time\\\":\\\"2032-01-01\\\",\\\"regions\\\":\\\"SSA\\\",\\\"income\\\":\\\"1214.946385842083\\\"},{\\\"time\\\":\\\"2032-01-01\\\",\\\"regions\\\":\\\"SIS\\\",\\\"income\\\":\\\"147.62610002215482\\\"},{\\\"time\\\":\\\"2033-01-01\\\",\\\"regions\\\":\\\"USA\\\",\\\"income\\\":\\\"17022.073567711206\\\"},{\\\"time\\\":\\\"2033-01-01\\\",\\\"regions\\\":\\\"CAN\\\",\\\"income\\\":\\\"1349.4238551996848\\\"},{\\\"time\\\":\\\"2033-01-01\\\",\\\"regions\\\":\\\"WEU\\\",\\\"income\\\":\\\"18522.98676266588\\\"},{\\\"time\\\":\\\"2033-01-01\\\",\\\"regions\\\":\\\"JPK\\\",\\\"income\\\":\\\"13137.847513326748\\\"},{\\\"time\\\":\\\"2033-01-01\\\",\\\"regions\\\":\\\"ANZ\\\",\\\"income\\\":\\\"1129.9749395369865\\\"},{\\\"time\\\":\\\"2033-01-01\\\",\\\"regions\\\":\\\"EEU\\\",\\\"income\\\":\\\"1108.557228942485\\\"},{\\\"time\\\":\\\"2033-01-01\\\",\\\"regions\\\":\\\"FSU\\\",\\\"income\\\":\\\"1550.6545002294542\\\"},{\\\"time\\\":\\\"2033-01-01\\\",\\\"regions\\\":\\\"MDE\\\",\\\"income\\\":\\\"2259.7731302896927\\\"},{\\\"time\\\":\\\"2033-01-01\\\",\\\"regions\\\":\\\"CAM\\\",\\\"income\\\":\\\"1188.3027638766575\\\"},{\\\"time\\\":\\\"2033-01-01\\\",\\\"regions\\\":\\\"LAM\\\",\\\"income\\\":\\\"4131.304244239395\\\"},{\\\"time\\\":\\\"2033-01-01\\\",\\\"regions\\\":\\\"SAS\\\",\\\"income\\\":\\\"2036.1458118142418\\\"},{\\\"time\\\":\\\"2033-01-01\\\",\\\"regions\\\":\\\"SEA\\\",\\\"income\\\":\\\"2766.4773865602697\\\"},{\\\"time\\\":\\\"2033-01-01\\\",\\\"regions\\\":\\\"CHI\\\",\\\"income\\\":\\\"4310.450856590828\\\"},{\\\"time\\\":\\\"2033-01-01\\\",\\\"regions\\\":\\\"MAF\\\",\\\"income\\\":\\\"709.770801340762\\\"},{\\\"time\\\":\\\"2033-01-01\\\",\\\"regions\\\":\\\"SSA\\\",\\\"income\\\":\\\"1259.0507538481609\\\"},{\\\"time\\\":\\\"2033-01-01\\\",\\\"regions\\\":\\\"SIS\\\",\\\"income\\\":\\\"151.99433795962753\\\"},{\\\"time\\\":\\\"2034-01-01\\\",\\\"regions\\\":\\\"USA\\\",\\\"income\\\":\\\"17272.52572872305\\\"},{\\\"time\\\":\\\"2034-01-01\\\",\\\"regions\\\":\\\"CAN\\\",\\\"income\\\":\\\"1369.3499102738147\\\"},{\\\"time\\\":\\\"2034-01-01\\\",\\\"regions\\\":\\\"WEU\\\",\\\"income\\\":\\\"18793.589117211828\\\"},{\\\"time\\\":\\\"2034-01-01\\\",\\\"regions\\\":\\\"JPK\\\",\\\"income\\\":\\\"13363.334400386582\\\"},{\\\"time\\\":\\\"2034-01-01\\\",\\\"regions\\\":\\\"ANZ\\\",\\\"income\\\":\\\"1149.3334420571712\\\"},{\\\"time\\\":\\\"2034-01-01\\\",\\\"regions\\\":\\\"EEU\\\",\\\"income\\\":\\\"1140.5204597426848\\\"},{\\\"time\\\":\\\"2034-01-01\\\",\\\"regions\\\":\\\"FSU\\\",\\\"income\\\":\\\"1595.0326839191894\\\"},{\\\"time\\\":\\\"2034-01-01\\\",\\\"regions\\\":\\\"MDE\\\",\\\"income\\\":\\\"2337.012487539274\\\"},{\\\"time\\\":\\\"2034-01-01\\\",\\\"regions\\\":\\\"CAM\\\",\\\"income\\\":\\\"1223.3558128135096\\\"},{\\\"time\\\":\\\"2034-01-01\\\",\\\"regions\\\":\\\"LAM\\\",\\\"income\\\":\\\"4252.181566665826\\\"},{\\\"time\\\":\\\"2034-01-01\\\",\\\"regions\\\":\\\"SAS\\\",\\\"income\\\":\\\"2101.366776966483\\\"},{\\\"time\\\":\\\"2034-01-01\\\",\\\"regions\\\":\\\"SEA\\\",\\\"income\\\":\\\"2854.8208614310674\\\"},{\\\"time\\\":\\\"2034-01-01\\\",\\\"regions\\\":\\\"CHI\\\",\\\"income\\\":\\\"4451.924644263792\\\"},{\\\"time\\\":\\\"2034-01-01\\\",\\\"regions\\\":\\\"MAF\\\",\\\"income\\\":\\\"735.1997225300522\\\"},{\\\"time\\\":\\\"2034-01-01\\\",\\\"regions\\\":\\\"SSA\\\",\\\"income\\\":\\\"1304.4037070520383\\\"},{\\\"time\\\":\\\"2034-01-01\\\",\\\"regions\\\":\\\"SIS\\\",\\\"income\\\":\\\"156.4888330289618\\\"},{\\\"time\\\":\\\"2035-01-01\\\",\\\"regions\\\":\\\"USA\\\",\\\"income\\\":\\\"17523.366138705784\\\"},{\\\"time\\\":\\\"2035-01-01\\\",\\\"regions\\\":\\\"CAN\\\",\\\"income\\\":\\\"1389.310000192644\\\"},{\\\"time\\\":\\\"2035-01-01\\\",\\\"regions\\\":\\\"WEU\\\",\\\"income\\\":\\\"19064.54790439375\\\"},{\\\"time\\\":\\\"2035-01-01\\\",\\\"regions\\\":\\\"JPK\\\",\\\"income\\\":\\\"13590.158989380696\\\"},{\\\"time\\\":\\\"2035-01-01\\\",\\\"regions\\\":\\\"ANZ\\\",\\\"income\\\":\\\"1168.8056542342567\\\"},{\\\"time\\\":\\\"2035-01-01\\\",\\\"regions\\\":\\\"EEU\\\",\\\"income\\\":\\\"1172.75244790812\\\"},{\\\"time\\\":\\\"2035-01-01\\\",\\\"regions\\\":\\\"FSU\\\",\\\"income\\\":\\\"1639.7537736991758\\\"},{\\\"time\\\":\\\"2035-01-01\\\",\\\"regions\\\":\\\"MDE\\\",\\\"income\\\":\\\"2416.26709910162\\\"},{\\\"time\\\":\\\"2035-01-01\\\",\\\"regions\\\":\\\"CAM\\\",\\\"income\\\":\\\"1259.4293846756416\\\"},{\\\"time\\\":\\\"2035-01-01\\\",\\\"regions\\\":\\\"LAM\\\",\\\"income\\\":\\\"4376.547298465907\\\"},{\\\"time\\\":\\\"2035-01-01\\\",\\\"regions\\\":\\\"SAS\\\",\\\"income\\\":\\\"2168.6529977513364\\\"},{\\\"time\\\":\\\"2035-01-01\\\",\\\"regions\\\":\\\"SEA\\\",\\\"income\\\":\\\"2945.947388507594\\\"},{\\\"time\\\":\\\"2035-01-01\\\",\\\"regions\\\":\\\"CHI\\\",\\\"income\\\":\\\"4597.96843919158\\\"},{\\\"time\\\":\\\"2035-01-01\\\",\\\"regions\\\":\\\"MAF\\\",\\\"income\\\":\\\"761.3371220661636\\\"},{\\\"time\\\":\\\"2035-01-01\\\",\\\"regions\\\":\\\"SSA\\\",\\\"income\\\":\\\"1351.0382096741746\\\"},{\\\"time\\\":\\\"2035-01-01\\\",\\\"regions\\\":\\\"SIS\\\",\\\"income\\\":\\\"161.11470668921197\\\"},{\\\"time\\\":\\\"2036-01-01\\\",\\\"regions\\\":\\\"USA\\\",\\\"income\\\":\\\"17774.503887356666\\\"},{\\\"time\\\":\\\"2036-01-01\\\",\\\"regions\\\":\\\"CAN\\\",\\\"income\\\":\\\"1409.2969900987941\\\"},{\\\"time\\\":\\\"2036-01-01\\\",\\\"regions\\\":\\\"WEU\\\",\\\"income\\\":\\\"19335.953763292815\\\"},{\\\"time\\\":\\\"2036-01-01\\\",\\\"regions\\\":\\\"JPK\\\",\\\"income\\\":\\\"13818.39420737555\\\"},{\\\"time\\\":\\\"2036-01-01\\\",\\\"regions\\\":\\\"ANZ\\\",\\\"income\\\":\\\"1188.3978306755207\\\"},{\\\"time\\\":\\\"2036-01-01\\\",\\\"regions\\\":\\\"EEU\\\",\\\"income\\\":\\\"1205.2122368933315\\\"},{\\\"time\\\":\\\"2036-01-01\\\",\\\"regions\\\":\\\"FSU\\\",\\\"income\\\":\\\"1684.7587783738693\\\"},{\\\"time\\\":\\\"2036-01-01\\\",\\\"regions\\\":\\\"MDE\\\",\\\"income\\\":\\\"2497.5387174875864\\\"},{\\\"time\\\":\\\"2036-01-01\\\",\\\"regions\\\":\\\"CAM\\\",\\\"income\\\":\\\"1296.5399689536878\\\"},{\\\"time\\\":\\\"2036-01-01\\\",\\\"regions\\\":\\\"LAM\\\",\\\"income\\\":\\\"4504.456468248295\\\"},{\\\"time\\\":\\\"2036-01-01\\\",\\\"regions\\\":\\\"SAS\\\",\\\"income\\\":\\\"2238.0469435283803\\\"},{\\\"time\\\":\\\"2036-01-01\\\",\\\"regions\\\":\\\"SEA\\\",\\\"income\\\":\\\"3039.9132768193026\\\"},{\\\"time\\\":\\\"2036-01-01\\\",\\\"regions\\\":\\\"CHI\\\",\\\"income\\\":\\\"4748.6797418046135\\\"},{\\\"time\\\":\\\"2036-01-01\\\",\\\"regions\\\":\\\"MAF\\\",\\\"income\\\":\\\"788.1860777686802\\\"},{\\\"time\\\":\\\"2036-01-01\\\",\\\"regions\\\":\\\"SSA\\\",\\\"income\\\":\\\"1398.961414795322\\\"},{\\\"time\\\":\\\"2036-01-01\\\",\\\"regions\\\":\\\"SIS\\\",\\\"income\\\":\\\"165.87412274584142\\\"},{\\\"time\\\":\\\"2037-01-01\\\",\\\"regions\\\":\\\"USA\\\",\\\"income\\\":\\\"18025.84649879467\\\"},{\\\"time\\\":\\\"2037-01-01\\\",\\\"regions\\\":\\\"CAN\\\",\\\"income\\\":\\\"1429.3036199012256\\\"},{\\\"time\\\":\\\"2037-01-01\\\",\\\"regions\\\":\\\"WEU\\\",\\\"income\\\":\\\"19607.71306765577\\\"},{\\\"time\\\":\\\"2037-01-01\\\",\\\"regions\\\":\\\"JPK\\\",\\\"income\\\":\\\"14047.981695090177\\\"},{\\\"time\\\":\\\"2037-01-01\\\",\\\"regions\\\":\\\"ANZ\\\",\\\"income\\\":\\\"1208.1049342678275\\\"},{\\\"time\\\":\\\"2037-01-01\\\",\\\"regions\\\":\\\"EEU\\\",\\\"income\\\":\\\"1237.8683698313903\\\"},{\\\"time\\\":\\\"2037-01-01\\\",\\\"regions\\\":\\\"FSU\\\",\\\"income\\\":\\\"1730.0019805460013\\\"},{\\\"time\\\":\\\"2037-01-01\\\",\\\"regions\\\":\\\"MDE\\\",\\\"income\\\":\\\"2580.8502560841903\\\"},{\\\"time\\\":\\\"2037-01-01\\\",\\\"regions\\\":\\\"CAM\\\",\\\"income\\\":\\\"1334.7164046575767\\\"},{\\\"time\\\":\\\"2037-01-01\\\",\\\"regions\\\":\\\"LAM\\\",\\\"income\\\":\\\"4636.006989076945\\\"},{\\\"time\\\":\\\"2037-01-01\\\",\\\"regions\\\":\\\"SAS\\\",\\\"income\\\":\\\"2309.6127925636692\\\"},{\\\"time\\\":\\\"2037-01-01\\\",\\\"regions\\\":\\\"SEA\\\",\\\"income\\\":\\\"3136.8042648782625\\\"},{\\\"time\\\":\\\"2037-01-01\\\",\\\"regions\\\":\\\"CHI\\\",\\\"income\\\":\\\"4904.201982159608\\\"},{\\\"time\\\":\\\"2037-01-01\\\",\\\"regions\\\":\\\"MAF\\\",\\\"income\\\":\\\"815.7563254949462\\\"},{\\\"time\\\":\\\"2037-01-01\\\",\\\"regions\\\":\\\"SSA\\\",\\\"income\\\":\\\"1448.1923689516923\\\"},{\\\"time\\\":\\\"2037-01-01\\\",\\\"regions\\\":\\\"SIS\\\",\\\"income\\\":\\\"170.77082787440264\\\"},{\\\"time\\\":\\\"2038-01-01\\\",\\\"regions\\\":\\\"USA\\\",\\\"income\\\":\\\"18277.299985627375\\\"},{\\\"time\\\":\\\"2038-01-01\\\",\\\"regions\\\":\\\"CAN\\\",\\\"income\\\":\\\"1449.322508308904\\\"},{\\\"time\\\":\\\"2038-01-01\\\",\\\"regions\\\":\\\"WEU\\\",\\\"income\\\":\\\"19879.53446775444\\\"},{\\\"time\\\":\\\"2038-01-01\\\",\\\"regions\\\":\\\"JPK\\\",\\\"income\\\":\\\"14278.7204750073\\\"},{\\\"time\\\":\\\"2038-01-01\\\",\\\"regions\\\":\\\"ANZ\\\",\\\"income\\\":\\\"1227.9096639459024\\\"},{\\\"time\\\":\\\"2038-01-01\\\",\\\"regions\\\":\\\"EEU\\\",\\\"income\\\":\\\"1270.700529759121\\\"},{\\\"time\\\":\\\"2038-01-01\\\",\\\"regions\\\":\\\"FSU\\\",\\\"income\\\":\\\"1775.4532196262517\\\"},{\\\"time\\\":\\\"2038-01-01\\\",\\\"regions\\\":\\\"MDE\\\",\\\"income\\\":\\\"2666.249697710699\\\"},{\\\"time\\\":\\\"2038-01-01\\\",\\\"regions\\\":\\\"CAM\\\",\\\"income\\\":\\\"1374.0017130942579\\\"},{\\\"time\\\":\\\"2038-01-01\\\",\\\"regions\\\":\\\"LAM\\\",\\\"income\\\":\\\"4771.3459787861475\\\"},{\\\"time\\\":\\\"2038-01-01\\\",\\\"regions\\\":\\\"SAS\\\",\\\"income\\\":\\\"2383.4398776265093\\\"},{\\\"time\\\":\\\"2038-01-01\\\",\\\"regions\\\":\\\"SEA\\\",\\\"income\\\":\\\"3236.7401850963292\\\"},{\\\"time\\\":\\\"2038-01-01\\\",\\\"regions\\\":\\\"CHI\\\",\\\"income\\\":\\\"5064.731954911741\\\"},{\\\"time\\\":\\\"2038-01-01\\\",\\\"regions\\\":\\\"MAF\\\",\\\"income\\\":\\\"844.0655518091294\\\"},{\\\"time\\\":\\\"2038-01-01\\\",\\\"regions\\\":\\\"SSA\\\",\\\"income\\\":\\\"1498.7643202998997\\\"},{\\\"time\\\":\\\"2038-01-01\\\",\\\"regions\\\":\\\"SIS\\\",\\\"income\\\":\\\"175.8103868084323\\\"},{\\\"time\\\":\\\"2039-01-01\\\",\\\"regions\\\":\\\"USA\\\",\\\"income\\\":\\\"18528.586116725437\\\"},{\\\"time\\\":\\\"2039-01-01\\\",\\\"regions\\\":\\\"CAN\\\",\\\"income\\\":\\\"1469.3316619222355\\\"},{\\\"time\\\":\\\"2039-01-01\\\",\\\"regions\\\":\\\"WEU\\\",\\\"income\\\":\\\"20151.511809242413\\\"},{\\\"time\\\":\\\"2039-01-01\\\",\\\"regions\\\":\\\"JPK\\\",\\\"income\\\":\\\"14510.684944166724\\\"},{\\\"time\\\":\\\"2039-01-01\\\",\\\"regions\\\":\\\"ANZ\\\",\\\"income\\\":\\\"1247.818401035785\\\"},{\\\"time\\\":\\\"2039-01-01\\\",\\\"regions\\\":\\\"EEU\\\",\\\"income\\\":\\\"1303.6630880519706\\\"},{\\\"time\\\":\\\"2039-01-01\\\",\\\"regions\\\":\\\"FSU\\\",\\\"income\\\":\\\"1821.0469571561346\\\"},{\\\"time\\\":\\\"2039-01-01\\\",\\\"regions\\\":\\\"MDE\\\",\\\"income\\\":\\\"2753.733628344055\\\"},{\\\"time\\\":\\\"2039-01-01\\\",\\\"regions\\\":\\\"CAM\\\",\\\"income\\\":\\\"1414.4136512275752\\\"},{\\\"time\\\":\\\"2039-01-01\\\",\\\"regions\\\":\\\"LAM\\\",\\\"income\\\":\\\"4910.532760402642\\\"},{\\\"time\\\":\\\"2039-01-01\\\",\\\"regions\\\":\\\"SAS\\\",\\\"income\\\":\\\"2459.5743963442997\\\"},{\\\"time\\\":\\\"2039-01-01\\\",\\\"regions\\\":\\\"SEA\\\",\\\"income\\\":\\\"3339.782217053904\\\"},{\\\"time\\\":\\\"2039-01-01\\\",\\\"regions\\\":\\\"CHI\\\",\\\"income\\\":\\\"5230.37549062612\\\"},{\\\"time\\\":\\\"2039-01-01\\\",\\\"regions\\\":\\\"MAF\\\",\\\"income\\\":\\\"873.1152108620037\\\"},{\\\"time\\\":\\\"2039-01-01\\\",\\\"regions\\\":\\\"SSA\\\",\\\"income\\\":\\\"1550.681786617958\\\"},{\\\"time\\\":\\\"2039-01-01\\\",\\\"regions\\\":\\\"SIS\\\",\\\"income\\\":\\\"180.99513535644485\\\"},{\\\"time\\\":\\\"2040-01-01\\\",\\\"regions\\\":\\\"USA\\\",\\\"income\\\":\\\"18779.78582095871\\\"},{\\\"time\\\":\\\"2040-01-01\\\",\\\"regions\\\":\\\"CAN\\\",\\\"income\\\":\\\"1489.3375658778232\\\"},{\\\"time\\\":\\\"2040-01-01\\\",\\\"regions\\\":\\\"WEU\\\",\\\"income\\\":\\\"20423.345171918725\\\"},{\\\"time\\\":\\\"2040-01-01\\\",\\\"regions\\\":\\\"JPK\\\",\\\"income\\\":\\\"14743.66597041373\\\"},{\\\"time\\\":\\\"2040-01-01\\\",\\\"regions\\\":\\\"ANZ\\\",\\\"income\\\":\\\"1267.8131446684872\\\"},{\\\"time\\\":\\\"2040-01-01\\\",\\\"regions\\\":\\\"EEU\\\",\\\"income\\\":\\\"1336.7340351924342\\\"},{\\\"time\\\":\\\"2040-01-01\\\",\\\"regions\\\":\\\"FSU\\\",\\\"income\\\":\\\"1866.7506576911935\\\"},{\\\"time\\\":\\\"2040-01-01\\\",\\\"regions\\\":\\\"MDE\\\",\\\"income\\\":\\\"2843.349708666173\\\"},{\\\"time\\\":\\\"2040-01-01\\\",\\\"regions\\\":\\\"CAM\\\",\\\"income\\\":\\\"1455.9976604124358\\\"},{\\\"time\\\":\\\"2040-01-01\\\",\\\"regions\\\":\\\"LAM\\\",\\\"income\\\":\\\"5053.722746997529\\\"},{\\\"time\\\":\\\"2040-01-01\\\",\\\"regions\\\":\\\"SAS\\\",\\\"income\\\":\\\"2538.111174219236\\\"},{\\\"time\\\":\\\"2040-01-01\\\",\\\"regions\\\":\\\"SEA\\\",\\\"income\\\":\\\"3446.0575060647416\\\"},{\\\"time\\\":\\\"2040-01-01\\\",\\\"regions\\\":\\\"CHI\\\",\\\"income\\\":\\\"5401.3414427179905\\\"},{\\\"time\\\":\\\"2040-01-01\\\",\\\"regions\\\":\\\"MAF\\\",\\\"income\\\":\\\"902.9229343825564\\\"},{\\\"time\\\":\\\"2040-01-01\\\",\\\"regions\\\":\\\"SSA\\\",\\\"income\\\":\\\"1603.9781002870204\\\"},{\\\"time\\\":\\\"2040-01-01\\\",\\\"regions\\\":\\\"SIS\\\",\\\"income\\\":\\\"186.33095543244235\\\"},{\\\"time\\\":\\\"2041-01-01\\\",\\\"regions\\\":\\\"USA\\\",\\\"income\\\":\\\"19030.800898959536\\\"},{\\\"time\\\":\\\"2041-01-01\\\",\\\"regions\\\":\\\"CAN\\\",\\\"income\\\":\\\"1509.3324990685514\\\"},{\\\"time\\\":\\\"2041-01-01\\\",\\\"regions\\\":\\\"WEU\\\",\\\"income\\\":\\\"20695.130838137396\\\"},{\\\"time\\\":\\\"2041-01-01\\\",\\\"regions\\\":\\\"JPK\\\",\\\"income\\\":\\\"14977.739066968796\\\"},{\\\"time\\\":\\\"2041-01-01\\\",\\\"regions\\\":\\\"ANZ\\\",\\\"income\\\":\\\"1287.9003721897516\\\"},{\\\"time\\\":\\\"2041-01-01\\\",\\\"regions\\\":\\\"EEU\\\",\\\"income\\\":\\\"1369.8648354055963\\\"},{\\\"time\\\":\\\"2041-01-01\\\",\\\"regions\\\":\\\"FSU\\\",\\\"income\\\":\\\"1912.4947511909954\\\"},{\\\"time\\\":\\\"2041-01-01\\\",\\\"regions\\\":\\\"MDE\\\",\\\"income\\\":\\\"2935.0907052945668\\\"},{\\\"time\\\":\\\"2041-01-01\\\",\\\"regions\\\":\\\"CAM\\\",\\\"income\\\":\\\"1498.7724043768962\\\"},{\\\"time\\\":\\\"2041-01-01\\\",\\\"regions\\\":\\\"LAM\\\",\\\"income\\\":\\\"5200.97834574788\\\"},{\\\"time\\\":\\\"2041-01-01\\\",\\\"regions\\\":\\\"SAS\\\",\\\"income\\\":\\\"2619.0990909666325\\\"},{\\\"time\\\":\\\"2041-01-01\\\",\\\"regions\\\":\\\"SEA\\\",\\\"income\\\":\\\"3555.6307400010746\\\"},{\\\"time\\\":\\\"2041-01-01\\\",\\\"regions\\\":\\\"CHI\\\",\\\"income\\\":\\\"5577.74162525435\\\"},{\\\"time\\\":\\\"2041-01-01\\\",\\\"regions\\\":\\\"MAF\\\",\\\"income\\\":\\\"933.4889641799023\\\"},{\\\"time\\\":\\\"2041-01-01\\\",\\\"regions\\\":\\\"SSA\\\",\\\"income\\\":\\\"1658.6557920661107\\\"},{\\\"time\\\":\\\"2041-01-01\\\",\\\"regions\\\":\\\"SIS\\\",\\\"income\\\":\\\"191.82030623278607\\\"},{\\\"time\\\":\\\"2042-01-01\\\",\\\"regions\\\":\\\"USA\\\",\\\"income\\\":\\\"19280.567792018453\\\"},{\\\"time\\\":\\\"2042-01-01\\\",\\\"regions\\\":\\\"CAN\\\",\\\"income\\\":\\\"1529.232170328052\\\"},{\\\"time\\\":\\\"2042-01-01\\\",\\\"regions\\\":\\\"WEU\\\",\\\"income\\\":\\\"20965.719227410904\\\"},{\\\"time\\\":\\\"2042-01-01\\\",\\\"regions\\\":\\\"JPK\\\",\\\"income\\\":\\\"15210.560931203108\\\"},{\\\"time\\\":\\\"2042-01-01\\\",\\\"regions\\\":\\\"ANZ\\\",\\\"income\\\":\\\"1307.878577635306\\\"},{\\\"time\\\":\\\"2042-01-01\\\",\\\"regions\\\":\\\"EEU\\\",\\\"income\\\":\\\"1402.9481413628685\\\"},{\\\"time\\\":\\\"2042-01-01\\\",\\\"regions\\\":\\\"FSU\\\",\\\"income\\\":\\\"1958.1276300440031\\\"},{\\\"time\\\":\\\"2042-01-01\\\",\\\"regions\\\":\\\"MDE\\\",\\\"income\\\":\\\"3028.9742206962283\\\"},{\\\"time\\\":\\\"2042-01-01\\\",\\\"regions\\\":\\\"CAM\\\",\\\"income\\\":\\\"1542.387039904091\\\"},{\\\"time\\\":\\\"2042-01-01\\\",\\\"regions\\\":\\\"LAM\\\",\\\"income\\\":\\\"5351.080016504072\\\"},{\\\"time\\\":\\\"2042-01-01\\\",\\\"regions\\\":\\\"SAS\\\",\\\"income\\\":\\\"2701.941785676963\\\"},{\\\"time\\\":\\\"2042-01-01\\\",\\\"regions\\\":\\\"SEA\\\",\\\"income\\\":\\\"3667.6906841039813\\\"},{\\\"time\\\":\\\"2042-01-01\\\",\\\"regions\\\":\\\"CHI\\\",\\\"income\\\":\\\"5758.879931550894\\\"},{\\\"time\\\":\\\"2042-01-01\\\",\\\"regions\\\":\\\"MAF\\\",\\\"income\\\":\\\"964.8214122396995\\\"},{\\\"time\\\":\\\"2042-01-01\\\",\\\"regions\\\":\\\"SSA\\\",\\\"income\\\":\\\"1714.7314488301076\\\"},{\\\"time\\\":\\\"2042-01-01\\\",\\\"regions\\\":\\\"SIS\\\",\\\"income\\\":\\\"197.41835524790739\\\"},{\\\"time\\\":\\\"2043-01-01\\\",\\\"regions\\\":\\\"USA\\\",\\\"income\\\":\\\"19528.948294494592\\\"},{\\\"time\\\":\\\"2043-01-01\\\",\\\"regions\\\":\\\"CAN\\\",\\\"income\\\":\\\"1549.0256638129508\\\"},{\\\"time\\\":\\\"2043-01-01\\\",\\\"regions\\\":\\\"WEU\\\",\\\"income\\\":\\\"21234.757449701337\\\"},{\\\"time\\\":\\\"2043-01-01\\\",\\\"regions\\\":\\\"JPK\\\",\\\"income\\\":\\\"15441.805057735808\\\"},{\\\"time\\\":\\\"2043-01-01\\\",\\\"regions\\\":\\\"ANZ\\\",\\\"income\\\":\\\"1327.7196846788252\\\"},{\\\"time\\\":\\\"2043-01-01\\\",\\\"regions\\\":\\\"EEU\\\",\\\"income\\\":\\\"1435.9548302171079\\\"},{\\\"time\\\":\\\"2043-01-01\\\",\\\"regions\\\":\\\"FSU\\\",\\\"income\\\":\\\"2003.6069712223557\\\"},{\\\"time\\\":\\\"2043-01-01\\\",\\\"regions\\\":\\\"MDE\\\",\\\"income\\\":\\\"3125.0471122315084\\\"},{\\\"time\\\":\\\"2043-01-01\\\",\\\"regions\\\":\\\"CAM\\\",\\\"income\\\":\\\"1586.8572686406799\\\"},{\\\"time\\\":\\\"2043-01-01\\\",\\\"regions\\\":\\\"LAM\\\",\\\"income\\\":\\\"5504.080811496872\\\"},{\\\"time\\\":\\\"2043-01-01\\\",\\\"regions\\\":\\\"SAS\\\",\\\"income\\\":\\\"2786.679063836094\\\"},{\\\"time\\\":\\\"2043-01-01\\\",\\\"regions\\\":\\\"SEA\\\",\\\"income\\\":\\\"3782.289914866091\\\"},{\\\"time\\\":\\\"2043-01-01\\\",\\\"regions\\\":\\\"CHI\\\",\\\"income\\\":\\\"5944.900573651382\\\"},{\\\"time\\\":\\\"2043-01-01\\\",\\\"regions\\\":\\\"MAF\\\",\\\"income\\\":\\\"996.9377282087091\\\"},{\\\"time\\\":\\\"2043-01-01\\\",\\\"regions\\\":\\\"SSA\\\",\\\"income\\\":\\\"1772.2383446900458\\\"},{\\\"time\\\":\\\"2043-01-01\\\",\\\"regions\\\":\\\"SIS\\\",\\\"income\\\":\\\"203.12717607659454\\\"},{\\\"time\\\":\\\"2044-01-01\\\",\\\"regions\\\":\\\"USA\\\",\\\"income\\\":\\\"19775.608096289812\\\"},{\\\"time\\\":\\\"2044-01-01\\\",\\\"regions\\\":\\\"CAN\\\",\\\"income\\\":\\\"1568.6865068950926\\\"},{\\\"time\\\":\\\"2044-01-01\\\",\\\"regions\\\":\\\"WEU\\\",\\\"income\\\":\\\"21502.30557646164\\\"},{\\\"time\\\":\\\"2044-01-01\\\",\\\"regions\\\":\\\"JPK\\\",\\\"income\\\":\\\"15671.44399418284\\\"},{\\\"time\\\":\\\"2044-01-01\\\",\\\"regions\\\":\\\"ANZ\\\",\\\"income\\\":\\\"1347.4213375931015\\\"},{\\\"time\\\":\\\"2044-01-01\\\",\\\"regions\\\":\\\"EEU\\\",\\\"income\\\":\\\"1468.8274681600544\\\"},{\\\"time\\\":\\\"2044-01-01\\\",\\\"regions\\\":\\\"FSU\\\",\\\"income\\\":\\\"2048.8509804154696\\\"},{\\\"time\\\":\\\"2044-01-01\\\",\\\"regions\\\":\\\"MDE\\\",\\\"income\\\":\\\"3223.2957844249618\\\"},{\\\"time\\\":\\\"2044-01-01\\\",\\\"regions\\\":\\\"CAM\\\",\\\"income\\\":\\\"1632.1679786382574\\\"},{\\\"time\\\":\\\"2044-01-01\\\",\\\"regions\\\":\\\"LAM\\\",\\\"income\\\":\\\"5659.926947771318\\\"},{\\\"time\\\":\\\"2044-01-01\\\",\\\"regions\\\":\\\"SAS\\\",\\\"income\\\":\\\"2873.296849575165\\\"},{\\\"time\\\":\\\"2044-01-01\\\",\\\"regions\\\":\\\"SEA\\\",\\\"income\\\":\\\"3899.4078190209643\\\"},{\\\"time\\\":\\\"2044-01-01\\\",\\\"regions\\\":\\\"CHI\\\",\\\"income\\\":\\\"6135.835929022993\\\"},{\\\"time\\\":\\\"2044-01-01\\\",\\\"regions\\\":\\\"MAF\\\",\\\"income\\\":\\\"1029.836104634424\\\"},{\\\"time\\\":\\\"2044-01-01\\\",\\\"regions\\\":\\\"SSA\\\",\\\"income\\\":\\\"1831.1756236419478\\\"},{\\\"time\\\":\\\"2044-01-01\\\",\\\"regions\\\":\\\"SIS\\\",\\\"income\\\":\\\"208.94490186589323\\\"},{\\\"time\\\":\\\"2045-01-01\\\",\\\"regions\\\":\\\"USA\\\",\\\"income\\\":\\\"20020.59779270165\\\"},{\\\"time\\\":\\\"2045-01-01\\\",\\\"regions\\\":\\\"CAN\\\",\\\"income\\\":\\\"1588.2187541711323\\\"},{\\\"time\\\":\\\"2045-01-01\\\",\\\"regions\\\":\\\"WEU\\\",\\\"income\\\":\\\"21768.00346622326\\\"},{\\\"time\\\":\\\"2045-01-01\\\",\\\"regions\\\":\\\"JPK\\\",\\\"income\\\":\\\"15899.14423422019\\\"},{\\\"time\\\":\\\"2045-01-01\\\",\\\"regions\\\":\\\"ANZ\\\",\\\"income\\\":\\\"1366.954867048291\\\"},{\\\"time\\\":\\\"2045-01-01\\\",\\\"regions\\\":\\\"EEU\\\",\\\"income\\\":\\\"1501.5358713627118\\\"},{\\\"time\\\":\\\"2045-01-01\\\",\\\"regions\\\":\\\"FSU\\\",\\\"income\\\":\\\"2093.815934184314\\\"},{\\\"time\\\":\\\"2045-01-01\\\",\\\"regions\\\":\\\"MDE\\\",\\\"income\\\":\\\"3323.7663843243286\\\"},{\\\"time\\\":\\\"2045-01-01\\\",\\\"regions\\\":\\\"CAM\\\",\\\"income\\\":\\\"1678.3343499321713\\\"},{\\\"time\\\":\\\"2045-01-01\\\",\\\"regions\\\":\\\"LAM\\\",\\\"income\\\":\\\"5818.669788928744\\\"},{\\\"time\\\":\\\"2045-01-01\\\",\\\"regions\\\":\\\"SAS\\\",\\\"income\\\":\\\"2961.8343191947192\\\"},{\\\"time\\\":\\\"2045-01-01\\\",\\\"regions\\\":\\\"SEA\\\",\\\"income\\\":\\\"4019.096033838977\\\"},{\\\"time\\\":\\\"2045-01-01\\\",\\\"regions\\\":\\\"CHI\\\",\\\"income\\\":\\\"6331.834045582986\\\"},{\\\"time\\\":\\\"2045-01-01\\\",\\\"regions\\\":\\\"MAF\\\",\\\"income\\\":\\\"1063.5337853698113\\\"},{\\\"time\\\":\\\"2045-01-01\\\",\\\"regions\\\":\\\"SSA\\\",\\\"income\\\":\\\"1891.5763945677406\\\"},{\\\"time\\\":\\\"2045-01-01\\\",\\\"regions\\\":\\\"SIS\\\",\\\"income\\\":\\\"214.87354569798006\\\"},{\\\"time\\\":\\\"2046-01-01\\\",\\\"regions\\\":\\\"USA\\\",\\\"income\\\":\\\"20263.777016580196\\\"},{\\\"time\\\":\\\"2046-01-01\\\",\\\"regions\\\":\\\"CAN\\\",\\\"income\\\":\\\"1607.611310054112\\\"},{\\\"time\\\":\\\"2046-01-01\\\",\\\"regions\\\":\\\"WEU\\\",\\\"income\\\":\\\"22031.91490879244\\\"},{\\\"time\\\":\\\"2046-01-01\\\",\\\"regions\\\":\\\"JPK\\\",\\\"income\\\":\\\"16124.880953770948\\\"},{\\\"time\\\":\\\"2046-01-01\\\",\\\"regions\\\":\\\"ANZ\\\",\\\"income\\\":\\\"1386.318146375239\\\"},{\\\"time\\\":\\\"2046-01-01\\\",\\\"regions\\\":\\\"EEU\\\",\\\"income\\\":\\\"1534.0204053157297\\\"},{\\\"time\\\":\\\"2046-01-01\\\",\\\"regions\\\":\\\"FSU\\\",\\\"income\\\":\\\"2138.41708824908\\\"},{\\\"time\\\":\\\"2046-01-01\\\",\\\"regions\\\":\\\"MDE\\\",\\\"income\\\":\\\"3426.4406871246965\\\"},{\\\"time\\\":\\\"2046-01-01\\\",\\\"regions\\\":\\\"CAM\\\",\\\"income\\\":\\\"1725.3389385680669\\\"},{\\\"time\\\":\\\"2046-01-01\\\",\\\"regions\\\":\\\"LAM\\\",\\\"income\\\":\\\"5980.247658854422\\\"},{\\\"time\\\":\\\"2046-01-01\\\",\\\"regions\\\":\\\"SAS\\\",\\\"income\\\":\\\"3052.2732562031943\\\"},{\\\"time\\\":\\\"2046-01-01\\\",\\\"regions\\\":\\\"SEA\\\",\\\"income\\\":\\\"4141.328283565182\\\"},{\\\"time\\\":\\\"2046-01-01\\\",\\\"regions\\\":\\\"CHI\\\",\\\"income\\\":\\\"6532.923646889224\\\"},{\\\"time\\\":\\\"2046-01-01\\\",\\\"regions\\\":\\\"MAF\\\",\\\"income\\\":\\\"1098.0274403047483\\\"},{\\\"time\\\":\\\"2046-01-01\\\",\\\"regions\\\":\\\"SSA\\\",\\\"income\\\":\\\"1953.4372810532889\\\"},{\\\"time\\\":\\\"2046-01-01\\\",\\\"regions\\\":\\\"SIS\\\",\\\"income\\\":\\\"220.9109466597849\\\"},{\\\"time\\\":\\\"2047-01-01\\\",\\\"regions\\\":\\\"USA\\\",\\\"income\\\":\\\"20505.00490388964\\\"},{\\\"time\\\":\\\"2047-01-01\\\",\\\"regions\\\":\\\"CAN\\\",\\\"income\\\":\\\"1626.8530357101085\\\"},{\\\"time\\\":\\\"2047-01-01\\\",\\\"regions\\\":\\\"WEU\\\",\\\"income\\\":\\\"22293.893323208693\\\"},{\\\"time\\\":\\\"2047-01-01\\\",\\\"regions\\\":\\\"JPK\\\",\\\"income\\\":\\\"16348.476123730825\\\"},{\\\"time\\\":\\\"2047-01-01\\\",\\\"regions\\\":\\\"ANZ\\\",\\\"income\\\":\\\"1405.49587754788\\\"},{\\\"time\\\":\\\"2047-01-01\\\",\\\"regions\\\":\\\"EEU\\\",\\\"income\\\":\\\"1566.2348501016315\\\"},{\\\"time\\\":\\\"2047-01-01\\\",\\\"regions\\\":\\\"FSU\\\",\\\"income\\\":\\\"2182.5884825031803\\\"},{\\\"time\\\":\\\"2047-01-01\\\",\\\"regions\\\":\\\"MDE\\\",\\\"income\\\":\\\"3531.3294827439227\\\"},{\\\"time\\\":\\\"2047-01-01\\\",\\\"regions\\\":\\\"CAM\\\",\\\"income\\\":\\\"1773.1790198993551\\\"},{\\\"time\\\":\\\"2047-01-01\\\",\\\"regions\\\":\\\"LAM\\\",\\\"income\\\":\\\"6144.650030938807\\\"},{\\\"time\\\":\\\"2047-01-01\\\",\\\"regions\\\":\\\"SAS\\\",\\\"income\\\":\\\"3144.6213005130962\\\"},{\\\"time\\\":\\\"2047-01-01\\\",\\\"regions\\\":\\\"SEA\\\",\\\"income\\\":\\\"4266.113364626454\\\"},{\\\"time\\\":\\\"2047-01-01\\\",\\\"regions\\\":\\\"CHI\\\",\\\"income\\\":\\\"6739.191017236221\\\"},{\\\"time\\\":\\\"2047-01-01\\\",\\\"regions\\\":\\\"MAF\\\",\\\"income\\\":\\\"1133.3229753737949\\\"},{\\\"time\\\":\\\"2047-01-01\\\",\\\"regions\\\":\\\"SSA\\\",\\\"income\\\":\\\"2016.7714245569553\\\"},{\\\"time\\\":\\\"2047-01-01\\\",\\\"regions\\\":\\\"SIS\\\",\\\"income\\\":\\\"227.05683037852575\\\"},{\\\"time\\\":\\\"2048-01-01\\\",\\\"regions\\\":\\\"USA\\\",\\\"income\\\":\\\"20744.14023561717\\\"},{\\\"time\\\":\\\"2048-01-01\\\",\\\"regions\\\":\\\"CAN\\\",\\\"income\\\":\\\"1645.9327599429348\\\"},{\\\"time\\\":\\\"2048-01-01\\\",\\\"regions\\\":\\\"WEU\\\",\\\"income\\\":\\\"22553.568722400243\\\"},{\\\"time\\\":\\\"2048-01-01\\\",\\\"regions\\\":\\\"JPK\\\",\\\"income\\\":\\\"16569.587488128138\\\"},{\\\"time\\\":\\\"2048-01-01\\\",\\\"regions\\\":\\\"ANZ\\\",\\\"income\\\":\\\"1424.458646385209\\\"},{\\\"time\\\":\\\"2048-01-01\\\",\\\"regions\\\":\\\"EEU\\\",\\\"income\\\":\\\"1598.1481248790856\\\"},{\\\"time\\\":\\\"2048-01-01\\\",\\\"regions\\\":\\\"FSU\\\",\\\"income\\\":\\\"2226.2853262110953\\\"},{\\\"time\\\":\\\"2048-01-01\\\",\\\"regions\\\":\\\"MDE\\\",\\\"income\\\":\\\"3638.477527665142\\\"},{\\\"time\\\":\\\"2048-01-01\\\",\\\"regions\\\":\\\"CAM\\\",\\\"income\\\":\\\"1821.8688659129598\\\"},{\\\"time\\\":\\\"2048-01-01\\\",\\\"regions\\\":\\\"LAM\\\",\\\"income\\\":\\\"6311.925364125821\\\"},{\\\"time\\\":\\\"2048-01-01\\\",\\\"regions\\\":\\\"SAS\\\",\\\"income\\\":\\\"3238.9163189682863\\\"},{\\\"time\\\":\\\"2048-01-01\\\",\\\"regions\\\":\\\"SEA\\\",\\\"income\\\":\\\"4393.501056290057\\\"},{\\\"time\\\":\\\"2048-01-01\\\",\\\"regions\\\":\\\"CHI\\\",\\\"income\\\":\\\"6950.789704914034\\\"},{\\\"time\\\":\\\"2048-01-01\\\",\\\"regions\\\":\\\"MAF\\\",\\\"income\\\":\\\"1169.4371992400172\\\"},{\\\"time\\\":\\\"2048-01-01\\\",\\\"regions\\\":\\\"SSA\\\",\\\"income\\\":\\\"2081.6114710402167\\\"},{\\\"time\\\":\\\"2048-01-01\\\",\\\"regions\\\":\\\"SIS\\\",\\\"income\\\":\\\"233.31310158736724\\\"},{\\\"time\\\":\\\"2049-01-01\\\",\\\"regions\\\":\\\"USA\\\",\\\"income\\\":\\\"20980.834204000927\\\"},{\\\"time\\\":\\\"2049-01-01\\\",\\\"regions\\\":\\\"CAN\\\",\\\"income\\\":\\\"1664.8228351935802\\\"},{\\\"time\\\":\\\"2049-01-01\\\",\\\"regions\\\":\\\"WEU\\\",\\\"income\\\":\\\"22811.011331819773\\\"},{\\\"time\\\":\\\"2049-01-01\\\",\\\"regions\\\":\\\"JPK\\\",\\\"income\\\":\\\"16788.195716352806\\\"},{\\\"time\\\":\\\"2049-01-01\\\",\\\"regions\\\":\\\"ANZ\\\",\\\"income\\\":\\\"1443.204803065805\\\"},{\\\"time\\\":\\\"2049-01-01\\\",\\\"regions\\\":\\\"EEU\\\",\\\"income\\\":\\\"1629.6980452755095\\\"},{\\\"time\\\":\\\"2049-01-01\\\",\\\"regions\\\":\\\"FSU\\\",\\\"income\\\":\\\"2269.4195722464465\\\"},{\\\"time\\\":\\\"2049-01-01\\\",\\\"regions\\\":\\\"MDE\\\",\\\"income\\\":\\\"3747.8590043250097\\\"},{\\\"time\\\":\\\"2049-01-01\\\",\\\"regions\\\":\\\"CAM\\\",\\\"income\\\":\\\"1871.3873085480311\\\"},{\\\"time\\\":\\\"2049-01-01\\\",\\\"regions\\\":\\\"LAM\\\",\\\"income\\\":\\\"6481.999417198316\\\"},{\\\"time\\\":\\\"2049-01-01\\\",\\\"regions\\\":\\\"SAS\\\",\\\"income\\\":\\\"3335.133325856955\\\"},{\\\"time\\\":\\\"2049-01-01\\\",\\\"regions\\\":\\\"SEA\\\",\\\"income\\\":\\\"4523.455852988829\\\"},{\\\"time\\\":\\\"2049-01-01\\\",\\\"regions\\\":\\\"CHI\\\",\\\"income\\\":\\\"7167.741982957425\\\"},{\\\"time\\\":\\\"2049-01-01\\\",\\\"regions\\\":\\\"MAF\\\",\\\"income\\\":\\\"1206.3642545213322\\\"},{\\\"time\\\":\\\"2049-01-01\\\",\\\"regions\\\":\\\"SSA\\\",\\\"income\\\":\\\"2147.9498311307366\\\"},{\\\"time\\\":\\\"2049-01-01\\\",\\\"regions\\\":\\\"SIS\\\",\\\"income\\\":\\\"239.67712936479919\\\"},{\\\"time\\\":\\\"2050-01-01\\\",\\\"regions\\\":\\\"USA\\\",\\\"income\\\":\\\"21215.147968245732\\\"},{\\\"time\\\":\\\"2050-01-01\\\",\\\"regions\\\":\\\"CAN\\\",\\\"income\\\":\\\"1683.5281382734647\\\"},{\\\"time\\\":\\\"2050-01-01\\\",\\\"regions\\\":\\\"WEU\\\",\\\"income\\\":\\\"23065.845408660833\\\"},{\\\"time\\\":\\\"2050-01-01\\\",\\\"regions\\\":\\\"JPK\\\",\\\"income\\\":\\\"17003.954026099927\\\"},{\\\"time\\\":\\\"2050-01-01\\\",\\\"regions\\\":\\\"ANZ\\\",\\\"income\\\":\\\"1461.704548861252\\\"},{\\\"time\\\":\\\"2050-01-01\\\",\\\"regions\\\":\\\"EEU\\\",\\\"income\\\":\\\"1660.8534360583376\\\"},{\\\"time\\\":\\\"2050-01-01\\\",\\\"regions\\\":\\\"FSU\\\",\\\"income\\\":\\\"2311.9464638736217\\\"},{\\\"time\\\":\\\"2050-01-01\\\",\\\"regions\\\":\\\"MDE\\\",\\\"income\\\":\\\"3859.5175715841897\\\"},{\\\"time\\\":\\\"2050-01-01\\\",\\\"regions\\\":\\\"CAM\\\",\\\"income\\\":\\\"1921.7479653445464\\\"},{\\\"time\\\":\\\"2050-01-01\\\",\\\"regions\\\":\\\"LAM\\\",\\\"income\\\":\\\"6654.918573842143\\\"},{\\\"time\\\":\\\"2050-01-01\\\",\\\"regions\\\":\\\"SAS\\\",\\\"income\\\":\\\"3433.3091671089833\\\"},{\\\"time\\\":\\\"2050-01-01\\\",\\\"regions\\\":\\\"SEA\\\",\\\"income\\\":\\\"4656.026106089894\\\"},{\\\"time\\\":\\\"2050-01-01\\\",\\\"regions\\\":\\\"CHI\\\",\\\"income\\\":\\\"7390.205006610174\\\"},{\\\"time\\\":\\\"2050-01-01\\\",\\\"regions\\\":\\\"MAF\\\",\\\"income\\\":\\\"1244.1205907047972\\\"},{\\\"time\\\":\\\"2050-01-01\\\",\\\"regions\\\":\\\"SSA\\\",\\\"income\\\":\\\"2215.8187236036606\\\"},{\\\"time\\\":\\\"2050-01-01\\\",\\\"regions\\\":\\\"SIS\\\",\\\"income\\\":\\\"246.15074001142762\\\"},{\\\"time\\\":\\\"2051-01-01\\\",\\\"regions\\\":\\\"USA\\\",\\\"income\\\":\\\"21446.940156265548\\\"},{\\\"time\\\":\\\"2051-01-01\\\",\\\"regions\\\":\\\"CAN\\\",\\\"income\\\":\\\"1702.0374706435966\\\"},{\\\"time\\\":\\\"2051-01-01\\\",\\\"regions\\\":\\\"WEU\\\",\\\"income\\\":\\\"23318.14617807479\\\"},{\\\"time\\\":\\\"2051-01-01\\\",\\\"regions\\\":\\\"JPK\\\",\\\"income\\\":\\\"17216.847872213686\\\"},{\\\"time\\\":\\\"2051-01-01\\\",\\\"regions\\\":\\\"ANZ\\\",\\\"income\\\":\\\"1479.9566479868377\\\"},{\\\"time\\\":\\\"2051-01-01\\\",\\\"regions\\\":\\\"EEU\\\",\\\"income\\\":\\\"1691.5509683157816\\\"},{\\\"time\\\":\\\"2051-01-01\\\",\\\"regions\\\":\\\"FSU\\\",\\\"income\\\":\\\"2353.776604311826\\\"},{\\\"time\\\":\\\"2051-01-01\\\",\\\"regions\\\":\\\"MDE\\\",\\\"income\\\":\\\"3973.4219686171364\\\"},{\\\"time\\\":\\\"2051-01-01\\\",\\\"regions\\\":\\\"CAM\\\",\\\"income\\\":\\\"1972.9270661774403\\\"},{\\\"time\\\":\\\"2051-01-01\\\",\\\"regions\\\":\\\"LAM\\\",\\\"income\\\":\\\"6830.599827951911\\\"},{\\\"time\\\":\\\"2051-01-01\\\",\\\"regions\\\":\\\"SAS\\\",\\\"income\\\":\\\"3533.4140304064426\\\"},{\\\"time\\\":\\\"2051-01-01\\\",\\\"regions\\\":\\\"SEA\\\",\\\"income\\\":\\\"4791.169756325042\\\"},{\\\"time\\\":\\\"2051-01-01\\\",\\\"regions\\\":\\\"CHI\\\",\\\"income\\\":\\\"7618.196253159279\\\"},{\\\"time\\\":\\\"2051-01-01\\\",\\\"regions\\\":\\\"MAF\\\",\\\"income\\\":\\\"1282.698540468983\\\"},{\\\"time\\\":\\\"2051-01-01\\\",\\\"regions\\\":\\\"SSA\\\",\\\"income\\\":\\\"2285.2075046705036\\\"},{\\\"time\\\":\\\"2051-01-01\\\",\\\"regions\\\":\\\"SIS\\\",\\\"income\\\":\\\"252.73097375718478\\\"},{\\\"time\\\":\\\"2052-01-01\\\",\\\"regions\\\":\\\"USA\\\",\\\"income\\\":\\\"21681.012671733948\\\"},{\\\"time\\\":\\\"2052-01-01\\\",\\\"regions\\\":\\\"CAN\\\",\\\"income\\\":\\\"1720.7319537783603\\\"},{\\\"time\\\":\\\"2052-01-01\\\",\\\"regions\\\":\\\"WEU\\\",\\\"income\\\":\\\"23572.907447233345\\\"},{\\\"time\\\":\\\"2052-01-01\\\",\\\"regions\\\":\\\"JPK\\\",\\\"income\\\":\\\"17432.413971688584\\\"},{\\\"time\\\":\\\"2052-01-01\\\",\\\"regions\\\":\\\"ANZ\\\",\\\"income\\\":\\\"1498.4370335476735\\\"},{\\\"time\\\":\\\"2052-01-01\\\",\\\"regions\\\":\\\"EEU\\\",\\\"income\\\":\\\"1722.8435623171706\\\"},{\\\"time\\\":\\\"2052-01-01\\\",\\\"regions\\\":\\\"FSU\\\",\\\"income\\\":\\\"2396.37341351752\\\"},{\\\"time\\\":\\\"2052-01-01\\\",\\\"regions\\\":\\\"MDE\\\",\\\"income\\\":\\\"4091.0317533386487\\\"},{\\\"time\\\":\\\"2052-01-01\\\",\\\"regions\\\":\\\"CAM\\\",\\\"income\\\":\\\"2025.6404935096796\\\"},{\\\"time\\\":\\\"2052-01-01\\\",\\\"regions\\\":\\\"LAM\\\",\\\"income\\\":\\\"7011.520551572719\\\"},{\\\"time\\\":\\\"2052-01-01\\\",\\\"regions\\\":\\\"SAS\\\",\\\"income\\\":\\\"3636.743429050875\\\"},{\\\"time\\\":\\\"2052-01-01\\\",\\\"regions\\\":\\\"SEA\\\",\\\"income\\\":\\\"4930.641629351456\\\"},{\\\"time\\\":\\\"2052-01-01\\\",\\\"regions\\\":\\\"CHI\\\",\\\"income\\\":\\\"7852.97707942555\\\"},{\\\"time\\\":\\\"2052-01-01\\\",\\\"regions\\\":\\\"MAF\\\",\\\"income\\\":\\\"1322.571516082752\\\"},{\\\"time\\\":\\\"2052-01-01\\\",\\\"regions\\\":\\\"SSA\\\",\\\"income\\\":\\\"2356.9629040764307\\\"},{\\\"time\\\":\\\"2052-01-01\\\",\\\"regions\\\":\\\"SIS\\\",\\\"income\\\":\\\"259.50963068393435\\\"},{\\\"time\\\":\\\"2053-01-01\\\",\\\"regions\\\":\\\"USA\\\",\\\"income\\\":\\\"21917.383903961705\\\"},{\\\"time\\\":\\\"2053-01-01\\\",\\\"regions\\\":\\\"CAN\\\",\\\"income\\\":\\\"1739.6131337640027\\\"},{\\\"time\\\":\\\"2053-01-01\\\",\\\"regions\\\":\\\"WEU\\\",\\\"income\\\":\\\"23830.147719888068\\\"},{\\\"time\\\":\\\"2053-01-01\\\",\\\"regions\\\":\\\"JPK\\\",\\\"income\\\":\\\"17650.684984680123\\\"},{\\\"time\\\":\\\"2053-01-01\\\",\\\"regions\\\":\\\"ANZ\\\",\\\"income\\\":\\\"1517.1484899751774\\\"},{\\\"time\\\":\\\"2053-01-01\\\",\\\"regions\\\":\\\"EEU\\\",\\\"income\\\":\\\"1754.7258310819784\\\"},{\\\"time\\\":\\\"2053-01-01\\\",\\\"regions\\\":\\\"FSU\\\",\\\"income\\\":\\\"2439.7265758314775\\\"},{\\\"time\\\":\\\"2053-01-01\\\",\\\"regions\\\":\\\"MDE\\\",\\\"income\\\":\\\"4212.4758827753185\\\"},{\\\"time\\\":\\\"2053-01-01\\\",\\\"regions\\\":\\\"CAM\\\",\\\"income\\\":\\\"2079.9379759310123\\\"},{\\\"time\\\":\\\"2053-01-01\\\",\\\"regions\\\":\\\"LAM\\\",\\\"income\\\":\\\"7197.850742640335\\\"},{\\\"time\\\":\\\"2053-01-01\\\",\\\"regions\\\":\\\"SAS\\\",\\\"income\\\":\\\"3743.408777963968\\\"},{\\\"time\\\":\\\"2053-01-01\\\",\\\"regions\\\":\\\"SEA\\\",\\\"income\\\":\\\"5074.590439241538\\\"},{\\\"time\\\":\\\"2053-01-01\\\",\\\"regions\\\":\\\"CHI\\\",\\\"income\\\":\\\"8094.818427463937\\\"},{\\\"time\\\":\\\"2053-01-01\\\",\\\"regions\\\":\\\"MAF\\\",\\\"income\\\":\\\"1363.785630653376\\\"},{\\\"time\\\":\\\"2053-01-01\\\",\\\"regions\\\":\\\"SSA\\\",\\\"income\\\":\\\"2431.1710628855776\\\"},{\\\"time\\\":\\\"2053-01-01\\\",\\\"regions\\\":\\\"SIS\\\",\\\"income\\\":\\\"266.4932027757012\\\"},{\\\"time\\\":\\\"2054-01-01\\\",\\\"regions\\\":\\\"USA\\\",\\\"income\\\":\\\"22156.291289671386\\\"},{\\\"time\\\":\\\"2054-01-01\\\",\\\"regions\\\":\\\"CAN\\\",\\\"income\\\":\\\"1758.6999424021085\\\"},{\\\"time\\\":\\\"2054-01-01\\\",\\\"regions\\\":\\\"WEU\\\",\\\"income\\\":\\\"24089.647179203526\\\"},{\\\"time\\\":\\\"2054-01-01\\\",\\\"regions\\\":\\\"JPK\\\",\\\"income\\\":\\\"17871.693886554414\\\"},{\\\"time\\\":\\\"2054-01-01\\\",\\\"regions\\\":\\\"ANZ\\\",\\\"income\\\":\\\"1536.0938199152617\\\"},{\\\"time\\\":\\\"2054-01-01\\\",\\\"regions\\\":\\\"EEU\\\",\\\"income\\\":\\\"1787.2264276442922\\\"},{\\\"time\\\":\\\"2054-01-01\\\",\\\"regions\\\":\\\"FSU\\\",\\\"income\\\":\\\"2483.8730218523833\\\"},{\\\"time\\\":\\\"2054-01-01\\\",\\\"regions\\\":\\\"MDE\\\",\\\"income\\\":\\\"4337.845692253455\\\"},{\\\"time\\\":\\\"2054-01-01\\\",\\\"regions\\\":\\\"CAM\\\",\\\"income\\\":\\\"2135.850076092294\\\"},{\\\"time\\\":\\\"2054-01-01\\\",\\\"regions\\\":\\\"LAM\\\",\\\"income\\\":\\\"7389.694079629189\\\"},{\\\"time\\\":\\\"2054-01-01\\\",\\\"regions\\\":\\\"SAS\\\",\\\"income\\\":\\\"3853.487835700746\\\"},{\\\"time\\\":\\\"2054-01-01\\\",\\\"regions\\\":\\\"SEA\\\",\\\"income\\\":\\\"5223.119213001297\\\"},{\\\"time\\\":\\\"2054-01-01\\\",\\\"regions\\\":\\\"CHI\\\",\\\"income\\\":\\\"8343.843780959947\\\"},{\\\"time\\\":\\\"2054-01-01\\\",\\\"regions\\\":\\\"MAF\\\",\\\"income\\\":\\\"1406.3749663997646\\\"},{\\\"time\\\":\\\"2054-01-01\\\",\\\"regions\\\":\\\"SSA\\\",\\\"income\\\":\\\"2507.896875092273\\\"},{\\\"time\\\":\\\"2054-01-01\\\",\\\"regions\\\":\\\"SIS\\\",\\\"income\\\":\\\"273.68572978711506\\\"},{\\\"time\\\":\\\"2055-01-01\\\",\\\"regions\\\":\\\"USA\\\",\\\"income\\\":\\\"22397.538977496948\\\"},{\\\"time\\\":\\\"2055-01-01\\\",\\\"regions\\\":\\\"CAN\\\",\\\"income\\\":\\\"1777.9769208156724\\\"},{\\\"time\\\":\\\"2055-01-01\\\",\\\"regions\\\":\\\"WEU\\\",\\\"income\\\":\\\"24351.657223349568\\\"},{\\\"time\\\":\\\"2055-01-01\\\",\\\"regions\\\":\\\"JPK\\\",\\\"income\\\":\\\"18095.474018713878\\\"},{\\\"time\\\":\\\"2055-01-01\\\",\\\"regions\\\":\\\"ANZ\\\",\\\"income\\\":\\\"1555.2758562993595\\\"},{\\\"time\\\":\\\"2055-01-01\\\",\\\"regions\\\":\\\"EEU\\\",\\\"income\\\":\\\"1820.3397789359499\\\"},{\\\"time\\\":\\\"2055-01-01\\\",\\\"regions\\\":\\\"FSU\\\",\\\"income\\\":\\\"2528.801989589132\\\"},{\\\"time\\\":\\\"2055-01-01\\\",\\\"regions\\\":\\\"MDE\\\",\\\"income\\\":\\\"4467.319645984681\\\"},{\\\"time\\\":\\\"2055-01-01\\\",\\\"regions\\\":\\\"CAM\\\",\\\"income\\\":\\\"2193.449721076545\\\"},{\\\"time\\\":\\\"2055-01-01\\\",\\\"regions\\\":\\\"LAM\\\",\\\"income\\\":\\\"7587.300825821318\\\"},{\\\"time\\\":\\\"2055-01-01\\\",\\\"regions\\\":\\\"SAS\\\",\\\"income\\\":\\\"3967.1356190445554\\\"},{\\\"time\\\":\\\"2055-01-01\\\",\\\"regions\\\":\\\"SEA\\\",\\\"income\\\":\\\"5376.4356031336765\\\"},{\\\"time\\\":\\\"2055-01-01\\\",\\\"regions\\\":\\\"CHI\\\",\\\"income\\\":\\\"8600.339510307607\\\"},{\\\"time\\\":\\\"2055-01-01\\\",\\\"regions\\\":\\\"MAF\\\",\\\"income\\\":\\\"1450.4019984731856\\\"},{\\\"time\\\":\\\"2055-01-01\\\",\\\"regions\\\":\\\"SSA\\\",\\\"income\\\":\\\"2587.2560971880857\\\"},{\\\"time\\\":\\\"2055-01-01\\\",\\\"regions\\\":\\\"SIS\\\",\\\"income\\\":\\\"281.0966865743894\\\"},{\\\"time\\\":\\\"2056-01-01\\\",\\\"regions\\\":\\\"USA\\\",\\\"income\\\":\\\"22641.145568437914\\\"},{\\\"time\\\":\\\"2056-01-01\\\",\\\"regions\\\":\\\"CAN\\\",\\\"income\\\":\\\"1797.4456316316353\\\"},{\\\"time\\\":\\\"2056-01-01\\\",\\\"regions\\\":\\\"WEU\\\",\\\"income\\\":\\\"24616.19618980318\\\"},{\\\"time\\\":\\\"2056-01-01\\\",\\\"regions\\\":\\\"JPK\\\",\\\"income\\\":\\\"18322.05909150415\\\"},{\\\"time\\\":\\\"2056-01-01\\\",\\\"regions\\\":\\\"ANZ\\\",\\\"income\\\":\\\"1574.6974632476981\\\"},{\\\"time\\\":\\\"2056-01-01\\\",\\\"regions\\\":\\\"EEU\\\",\\\"income\\\":\\\"1854.0956254208834\\\"},{\\\"time\\\":\\\"2056-01-01\\\",\\\"regions\\\":\\\"FSU\\\",\\\"income\\\":\\\"2574.551683937136\\\"},{\\\"time\\\":\\\"2056-01-01\\\",\\\"regions\\\":\\\"MDE\\\",\\\"income\\\":\\\"4601.041364169081\\\"},{\\\"time\\\":\\\"2056-01-01\\\",\\\"regions\\\":\\\"CAM\\\",\\\"income\\\":\\\"2252.7918897870795\\\"},{\\\"time\\\":\\\"2056-01-01\\\",\\\"regions\\\":\\\"LAM\\\",\\\"income\\\":\\\"7790.859105792766\\\"},{\\\"time\\\":\\\"2056-01-01\\\",\\\"regions\\\":\\\"SAS\\\",\\\"income\\\":\\\"4084.475999433057\\\"},{\\\"time\\\":\\\"2056-01-01\\\",\\\"regions\\\":\\\"SEA\\\",\\\"income\\\":\\\"5534.704924546369\\\"},{\\\"time\\\":\\\"2056-01-01\\\",\\\"regions\\\":\\\"CHI\\\",\\\"income\\\":\\\"8864.435274613148\\\"},{\\\"time\\\":\\\"2056-01-01\\\",\\\"regions\\\":\\\"MAF\\\",\\\"income\\\":\\\"1495.9181406039531\\\"},{\\\"time\\\":\\\"2056-01-01\\\",\\\"regions\\\":\\\"SSA\\\",\\\"income\\\":\\\"2669.345036232895\\\"},{\\\"time\\\":\\\"2056-01-01\\\",\\\"regions\\\":\\\"SIS\\\",\\\"income\\\":\\\"288.7332562346775\\\"},{\\\"time\\\":\\\"2057-01-01\\\",\\\"regions\\\":\\\"USA\\\",\\\"income\\\":\\\"22887.129751024393\\\"},{\\\"time\\\":\\\"2057-01-01\\\",\\\"regions\\\":\\\"CAN\\\",\\\"income\\\":\\\"1817.107644506136\\\"},{\\\"time\\\":\\\"2057-01-01\\\",\\\"regions\\\":\\\"WEU\\\",\\\"income\\\":\\\"24883.282437627044\\\"},{\\\"time\\\":\\\"2057-01-01\\\",\\\"regions\\\":\\\"JPK\\\",\\\"income\\\":\\\"18551.483189367747\\\"},{\\\"time\\\":\\\"2057-01-01\\\",\\\"regions\\\":\\\"ANZ\\\",\\\"income\\\":\\\"1594.3615357735773\\\"},{\\\"time\\\":\\\"2057-01-01\\\",\\\"regions\\\":\\\"EEU\\\",\\\"income\\\":\\\"1888.5067369866058\\\"},{\\\"time\\\":\\\"2057-01-01\\\",\\\"regions\\\":\\\"FSU\\\",\\\"income\\\":\\\"2621.1366037806356\\\"},{\\\"time\\\":\\\"2057-01-01\\\",\\\"regions\\\":\\\"MDE\\\",\\\"income\\\":\\\"4739.1597801994485\\\"},{\\\"time\\\":\\\"2057-01-01\\\",\\\"regions\\\":\\\"CAM\\\",\\\"income\\\":\\\"2313.933463828874\\\"},{\\\"time\\\":\\\"2057-01-01\\\",\\\"regions\\\":\\\"LAM\\\",\\\"income\\\":\\\"8000.5636141835785\\\"},{\\\"time\\\":\\\"2057-01-01\\\",\\\"regions\\\":\\\"SAS\\\",\\\"income\\\":\\\"4205.6373879086495\\\"},{\\\"time\\\":\\\"2057-01-01\\\",\\\"regions\\\":\\\"SEA\\\",\\\"income\\\":\\\"5698.098532902442\\\"},{\\\"time\\\":\\\"2057-01-01\\\",\\\"regions\\\":\\\"CHI\\\",\\\"income\\\":\\\"9136.344939463432\\\"},{\\\"time\\\":\\\"2057-01-01\\\",\\\"regions\\\":\\\"MAF\\\",\\\"income\\\":\\\"1542.9767356390562\\\"},{\\\"time\\\":\\\"2057-01-01\\\",\\\"regions\\\":\\\"SSA\\\",\\\"income\\\":\\\"2754.2637112178027\\\"},{\\\"time\\\":\\\"2057-01-01\\\",\\\"regions\\\":\\\"SIS\\\",\\\"income\\\":\\\"296.6028735166084\\\"},{\\\"time\\\":\\\"2058-01-01\\\",\\\"regions\\\":\\\"USA\\\",\\\"income\\\":\\\"23135.51030574326\\\"},{\\\"time\\\":\\\"2058-01-01\\\",\\\"regions\\\":\\\"CAN\\\",\\\"income\\\":\\\"1836.9645365039626\\\"},{\\\"time\\\":\\\"2058-01-01\\\",\\\"regions\\\":\\\"WEU\\\",\\\"income\\\":\\\"25152.93436121937\\\"},{\\\"time\\\":\\\"2058-01-01\\\",\\\"regions\\\":\\\"JPK\\\",\\\"income\\\":\\\"18783.78077723013\\\"},{\\\"time\\\":\\\"2058-01-01\\\",\\\"regions\\\":\\\"ANZ\\\",\\\"income\\\":\\\"1614.27100055413\\\"},{\\\"time\\\":\\\"2058-01-01\\\",\\\"regions\\\":\\\"EEU\\\",\\\"income\\\":\\\"1923.567264194923\\\"},{\\\"time\\\":\\\"2058-01-01\\\",\\\"regions\\\":\\\"FSU\\\",\\\"income\\\":\\\"2668.5453075196906\\\"},{\\\"time\\\":\\\"2058-01-01\\\",\\\"regions\\\":\\\"MDE\\\",\\\"income\\\":\\\"4881.8293484636815\\\"},{\\\"time\\\":\\\"2058-01-01\\\",\\\"regions\\\":\\\"CAM\\\",\\\"income\\\":\\\"2376.9332985694723\\\"},{\\\"time\\\":\\\"2058-01-01\\\",\\\"regions\\\":\\\"LAM\\\",\\\"income\\\":\\\"8216.615862070465\\\"},{\\\"time\\\":\\\"2058-01-01\\\",\\\"regions\\\":\\\"SAS\\\",\\\"income\\\":\\\"4330.75291385617\\\"},{\\\"time\\\":\\\"2058-01-01\\\",\\\"regions\\\":\\\"SEA\\\",\\\"income\\\":\\\"5866.7940630139265\\\"},{\\\"time\\\":\\\"2058-01-01\\\",\\\"regions\\\":\\\"CHI\\\",\\\"income\\\":\\\"9416.379558463475\\\"},{\\\"time\\\":\\\"2058-01-01\\\",\\\"regions\\\":\\\"MAF\\\",\\\"income\\\":\\\"1591.633134499276\\\"},{\\\"time\\\":\\\"2058-01-01\\\",\\\"regions\\\":\\\"SSA\\\",\\\"income\\\":\\\"2842.116006308411\\\"},{\\\"time\\\":\\\"2058-01-01\\\",\\\"regions\\\":\\\"SIS\\\",\\\"income\\\":\\\"304.71323437515036\\\"},{\\\"time\\\":\\\"2059-01-01\\\",\\\"regions\\\":\\\"USA\\\",\\\"income\\\":\\\"23386.5373474253\\\"},{\\\"time\\\":\\\"2059-01-01\\\",\\\"regions\\\":\\\"CAN\\\",\\\"income\\\":\\\"1857.0362541809868\\\"},{\\\"time\\\":\\\"2059-01-01\\\",\\\"regions\\\":\\\"WEU\\\",\\\"income\\\":\\\"25424.918978788915\\\"},{\\\"time\\\":\\\"2059-01-01\\\",\\\"regions\\\":\\\"JPK\\\",\\\"income\\\":\\\"19018.98670354905\\\"},{\\\"time\\\":\\\"2059-01-01\\\",\\\"regions\\\":\\\"ANZ\\\",\\\"income\\\":\\\"1634.4288161796367\\\"},{\\\"time\\\":\\\"2059-01-01\\\",\\\"regions\\\":\\\"EEU\\\",\\\"income\\\":\\\"1959.3086734797612\\\"},{\\\"time\\\":\\\"2059-01-01\\\",\\\"regions\\\":\\\"FSU\\\",\\\"income\\\":\\\"2716.818032173709\\\"},{\\\"time\\\":\\\"2059-01-01\\\",\\\"regions\\\":\\\"MDE\\\",\\\"income\\\":\\\"5029.161170184466\\\"},{\\\"time\\\":\\\"2059-01-01\\\",\\\"regions\\\":\\\"CAM\\\",\\\"income\\\":\\\"2441.8284607907153\\\"},{\\\"time\\\":\\\"2059-01-01\\\",\\\"regions\\\":\\\"LAM\\\",\\\"income\\\":\\\"8439.142056084756\\\"},{\\\"time\\\":\\\"2059-01-01\\\",\\\"regions\\\":\\\"SAS\\\",\\\"income\\\":\\\"4459.917073833804\\\"},{\\\"time\\\":\\\"2059-01-01\\\",\\\"regions\\\":\\\"SEA\\\",\\\"income\\\":\\\"6040.916705449693\\\"},{\\\"time\\\":\\\"2059-01-01\\\",\\\"regions\\\":\\\"CHI\\\",\\\"income\\\":\\\"9704.678506993308\\\"},{\\\"time\\\":\\\"2059-01-01\\\",\\\"regions\\\":\\\"MAF\\\",\\\"income\\\":\\\"1641.9287481539163\\\"},{\\\"time\\\":\\\"2059-01-01\\\",\\\"regions\\\":\\\"SSA\\\",\\\"income\\\":\\\"2932.981198588215\\\"},{\\\"time\\\":\\\"2059-01-01\\\",\\\"regions\\\":\\\"SIS\\\",\\\"income\\\":\\\"313.0692498088434\\\"},{\\\"time\\\":\\\"2060-01-01\\\",\\\"regions\\\":\\\"USA\\\",\\\"income\\\":\\\"23640.003604639856\\\"},{\\\"time\\\":\\\"2060-01-01\\\",\\\"regions\\\":\\\"CAN\\\",\\\"income\\\":\\\"1877.3064270837044\\\"},{\\\"time\\\":\\\"2060-01-01\\\",\\\"regions\\\":\\\"WEU\\\",\\\"income\\\":\\\"25699.500714236325\\\"},{\\\"time\\\":\\\"2060-01-01\\\",\\\"regions\\\":\\\"JPK\\\",\\\"income\\\":\\\"19257.136202308127\\\"},{\\\"time\\\":\\\"2060-01-01\\\",\\\"regions\\\":\\\"ANZ\\\",\\\"income\\\":\\\"1654.8379730056208\\\"},{\\\"time\\\":\\\"2060-01-01\\\",\\\"regions\\\":\\\"EEU\\\",\\\"income\\\":\\\"1995.7249175545214\\\"},{\\\"time\\\":\\\"2060-01-01\\\",\\\"regions\\\":\\\"FSU\\\",\\\"income\\\":\\\"2765.9428574422336\\\"},{\\\"time\\\":\\\"2060-01-01\\\",\\\"regions\\\":\\\"MDE\\\",\\\"income\\\":\\\"5181.367522648674\\\"},{\\\"time\\\":\\\"2060-01-01\\\",\\\"regions\\\":\\\"CAM\\\",\\\"income\\\":\\\"2508.70450382271\\\"},{\\\"time\\\":\\\"2060-01-01\\\",\\\"regions\\\":\\\"LAM\\\",\\\"income\\\":\\\"8668.436010029483\\\"},{\\\"time\\\":\\\"2060-01-01\\\",\\\"regions\\\":\\\"SAS\\\",\\\"income\\\":\\\"4593.313917876597\\\"},{\\\"time\\\":\\\"2060-01-01\\\",\\\"regions\\\":\\\"SEA\\\",\\\"income\\\":\\\"6220.7128446721845\\\"},{\\\"time\\\":\\\"2060-01-01\\\",\\\"regions\\\":\\\"CHI\\\",\\\"income\\\":\\\"10001.570501797605\\\"},{\\\"time\\\":\\\"2060-01-01\\\",\\\"regions\\\":\\\"MAF\\\",\\\"income\\\":\\\"1693.9381926307628\\\"},{\\\"time\\\":\\\"2060-01-01\\\",\\\"regions\\\":\\\"SSA\\\",\\\"income\\\":\\\"3026.998170330124\\\"},{\\\"time\\\":\\\"2060-01-01\\\",\\\"regions\\\":\\\"SIS\\\",\\\"income\\\":\\\"321.68205564893475\\\"},{\\\"time\\\":\\\"2061-01-01\\\",\\\"regions\\\":\\\"USA\\\",\\\"income\\\":\\\"23895.928214453314\\\"},{\\\"time\\\":\\\"2061-01-01\\\",\\\"regions\\\":\\\"CAN\\\",\\\"income\\\":\\\"1897.7766607730944\\\"},{\\\"time\\\":\\\"2061-01-01\\\",\\\"regions\\\":\\\"WEU\\\",\\\"income\\\":\\\"25976.698005136728\\\"},{\\\"time\\\":\\\"2061-01-01\\\",\\\"regions\\\":\\\"JPK\\\",\\\"income\\\":\\\"19498.264905935597\\\"},{\\\"time\\\":\\\"2061-01-01\\\",\\\"regions\\\":\\\"ANZ\\\",\\\"income\\\":\\\"1675.501494775007\\\"},{\\\"time\\\":\\\"2061-01-01\\\",\\\"regions\\\":\\\"EEU\\\",\\\"income\\\":\\\"2032.8486663561555\\\"},{\\\"time\\\":\\\"2061-01-01\\\",\\\"regions\\\":\\\"FSU\\\",\\\"income\\\":\\\"2815.9614395871836\\\"},{\\\"time\\\":\\\"2061-01-01\\\",\\\"regions\\\":\\\"MDE\\\",\\\"income\\\":\\\"5338.62060429801\\\"},{\\\"time\\\":\\\"2061-01-01\\\",\\\"regions\\\":\\\"CAM\\\",\\\"income\\\":\\\"2577.626591840908\\\"},{\\\"time\\\":\\\"2061-01-01\\\",\\\"regions\\\":\\\"LAM\\\",\\\"income\\\":\\\"8904.721041766521\\\"},{\\\"time\\\":\\\"2061-01-01\\\",\\\"regions\\\":\\\"SAS\\\",\\\"income\\\":\\\"4731.091730176124\\\"},{\\\"time\\\":\\\"2061-01-01\\\",\\\"regions\\\":\\\"SEA\\\",\\\"income\\\":\\\"6406.380282765084\\\"},{\\\"time\\\":\\\"2061-01-01\\\",\\\"regions\\\":\\\"CHI\\\",\\\"income\\\":\\\"10307.201870707146\\\"},{\\\"time\\\":\\\"2061-01-01\\\",\\\"regions\\\":\\\"MAF\\\",\\\"income\\\":\\\"1747.7232844200446\\\"},{\\\"time\\\":\\\"2061-01-01\\\",\\\"regions\\\":\\\"SSA\\\",\\\"income\\\":\\\"3124.2832769594183\\\"},{\\\"time\\\":\\\"2061-01-01\\\",\\\"regions\\\":\\\"SIS\\\",\\\"income\\\":\\\"330.5601837353657\\\"},{\\\"time\\\":\\\"2062-01-01\\\",\\\"regions\\\":\\\"USA\\\",\\\"income\\\":\\\"24154.330423091196\\\"},{\\\"time\\\":\\\"2062-01-01\\\",\\\"regions\\\":\\\"CAN\\\",\\\"income\\\":\\\"1918.448568756339\\\"},{\\\"time\\\":\\\"2062-01-01\\\",\\\"regions\\\":\\\"WEU\\\",\\\"income\\\":\\\"26256.52935160033\\\"},{\\\"time\\\":\\\"2062-01-01\\\",\\\"regions\\\":\\\"JPK\\\",\\\"income\\\":\\\"19742.408851498716\\\"},{\\\"time\\\":\\\"2062-01-01\\\",\\\"regions\\\":\\\"ANZ\\\",\\\"income\\\":\\\"1696.422438425492\\\"},{\\\"time\\\":\\\"2062-01-01\\\",\\\"regions\\\":\\\"EEU\\\",\\\"income\\\":\\\"2070.6939944809715\\\"},{\\\"time\\\":\\\"2062-01-01\\\",\\\"regions\\\":\\\"FSU\\\",\\\"income\\\":\\\"2866.889528397528\\\"},{\\\"time\\\":\\\"2062-01-01\\\",\\\"regions\\\":\\\"MDE\\\",\\\"income\\\":\\\"5501.09904731468\\\"},{\\\"time\\\":\\\"2062-01-01\\\",\\\"regions\\\":\\\"CAM\\\",\\\"income\\\":\\\"2648.6621707322265\\\"},{\\\"time\\\":\\\"2062-01-01\\\",\\\"regions\\\":\\\"LAM\\\",\\\"income\\\":\\\"9148.228356230447\\\"},{\\\"time\\\":\\\"2062-01-01\\\",\\\"regions\\\":\\\"SAS\\\",\\\"income\\\":\\\"4873.4042893796095\\\"},{\\\"time\\\":\\\"2062-01-01\\\",\\\"regions\\\":\\\"SEA\\\",\\\"income\\\":\\\"6598.124137835552\\\"},{\\\"time\\\":\\\"2062-01-01\\\",\\\"regions\\\":\\\"CHI\\\",\\\"income\\\":\\\"10621.816794776858\\\"},{\\\"time\\\":\\\"2062-01-01\\\",\\\"regions\\\":\\\"MAF\\\",\\\"income\\\":\\\"1803.3481930442651\\\"},{\\\"time\\\":\\\"2062-01-01\\\",\\\"regions\\\":\\\"SSA\\\",\\\"income\\\":\\\"3224.9574096635947\\\"},{\\\"time\\\":\\\"2062-01-01\\\",\\\"regions\\\":\\\"SIS\\\",\\\"income\\\":\\\"339.7124682322309\\\"},{\\\"time\\\":\\\"2063-01-01\\\",\\\"regions\\\":\\\"USA\\\",\\\"income\\\":\\\"24415.229581290187\\\"},{\\\"time\\\":\\\"2063-01-01\\\",\\\"regions\\\":\\\"CAN\\\",\\\"income\\\":\\\"1939.3237725067065\\\"},{\\\"time\\\":\\\"2063-01-01\\\",\\\"regions\\\":\\\"WEU\\\",\\\"income\\\":\\\"26539.01330818593\\\"},{\\\"time\\\":\\\"2063-01-01\\\",\\\"regions\\\":\\\"JPK\\\",\\\"income\\\":\\\"19989.604482676878\\\"},{\\\"time\\\":\\\"2063-01-01\\\",\\\"regions\\\":\\\"ANZ\\\",\\\"income\\\":\\\"1717.6038945798523\\\"},{\\\"time\\\":\\\"2063-01-01\\\",\\\"regions\\\":\\\"EEU\\\",\\\"income\\\":\\\"2109.2545659261896\\\"},{\\\"time\\\":\\\"2063-01-01\\\",\\\"regions\\\":\\\"FSU\\\",\\\"income\\\":\\\"2918.714513788867\\\"},{\\\"time\\\":\\\"2063-01-01\\\",\\\"regions\\\":\\\"MDE\\\",\\\"income\\\":\\\"5668.988169291804\\\"},{\\\"time\\\":\\\"2063-01-01\\\",\\\"regions\\\":\\\"CAM\\\",\\\"income\\\":\\\"2721.881051463931\\\"},{\\\"time\\\":\\\"2063-01-01\\\",\\\"regions\\\":\\\"LAM\\\",\\\"income\\\":\\\"9399.19733873795\\\"},{\\\"time\\\":\\\"2063-01-01\\\",\\\"regions\\\":\\\"SAS\\\",\\\"income\\\":\\\"5020.411081085116\\\"},{\\\"time\\\":\\\"2063-01-01\\\",\\\"regions\\\":\\\"SEA\\\",\\\"income\\\":\\\"6796.157124993894\\\"},{\\\"time\\\":\\\"2063-01-01\\\",\\\"regions\\\":\\\"CHI\\\",\\\"income\\\":\\\"10945.772307316583\\\"},{\\\"time\\\":\\\"2063-01-01\\\",\\\"regions\\\":\\\"MAF\\\",\\\"income\\\":\\\"1860.879531782352\\\"},{\\\"time\\\":\\\"2063-01-01\\\",\\\"regions\\\":\\\"SSA\\\",\\\"income\\\":\\\"3329.146179025972\\\"},{\\\"time\\\":\\\"2063-01-01\\\",\\\"regions\\\":\\\"SIS\\\",\\\"income\\\":\\\"349.14805691721944\\\"},{\\\"time\\\":\\\"2064-01-01\\\",\\\"regions\\\":\\\"USA\\\",\\\"income\\\":\\\"24678.889164319222\\\"},{\\\"time\\\":\\\"2064-01-01\\\",\\\"regions\\\":\\\"CAN\\\",\\\"income\\\":\\\"1960.4232860867573\\\"},{\\\"time\\\":\\\"2064-01-01\\\",\\\"regions\\\":\\\"WEU\\\",\\\"income\\\":\\\"26823.903198008735\\\"},{\\\"time\\\":\\\"2064-01-01\\\",\\\"regions\\\":\\\"JPK\\\",\\\"income\\\":\\\"20239.88864699147\\\"},{\\\"time\\\":\\\"2064-01-01\\\",\\\"regions\\\":\\\"ANZ\\\",\\\"income\\\":\\\"1739.0489873881063\\\"},{\\\"time\\\":\\\"2064-01-01\\\",\\\"regions\\\":\\\"EEU\\\",\\\"income\\\":\\\"2148.564959235599\\\"},{\\\"time\\\":\\\"2064-01-01\\\",\\\"regions\\\":\\\"FSU\\\",\\\"income\\\":\\\"2971.4803034698725\\\"},{\\\"time\\\":\\\"2064-01-01\\\",\\\"regions\\\":\\\"MDE\\\",\\\"income\\\":\\\"5842.423229597472\\\"},{\\\"time\\\":\\\"2064-01-01\\\",\\\"regions\\\":\\\"CAM\\\",\\\"income\\\":\\\"2797.3282015010514\\\"},{\\\"time\\\":\\\"2064-01-01\\\",\\\"regions\\\":\\\"LAM\\\",\\\"income\\\":\\\"9657.781627424592\\\"},{\\\"time\\\":\\\"2064-01-01\\\",\\\"regions\\\":\\\"SAS\\\",\\\"income\\\":\\\"5172.227049019989\\\"},{\\\"time\\\":\\\"2064-01-01\\\",\\\"regions\\\":\\\"SEA\\\",\\\"income\\\":\\\"7000.63153657506\\\"},{\\\"time\\\":\\\"2064-01-01\\\",\\\"regions\\\":\\\"CHI\\\",\\\"income\\\":\\\"11279.22567052175\\\"},{\\\"time\\\":\\\"2064-01-01\\\",\\\"regions\\\":\\\"MAF\\\",\\\"income\\\":\\\"1920.3677107456833\\\"},{\\\"time\\\":\\\"2064-01-01\\\",\\\"regions\\\":\\\"SSA\\\",\\\"income\\\":\\\"3436.9465685308237\\\"},{\\\"time\\\":\\\"2064-01-01\\\",\\\"regions\\\":\\\"SIS\\\",\\\"income\\\":\\\"358.8729211724768\\\"},{\\\"time\\\":\\\"2065-01-01\\\",\\\"regions\\\":\\\"USA\\\",\\\"income\\\":\\\"24945.089942276114\\\"},{\\\"time\\\":\\\"2065-01-01\\\",\\\"regions\\\":\\\"CAN\\\",\\\"income\\\":\\\"1981.729781149666\\\"},{\\\"time\\\":\\\"2065-01-01\\\",\\\"regions\\\":\\\"WEU\\\",\\\"income\\\":\\\"27111.477191226215\\\"},{\\\"time\\\":\\\"2065-01-01\\\",\\\"regions\\\":\\\"JPK\\\",\\\"income\\\":\\\"20493.29859993792\\\"},{\\\"time\\\":\\\"2065-01-01\\\",\\\"regions\\\":\\\"ANZ\\\",\\\"income\\\":\\\"1760.7608745306866\\\"},{\\\"time\\\":\\\"2065-01-01\\\",\\\"regions\\\":\\\"EEU\\\",\\\"income\\\":\\\"2188.618624102389\\\"},{\\\"time\\\":\\\"2065-01-01\\\",\\\"regions\\\":\\\"FSU\\\",\\\"income\\\":\\\"3025.1737657706276\\\"},{\\\"time\\\":\\\"2065-01-01\\\",\\\"regions\\\":\\\"MDE\\\",\\\"income\\\":\\\"6021.657225225777\\\"},{\\\"time\\\":\\\"2065-01-01\\\",\\\"regions\\\":\\\"CAM\\\",\\\"income\\\":\\\"2875.104199455953\\\"},{\\\"time\\\":\\\"2065-01-01\\\",\\\"regions\\\":\\\"LAM\\\",\\\"income\\\":\\\"9924.326921144417\\\"},{\\\"time\\\":\\\"2065-01-01\\\",\\\"regions\\\":\\\"SAS\\\",\\\"income\\\":\\\"5329.0711621814435\\\"},{\\\"time\\\":\\\"2065-01-01\\\",\\\"regions\\\":\\\"SEA\\\",\\\"income\\\":\\\"7211.840342798049\\\"},{\\\"time\\\":\\\"2065-01-01\\\",\\\"regions\\\":\\\"CHI\\\",\\\"income\\\":\\\"11622.554094133031\\\"},{\\\"time\\\":\\\"2065-01-01\\\",\\\"regions\\\":\\\"MAF\\\",\\\"income\\\":\\\"1981.9020460144277\\\"},{\\\"time\\\":\\\"2065-01-01\\\",\\\"regions\\\":\\\"SSA\\\",\\\"income\\\":\\\"3548.525558397359\\\"},{\\\"time\\\":\\\"2065-01-01\\\",\\\"regions\\\":\\\"SIS\\\",\\\"income\\\":\\\"368.9001772654646\\\"},{\\\"time\\\":\\\"2066-01-01\\\",\\\"regions\\\":\\\"USA\\\",\\\"income\\\":\\\"25213.851626006875\\\"},{\\\"time\\\":\\\"2066-01-01\\\",\\\"regions\\\":\\\"CAN\\\",\\\"income\\\":\\\"2003.244907855759\\\"},{\\\"time\\\":\\\"2066-01-01\\\",\\\"regions\\\":\\\"WEU\\\",\\\"income\\\":\\\"27401.75385340009\\\"},{\\\"time\\\":\\\"2066-01-01\\\",\\\"regions\\\":\\\"JPK\\\",\\\"income\\\":\\\"20749.872012088486\\\"},{\\\"time\\\":\\\"2066-01-01\\\",\\\"regions\\\":\\\"ANZ\\\",\\\"income\\\":\\\"1782.7427484429347\\\"},{\\\"time\\\":\\\"2066-01-01\\\",\\\"regions\\\":\\\"EEU\\\",\\\"income\\\":\\\"2229.45146386907\\\"},{\\\"time\\\":\\\"2066-01-01\\\",\\\"regions\\\":\\\"FSU\\\",\\\"income\\\":\\\"3079.8403510877974\\\"},{\\\"time\\\":\\\"2066-01-01\\\",\\\"regions\\\":\\\"MDE\\\",\\\"income\\\":\\\"6206.8969651083\\\"},{\\\"time\\\":\\\"2066-01-01\\\",\\\"regions\\\":\\\"CAM\\\",\\\"income\\\":\\\"2955.286410946427\\\"},{\\\"time\\\":\\\"2066-01-01\\\",\\\"regions\\\":\\\"LAM\\\",\\\"income\\\":\\\"10199.098777258623\\\"},{\\\"time\\\":\\\"2066-01-01\\\",\\\"regions\\\":\\\"SAS\\\",\\\"income\\\":\\\"5491.121226808348\\\"},{\\\"time\\\":\\\"2066-01-01\\\",\\\"regions\\\":\\\"SEA\\\",\\\"income\\\":\\\"7430.020636596866\\\"},{\\\"time\\\":\\\"2066-01-01\\\",\\\"regions\\\":\\\"CHI\\\",\\\"income\\\":\\\"11975.922591704142\\\"},{\\\"time\\\":\\\"2066-01-01\\\",\\\"regions\\\":\\\"MAF\\\",\\\"income\\\":\\\"2045.556999216677\\\"},{\\\"time\\\":\\\"2066-01-01\\\",\\\"regions\\\":\\\"SSA\\\",\\\"income\\\":\\\"3664.0239777645957\\\"},{\\\"time\\\":\\\"2066-01-01\\\",\\\"regions\\\":\\\"SIS\\\",\\\"income\\\":\\\"379.23997625410675\\\"},{\\\"time\\\":\\\"2067-01-01\\\",\\\"regions\\\":\\\"USA\\\",\\\"income\\\":\\\"25485.194013221182\\\"},{\\\"time\\\":\\\"2067-01-01\\\",\\\"regions\\\":\\\"CAN\\\",\\\"income\\\":\\\"2024.970323151994\\\"},{\\\"time\\\":\\\"2067-01-01\\\",\\\"regions\\\":\\\"WEU\\\",\\\"income\\\":\\\"27694.751749989606\\\"},{\\\"time\\\":\\\"2067-01-01\\\",\\\"regions\\\":\\\"JPK\\\",\\\"income\\\":\\\"21009.646965295065\\\"},{\\\"time\\\":\\\"2067-01-01\\\",\\\"regions\\\":\\\"ANZ\\\",\\\"income\\\":\\\"1804.997835384345\\\"},{\\\"time\\\":\\\"2067-01-01\\\",\\\"regions\\\":\\\"EEU\\\",\\\"income\\\":\\\"2271.078989351028\\\"},{\\\"time\\\":\\\"2067-01-01\\\",\\\"regions\\\":\\\"FSU\\\",\\\"income\\\":\\\"3135.497147748738\\\"},{\\\"time\\\":\\\"2067-01-01\\\",\\\"regions\\\":\\\"MDE\\\",\\\"income\\\":\\\"6398.357045061841\\\"},{\\\"time\\\":\\\"2067-01-01\\\",\\\"regions\\\":\\\"CAM\\\",\\\"income\\\":\\\"3037.954927543674\\\"},{\\\"time\\\":\\\"2067-01-01\\\",\\\"regions\\\":\\\"LAM\\\",\\\"income\\\":\\\"10482.372210352856\\\"},{\\\"time\\\":\\\"2067-01-01\\\",\\\"regions\\\":\\\"SAS\\\",\\\"income\\\":\\\"5658.561678347528\\\"},{\\\"time\\\":\\\"2067-01-01\\\",\\\"regions\\\":\\\"SEA\\\",\\\"income\\\":\\\"7655.418330816907\\\"},{\\\"time\\\":\\\"2067-01-01\\\",\\\"regions\\\":\\\"CHI\\\",\\\"income\\\":\\\"12339.60967221167\\\"},{\\\"time\\\":\\\"2067-01-01\\\",\\\"regions\\\":\\\"MAF\\\",\\\"income\\\":\\\"2111.4098722406916\\\"},{\\\"time\\\":\\\"2067-01-01\\\",\\\"regions\\\":\\\"SSA\\\",\\\"income\\\":\\\"3783.588179618556\\\"},{\\\"time\\\":\\\"2067-01-01\\\",\\\"regions\\\":\\\"SIS\\\",\\\"income\\\":\\\"389.9028314859565\\\"},{\\\"time\\\":\\\"2068-01-01\\\",\\\"regions\\\":\\\"USA\\\",\\\"income\\\":\\\"25759.13698732926\\\"},{\\\"time\\\":\\\"2068-01-01\\\",\\\"regions\\\":\\\"CAN\\\",\\\"income\\\":\\\"2046.9076908985294\\\"},{\\\"time\\\":\\\"2068-01-01\\\",\\\"regions\\\":\\\"WEU\\\",\\\"income\\\":\\\"27990.489448316355\\\"},{\\\"time\\\":\\\"2068-01-01\\\",\\\"regions\\\":\\\"JPK\\\",\\\"income\\\":\\\"21272.66195658044\\\"},{\\\"time\\\":\\\"2068-01-01\\\",\\\"regions\\\":\\\"ANZ\\\",\\\"income\\\":\\\"1827.5293960350837\\\"},{\\\"time\\\":\\\"2068-01-01\\\",\\\"regions\\\":\\\"EEU\\\",\\\"income\\\":\\\"2313.494323179215\\\"},{\\\"time\\\":\\\"2068-01-01\\\",\\\"regions\\\":\\\"FSU\\\",\\\"income\\\":\\\"3192.1302047161375\\\"},{\\\"time\\\":\\\"2068-01-01\\\",\\\"regions\\\":\\\"MDE\\\",\\\"income\\\":\\\"6596.260155194829\\\"},{\\\"time\\\":\\\"2068-01-01\\\",\\\"regions\\\":\\\"CAM\\\",\\\"income\\\":\\\"3123.192668246315\\\"},{\\\"time\\\":\\\"2068-01-01\\\",\\\"regions\\\":\\\"LAM\\\",\\\"income\\\":\\\"10774.432049333574\\\"},{\\\"time\\\":\\\"2068-01-01\\\",\\\"regions\\\":\\\"SAS\\\",\\\"income\\\":\\\"5831.583841995354\\\"},{\\\"time\\\":\\\"2068-01-01\\\",\\\"regions\\\":\\\"SEA\\\",\\\"income\\\":\\\"7888.288504062846\\\"},{\\\"time\\\":\\\"2068-01-01\\\",\\\"regions\\\":\\\"CHI\\\",\\\"income\\\":\\\"12714.024685951954\\\"},{\\\"time\\\":\\\"2068-01-01\\\",\\\"regions\\\":\\\"MAF\\\",\\\"income\\\":\\\"2179.5409204294874\\\"},{\\\"time\\\":\\\"2068-01-01\\\",\\\"regions\\\":\\\"SSA\\\",\\\"income\\\":\\\"3907.3702684113464\\\"},{\\\"time\\\":\\\"2068-01-01\\\",\\\"regions\\\":\\\"SIS\\\",\\\"income\\\":\\\"400.89963236989496\\\"},{\\\"time\\\":\\\"2069-01-01\\\",\\\"regions\\\":\\\"USA\\\",\\\"income\\\":\\\"26035.957977007405\\\"},{\\\"time\\\":\\\"2069-01-01\\\",\\\"regions\\\":\\\"CAN\\\",\\\"income\\\":\\\"2069.079142172879\\\"},{\\\"time\\\":\\\"2069-01-01\\\",\\\"regions\\\":\\\"WEU\\\",\\\"income\\\":\\\"28288.70575499353\\\"},{\\\"time\\\":\\\"2069-01-01\\\",\\\"regions\\\":\\\"JPK\\\",\\\"income\\\":\\\"21538.95590144237\\\"},{\\\"time\\\":\\\"2069-01-01\\\",\\\"regions\\\":\\\"ANZ\\\",\\\"income\\\":\\\"1850.3407257507502\\\"},{\\\"time\\\":\\\"2069-01-01\\\",\\\"regions\\\":\\\"EEU\\\",\\\"income\\\":\\\"2356.735457930582\\\"},{\\\"time\\\":\\\"2069-01-01\\\",\\\"regions\\\":\\\"FSU\\\",\\\"income\\\":\\\"3249.7873658526055\\\"},{\\\"time\\\":\\\"2069-01-01\\\",\\\"regions\\\":\\\"MDE\\\",\\\"income\\\":\\\"6800.77107522265\\\"},{\\\"time\\\":\\\"2069-01-01\\\",\\\"regions\\\":\\\"CAM\\\",\\\"income\\\":\\\"3211.0541686426045\\\"},{\\\"time\\\":\\\"2069-01-01\\\",\\\"regions\\\":\\\"LAM\\\",\\\"income\\\":\\\"11075.46529422956\\\"},{\\\"time\\\":\\\"2069-01-01\\\",\\\"regions\\\":\\\"SAS\\\",\\\"income\\\":\\\"6010.327586389659\\\"},{\\\"time\\\":\\\"2069-01-01\\\",\\\"regions\\\":\\\"SEA\\\",\\\"income\\\":\\\"8128.816482633268\\\"},{\\\"time\\\":\\\"2069-01-01\\\",\\\"regions\\\":\\\"CHI\\\",\\\"income\\\":\\\"13099.34465783512\\\"},{\\\"time\\\":\\\"2069-01-01\\\",\\\"regions\\\":\\\"MAF\\\",\\\"income\\\":\\\"2250.011526892543\\\"},{\\\"time\\\":\\\"2069-01-01\\\",\\\"regions\\\":\\\"SSA\\\",\\\"income\\\":\\\"4035.488980287995\\\"},{\\\"time\\\":\\\"2069-01-01\\\",\\\"regions\\\":\\\"SIS\\\",\\\"income\\\":\\\"412.23763820488455\\\"},{\\\"time\\\":\\\"2070-01-01\\\",\\\"regions\\\":\\\"USA\\\",\\\"income\\\":\\\"26315.425101469435\\\"},{\\\"time\\\":\\\"2070-01-01\\\",\\\"regions\\\":\\\"CAN\\\",\\\"income\\\":\\\"2091.466335920713\\\"},{\\\"time\\\":\\\"2070-01-01\\\",\\\"regions\\\":\\\"WEU\\\",\\\"income\\\":\\\"28589.693031285333\\\"},{\\\"time\\\":\\\"2070-01-01\\\",\\\"regions\\\":\\\"JPK\\\",\\\"income\\\":\\\"21808.568137521474\\\"},{\\\"time\\\":\\\"2070-01-01\\\",\\\"regions\\\":\\\"ANZ\\\",\\\"income\\\":\\\"1873.435154524707\\\"},{\\\"time\\\":\\\"2070-01-01\\\",\\\"regions\\\":\\\"EEU\\\",\\\"income\\\":\\\"2400.7952778845047\\\"},{\\\"time\\\":\\\"2070-01-01\\\",\\\"regions\\\":\\\"FSU\\\",\\\"income\\\":\\\"3308.454084252539\\\"},{\\\"time\\\":\\\"2070-01-01\\\",\\\"regions\\\":\\\"MDE\\\",\\\"income\\\":\\\"7012.1918708076355\\\"},{\\\"time\\\":\\\"2070-01-01\\\",\\\"regions\\\":\\\"CAM\\\",\\\"income\\\":\\\"3301.657874261919\\\"},{\\\"time\\\":\\\"2070-01-01\\\",\\\"regions\\\":\\\"LAM\\\",\\\"income\\\":\\\"11385.879494987686\\\"},{\\\"time\\\":\\\"2070-01-01\\\",\\\"regions\\\":\\\"SAS\\\",\\\"income\\\":\\\"6195.053854278961\\\"},{\\\"time\\\":\\\"2070-01-01\\\",\\\"regions\\\":\\\"SEA\\\",\\\"income\\\":\\\"8377.351201350237\\\"},{\\\"time\\\":\\\"2070-01-01\\\",\\\"regions\\\":\\\"CHI\\\",\\\"income\\\":\\\"13496.001867166087\\\"},{\\\"time\\\":\\\"2070-01-01\\\",\\\"regions\\\":\\\"MAF\\\",\\\"income\\\":\\\"2322.928731891966\\\"},{\\\"time\\\":\\\"2070-01-01\\\",\\\"regions\\\":\\\"SSA\\\",\\\"income\\\":\\\"4168.145411081749\\\"},{\\\"time\\\":\\\"2070-01-01\\\",\\\"regions\\\":\\\"SIS\\\",\\\"income\\\":\\\"423.932326450616\\\"},{\\\"time\\\":\\\"2071-01-01\\\",\\\"regions\\\":\\\"USA\\\",\\\"income\\\":\\\"26597.558586125568\\\"},{\\\"time\\\":\\\"2071-01-01\\\",\\\"regions\\\":\\\"CAN\\\",\\\"income\\\":\\\"2114.070963348732\\\"},{\\\"time\\\":\\\"2071-01-01\\\",\\\"regions\\\":\\\"WEU\\\",\\\"income\\\":\\\"28893.46978152145\\\"},{\\\"time\\\":\\\"2071-01-01\\\",\\\"regions\\\":\\\"JPK\\\",\\\"income\\\":\\\"22081.538435883584\\\"},{\\\"time\\\":\\\"2071-01-01\\\",\\\"regions\\\":\\\"ANZ\\\",\\\"income\\\":\\\"1896.8160485163642\\\"},{\\\"time\\\":\\\"2071-01-01\\\",\\\"regions\\\":\\\"EEU\\\",\\\"income\\\":\\\"2445.713231266138\\\"},{\\\"time\\\":\\\"2071-01-01\\\",\\\"regions\\\":\\\"FSU\\\",\\\"income\\\":\\\"3368.179868268852\\\"},{\\\"time\\\":\\\"2071-01-01\\\",\\\"regions\\\":\\\"MDE\\\",\\\"income\\\":\\\"7230.771284337814\\\"},{\\\"time\\\":\\\"2071-01-01\\\",\\\"regions\\\":\\\"CAM\\\",\\\"income\\\":\\\"3395.0957545620035\\\"},{\\\"time\\\":\\\"2071-01-01\\\",\\\"regions\\\":\\\"LAM\\\",\\\"income\\\":\\\"11705.990928383657\\\"},{\\\"time\\\":\\\"2071-01-01\\\",\\\"regions\\\":\\\"SAS\\\",\\\"income\\\":\\\"6385.976130894801\\\"},{\\\"time\\\":\\\"2071-01-01\\\",\\\"regions\\\":\\\"SEA\\\",\\\"income\\\":\\\"8634.177218820058\\\"},{\\\"time\\\":\\\"2071-01-01\\\",\\\"regions\\\":\\\"CHI\\\",\\\"income\\\":\\\"13904.18190813038\\\"},{\\\"time\\\":\\\"2071-01-01\\\",\\\"regions\\\":\\\"MAF\\\",\\\"income\\\":\\\"2398.3823112974083\\\"},{\\\"time\\\":\\\"2071-01-01\\\",\\\"regions\\\":\\\"SSA\\\",\\\"income\\\":\\\"4305.510249223659\\\"},{\\\"time\\\":\\\"2071-01-01\\\",\\\"regions\\\":\\\"SIS\\\",\\\"income\\\":\\\"435.9957918174128\\\"},{\\\"time\\\":\\\"2072-01-01\\\",\\\"regions\\\":\\\"USA\\\",\\\"income\\\":\\\"26883.723551833336\\\"},{\\\"time\\\":\\\"2072-01-01\\\",\\\"regions\\\":\\\"CAN\\\",\\\"income\\\":\\\"2137.0016213708323\\\"},{\\\"time\\\":\\\"2072-01-01\\\",\\\"regions\\\":\\\"WEU\\\",\\\"income\\\":\\\"29201.515275127764\\\"},{\\\"time\\\":\\\"2072-01-01\\\",\\\"regions\\\":\\\"JPK\\\",\\\"income\\\":\\\"22356.790231911502\\\"},{\\\"time\\\":\\\"2072-01-01\\\",\\\"regions\\\":\\\"ANZ\\\",\\\"income\\\":\\\"1920.3908816939643\\\"},{\\\"time\\\":\\\"2072-01-01\\\",\\\"regions\\\":\\\"EEU\\\",\\\"income\\\":\\\"2491.6310449943107\\\"},{\\\"time\\\":\\\"2072-01-01\\\",\\\"regions\\\":\\\"FSU\\\",\\\"income\\\":\\\"3429.1547613097177\\\"},{\\\"time\\\":\\\"2072-01-01\\\",\\\"regions\\\":\\\"MDE\\\",\\\"income\\\":\\\"7454.912596197069\\\"},{\\\"time\\\":\\\"2072-01-01\\\",\\\"regions\\\":\\\"CAM\\\",\\\"income\\\":\\\"3490.7665036909693\\\"},{\\\"time\\\":\\\"2072-01-01\\\",\\\"regions\\\":\\\"LAM\\\",\\\"income\\\":\\\"12033.726032456212\\\"},{\\\"time\\\":\\\"2072-01-01\\\",\\\"regions\\\":\\\"SAS\\\",\\\"income\\\":\\\"6581.678302069443\\\"},{\\\"time\\\":\\\"2072-01-01\\\",\\\"regions\\\":\\\"SEA\\\",\\\"income\\\":\\\"8897.375967758331\\\"},{\\\"time\\\":\\\"2072-01-01\\\",\\\"regions\\\":\\\"CHI\\\",\\\"income\\\":\\\"14323.486554472369\\\"},{\\\"time\\\":\\\"2072-01-01\\\",\\\"regions\\\":\\\"MAF\\\",\\\"income\\\":\\\"2475.850999676417\\\"},{\\\"time\\\":\\\"2072-01-01\\\",\\\"regions\\\":\\\"SSA\\\",\\\"income\\\":\\\"4446.657285074553\\\"},{\\\"time\\\":\\\"2072-01-01\\\",\\\"regions\\\":\\\"SIS\\\",\\\"income\\\":\\\"448.35110088047867\\\"},{\\\"time\\\":\\\"2073-01-01\\\",\\\"regions\\\":\\\"USA\\\",\\\"income\\\":\\\"27173.98367967765\\\"},{\\\"time\\\":\\\"2073-01-01\\\",\\\"regions\\\":\\\"CAN\\\",\\\"income\\\":\\\"2160.2634771529465\\\"},{\\\"time\\\":\\\"2073-01-01\\\",\\\"regions\\\":\\\"WEU\\\",\\\"income\\\":\\\"29513.89462307904\\\"},{\\\"time\\\":\\\"2073-01-01\\\",\\\"regions\\\":\\\"JPK\\\",\\\"income\\\":\\\"22634.322352337593\\\"},{\\\"time\\\":\\\"2073-01-01\\\",\\\"regions\\\":\\\"ANZ\\\",\\\"income\\\":\\\"1944.1595023321424\\\"},{\\\"time\\\":\\\"2073-01-01\\\",\\\"regions\\\":\\\"EEU\\\",\\\"income\\\":\\\"2538.5482742388294\\\"},{\\\"time\\\":\\\"2073-01-01\\\",\\\"regions\\\":\\\"FSU\\\",\\\"income\\\":\\\"3491.3726738222254\\\"},{\\\"time\\\":\\\"2073-01-01\\\",\\\"regions\\\":\\\"MDE\\\",\\\"income\\\":\\\"7684.710375005901\\\"},{\\\"time\\\":\\\"2073-01-01\\\",\\\"regions\\\":\\\"CAM\\\",\\\"income\\\":\\\"3588.7095362842524\\\"},{\\\"time\\\":\\\"2073-01-01\\\",\\\"regions\\\":\\\"LAM\\\",\\\"income\\\":\\\"12369.221386823536\\\"},{\\\"time\\\":\\\"2073-01-01\\\",\\\"regions\\\":\\\"SAS\\\",\\\"income\\\":\\\"6782.238734923104\\\"},{\\\"time\\\":\\\"2073-01-01\\\",\\\"regions\\\":\\\"SEA\\\",\\\"income\\\":\\\"9167.050118393592\\\"},{\\\"time\\\":\\\"2073-01-01\\\",\\\"regions\\\":\\\"CHI\\\",\\\"income\\\":\\\"14754.320072277604\\\"},{\\\"time\\\":\\\"2073-01-01\\\",\\\"regions\\\":\\\"MAF\\\",\\\"income\\\":\\\"2555.371755991969\\\"},{\\\"time\\\":\\\"2073-01-01\\\",\\\"regions\\\":\\\"SSA\\\",\\\"income\\\":\\\"4591.66181839684\\\"},{\\\"time\\\":\\\"2073-01-01\\\",\\\"regions\\\":\\\"SIS\\\",\\\"income\\\":\\\"461.0035820449464\\\"},{\\\"time\\\":\\\"2074-01-01\\\",\\\"regions\\\":\\\"USA\\\",\\\"income\\\":\\\"27468.675455876328\\\"},{\\\"time\\\":\\\"2074-01-01\\\",\\\"regions\\\":\\\"CAN\\\",\\\"income\\\":\\\"2183.8833938071452\\\"},{\\\"time\\\":\\\"2074-01-01\\\",\\\"regions\\\":\\\"WEU\\\",\\\"income\\\":\\\"29830.379046008555\\\"},{\\\"time\\\":\\\"2074-01-01\\\",\\\"regions\\\":\\\"JPK\\\",\\\"income\\\":\\\"22914.133213192294\\\"},{\\\"time\\\":\\\"2074-01-01\\\",\\\"regions\\\":\\\"ANZ\\\",\\\"income\\\":\\\"1968.1217308181906\\\"},{\\\"time\\\":\\\"2074-01-01\\\",\\\"regions\\\":\\\"EEU\\\",\\\"income\\\":\\\"2586.513992003466\\\"},{\\\"time\\\":\\\"2074-01-01\\\",\\\"regions\\\":\\\"FSU\\\",\\\"income\\\":\\\"3554.8954593310555\\\"},{\\\"time\\\":\\\"2074-01-01\\\",\\\"regions\\\":\\\"MDE\\\",\\\"income\\\":\\\"7920.181914351605\\\"},{\\\"time\\\":\\\"2074-01-01\\\",\\\"regions\\\":\\\"CAM\\\",\\\"income\\\":\\\"3688.928572973773\\\"},{\\\"time\\\":\\\"2074-01-01\\\",\\\"regions\\\":\\\"LAM\\\",\\\"income\\\":\\\"12712.490771089591\\\"},{\\\"time\\\":\\\"2074-01-01\\\",\\\"regions\\\":\\\"SAS\\\",\\\"income\\\":\\\"6987.667582344156\\\"},{\\\"time\\\":\\\"2074-01-01\\\",\\\"regions\\\":\\\"SEA\\\",\\\"income\\\":\\\"9443.210075065588\\\"},{\\\"time\\\":\\\"2074-01-01\\\",\\\"regions\\\":\\\"CHI\\\",\\\"income\\\":\\\"15196.813196862819\\\"},{\\\"time\\\":\\\"2074-01-01\\\",\\\"regions\\\":\\\"MAF\\\",\\\"income\\\":\\\"2636.9559125195447\\\"},{\\\"time\\\":\\\"2074-01-01\\\",\\\"regions\\\":\\\"SSA\\\",\\\"income\\\":\\\"4740.553449959254\\\"},{\\\"time\\\":\\\"2074-01-01\\\",\\\"regions\\\":\\\"SIS\\\",\\\"income\\\":\\\"473.95399202433913\\\"},{\\\"time\\\":\\\"2075-01-01\\\",\\\"regions\\\":\\\"USA\\\",\\\"income\\\":\\\"27767.599145301174\\\"},{\\\"time\\\":\\\"2075-01-01\\\",\\\"regions\\\":\\\"CAN\\\",\\\"income\\\":\\\"2207.845606902515\\\"},{\\\"time\\\":\\\"2075-01-01\\\",\\\"regions\\\":\\\"WEU\\\",\\\"income\\\":\\\"30151.324558814405\\\"},{\\\"time\\\":\\\"2075-01-01\\\",\\\"regions\\\":\\\"JPK\\\",\\\"income\\\":\\\"23196.22079772709\\\"},{\\\"time\\\":\\\"2075-01-01\\\",\\\"regions\\\":\\\"ANZ\\\",\\\"income\\\":\\\"1992.2773493196314\\\"},{\\\"time\\\":\\\"2075-01-01\\\",\\\"regions\\\":\\\"EEU\\\",\\\"income\\\":\\\"2635.5280817014577\\\"},{\\\"time\\\":\\\"2075-01-01\\\",\\\"regions\\\":\\\"FSU\\\",\\\"income\\\":\\\"3619.717112764266\\\"},{\\\"time\\\":\\\"2075-01-01\\\",\\\"regions\\\":\\\"MDE\\\",\\\"income\\\":\\\"8161.494086364626\\\"},{\\\"time\\\":\\\"2075-01-01\\\",\\\"regions\\\":\\\"CAM\\\",\\\"income\\\":\\\"3791.497494705539\\\"},{\\\"time\\\":\\\"2075-01-01\\\",\\\"regions\\\":\\\"LAM\\\",\\\"income\\\":\\\"13063.789999919522\\\"},{\\\"time\\\":\\\"2075-01-01\\\",\\\"regions\\\":\\\"SAS\\\",\\\"income\\\":\\\"7198.106876555145\\\"},{\\\"time\\\":\\\"2075-01-01\\\",\\\"regions\\\":\\\"SEA\\\",\\\"income\\\":\\\"9726.044453994173\\\"},{\\\"time\\\":\\\"2075-01-01\\\",\\\"regions\\\":\\\"CHI\\\",\\\"income\\\":\\\"15651.388870963081\\\"},{\\\"time\\\":\\\"2075-01-01\\\",\\\"regions\\\":\\\"MAF\\\",\\\"income\\\":\\\"2720.6646131913435\\\"},{\\\"time\\\":\\\"2075-01-01\\\",\\\"regions\\\":\\\"SSA\\\",\\\"income\\\":\\\"4893.451630903737\\\"},{\\\"time\\\":\\\"2075-01-01\\\",\\\"regions\\\":\\\"SIS\\\",\\\"income\\\":\\\"487.212111038622\\\"},{\\\"time\\\":\\\"2076-01-01\\\",\\\"regions\\\":\\\"USA\\\",\\\"income\\\":\\\"28070.822032877426\\\"},{\\\"time\\\":\\\"2076-01-01\\\",\\\"regions\\\":\\\"CAN\\\",\\\"income\\\":\\\"2232.1555801108343\\\"},{\\\"time\\\":\\\"2076-01-01\\\",\\\"regions\\\":\\\"WEU\\\",\\\"income\\\":\\\"30476.79951326747\\\"},{\\\"time\\\":\\\"2076-01-01\\\",\\\"regions\\\":\\\"JPK\\\",\\\"income\\\":\\\"23480.58265271994\\\"},{\\\"time\\\":\\\"2076-01-01\\\",\\\"regions\\\":\\\"ANZ\\\",\\\"income\\\":\\\"2016.6261021302037\\\"},{\\\"time\\\":\\\"2076-01-01\\\",\\\"regions\\\":\\\"EEU\\\",\\\"income\\\":\\\"2685.6418408372406\\\"},{\\\"time\\\":\\\"2076-01-01\\\",\\\"regions\\\":\\\"FSU\\\",\\\"income\\\":\\\"3685.9020729535005\\\"},{\\\"time\\\":\\\"2076-01-01\\\",\\\"regions\\\":\\\"MDE\\\",\\\"income\\\":\\\"8408.740852133491\\\"},{\\\"time\\\":\\\"2076-01-01\\\",\\\"regions\\\":\\\"CAM\\\",\\\"income\\\":\\\"3896.456368745462\\\"},{\\\"time\\\":\\\"2076-01-01\\\",\\\"regions\\\":\\\"LAM\\\",\\\"income\\\":\\\"13423.258553303345\\\"},{\\\"time\\\":\\\"2076-01-01\\\",\\\"regions\\\":\\\"SAS\\\",\\\"income\\\":\\\"7413.634158517324\\\"},{\\\"time\\\":\\\"2076-01-01\\\",\\\"regions\\\":\\\"SEA\\\",\\\"income\\\":\\\"10015.654654635799\\\"},{\\\"time\\\":\\\"2076-01-01\\\",\\\"regions\\\":\\\"CHI\\\",\\\"income\\\":\\\"16118.179626470837\\\"},{\\\"time\\\":\\\"2076-01-01\\\",\\\"regions\\\":\\\"MAF\\\",\\\"income\\\":\\\"2806.53487556661\\\"},{\\\"time\\\":\\\"2076-01-01\\\",\\\"regions\\\":\\\"SSA\\\",\\\"income\\\":\\\"5050.432829731157\\\"},{\\\"time\\\":\\\"2076-01-01\\\",\\\"regions\\\":\\\"SIS\\\",\\\"income\\\":\\\"500.78338727257665\\\"},{\\\"time\\\":\\\"2077-01-01\\\",\\\"regions\\\":\\\"USA\\\",\\\"income\\\":\\\"28375.04486234788\\\"},{\\\"time\\\":\\\"2077-01-01\\\",\\\"regions\\\":\\\"CAN\\\",\\\"income\\\":\\\"2256.551051258655\\\"},{\\\"time\\\":\\\"2077-01-01\\\",\\\"regions\\\":\\\"WEU\\\",\\\"income\\\":\\\"30803.52179665878\\\"},{\\\"time\\\":\\\"2077-01-01\\\",\\\"regions\\\":\\\"JPK\\\",\\\"income\\\":\\\"23764.160661747574\\\"},{\\\"time\\\":\\\"2077-01-01\\\",\\\"regions\\\":\\\"ANZ\\\",\\\"income\\\":\\\"2040.9053071418155\\\"},{\\\"time\\\":\\\"2077-01-01\\\",\\\"regions\\\":\\\"EEU\\\",\\\"income\\\":\\\"2735.8352061292426\\\"},{\\\"time\\\":\\\"2077-01-01\\\",\\\"regions\\\":\\\"FSU\\\",\\\"income\\\":\\\"3752.045140856351\\\"},{\\\"time\\\":\\\"2077-01-01\\\",\\\"regions\\\":\\\"MDE\\\",\\\"income\\\":\\\"8659.230084708426\\\"},{\\\"time\\\":\\\"2077-01-01\\\",\\\"regions\\\":\\\"CAM\\\",\\\"income\\\":\\\"4002.5577894559397\\\"},{\\\"time\\\":\\\"2077-01-01\\\",\\\"regions\\\":\\\"LAM\\\",\\\"income\\\":\\\"13786.601522683164\\\"},{\\\"time\\\":\\\"2077-01-01\\\",\\\"regions\\\":\\\"SAS\\\",\\\"income\\\":\\\"7631.871296610152\\\"},{\\\"time\\\":\\\"2077-01-01\\\",\\\"regions\\\":\\\"SEA\\\",\\\"income\\\":\\\"10308.825018118912\\\"},{\\\"time\\\":\\\"2077-01-01\\\",\\\"regions\\\":\\\"CHI\\\",\\\"income\\\":\\\"16592.30226344771\\\"},{\\\"time\\\":\\\"2077-01-01\\\",\\\"regions\\\":\\\"MAF\\\",\\\"income\\\":\\\"2893.6727585740114\\\"},{\\\"time\\\":\\\"2077-01-01\\\",\\\"regions\\\":\\\"SSA\\\",\\\"income\\\":\\\"5209.897739368179\\\"},{\\\"time\\\":\\\"2077-01-01\\\",\\\"regions\\\":\\\"SIS\\\",\\\"income\\\":\\\"514.5077822497857\\\"},{\\\"time\\\":\\\"2078-01-01\\\",\\\"regions\\\":\\\"USA\\\",\\\"income\\\":\\\"28680.226901150418\\\"},{\\\"time\\\":\\\"2078-01-01\\\",\\\"regions\\\":\\\"CAN\\\",\\\"income\\\":\\\"2281.0288293458766\\\"},{\\\"time\\\":\\\"2078-01-01\\\",\\\"regions\\\":\\\"WEU\\\",\\\"income\\\":\\\"31131.1454316217\\\"},{\\\"time\\\":\\\"2078-01-01\\\",\\\"regions\\\":\\\"JPK\\\",\\\"income\\\":\\\"24046.84101217805\\\"},{\\\"time\\\":\\\"2078-01-01\\\",\\\"regions\\\":\\\"ANZ\\\",\\\"income\\\":\\\"2065.1051649811766\\\"},{\\\"time\\\":\\\"2078-01-01\\\",\\\"regions\\\":\\\"EEU\\\",\\\"income\\\":\\\"2786.0767343544135\\\"},{\\\"time\\\":\\\"2078-01-01\\\",\\\"regions\\\":\\\"FSU\\\",\\\"income\\\":\\\"3818.0998607661263\\\"},{\\\"time\\\":\\\"2078-01-01\\\",\\\"regions\\\":\\\"MDE\\\",\\\"income\\\":\\\"8912.807455397084\\\"},{\\\"time\\\":\\\"2078-01-01\\\",\\\"regions\\\":\\\"CAM\\\",\\\"income\\\":\\\"4109.737351727517\\\"},{\\\"time\\\":\\\"2078-01-01\\\",\\\"regions\\\":\\\"LAM\\\",\\\"income\\\":\\\"14153.600937216019\\\"},{\\\"time\\\":\\\"2078-01-01\\\",\\\"regions\\\":\\\"SAS\\\",\\\"income\\\":\\\"7852.679080481369\\\"},{\\\"time\\\":\\\"2078-01-01\\\",\\\"regions\\\":\\\"SEA\\\",\\\"income\\\":\\\"10605.36568495877\\\"},{\\\"time\\\":\\\"2078-01-01\\\",\\\"regions\\\":\\\"CHI\\\",\\\"income\\\":\\\"17073.587423251094\\\"},{\\\"time\\\":\\\"2078-01-01\\\",\\\"regions\\\":\\\"MAF\\\",\\\"income\\\":\\\"2982.028729836281\\\"},{\\\"time\\\":\\\"2078-01-01\\\",\\\"regions\\\":\\\"SSA\\\",\\\"income\\\":\\\"5371.765149226654\\\"},{\\\"time\\\":\\\"2078-01-01\\\",\\\"regions\\\":\\\"SIS\\\",\\\"income\\\":\\\"528.3772530922664\\\"},{\\\"time\\\":\\\"2079-01-01\\\",\\\"regions\\\":\\\"USA\\\",\\\"income\\\":\\\"28986.613522460233\\\"},{\\\"time\\\":\\\"2079-01-01\\\",\\\"regions\\\":\\\"CAN\\\",\\\"income\\\":\\\"2305.608478810821\\\"},{\\\"time\\\":\\\"2079-01-01\\\",\\\"regions\\\":\\\"WEU\\\",\\\"income\\\":\\\"31459.933144156177\\\"},{\\\"time\\\":\\\"2079-01-01\\\",\\\"regions\\\":\\\"JPK\\\",\\\"income\\\":\\\"24328.26829092882\\\"},{\\\"time\\\":\\\"2079-01-01\\\",\\\"regions\\\":\\\"ANZ\\\",\\\"income\\\":\\\"2089.1951348105413\\\"},{\\\"time\\\":\\\"2079-01-01\\\",\\\"regions\\\":\\\"EEU\\\",\\\"income\\\":\\\"2836.306463214986\\\"},{\\\"time\\\":\\\"2079-01-01\\\",\\\"regions\\\":\\\"FSU\\\",\\\"income\\\":\\\"3883.9808289141342\\\"},{\\\"time\\\":\\\"2079-01-01\\\",\\\"regions\\\":\\\"MDE\\\",\\\"income\\\":\\\"9169.309338237392\\\"},{\\\"time\\\":\\\"2079-01-01\\\",\\\"regions\\\":\\\"CAM\\\",\\\"income\\\":\\\"4217.927418224723\\\"},{\\\"time\\\":\\\"2079-01-01\\\",\\\"regions\\\":\\\"LAM\\\",\\\"income\\\":\\\"14524.028045103214\\\"},{\\\"time\\\":\\\"2079-01-01\\\",\\\"regions\\\":\\\"SAS\\\",\\\"income\\\":\\\"8075.910312572783\\\"},{\\\"time\\\":\\\"2079-01-01\\\",\\\"regions\\\":\\\"SEA\\\",\\\"income\\\":\\\"10905.076148162028\\\"},{\\\"time\\\":\\\"2079-01-01\\\",\\\"regions\\\":\\\"CHI\\\",\\\"income\\\":\\\"17561.851907113167\\\"},{\\\"time\\\":\\\"2079-01-01\\\",\\\"regions\\\":\\\"MAF\\\",\\\"income\\\":\\\"3071.5498352766213\\\"},{\\\"time\\\":\\\"2079-01-01\\\",\\\"regions\\\":\\\"SSA\\\",\\\"income\\\":\\\"5535.947674840457\\\"},{\\\"time\\\":\\\"2079-01-01\\\",\\\"regions\\\":\\\"SIS\\\",\\\"income\\\":\\\"542.3833441455537\\\"},{\\\"time\\\":\\\"2080-01-01\\\",\\\"regions\\\":\\\"USA\\\",\\\"income\\\":\\\"29293.881978114092\\\"},{\\\"time\\\":\\\"2080-01-01\\\",\\\"regions\\\":\\\"CAN\\\",\\\"income\\\":\\\"2330.264376381726\\\"},{\\\"time\\\":\\\"2080-01-01\\\",\\\"regions\\\":\\\"WEU\\\",\\\"income\\\":\\\"31789.530878095295\\\"},{\\\"time\\\":\\\"2080-01-01\\\",\\\"regions\\\":\\\"JPK\\\",\\\"income\\\":\\\"24608.561943317476\\\"},{\\\"time\\\":\\\"2080-01-01\\\",\\\"regions\\\":\\\"ANZ\\\",\\\"income\\\":\\\"2113.1854571199274\\\"},{\\\"time\\\":\\\"2080-01-01\\\",\\\"regions\\\":\\\"EEU\\\",\\\"income\\\":\\\"2886.5185120030546\\\"},{\\\"time\\\":\\\"2080-01-01\\\",\\\"regions\\\":\\\"FSU\\\",\\\"income\\\":\\\"3949.6768745691816\\\"},{\\\"time\\\":\\\"2080-01-01\\\",\\\"regions\\\":\\\"MDE\\\",\\\"income\\\":\\\"9428.562854237574\\\"},{\\\"time\\\":\\\"2080-01-01\\\",\\\"regions\\\":\\\"CAM\\\",\\\"income\\\":\\\"4327.0571371564065\\\"},{\\\"time\\\":\\\"2080-01-01\\\",\\\"regions\\\":\\\"LAM\\\",\\\"income\\\":\\\"14897.643391713034\\\"},{\\\"time\\\":\\\"2080-01-01\\\",\\\"regions\\\":\\\"SAS\\\",\\\"income\\\":\\\"8301.409801909973\\\"},{\\\"time\\\":\\\"2080-01-01\\\",\\\"regions\\\":\\\"SEA\\\",\\\"income\\\":\\\"11207.745280543719\\\"},{\\\"time\\\":\\\"2080-01-01\\\",\\\"regions\\\":\\\"CHI\\\",\\\"income\\\":\\\"18056.898519464397\\\"},{\\\"time\\\":\\\"2080-01-01\\\",\\\"regions\\\":\\\"MAF\\\",\\\"income\\\":\\\"3162.1796890895384\\\"},{\\\"time\\\":\\\"2080-01-01\\\",\\\"regions\\\":\\\"SSA\\\",\\\"income\\\":\\\"5702.351697624051\\\"},{\\\"time\\\":\\\"2080-01-01\\\",\\\"regions\\\":\\\"SIS\\\",\\\"income\\\":\\\"556.517185474757\\\"},{\\\"time\\\":\\\"2081-01-01\\\",\\\"regions\\\":\\\"USA\\\",\\\"income\\\":\\\"29601.9894553657\\\"},{\\\"time\\\":\\\"2081-01-01\\\",\\\"regions\\\":\\\"CAN\\\",\\\"income\\\":\\\"2354.9931598746025\\\"},{\\\"time\\\":\\\"2081-01-01\\\",\\\"regions\\\":\\\"WEU\\\",\\\"income\\\":\\\"32120.206275602293\\\"},{\\\"time\\\":\\\"2081-01-01\\\",\\\"regions\\\":\\\"JPK\\\",\\\"income\\\":\\\"24887.605520001933\\\"},{\\\"time\\\":\\\"2081-01-01\\\",\\\"regions\\\":\\\"ANZ\\\",\\\"income\\\":\\\"2137.0661147166547\\\"},{\\\"time\\\":\\\"2081-01-01\\\",\\\"regions\\\":\\\"EEU\\\",\\\"income\\\":\\\"2936.679528175964\\\"},{\\\"time\\\":\\\"2081-01-01\\\",\\\"regions\\\":\\\"FSU\\\",\\\"income\\\":\\\"4015.1392617212423\\\"},{\\\"time\\\":\\\"2081-01-01\\\",\\\"regions\\\":\\\"MDE\\\",\\\"income\\\":\\\"9690.38592887663\\\"},{\\\"time\\\":\\\"2081-01-01\\\",\\\"regions\\\":\\\"CAM\\\",\\\"income\\\":\\\"4437.052471374921\\\"},{\\\"time\\\":\\\"2081-01-01\\\",\\\"regions\\\":\\\"LAM\\\",\\\"income\\\":\\\"15274.19694342777\\\"},{\\\"time\\\":\\\"2081-01-01\\\",\\\"regions\\\":\\\"SAS\\\",\\\"income\\\":\\\"8529.014417209626\\\"},{\\\"time\\\":\\\"2081-01-01\\\",\\\"regions\\\":\\\"SEA\\\",\\\"income\\\":\\\"11513.151412677342\\\"},{\\\"time\\\":\\\"2081-01-01\\\",\\\"regions\\\":\\\"CHI\\\",\\\"income\\\":\\\"18558.51586631377\\\"},{\\\"time\\\":\\\"2081-01-01\\\",\\\"regions\\\":\\\"MAF\\\",\\\"income\\\":\\\"3253.858459378435\\\"},{\\\"time\\\":\\\"2081-01-01\\\",\\\"regions\\\":\\\"SSA\\\",\\\"income\\\":\\\"5870.87733845169\\\"},{\\\"time\\\":\\\"2081-01-01\\\",\\\"regions\\\":\\\"SIS\\\",\\\"income\\\":\\\"570.7694963767535\\\"},{\\\"time\\\":\\\"2082-01-01\\\",\\\"regions\\\":\\\"USA\\\",\\\"income\\\":\\\"29909.39685258158\\\"},{\\\"time\\\":\\\"2082-01-01\\\",\\\"regions\\\":\\\"CAN\\\",\\\"income\\\":\\\"2379.6724177266374\\\"},{\\\"time\\\":\\\"2082-01-01\\\",\\\"regions\\\":\\\"WEU\\\",\\\"income\\\":\\\"32450.29543035838\\\"},{\\\"time\\\":\\\"2082-01-01\\\",\\\"regions\\\":\\\"JPK\\\",\\\"income\\\":\\\"25166.53943862288\\\"},{\\\"time\\\":\\\"2082-01-01\\\",\\\"regions\\\":\\\"ANZ\\\",\\\"income\\\":\\\"2160.935013933003\\\"},{\\\"time\\\":\\\"2082-01-01\\\",\\\"regions\\\":\\\"EEU\\\",\\\"income\\\":\\\"2986.6062250493474\\\"},{\\\"time\\\":\\\"2082-01-01\\\",\\\"regions\\\":\\\"FSU\\\",\\\"income\\\":\\\"4080.1144671709867\\\"},{\\\"time\\\":\\\"2082-01-01\\\",\\\"regions\\\":\\\"MDE\\\",\\\"income\\\":\\\"9955.580556144345\\\"},{\\\"time\\\":\\\"2082-01-01\\\",\\\"regions\\\":\\\"CAM\\\",\\\"income\\\":\\\"4548.7455028421045\\\"},{\\\"time\\\":\\\"2082-01-01\\\",\\\"regions\\\":\\\"LAM\\\",\\\"income\\\":\\\"15656.55794591052\\\"},{\\\"time\\\":\\\"2082-01-01\\\",\\\"regions\\\":\\\"SAS\\\",\\\"income\\\":\\\"8759.426991426173\\\"},{\\\"time\\\":\\\"2082-01-01\\\",\\\"regions\\\":\\\"SEA\\\",\\\"income\\\":\\\"11822.241802440318\\\"},{\\\"time\\\":\\\"2082-01-01\\\",\\\"regions\\\":\\\"CHI\\\",\\\"income\\\":\\\"19067.430817836997\\\"},{\\\"time\\\":\\\"2082-01-01\\\",\\\"regions\\\":\\\"MAF\\\",\\\"income\\\":\\\"3346.522807850191\\\"},{\\\"time\\\":\\\"2082-01-01\\\",\\\"regions\\\":\\\"SSA\\\",\\\"income\\\":\\\"6041.418401016662\\\"},{\\\"time\\\":\\\"2082-01-01\\\",\\\"regions\\\":\\\"SIS\\\",\\\"income\\\":\\\"585.2475784206663\\\"},{\\\"time\\\":\\\"2083-01-01\\\",\\\"regions\\\":\\\"USA\\\",\\\"income\\\":\\\"30216.013624708234\\\"},{\\\"time\\\":\\\"2083-01-01\\\",\\\"regions\\\":\\\"CAN\\\",\\\"income\\\":\\\"2404.29495721876\\\"},{\\\"time\\\":\\\"2083-01-01\\\",\\\"regions\\\":\\\"WEU\\\",\\\"income\\\":\\\"32779.38196119166\\\"},{\\\"time\\\":\\\"2083-01-01\\\",\\\"regions\\\":\\\"JPK\\\",\\\"income\\\":\\\"25445.28738825345\\\"},{\\\"time\\\":\\\"2083-01-01\\\",\\\"regions\\\":\\\"ANZ\\\",\\\"income\\\":\\\"2184.785577675333\\\"},{\\\"time\\\":\\\"2083-01-01\\\",\\\"regions\\\":\\\"EEU\\\",\\\"income\\\":\\\"3036.2566215482707\\\"},{\\\"time\\\":\\\"2083-01-01\\\",\\\"regions\\\":\\\"FSU\\\",\\\"income\\\":\\\"4144.542591006515\\\"},{\\\"time\\\":\\\"2083-01-01\\\",\\\"regions\\\":\\\"MDE\\\",\\\"income\\\":\\\"10224.026965271343\\\"},{\\\"time\\\":\\\"2083-01-01\\\",\\\"regions\\\":\\\"CAM\\\",\\\"income\\\":\\\"4662.123574637638\\\"},{\\\"time\\\":\\\"2083-01-01\\\",\\\"regions\\\":\\\"LAM\\\",\\\"income\\\":\\\"16044.687253579239\\\"},{\\\"time\\\":\\\"2083-01-01\\\",\\\"regions\\\":\\\"SAS\\\",\\\"income\\\":\\\"8992.538632462498\\\"},{\\\"time\\\":\\\"2083-01-01\\\",\\\"regions\\\":\\\"SEA\\\",\\\"income\\\":\\\"12134.867736559909\\\"},{\\\"time\\\":\\\"2083-01-01\\\",\\\"regions\\\":\\\"CHI\\\",\\\"income\\\":\\\"19583.480137573817\\\"},{\\\"time\\\":\\\"2083-01-01\\\",\\\"regions\\\":\\\"MAF\\\",\\\"income\\\":\\\"3440.1059596176005\\\"},{\\\"time\\\":\\\"2083-01-01\\\",\\\"regions\\\":\\\"SSA\\\",\\\"income\\\":\\\"6213.8624309025945\\\"},{\\\"time\\\":\\\"2083-01-01\\\",\\\"regions\\\":\\\"SIS\\\",\\\"income\\\":\\\"599.950121261989\\\"},{\\\"time\\\":\\\"2084-01-01\\\",\\\"regions\\\":\\\"USA\\\",\\\"income\\\":\\\"30522.05069755194\\\"},{\\\"time\\\":\\\"2084-01-01\\\",\\\"regions\\\":\\\"CAN\\\",\\\"income\\\":\\\"2428.877568321179\\\"},{\\\"time\\\":\\\"2084-01-01\\\",\\\"regions\\\":\\\"WEU\\\",\\\"income\\\":\\\"33107.691103887664\\\"},{\\\"time\\\":\\\"2084-01-01\\\",\\\"regions\\\":\\\"JPK\\\",\\\"income\\\":\\\"25723.51753971491\\\"},{\\\"time\\\":\\\"2084-01-01\\\",\\\"regions\\\":\\\"ANZ\\\",\\\"income\\\":\\\"2208.5892884611667\\\"},{\\\"time\\\":\\\"2084-01-01\\\",\\\"regions\\\":\\\"EEU\\\",\\\"income\\\":\\\"3085.557939769926\\\"},{\\\"time\\\":\\\"2084-01-01\\\",\\\"regions\\\":\\\"FSU\\\",\\\"income\\\":\\\"4208.321917721739\\\"},{\\\"time\\\":\\\"2084-01-01\\\",\\\"regions\\\":\\\"MDE\\\",\\\"income\\\":\\\"10495.598129181923\\\"},{\\\"time\\\":\\\"2084-01-01\\\",\\\"regions\\\":\\\"CAM\\\",\\\"income\\\":\\\"4777.17238998275\\\"},{\\\"time\\\":\\\"2084-01-01\\\",\\\"regions\\\":\\\"LAM\\\",\\\"income\\\":\\\"16438.540425836527\\\"},{\\\"time\\\":\\\"2084-01-01\\\",\\\"regions\\\":\\\"SAS\\\",\\\"income\\\":\\\"9228.234112222\\\"},{\\\"time\\\":\\\"2084-01-01\\\",\\\"regions\\\":\\\"SEA\\\",\\\"income\\\":\\\"12450.872112940533\\\"},{\\\"time\\\":\\\"2084-01-01\\\",\\\"regions\\\":\\\"CHI\\\",\\\"income\\\":\\\"20106.488176693678\\\"},{\\\"time\\\":\\\"2084-01-01\\\",\\\"regions\\\":\\\"MAF\\\",\\\"income\\\":\\\"3534.5377775492225\\\"},{\\\"time\\\":\\\"2084-01-01\\\",\\\"regions\\\":\\\"SSA\\\",\\\"income\\\":\\\"6388.090787222035\\\"},{\\\"time\\\":\\\"2084-01-01\\\",\\\"regions\\\":\\\"SIS\\\",\\\"income\\\":\\\"614.8756056476582\\\"},{\\\"time\\\":\\\"2085-01-01\\\",\\\"regions\\\":\\\"USA\\\",\\\"income\\\":\\\"30827.120155620247\\\"},{\\\"time\\\":\\\"2085-01-01\\\",\\\"regions\\\":\\\"CAN\\\",\\\"income\\\":\\\"2453.389385691124\\\"},{\\\"time\\\":\\\"2085-01-01\\\",\\\"regions\\\":\\\"WEU\\\",\\\"income\\\":\\\"33434.79838182072\\\"},{\\\"time\\\":\\\"2085-01-01\\\",\\\"regions\\\":\\\"JPK\\\",\\\"income\\\":\\\"26001.400951044532\\\"},{\\\"time\\\":\\\"2085-01-01\\\",\\\"regions\\\":\\\"ANZ\\\",\\\"income\\\":\\\"2232.360808373427\\\"},{\\\"time\\\":\\\"2085-01-01\\\",\\\"regions\\\":\\\"EEU\\\",\\\"income\\\":\\\"3134.4967670960386\\\"},{\\\"time\\\":\\\"2085-01-01\\\",\\\"regions\\\":\\\"FSU\\\",\\\"income\\\":\\\"4271.431965472396\\\"},{\\\"time\\\":\\\"2085-01-01\\\",\\\"regions\\\":\\\"MDE\\\",\\\"income\\\":\\\"10770.159773713127\\\"},{\\\"time\\\":\\\"2085-01-01\\\",\\\"regions\\\":\\\"CAM\\\",\\\"income\\\":\\\"4893.876007064902\\\"},{\\\"time\\\":\\\"2085-01-01\\\",\\\"regions\\\":\\\"LAM\\\",\\\"income\\\":\\\"16838.067718316084\\\"},{\\\"time\\\":\\\"2085-01-01\\\",\\\"regions\\\":\\\"SAS\\\",\\\"income\\\":\\\"9466.391926917595\\\"},{\\\"time\\\":\\\"2085-01-01\\\",\\\"regions\\\":\\\"SEA\\\",\\\"income\\\":\\\"12770.089513548452\\\"},{\\\"time\\\":\\\"2085-01-01\\\",\\\"regions\\\":\\\"CHI\\\",\\\"income\\\":\\\"20636.266797176304\\\"},{\\\"time\\\":\\\"2085-01-01\\\",\\\"regions\\\":\\\"MAF\\\",\\\"income\\\":\\\"3629.7448099558937\\\"},{\\\"time\\\":\\\"2085-01-01\\\",\\\"regions\\\":\\\"SSA\\\",\\\"income\\\":\\\"6563.978700895665\\\"},{\\\"time\\\":\\\"2085-01-01\\\",\\\"regions\\\":\\\"SIS\\\",\\\"income\\\":\\\"630.0223072902586\\\"},{\\\"time\\\":\\\"2086-01-01\\\",\\\"regions\\\":\\\"USA\\\",\\\"income\\\":\\\"31131.129539273046\\\"},{\\\"time\\\":\\\"2086-01-01\\\",\\\"regions\\\":\\\"CAN\\\",\\\"income\\\":\\\"2477.8230474450975\\\"},{\\\"time\\\":\\\"2086-01-01\\\",\\\"regions\\\":\\\"WEU\\\",\\\"income\\\":\\\"33760.93420005545\\\"},{\\\"time\\\":\\\"2086-01-01\\\",\\\"regions\\\":\\\"JPK\\\",\\\"income\\\":\\\"26278.858790750204\\\"},{\\\"time\\\":\\\"2086-01-01\\\",\\\"regions\\\":\\\"ANZ\\\",\\\"income\\\":\\\"2256.0933430969594\\\"},{\\\"time\\\":\\\"2086-01-01\\\",\\\"regions\\\":\\\"EEU\\\",\\\"income\\\":\\\"3183.0299976635215\\\"},{\\\"time\\\":\\\"2086-01-01\\\",\\\"regions\\\":\\\"FSU\\\",\\\"income\\\":\\\"4333.8119145749615\\\"},{\\\"time\\\":\\\"2086-01-01\\\",\\\"regions\\\":\\\"MDE\\\",\\\"income\\\":\\\"11047.570405753317\\\"},{\\\"time\\\":\\\"2086-01-01\\\",\\\"regions\\\":\\\"CAM\\\",\\\"income\\\":\\\"5012.216818691235\\\"},{\\\"time\\\":\\\"2086-01-01\\\",\\\"regions\\\":\\\"LAM\\\",\\\"income\\\":\\\"17243.214007203675\\\"},{\\\"time\\\":\\\"2086-01-01\\\",\\\"regions\\\":\\\"SAS\\\",\\\"income\\\":\\\"9706.884336533618\\\"},{\\\"time\\\":\\\"2086-01-01\\\",\\\"regions\\\":\\\"SEA\\\",\\\"income\\\":\\\"13092.346268783618\\\"},{\\\"time\\\":\\\"2086-01-01\\\",\\\"regions\\\":\\\"CHI\\\",\\\"income\\\":\\\"21172.615351624805\\\"},{\\\"time\\\":\\\"2086-01-01\\\",\\\"regions\\\":\\\"MAF\\\",\\\"income\\\":\\\"3725.650360105632\\\"},{\\\"time\\\":\\\"2086-01-01\\\",\\\"regions\\\":\\\"SSA\\\",\\\"income\\\":\\\"6741.395359998172\\\"},{\\\"time\\\":\\\"2086-01-01\\\",\\\"regions\\\":\\\"SIS\\\",\\\"income\\\":\\\"645.3882938464923\\\"},{\\\"time\\\":\\\"2087-01-01\\\",\\\"regions\\\":\\\"USA\\\",\\\"income\\\":\\\"31433.98583009348\\\"},{\\\"time\\\":\\\"2087-01-01\\\",\\\"regions\\\":\\\"CAN\\\",\\\"income\\\":\\\"2502.171142513609\\\"},{\\\"time\\\":\\\"2087-01-01\\\",\\\"regions\\\":\\\"WEU\\\",\\\"income\\\":\\\"34086.00375093116\\\"},{\\\"time\\\":\\\"2087-01-01\\\",\\\"regions\\\":\\\"JPK\\\",\\\"income\\\":\\\"26555.81144081677\\\"},{\\\"time\\\":\\\"2087-01-01\\\",\\\"regions\\\":\\\"ANZ\\\",\\\"income\\\":\\\"2279.7800317068095\\\"},{\\\"time\\\":\\\"2087-01-01\\\",\\\"regions\\\":\\\"EEU\\\",\\\"income\\\":\\\"3231.1142610369043\\\"},{\\\"time\\\":\\\"2087-01-01\\\",\\\"regions\\\":\\\"FSU\\\",\\\"income\\\":\\\"4395.400797627252\\\"},{\\\"time\\\":\\\"2087-01-01\\\",\\\"regions\\\":\\\"MDE\\\",\\\"income\\\":\\\"11327.681328747469\\\"},{\\\"time\\\":\\\"2087-01-01\\\",\\\"regions\\\":\\\"CAM\\\",\\\"income\\\":\\\"5132.175515726477\\\"},{\\\"time\\\":\\\"2087-01-01\\\",\\\"regions\\\":\\\"LAM\\\",\\\"income\\\":\\\"17653.918692748754\\\"},{\\\"time\\\":\\\"2087-01-01\\\",\\\"regions\\\":\\\"SAS\\\",\\\"income\\\":\\\"9949.577379063969\\\"},{\\\"time\\\":\\\"2087-01-01\\\",\\\"regions\\\":\\\"SEA\\\",\\\"income\\\":\\\"13417.460481839147\\\"},{\\\"time\\\":\\\"2087-01-01\\\",\\\"regions\\\":\\\"CHI\\\",\\\"income\\\":\\\"21715.32051997517\\\"},{\\\"time\\\":\\\"2087-01-01\\\",\\\"regions\\\":\\\"MAF\\\",\\\"income\\\":\\\"3822.1745305521526\\\"},{\\\"time\\\":\\\"2087-01-01\\\",\\\"regions\\\":\\\"SSA\\\",\\\"income\\\":\\\"6920.203983242739\\\"},{\\\"time\\\":\\\"2087-01-01\\\",\\\"regions\\\":\\\"SIS\\\",\\\"income\\\":\\\"660.9714204332856\\\"},{\\\"time\\\":\\\"2088-01-01\\\",\\\"regions\\\":\\\"USA\\\",\\\"income\\\":\\\"31735.59551210802\\\"},{\\\"time\\\":\\\"2088-01-01\\\",\\\"regions\\\":\\\"CAN\\\",\\\"income\\\":\\\"2526.4262153208647\\\"},{\\\"time\\\":\\\"2088-01-01\\\",\\\"regions\\\":\\\"WEU\\\",\\\"income\\\":\\\"34409.57077902924\\\"},{\\\"time\\\":\\\"2088-01-01\\\",\\\"regions\\\":\\\"JPK\\\",\\\"income\\\":\\\"26832.17854665875\\\"},{\\\"time\\\":\\\"2088-01-01\\\",\\\"regions\\\":\\\"ANZ\\\",\\\"income\\\":\\\"2303.413950725891\\\"},{\\\"time\\\":\\\"2088-01-01\\\",\\\"regions\\\":\\\"EEU\\\",\\\"income\\\":\\\"3278.7059885724493\\\"},{\\\"time\\\":\\\"2088-01-01\\\",\\\"regions\\\":\\\"FSU\\\",\\\"income\\\":\\\"4456.137614696436\\\"},{\\\"time\\\":\\\"2088-01-01\\\",\\\"regions\\\":\\\"MDE\\\",\\\"income\\\":\\\"11610.336704110452\\\"},{\\\"time\\\":\\\"2088-01-01\\\",\\\"regions\\\":\\\"CAM\\\",\\\"income\\\":\\\"5253.731071506462\\\"},{\\\"time\\\":\\\"2088-01-01\\\",\\\"regions\\\":\\\"LAM\\\",\\\"income\\\":\\\"18070.115635284612\\\"},{\\\"time\\\":\\\"2088-01-01\\\",\\\"regions\\\":\\\"SAS\\\",\\\"income\\\":\\\"10194.33094095154\\\"},{\\\"time\\\":\\\"2088-01-01\\\",\\\"regions\\\":\\\"SEA\\\",\\\"income\\\":\\\"13745.242135011144\\\"},{\\\"time\\\":\\\"2088-01-01\\\",\\\"regions\\\":\\\"CHI\\\",\\\"income\\\":\\\"22264.15634738776\\\"},{\\\"time\\\":\\\"2088-01-01\\\",\\\"regions\\\":\\\"MAF\\\",\\\"income\\\":\\\"3919.2343162926336\\\"},{\\\"time\\\":\\\"2088-01-01\\\",\\\"regions\\\":\\\"SSA\\\",\\\"income\\\":\\\"7100.261943310113\\\"},{\\\"time\\\":\\\"2088-01-01\\\",\\\"regions\\\":\\\"SIS\\\",\\\"income\\\":\\\"676.7693271182718\\\"},{\\\"time\\\":\\\"2089-01-01\\\",\\\"regions\\\":\\\"USA\\\",\\\"income\\\":\\\"32036.181956991895\\\"},{\\\"time\\\":\\\"2089-01-01\\\",\\\"regions\\\":\\\"CAN\\\",\\\"income\\\":\\\"2550.606034720279\\\"},{\\\"time\\\":\\\"2089-01-01\\\",\\\"regions\\\":\\\"WEU\\\",\\\"income\\\":\\\"34731.873663810075\\\"},{\\\"time\\\":\\\"2089-01-01\\\",\\\"regions\\\":\\\"JPK\\\",\\\"income\\\":\\\"27107.610552266964\\\"},{\\\"time\\\":\\\"2089-01-01\\\",\\\"regions\\\":\\\"ANZ\\\",\\\"income\\\":\\\"2326.9650686385676\\\"},{\\\"time\\\":\\\"2089-01-01\\\",\\\"regions\\\":\\\"EEU\\\",\\\"income\\\":\\\"3325.728694245396\\\"},{\\\"time\\\":\\\"2089-01-01\\\",\\\"regions\\\":\\\"FSU\\\",\\\"income\\\":\\\"4515.916919302077\\\"},{\\\"time\\\":\\\"2089-01-01\\\",\\\"regions\\\":\\\"MDE\\\",\\\"income\\\":\\\"11895.37361977144\\\"},{\\\"time\\\":\\\"2089-01-01\\\",\\\"regions\\\":\\\"CAM\\\",\\\"income\\\":\\\"5376.860722270028\\\"},{\\\"time\\\":\\\"2089-01-01\\\",\\\"regions\\\":\\\"LAM\\\",\\\"income\\\":\\\"18491.733087985594\\\"},{\\\"time\\\":\\\"2089-01-01\\\",\\\"regions\\\":\\\"SAS\\\",\\\"income\\\":\\\"10440.99882923269\\\"},{\\\"time\\\":\\\"2089-01-01\\\",\\\"regions\\\":\\\"SEA\\\",\\\"income\\\":\\\"14075.493196053918\\\"},{\\\"time\\\":\\\"2089-01-01\\\",\\\"regions\\\":\\\"CHI\\\",\\\"income\\\":\\\"22818.88425263296\\\"},{\\\"time\\\":\\\"2089-01-01\\\",\\\"regions\\\":\\\"MAF\\\",\\\"income\\\":\\\"4016.7436967454278\\\"},{\\\"time\\\":\\\"2089-01-01\\\",\\\"regions\\\":\\\"SSA\\\",\\\"income\\\":\\\"7281.420898615851\\\"},{\\\"time\\\":\\\"2089-01-01\\\",\\\"regions\\\":\\\"SIS\\\",\\\"income\\\":\\\"692.779436078115\\\"},{\\\"time\\\":\\\"2090-01-01\\\",\\\"regions\\\":\\\"USA\\\",\\\"income\\\":\\\"32335.3394329971\\\"},{\\\"time\\\":\\\"2090-01-01\\\",\\\"regions\\\":\\\"CAN\\\",\\\"income\\\":\\\"2574.6782816328373\\\"},{\\\"time\\\":\\\"2090-01-01\\\",\\\"regions\\\":\\\"WEU\\\",\\\"income\\\":\\\"35052.46863505558\\\"},{\\\"time\\\":\\\"2090-01-01\\\",\\\"regions\\\":\\\"JPK\\\",\\\"income\\\":\\\"27382.28877567666\\\"},{\\\"time\\\":\\\"2090-01-01\\\",\\\"regions\\\":\\\"ANZ\\\",\\\"income\\\":\\\"2350.4489276709623\\\"},{\\\"time\\\":\\\"2090-01-01\\\",\\\"regions\\\":\\\"EEU\\\",\\\"income\\\":\\\"3372.170458876779\\\"},{\\\"time\\\":\\\"2090-01-01\\\",\\\"regions\\\":\\\"FSU\\\",\\\"income\\\":\\\"4574.72127369366\\\"},{\\\"time\\\":\\\"2090-01-01\\\",\\\"regions\\\":\\\"MDE\\\",\\\"income\\\":\\\"12182.622166959336\\\"},{\\\"time\\\":\\\"2090-01-01\\\",\\\"regions\\\":\\\"CAM\\\",\\\"income\\\":\\\"5501.53994443738\\\"},{\\\"time\\\":\\\"2090-01-01\\\",\\\"regions\\\":\\\"LAM\\\",\\\"income\\\":\\\"18918.69362799141\\\"},{\\\"time\\\":\\\"2090-01-01\\\",\\\"regions\\\":\\\"SAS\\\",\\\"income\\\":\\\"10689.428847257128\\\"},{\\\"time\\\":\\\"2090-01-01\\\",\\\"regions\\\":\\\"SEA\\\",\\\"income\\\":\\\"14408.007727685725\\\"},{\\\"time\\\":\\\"2090-01-01\\\",\\\"regions\\\":\\\"CHI\\\",\\\"income\\\":\\\"23379.253014237824\\\"},{\\\"time\\\":\\\"2090-01-01\\\",\\\"regions\\\":\\\"MAF\\\",\\\"income\\\":\\\"4114.613728548017\\\"},{\\\"time\\\":\\\"2090-01-01\\\",\\\"regions\\\":\\\"SSA\\\",\\\"income\\\":\\\"7463.526935190084\\\"},{\\\"time\\\":\\\"2090-01-01\\\",\\\"regions\\\":\\\"SIS\\\",\\\"income\\\":\\\"708.9989484971047\\\"},{\\\"time\\\":\\\"2091-01-01\\\",\\\"regions\\\":\\\"USA\\\",\\\"income\\\":\\\"32632.973241172785\\\"},{\\\"time\\\":\\\"2091-01-01\\\",\\\"regions\\\":\\\"CAN\\\",\\\"income\\\":\\\"2598.635390543579\\\"},{\\\"time\\\":\\\"2091-01-01\\\",\\\"regions\\\":\\\"WEU\\\",\\\"income\\\":\\\"35371.59976861665\\\"},{\\\"time\\\":\\\"2091-01-01\\\",\\\"regions\\\":\\\"JPK\\\",\\\"income\\\":\\\"27656.13095497598\\\"},{\\\"time\\\":\\\"2091-01-01\\\",\\\"regions\\\":\\\"ANZ\\\",\\\"income\\\":\\\"2373.858442397167\\\"},{\\\"time\\\":\\\"2091-01-01\\\",\\\"regions\\\":\\\"EEU\\\",\\\"income\\\":\\\"3417.9875402576704\\\"},{\\\"time\\\":\\\"2091-01-01\\\",\\\"regions\\\":\\\"FSU\\\",\\\"income\\\":\\\"4632.490279249016\\\"},{\\\"time\\\":\\\"2091-01-01\\\",\\\"regions\\\":\\\"MDE\\\",\\\"income\\\":\\\"12471.905594709875\\\"},{\\\"time\\\":\\\"2091-01-01\\\",\\\"regions\\\":\\\"CAM\\\",\\\"income\\\":\\\"5627.7424717148015\\\"},{\\\"time\\\":\\\"2091-01-01\\\",\\\"regions\\\":\\\"LAM\\\",\\\"income\\\":\\\"19350.914145183237\\\"},{\\\"time\\\":\\\"2091-01-01\\\",\\\"regions\\\":\\\"SAS\\\",\\\"income\\\":\\\"10939.462967902633\\\"},{\\\"time\\\":\\\"2091-01-01\\\",\\\"regions\\\":\\\"SEA\\\",\\\"income\\\":\\\"14742.572137798672\\\"},{\\\"time\\\":\\\"2091-01-01\\\",\\\"regions\\\":\\\"CHI\\\",\\\"income\\\":\\\"23944.99912944312\\\"},{\\\"time\\\":\\\"2091-01-01\\\",\\\"regions\\\":\\\"MAF\\\",\\\"income\\\":\\\"4212.752721788818\\\"},{\\\"time\\\":\\\"2091-01-01\\\",\\\"regions\\\":\\\"SSA\\\",\\\"income\\\":\\\"7646.420787979819\\\"},{\\\"time\\\":\\\"2091-01-01\\\",\\\"regions\\\":\\\"SIS\\\",\\\"income\\\":\\\"725.4248451446645\\\"},{\\\"time\\\":\\\"2092-01-01\\\",\\\"regions\\\":\\\"USA\\\",\\\"income\\\":\\\"32928.98846382541\\\"},{\\\"time\\\":\\\"2092-01-01\\\",\\\"regions\\\":\\\"CAN\\\",\\\"income\\\":\\\"2622.4697720400145\\\"},{\\\"time\\\":\\\"2092-01-01\\\",\\\"regions\\\":\\\"WEU\\\",\\\"income\\\":\\\"35689.17006334465\\\"},{\\\"time\\\":\\\"2092-01-01\\\",\\\"regions\\\":\\\"JPK\\\",\\\"income\\\":\\\"27927.658559392727\\\"},{\\\"time\\\":\\\"2092-01-01\\\",\\\"regions\\\":\\\"ANZ\\\",\\\"income\\\":\\\"2397.06668449197\\\"},{\\\"time\\\":\\\"2092-01-01\\\",\\\"regions\\\":\\\"EEU\\\",\\\"income\\\":\\\"3463.136284027297\\\"},{\\\"time\\\":\\\"2092-01-01\\\",\\\"regions\\\":\\\"FSU\\\",\\\"income\\\":\\\"4689.16400424903\\\"},{\\\"time\\\":\\\"2092-01-01\\\",\\\"regions\\\":\\\"MDE\\\",\\\"income\\\":\\\"12764.315662685387\\\"},{\\\"time\\\":\\\"2092-01-01\\\",\\\"regions\\\":\\\"CAM\\\",\\\"income\\\":\\\"5755.152661692629\\\"},{\\\"time\\\":\\\"2092-01-01\\\",\\\"regions\\\":\\\"LAM\\\",\\\"income\\\":\\\"19787.31688128881\\\"},{\\\"time\\\":\\\"2092-01-01\\\",\\\"regions\\\":\\\"SAS\\\",\\\"income\\\":\\\"11192.055611642068\\\"},{\\\"time\\\":\\\"2092-01-01\\\",\\\"regions\\\":\\\"SEA\\\",\\\"income\\\":\\\"15080.471985809847\\\"},{\\\"time\\\":\\\"2092-01-01\\\",\\\"regions\\\":\\\"CHI\\\",\\\"income\\\":\\\"24514.62179424492\\\"},{\\\"time\\\":\\\"2092-01-01\\\",\\\"regions\\\":\\\"MAF\\\",\\\"income\\\":\\\"4311.4965173154915\\\"},{\\\"time\\\":\\\"2092-01-01\\\",\\\"regions\\\":\\\"SSA\\\",\\\"income\\\":\\\"7830.719276360245\\\"},{\\\"time\\\":\\\"2092-01-01\\\",\\\"regions\\\":\\\"SIS\\\",\\\"income\\\":\\\"742.0168007489184\\\"},{\\\"time\\\":\\\"2093-01-01\\\",\\\"regions\\\":\\\"USA\\\",\\\"income\\\":\\\"33223.28999527017\\\"},{\\\"time\\\":\\\"2093-01-01\\\",\\\"regions\\\":\\\"CAN\\\",\\\"income\\\":\\\"2646.1738170320655\\\"},{\\\"time\\\":\\\"2093-01-01\\\",\\\"regions\\\":\\\"WEU\\\",\\\"income\\\":\\\"36004.72544445401\\\"},{\\\"time\\\":\\\"2093-01-01\\\",\\\"regions\\\":\\\"JPK\\\",\\\"income\\\":\\\"28196.747669126868\\\"},{\\\"time\\\":\\\"2093-01-01\\\",\\\"regions\\\":\\\"ANZ\\\",\\\"income\\\":\\\"2420.0630125972943\\\"},{\\\"time\\\":\\\"2093-01-01\\\",\\\"regions\\\":\\\"EEU\\\",\\\"income\\\":\\\"3507.573181310767\\\"},{\\\"time\\\":\\\"2093-01-01\\\",\\\"regions\\\":\\\"FSU\\\",\\\"income\\\":\\\"4744.683044387497\\\"},{\\\"time\\\":\\\"2093-01-01\\\",\\\"regions\\\":\\\"MDE\\\",\\\"income\\\":\\\"13059.750740283853\\\"},{\\\"time\\\":\\\"2093-01-01\\\",\\\"regions\\\":\\\"CAM\\\",\\\"income\\\":\\\"5883.721377765834\\\"},{\\\"time\\\":\\\"2093-01-01\\\",\\\"regions\\\":\\\"LAM\\\",\\\"income\\\":\\\"20227.740928980096\\\"},{\\\"time\\\":\\\"2093-01-01\\\",\\\"regions\\\":\\\"SAS\\\",\\\"income\\\":\\\"11447.113858466913\\\"},{\\\"time\\\":\\\"2093-01-01\\\",\\\"regions\\\":\\\"SEA\\\",\\\"income\\\":\\\"15421.581047226131\\\"},{\\\"time\\\":\\\"2093-01-01\\\",\\\"regions\\\":\\\"CHI\\\",\\\"income\\\":\\\"25087.747035269582\\\"},{\\\"time\\\":\\\"2093-01-01\\\",\\\"regions\\\":\\\"MAF\\\",\\\"income\\\":\\\"4410.778098187676\\\"},{\\\"time\\\":\\\"2093-01-01\\\",\\\"regions\\\":\\\"SSA\\\",\\\"income\\\":\\\"8016.308692087503\\\"},{\\\"time\\\":\\\"2093-01-01\\\",\\\"regions\\\":\\\"SIS\\\",\\\"income\\\":\\\"758.768826392373\\\"},{\\\"time\\\":\\\"2094-01-01\\\",\\\"regions\\\":\\\"USA\\\",\\\"income\\\":\\\"33516.114706619024\\\"},{\\\"time\\\":\\\"2094-01-01\\\",\\\"regions\\\":\\\"CAN\\\",\\\"income\\\":\\\"2669.7663543467265\\\"},{\\\"time\\\":\\\"2094-01-01\\\",\\\"regions\\\":\\\"WEU\\\",\\\"income\\\":\\\"36318.51887897984\\\"},{\\\"time\\\":\\\"2094-01-01\\\",\\\"regions\\\":\\\"JPK\\\",\\\"income\\\":\\\"28462.992309267218\\\"},{\\\"time\\\":\\\"2094-01-01\\\",\\\"regions\\\":\\\"ANZ\\\",\\\"income\\\":\\\"2442.8125768376367\\\"},{\\\"time\\\":\\\"2094-01-01\\\",\\\"regions\\\":\\\"EEU\\\",\\\"income\\\":\\\"3551.219852011752\\\"},{\\\"time\\\":\\\"2094-01-01\\\",\\\"regions\\\":\\\"FSU\\\",\\\"income\\\":\\\"4798.941172938184\\\"},{\\\"time\\\":\\\"2094-01-01\\\",\\\"regions\\\":\\\"MDE\\\",\\\"income\\\":\\\"13358.104035456514\\\"},{\\\"time\\\":\\\"2094-01-01\\\",\\\"regions\\\":\\\"CAM\\\",\\\"income\\\":\\\"6013.397294590868\\\"},{\\\"time\\\":\\\"2094-01-01\\\",\\\"regions\\\":\\\"LAM\\\",\\\"income\\\":\\\"20672.018205276305\\\"},{\\\"time\\\":\\\"2094-01-01\\\",\\\"regions\\\":\\\"SAS\\\",\\\"income\\\":\\\"11704.540277006576\\\"},{\\\"time\\\":\\\"2094-01-01\\\",\\\"regions\\\":\\\"SEA\\\",\\\"income\\\":\\\"15765.767186412168\\\"},{\\\"time\\\":\\\"2094-01-01\\\",\\\"regions\\\":\\\"CHI\\\",\\\"income\\\":\\\"25663.987473995567\\\"},{\\\"time\\\":\\\"2094-01-01\\\",\\\"regions\\\":\\\"MAF\\\",\\\"income\\\":\\\"4510.528170120422\\\"},{\\\"time\\\":\\\"2094-01-01\\\",\\\"regions\\\":\\\"SSA\\\",\\\"income\\\":\\\"8203.070957935015\\\"},{\\\"time\\\":\\\"2094-01-01\\\",\\\"regions\\\":\\\"SIS\\\",\\\"income\\\":\\\"775.6746532462581\\\"},{\\\"time\\\":\\\"2095-01-01\\\",\\\"regions\\\":\\\"USA\\\",\\\"income\\\":\\\"33807.0407150901\\\"},{\\\"time\\\":\\\"2095-01-01\\\",\\\"regions\\\":\\\"CAN\\\",\\\"income\\\":\\\"2693.2137382382343\\\"},{\\\"time\\\":\\\"2095-01-01\\\",\\\"regions\\\":\\\"WEU\\\",\\\"income\\\":\\\"36630.08942211658\\\"},{\\\"time\\\":\\\"2095-01-01\\\",\\\"regions\\\":\\\"JPK\\\",\\\"income\\\":\\\"28726.545614122126\\\"},{\\\"time\\\":\\\"2095-01-01\\\",\\\"regions\\\":\\\"ANZ\\\",\\\"income\\\":\\\"2465.3285162156776\\\"},{\\\"time\\\":\\\"2095-01-01\\\",\\\"regions\\\":\\\"EEU\\\",\\\"income\\\":\\\"3594.067463888981\\\"},{\\\"time\\\":\\\"2095-01-01\\\",\\\"regions\\\":\\\"FSU\\\",\\\"income\\\":\\\"4851.926544400618\\\"},{\\\"time\\\":\\\"2095-01-01\\\",\\\"regions\\\":\\\"MDE\\\",\\\"income\\\":\\\"13659.263605925817\\\"},{\\\"time\\\":\\\"2095-01-01\\\",\\\"regions\\\":\\\"CAM\\\",\\\"income\\\":\\\"6144.126901706991\\\"},{\\\"time\\\":\\\"2095-01-01\\\",\\\"regions\\\":\\\"LAM\\\",\\\"income\\\":\\\"21119.973459087818\\\"},{\\\"time\\\":\\\"2095-01-01\\\",\\\"regions\\\":\\\"SAS\\\",\\\"income\\\":\\\"11964.232992040183\\\"},{\\\"time\\\":\\\"2095-01-01\\\",\\\"regions\\\":\\\"SEA\\\",\\\"income\\\":\\\"16112.892431718428\\\"},{\\\"time\\\":\\\"2095-01-01\\\",\\\"regions\\\":\\\"CHI\\\",\\\"income\\\":\\\"26242.94260564155\\\"},{\\\"time\\\":\\\"2095-01-01\\\",\\\"regions\\\":\\\"MAF\\\",\\\"income\\\":\\\"4610.675231802898\\\"},{\\\"time\\\":\\\"2095-01-01\\\",\\\"regions\\\":\\\"SSA\\\",\\\"income\\\":\\\"8390.88374930222\\\"},{\\\"time\\\":\\\"2095-01-01\\\",\\\"regions\\\":\\\"SIS\\\",\\\"income\\\":\\\"792.7277310474863\\\"},{\\\"time\\\":\\\"2096-01-01\\\",\\\"regions\\\":\\\"USA\\\",\\\"income\\\":\\\"34095.97237654291\\\"},{\\\"time\\\":\\\"2096-01-01\\\",\\\"regions\\\":\\\"CAN\\\",\\\"income\\\":\\\"2716.5083006228883\\\"},{\\\"time\\\":\\\"2096-01-01\\\",\\\"regions\\\":\\\"WEU\\\",\\\"income\\\":\\\"36939.695993630055\\\"},{\\\"time\\\":\\\"2096-01-01\\\",\\\"regions\\\":\\\"JPK\\\",\\\"income\\\":\\\"28987.284187040415\\\"},{\\\"time\\\":\\\"2096-01-01\\\",\\\"regions\\\":\\\"ANZ\\\",\\\"income\\\":\\\"2487.600236355613\\\"},{\\\"time\\\":\\\"2096-01-01\\\",\\\"regions\\\":\\\"EEU\\\",\\\"income\\\":\\\"3636.0733401605376\\\"},{\\\"time\\\":\\\"2096-01-01\\\",\\\"regions\\\":\\\"FSU\\\",\\\"income\\\":\\\"4903.581822822352\\\"},{\\\"time\\\":\\\"2096-01-01\\\",\\\"regions\\\":\\\"MDE\\\",\\\"income\\\":\\\"13963.112389678234\\\"},{\\\"time\\\":\\\"2096-01-01\\\",\\\"regions\\\":\\\"CAM\\\",\\\"income\\\":\\\"6275.854528281365\\\"},{\\\"time\\\":\\\"2096-01-01\\\",\\\"regions\\\":\\\"LAM\\\",\\\"income\\\":\\\"21571.424329641042\\\"},{\\\"time\\\":\\\"2096-01-01\\\",\\\"regions\\\":\\\"SAS\\\",\\\"income\\\":\\\"12226.085726250338\\\"},{\\\"time\\\":\\\"2096-01-01\\\",\\\"regions\\\":\\\"SEA\\\",\\\"income\\\":\\\"16462.813039178924\\\"},{\\\"time\\\":\\\"2096-01-01\\\",\\\"regions\\\":\\\"CHI\\\",\\\"income\\\":\\\"26824.19923259476\\\"},{\\\"time\\\":\\\"2096-01-01\\\",\\\"regions\\\":\\\"MAF\\\",\\\"income\\\":\\\"4711.14566002834\\\"},{\\\"time\\\":\\\"2096-01-01\\\",\\\"regions\\\":\\\"SSA\\\",\\\"income\\\":\\\"8579.620605105007\\\"},{\\\"time\\\":\\\"2096-01-01\\\",\\\"regions\\\":\\\"SIS\\\",\\\"income\\\":\\\"809.9212303169498\\\"},{\\\"time\\\":\\\"2097-01-01\\\",\\\"regions\\\":\\\"USA\\\",\\\"income\\\":\\\"34382.81396664635\\\"},{\\\"time\\\":\\\"2097-01-01\\\",\\\"regions\\\":\\\"CAN\\\",\\\"income\\\":\\\"2739.6423619566754\\\"},{\\\"time\\\":\\\"2097-01-01\\\",\\\"regions\\\":\\\"WEU\\\",\\\"income\\\":\\\"37247.24042343949\\\"},{\\\"time\\\":\\\"2097-01-01\\\",\\\"regions\\\":\\\"JPK\\\",\\\"income\\\":\\\"29245.08493914202\\\"},{\\\"time\\\":\\\"2097-01-01\\\",\\\"regions\\\":\\\"ANZ\\\",\\\"income\\\":\\\"2509.617171488956\\\"},{\\\"time\\\":\\\"2097-01-01\\\",\\\"regions\\\":\\\"EEU\\\",\\\"income\\\":\\\"3677.195204773675\\\"},{\\\"time\\\":\\\"2097-01-01\\\",\\\"regions\\\":\\\"FSU\\\",\\\"income\\\":\\\"4953.850520626615\\\"},{\\\"time\\\":\\\"2097-01-01\\\",\\\"regions\\\":\\\"MDE\\\",\\\"income\\\":\\\"14269.528193516146\\\"},{\\\"time\\\":\\\"2097-01-01\\\",\\\"regions\\\":\\\"CAM\\\",\\\"income\\\":\\\"6408.522341115962\\\"},{\\\"time\\\":\\\"2097-01-01\\\",\\\"regions\\\":\\\"LAM\\\",\\\"income\\\":\\\"22026.181375985816\\\"},{\\\"time\\\":\\\"2097-01-01\\\",\\\"regions\\\":\\\"SAS\\\",\\\"income\\\":\\\"12489.98778288492\\\"},{\\\"time\\\":\\\"2097-01-01\\\",\\\"regions\\\":\\\"SEA\\\",\\\"income\\\":\\\"16815.379470771026\\\"},{\\\"time\\\":\\\"2097-01-01\\\",\\\"regions\\\":\\\"CHI\\\",\\\"income\\\":\\\"27407.33165724079\\\"},{\\\"time\\\":\\\"2097-01-01\\\",\\\"regions\\\":\\\"MAF\\\",\\\"income\\\":\\\"4811.863743894971\\\"},{\\\"time\\\":\\\"2097-01-01\\\",\\\"regions\\\":\\\"SSA\\\",\\\"income\\\":\\\"8769.151001280405\\\"},{\\\"time\\\":\\\"2097-01-01\\\",\\\"regions\\\":\\\"SIS\\\",\\\"income\\\":\\\"827.248042289046\\\"},{\\\"time\\\":\\\"2098-01-01\\\",\\\"regions\\\":\\\"USA\\\",\\\"income\\\":\\\"34667.46975869894\\\"},{\\\"time\\\":\\\"2098-01-01\\\",\\\"regions\\\":\\\"CAN\\\",\\\"income\\\":\\\"2762.608237313924\\\"},{\\\"time\\\":\\\"2098-01-01\\\",\\\"regions\\\":\\\"WEU\\\",\\\"income\\\":\\\"37552.25202463418\\\"},{\\\"time\\\":\\\"2098-01-01\\\",\\\"regions\\\":\\\"JPK\\\",\\\"income\\\":\\\"29499.825211058538\\\"},{\\\"time\\\":\\\"2098-01-01\\\",\\\"regions\\\":\\\"ANZ\\\",\\\"income\\\":\\\"2531.368794616726\\\"},{\\\"time\\\":\\\"2098-01-01\\\",\\\"regions\\\":\\\"EEU\\\",\\\"income\\\":\\\"3717.391260179577\\\"},{\\\"time\\\":\\\"2098-01-01\\\",\\\"regions\\\":\\\"FSU\\\",\\\"income\\\":\\\"5002.677131888462\\\"},{\\\"time\\\":\\\"2098-01-01\\\",\\\"regions\\\":\\\"MDE\\\",\\\"income\\\":\\\"14578.383747606014\\\"},{\\\"time\\\":\\\"2098-01-01\\\",\\\"regions\\\":\\\"CAM\\\",\\\"income\\\":\\\"6542.070381442003\\\"},{\\\"time\\\":\\\"2098-01-01\\\",\\\"regions\\\":\\\"LAM\\\",\\\"income\\\":\\\"22484.048164807074\\\"},{\\\"time\\\":\\\"2098-01-01\\\",\\\"regions\\\":\\\"SAS\\\",\\\"income\\\":\\\"12755.82411237911\\\"},{\\\"time\\\":\\\"2098-01-01\\\",\\\"regions\\\":\\\"SEA\\\",\\\"income\\\":\\\"17170.436492024815\\\"},{\\\"time\\\":\\\"2098-01-01\\\",\\\"regions\\\":\\\"CHI\\\",\\\"income\\\":\\\"27991.902226616538\\\"},{\\\"time\\\":\\\"2098-01-01\\\",\\\"regions\\\":\\\"MAF\\\",\\\"income\\\":\\\"4912.751790612506\\\"},{\\\"time\\\":\\\"2098-01-01\\\",\\\"regions\\\":\\\"SSA\\\",\\\"income\\\":\\\"8959.340490300308\\\"},{\\\"time\\\":\\\"2098-01-01\\\",\\\"regions\\\":\\\"SIS\\\",\\\"income\\\":\\\"844.7007824720273\\\"},{\\\"time\\\":\\\"2099-01-01\\\",\\\"regions\\\":\\\"USA\\\",\\\"income\\\":\\\"34950.19071592254\\\"},{\\\"time\\\":\\\"2099-01-01\\\",\\\"regions\\\":\\\"CAN\\\",\\\"income\\\":\\\"2785.425866719727\\\"},{\\\"time\\\":\\\"2099-01-01\\\",\\\"regions\\\":\\\"WEU\\\",\\\"income\\\":\\\"37854.99880123516\\\"},{\\\"time\\\":\\\"2099-01-01\\\",\\\"regions\\\":\\\"JPK\\\",\\\"income\\\":\\\"29751.087796481053\\\"},{\\\"time\\\":\\\"2099-01-01\\\",\\\"regions\\\":\\\"ANZ\\\",\\\"income\\\":\\\"2552.819306822417\\\"},{\\\"time\\\":\\\"2099-01-01\\\",\\\"regions\\\":\\\"EEU\\\",\\\"income\\\":\\\"3756.583090478755\\\"},{\\\"time\\\":\\\"2099-01-01\\\",\\\"regions\\\":\\\"FSU\\\",\\\"income\\\":\\\"5049.957270471691\\\"},{\\\"time\\\":\\\"2099-01-01\\\",\\\"regions\\\":\\\"MDE\\\",\\\"income\\\":\\\"14889.546746106113\\\"},{\\\"time\\\":\\\"2099-01-01\\\",\\\"regions\\\":\\\"CAM\\\",\\\"income\\\":\\\"6676.436591848986\\\"},{\\\"time\\\":\\\"2099-01-01\\\",\\\"regions\\\":\\\"LAM\\\",\\\"income\\\":\\\"22944.821351747156\\\"},{\\\"time\\\":\\\"2099-01-01\\\",\\\"regions\\\":\\\"SAS\\\",\\\"income\\\":\\\"13023.47535671289\\\"},{\\\"time\\\":\\\"2099-01-01\\\",\\\"regions\\\":\\\"SEA\\\",\\\"income\\\":\\\"17527.82323676125\\\"},{\\\"time\\\":\\\"2099-01-01\\\",\\\"regions\\\":\\\"CHI\\\",\\\"income\\\":\\\"28577.461788168603\\\"},{\\\"time\\\":\\\"2099-01-01\\\",\\\"regions\\\":\\\"MAF\\\",\\\"income\\\":\\\"5013.730211524258\\\"},{\\\"time\\\":\\\"2099-01-01\\\",\\\"regions\\\":\\\"SSA\\\",\\\"income\\\":\\\"9150.050829675478\\\"},{\\\"time\\\":\\\"2099-01-01\\\",\\\"regions\\\":\\\"SIS\\\",\\\"income\\\":\\\"862.2717934332068\\\"},{\\\"time\\\":\\\"2100-01-01\\\",\\\"regions\\\":\\\"USA\\\",\\\"income\\\":\\\"35230.54024008568\\\"},{\\\"time\\\":\\\"2100-01-01\\\",\\\"regions\\\":\\\"CAN\\\",\\\"income\\\":\\\"2808.060393043755\\\"},{\\\"time\\\":\\\"2100-01-01\\\",\\\"regions\\\":\\\"WEU\\\",\\\"income\\\":\\\"38155.00401656368\\\"},{\\\"time\\\":\\\"2100-01-01\\\",\\\"regions\\\":\\\"JPK\\\",\\\"income\\\":\\\"29999.041309087042\\\"},{\\\"time\\\":\\\"2100-01-01\\\",\\\"regions\\\":\\\"ANZ\\\",\\\"income\\\":\\\"2573.9831801618634\\\"},{\\\"time\\\":\\\"2100-01-01\\\",\\\"regions\\\":\\\"EEU\\\",\\\"income\\\":\\\"3794.7664600655976\\\"},{\\\"time\\\":\\\"2100-01-01\\\",\\\"regions\\\":\\\"FSU\\\",\\\"income\\\":\\\"5095.686723225075\\\"},{\\\"time\\\":\\\"2100-01-01\\\",\\\"regions\\\":\\\"MDE\\\",\\\"income\\\":\\\"15202.879894276377\\\"},{\\\"time\\\":\\\"2100-01-01\\\",\\\"regions\\\":\\\"CAM\\\",\\\"income\\\":\\\"6811.55684577753\\\"},{\\\"time\\\":\\\"2100-01-01\\\",\\\"regions\\\":\\\"LAM\\\",\\\"income\\\":\\\"23408.29077300287\\\"},{\\\"time\\\":\\\"2100-01-01\\\",\\\"regions\\\":\\\"SAS\\\",\\\"income\\\":\\\"13292.817898685327\\\"},{\\\"time\\\":\\\"2100-01-01\\\",\\\"regions\\\":\\\"SEA\\\",\\\"income\\\":\\\"17887.373277984523\\\"},{\\\"time\\\":\\\"2100-01-01\\\",\\\"regions\\\":\\\"CHI\\\",\\\"income\\\":\\\"29163.55016824546\\\"},{\\\"time\\\":\\\"2100-01-01\\\",\\\"regions\\\":\\\"MAF\\\",\\\"income\\\":\\\"5114.717611710295\\\"},{\\\"time\\\":\\\"2100-01-01\\\",\\\"regions\\\":\\\"SSA\\\",\\\"income\\\":\\\"9341.140119105066\\\"},{\\\"time\\\":\\\"2100-01-01\\\",\\\"regions\\\":\\\"SIS\\\",\\\"income\\\":\\\"879.9531479384118\\\"},{\\\"time\\\":\\\"2101-01-01\\\",\\\"regions\\\":\\\"USA\\\",\\\"income\\\":\\\"35508.4229184307\\\"},{\\\"time\\\":\\\"2101-01-01\\\",\\\"regions\\\":\\\"CAN\\\",\\\"income\\\":\\\"2830.5041404729045\\\"},{\\\"time\\\":\\\"2101-01-01\\\",\\\"regions\\\":\\\"WEU\\\",\\\"income\\\":\\\"38452.54214562796\\\"},{\\\"time\\\":\\\"2101-01-01\\\",\\\"regions\\\":\\\"JPK\\\",\\\"income\\\":\\\"30243.56512905428\\\"},{\\\"time\\\":\\\"2101-01-01\\\",\\\"regions\\\":\\\"ANZ\\\",\\\"income\\\":\\\"2594.85006821485\\\"},{\\\"time\\\":\\\"2101-01-01\\\",\\\"regions\\\":\\\"EEU\\\",\\\"income\\\":\\\"3831.901476828425\\\"},{\\\"time\\\":\\\"2101-01-01\\\",\\\"regions\\\":\\\"FSU\\\",\\\"income\\\":\\\"5139.8136609068215\\\"},{\\\"time\\\":\\\"2101-01-01\\\",\\\"regions\\\":\\\"MDE\\\",\\\"income\\\":\\\"15518.241037332848\\\"},{\\\"time\\\":\\\"2101-01-01\\\",\\\"regions\\\":\\\"CAM\\\",\\\"income\\\":\\\"6947.365024489096\\\"},{\\\"time\\\":\\\"2101-01-01\\\",\\\"regions\\\":\\\"LAM\\\",\\\"income\\\":\\\"23874.239604917875\\\"},{\\\"time\\\":\\\"2101-01-01\\\",\\\"regions\\\":\\\"SAS\\\",\\\"income\\\":\\\"13563.724014043988\\\"},{\\\"time\\\":\\\"2101-01-01\\\",\\\"regions\\\":\\\"SEA\\\",\\\"income\\\":\\\"18248.914842345726\\\"},{\\\"time\\\":\\\"2101-01-01\\\",\\\"regions\\\":\\\"CHI\\\",\\\"income\\\":\\\"29749.69707388933\\\"},{\\\"time\\\":\\\"2101-01-01\\\",\\\"regions\\\":\\\"MAF\\\",\\\"income\\\":\\\"5215.630964439765\\\"},{\\\"time\\\":\\\"2101-01-01\\\",\\\"regions\\\":\\\"SSA\\\",\\\"income\\\":\\\"9532.463015358955\\\"},{\\\"time\\\":\\\"2101-01-01\\\",\\\"regions\\\":\\\"SIS\\\",\\\"income\\\":\\\"897.7366564408447\\\"},{\\\"time\\\":\\\"2102-01-01\\\",\\\"regions\\\":\\\"USA\\\",\\\"income\\\":\\\"35786.93927802853\\\"},{\\\"time\\\":\\\"2102-01-01\\\",\\\"regions\\\":\\\"CAN\\\",\\\"income\\\":\\\"2853.0042114127446\\\"},{\\\"time\\\":\\\"2102-01-01\\\",\\\"regions\\\":\\\"WEU\\\",\\\"income\\\":\\\"38750.59188341958\\\"},{\\\"time\\\":\\\"2102-01-01\\\",\\\"regions\\\":\\\"JPK\\\",\\\"income\\\":\\\"30488.786133145266\\\"},{\\\"time\\\":\\\"2102-01-01\\\",\\\"regions\\\":\\\"ANZ\\\",\\\"income\\\":\\\"2615.7740398199026\\\"},{\\\"time\\\":\\\"2102-01-01\\\",\\\"regions\\\":\\\"EEU\\\",\\\"income\\\":\\\"3869.213302485201\\\"},{\\\"time\\\":\\\"2102-01-01\\\",\\\"regions\\\":\\\"FSU\\\",\\\"income\\\":\\\"5183.981701875579\\\"},{\\\"time\\\":\\\"2102-01-01\\\",\\\"regions\\\":\\\"MDE\\\",\\\"income\\\":\\\"15836.104127833909\\\"},{\\\"time\\\":\\\"2102-01-01\\\",\\\"regions\\\":\\\"CAM\\\",\\\"income\\\":\\\"7084.425222949094\\\"},{\\\"time\\\":\\\"2102-01-01\\\",\\\"regions\\\":\\\"LAM\\\",\\\"income\\\":\\\"24344.616828669423\\\"},{\\\"time\\\":\\\"2102-01-01\\\",\\\"regions\\\":\\\"SAS\\\",\\\"income\\\":\\\"13836.604942683796\\\"},{\\\"time\\\":\\\"2102-01-01\\\",\\\"regions\\\":\\\"SEA\\\",\\\"income\\\":\\\"18613.001680963873\\\"},{\\\"time\\\":\\\"2102-01-01\\\",\\\"regions\\\":\\\"CHI\\\",\\\"income\\\":\\\"30341.107306396076\\\"},{\\\"time\\\":\\\"2102-01-01\\\",\\\"regions\\\":\\\"MAF\\\",\\\"income\\\":\\\"5317.126156135274\\\"},{\\\"time\\\":\\\"2102-01-01\\\",\\\"regions\\\":\\\"SSA\\\",\\\"income\\\":\\\"9725.22445961768\\\"},{\\\"time\\\":\\\"2102-01-01\\\",\\\"regions\\\":\\\"SIS\\\",\\\"income\\\":\\\"915.6955814895988\\\"},{\\\"time\\\":\\\"2103-01-01\\\",\\\"regions\\\":\\\"USA\\\",\\\"income\\\":\\\"36066.06938689443\\\"},{\\\"time\\\":\\\"2103-01-01\\\",\\\"regions\\\":\\\"CAN\\\",\\\"income\\\":\\\"2875.5590047125497\\\"},{\\\"time\\\":\\\"2103-01-01\\\",\\\"regions\\\":\\\"WEU\\\",\\\"income\\\":\\\"39049.127776439076\\\"},{\\\"time\\\":\\\"2103-01-01\\\",\\\"regions\\\":\\\"JPK\\\",\\\"income\\\":\\\"30734.68702908628\\\"},{\\\"time\\\":\\\"2103-01-01\\\",\\\"regions\\\":\\\"ANZ\\\",\\\"income\\\":\\\"2636.753571909292\\\"},{\\\"time\\\":\\\"2103-01-01\\\",\\\"regions\\\":\\\"EEU\\\",\\\"income\\\":\\\"3906.6997418250885\\\"},{\\\"time\\\":\\\"2103-01-01\\\",\\\"regions\\\":\\\"FSU\\\",\\\"income\\\":\\\"5228.184876164234\\\"},{\\\"time\\\":\\\"2103-01-01\\\",\\\"regions\\\":\\\"MDE\\\",\\\"income\\\":\\\"16156.355111979414\\\"},{\\\"time\\\":\\\"2103-01-01\\\",\\\"regions\\\":\\\"CAM\\\",\\\"income\\\":\\\"7222.7045551844485\\\"},{\\\"time\\\":\\\"2103-01-01\\\",\\\"regions\\\":\\\"LAM\\\",\\\"income\\\":\\\"24819.32000670664\\\"},{\\\"time\\\":\\\"2103-01-01\\\",\\\"regions\\\":\\\"SAS\\\",\\\"income\\\":\\\"14111.357812833534\\\"},{\\\"time\\\":\\\"2103-01-01\\\",\\\"regions\\\":\\\"SEA\\\",\\\"income\\\":\\\"18979.49583330262\\\"},{\\\"time\\\":\\\"2103-01-01\\\",\\\"regions\\\":\\\"CHI\\\",\\\"income\\\":\\\"30937.628880518165\\\"},{\\\"time\\\":\\\"2103-01-01\\\",\\\"regions\\\":\\\"MAF\\\",\\\"income\\\":\\\"5419.160532546376\\\"},{\\\"time\\\":\\\"2103-01-01\\\",\\\"regions\\\":\\\"SSA\\\",\\\"income\\\":\\\"9919.35424531873\\\"},{\\\"time\\\":\\\"2103-01-01\\\",\\\"regions\\\":\\\"SIS\\\",\\\"income\\\":\\\"933.826086786694\\\"},{\\\"time\\\":\\\"2104-01-01\\\",\\\"regions\\\":\\\"USA\\\",\\\"income\\\":\\\"36345.793040626864\\\"},{\\\"time\\\":\\\"2104-01-01\\\",\\\"regions\\\":\\\"CAN\\\",\\\"income\\\":\\\"2898.166896244565\\\"},{\\\"time\\\":\\\"2104-01-01\\\",\\\"regions\\\":\\\"WEU\\\",\\\"income\\\":\\\"39348.12400853166\\\"},{\\\"time\\\":\\\"2104-01-01\\\",\\\"regions\\\":\\\"JPK\\\",\\\"income\\\":\\\"30981.25017284641\\\"},{\\\"time\\\":\\\"2104-01-01\\\",\\\"regions\\\":\\\"ANZ\\\",\\\"income\\\":\\\"2657.787111338925\\\"},{\\\"time\\\":\\\"2104-01-01\\\",\\\"regions\\\":\\\"EEU\\\",\\\"income\\\":\\\"3944.3585410343458\\\"},{\\\"time\\\":\\\"2104-01-01\\\",\\\"regions\\\":\\\"FSU\\\",\\\"income\\\":\\\"5272.4171582077915\\\"},{\\\"time\\\":\\\"2104-01-01\\\",\\\"regions\\\":\\\"MDE\\\",\\\"income\\\":\\\"16478.87568650565\\\"},{\\\"time\\\":\\\"2104-01-01\\\",\\\"regions\\\":\\\"CAM\\\",\\\"income\\\":\\\"7362.168674594141\\\"},{\\\"time\\\":\\\"2104-01-01\\\",\\\"regions\\\":\\\"LAM\\\",\\\"income\\\":\\\"25298.24200760188\\\"},{\\\"time\\\":\\\"2104-01-01\\\",\\\"regions\\\":\\\"SAS\\\",\\\"income\\\":\\\"14387.876145611013\\\"},{\\\"time\\\":\\\"2104-01-01\\\",\\\"regions\\\":\\\"SEA\\\",\\\"income\\\":\\\"19348.25468603128\\\"},{\\\"time\\\":\\\"2104-01-01\\\",\\\"regions\\\":\\\"CHI\\\",\\\"income\\\":\\\"31539.1033981195\\\"},{\\\"time\\\":\\\"2104-01-01\\\",\\\"regions\\\":\\\"MAF\\\",\\\"income\\\":\\\"5521.690197070776\\\"},{\\\"time\\\":\\\"2104-01-01\\\",\\\"regions\\\":\\\"SSA\\\",\\\"income\\\":\\\"10114.77964776538\\\"},{\\\"time\\\":\\\"2104-01-01\\\",\\\"regions\\\":\\\"SIS\\\",\\\"income\\\":\\\"952.124145744282\\\"},{\\\"time\\\":\\\"2105-01-01\\\",\\\"regions\\\":\\\"USA\\\",\\\"income\\\":\\\"36626.08982222842\\\"},{\\\"time\\\":\\\"2105-01-01\\\",\\\"regions\\\":\\\"CAN\\\",\\\"income\\\":\\\"2920.826242750746\\\"},{\\\"time\\\":\\\"2105-01-01\\\",\\\"regions\\\":\\\"WEU\\\",\\\"income\\\":\\\"39647.55449999303\\\"},{\\\"time\\\":\\\"2105-01-01\\\",\\\"regions\\\":\\\"JPK\\\",\\\"income\\\":\\\"31228.457619717225\\\"},{\\\"time\\\":\\\"2105-01-01\\\",\\\"regions\\\":\\\"ANZ\\\",\\\"income\\\":\\\"2678.8730801152988\\\"},{\\\"time\\\":\\\"2105-01-01\\\",\\\"regions\\\":\\\"EEU\\\",\\\"income\\\":\\\"3982.187392678177\\\"},{\\\"time\\\":\\\"2105-01-01\\\",\\\"regions\\\":\\\"FSU\\\",\\\"income\\\":\\\"5316.672471841155\\\"},{\\\"time\\\":\\\"2105-01-01\\\",\\\"regions\\\":\\\"MDE\\\",\\\"income\\\":\\\"16803.543340187447\\\"},{\\\"time\\\":\\\"2105-01-01\\\",\\\"regions\\\":\\\"CAM\\\",\\\"income\\\":\\\"7502.781787505677\\\"},{\\\"time\\\":\\\"2105-01-01\\\",\\\"regions\\\":\\\"LAM\\\",\\\"income\\\":\\\"25781.27104301709\\\"},{\\\"time\\\":\\\"2105-01-01\\\",\\\"regions\\\":\\\"SAS\\\",\\\"income\\\":\\\"14666.049913579567\\\"},{\\\"time\\\":\\\"2105-01-01\\\",\\\"regions\\\":\\\"SEA\\\",\\\"income\\\":\\\"19719.13105052483\\\"},{\\\"time\\\":\\\"2105-01-01\\\",\\\"regions\\\":\\\"CHI\\\",\\\"income\\\":\\\"32145.366150032074\\\"},{\\\"time\\\":\\\"2105-01-01\\\",\\\"regions\\\":\\\"MAF\\\",\\\"income\\\":\\\"5624.670054316051\\\"},{\\\"time\\\":\\\"2105-01-01\\\",\\\"regions\\\":\\\"SSA\\\",\\\"income\\\":\\\"10311.425508631604\\\"},{\\\"time\\\":\\\"2105-01-01\\\",\\\"regions\\\":\\\"SIS\\\",\\\"income\\\":\\\"970.5855452651899\\\"},{\\\"time\\\":\\\"2106-01-01\\\",\\\"regions\\\":\\\"USA\\\",\\\"income\\\":\\\"36906.939108279614\\\"},{\\\"time\\\":\\\"2106-01-01\\\",\\\"regions\\\":\\\"CAN\\\",\\\"income\\\":\\\"2943.5353823138043\\\"},{\\\"time\\\":\\\"2106-01-01\\\",\\\"regions\\\":\\\"WEU\\\",\\\"income\\\":\\\"39947.392921266844\\\"},{\\\"time\\\":\\\"2106-01-01\\\",\\\"regions\\\":\\\"JPK\\\",\\\"income\\\":\\\"31476.291130576235\\\"},{\\\"time\\\":\\\"2106-01-01\\\",\\\"regions\\\":\\\"ANZ\\\",\\\"income\\\":\\\"2700.0098759048537\\\"},{\\\"time\\\":\\\"2106-01-01\\\",\\\"regions\\\":\\\"EEU\\\",\\\"income\\\":\\\"4020.1839369606237\\\"},{\\\"time\\\":\\\"2106-01-01\\\",\\\"regions\\\":\\\"FSU\\\",\\\"income\\\":\\\"5360.944695826794\\\"},{\\\"time\\\":\\\"2106-01-01\\\",\\\"regions\\\":\\\"MDE\\\",\\\"income\\\":\\\"17130.23140033208\\\"},{\\\"time\\\":\\\"2106-01-01\\\",\\\"regions\\\":\\\"CAM\\\",\\\"income\\\":\\\"7644.506656954937\\\"},{\\\"time\\\":\\\"2106-01-01\\\",\\\"regions\\\":\\\"LAM\\\",\\\"income\\\":\\\"26268.290670169787\\\"},{\\\"time\\\":\\\"2106-01-01\\\",\\\"regions\\\":\\\"SAS\\\",\\\"income\\\":\\\"14945.765589986999\\\"},{\\\"time\\\":\\\"2106-01-01\\\",\\\"regions\\\":\\\"SEA\\\",\\\"income\\\":\\\"20091.973233187524\\\"},{\\\"time\\\":\\\"2106-01-01\\\",\\\"regions\\\":\\\"CHI\\\",\\\"income\\\":\\\"32756.246160435345\\\"},{\\\"time\\\":\\\"2106-01-01\\\",\\\"regions\\\":\\\"MAF\\\",\\\"income\\\":\\\"5728.053839785688\\\"},{\\\"time\\\":\\\"2106-01-01\\\",\\\"regions\\\":\\\"SSA\\\",\\\"income\\\":\\\"10509.214268917647\\\"},{\\\"time\\\":\\\"2106-01-01\\\",\\\"regions\\\":\\\"SIS\\\",\\\"income\\\":\\\"989.2058857064119\\\"},{\\\"time\\\":\\\"2107-01-01\\\",\\\"regions\\\":\\\"USA\\\",\\\"income\\\":\\\"37188.32007446411\\\"},{\\\"time\\\":\\\"2107-01-01\\\",\\\"regions\\\":\\\"CAN\\\",\\\"income\\\":\\\"2966.2926347882185\\\"},{\\\"time\\\":\\\"2107-01-01\\\",\\\"regions\\\":\\\"WEU\\\",\\\"income\\\":\\\"40247.61270474865\\\"},{\\\"time\\\":\\\"2107-01-01\\\",\\\"regions\\\":\\\"JPK\\\",\\\"income\\\":\\\"31724.732177120586\\\"},{\\\"time\\\":\\\"2107-01-01\\\",\\\"regions\\\":\\\"ANZ\\\",\\\"income\\\":\\\"2721.1958724886535\\\"},{\\\"time\\\":\\\"2107-01-01\\\",\\\"regions\\\":\\\"EEU\\\",\\\"income\\\":\\\"4058.345762754926\\\"},{\\\"time\\\":\\\"2107-01-01\\\",\\\"regions\\\":\\\"FSU\\\",\\\"income\\\":\\\"5405.2276685682655\\\"},{\\\"time\\\":\\\"2107-01-01\\\",\\\"regions\\\":\\\"MDE\\\",\\\"income\\\":\\\"17458.809084875837\\\"},{\\\"time\\\":\\\"2107-01-01\\\",\\\"regions\\\":\\\"CAM\\\",\\\"income\\\":\\\"7787.304607614752\\\"},{\\\"time\\\":\\\"2107-01-01\\\",\\\"regions\\\":\\\"LAM\\\",\\\"income\\\":\\\"26759.1797984162\\\"},{\\\"time\\\":\\\"2107-01-01\\\",\\\"regions\\\":\\\"SAS\\\",\\\"income\\\":\\\"15226.90620272542\\\"},{\\\"time\\\":\\\"2107-01-01\\\",\\\"regions\\\":\\\"SEA\\\",\\\"income\\\":\\\"20466.625111545778\\\"},{\\\"time\\\":\\\"2107-01-01\\\",\\\"regions\\\":\\\"CHI\\\",\\\"income\\\":\\\"33371.56623402962\\\"},{\\\"time\\\":\\\"2107-01-01\\\",\\\"regions\\\":\\\"MAF\\\",\\\"income\\\":\\\"5831.7941509321945\\\"},{\\\"time\\\":\\\"2107-01-01\\\",\\\"regions\\\":\\\"SSA\\\",\\\"income\\\":\\\"10708.06600505123\\\"},{\\\"time\\\":\\\"2107-01-01\\\",\\\"regions\\\":\\\"SIS\\\",\\\"income\\\":\\\"1007.980580976628\\\"},{\\\"time\\\":\\\"2108-01-01\\\",\\\"regions\\\":\\\"USA\\\",\\\"income\\\":\\\"37470.21169984765\\\"},{\\\"time\\\":\\\"2108-01-01\\\",\\\"regions\\\":\\\"CAN\\\",\\\"income\\\":\\\"2989.0963022424776\\\"},{\\\"time\\\":\\\"2108-01-01\\\",\\\"regions\\\":\\\"WEU\\\",\\\"income\\\":\\\"40548.18704195814\\\"},{\\\"time\\\":\\\"2108-01-01\\\",\\\"regions\\\":\\\"JPK\\\",\\\"income\\\":\\\"31973.761928194035\\\"},{\\\"time\\\":\\\"2108-01-01\\\",\\\"regions\\\":\\\"ANZ\\\",\\\"income\\\":\\\"2742.4294190675582\\\"},{\\\"time\\\":\\\"2108-01-01\\\",\\\"regions\\\":\\\"EEU\\\",\\\"income\\\":\\\"4096.670406977483\\\"},{\\\"time\\\":\\\"2108-01-01\\\",\\\"regions\\\":\\\"FSU\\\",\\\"income\\\":\\\"5449.515191691596\\\"},{\\\"time\\\":\\\"2108-01-01\\\",\\\"regions\\\":\\\"MDE\\\",\\\"income\\\":\\\"17789.141551858742\\\"},{\\\"time\\\":\\\"2108-01-01\\\",\\\"regions\\\":\\\"CAM\\\",\\\"income\\\":\\\"7931.1355275375045\\\"},{\\\"time\\\":\\\"2108-01-01\\\",\\\"regions\\\":\\\"LAM\\\",\\\"income\\\":\\\"27253.8126945661\\\"},{\\\"time\\\":\\\"2108-01-01\\\",\\\"regions\\\":\\\"SAS\\\",\\\"income\\\":\\\"15509.35138505414\\\"},{\\\"time\\\":\\\"2108-01-01\\\",\\\"regions\\\":\\\"SEA\\\",\\\"income\\\":\\\"20842.926204047195\\\"},{\\\"time\\\":\\\"2108-01-01\\\",\\\"regions\\\":\\\"CHI\\\",\\\"income\\\":\\\"33991.14294746233\\\"},{\\\"time\\\":\\\"2108-01-01\\\",\\\"regions\\\":\\\"MAF\\\",\\\"income\\\":\\\"5935.842479481789\\\"},{\\\"time\\\":\\\"2108-01-01\\\",\\\"regions\\\":\\\"SSA\\\",\\\"income\\\":\\\"10907.898467358173\\\"},{\\\"time\\\":\\\"2108-01-01\\\",\\\"regions\\\":\\\"SIS\\\",\\\"income\\\":\\\"1026.9048576950076\\\"},{\\\"time\\\":\\\"2109-01-01\\\",\\\"regions\\\":\\\"USA\\\",\\\"income\\\":\\\"37752.59276913776\\\"},{\\\"time\\\":\\\"2109-01-01\\\",\\\"regions\\\":\\\"CAN\\\",\\\"income\\\":\\\"3011.944669180496\\\"},{\\\"time\\\":\\\"2109-01-01\\\",\\\"regions\\\":\\\"WEU\\\",\\\"income\\\":\\\"40849.088885586156\\\"},{\\\"time\\\":\\\"2109-01-01\\\",\\\"regions\\\":\\\"JPK\\\",\\\"income\\\":\\\"32223.361248987872\\\"},{\\\"time\\\":\\\"2109-01-01\\\",\\\"regions\\\":\\\"ANZ\\\",\\\"income\\\":\\\"2763.7088402670583\\\"},{\\\"time\\\":\\\"2109-01-01\\\",\\\"regions\\\":\\\"EEU\\\",\\\"income\\\":\\\"4135.155354422263\\\"},{\\\"time\\\":\\\"2109-01-01\\\",\\\"regions\\\":\\\"FSU\\\",\\\"income\\\":\\\"5493.801031047263\\\"},{\\\"time\\\":\\\"2109-01-01\\\",\\\"regions\\\":\\\"MDE\\\",\\\"income\\\":\\\"18121.08995945971\\\"},{\\\"time\\\":\\\"2109-01-01\\\",\\\"regions\\\":\\\"CAM\\\",\\\"income\\\":\\\"8075.957873556973\\\"},{\\\"time\\\":\\\"2109-01-01\\\",\\\"regions\\\":\\\"LAM\\\",\\\"income\\\":\\\"27752.05899553635\\\"},{\\\"time\\\":\\\"2109-01-01\\\",\\\"regions\\\":\\\"SAS\\\",\\\"income\\\":\\\"15792.977434810446\\\"},{\\\"time\\\":\\\"2109-01-01\\\",\\\"regions\\\":\\\"SEA\\\",\\\"income\\\":\\\"21220.71175217609\\\"},{\\\"time\\\":\\\"2109-01-01\\\",\\\"regions\\\":\\\"CHI\\\",\\\"income\\\":\\\"34614.78668188935\\\"},{\\\"time\\\":\\\"2109-01-01\\\",\\\"regions\\\":\\\"MAF\\\",\\\"income\\\":\\\"6040.149243152895\\\"},{\\\"time\\\":\\\"2109-01-01\\\",\\\"regions\\\":\\\"SSA\\\",\\\"income\\\":\\\"11108.62712055199\\\"},{\\\"time\\\":\\\"2109-01-01\\\",\\\"regions\\\":\\\"SIS\\\",\\\"income\\\":\\\"1045.973755262472\\\"},{\\\"time\\\":\\\"2110-01-01\\\",\\\"regions\\\":\\\"USA\\\",\\\"income\\\":\\\"38035.441890925664\\\"},{\\\"time\\\":\\\"2110-01-01\\\",\\\"regions\\\":\\\"CAN\\\",\\\"income\\\":\\\"3034.8360037852544\\\"},{\\\"time\\\":\\\"2110-01-01\\\",\\\"regions\\\":\\\"WEU\\\",\\\"income\\\":\\\"41150.29100493771\\\"},{\\\"time\\\":\\\"2110-01-01\\\",\\\"regions\\\":\\\"JPK\\\",\\\"income\\\":\\\"32473.51074087953\\\"},{\\\"time\\\":\\\"2110-01-01\\\",\\\"regions\\\":\\\"ANZ\\\",\\\"income\\\":\\\"2785.032438912869\\\"},{\\\"time\\\":\\\"2110-01-01\\\",\\\"regions\\\":\\\"EEU\\\",\\\"income\\\":\\\"4173.798044306266\\\"},{\\\"time\\\":\\\"2110-01-01\\\",\\\"regions\\\":\\\"FSU\\\",\\\"income\\\":\\\"5538.078935451106\\\"},{\\\"time\\\":\\\"2110-01-01\\\",\\\"regions\\\":\\\"MDE\\\",\\\"income\\\":\\\"18454.511560569623\\\"},{\\\"time\\\":\\\"2110-01-01\\\",\\\"regions\\\":\\\"CAM\\\",\\\"income\\\":\\\"8221.72869408918\\\"},{\\\"time\\\":\\\"2110-01-01\\\",\\\"regions\\\":\\\"LAM\\\",\\\"income\\\":\\\"28253.783745406457\\\"},{\\\"time\\\":\\\"2110-01-01\\\",\\\"regions\\\":\\\"SAS\\\",\\\"income\\\":\\\"16077.657411044931\\\"},{\\\"time\\\":\\\"2110-01-01\\\",\\\"regions\\\":\\\"SEA\\\",\\\"income\\\":\\\"21599.812855082735\\\"},{\\\"time\\\":\\\"2110-01-01\\\",\\\"regions\\\":\\\"CHI\\\",\\\"income\\\":\\\"35242.30183126513\\\"},{\\\"time\\\":\\\"2110-01-01\\\",\\\"regions\\\":\\\"MAF\\\",\\\"income\\\":\\\"6144.6638352978625\\\"},{\\\"time\\\":\\\"2110-01-01\\\",\\\"regions\\\":\\\"SSA\\\",\\\"income\\\":\\\"11310.165202713779\\\"},{\\\"time\\\":\\\"2110-01-01\\\",\\\"regions\\\":\\\"SIS\\\",\\\"income\\\":\\\"1065.1821285536978\\\"},{\\\"time\\\":\\\"2111-01-01\\\",\\\"regions\\\":\\\"USA\\\",\\\"income\\\":\\\"38318.73749762132\\\"},{\\\"time\\\":\\\"2111-01-01\\\",\\\"regions\\\":\\\"CAN\\\",\\\"income\\\":\\\"3057.7685579649797\\\"},{\\\"time\\\":\\\"2111-01-01\\\",\\\"regions\\\":\\\"WEU\\\",\\\"income\\\":\\\"41451.765984108126\\\"},{\\\"time\\\":\\\"2111-01-01\\\",\\\"regions\\\":\\\"JPK\\\",\\\"income\\\":\\\"32724.190741086855\\\"},{\\\"time\\\":\\\"2111-01-01\\\",\\\"regions\\\":\\\"ANZ\\\",\\\"income\\\":\\\"2806.398496038901\\\"},{\\\"time\\\":\\\"2111-01-01\\\",\\\"regions\\\":\\\"EEU\\\",\\\"income\\\":\\\"4212.595869620607\\\"},{\\\"time\\\":\\\"2111-01-01\\\",\\\"regions\\\":\\\"FSU\\\",\\\"income\\\":\\\"5582.342634923339\\\"},{\\\"time\\\":\\\"2111-01-01\\\",\\\"regions\\\":\\\"MDE\\\",\\\"income\\\":\\\"18789.259775244736\\\"},{\\\"time\\\":\\\"2111-01-01\\\",\\\"regions\\\":\\\"CAM\\\",\\\"income\\\":\\\"8368.403637458197\\\"},{\\\"time\\\":\\\"2111-01-01\\\",\\\"regions\\\":\\\"LAM\\\",\\\"income\\\":\\\"28758.847417448946\\\"},{\\\"time\\\":\\\"2111-01-01\\\",\\\"regions\\\":\\\"SAS\\\",\\\"income\\\":\\\"16363.261203298782\\\"},{\\\"time\\\":\\\"2111-01-01\\\",\\\"regions\\\":\\\"SEA\\\",\\\"income\\\":\\\"21980.05656442774\\\"},{\\\"time\\\":\\\"2111-01-01\\\",\\\"regions\\\":\\\"CHI\\\",\\\"income\\\":\\\"35873.48684989967\\\"},{\\\"time\\\":\\\"2111-01-01\\\",\\\"regions\\\":\\\"MAF\\\",\\\"income\\\":\\\"6249.33465823325\\\"},{\\\"time\\\":\\\"2111-01-01\\\",\\\"regions\\\":\\\"SSA\\\",\\\"income\\\":\\\"11512.423771425625\\\"},{\\\"time\\\":\\\"2111-01-01\\\",\\\"regions\\\":\\\"SIS\\\",\\\"income\\\":\\\"1084.5246484874428\\\"},{\\\"time\\\":\\\"2112-01-01\\\",\\\"regions\\\":\\\"USA\\\",\\\"income\\\":\\\"38602.457856780704\\\"},{\\\"time\\\":\\\"2112-01-01\\\",\\\"regions\\\":\\\"CAN\\\",\\\"income\\\":\\\"3080.74056823558\\\"},{\\\"time\\\":\\\"2112-01-01\\\",\\\"regions\\\":\\\"WEU\\\",\\\"income\\\":\\\"41753.48624626715\\\"},{\\\"time\\\":\\\"2112-01-01\\\",\\\"regions\\\":\\\"JPK\\\",\\\"income\\\":\\\"32975.38133315916\\\"},{\\\"time\\\":\\\"2112-01-01\\\",\\\"regions\\\":\\\"ANZ\\\",\\\"income\\\":\\\"2827.8052717922587\\\"},{\\\"time\\\":\\\"2112-01-01\\\",\\\"regions\\\":\\\"EEU\\\",\\\"income\\\":\\\"4251.546179962591\\\"},{\\\"time\\\":\\\"2112-01-01\\\",\\\"regions\\\":\\\"FSU\\\",\\\"income\\\":\\\"5626.585851889886\\\"},{\\\"time\\\":\\\"2112-01-01\\\",\\\"regions\\\":\\\"MDE\\\",\\\"income\\\":\\\"19126.140588688653\\\"},{\\\"time\\\":\\\"2112-01-01\\\",\\\"regions\\\":\\\"CAM\\\",\\\"income\\\":\\\"8515.936968963992\\\"},{\\\"time\\\":\\\"2112-01-01\\\",\\\"regions\\\":\\\"LAM\\\",\\\"income\\\":\\\"29267.1059497581\\\"},{\\\"time\\\":\\\"2112-01-01\\\",\\\"regions\\\":\\\"SAS\\\",\\\"income\\\":\\\"16650.4881461261\\\"},{\\\"time\\\":\\\"2112-01-01\\\",\\\"regions\\\":\\\"SEA\\\",\\\"income\\\":\\\"22362.38412618375\\\"},{\\\"time\\\":\\\"2112-01-01\\\",\\\"regions\\\":\\\"CHI\\\",\\\"income\\\":\\\"36508.13436875994\\\"},{\\\"time\\\":\\\"2112-01-01\\\",\\\"regions\\\":\\\"MAF\\\",\\\"income\\\":\\\"6354.109170392828\\\"},{\\\"time\\\":\\\"2112-01-01\\\",\\\"regions\\\":\\\"SSA\\\",\\\"income\\\":\\\"11715.311763876965\\\"},{\\\"time\\\":\\\"2112-01-01\\\",\\\"regions\\\":\\\"SIS\\\",\\\"income\\\":\\\"1103.9958034261\\\"},{\\\"time\\\":\\\"2113-01-01\\\",\\\"regions\\\":\\\"USA\\\",\\\"income\\\":\\\"38886.581078078205\\\"},{\\\"time\\\":\\\"2113-01-01\\\",\\\"regions\\\":\\\"CAN\\\",\\\"income\\\":\\\"3103.7502568411023\\\"},{\\\"time\\\":\\\"2113-01-01\\\",\\\"regions\\\":\\\"WEU\\\",\\\"income\\\":\\\"42055.42405974653\\\"},{\\\"time\\\":\\\"2113-01-01\\\",\\\"regions\\\":\\\"JPK\\\",\\\"income\\\":\\\"33227.06234954455\\\"},{\\\"time\\\":\\\"2113-01-01\\\",\\\"regions\\\":\\\"ANZ\\\",\\\"income\\\":\\\"2849.2510064146786\\\"},{\\\"time\\\":\\\"2113-01-01\\\",\\\"regions\\\":\\\"EEU\\\",\\\"income\\\":\\\"4290.646281440645\\\"},{\\\"time\\\":\\\"2113-01-01\\\",\\\"regions\\\":\\\"FSU\\\",\\\"income\\\":\\\"5670.802301253029\\\"},{\\\"time\\\":\\\"2113-01-01\\\",\\\"regions\\\":\\\"MDE\\\",\\\"income\\\":\\\"19465.05077561458\\\"},{\\\"time\\\":\\\"2113-01-01\\\",\\\"regions\\\":\\\"CAM\\\",\\\"income\\\":\\\"8664.28158376262\\\"},{\\\"time\\\":\\\"2113-01-01\\\",\\\"regions\\\":\\\"LAM\\\",\\\"income\\\":\\\"29778.410778788988\\\"},{\\\"time\\\":\\\"2113-01-01\\\",\\\"regions\\\":\\\"SAS\\\",\\\"income\\\":\\\"16939.245333904226\\\"},{\\\"time\\\":\\\"2113-01-01\\\",\\\"regions\\\":\\\"SEA\\\",\\\"income\\\":\\\"22746.672445866436\\\"},{\\\"time\\\":\\\"2113-01-01\\\",\\\"regions\\\":\\\"CHI\\\",\\\"income\\\":\\\"37146.03126815124\\\"},{\\\"time\\\":\\\"2113-01-01\\\",\\\"regions\\\":\\\"MAF\\\",\\\"income\\\":\\\"6458.933925081487\\\"},{\\\"time\\\":\\\"2113-01-01\\\",\\\"regions\\\":\\\"SSA\\\",\\\"income\\\":\\\"11918.736051821745\\\"},{\\\"time\\\":\\\"2113-01-01\\\",\\\"regions\\\":\\\"SIS\\\",\\\"income\\\":\\\"1123.5899002720787\\\"},{\\\"time\\\":\\\"2114-01-01\\\",\\\"regions\\\":\\\"USA\\\",\\\"income\\\":\\\"39171.08511290319\\\"},{\\\"time\\\":\\\"2114-01-01\\\",\\\"regions\\\":\\\"CAN\\\",\\\"income\\\":\\\"3126.795830674918\\\"},{\\\"time\\\":\\\"2114-01-01\\\",\\\"regions\\\":\\\"WEU\\\",\\\"income\\\":\\\"42357.55155280273\\\"},{\\\"time\\\":\\\"2114-01-01\\\",\\\"regions\\\":\\\"JPK\\\",\\\"income\\\":\\\"33479.21338108226\\\"},{\\\"time\\\":\\\"2114-01-01\\\",\\\"regions\\\":\\\"ANZ\\\",\\\"income\\\":\\\"2870.7339195672944\\\"},{\\\"time\\\":\\\"2114-01-01\\\",\\\"regions\\\":\\\"EEU\\\",\\\"income\\\":\\\"4329.893439332946\\\"},{\\\"time\\\":\\\"2114-01-01\\\",\\\"regions\\\":\\\"FSU\\\",\\\"income\\\":\\\"5714.985700288815\\\"},{\\\"time\\\":\\\"2114-01-01\\\",\\\"regions\\\":\\\"MDE\\\",\\\"income\\\":\\\"19805.883977622085\\\"},{\\\"time\\\":\\\"2114-01-01\\\",\\\"regions\\\":\\\"CAM\\\",\\\"income\\\":\\\"8813.38902724248\\\"},{\\\"time\\\":\\\"2114-01-01\\\",\\\"regions\\\":\\\"LAM\\\",\\\"income\\\":\\\"30292.608884987345\\\"},{\\\"time\\\":\\\"2114-01-01\\\",\\\"regions\\\":\\\"SAS\\\",\\\"income\\\":\\\"17229.437222466942\\\"},{\\\"time\\\":\\\"2114-01-01\\\",\\\"regions\\\":\\\"SEA\\\",\\\"income\\\":\\\"23132.795085376612\\\"},{\\\"time\\\":\\\"2114-01-01\\\",\\\"regions\\\":\\\"CHI\\\",\\\"income\\\":\\\"37786.95880921427\\\"},{\\\"time\\\":\\\"2114-01-01\\\",\\\"regions\\\":\\\"MAF\\\",\\\"income\\\":\\\"6563.7546201762525\\\"},{\\\"time\\\":\\\"2114-01-01\\\",\\\"regions\\\":\\\"SSA\\\",\\\"income\\\":\\\"12122.601508123154\\\"},{\\\"time\\\":\\\"2114-01-01\\\",\\\"regions\\\":\\\"SIS\\\",\\\"income\\\":\\\"1143.3010663321575\\\"},{\\\"time\\\":\\\"2115-01-01\\\",\\\"regions\\\":\\\"USA\\\",\\\"income\\\":\\\"39455.94776274762\\\"},{\\\"time\\\":\\\"2115-01-01\\\",\\\"regions\\\":\\\"CAN\\\",\\\"income\\\":\\\"3149.875482502379\\\"},{\\\"time\\\":\\\"2115-01-01\\\",\\\"regions\\\":\\\"WEU\\\",\\\"income\\\":\\\"42659.84072303835\\\"},{\\\"time\\\":\\\"2115-01-01\\\",\\\"regions\\\":\\\"JPK\\\",\\\"income\\\":\\\"33731.81378125354\\\"},{\\\"time\\\":\\\"2115-01-01\\\",\\\"regions\\\":\\\"ANZ\\\",\\\"income\\\":\\\"2892.2522114431\\\"},{\\\"time\\\":\\\"2115-01-01\\\",\\\"regions\\\":\\\"EEU\\\",\\\"income\\\":\\\"4369.284878490262\\\"},{\\\"time\\\":\\\"2115-01-01\\\",\\\"regions\\\":\\\"FSU\\\",\\\"income\\\":\\\"5759.12977037244\\\"},{\\\"time\\\":\\\"2115-01-01\\\",\\\"regions\\\":\\\"MDE\\\",\\\"income\\\":\\\"20148.530741939663\\\"},{\\\"time\\\":\\\"2115-01-01\\\",\\\"regions\\\":\\\"CAM\\\",\\\"income\\\":\\\"8963.20951241752\\\"},{\\\"time\\\":\\\"2115-01-01\\\",\\\"regions\\\":\\\"LAM\\\",\\\"income\\\":\\\"30809.542837888588\\\"},{\\\"time\\\":\\\"2115-01-01\\\",\\\"regions\\\":\\\"SAS\\\",\\\"income\\\":\\\"17520.96570385433\\\"},{\\\"time\\\":\\\"2115-01-01\\\",\\\"regions\\\":\\\"SEA\\\",\\\"income\\\":\\\"23520.62234991378\\\"},{\\\"time\\\":\\\"2115-01-01\\\",\\\"regions\\\":\\\"CHI\\\",\\\"income\\\":\\\"38430.69273058222\\\"},{\\\"time\\\":\\\"2115-01-01\\\",\\\"regions\\\":\\\"MAF\\\",\\\"income\\\":\\\"6668.516142004108\\\"},{\\\"time\\\":\\\"2115-01-01\\\",\\\"regions\\\":\\\"SSA\\\",\\\"income\\\":\\\"12326.811070313199\\\"},{\\\"time\\\":\\\"2115-01-01\\\",\\\"regions\\\":\\\"SIS\\\",\\\"income\\\":\\\"1163.1232509345941\\\"},{\\\"time\\\":\\\"2116-01-01\\\",\\\"regions\\\":\\\"USA\\\",\\\"income\\\":\\\"39741.14668585923\\\"},{\\\"time\\\":\\\"2116-01-01\\\",\\\"regions\\\":\\\"CAN\\\",\\\"income\\\":\\\"3172.987391514553\\\"},{\\\"time\\\":\\\"2116-01-01\\\",\\\"regions\\\":\\\"WEU\\\",\\\"income\\\":\\\"42962.263451030725\\\"},{\\\"time\\\":\\\"2116-01-01\\\",\\\"regions\\\":\\\"JPK\\\",\\\"income\\\":\\\"33984.84267309888\\\"},{\\\"time\\\":\\\"2116-01-01\\\",\\\"regions\\\":\\\"ANZ\\\",\\\"income\\\":\\\"2913.804063373166\\\"},{\\\"time\\\":\\\"2116-01-01\\\",\\\"regions\\\":\\\"EEU\\\",\\\"income\\\":\\\"4408.817784851455\\\"},{\\\"time\\\":\\\"2116-01-01\\\",\\\"regions\\\":\\\"FSU\\\",\\\"income\\\":\\\"5803.228242735205\\\"},{\\\"time\\\":\\\"2116-01-01\\\",\\\"regions\\\":\\\"MDE\\\",\\\"income\\\":\\\"20492.878563624232\\\"},{\\\"time\\\":\\\"2116-01-01\\\",\\\"regions\\\":\\\"CAM\\\",\\\"income\\\":\\\"9113.69194136213\\\"},{\\\"time\\\":\\\"2116-01-01\\\",\\\"regions\\\":\\\"LAM\\\",\\\"income\\\":\\\"31329.050849166983\\\"},{\\\"time\\\":\\\"2116-01-01\\\",\\\"regions\\\":\\\"SAS\\\",\\\"income\\\":\\\"17813.730150625306\\\"},{\\\"time\\\":\\\"2116-01-01\\\",\\\"regions\\\":\\\"SEA\\\",\\\"income\\\":\\\"23910.02134828189\\\"},{\\\"time\\\":\\\"2116-01-01\\\",\\\"regions\\\":\\\"CHI\\\",\\\"income\\\":\\\"39077.00337217476\\\"},{\\\"time\\\":\\\"2116-01-01\\\",\\\"regions\\\":\\\"MAF\\\",\\\"income\\\":\\\"6773.162614687448\\\"},{\\\"time\\\":\\\"2116-01-01\\\",\\\"regions\\\":\\\"SSA\\\",\\\"income\\\":\\\"12531.26581096762\\\"},{\\\"time\\\":\\\"2116-01-01\\\",\\\"regions\\\":\\\"SIS\\\",\\\"income\\\":\\\"1183.0502274637226\\\"},{\\\"time\\\":\\\"2117-01-01\\\",\\\"regions\\\":\\\"USA\\\",\\\"income\\\":\\\"40026.65940213761\\\"},{\\\"time\\\":\\\"2117-01-01\\\",\\\"regions\\\":\\\"CAN\\\",\\\"income\\\":\\\"3196.1297237533163\\\"},{\\\"time\\\":\\\"2117-01-01\\\",\\\"regions\\\":\\\"WEU\\\",\\\"income\\\":\\\"43264.79150993194\\\"},{\\\"time\\\":\\\"2117-01-01\\\",\\\"regions\\\":\\\"JPK\\\",\\\"income\\\":\\\"34238.278954618916\\\"},{\\\"time\\\":\\\"2117-01-01\\\",\\\"regions\\\":\\\"ANZ\\\",\\\"income\\\":\\\"2935.3876383056586\\\"},{\\\"time\\\":\\\"2117-01-01\\\",\\\"regions\\\":\\\"EEU\\\",\\\"income\\\":\\\"4448.4893064388625\\\"},{\\\"time\\\":\\\"2117-01-01\\\",\\\"regions\\\":\\\"FSU\\\",\\\"income\\\":\\\"5847.274862184737\\\"},{\\\"time\\\":\\\"2117-01-01\\\",\\\"regions\\\":\\\"MDE\\\",\\\"income\\\":\\\"20838.811929830357\\\"},{\\\"time\\\":\\\"2117-01-01\\\",\\\"regions\\\":\\\"CAM\\\",\\\"income\\\":\\\"9264.783927311335\\\"},{\\\"time\\\":\\\"2117-01-01\\\",\\\"regions\\\":\\\"LAM\\\",\\\"income\\\":\\\"31850.96682962665\\\"},{\\\"time\\\":\\\"2117-01-01\\\",\\\"regions\\\":\\\"SAS\\\",\\\"income\\\":\\\"18107.62746120947\\\"},{\\\"time\\\":\\\"2117-01-01\\\",\\\"regions\\\":\\\"SEA\\\",\\\"income\\\":\\\"24300.85605422134\\\"},{\\\"time\\\":\\\"2117-01-01\\\",\\\"regions\\\":\\\"CHI\\\",\\\"income\\\":\\\"39725.6557970539\\\"},{\\\"time\\\":\\\"2117-01-01\\\",\\\"regions\\\":\\\"MAF\\\",\\\"income\\\":\\\"6877.637449219603\\\"},{\\\"time\\\":\\\"2117-01-01\\\",\\\"regions\\\":\\\"SSA\\\",\\\"income\\\":\\\"12735.86500993057\\\"},{\\\"time\\\":\\\"2117-01-01\\\",\\\"regions\\\":\\\"SIS\\\",\\\"income\\\":\\\"1203.0755955190866\\\"},{\\\"time\\\":\\\"2118-01-01\\\",\\\"regions\\\":\\\"USA\\\",\\\"income\\\":\\\"40312.46330185442\\\"},{\\\"time\\\":\\\"2118-01-01\\\",\\\"regions\\\":\\\"CAN\\\",\\\"income\\\":\\\"3219.3006328274378\\\"},{\\\"time\\\":\\\"2118-01-01\\\",\\\"regions\\\":\\\"WEU\\\",\\\"income\\\":\\\"43567.396583795155\\\"},{\\\"time\\\":\\\"2118-01-01\\\",\\\"regions\\\":\\\"JPK\\\",\\\"income\\\":\\\"34492.10130800411\\\"},{\\\"time\\\":\\\"2118-01-01\\\",\\\"regions\\\":\\\"ANZ\\\",\\\"income\\\":\\\"2957.001081606469\\\"},{\\\"time\\\":\\\"2118-01-01\\\",\\\"regions\\\":\\\"EEU\\\",\\\"income\\\":\\\"4488.296555562702\\\"},{\\\"time\\\":\\\"2118-01-01\\\",\\\"regions\\\":\\\"FSU\\\",\\\"income\\\":\\\"5891.2633951564385\\\"},{\\\"time\\\":\\\"2118-01-01\\\",\\\"regions\\\":\\\"MDE\\\",\\\"income\\\":\\\"21186.212372470854\\\"},{\\\"time\\\":\\\"2118-01-01\\\",\\\"regions\\\":\\\"CAM\\\",\\\"income\\\":\\\"9416.431821098378\\\"},{\\\"time\\\":\\\"2118-01-01\\\",\\\"regions\\\":\\\"LAM\\\",\\\"income\\\":\\\"32375.120454464526\\\"},{\\\"time\\\":\\\"2118-01-01\\\",\\\"regions\\\":\\\"SAS\\\",\\\"income\\\":\\\"18402.552114233094\\\"},{\\\"time\\\":\\\"2118-01-01\\\",\\\"regions\\\":\\\"SEA\\\",\\\"income\\\":\\\"24692.98737930859\\\"},{\\\"time\\\":\\\"2118-01-01\\\",\\\"regions\\\":\\\"CHI\\\",\\\"income\\\":\\\"40376.40994251716\\\"},{\\\"time\\\":\\\"2118-01-01\\\",\\\"regions\\\":\\\"MAF\\\",\\\"income\\\":\\\"6981.883398280311\\\"},{\\\"time\\\":\\\"2118-01-01\\\",\\\"regions\\\":\\\"SSA\\\",\\\"income\\\":\\\"12940.506233602897\\\"},{\\\"time\\\":\\\"2118-01-01\\\",\\\"regions\\\":\\\"SIS\\\",\\\"income\\\":\\\"1223.192783516259\\\"},{\\\"time\\\":\\\"2119-01-01\\\",\\\"regions\\\":\\\"USA\\\",\\\"income\\\":\\\"40598.53564882972\\\"},{\\\"time\\\":\\\"2119-01-01\\\",\\\"regions\\\":\\\"CAN\\\",\\\"income\\\":\\\"3242.49826021407\\\"},{\\\"time\\\":\\\"2119-01-01\\\",\\\"regions\\\":\\\"WEU\\\",\\\"income\\\":\\\"43870.05027319961\\\"},{\\\"time\\\":\\\"2119-01-01\\\",\\\"regions\\\":\\\"JPK\\\",\\\"income\\\":\\\"34746.288203669734\\\"},{\\\"time\\\":\\\"2119-01-01\\\",\\\"regions\\\":\\\"ANZ\\\",\\\"income\\\":\\\"2978.6425214238093\\\"},{\\\"time\\\":\\\"2119-01-01\\\",\\\"regions\\\":\\\"EEU\\\",\\\"income\\\":\\\"4528.23660932839\\\"},{\\\"time\\\":\\\"2119-01-01\\\",\\\"regions\\\":\\\"FSU\\\",\\\"income\\\":\\\"5935.187631418945\\\"},{\\\"time\\\":\\\"2119-01-01\\\",\\\"regions\\\":\\\"MDE\\\",\\\"income\\\":\\\"21534.958518618918\\\"},{\\\"time\\\":\\\"2119-01-01\\\",\\\"regions\\\":\\\"CAM\\\",\\\"income\\\":\\\"9568.580735736541\\\"},{\\\"time\\\":\\\"2119-01-01\\\",\\\"regions\\\":\\\"LAM\\\",\\\"income\\\":\\\"32901.33722956524\\\"},{\\\"time\\\":\\\"2119-01-01\\\",\\\"regions\\\":\\\"SAS\\\",\\\"income\\\":\\\"18698.396218415408\\\"},{\\\"time\\\":\\\"2119-01-01\\\",\\\"regions\\\":\\\"SEA\\\",\\\"income\\\":\\\"25086.27323962731\\\"},{\\\"time\\\":\\\"2119-01-01\\\",\\\"regions\\\":\\\"CHI\\\",\\\"income\\\":\\\"41029.020747710034\\\"},{\\\"time\\\":\\\"2119-01-01\\\",\\\"regions\\\":\\\"MAF\\\",\\\"income\\\":\\\"7085.842606528194\\\"},{\\\"time\\\":\\\"2119-01-01\\\",\\\"regions\\\":\\\"SSA\\\",\\\"income\\\":\\\"13145.085412361395\\\"},{\\\"time\\\":\\\"2119-01-01\\\",\\\"regions\\\":\\\"SIS\\\",\\\"income\\\":\\\"1243.3950511961757\\\"},{\\\"time\\\":\\\"2120-01-01\\\",\\\"regions\\\":\\\"USA\\\",\\\"income\\\":\\\"40884.85358915017\\\"},{\\\"time\\\":\\\"2120-01-01\\\",\\\"regions\\\":\\\"CAN\\\",\\\"income\\\":\\\"3265.7207359821414\\\"},{\\\"time\\\":\\\"2120-01-01\\\",\\\"regions\\\":\\\"WEU\\\",\\\"income\\\":\\\"44172.724113536504\\\"},{\\\"time\\\":\\\"2120-01-01\\\",\\\"regions\\\":\\\"JPK\\\",\\\"income\\\":\\\"35000.81790979144\\\"},{\\\"time\\\":\\\"2120-01-01\\\",\\\"regions\\\":\\\"ANZ\\\",\\\"income\\\":\\\"3000.3100695153394\\\"},{\\\"time\\\":\\\"2120-01-01\\\",\\\"regions\\\":\\\"EEU\\\",\\\"income\\\":\\\"4568.306511891646\\\"},{\\\"time\\\":\\\"2120-01-01\\\",\\\"regions\\\":\\\"FSU\\\",\\\"income\\\":\\\"5979.041392069481\\\"},{\\\"time\\\":\\\"2120-01-01\\\",\\\"regions\\\":\\\"MDE\\\",\\\"income\\\":\\\"21884.926151306878\\\"},{\\\"time\\\":\\\"2120-01-01\\\",\\\"regions\\\":\\\"CAM\\\",\\\"income\\\":\\\"9721.174576493187\\\"},{\\\"time\\\":\\\"2120-01-01\\\",\\\"regions\\\":\\\"LAM\\\",\\\"income\\\":\\\"33429.43856742256\\\"},{\\\"time\\\":\\\"2120-01-01\\\",\\\"regions\\\":\\\"SAS\\\",\\\"income\\\":\\\"18995.04957392654\\\"},{\\\"time\\\":\\\"2120-01-01\\\",\\\"regions\\\":\\\"SEA\\\",\\\"income\\\":\\\"25480.568637250708\\\"},{\\\"time\\\":\\\"2120-01-01\\\",\\\"regions\\\":\\\"CHI\\\",\\\"income\\\":\\\"41683.23832004623\\\"},{\\\"time\\\":\\\"2120-01-01\\\",\\\"regions\\\":\\\"MAF\\\",\\\"income\\\":\\\"7189.4566683805015\\\"},{\\\"time\\\":\\\"2120-01-01\\\",\\\"regions\\\":\\\"SSA\\\",\\\"income\\\":\\\"13349.496926541196\\\"},{\\\"time\\\":\\\"2120-01-01\\\",\\\"regions\\\":\\\"SIS\\\",\\\"income\\\":\\\"1263.6754926770302\\\"},{\\\"time\\\":\\\"2121-01-01\\\",\\\"regions\\\":\\\"USA\\\",\\\"income\\\":\\\"41171.394156974326\\\"},{\\\"time\\\":\\\"2121-01-01\\\",\\\"regions\\\":\\\"CAN\\\",\\\"income\\\":\\\"3288.966179298806\\\"},{\\\"time\\\":\\\"2121-01-01\\\",\\\"regions\\\":\\\"WEU\\\",\\\"income\\\":\\\"44475.38958659925\\\"},{\\\"time\\\":\\\"2121-01-01\\\",\\\"regions\\\":\\\"JPK\\\",\\\"income\\\":\\\"35255.66849917001\\\"},{\\\"time\\\":\\\"2121-01-01\\\",\\\"regions\\\":\\\"ANZ\\\",\\\"income\\\":\\\"3022.001821851408\\\"},{\\\"time\\\":\\\"2121-01-01\\\",\\\"regions\\\":\\\"EEU\\\",\\\"income\\\":\\\"4608.50327583278\\\"},{\\\"time\\\":\\\"2121-01-01\\\",\\\"regions\\\":\\\"FSU\\\",\\\"income\\\":\\\"6022.818534182721\\\"},{\\\"time\\\":\\\"2121-01-01\\\",\\\"regions\\\":\\\"MDE\\\",\\\"income\\\":\\\"22235.988271054026\\\"},{\\\"time\\\":\\\"2121-01-01\\\",\\\"regions\\\":\\\"CAM\\\",\\\"income\\\":\\\"9874.156070839641\\\"},{\\\"time\\\":\\\"2121-01-01\\\",\\\"regions\\\":\\\"LAM\\\",\\\"income\\\":\\\"33959.24186613624\\\"},{\\\"time\\\":\\\"2121-01-01\\\",\\\"regions\\\":\\\"SAS\\\",\\\"income\\\":\\\"19292.39973305431\\\"},{\\\"time\\\":\\\"2121-01-01\\\",\\\"regions\\\":\\\"SEA\\\",\\\"income\\\":\\\"25875.72574044324\\\"},{\\\"time\\\":\\\"2121-01-01\\\",\\\"regions\\\":\\\"CHI\\\",\\\"income\\\":\\\"42338.80809277928\\\"},{\\\"time\\\":\\\"2121-01-01\\\",\\\"regions\\\":\\\"MAF\\\",\\\"income\\\":\\\"7292.666684001319\\\"},{\\\"time\\\":\\\"2121-01-01\\\",\\\"regions\\\":\\\"SSA\\\",\\\"income\\\":\\\"13553.63369289115\\\"},{\\\"time\\\":\\\"2121-01-01\\\",\\\"regions\\\":\\\"SIS\\\",\\\"income\\\":\\\"1284.0270395649939\\\"},{\\\"time\\\":\\\"2122-01-01\\\",\\\"regions\\\":\\\"USA\\\",\\\"income\\\":\\\"41458.13427588587\\\"},{\\\"time\\\":\\\"2122-01-01\\\",\\\"regions\\\":\\\"CAN\\\",\\\"income\\\":\\\"3312.2326985967943\\\"},{\\\"time\\\":\\\"2122-01-01\\\",\\\"regions\\\":\\\"WEU\\\",\\\"income\\\":\\\"44778.018121972214\\\"},{\\\"time\\\":\\\"2122-01-01\\\",\\\"regions\\\":\\\"JPK\\\",\\\"income\\\":\\\"35510.817851816435\\\"},{\\\"time\\\":\\\"2122-01-01\\\",\\\"regions\\\":\\\"ANZ\\\",\\\"income\\\":\\\"3043.7158588560187\\\"},{\\\"time\\\":\\\"2122-01-01\\\",\\\"regions\\\":\\\"EEU\\\",\\\"income\\\":\\\"4648.82388214689\\\"},{\\\"time\\\":\\\"2122-01-01\\\",\\\"regions\\\":\\\"FSU\\\",\\\"income\\\":\\\"6066.512950357217\\\"},{\\\"time\\\":\\\"2122-01-01\\\",\\\"regions\\\":\\\"MDE\\\",\\\"income\\\":\\\"22588.015155998903\\\"},{\\\"time\\\":\\\"2122-01-01\\\",\\\"regions\\\":\\\"CAM\\\",\\\"income\\\":\\\"10027.466797053783\\\"},{\\\"time\\\":\\\"2122-01-01\\\",\\\"regions\\\":\\\"LAM\\\",\\\"income\\\":\\\"34490.560590159854\\\"},{\\\"time\\\":\\\"2122-01-01\\\",\\\"regions\\\":\\\"SAS\\\",\\\"income\\\":\\\"19590.33205755778\\\"},{\\\"time\\\":\\\"2122-01-01\\\",\\\"regions\\\":\\\"SEA\\\",\\\"income\\\":\\\"26271.593959228823\\\"},{\\\"time\\\":\\\"2122-01-01\\\",\\\"regions\\\":\\\"CHI\\\",\\\"income\\\":\\\"42995.470963688495\\\"},{\\\"time\\\":\\\"2122-01-01\\\",\\\"regions\\\":\\\"MAF\\\",\\\"income\\\":\\\"7395.783100754748\\\"},{\\\"time\\\":\\\"2122-01-01\\\",\\\"regions\\\":\\\"SSA\\\",\\\"income\\\":\\\"13758.075153548125\\\"},{\\\"time\\\":\\\"2122-01-01\\\",\\\"regions\\\":\\\"SIS\\\",\\\"income\\\":\\\"1304.442464023292\\\"},{\\\"time\\\":\\\"2123-01-01\\\",\\\"regions\\\":\\\"USA\\\",\\\"income\\\":\\\"41745.05077616753\\\"},{\\\"time\\\":\\\"2123-01-01\\\",\\\"regions\\\":\\\"CAN\\\",\\\"income\\\":\\\"3335.5183932218106\\\"},{\\\"time\\\":\\\"2123-01-01\\\",\\\"regions\\\":\\\"WEU\\\",\\\"income\\\":\\\"45080.5811322108\\\"},{\\\"time\\\":\\\"2123-01-01\\\",\\\"regions\\\":\\\"JPK\\\",\\\"income\\\":\\\"35766.243666025\\\"},{\\\"time\\\":\\\"2123-01-01\\\",\\\"regions\\\":\\\"ANZ\\\",\\\"income\\\":\\\"3065.450247278603\\\"},{\\\"time\\\":\\\"2123-01-01\\\",\\\"regions\\\":\\\"EEU\\\",\\\"income\\\":\\\"4689.265282929211\\\"},{\\\"time\\\":\\\"2123-01-01\\\",\\\"regions\\\":\\\"FSU\\\",\\\"income\\\":\\\"6110.11857792592\\\"},{\\\"time\\\":\\\"2123-01-01\\\",\\\"regions\\\":\\\"MDE\\\",\\\"income\\\":\\\"22940.874436087495\\\"},{\\\"time\\\":\\\"2123-01-01\\\",\\\"regions\\\":\\\"CAM\\\",\\\"income\\\":\\\"10181.047220419614\\\"},{\\\"time\\\":\\\"2123-01-01\\\",\\\"regions\\\":\\\"LAM\\\",\\\"income\\\":\\\"35023.20436303417\\\"},{\\\"time\\\":\\\"2123-01-01\\\",\\\"regions\\\":\\\"SAS\\\",\\\"income\\\":\\\"19888.729792003374\\\"},{\\\"time\\\":\\\"2123-01-01\\\",\\\"regions\\\":\\\"SEA\\\",\\\"income\\\":\\\"26668.02004158596\\\"},{\\\"time\\\":\\\"2123-01-01\\\",\\\"regions\\\":\\\"CHI\\\",\\\"income\\\":\\\"43652.96348989032\\\"},{\\\"time\\\":\\\"2123-01-01\\\",\\\"regions\\\":\\\"MAF\\\",\\\"income\\\":\\\"7498.761635109237\\\"},{\\\"time\\\":\\\"2123-01-01\\\",\\\"regions\\\":\\\"SSA\\\",\\\"income\\\":\\\"13962.742243160488\\\"},{\\\"time\\\":\\\"2123-01-01\\\",\\\"regions\\\":\\\"SIS\\\",\\\"income\\\":\\\"1324.9143825645283\\\"},{\\\"time\\\":\\\"2124-01-01\\\",\\\"regions\\\":\\\"USA\\\",\\\"income\\\":\\\"42032.120382860434\\\"},{\\\"time\\\":\\\"2124-01-01\\\",\\\"regions\\\":\\\"CAN\\\",\\\"income\\\":\\\"3358.8213520679674\\\"},{\\\"time\\\":\\\"2124-01-01\\\",\\\"regions\\\":\\\"WEU\\\",\\\"income\\\":\\\"45383.04998915359\\\"},{\\\"time\\\":\\\"2124-01-01\\\",\\\"regions\\\":\\\"JPK\\\",\\\"income\\\":\\\"36021.92346277615\\\"},{\\\"time\\\":\\\"2124-01-01\\\",\\\"regions\\\":\\\"ANZ\\\",\\\"income\\\":\\\"3087.2030387674495\\\"},{\\\"time\\\":\\\"2124-01-01\\\",\\\"regions\\\":\\\"EEU\\\",\\\"income\\\":\\\"4729.824401858642\\\"},{\\\"time\\\":\\\"2124-01-01\\\",\\\"regions\\\":\\\"FSU\\\",\\\"income\\\":\\\"6153.629400037498\\\"},{\\\"time\\\":\\\"2124-01-01\\\",\\\"regions\\\":\\\"MDE\\\",\\\"income\\\":\\\"23294.431162813406\\\"},{\\\"time\\\":\\\"2124-01-01\\\",\\\"regions\\\":\\\"CAM\\\",\\\"income\\\":\\\"10334.83672630571\\\"},{\\\"time\\\":\\\"2124-01-01\\\",\\\"regions\\\":\\\"LAM\\\",\\\"income\\\":\\\"35556.979059836915\\\"},{\\\"time\\\":\\\"2124-01-01\\\",\\\"regions\\\":\\\"SAS\\\",\\\"income\\\":\\\"20187.474129931306\\\"},{\\\"time\\\":\\\"2124-01-01\\\",\\\"regions\\\":\\\"SEA\\\",\\\"income\\\":\\\"27064.848159986665\\\"},{\\\"time\\\":\\\"2124-01-01\\\",\\\"regions\\\":\\\"CHI\\\",\\\"income\\\":\\\"44311.01804924312\\\"},{\\\"time\\\":\\\"2124-01-01\\\",\\\"regions\\\":\\\"MAF\\\",\\\"income\\\":\\\"7601.557558940501\\\"},{\\\"time\\\":\\\"2124-01-01\\\",\\\"regions\\\":\\\"SSA\\\",\\\"income\\\":\\\"14167.554610781764\\\"},{\\\"time\\\":\\\"2124-01-01\\\",\\\"regions\\\":\\\"SIS\\\",\\\"income\\\":\\\"1345.4352596596973\\\"},{\\\"time\\\":\\\"2125-01-01\\\",\\\"regions\\\":\\\"USA\\\",\\\"income\\\":\\\"42319.3197323196\\\"},{\\\"time\\\":\\\"2125-01-01\\\",\\\"regions\\\":\\\"CAN\\\",\\\"income\\\":\\\"3382.1396551737625\\\"},{\\\"time\\\":\\\"2125-01-01\\\",\\\"regions\\\":\\\"WEU\\\",\\\"income\\\":\\\"45685.39605742229\\\"},{\\\"time\\\":\\\"2125-01-01\\\",\\\"regions\\\":\\\"JPK\\\",\\\"income\\\":\\\"36277.834596510074\\\"},{\\\"time\\\":\\\"2125-01-01\\\",\\\"regions\\\":\\\"ANZ\\\",\\\"income\\\":\\\"3108.9722717029827\\\"},{\\\"time\\\":\\\"2125-01-01\\\",\\\"regions\\\":\\\"EEU\\\",\\\"income\\\":\\\"4770.4981367527225\\\"},{\\\"time\\\":\\\"2125-01-01\\\",\\\"regions\\\":\\\"FSU\\\",\\\"income\\\":\\\"6197.039454151085\\\"},{\\\"time\\\":\\\"2125-01-01\\\",\\\"regions\\\":\\\"MDE\\\",\\\"income\\\":\\\"23648.547890683003\\\"},{\\\"time\\\":\\\"2125-01-01\\\",\\\"regions\\\":\\\"CAM\\\",\\\"income\\\":\\\"10488.773659489187\\\"},{\\\"time\\\":\\\"2125-01-01\\\",\\\"regions\\\":\\\"LAM\\\",\\\"income\\\":\\\"36091.68690997617\\\"},{\\\"time\\\":\\\"2125-01-01\\\",\\\"regions\\\":\\\"SAS\\\",\\\"income\\\":\\\"20486.44429309669\\\"},{\\\"time\\\":\\\"2125-01-01\\\",\\\"regions\\\":\\\"SEA\\\",\\\"income\\\":\\\"27461.92001461814\\\"},{\\\"time\\\":\\\"2125-01-01\\\",\\\"regions\\\":\\\"CHI\\\",\\\"income\\\":\\\"44969.363045908955\\\"},{\\\"time\\\":\\\"2125-01-01\\\",\\\"regions\\\":\\\"MAF\\\",\\\"income\\\":\\\"7704.125746585602\\\"},{\\\"time\\\":\\\"2125-01-01\\\",\\\"regions\\\":\\\"SSA\\\",\\\"income\\\":\\\"14372.430703532702\\\"},{\\\"time\\\":\\\"2125-01-01\\\",\\\"regions\\\":\\\"SIS\\\",\\\"income\\\":\\\"1365.9974119428866\\\"},{\\\"time\\\":\\\"2126-01-01\\\",\\\"regions\\\":\\\"USA\\\",\\\"income\\\":\\\"42606.62537598027\\\"},{\\\"time\\\":\\\"2126-01-01\\\",\\\"regions\\\":\\\"CAN\\\",\\\"income\\\":\\\"3405.471374082085\\\"},{\\\"time\\\":\\\"2126-01-01\\\",\\\"regions\\\":\\\"WEU\\\",\\\"income\\\":\\\"45987.59070121072\\\"},{\\\"time\\\":\\\"2126-01-01\\\",\\\"regions\\\":\\\"JPK\\\",\\\"income\\\":\\\"36533.95426054162\\\"},{\\\"time\\\":\\\"2126-01-01\\\",\\\"regions\\\":\\\"ANZ\\\",\\\"income\\\":\\\"3130.75597167715\\\"},{\\\"time\\\":\\\"2126-01-01\\\",\\\"regions\\\":\\\"EEU\\\",\\\"income\\\":\\\"4811.283360400316\\\"},{\\\"time\\\":\\\"2126-01-01\\\",\\\"regions\\\":\\\"FSU\\\",\\\"income\\\":\\\"6240.342834231691\\\"},{\\\"time\\\":\\\"2126-01-01\\\",\\\"regions\\\":\\\"MDE\\\",\\\"income\\\":\\\"24003.084755852527\\\"},{\\\"time\\\":\\\"2126-01-01\\\",\\\"regions\\\":\\\"CAM\\\",\\\"income\\\":\\\"10642.795361308794\\\"},{\\\"time\\\":\\\"2126-01-01\\\",\\\"regions\\\":\\\"LAM\\\",\\\"income\\\":\\\"36627.12660078653\\\"},{\\\"time\\\":\\\"2126-01-01\\\",\\\"regions\\\":\\\"SAS\\\",\\\"income\\\":\\\"20785.51760561923\\\"},{\\\"time\\\":\\\"2126-01-01\\\",\\\"regions\\\":\\\"SEA\\\",\\\"income\\\":\\\"27859.074929682567\\\"},{\\\"time\\\":\\\"2126-01-01\\\",\\\"regions\\\":\\\"CHI\\\",\\\"income\\\":\\\"45627.72309033645\\\"},{\\\"time\\\":\\\"2126-01-01\\\",\\\"regions\\\":\\\"MAF\\\",\\\"income\\\":\\\"7806.420707518004\\\"},{\\\"time\\\":\\\"2126-01-01\\\",\\\"regions\\\":\\\"SSA\\\",\\\"income\\\":\\\"14577.287816343161\\\"},{\\\"time\\\":\\\"2126-01-01\\\",\\\"regions\\\":\\\"SIS\\\",\\\"income\\\":\\\"1386.5930123053336\\\"},{\\\"time\\\":\\\"2127-01-01\\\",\\\"regions\\\":\\\"USA\\\",\\\"income\\\":\\\"42894.013787003496\\\"},{\\\"time\\\":\\\"2127-01-01\\\",\\\"regions\\\":\\\"CAN\\\",\\\"income\\\":\\\"3428.814572424798\\\"},{\\\"time\\\":\\\"2127-01-01\\\",\\\"regions\\\":\\\"WEU\\\",\\\"income\\\":\\\"46289.605297654096\\\"},{\\\"time\\\":\\\"2127-01-01\\\",\\\"regions\\\":\\\"JPK\\\",\\\"income\\\":\\\"36790.25949546528\\\"},{\\\"time\\\":\\\"2127-01-01\\\",\\\"regions\\\":\\\"ANZ\\\",\\\"income\\\":\\\"3152.5521522260083\\\"},{\\\"time\\\":\\\"2127-01-01\\\",\\\"regions\\\":\\\"EEU\\\",\\\"income\\\":\\\"4852.1769223298215\\\"},{\\\"time\\\":\\\"2127-01-01\\\",\\\"regions\\\":\\\"FSU\\\",\\\"income\\\":\\\"6283.533696195131\\\"},{\\\"time\\\":\\\"2127-01-01\\\",\\\"regions\\\":\\\"MDE\\\",\\\"income\\\":\\\"24357.899562100567\\\"},{\\\"time\\\":\\\"2127-01-01\\\",\\\"regions\\\":\\\"CAM\\\",\\\"income\\\":\\\"10796.838210521602\\\"},{\\\"time\\\":\\\"2127-01-01\\\",\\\"regions\\\":\\\"LAM\\\",\\\"income\\\":\\\"37163.09338855174\\\"},{\\\"time\\\":\\\"2127-01-01\\\",\\\"regions\\\":\\\"SAS\\\",\\\"income\\\":\\\"21084.569575703936\\\"},{\\\"time\\\":\\\"2127-01-01\\\",\\\"regions\\\":\\\"SEA\\\",\\\"income\\\":\\\"28256.149959222945\\\"},{\\\"time\\\":\\\"2127-01-01\\\",\\\"regions\\\":\\\"CHI\\\",\\\"income\\\":\\\"46285.81920255721\\\"},{\\\"time\\\":\\\"2127-01-01\\\",\\\"regions\\\":\\\"MAF\\\",\\\"income\\\":\\\"7908.396622921874\\\"},{\\\"time\\\":\\\"2127-01-01\\\",\\\"regions\\\":\\\"SSA\\\",\\\"income\\\":\\\"14782.042146347481\\\"},{\\\"time\\\":\\\"2127-01-01\\\",\\\"regions\\\":\\\"SIS\\\",\\\"income\\\":\\\"1407.2140943796687\\\"},{\\\"time\\\":\\\"2128-01-01\\\",\\\"regions\\\":\\\"USA\\\",\\\"income\\\":\\\"43181.46136373341\\\"},{\\\"time\\\":\\\"2128-01-01\\\",\\\"regions\\\":\\\"CAN\\\",\\\"income\\\":\\\"3452.1673062604245\\\"},{\\\"time\\\":\\\"2128-01-01\\\",\\\"regions\\\":\\\"WEU\\\",\\\"income\\\":\\\"46591.41124286592\\\"},{\\\"time\\\":\\\"2128-01-01\\\",\\\"regions\\\":\\\"JPK\\\",\\\"income\\\":\\\"37046.72719444184\\\"},{\\\"time\\\":\\\"2128-01-01\\\",\\\"regions\\\":\\\"ANZ\\\",\\\"income\\\":\\\"3174.3588152967754\\\"},{\\\"time\\\":\\\"2128-01-01\\\",\\\"regions\\\":\\\"EEU\\\",\\\"income\\\":\\\"4893.175649575395\\\"},{\\\"time\\\":\\\"2128-01-01\\\",\\\"regions\\\":\\\"FSU\\\",\\\"income\\\":\\\"6326.606259687042\\\"},{\\\"time\\\":\\\"2128-01-01\\\",\\\"regions\\\":\\\"MDE\\\",\\\"income\\\":\\\"24712.847866525473\\\"},{\\\"time\\\":\\\"2128-01-01\\\",\\\"regions\\\":\\\"CAM\\\",\\\"income\\\":\\\"10950.837663474033\\\"},{\\\"time\\\":\\\"2128-01-01\\\",\\\"regions\\\":\\\"LAM\\\",\\\"income\\\":\\\"37699.379212016654\\\"},{\\\"time\\\":\\\"2128-01-01\\\",\\\"regions\\\":\\\"SAS\\\",\\\"income\\\":\\\"21383.473975486286\\\"},{\\\"time\\\":\\\"2128-01-01\\\",\\\"regions\\\":\\\"SEA\\\",\\\"income\\\":\\\"28652.979990268006\\\"},{\\\"time\\\":\\\"2128-01-01\\\",\\\"regions\\\":\\\"CHI\\\",\\\"income\\\":\\\"46943.36900256062\\\"},{\\\"time\\\":\\\"2128-01-01\\\",\\\"regions\\\":\\\"MAF\\\",\\\"income\\\":\\\"8010.007379312552\\\"},{\\\"time\\\":\\\"2128-01-01\\\",\\\"regions\\\":\\\"SSA\\\",\\\"income\\\":\\\"14986.608845888959\\\"},{\\\"time\\\":\\\"2128-01-01\\\",\\\"regions\\\":\\\"SIS\\\",\\\"income\\\":\\\"1427.8525570422792\\\"},{\\\"time\\\":\\\"2129-01-01\\\",\\\"regions\\\":\\\"USA\\\",\\\"income\\\":\\\"43468.944435742684\\\"},{\\\"time\\\":\\\"2129-01-01\\\",\\\"regions\\\":\\\"CAN\\\",\\\"income\\\":\\\"3475.5276246149597\\\"},{\\\"time\\\":\\\"2129-01-01\\\",\\\"regions\\\":\\\"WEU\\\",\\\"income\\\":\\\"46892.979963885264\\\"},{\\\"time\\\":\\\"2129-01-01\\\",\\\"regions\\\":\\\"JPK\\\",\\\"income\\\":\\\"37303.334111202916\\\"},{\\\"time\\\":\\\"2129-01-01\\\",\\\"regions\\\":\\\"ANZ\\\",\\\"income\\\":\\\"3196.17395194512\\\"},{\\\"time\\\":\\\"2129-01-01\\\",\\\"regions\\\":\\\"EEU\\\",\\\"income\\\":\\\"4934.276348291017\\\"},{\\\"time\\\":\\\"2129-01-01\\\",\\\"regions\\\":\\\"FSU\\\",\\\"income\\\":\\\"6369.554812786137\\\"},{\\\"time\\\":\\\"2129-01-01\\\",\\\"regions\\\":\\\"MDE\\\",\\\"income\\\":\\\"25067.78307214788\\\"},{\\\"time\\\":\\\"2129-01-01\\\",\\\"regions\\\":\\\"CAM\\\",\\\"income\\\":\\\"11104.728297732472\\\"},{\\\"time\\\":\\\"2129-01-01\\\",\\\"regions\\\":\\\"LAM\\\",\\\"income\\\":\\\"38235.77281298519\\\"},{\\\"time\\\":\\\"2129-01-01\\\",\\\"regions\\\":\\\"SAS\\\",\\\"income\\\":\\\"21682.10292792399\\\"},{\\\"time\\\":\\\"2129-01-01\\\",\\\"regions\\\":\\\"SEA\\\",\\\"income\\\":\\\"29049.39785480182\\\"},{\\\"time\\\":\\\"2129-01-01\\\",\\\"regions\\\":\\\"CHI\\\",\\\"income\\\":\\\"47600.08692201588\\\"},{\\\"time\\\":\\\"2129-01-01\\\",\\\"regions\\\":\\\"MAF\\\",\\\"income\\\":\\\"8111.206605669447\\\"},{\\\"time\\\":\\\"2129-01-01\\\",\\\"regions\\\":\\\"SSA\\\",\\\"income\\\":\\\"15190.902079819449\\\"},{\\\"time\\\":\\\"2129-01-01\\\",\\\"regions\\\":\\\"SIS\\\",\\\"income\\\":\\\"1448.5001692850467\\\"},{\\\"time\\\":\\\"2130-01-01\\\",\\\"regions\\\":\\\"USA\\\",\\\"income\\\":\\\"43756.439269565606\\\"},{\\\"time\\\":\\\"2130-01-01\\\",\\\"regions\\\":\\\"CAN\\\",\\\"income\\\":\\\"3498.8935700001593\\\"},{\\\"time\\\":\\\"2130-01-01\\\",\\\"regions\\\":\\\"WEU\\\",\\\"income\\\":\\\"47194.28292987585\\\"},{\\\"time\\\":\\\"2130-01-01\\\",\\\"regions\\\":\\\"JPK\\\",\\\"income\\\":\\\"37560.05686785172\\\"},{\\\"time\\\":\\\"2130-01-01\\\",\\\"regions\\\":\\\"ANZ\\\",\\\"income\\\":\\\"3217.9955430149685\\\"},{\\\"time\\\":\\\"2130-01-01\\\",\\\"regions\\\":\\\"EEU\\\",\\\"income\\\":\\\"4975.475805286291\\\"},{\\\"time\\\":\\\"2130-01-01\\\",\\\"regions\\\":\\\"FSU\\\",\\\"income\\\":\\\"6412.373716323438\\\"},{\\\"time\\\":\\\"2130-01-01\\\",\\\"regions\\\":\\\"MDE\\\",\\\"income\\\":\\\"25422.556523760995\\\"},{\\\"time\\\":\\\"2130-01-01\\\",\\\"regions\\\":\\\"CAM\\\",\\\"income\\\":\\\"11258.44385706741\\\"},{\\\"time\\\":\\\"2130-01-01\\\",\\\"regions\\\":\\\"LAM\\\",\\\"income\\\":\\\"38772.05986160772\\\"},{\\\"time\\\":\\\"2130-01-01\\\",\\\"regions\\\":\\\"SAS\\\",\\\"income\\\":\\\"21980.326996202144\\\"},{\\\"time\\\":\\\"2130-01-01\\\",\\\"regions\\\":\\\"SEA\\\",\\\"income\\\":\\\"29445.234444698963\\\"},{\\\"time\\\":\\\"2130-01-01\\\",\\\"regions\\\":\\\"CHI\\\",\\\"income\\\":\\\"48255.68442000207\\\"},{\\\"time\\\":\\\"2130-01-01\\\",\\\"regions\\\":\\\"MAF\\\",\\\"income\\\":\\\"8211.947710795539\\\"},{\\\"time\\\":\\\"2130-01-01\\\",\\\"regions\\\":\\\"SSA\\\",\\\"income\\\":\\\"15394.835084191758\\\"},{\\\"time\\\":\\\"2130-01-01\\\",\\\"regions\\\":\\\"SIS\\\",\\\"income\\\":\\\"1469.1485752770363\\\"},{\\\"time\\\":\\\"2131-01-01\\\",\\\"regions\\\":\\\"USA\\\",\\\"income\\\":\\\"44043.92207203676\\\"},{\\\"time\\\":\\\"2131-01-01\\\",\\\"regions\\\":\\\"CAN\\\",\\\"income\\\":\\\"3522.263178744285\\\"},{\\\"time\\\":\\\"2131-01-01\\\",\\\"regions\\\":\\\"WEU\\\",\\\"income\\\":\\\"47495.29165780479\\\"},{\\\"time\\\":\\\"2131-01-01\\\",\\\"regions\\\":\\\"JPK\\\",\\\"income\\\":\\\"37816.87196028841\\\"},{\\\"time\\\":\\\"2131-01-01\\\",\\\"regions\\\":\\\"ANZ\\\",\\\"income\\\":\\\"3239.821559614992\\\"},{\\\"time\\\":\\\"2131-01-01\\\",\\\"regions\\\":\\\"EEU\\\",\\\"income\\\":\\\"5016.770788802831\\\"},{\\\"time\\\":\\\"2131-01-01\\\",\\\"regions\\\":\\\"FSU\\\",\\\"income\\\":\\\"6455.057405437506\\\"},{\\\"time\\\":\\\"2131-01-01\\\",\\\"regions\\\":\\\"MDE\\\",\\\"income\\\":\\\"25777.017604178825\\\"},{\\\"time\\\":\\\"2131-01-01\\\",\\\"regions\\\":\\\"CAM\\\",\\\"income\\\":\\\"11411.917296156642\\\"},{\\\"time\\\":\\\"2131-01-01\\\",\\\"regions\\\":\\\"LAM\\\",\\\"income\\\":\\\"39308.023084546185\\\"},{\\\"time\\\":\\\"2131-01-01\\\",\\\"regions\\\":\\\"SAS\\\",\\\"income\\\":\\\"22278.015272152217\\\"},{\\\"time\\\":\\\"2131-01-01\\\",\\\"regions\\\":\\\"SEA\\\",\\\"income\\\":\\\"29840.31882517871\\\"},{\\\"time\\\":\\\"2131-01-01\\\",\\\"regions\\\":\\\"CHI\\\",\\\"income\\\":\\\"48909.87018956183\\\"},{\\\"time\\\":\\\"2131-01-01\\\",\\\"regions\\\":\\\"MAF\\\",\\\"income\\\":\\\"8312.183918462459\\\"},{\\\"time\\\":\\\"2131-01-01\\\",\\\"regions\\\":\\\"SSA\\\",\\\"income\\\":\\\"15598.32022415948\\\"},{\\\"time\\\":\\\"2131-01-01\\\",\\\"regions\\\":\\\"SIS\\\",\\\"income\\\":\\\"1489.7892994792555\\\"},{\\\"time\\\":\\\"2132-01-01\\\",\\\"regions\\\":\\\"USA\\\",\\\"income\\\":\\\"44331.36899780386\\\"},{\\\"time\\\":\\\"2132-01-01\\\",\\\"regions\\\":\\\"CAN\\\",\\\"income\\\":\\\"3545.6344816534133\\\"},{\\\"time\\\":\\\"2132-01-01\\\",\\\"regions\\\":\\\"WEU\\\",\\\"income\\\":\\\"47795.97772766599\\\"},{\\\"time\\\":\\\"2132-01-01\\\",\\\"regions\\\":\\\"JPK\\\",\\\"income\\\":\\\"38073.75576803668\\\"},{\\\"time\\\":\\\"2132-01-01\\\",\\\"regions\\\":\\\"ANZ\\\",\\\"income\\\":\\\"3261.6499639701765\\\"},{\\\"time\\\":\\\"2132-01-01\\\",\\\"regions\\\":\\\"EEU\\\",\\\"income\\\":\\\"5058.158050665258\\\"},{\\\"time\\\":\\\"2132-01-01\\\",\\\"regions\\\":\\\"FSU\\\",\\\"income\\\":\\\"6497.600395868601\\\"},{\\\"time\\\":\\\"2132-01-01\\\",\\\"regions\\\":\\\"MDE\\\",\\\"income\\\":\\\"26131.013839379146\\\"},{\\\"time\\\":\\\"2132-01-01\\\",\\\"regions\\\":\\\"CAM\\\",\\\"income\\\":\\\"11565.080829904155\\\"},{\\\"time\\\":\\\"2132-01-01\\\",\\\"regions\\\":\\\"LAM\\\",\\\"income\\\":\\\"39843.44240132684\\\"},{\\\"time\\\":\\\"2132-01-01\\\",\\\"regions\\\":\\\"SAS\\\",\\\"income\\\":\\\"22575.035474198132\\\"},{\\\"time\\\":\\\"2132-01-01\\\",\\\"regions\\\":\\\"SEA\\\",\\\"income\\\":\\\"30234.47836018503\\\"},{\\\"time\\\":\\\"2132-01-01\\\",\\\"regions\\\":\\\"CHI\\\",\\\"income\\\":\\\"49562.35039508907\\\"},{\\\"time\\\":\\\"2132-01-01\\\",\\\"regions\\\":\\\"MAF\\\",\\\"income\\\":\\\"8411.86830780037\\\"},{\\\"time\\\":\\\"2132-01-01\\\",\\\"regions\\\":\\\"SSA\\\",\\\"income\\\":\\\"15801.26905768065\\\"},{\\\"time\\\":\\\"2132-01-01\\\",\\\"regions\\\":\\\"SIS\\\",\\\"income\\\":\\\"1510.4137522235644\\\"},{\\\"time\\\":\\\"2133-01-01\\\",\\\"regions\\\":\\\"USA\\\",\\\"income\\\":\\\"44618.75615410371\\\"},{\\\"time\\\":\\\"2133-01-01\\\",\\\"regions\\\":\\\"CAN\\\",\\\"income\\\":\\\"3569.005504458255\\\"},{\\\"time\\\":\\\"2133-01-01\\\",\\\"regions\\\":\\\"WEU\\\",\\\"income\\\":\\\"48096.31279138395\\\"},{\\\"time\\\":\\\"2133-01-01\\\",\\\"regions\\\":\\\"JPK\\\",\\\"income\\\":\\\"38330.68456134773\\\"},{\\\"time\\\":\\\"2133-01-01\\\",\\\"regions\\\":\\\"ANZ\\\",\\\"income\\\":\\\"3283.478710040968\\\"},{\\\"time\\\":\\\"2133-01-01\\\",\\\"regions\\\":\\\"EEU\\\",\\\"income\\\":\\\"5099.634327563972\\\"},{\\\"time\\\":\\\"2133-01-01\\\",\\\"regions\\\":\\\"FSU\\\",\\\"income\\\":\\\"6539.997287098433\\\"},{\\\"time\\\":\\\"2133-01-01\\\",\\\"regions\\\":\\\"MDE\\\",\\\"income\\\":\\\"26484.391003481353\\\"},{\\\"time\\\":\\\"2133-01-01\\\",\\\"regions\\\":\\\"CAM\\\",\\\"income\\\":\\\"11717.865982166095\\\"},{\\\"time\\\":\\\"2133-01-01\\\",\\\"regions\\\":\\\"LAM\\\",\\\"income\\\":\\\"40378.095063123765\\\"},{\\\"time\\\":\\\"2133-01-01\\\",\\\"regions\\\":\\\"SAS\\\",\\\"income\\\":\\\"22871.254043650682\\\"},{\\\"time\\\":\\\"2133-01-01\\\",\\\"regions\\\":\\\"SEA\\\",\\\"income\\\":\\\"30627.53883542886\\\"},{\\\"time\\\":\\\"2133-01-01\\\",\\\"regions\\\":\\\"CHI\\\",\\\"income\\\":\\\"50212.82889818035\\\"},{\\\"time\\\":\\\"2133-01-01\\\",\\\"regions\\\":\\\"MAF\\\",\\\"income\\\":\\\"8510.953851021653\\\"},{\\\"time\\\":\\\"2133-01-01\\\",\\\"regions\\\":\\\"SSA\\\",\\\"income\\\":\\\"16003.592397999255\\\"},{\\\"time\\\":\\\"2133-01-01\\\",\\\"regions\\\":\\\"SIS\\\",\\\"income\\\":\\\"1531.0132353164922\\\"},{\\\"time\\\":\\\"2134-01-01\\\",\\\"regions\\\":\\\"USA\\\",\\\"income\\\":\\\"44906.05960351434\\\"},{\\\"time\\\":\\\"2134-01-01\\\",\\\"regions\\\":\\\"CAN\\\",\\\"income\\\":\\\"3592.374268100309\\\"},{\\\"time\\\":\\\"2134-01-01\\\",\\\"regions\\\":\\\"WEU\\\",\\\"income\\\":\\\"48396.26857704293\\\"},{\\\"time\\\":\\\"2134-01-01\\\",\\\"regions\\\":\\\"JPK\\\",\\\"income\\\":\\\"38587.634506254515\\\"},{\\\"time\\\":\\\"2134-01-01\\\",\\\"regions\\\":\\\"ANZ\\\",\\\"income\\\":\\\"3305.3057439659046\\\"},{\\\"time\\\":\\\"2134-01-01\\\",\\\"regions\\\":\\\"EEU\\\",\\\"income\\\":\\\"5141.196341687157\\\"},{\\\"time\\\":\\\"2134-01-01\\\",\\\"regions\\\":\\\"FSU\\\",\\\"income\\\":\\\"6582.242763145506\\\"},{\\\"time\\\":\\\"2134-01-01\\\",\\\"regions\\\":\\\"MDE\\\",\\\"income\\\":\\\"26836.99322422766\\\"},{\\\"time\\\":\\\"2134-01-01\\\",\\\"regions\\\":\\\"CAM\\\",\\\"income\\\":\\\"11870.203634279274\\\"},{\\\"time\\\":\\\"2134-01-01\\\",\\\"regions\\\":\\\"LAM\\\",\\\"income\\\":\\\"40911.755794403725\\\"},{\\\"time\\\":\\\"2134-01-01\\\",\\\"regions\\\":\\\"SAS\\\",\\\"income\\\":\\\"23166.536240219015\\\"},{\\\"time\\\":\\\"2134-01-01\\\",\\\"regions\\\":\\\"SEA\\\",\\\"income\\\":\\\"31019.32458026382\\\"},{\\\"time\\\":\\\"2134-01-01\\\",\\\"regions\\\":\\\"CHI\\\",\\\"income\\\":\\\"50861.007475514285\\\"},{\\\"time\\\":\\\"2134-01-01\\\",\\\"regions\\\":\\\"MAF\\\",\\\"income\\\":\\\"8609.39344919354\\\"},{\\\"time\\\":\\\"2134-01-01\\\",\\\"regions\\\":\\\"SSA\\\",\\\"income\\\":\\\"16205.200375496122\\\"},{\\\"time\\\":\\\"2134-01-01\\\",\\\"regions\\\":\\\"SIS\\\",\\\"income\\\":\\\"1551.5789477029518\\\"},{\\\"time\\\":\\\"2135-01-01\\\",\\\"regions\\\":\\\"USA\\\",\\\"income\\\":\\\"45193.25537118485\\\"},{\\\"time\\\":\\\"2135-01-01\\\",\\\"regions\\\":\\\"CAN\\\",\\\"income\\\":\\\"3615.7387893751716\\\"},{\\\"time\\\":\\\"2135-01-01\\\",\\\"regions\\\":\\\"WEU\\\",\\\"income\\\":\\\"48695.8169033627\\\"},{\\\"time\\\":\\\"2135-01-01\\\",\\\"regions\\\":\\\"JPK\\\",\\\"income\\\":\\\"38844.581674393135\\\"},{\\\"time\\\":\\\"2135-01-01\\\",\\\"regions\\\":\\\"ANZ\\\",\\\"income\\\":\\\"3327.129004911615\\\"},{\\\"time\\\":\\\"2135-01-01\\\",\\\"regions\\\":\\\"EEU\\\",\\\"income\\\":\\\"5182.84080283851\\\"},{\\\"time\\\":\\\"2135-01-01\\\",\\\"regions\\\":\\\"FSU\\\",\\\"income\\\":\\\"6624.331598449472\\\"},{\\\"time\\\":\\\"2135-01-01\\\",\\\"regions\\\":\\\"MDE\\\",\\\"income\\\":\\\"27188.663097617857\\\"},{\\\"time\\\":\\\"2135-01-01\\\",\\\"regions\\\":\\\"CAM\\\",\\\"income\\\":\\\"12022.024078371645\\\"},{\\\"time\\\":\\\"2135-01-01\\\",\\\"regions\\\":\\\"LAM\\\",\\\"income\\\":\\\"41444.19694272969\\\"},{\\\"time\\\":\\\"2135-01-01\\\",\\\"regions\\\":\\\"SAS\\\",\\\"income\\\":\\\"23460.746247411418\\\"},{\\\"time\\\":\\\"2135-01-01\\\",\\\"regions\\\":\\\"SEA\\\",\\\"income\\\":\\\"31409.658601883562\\\"},{\\\"time\\\":\\\"2135-01-01\\\",\\\"regions\\\":\\\"CHI\\\",\\\"income\\\":\\\"51506.58606905592\\\"},{\\\"time\\\":\\\"2135-01-01\\\",\\\"regions\\\":\\\"MAF\\\",\\\"income\\\":\\\"8707.139973505997\\\"},{\\\"time\\\":\\\"2135-01-01\\\",\\\"regions\\\":\\\"SSA\\\",\\\"income\\\":\\\"16406.002505521745\\\"},{\\\"time\\\":\\\"2135-01-01\\\",\\\"regions\\\":\\\"SIS\\\",\\\"income\\\":\\\"1572.1019916049554\\\"},{\\\"time\\\":\\\"2136-01-01\\\",\\\"regions\\\":\\\"USA\\\",\\\"income\\\":\\\"45480.31944688293\\\"},{\\\"time\\\":\\\"2136-01-01\\\",\\\"regions\\\":\\\"CAN\\\",\\\"income\\\":\\\"3639.0970811628126\\\"},{\\\"time\\\":\\\"2136-01-01\\\",\\\"regions\\\":\\\"WEU\\\",\\\"income\\\":\\\"48994.92968223681\\\"},{\\\"time\\\":\\\"2136-01-01\\\",\\\"regions\\\":\\\"JPK\\\",\\\"income\\\":\\\"39101.50204745165\\\"},{\\\"time\\\":\\\"2136-01-01\\\",\\\"regions\\\":\\\"ANZ\\\",\\\"income\\\":\\\"3348.9464254618183\\\"},{\\\"time\\\":\\\"2136-01-01\\\",\\\"regions\\\":\\\"EEU\\\",\\\"income\\\":\\\"5224.5644088641475\\\"},{\\\"time\\\":\\\"2136-01-01\\\",\\\"regions\\\":\\\"FSU\\\",\\\"income\\\":\\\"6666.258657798491\\\"},{\\\"time\\\":\\\"2136-01-01\\\",\\\"regions\\\":\\\"MDE\\\",\\\"income\\\":\\\"27539.241798604922\\\"},{\\\"time\\\":\\\"2136-01-01\\\",\\\"regions\\\":\\\"CAM\\\",\\\"income\\\":\\\"12173.257067939761\\\"},{\\\"time\\\":\\\"2136-01-01\\\",\\\"regions\\\":\\\"LAM\\\",\\\"income\\\":\\\"41975.18862857762\\\"},{\\\"time\\\":\\\"2136-01-01\\\",\\\"regions\\\":\\\"SAS\\\",\\\"income\\\":\\\"23753.747271733708\\\"},{\\\"time\\\":\\\"2136-01-01\\\",\\\"regions\\\":\\\"SEA\\\",\\\"income\\\":\\\"31798.362711521357\\\"},{\\\"time\\\":\\\"2136-01-01\\\",\\\"regions\\\":\\\"CHI\\\",\\\"income\\\":\\\"52149.26300817979\\\"},{\\\"time\\\":\\\"2136-01-01\\\",\\\"regions\\\":\\\"MAF\\\",\\\"income\\\":\\\"8804.146300876824\\\"},{\\\"time\\\":\\\"2136-01-01\\\",\\\"regions\\\":\\\"SSA\\\",\\\"income\\\":\\\"16605.907752244402\\\"},{\\\"time\\\":\\\"2136-01-01\\\",\\\"regions\\\":\\\"SIS\\\",\\\"income\\\":\\\"1592.5733785063794\\\"},{\\\"time\\\":\\\"2137-01-01\\\",\\\"regions\\\":\\\"USA\\\",\\\"income\\\":\\\"45767.2277880168\\\"},{\\\"time\\\":\\\"2137-01-01\\\",\\\"regions\\\":\\\"CAN\\\",\\\"income\\\":\\\"3662.447152734585\\\"},{\\\"time\\\":\\\"2137-01-01\\\",\\\"regions\\\":\\\"WEU\\\",\\\"income\\\":\\\"49293.57892348148\\\"},{\\\"time\\\":\\\"2137-01-01\\\",\\\"regions\\\":\\\"JPK\\\",\\\"income\\\":\\\"39358.37152267184\\\"},{\\\"time\\\":\\\"2137-01-01\\\",\\\"regions\\\":\\\"ANZ\\\",\\\"income\\\":\\\"3370.7559320947144\\\"},{\\\"time\\\":\\\"2137-01-01\\\",\\\"regions\\\":\\\"EEU\\\",\\\"income\\\":\\\"5266.363846404625\\\"},{\\\"time\\\":\\\"2137-01-01\\\",\\\"regions\\\":\\\"FSU\\\",\\\"income\\\":\\\"6708.018897336114\\\"},{\\\"time\\\":\\\"2137-01-01\\\",\\\"regions\\\":\\\"MDE\\\",\\\"income\\\":\\\"27888.56919592588\\\"},{\\\"time\\\":\\\"2137-01-01\\\",\\\"regions\\\":\\\"CAM\\\",\\\"income\\\":\\\"12323.831870343543\\\"},{\\\"time\\\":\\\"2137-01-01\\\",\\\"regions\\\":\\\"LAM\\\",\\\"income\\\":\\\"42504.49890012626\\\"},{\\\"time\\\":\\\"2137-01-01\\\",\\\"regions\\\":\\\"SAS\\\",\\\"income\\\":\\\"24045.401645663645\\\"},{\\\"time\\\":\\\"2137-01-01\\\",\\\"regions\\\":\\\"SEA\\\",\\\"income\\\":\\\"32185.25765528623\\\"},{\\\"time\\\":\\\"2137-01-01\\\",\\\"regions\\\":\\\"CHI\\\",\\\"income\\\":\\\"52788.73524145754\\\"},{\\\"time\\\":\\\"2137-01-01\\\",\\\"regions\\\":\\\"MAF\\\",\\\"income\\\":\\\"8900.36535090384\\\"},{\\\"time\\\":\\\"2137-01-01\\\",\\\"regions\\\":\\\"SSA\\\",\\\"income\\\":\\\"16804.824594719754\\\"},{\\\"time\\\":\\\"2137-01-01\\\",\\\"regions\\\":\\\"SIS\\\",\\\"income\\\":\\\"1612.9840353730092\\\"},{\\\"time\\\":\\\"2138-01-01\\\",\\\"regions\\\":\\\"USA\\\",\\\"income\\\":\\\"46053.956326639505\\\"},{\\\"time\\\":\\\"2138-01-01\\\",\\\"regions\\\":\\\"CAN\\\",\\\"income\\\":\\\"3685.7870103805712\\\"},{\\\"time\\\":\\\"2138-01-01\\\",\\\"regions\\\":\\\"WEU\\\",\\\"income\\\":\\\"49591.73674869375\\\"},{\\\"time\\\":\\\"2138-01-01\\\",\\\"regions\\\":\\\"JPK\\\",\\\"income\\\":\\\"39615.16592265586\\\"},{\\\"time\\\":\\\"2138-01-01\\\",\\\"regions\\\":\\\"ANZ\\\",\\\"income\\\":\\\"3392.5554460294384\\\"},{\\\"time\\\":\\\"2138-01-01\\\",\\\"regions\\\":\\\"EEU\\\",\\\"income\\\":\\\"5308.235792983534\\\"},{\\\"time\\\":\\\"2138-01-01\\\",\\\"regions\\\":\\\"FSU\\\",\\\"income\\\":\\\"6749.607370096163\\\"},{\\\"time\\\":\\\"2138-01-01\\\",\\\"regions\\\":\\\"MDE\\\",\\\"income\\\":\\\"28236.483975250572\\\"},{\\\"time\\\":\\\"2138-01-01\\\",\\\"regions\\\":\\\"CAM\\\",\\\"income\\\":\\\"12473.677323627626\\\"},{\\\"time\\\":\\\"2138-01-01\\\",\\\"regions\\\":\\\"LAM\\\",\\\"income\\\":\\\"43031.89389545663\\\"},{\\\"time\\\":\\\"2138-01-01\\\",\\\"regions\\\":\\\"SAS\\\",\\\"income\\\":\\\"24335.570939548306\\\"},{\\\"time\\\":\\\"2138-01-01\\\",\\\"regions\\\":\\\"SEA\\\",\\\"income\\\":\\\"32570.16325603654\\\"},{\\\"time\\\":\\\"2138-01-01\\\",\\\"regions\\\":\\\"CHI\\\",\\\"income\\\":\\\"53424.69859734129\\\"},{\\\"time\\\":\\\"2138-01-01\\\",\\\"regions\\\":\\\"MAF\\\",\\\"income\\\":\\\"8995.750127651623\\\"},{\\\"time\\\":\\\"2138-01-01\\\",\\\"regions\\\":\\\"SSA\\\",\\\"income\\\":\\\"17002.661098294615\\\"},{\\\"time\\\":\\\"2138-01-01\\\",\\\"regions\\\":\\\"SIS\\\",\\\"income\\\":\\\"1633.3248113048546\\\"},{\\\"time\\\":\\\"2139-01-01\\\",\\\"regions\\\":\\\"USA\\\",\\\"income\\\":\\\"46340.48097370542\\\"},{\\\"time\\\":\\\"2139-01-01\\\",\\\"regions\\\":\\\"CAN\\\",\\\"income\\\":\\\"3709.114657817016\\\"},{\\\"time\\\":\\\"2139-01-01\\\",\\\"regions\\\":\\\"WEU\\\",\\\"income\\\":\\\"49889.37539874792\\\"},{\\\"time\\\":\\\"2139-01-01\\\",\\\"regions\\\":\\\"JPK\\\",\\\"income\\\":\\\"39871.86100232998\\\"},{\\\"time\\\":\\\"2139-01-01\\\",\\\"regions\\\":\\\"ANZ\\\",\\\"income\\\":\\\"3414.342883828255\\\"},{\\\"time\\\":\\\"2139-01-01\\\",\\\"regions\\\":\\\"EEU\\\",\\\"income\\\":\\\"5350.176918201447\\\"},{\\\"time\\\":\\\"2139-01-01\\\",\\\"regions\\\":\\\"FSU\\\",\\\"income\\\":\\\"6791.019228362858\\\"},{\\\"time\\\":\\\"2139-01-01\\\",\\\"regions\\\":\\\"MDE\\\",\\\"income\\\":\\\"28582.82376130611\\\"},{\\\"time\\\":\\\"2139-01-01\\\",\\\"regions\\\":\\\"CAM\\\",\\\"income\\\":\\\"12622.721892316871\\\"},{\\\"time\\\":\\\"2139-01-01\\\",\\\"regions\\\":\\\"LAM\\\",\\\"income\\\":\\\"43557.13800638671\\\"},{\\\"time\\\":\\\"2139-01-01\\\",\\\"regions\\\":\\\"SAS\\\",\\\"income\\\":\\\"24624.116070981643\\\"},{\\\"time\\\":\\\"2139-01-01\\\",\\\"regions\\\":\\\"SEA\\\",\\\"income\\\":\\\"32952.89855193411\\\"},{\\\"time\\\":\\\"2139-01-01\\\",\\\"regions\\\":\\\"CHI\\\",\\\"income\\\":\\\"54056.8480311044\\\"},{\\\"time\\\":\\\"2139-01-01\\\",\\\"regions\\\":\\\"MAF\\\",\\\"income\\\":\\\"9090.253758448944\\\"},{\\\"time\\\":\\\"2139-01-01\\\",\\\"regions\\\":\\\"SSA\\\",\\\"income\\\":\\\"17199.324984320665\\\"},{\\\"time\\\":\\\"2139-01-01\\\",\\\"regions\\\":\\\"SIS\\\",\\\"income\\\":\\\"1653.586484173414\\\"},{\\\"time\\\":\\\"2140-01-01\\\",\\\"regions\\\":\\\"USA\\\",\\\"income\\\":\\\"46626.77762541227\\\"},{\\\"time\\\":\\\"2140-01-01\\\",\\\"regions\\\":\\\"CAN\\\",\\\"income\\\":\\\"3732.4280967630298\\\"},{\\\"time\\\":\\\"2140-01-01\\\",\\\"regions\\\":\\\"WEU\\\",\\\"income\\\":\\\"50186.46724603861\\\"},{\\\"time\\\":\\\"2140-01-01\\\",\\\"regions\\\":\\\"JPK\\\",\\\"income\\\":\\\"40128.43245821861\\\"},{\\\"time\\\":\\\"2140-01-01\\\",\\\"regions\\\":\\\"ANZ\\\",\\\"income\\\":\\\"3436.1161581973465\\\"},{\\\"time\\\":\\\"2140-01-01\\\",\\\"regions\\\":\\\"EEU\\\",\\\"income\\\":\\\"5392.183885643734\\\"},{\\\"time\\\":\\\"2140-01-01\\\",\\\"regions\\\":\\\"FSU\\\",\\\"income\\\":\\\"6832.249728391376\\\"},{\\\"time\\\":\\\"2140-01-01\\\",\\\"regions\\\":\\\"MDE\\\",\\\"income\\\":\\\"28927.42524553911\\\"},{\\\"time\\\":\\\"2140-01-01\\\",\\\"regions\\\":\\\"CAM\\\",\\\"income\\\":\\\"12770.893725963815\\\"},{\\\"time\\\":\\\"2140-01-01\\\",\\\"regions\\\":\\\"LAM\\\",\\\"income\\\":\\\"44079.994047851964\\\"},{\\\"time\\\":\\\"2140-01-01\\\",\\\"regions\\\":\\\"SAS\\\",\\\"income\\\":\\\"24910.897419747846\\\"},{\\\"time\\\":\\\"2140-01-01\\\",\\\"regions\\\":\\\"SEA\\\",\\\"income\\\":\\\"33333.28194179345\\\"},{\\\"time\\\":\\\"2140-01-01\\\",\\\"regions\\\":\\\"CHI\\\",\\\"income\\\":\\\"54684.877888322306\\\"},{\\\"time\\\":\\\"2140-01-01\\\",\\\"regions\\\":\\\"MAF\\\",\\\"income\\\":\\\"9183.829535251138\\\"},{\\\"time\\\":\\\"2140-01-01\\\",\\\"regions\\\":\\\"SSA\\\",\\\"income\\\":\\\"17394.723703121068\\\"},{\\\"time\\\":\\\"2140-01-01\\\",\\\"regions\\\":\\\"SIS\\\",\\\"income\\\":\\\"1673.7597675563136\\\"},{\\\"time\\\":\\\"2141-01-01\\\",\\\"regions\\\":\\\"USA\\\",\\\"income\\\":\\\"46912.822163018194\\\"},{\\\"time\\\":\\\"2141-01-01\\\",\\\"regions\\\":\\\"CAN\\\",\\\"income\\\":\\\"3755.7253269884754\\\"},{\\\"time\\\":\\\"2141-01-01\\\",\\\"regions\\\":\\\"WEU\\\",\\\"income\\\":\\\"50482.984791685376\\\"},{\\\"time\\\":\\\"2141-01-01\\\",\\\"regions\\\":\\\"JPK\\\",\\\"income\\\":\\\"40384.85593072424\\\"},{\\\"time\\\":\\\"2141-01-01\\\",\\\"regions\\\":\\\"ANZ\\\",\\\"income\\\":\\\"3457.873178184111\\\"},{\\\"time\\\":\\\"2141-01-01\\\",\\\"regions\\\":\\\"EEU\\\",\\\"income\\\":\\\"5434.253352608007\\\"},{\\\"time\\\":\\\"2141-01-01\\\",\\\"regions\\\":\\\"FSU\\\",\\\"income\\\":\\\"6873.294227617184\\\"},{\\\"time\\\":\\\"2141-01-01\\\",\\\"regions\\\":\\\"MDE\\\",\\\"income\\\":\\\"29270.124306982838\\\"},{\\\"time\\\":\\\"2141-01-01\\\",\\\"regions\\\":\\\"CAM\\\",\\\"income\\\":\\\"12918.120713387596\\\"},{\\\"time\\\":\\\"2141-01-01\\\",\\\"regions\\\":\\\"LAM\\\",\\\"income\\\":\\\"44600.22342537225\\\"},{\\\"time\\\":\\\"2141-01-01\\\",\\\"regions\\\":\\\"SAS\\\",\\\"income\\\":\\\"25195.774933272085\\\"},{\\\"time\\\":\\\"2141-01-01\\\",\\\"regions\\\":\\\"SEA\\\",\\\"income\\\":\\\"33711.131318521424\\\"},{\\\"time\\\":\\\"2141-01-01\\\",\\\"regions\\\":\\\"CHI\\\",\\\"income\\\":\\\"55308.482129315315\\\"},{\\\"time\\\":\\\"2141-01-01\\\",\\\"regions\\\":\\\"MAF\\\",\\\"income\\\":\\\"9276.43094847689\\\"},{\\\"time\\\":\\\"2141-01-01\\\",\\\"regions\\\":\\\"SSA\\\",\\\"income\\\":\\\"17588.76450109723\\\"},{\\\"time\\\":\\\"2141-01-01\\\",\\\"regions\\\":\\\"SIS\\\",\\\"income\\\":\\\"1693.83531738506\\\"},{\\\"time\\\":\\\"2142-01-01\\\",\\\"regions\\\":\\\"USA\\\",\\\"income\\\":\\\"47198.59045482914\\\"},{\\\"time\\\":\\\"2142-01-01\\\",\\\"regions\\\":\\\"CAN\\\",\\\"income\\\":\\\"3779.0043465353733\\\"},{\\\"time\\\":\\\"2142-01-01\\\",\\\"regions\\\":\\\"WEU\\\",\\\"income\\\":\\\"50778.900667699854\\\"},{\\\"time\\\":\\\"2142-01-01\\\",\\\"regions\\\":\\\"JPK\\\",\\\"income\\\":\\\"40641.1070087337\\\"},{\\\"time\\\":\\\"2142-01-01\\\",\\\"regions\\\":\\\"ANZ\\\",\\\"income\\\":\\\"3479.611849572374\\\"},{\\\"time\\\":\\\"2142-01-01\\\",\\\"regions\\\":\\\"EEU\\\",\\\"income\\\":\\\"5476.381970554261\\\"},{\\\"time\\\":\\\"2142-01-01\\\",\\\"regions\\\":\\\"FSU\\\",\\\"income\\\":\\\"6914.148184314584\\\"},{\\\"time\\\":\\\"2142-01-01\\\",\\\"regions\\\":\\\"MDE\\\",\\\"income\\\":\\\"29610.75613831674\\\"},{\\\"time\\\":\\\"2142-01-01\\\",\\\"regions\\\":\\\"CAM\\\",\\\"income\\\":\\\"13064.330539493849\\\"},{\\\"time\\\":\\\"2142-01-01\\\",\\\"regions\\\":\\\"LAM\\\",\\\"income\\\":\\\"45117.58630776738\\\"},{\\\"time\\\":\\\"2142-01-01\\\",\\\"regions\\\":\\\"SAS\\\",\\\"income\\\":\\\"25478.60823731208\\\"},{\\\"time\\\":\\\"2142-01-01\\\",\\\"regions\\\":\\\"SEA\\\",\\\"income\\\":\\\"34086.264209030436\\\"},{\\\"time\\\":\\\"2142-01-01\\\",\\\"regions\\\":\\\"CHI\\\",\\\"income\\\":\\\"55927.354569494666\\\"},{\\\"time\\\":\\\"2142-01-01\\\",\\\"regions\\\":\\\"MAF\\\",\\\"income\\\":\\\"9368.011723368625\\\"},{\\\"time\\\":\\\"2142-01-01\\\",\\\"regions\\\":\\\"SSA\\\",\\\"income\\\":\\\"17781.354490951413\\\"},{\\\"time\\\":\\\"2142-01-01\\\",\\\"regions\\\":\\\"SIS\\\",\\\"income\\\":\\\"1713.8037388764706\\\"},{\\\"time\\\":\\\"2143-01-01\\\",\\\"regions\\\":\\\"USA\\\",\\\"income\\\":\\\"47484.058364646706\\\"},{\\\"time\\\":\\\"2143-01-01\\\",\\\"regions\\\":\\\"CAN\\\",\\\"income\\\":\\\"3802.263152465485\\\"},{\\\"time\\\":\\\"2143-01-01\\\",\\\"regions\\\":\\\"WEU\\\",\\\"income\\\":\\\"51074.18765396277\\\"},{\\\"time\\\":\\\"2143-01-01\\\",\\\"regions\\\":\\\"JPK\\\",\\\"income\\\":\\\"40897.161241313544\\\"},{\\\"time\\\":\\\"2143-01-01\\\",\\\"regions\\\":\\\"ANZ\\\",\\\"income\\\":\\\"3501.3300758889236\\\"},{\\\"time\\\":\\\"2143-01-01\\\",\\\"regions\\\":\\\"EEU\\\",\\\"income\\\":\\\"5518.566387750679\\\"},{\\\"time\\\":\\\"2143-01-01\\\",\\\"regions\\\":\\\"FSU\\\",\\\"income\\\":\\\"6954.807164635726\\\"},{\\\"time\\\":\\\"2143-01-01\\\",\\\"regions\\\":\\\"MDE\\\",\\\"income\\\":\\\"29949.155383381923\\\"},{\\\"time\\\":\\\"2143-01-01\\\",\\\"regions\\\":\\\"CAM\\\",\\\"income\\\":\\\"13209.450748276993\\\"},{\\\"time\\\":\\\"2143-01-01\\\",\\\"regions\\\":\\\"LAM\\\",\\\"income\\\":\\\"45631.84180867223\\\"},{\\\"time\\\":\\\"2143-01-01\\\",\\\"regions\\\":\\\"SAS\\\",\\\"income\\\":\\\"25759.256759557084\\\"},{\\\"time\\\":\\\"2143-01-01\\\",\\\"regions\\\":\\\"SEA\\\",\\\"income\\\":\\\"34458.49793001465\\\"},{\\\"time\\\":\\\"2143-01-01\\\",\\\"regions\\\":\\\"CHI\\\",\\\"income\\\":\\\"56541.18916376946\\\"},{\\\"time\\\":\\\"2143-01-01\\\",\\\"regions\\\":\\\"MAF\\\",\\\"income\\\":\\\"9458.52586390913\\\"},{\\\"time\\\":\\\"2143-01-01\\\",\\\"regions\\\":\\\"SSA\\\",\\\"income\\\":\\\"17972.400729564073\\\"},{\\\"time\\\":\\\"2143-01-01\\\",\\\"regions\\\":\\\"SIS\\\",\\\"income\\\":\\\"1733.6555940388726\\\"},{\\\"time\\\":\\\"2144-01-01\\\",\\\"regions\\\":\\\"USA\\\",\\\"income\\\":\\\"47769.20175230108\\\"},{\\\"time\\\":\\\"2144-01-01\\\",\\\"regions\\\":\\\"CAN\\\",\\\"income\\\":\\\"3825.499740962657\\\"},{\\\"time\\\":\\\"2144-01-01\\\",\\\"regions\\\":\\\"WEU\\\",\\\"income\\\":\\\"51368.81867694186\\\"},{\\\"time\\\":\\\"2144-01-01\\\",\\\"regions\\\":\\\"JPK\\\",\\\"income\\\":\\\"41152.99414082117\\\"},{\\\"time\\\":\\\"2144-01-01\\\",\\\"regions\\\":\\\"ANZ\\\",\\\"income\\\":\\\"3523.025758668643\\\"},{\\\"time\\\":\\\"2144-01-01\\\",\\\"regions\\\":\\\"EEU\\\",\\\"income\\\":\\\"5560.8032492524135\\\"},{\\\"time\\\":\\\"2144-01-01\\\",\\\"regions\\\":\\\"FSU\\\",\\\"income\\\":\\\"6995.266840537797\\\"},{\\\"time\\\":\\\"2144-01-01\\\",\\\"regions\\\":\\\"MDE\\\",\\\"income\\\":\\\"30285.156265373564\\\"},{\\\"time\\\":\\\"2144-01-01\\\",\\\"regions\\\":\\\"CAM\\\",\\\"income\\\":\\\"13353.408800110203\\\"},{\\\"time\\\":\\\"2144-01-01\\\",\\\"regions\\\":\\\"LAM\\\",\\\"income\\\":\\\"46142.74816443523\\\"},{\\\"time\\\":\\\"2144-01-01\\\",\\\"regions\\\":\\\"SAS\\\",\\\"income\\\":\\\"26037.579840784056\\\"},{\\\"time\\\":\\\"2144-01-01\\\",\\\"regions\\\":\\\"SEA\\\",\\\"income\\\":\\\"34827.64972825761\\\"},{\\\"time\\\":\\\"2144-01-01\\\",\\\"regions\\\":\\\"CHI\\\",\\\"income\\\":\\\"57149.6802418495\\\"},{\\\"time\\\":\\\"2144-01-01\\\",\\\"regions\\\":\\\"MAF\\\",\\\"income\\\":\\\"9547.927687451578\\\"},{\\\"time\\\":\\\"2144-01-01\\\",\\\"regions\\\":\\\"SSA\\\",\\\"income\\\":\\\"18161.81028829262\\\"},{\\\"time\\\":\\\"2144-01-01\\\",\\\"regions\\\":\\\"SIS\\\",\\\"income\\\":\\\"1753.3814087708975\\\"},{\\\"time\\\":\\\"2145-01-01\\\",\\\"regions\\\":\\\"USA\\\",\\\"income\\\":\\\"48053.99647652101\\\"},{\\\"time\\\":\\\"2145-01-01\\\",\\\"regions\\\":\\\"CAN\\\",\\\"income\\\":\\\"3848.71210762433\\\"},{\\\"time\\\":\\\"2145-01-01\\\",\\\"regions\\\":\\\"WEU\\\",\\\"income\\\":\\\"51662.76681374761\\\"},{\\\"time\\\":\\\"2145-01-01\\\",\\\"regions\\\":\\\"JPK\\\",\\\"income\\\":\\\"41408.58118856366\\\"},{\\\"time\\\":\\\"2145-01-01\\\",\\\"regions\\\":\\\"ANZ\\\",\\\"income\\\":\\\"3544.696797938029\\\"},{\\\"time\\\":\\\"2145-01-01\\\",\\\"regions\\\":\\\"EEU\\\",\\\"income\\\":\\\"5603.0891976703915\\\"},{\\\"time\\\":\\\"2145-01-01\\\",\\\"regions\\\":\\\"FSU\\\",\\\"income\\\":\\\"7035.522990356105\\\"},{\\\"time\\\":\\\"2145-01-01\\\",\\\"regions\\\":\\\"MDE\\\",\\\"income\\\":\\\"30618.592720170196\\\"},{\\\"time\\\":\\\"2145-01-01\\\",\\\"regions\\\":\\\"CAM\\\",\\\"income\\\":\\\"13496.132131625967\\\"},{\\\"time\\\":\\\"2145-01-01\\\",\\\"regions\\\":\\\"LAM\\\",\\\"income\\\":\\\"46650.062916918854\\\"},{\\\"time\\\":\\\"2145-01-01\\\",\\\"regions\\\":\\\"SAS\\\",\\\"income\\\":\\\"26313.436851297567\\\"},{\\\"time\\\":\\\"2145-01-01\\\",\\\"regions\\\":\\\"SEA\\\",\\\"income\\\":\\\"35193.536927418536\\\"},{\\\"time\\\":\\\"2145-01-01\\\",\\\"regions\\\":\\\"CHI\\\",\\\"income\\\":\\\"57752.522760009815\\\"},{\\\"time\\\":\\\"2145-01-01\\\",\\\"regions\\\":\\\"MAF\\\",\\\"income\\\":\\\"9636.171861971205\\\"},{\\\"time\\\":\\\"2145-01-01\\\",\\\"regions\\\":\\\"SSA\\\",\\\"income\\\":\\\"18349.490326376737\\\"},{\\\"time\\\":\\\"2145-01-01\\\",\\\"regions\\\":\\\"SIS\\\",\\\"income\\\":\\\"1772.9716802369587\\\"},{\\\"time\\\":\\\"2146-01-01\\\",\\\"regions\\\":\\\"USA\\\",\\\"income\\\":\\\"48338.418401504234\\\"},{\\\"time\\\":\\\"2146-01-01\\\",\\\"regions\\\":\\\"CAN\\\",\\\"income\\\":\\\"3871.8982480565955\\\"},{\\\"time\\\":\\\"2146-01-01\\\",\\\"regions\\\":\\\"WEU\\\",\\\"income\\\":\\\"51956.005304652754\\\"},{\\\"time\\\":\\\"2146-01-01\\\",\\\"regions\\\":\\\"JPK\\\",\\\"income\\\":\\\"41663.89784458543\\\"},{\\\"time\\\":\\\"2146-01-01\\\",\\\"regions\\\":\\\"ANZ\\\",\\\"income\\\":\\\"3566.3410930555883\\\"},{\\\"time\\\":\\\"2146-01-01\\\",\\\"regions\\\":\\\"EEU\\\",\\\"income\\\":\\\"5645.420875214684\\\"},{\\\"time\\\":\\\"2146-01-01\\\",\\\"regions\\\":\\\"FSU\\\",\\\"income\\\":\\\"7075.571503598648\\\"},{\\\"time\\\":\\\"2146-01-01\\\",\\\"regions\\\":\\\"MDE\\\",\\\"income\\\":\\\"30949.298536838614\\\"},{\\\"time\\\":\\\"2146-01-01\\\",\\\"regions\\\":\\\"CAM\\\",\\\"income\\\":\\\"13637.548219369193\\\"},{\\\"time\\\":\\\"2146-01-01\\\",\\\"regions\\\":\\\"LAM\\\",\\\"income\\\":\\\"47153.543102232914\\\"},{\\\"time\\\":\\\"2146-01-01\\\",\\\"regions\\\":\\\"SAS\\\",\\\"income\\\":\\\"26586.687315163213\\\"},{\\\"time\\\":\\\"2146-01-01\\\",\\\"regions\\\":\\\"SEA\\\",\\\"income\\\":\\\"35555.97708430554\\\"},{\\\"time\\\":\\\"2146-01-01\\\",\\\"regions\\\":\\\"CHI\\\",\\\"income\\\":\\\"58349.412578466785\\\"},{\\\"time\\\":\\\"2146-01-01\\\",\\\"regions\\\":\\\"MAF\\\",\\\"income\\\":\\\"9723.213447535207\\\"},{\\\"time\\\":\\\"2146-01-01\\\",\\\"regions\\\":\\\"SSA\\\",\\\"income\\\":\\\"18535.348168884917\\\"},{\\\"time\\\":\\\"2146-01-01\\\",\\\"regions\\\":\\\"SIS\\\",\\\"income\\\":\\\"1792.4168846113205\\\"},{\\\"time\\\":\\\"2147-01-01\\\",\\\"regions\\\":\\\"USA\\\",\\\"income\\\":\\\"48622.44339398185\\\"},{\\\"time\\\":\\\"2147-01-01\\\",\\\"regions\\\":\\\"CAN\\\",\\\"income\\\":\\\"3895.056157686509\\\"},{\\\"time\\\":\\\"2147-01-01\\\",\\\"regions\\\":\\\"WEU\\\",\\\"income\\\":\\\"52248.50754368646\\\"},{\\\"time\\\":\\\"2147-01-01\\\",\\\"regions\\\":\\\"JPK\\\",\\\"income\\\":\\\"41918.91954692947\\\"},{\\\"time\\\":\\\"2147-01-01\\\",\\\"regions\\\":\\\"ANZ\\\",\\\"income\\\":\\\"3587.9565426395825\\\"},{\\\"time\\\":\\\"2147-01-01\\\",\\\"regions\\\":\\\"EEU\\\",\\\"income\\\":\\\"5687.794922482366\\\"},{\\\"time\\\":\\\"2147-01-01\\\",\\\"regions\\\":\\\"FSU\\\",\\\"income\\\":\\\"7115.408374780619\\\"},{\\\"time\\\":\\\"2147-01-01\\\",\\\"regions\\\":\\\"MDE\\\",\\\"income\\\":\\\"31277.1074856435\\\"},{\\\"time\\\":\\\"2147-01-01\\\",\\\"regions\\\":\\\"CAM\\\",\\\"income\\\":\\\"13777.584635974197\\\"},{\\\"time\\\":\\\"2147-01-01\\\",\\\"regions\\\":\\\"LAM\\\",\\\"income\\\":\\\"47652.94543384957\\\"},{\\\"time\\\":\\\"2147-01-01\\\",\\\"regions\\\":\\\"SAS\\\",\\\"income\\\":\\\"26857.191018318452\\\"},{\\\"time\\\":\\\"2147-01-01\\\",\\\"regions\\\":\\\"SEA\\\",\\\"income\\\":\\\"35914.78812536503\\\"},{\\\"time\\\":\\\"2147-01-01\\\",\\\"regions\\\":\\\"CHI\\\",\\\"income\\\":\\\"58940.04667741254\\\"},{\\\"time\\\":\\\"2147-01-01\\\",\\\"regions\\\":\\\"MAF\\\",\\\"income\\\":\\\"9809.007926432374\\\"},{\\\"time\\\":\\\"2147-01-01\\\",\\\"regions\\\":\\\"SSA\\\",\\\"income\\\":\\\"18719.291375033794\\\"},{\\\"time\\\":\\\"2147-01-01\\\",\\\"regions\\\":\\\"SIS\\\",\\\"income\\\":\\\"1811.7074842685013\\\"},{\\\"time\\\":\\\"2148-01-01\\\",\\\"regions\\\":\\\"USA\\\",\\\"income\\\":\\\"48906.04733717134\\\"},{\\\"time\\\":\\\"2148-01-01\\\",\\\"regions\\\":\\\"CAN\\\",\\\"income\\\":\\\"3918.183832966026\\\"},{\\\"time\\\":\\\"2148-01-01\\\",\\\"regions\\\":\\\"WEU\\\",\\\"income\\\":\\\"52540.24710805213\\\"},{\\\"time\\\":\\\"2148-01-01\\\",\\\"regions\\\":\\\"JPK\\\",\\\"income\\\":\\\"42173.62172972271\\\"},{\\\"time\\\":\\\"2148-01-01\\\",\\\"regions\\\":\\\"ANZ\\\",\\\"income\\\":\\\"3609.541046126894\\\"},{\\\"time\\\":\\\"2148-01-01\\\",\\\"regions\\\":\\\"EEU\\\",\\\"income\\\":\\\"5730.207983059693\\\"},{\\\"time\\\":\\\"2148-01-01\\\",\\\"regions\\\":\\\"FSU\\\",\\\"income\\\":\\\"7155.0297166505425\\\"},{\\\"time\\\":\\\"2148-01-01\\\",\\\"regions\\\":\\\"MDE\\\",\\\"income\\\":\\\"31601.853472546412\\\"},{\\\"time\\\":\\\"2148-01-01\\\",\\\"regions\\\":\\\"CAM\\\",\\\"income\\\":\\\"13916.169121205276\\\"},{\\\"time\\\":\\\"2148-01-01\\\",\\\"regions\\\":\\\"LAM\\\",\\\"income\\\":\\\"48148.026502623616\\\"},{\\\"time\\\":\\\"2148-01-01\\\",\\\"regions\\\":\\\"SAS\\\",\\\"income\\\":\\\"27124.80814808241\\\"},{\\\"time\\\":\\\"2148-01-01\\\",\\\"regions\\\":\\\"SEA\\\",\\\"income\\\":\\\"36269.78852146394\\\"},{\\\"time\\\":\\\"2148-01-01\\\",\\\"regions\\\":\\\"CHI\\\",\\\"income\\\":\\\"59524.12348481048\\\"},{\\\"time\\\":\\\"2148-01-01\\\",\\\"regions\\\":\\\"MAF\\\",\\\"income\\\":\\\"9893.511252937908\\\"},{\\\"time\\\":\\\"2148-01-01\\\",\\\"regions\\\":\\\"SSA\\\",\\\"income\\\":\\\"18901.227824980055\\\"},{\\\"time\\\":\\\"2148-01-01\\\",\\\"regions\\\":\\\"SIS\\\",\\\"income\\\":\\\"1830.8339362430622\\\"},{\\\"time\\\":\\\"2149-01-01\\\",\\\"regions\\\":\\\"USA\\\",\\\"income\\\":\\\"49189.20612561272\\\"},{\\\"time\\\":\\\"2149-01-01\\\",\\\"regions\\\":\\\"CAN\\\",\\\"income\\\":\\\"3941.27927099806\\\"},{\\\"time\\\":\\\"2149-01-01\\\",\\\"regions\\\":\\\"WEU\\\",\\\"income\\\":\\\"52831.197743467026\\\"},{\\\"time\\\":\\\"2149-01-01\\\",\\\"regions\\\":\\\"JPK\\\",\\\"income\\\":\\\"42427.97981997187\\\"},{\\\"time\\\":\\\"2149-01-01\\\",\\\"regions\\\":\\\"ANZ\\\",\\\"income\\\":\\\"3631.0925034860093\\\"},{\\\"time\\\":\\\"2149-01-01\\\",\\\"regions\\\":\\\"EEU\\\",\\\"income\\\":\\\"5772.656701549993\\\"},{\\\"time\\\":\\\"2149-01-01\\\",\\\"regions\\\":\\\"FSU\\\",\\\"income\\\":\\\"7194.4317513978995\\\"},{\\\"time\\\":\\\"2149-01-01\\\",\\\"regions\\\":\\\"MDE\\\",\\\"income\\\":\\\"31923.370666532894\\\"},{\\\"time\\\":\\\"2149-01-01\\\",\\\"regions\\\":\\\"CAM\\\",\\\"income\\\":\\\"14053.229637156195\\\"},{\\\"time\\\":\\\"2149-01-01\\\",\\\"regions\\\":\\\"LAM\\\",\\\"income\\\":\\\"48638.542962513035\\\"},{\\\"time\\\":\\\"2149-01-01\\\",\\\"regions\\\":\\\"SAS\\\",\\\"income\\\":\\\"27389.399398790014\\\"},{\\\"time\\\":\\\"2149-01-01\\\",\\\"regions\\\":\\\"SEA\\\",\\\"income\\\":\\\"36620.797421283445\\\"},{\\\"time\\\":\\\"2149-01-01\\\",\\\"regions\\\":\\\"CHI\\\",\\\"income\\\":\\\"60101.34307897211\\\"},{\\\"time\\\":\\\"2149-01-01\\\",\\\"regions\\\":\\\"MAF\\\",\\\"income\\\":\\\"9976.67988036317\\\"},{\\\"time\\\":\\\"2149-01-01\\\",\\\"regions\\\":\\\"SSA\\\",\\\"income\\\":\\\"19081.06578654258\\\"},{\\\"time\\\":\\\"2149-01-01\\\",\\\"regions\\\":\\\"SIS\\\",\\\"income\\\":\\\"1849.786699447141\\\"},{\\\"time\\\":\\\"2150-01-01\\\",\\\"regions\\\":\\\"USA\\\",\\\"income\\\":\\\"49471.89566678188\\\"},{\\\"time\\\":\\\"2150-01-01\\\",\\\"regions\\\":\\\"CAN\\\",\\\"income\\\":\\\"3964.340469719027\\\"},{\\\"time\\\":\\\"2150-01-01\\\",\\\"regions\\\":\\\"WEU\\\",\\\"income\\\":\\\"53121.33336507826\\\"},{\\\"time\\\":\\\"2150-01-01\\\",\\\"regions\\\":\\\"JPK\\\",\\\"income\\\":\\\"42681.969241853454\\\"},{\\\"time\\\":\\\"2150-01-01\\\",\\\"regions\\\":\\\"ANZ\\\",\\\"income\\\":\\\"3652.6088155771763\\\"},{\\\"time\\\":\\\"2150-01-01\\\",\\\"regions\\\":\\\"EEU\\\",\\\"income\\\":\\\"5815.137723919068\\\"},{\\\"time\\\":\\\"2150-01-01\\\",\\\"regions\\\":\\\"FSU\\\",\\\"income\\\":\\\"7233.610809616467\\\"},{\\\"time\\\":\\\"2150-01-01\\\",\\\"regions\\\":\\\"MDE\\\",\\\"income\\\":\\\"32241.493637908865\\\"},{\\\"time\\\":\\\"2150-01-01\\\",\\\"regions\\\":\\\"CAM\\\",\\\"income\\\":\\\"14188.694429462328\\\"},{\\\"time\\\":\\\"2150-01-01\\\",\\\"regions\\\":\\\"LAM\\\",\\\"income\\\":\\\"49124.25172404352\\\"},{\\\"time\\\":\\\"2150-01-01\\\",\\\"regions\\\":\\\"SAS\\\",\\\"income\\\":\\\"27650.82609005353\\\"},{\\\"time\\\":\\\"2150-01-01\\\",\\\"regions\\\":\\\"SEA\\\",\\\"income\\\":\\\"36967.63480014586\\\"},{\\\"time\\\":\\\"2150-01-01\\\",\\\"regions\\\":\\\"CHI\\\",\\\"income\\\":\\\"60671.40743527208\\\"},{\\\"time\\\":\\\"2150-01-01\\\",\\\"regions\\\":\\\"MAF\\\",\\\"income\\\":\\\"10058.470795739488\\\"},{\\\"time\\\":\\\"2150-01-01\\\",\\\"regions\\\":\\\"SSA\\\",\\\"income\\\":\\\"19258.71398936347\\\"},{\\\"time\\\":\\\"2150-01-01\\\",\\\"regions\\\":\\\"SIS\\\",\\\"income\\\":\\\"1868.5562424326936\\\"}]\")\n",
       "    },\n",
       "    title=\"socioeconomic : income\",\n",
       "    width=450,\n",
       "    mark={\n",
       "        type=\"line\"\n",
       "    },\n",
       "    description=\"plot for a specific component variable pair\"\n",
       ")"
      ]
     },
     "execution_count": 5,
     "metadata": {},
     "output_type": "execute_result"
    }
   ],
   "source": [
    "p = Mimi.plot(m, :socioeconomic, :income)"
   ]
  }
 ],
 "metadata": {
  "kernelspec": {
   "display_name": "Julia 1.6.1",
   "language": "julia",
   "name": "julia-1.6"
  },
  "language_info": {
   "file_extension": ".jl",
   "mimetype": "application/julia",
   "name": "julia",
   "version": "1.6.1"
  }
 },
 "nbformat": 4,
 "nbformat_minor": 5
}
