{
 "cells": [
  {
   "cell_type": "code",
   "execution_count": 2,
   "metadata": {},
   "outputs": [
    {
     "name": "stderr",
     "output_type": "stream",
     "text": [
      "WARNING: replacing module MyModel.\n"
     ]
    }
   ],
   "source": [
    "using Mimi\n",
    "\n",
    "include(\"MyModel.jl\")\n",
    "using .MyModel"
   ]
  },
  {
   "cell_type": "code",
   "execution_count": 3,
   "metadata": {},
   "outputs": [
    {
     "data": {
      "text/html": [
       "<div><div style = \"float: left;\"><span>20×2 DataFrame</span></div><div style = \"clear: both;\"></div></div><div class = \"data-frame\" style = \"overflow-x: scroll;\"><table class = \"data-frame\" style = \"margin-bottom: 6px;\"><thead><tr class = \"header\"><th class = \"rowNumber\" style = \"font-weight: bold; text-align: right;\">Row</th><th style = \"text-align: left;\">time</th><th style = \"text-align: left;\">E_Global</th></tr><tr class = \"subheader headerLastRow\"><th class = \"rowNumber\" style = \"font-weight: bold; text-align: right;\"></th><th title = \"Int64\" style = \"text-align: left;\">Int64</th><th title = \"Union{Missing, Float64}\" style = \"text-align: left;\">Float64?</th></tr></thead><tbody><tr><td class = \"rowNumber\" style = \"font-weight: bold; text-align: right;\">1</td><td style = \"text-align: right;\">2015</td><td style = \"text-align: right;\">2392.08</td></tr><tr><td class = \"rowNumber\" style = \"font-weight: bold; text-align: right;\">2</td><td style = \"text-align: right;\">2020</td><td style = \"text-align: right;\">7740.88</td></tr><tr><td class = \"rowNumber\" style = \"font-weight: bold; text-align: right;\">3</td><td style = \"text-align: right;\">2025</td><td style = \"text-align: right;\">11842.4</td></tr><tr><td class = \"rowNumber\" style = \"font-weight: bold; text-align: right;\">4</td><td style = \"text-align: right;\">2030</td><td style = \"text-align: right;\">14629.7</td></tr><tr><td class = \"rowNumber\" style = \"font-weight: bold; text-align: right;\">5</td><td style = \"text-align: right;\">2035</td><td style = \"text-align: right;\">16686.5</td></tr><tr><td class = \"rowNumber\" style = \"font-weight: bold; text-align: right;\">6</td><td style = \"text-align: right;\">2040</td><td style = \"text-align: right;\">18338.4</td></tr><tr><td class = \"rowNumber\" style = \"font-weight: bold; text-align: right;\">7</td><td style = \"text-align: right;\">2045</td><td style = \"text-align: right;\">19763.7</td></tr><tr><td class = \"rowNumber\" style = \"font-weight: bold; text-align: right;\">8</td><td style = \"text-align: right;\">2050</td><td style = \"text-align: right;\">21066.5</td></tr><tr><td class = \"rowNumber\" style = \"font-weight: bold; text-align: right;\">9</td><td style = \"text-align: right;\">2055</td><td style = \"text-align: right;\">22310.9</td></tr><tr><td class = \"rowNumber\" style = \"font-weight: bold; text-align: right;\">10</td><td style = \"text-align: right;\">2060</td><td style = \"text-align: right;\">23537.4</td></tr><tr><td class = \"rowNumber\" style = \"font-weight: bold; text-align: right;\">11</td><td style = \"text-align: right;\">2065</td><td style = \"text-align: right;\">24773.2</td></tr><tr><td class = \"rowNumber\" style = \"font-weight: bold; text-align: right;\">12</td><td style = \"text-align: right;\">2070</td><td style = \"text-align: right;\">26036.4</td></tr><tr><td class = \"rowNumber\" style = \"font-weight: bold; text-align: right;\">13</td><td style = \"text-align: right;\">2075</td><td style = \"text-align: right;\">27340.2</td></tr><tr><td class = \"rowNumber\" style = \"font-weight: bold; text-align: right;\">14</td><td style = \"text-align: right;\">2080</td><td style = \"text-align: right;\">28694.1</td></tr><tr><td class = \"rowNumber\" style = \"font-weight: bold; text-align: right;\">15</td><td style = \"text-align: right;\">2085</td><td style = \"text-align: right;\">30105.8</td></tr><tr><td class = \"rowNumber\" style = \"font-weight: bold; text-align: right;\">16</td><td style = \"text-align: right;\">2090</td><td style = \"text-align: right;\">31581.4</td></tr><tr><td class = \"rowNumber\" style = \"font-weight: bold; text-align: right;\">17</td><td style = \"text-align: right;\">2095</td><td style = \"text-align: right;\">33126.3</td></tr><tr><td class = \"rowNumber\" style = \"font-weight: bold; text-align: right;\">18</td><td style = \"text-align: right;\">2100</td><td style = \"text-align: right;\">34745.6</td></tr><tr><td class = \"rowNumber\" style = \"font-weight: bold; text-align: right;\">19</td><td style = \"text-align: right;\">2105</td><td style = \"text-align: right;\">36444.1</td></tr><tr><td class = \"rowNumber\" style = \"font-weight: bold; text-align: right;\">20</td><td style = \"text-align: right;\">2110</td><td style = \"text-align: right;\">38226.2</td></tr></tbody></table></div>"
      ],
      "text/latex": [
       "\\begin{tabular}{r|cc}\n",
       "\t& time & E\\_Global\\\\\n",
       "\t\\hline\n",
       "\t& Int64 & Float64?\\\\\n",
       "\t\\hline\n",
       "\t1 & 2015 & 2392.08 \\\\\n",
       "\t2 & 2020 & 7740.88 \\\\\n",
       "\t3 & 2025 & 11842.4 \\\\\n",
       "\t4 & 2030 & 14629.7 \\\\\n",
       "\t5 & 2035 & 16686.5 \\\\\n",
       "\t6 & 2040 & 18338.4 \\\\\n",
       "\t7 & 2045 & 19763.7 \\\\\n",
       "\t8 & 2050 & 21066.5 \\\\\n",
       "\t9 & 2055 & 22310.9 \\\\\n",
       "\t10 & 2060 & 23537.4 \\\\\n",
       "\t11 & 2065 & 24773.2 \\\\\n",
       "\t12 & 2070 & 26036.4 \\\\\n",
       "\t13 & 2075 & 27340.2 \\\\\n",
       "\t14 & 2080 & 28694.1 \\\\\n",
       "\t15 & 2085 & 30105.8 \\\\\n",
       "\t16 & 2090 & 31581.4 \\\\\n",
       "\t17 & 2095 & 33126.3 \\\\\n",
       "\t18 & 2100 & 34745.6 \\\\\n",
       "\t19 & 2105 & 36444.1 \\\\\n",
       "\t20 & 2110 & 38226.2 \\\\\n",
       "\\end{tabular}\n"
      ],
      "text/plain": [
       "\u001b[1m20×2 DataFrame\u001b[0m\n",
       "\u001b[1m Row \u001b[0m│\u001b[1m time  \u001b[0m\u001b[1m E_Global \u001b[0m\n",
       "     │\u001b[90m Int64 \u001b[0m\u001b[90m Float64? \u001b[0m\n",
       "─────┼─────────────────\n",
       "   1 │  2015   2392.08\n",
       "   2 │  2020   7740.88\n",
       "   3 │  2025  11842.4\n",
       "   4 │  2030  14629.7\n",
       "   5 │  2035  16686.5\n",
       "   6 │  2040  18338.4\n",
       "   7 │  2045  19763.7\n",
       "   8 │  2050  21066.5\n",
       "  ⋮  │   ⋮       ⋮\n",
       "  14 │  2080  28694.1\n",
       "  15 │  2085  30105.8\n",
       "  16 │  2090  31581.4\n",
       "  17 │  2095  33126.3\n",
       "  18 │  2100  34745.6\n",
       "  19 │  2105  36444.1\n",
       "  20 │  2110  38226.2\n",
       "\u001b[36m         5 rows omitted\u001b[0m"
      ]
     },
     "metadata": {},
     "output_type": "display_data"
    }
   ],
   "source": [
    "m = construct_MyModel()\n",
    "run(m)\n",
    "\n",
    "# Check results\n",
    "getdataframe(m, :emissions, :E_Global) # or m[:emissions, :E_Global] to return just the Array"
   ]
  },
  {
   "cell_type": "code",
   "execution_count": 4,
   "metadata": {},
   "outputs": [
    {
     "data": {
      "text/plain": [
       "Electron.Window(Application(Base.PipeEndpoint(RawFD(24) paused, 0 bytes waiting), Process(setenv(`\u001b[4m/Users/ce3304/.julia/artifacts/af89516f228377420737a306e9701ae844eee264/Julia.app/Contents/MacOS/Julia\u001b[24m \u001b[4m/Users/ce3304/.julia/packages/Electron/pOy6n/src/main.js\u001b[24m \u001b[4m/var/folders/t7/fy2lqlxs1mv8209nfcq776m58xvr_f/T/jlel-90e345b4a73711ed221a71dd90196cee\u001b[24m \u001b[4m/var/folders/t7/fy2lqlxs1mv8209nfcq776m58xvr_f/T/jlel-sn-90e34d8ea73711ed24ea39c6b55873b4\u001b[24m \u001b[4mgwq/TvDp8N2rf9tkYpdWRYu93znOp5o14VnlR1Ebp7OM+i2oPdsrlNInU5xZj1nuM7LJarDyfV1hq+MQxon+wPx1IL3dOiRszY84BrlNOq7gDu1U6hx9ZHcetRW582vPBrq8YL04dmiZvRChkped/TxppUAjbfYatAwDKG4zz3Q=\u001b[24m`,[\"VSCODE_CWD=/Users/ce3304\", \"XPC_FLAGS=0x0\", \"COMMAND_MODE=unix2003\", \"CONDA_PROMPT_MODIFIER=(base) \", \"PATH=/Users/aewsma/anaconda3/bin:/Users/aewsma/anaconda3/condabin:/usr/bin:/bin:/usr/sbin:/sbin\", \"PWD=/Users/ce3304\", \"VSCODE_CODE_CACHE_PATH=/Users/ce3304/.anaconda/navigator/Code/CachedData/97dec172d3256f8ca4bfb2143f3f76b503ca0534\", \"VSCODE_HANDLES_UNCAUGHT_ERRORS=true\", \"XPC_SERVICE_NAME=application.com.microsoft.VSCode.152802133.152802359.FA3387CE-DD6E-4399-82A9-88A71F04FFDE\", \"VSCODE_NLS_CONFIG={\\\"locale\\\":\\\"en-us\\\",\\\"availableLanguages\\\":{},\\\"_languagePackSupport\\\":true}\"  …  \"CONDA_DEFAULT_ENV=base\", \"USER=ce3304\", \"CONDA_SHLVL=1\", \"CONDA_EXE=/Users/aewsma/anaconda3/bin/conda\", \"HOME=/Users/ce3304\", \"CONDA_ROOT=/Users/aewsma/anaconda3\", \"ELECTRON_NO_ATTACH_CONSOLE=1\", \"JULIA_NUM_THREADS=\", \"OPENBLAS_MAIN_FREE=1\", \"MLM_LICENSE_FILE=27004@license01.ad.rit.edu:27004@license02.ad.rit.edu:27004@license03.ad.rit.edu\"]), ProcessRunning), [1 window]), 1, true, Channel{Any}(128))"
      ]
     },
     "metadata": {},
     "output_type": "display_data"
    }
   ],
   "source": [
    "# Observe model result graphs\n",
    "explore(m)"
   ]
  }
 ],
 "metadata": {
  "kernelspec": {
   "display_name": "Julia 1.7.3",
   "language": "julia",
   "name": "julia-1.7"
  },
  "language_info": {
   "file_extension": ".jl",
   "mimetype": "application/julia",
   "name": "julia",
   "version": "1.7.3"
  },
  "orig_nbformat": 4
 },
 "nbformat": 4,
 "nbformat_minor": 2
}
