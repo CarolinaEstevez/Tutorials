{
 "cells": [
  {
   "cell_type": "code",
   "execution_count": 1,
   "metadata": {},
   "outputs": [
    {
     "ename": "LoadError",
     "evalue": "LoadError: SystemError: opening file \"/Users/ce3304/Library/CloudStorage/GoogleDrive-ce3304@g.rit.edu/My Drive/Tutorials/Tutorials/Constructing_Multi_Region_Model/region_parameters.jl\": No such file or directory\nin expression starting at /Users/ce3304/Library/CloudStorage/GoogleDrive-ce3304@g.rit.edu/My Drive/Tutorials/Tutorials/Constructing_Multi_Region_Model/MyModel.jl:3",
     "output_type": "error",
     "traceback": [
      "LoadError: SystemError: opening file \"/Users/ce3304/Library/CloudStorage/GoogleDrive-ce3304@g.rit.edu/My Drive/Tutorials/Tutorials/Constructing_Multi_Region_Model/region_parameters.jl\": No such file or directory\n",
      "in expression starting at /Users/ce3304/Library/CloudStorage/GoogleDrive-ce3304@g.rit.edu/My Drive/Tutorials/Tutorials/Constructing_Multi_Region_Model/MyModel.jl:3\n",
      "\n",
      "Stacktrace:\n",
      "  [1] systemerror(p::String, errno::Int32; extrainfo::Nothing)\n",
      "    @ Base ./error.jl:174\n",
      "  [2] #systemerror#68\n",
      "    @ ./error.jl:173 [inlined]\n",
      "  [3] systemerror\n",
      "    @ ./error.jl:173 [inlined]\n",
      "  [4] open(fname::String; lock::Bool, read::Nothing, write::Nothing, create::Nothing, truncate::Nothing, append::Nothing)\n",
      "    @ Base ./iostream.jl:293\n",
      "  [5] open\n",
      "    @ ./iostream.jl:282 [inlined]\n",
      "  [6] open(f::Base.var\"#364#365\"{String}, args::String; kwargs::Base.Pairs{Symbol, Union{}, Tuple{}, NamedTuple{(), Tuple{}}})\n",
      "    @ Base ./io.jl:328\n",
      "  [7] open\n",
      "    @ ./io.jl:328 [inlined]\n",
      "  [8] read\n",
      "    @ ./io.jl:436 [inlined]\n",
      "  [9] _include(mapexpr::Function, mod::Module, _path::String)\n",
      "    @ Base ./loading.jl:1249\n",
      " [10] include(mod::Module, _path::String)\n",
      "    @ Base ./Base.jl:418\n",
      " [11] include(x::String)\n",
      "    @ Main.MyModel ~/Library/CloudStorage/GoogleDrive-ce3304@g.rit.edu/My Drive/Tutorials/Tutorials/Constructing_Multi_Region_Model/MyModel.jl:3\n",
      " [12] top-level scope\n",
      "    @ ~/Library/CloudStorage/GoogleDrive-ce3304@g.rit.edu/My Drive/Tutorials/Tutorials/Constructing_Multi_Region_Model/MyModel.jl:8"
     ]
    }
   ],
   "source": [
    "using Mimi\n",
    "\n",
    "include(\"MyModel.jl\")\n",
    "using .MyModel"
   ]
  },
  {
   "cell_type": "code",
   "execution_count": 3,
   "metadata": {},
   "outputs": [
    {
     "ename": "LoadError",
     "evalue": "UndefVarError: construct_MyModel not defined",
     "output_type": "error",
     "traceback": [
      "UndefVarError: construct_MyModel not defined",
      "",
      "Stacktrace:",
      " [1] top-level scope",
      "   @ In[3]:1"
     ]
    }
   ],
   "source": [
    "m = construct_MyModel()\n",
    "run(m)\n",
    "\n",
    "# Check results\n",
    "getdataframe(m, :emissions, :E_Global) # or m[:emissions, :E_Global] to return just the Array"
   ]
  },
  {
   "cell_type": "code",
   "execution_count": null,
   "metadata": {},
   "outputs": [],
   "source": [
    "# Observe model result graphs\n",
    "explore(m)"
   ]
  }
 ],
 "metadata": {
  "kernelspec": {
   "display_name": "Julia 1.7.3",
   "language": "julia",
   "name": "julia-1.7"
  },
  "language_info": {
   "file_extension": ".jl",
   "mimetype": "application/julia",
   "name": "julia",
   "version": "1.7.3"
  },
  "orig_nbformat": 4
 },
 "nbformat": 4,
 "nbformat_minor": 2
}
