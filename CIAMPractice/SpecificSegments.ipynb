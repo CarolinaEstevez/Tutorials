{
 "cells": [
  {
   "cell_type": "code",
   "execution_count": 2,
   "metadata": {},
   "outputs": [
    {
     "ename": "MethodError",
     "evalue": "MethodError: no method matching joinpath(::String, ::Int64)\nClosest candidates are:\n  joinpath(!Matched::AbstractString...) at /Applications/Julia-1.7.app/Contents/Resources/julia/share/julia/base/path.jl:327\n  joinpath(!Matched::Mimi.ComponentPath, ::Any...) at ~/.julia/packages/Mimi/OClro/src/core/paths.jl:21",
     "output_type": "error",
     "traceback": [
      "MethodError: no method matching joinpath(::String, ::Int64)\n",
      "Closest candidates are:\n",
      "  joinpath(!Matched::AbstractString...) at /Applications/Julia-1.7.app/Contents/Resources/julia/share/julia/base/path.jl:327\n",
      "  joinpath(!Matched::Mimi.ComponentPath, ::Any...) at ~/.julia/packages/Mimi/OClro/src/core/paths.jl:21\n",
      "\n",
      "Stacktrace:\n",
      " [1] load_subset\n",
      "   @ ~/.julia/packages/MimiCIAM/dbhiy/src/ciamhelper.jl:336 [inlined]\n",
      " [2] import_model_data(lslfile::InlineStrings.String31, sub::Int64, ssp::InlineStrings.String31, ssp_simplified::Int64, popinput::Int64, surgeoption::Int64)\n",
      "   @ MimiCIAM ~/.julia/packages/MimiCIAM/dbhiy/src/ciamhelper.jl:365\n",
      " [3] get_model(; initfile::String, fixed::Bool, t::Int64, noRetreat::Bool, allowMaintain::Bool, popinput::Int64, GAMSmatch::Bool, surgeoption::Int64)\n",
      "   @ MimiCIAM ~/.julia/packages/MimiCIAM/dbhiy/src/ciam.jl:92\n",
      " [4] top-level scope\n",
      "   @ ~/Library/CloudStorage/GoogleDrive-ce3304@g.rit.edu/My Drive/Tutorials/Tutorials/CIAMPractice/SpecificSegments.ipynb:2"
     ]
    }
   ],
   "source": [
    "using MimiCIAM\n",
    "m = MimiCIAM.get_model(initfile =\"./Colima_init.csv\")\n",
    "run(m)"
   ]
  }
 ],
 "metadata": {
  "kernelspec": {
   "display_name": "Julia 1.7.3",
   "language": "julia",
   "name": "julia-1.7"
  },
  "language_info": {
   "file_extension": ".jl",
   "mimetype": "application/julia",
   "name": "julia",
   "version": "1.7.3"
  },
  "orig_nbformat": 4
 },
 "nbformat": 4,
 "nbformat_minor": 2
}
