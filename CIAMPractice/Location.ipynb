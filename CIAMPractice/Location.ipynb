{
 "cells": [
  {
   "cell_type": "code",
   "execution_count": 23,
   "metadata": {},
   "outputs": [],
   "source": [
    "import Pkg"
   ]
  },
  {
   "cell_type": "code",
   "execution_count": 4,
   "metadata": {},
   "outputs": [],
   "source": [
    "\n",
    "Pkg.add(\"DataFrames\")"
   ]
  },
  {
   "cell_type": "code",
   "execution_count": 20,
   "metadata": {},
   "outputs": [],
   "source": [
    "Pkg.add(\"CSVFiles\")"
   ]
  },
  {
   "cell_type": "code",
   "execution_count": 24,
   "metadata": {},
   "outputs": [],
   "source": [
    "Pkg.add(\"MimiCIAM\")"
   ]
  },
  {
   "cell_type": "code",
   "execution_count": 6,
   "metadata": {},
   "outputs": [
    {
     "data": {
      "text/html": [
       "<div><div style = \"float: left;\"><span>12148×4 DataFrame</span></div><div style = \"float: right;\"><span style = \"font-style: italic;\">12123 rows omitted</span></div><div style = \"clear: both;\"></div></div><div class = \"data-frame\" style = \"overflow-x: scroll;\"><table class = \"data-frame\" style = \"margin-bottom: 6px;\"><thead><tr class = \"header\"><th class = \"rowNumber\" style = \"font-weight: bold; text-align: right;\">Row</th><th style = \"text-align: left;\">segments</th><th style = \"text-align: left;\">segid</th><th style = \"text-align: left;\">longi</th><th style = \"text-align: left;\">lati</th></tr><tr class = \"subheader headerLastRow\"><th class = \"rowNumber\" style = \"font-weight: bold; text-align: right;\"></th><th title = \"String\" style = \"text-align: left;\">String</th><th title = \"Int64\" style = \"text-align: left;\">Int64</th><th title = \"Float64\" style = \"text-align: left;\">Float64</th><th title = \"Float64\" style = \"text-align: left;\">Float64</th></tr></thead><tbody><tr><td class = \"rowNumber\" style = \"font-weight: bold; text-align: right;\">1</td><td style = \"text-align: left;\">Canada5106</td><td style = \"text-align: right;\">5106</td><td style = \"text-align: right;\">-122.645</td><td style = \"text-align: right;\">75.918</td></tr><tr><td class = \"rowNumber\" style = \"font-weight: bold; text-align: right;\">2</td><td style = \"text-align: left;\">Canada5115</td><td style = \"text-align: right;\">5115</td><td style = \"text-align: right;\">-121.031</td><td style = \"text-align: right;\">75.891</td></tr><tr><td class = \"rowNumber\" style = \"font-weight: bold; text-align: right;\">3</td><td style = \"text-align: left;\">Canada5120</td><td style = \"text-align: right;\">5120</td><td style = \"text-align: right;\">-116.799</td><td style = \"text-align: right;\">77.534</td></tr><tr><td class = \"rowNumber\" style = \"font-weight: bold; text-align: right;\">4</td><td style = \"text-align: left;\">Canada5132</td><td style = \"text-align: right;\">5132</td><td style = \"text-align: right;\">-118.191</td><td style = \"text-align: right;\">75.968</td></tr><tr><td class = \"rowNumber\" style = \"font-weight: bold; text-align: right;\">5</td><td style = \"text-align: left;\">Canada5166</td><td style = \"text-align: right;\">5166</td><td style = \"text-align: right;\">-115.022</td><td style = \"text-align: right;\">74.963</td></tr><tr><td class = \"rowNumber\" style = \"font-weight: bold; text-align: right;\">6</td><td style = \"text-align: left;\">Canada5167</td><td style = \"text-align: right;\">5167</td><td style = \"text-align: right;\">-114.982</td><td style = \"text-align: right;\">75.853</td></tr><tr><td class = \"rowNumber\" style = \"font-weight: bold; text-align: right;\">7</td><td style = \"text-align: left;\">Canada5202</td><td style = \"text-align: right;\">5202</td><td style = \"text-align: right;\">-115.077</td><td style = \"text-align: right;\">77.939</td></tr><tr><td class = \"rowNumber\" style = \"font-weight: bold; text-align: right;\">8</td><td style = \"text-align: left;\">Canada5168</td><td style = \"text-align: right;\">5168</td><td style = \"text-align: right;\">-112.533</td><td style = \"text-align: right;\">74.995</td></tr><tr><td class = \"rowNumber\" style = \"font-weight: bold; text-align: right;\">9</td><td style = \"text-align: left;\">Canada5169</td><td style = \"text-align: right;\">5169</td><td style = \"text-align: right;\">-112.433</td><td style = \"text-align: right;\">76.163</td></tr><tr><td class = \"rowNumber\" style = \"font-weight: bold; text-align: right;\">10</td><td style = \"text-align: left;\">Canada5171</td><td style = \"text-align: right;\">5171</td><td style = \"text-align: right;\">-111.468</td><td style = \"text-align: right;\">75.838</td></tr><tr><td class = \"rowNumber\" style = \"font-weight: bold; text-align: right;\">11</td><td style = \"text-align: left;\">Canada5172</td><td style = \"text-align: right;\">5172</td><td style = \"text-align: right;\">-110.497</td><td style = \"text-align: right;\">75.569</td></tr><tr><td class = \"rowNumber\" style = \"font-weight: bold; text-align: right;\">12</td><td style = \"text-align: left;\">Canada5173</td><td style = \"text-align: right;\">5173</td><td style = \"text-align: right;\">-109.424</td><td style = \"text-align: right;\">75.518</td></tr><tr><td class = \"rowNumber\" style = \"font-weight: bold; text-align: right;\">13</td><td style = \"text-align: left;\">Canada5175</td><td style = \"text-align: right;\">5175</td><td style = \"text-align: right;\">-109.938</td><td style = \"text-align: right;\">75.857</td></tr><tr><td style = \"text-align: right;\">&vellip;</td><td style = \"text-align: right;\">&vellip;</td><td style = \"text-align: right;\">&vellip;</td><td style = \"text-align: right;\">&vellip;</td><td style = \"text-align: right;\">&vellip;</td></tr><tr><td class = \"rowNumber\" style = \"font-weight: bold; text-align: right;\">12137</td><td style = \"text-align: left;\">Peru3952</td><td style = \"text-align: right;\">3952</td><td style = \"text-align: right;\">-77.147</td><td style = \"text-align: right;\">-12.011</td></tr><tr><td class = \"rowNumber\" style = \"font-weight: bold; text-align: right;\">12138</td><td style = \"text-align: left;\">Peru3953</td><td style = \"text-align: right;\">3953</td><td style = \"text-align: right;\">-77.041</td><td style = \"text-align: right;\">-12.136</td></tr><tr><td class = \"rowNumber\" style = \"font-weight: bold; text-align: right;\">12139</td><td style = \"text-align: left;\">Peru3954</td><td style = \"text-align: right;\">3954</td><td style = \"text-align: right;\">-76.841</td><td style = \"text-align: right;\">-12.338</td></tr><tr><td class = \"rowNumber\" style = \"font-weight: bold; text-align: right;\">12140</td><td style = \"text-align: left;\">Peru3955</td><td style = \"text-align: right;\">3955</td><td style = \"text-align: right;\">-76.657</td><td style = \"text-align: right;\">-12.711</td></tr><tr><td class = \"rowNumber\" style = \"font-weight: bold; text-align: right;\">12141</td><td style = \"text-align: left;\">Peru3956</td><td style = \"text-align: right;\">3956</td><td style = \"text-align: right;\">-76.415</td><td style = \"text-align: right;\">-13.124</td></tr><tr><td class = \"rowNumber\" style = \"font-weight: bold; text-align: right;\">12142</td><td style = \"text-align: left;\">Peru3957</td><td style = \"text-align: right;\">3957</td><td style = \"text-align: right;\">-76.198</td><td style = \"text-align: right;\">-13.416</td></tr><tr><td class = \"rowNumber\" style = \"font-weight: bold; text-align: right;\">12143</td><td style = \"text-align: left;\">Peru3958</td><td style = \"text-align: right;\">3958</td><td style = \"text-align: right;\">-76.204</td><td style = \"text-align: right;\">-13.644</td></tr><tr><td class = \"rowNumber\" style = \"font-weight: bold; text-align: right;\">12144</td><td style = \"text-align: left;\">Peru3959</td><td style = \"text-align: right;\">3959</td><td style = \"text-align: right;\">-75.938</td><td style = \"text-align: right;\">-14.61</td></tr><tr><td class = \"rowNumber\" style = \"font-weight: bold; text-align: right;\">12145</td><td style = \"text-align: left;\">Peru3960</td><td style = \"text-align: right;\">3960</td><td style = \"text-align: right;\">-73.441</td><td style = \"text-align: right;\">-16.288</td></tr><tr><td class = \"rowNumber\" style = \"font-weight: bold; text-align: right;\">12146</td><td style = \"text-align: left;\">Peru3961</td><td style = \"text-align: right;\">3961</td><td style = \"text-align: right;\">-71.65</td><td style = \"text-align: right;\">-17.231</td></tr><tr><td class = \"rowNumber\" style = \"font-weight: bold; text-align: right;\">12147</td><td style = \"text-align: left;\">Peru3962</td><td style = \"text-align: right;\">3962</td><td style = \"text-align: right;\">-71.43</td><td style = \"text-align: right;\">-17.38</td></tr><tr><td class = \"rowNumber\" style = \"font-weight: bold; text-align: right;\">12148</td><td style = \"text-align: left;\">Peru3963</td><td style = \"text-align: right;\">3963</td><td style = \"text-align: right;\">-71.336</td><td style = \"text-align: right;\">-17.656</td></tr></tbody></table></div>"
      ],
      "text/latex": [
       "\\begin{tabular}{r|cccc}\n",
       "\t& segments & segid & longi & lati\\\\\n",
       "\t\\hline\n",
       "\t& String & Int64 & Float64 & Float64\\\\\n",
       "\t\\hline\n",
       "\t1 & Canada5106 & 5106 & -122.645 & 75.918 \\\\\n",
       "\t2 & Canada5115 & 5115 & -121.031 & 75.891 \\\\\n",
       "\t3 & Canada5120 & 5120 & -116.799 & 77.534 \\\\\n",
       "\t4 & Canada5132 & 5132 & -118.191 & 75.968 \\\\\n",
       "\t5 & Canada5166 & 5166 & -115.022 & 74.963 \\\\\n",
       "\t6 & Canada5167 & 5167 & -114.982 & 75.853 \\\\\n",
       "\t7 & Canada5202 & 5202 & -115.077 & 77.939 \\\\\n",
       "\t8 & Canada5168 & 5168 & -112.533 & 74.995 \\\\\n",
       "\t9 & Canada5169 & 5169 & -112.433 & 76.163 \\\\\n",
       "\t10 & Canada5171 & 5171 & -111.468 & 75.838 \\\\\n",
       "\t11 & Canada5172 & 5172 & -110.497 & 75.569 \\\\\n",
       "\t12 & Canada5173 & 5173 & -109.424 & 75.518 \\\\\n",
       "\t13 & Canada5175 & 5175 & -109.938 & 75.857 \\\\\n",
       "\t14 & Canada5177 & 5177 & -110.052 & 75.893 \\\\\n",
       "\t15 & Canada5178 & 5178 & -108.458 & 76.735 \\\\\n",
       "\t16 & Canada5179 & 5179 & -110.388 & 76.36 \\\\\n",
       "\t17 & Canada5180 & 5180 & -109.381 & 76.128 \\\\\n",
       "\t18 & Canada5181 & 5181 & -109.938 & 75.924 \\\\\n",
       "\t19 & Canada5203 & 5203 & -114.238 & 78.047 \\\\\n",
       "\t20 & Canada5204 & 5204 & -113.605 & 77.835 \\\\\n",
       "\t21 & Canada5218 & 5218 & -114.262 & 76.88 \\\\\n",
       "\t22 & Canada5221 & 5221 & -113.817 & 77.152 \\\\\n",
       "\t23 & Canada5265 & 5265 & -110.104 & 77.548 \\\\\n",
       "\t24 & Canada5266 & 5266 & -112.483 & 77.991 \\\\\n",
       "\t25 & Canada5267 & 5267 & -109.583 & 78.039 \\\\\n",
       "\t26 & Canada5268 & 5268 & -110.781 & 78.306 \\\\\n",
       "\t27 & Canada5269 & 5269 & -112.593 & 78.501 \\\\\n",
       "\t28 & Canada5270 & 5270 & -109.263 & 78.452 \\\\\n",
       "\t29 & Canada5170 & 5170 & -108.036 & 74.929 \\\\\n",
       "\t30 & Canada5353 & 5353 & -100.031 & 80.098 \\\\\n",
       "\t$\\dots$ & $\\dots$ & $\\dots$ & $\\dots$ & $\\dots$ \\\\\n",
       "\\end{tabular}\n"
      ],
      "text/plain": [
       "\u001b[1m12148×4 DataFrame\u001b[0m\n",
       "\u001b[1m   Row \u001b[0m│\u001b[1m segments   \u001b[0m\u001b[1m segid \u001b[0m\u001b[1m longi    \u001b[0m\u001b[1m lati    \u001b[0m\n",
       "       │\u001b[90m String     \u001b[0m\u001b[90m Int64 \u001b[0m\u001b[90m Float64  \u001b[0m\u001b[90m Float64 \u001b[0m\n",
       "───────┼──────────────────────────────────────\n",
       "     1 │ Canada5106   5106  -122.645   75.918\n",
       "     2 │ Canada5115   5115  -121.031   75.891\n",
       "     3 │ Canada5120   5120  -116.799   77.534\n",
       "     4 │ Canada5132   5132  -118.191   75.968\n",
       "     5 │ Canada5166   5166  -115.022   74.963\n",
       "     6 │ Canada5167   5167  -114.982   75.853\n",
       "     7 │ Canada5202   5202  -115.077   77.939\n",
       "     8 │ Canada5168   5168  -112.533   74.995\n",
       "     9 │ Canada5169   5169  -112.433   76.163\n",
       "    10 │ Canada5171   5171  -111.468   75.838\n",
       "    11 │ Canada5172   5172  -110.497   75.569\n",
       "   ⋮   │     ⋮         ⋮       ⋮         ⋮\n",
       " 12139 │ Peru3954     3954   -76.841  -12.338\n",
       " 12140 │ Peru3955     3955   -76.657  -12.711\n",
       " 12141 │ Peru3956     3956   -76.415  -13.124\n",
       " 12142 │ Peru3957     3957   -76.198  -13.416\n",
       " 12143 │ Peru3958     3958   -76.204  -13.644\n",
       " 12144 │ Peru3959     3959   -75.938  -14.61\n",
       " 12145 │ Peru3960     3960   -73.441  -16.288\n",
       " 12146 │ Peru3961     3961   -71.65   -17.231\n",
       " 12147 │ Peru3962     3962   -71.43   -17.38\n",
       " 12148 │ Peru3963     3963   -71.336  -17.656\n",
       "\u001b[36m                            12127 rows omitted\u001b[0m"
      ]
     },
     "execution_count": 6,
     "metadata": {},
     "output_type": "execute_result"
    }
   ],
   "source": [
    "using DataFrames\n",
    "using CSVFiles\n",
    "Segments = load(\"https://raw.githubusercontent.com/raddleverse/MimiCIAM.jl/main/data/diva_segment_latlon.csv\") |> DataFrame"
   ]
  },
  {
   "cell_type": "code",
   "execution_count": 15,
   "metadata": {},
   "outputs": [
    {
     "data": {
      "text/html": [
       "<div><div style = \"float: left;\"><span>DataFrameRow (1 columns)</span></div><div style = \"clear: both;\"></div></div><div class = \"data-frame\" style = \"overflow-x: scroll;\"><table class = \"data-frame\" style = \"margin-bottom: 6px;\"><thead><tr class = \"header\"><th class = \"rowLabel\" style = \"font-weight: bold; text-align: right;\">Row</th><th style = \"text-align: left;\">longi</th></tr><tr class = \"subheader headerLastRow\"><th class = \"rowLabel\" style = \"font-weight: bold; text-align: right;\"></th><th title = \"Float64\" style = \"text-align: left;\">Float64</th></tr></thead><tbody><tr><td class = \"rowLabel\" style = \"font-weight: bold; text-align: right;\">12148</td><td style = \"text-align: right;\">-71.336</td></tr></tbody></table></div>"
      ],
      "text/latex": [
       "\\begin{tabular}{r|c}\n",
       "\t& longi\\\\\n",
       "\t\\hline\n",
       "\t& Float64\\\\\n",
       "\t\\hline\n",
       "\t12148 & -71.336 \\\\\n",
       "\\end{tabular}\n"
      ],
      "text/plain": [
       "\u001b[1mDataFrameRow\u001b[0m\n",
       "\u001b[1m   Row \u001b[0m│\u001b[1m longi   \u001b[0m\n",
       "       │\u001b[90m Float64 \u001b[0m\n",
       "───────┼─────────\n",
       " 12148 │ -71.336"
      ]
     },
     "metadata": {},
     "output_type": "display_data"
    }
   ],
   "source": [
    "Segments[12148,[:longi]]"
   ]
  },
  {
   "cell_type": "code",
   "execution_count": 17,
   "metadata": {},
   "outputs": [
    {
     "data": {
      "text/plain": [
       "-71.336"
      ]
     },
     "metadata": {},
     "output_type": "display_data"
    }
   ],
   "source": [
    "Segments[12148,3]"
   ]
  },
  {
   "cell_type": "code",
   "execution_count": 12,
   "metadata": {},
   "outputs": [
    {
     "data": {
      "text/plain": [
       "minimumdistance (generic function with 1 method)"
      ]
     },
     "execution_count": 12,
     "metadata": {},
     "output_type": "execute_result"
    }
   ],
   "source": [
    "function minimumdistance(x,y)\n",
    "    Distance=zeros(1,12148);\n",
    "    for i in 1:12148\n",
    "        distance1=(x-Segments[i,3])^2+(y-Segments[i,4])^2;\n",
    "        Distance[i]=distance1;\n",
    "    end\n",
    "    m=minimum(Distance);\n",
    "    RowNumber=findall(r->r==m,Distance);\n",
    "    print(RowNumber)\n",
    "end"
   ]
  },
  {
   "cell_type": "code",
   "execution_count": 41,
   "metadata": {},
   "outputs": [
    {
     "name": "stdout",
     "output_type": "stream",
     "text": [
      "CartesianIndex{2}[CartesianIndex(1, 4425)]"
     ]
    }
   ],
   "source": [
    "minimumdistance(-90.0715,29.5511)"
   ]
  },
  {
   "cell_type": "code",
   "execution_count": 42,
   "metadata": {},
   "outputs": [
    {
     "data": {
      "text/plain": [
       "\"UnitedStates4623\""
      ]
     },
     "execution_count": 42,
     "metadata": {},
     "output_type": "execute_result"
    }
   ],
   "source": [
    "Colima=Segments[4425,1]"
   ]
  },
  {
   "cell_type": "code",
   "execution_count": 25,
   "metadata": {},
   "outputs": [
    {
     "data": {
      "text/plain": [
       "\"/Users/ce3304/Library/CloudStorage/GoogleDrive-ce3304@g.rit.edu/My Drive/Tutorials/Tutorials/CIAMPractice\""
      ]
     },
     "metadata": {},
     "output_type": "display_data"
    }
   ],
   "source": [
    "pwd()"
   ]
  },
  {
   "cell_type": "code",
   "execution_count": 43,
   "metadata": {},
   "outputs": [
    {
     "data": {
      "text/plain": [
       "\"/Users/ce3304/Downloads/random10.txt\""
      ]
     },
     "execution_count": 43,
     "metadata": {},
     "output_type": "execute_result"
    }
   ],
   "source": [
    "\n",
    "MyLocation=\"/Users/ce3304/Downloads/random10.txt\""
   ]
  },
  {
   "cell_type": "code",
   "execution_count": 49,
   "metadata": {},
   "outputs": [
    {
     "data": {
      "text/plain": [
       "91"
      ]
     },
     "execution_count": 49,
     "metadata": {},
     "output_type": "execute_result"
    }
   ],
   "source": [
    "using MimiCIAM\n",
    "\n",
    "run_name = \"ColimaUSA5\"\n",
    "\n",
    "init_settings = Dict(\n",
    "        :init_filename   => string(\"$run_name\", \"_init.csv\"),\n",
    "        :lslrfile        => \"lsl_rcp85_p50.csv\",\n",
    "        :subset          => MyLocation,\n",
    "        :ssp             => \"IIASAGDP_SSP5_v9_130219\",\n",
    "        :ssp_simplified  => 5\n",
    "    )\n",
    "\n",
    "MimiCIAM.write_init_file(run_name, \".\", init_settings)"
   ]
  }
 ],
 "metadata": {
  "kernelspec": {
   "display_name": "Julia 1.6.1",
   "language": "julia",
   "name": "julia-1.6"
  },
  "language_info": {
   "file_extension": ".jl",
   "mimetype": "application/julia",
   "name": "julia",
   "version": "1.6.1"
  },
  "orig_nbformat": 4
 },
 "nbformat": 4,
 "nbformat_minor": 2
}
