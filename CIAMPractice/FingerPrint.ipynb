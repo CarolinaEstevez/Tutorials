{
 "cells": [
  {
   "attachments": {},
   "cell_type": "markdown",
   "metadata": {},
   "source": [
    "Data for the fingerprints depending on latitud and longitud"
   ]
  },
  {
   "cell_type": "code",
   "execution_count": 2,
   "metadata": {},
   "outputs": [
    {
     "data": {
      "text/plain": [
       "get_fingerprints (generic function with 1 method)"
      ]
     },
     "metadata": {},
     "output_type": "display_data"
    }
   ],
   "source": [
    "function get_fingerprints()\n",
    "\n",
    "    fp_dir = joinpath(@__DIR__, \"..\", \"data\")\n",
    "    isdir(fp_dir) || mkpath(fp_dir)\n",
    "    fp_file = joinpath(fp_dir, \"FINGERPRINTS_SLANGEN_Bakker.nc\")\n",
    "    if !isfile(fp_file)\n",
    "        url = \"https://github.com/scrim-network/BRICK/raw/master/fingerprints/FINGERPRINTS_SLANGEN_Bakker.nc\"\n",
    "        download(url, fp_file)\n",
    "    end\n",
    "\n",
    "    fplat = ncread(fp_file,\"lat\")\n",
    "    fplon = ncread(fp_file,\"lon\")\n",
    "    fpAIS = ncread(fp_file,\"AIS\")\n",
    "    fpGSIC = ncread(fp_file,\"GLAC\")\n",
    "    fpGIS = ncread(fp_file,\"GIS\")\n",
    "    ncclose()\n",
    "\n",
    "    return fplat,fplon,fpAIS,fpGSIC,fpGIS\n",
    "end"
   ]
  },
  {
   "cell_type": "code",
   "execution_count": 123,
   "metadata": {},
   "outputs": [
    {
     "data": {
      "text/plain": [
       "([-89.5, -88.5, -87.5, -86.5, -85.5, -84.5, -83.5, -82.5, -81.5, -80.5  …  80.5, 81.5, 82.5, 83.5, 84.5, 85.5, 86.5, 87.5, 88.5, 89.5], [0.5, 1.5, 2.5, 3.5, 4.5, 5.5, 6.5, 7.5, 8.5, 9.5  …  350.5, 351.5, 352.5, 353.5, 354.5, 355.5, 356.5, 357.5, 358.5, 359.5], Float32[NaN NaN … 1.1086327 1.1114359; NaN NaN … 1.108638 1.1114365; … ; NaN NaN … 1.1086223 1.1114353; NaN NaN … 1.1086272 1.1114354], Float32[NaN NaN … 0.021808445 0.09062562; NaN NaN … 0.022879047 0.091268495; … ; NaN NaN … 0.019840943 0.08925989; NaN NaN … 0.020792248 0.08995592], Float32[NaN NaN … -1.5367132 -1.3215039; NaN NaN … -1.5308045 -1.3199075; … ; NaN NaN … -1.5482318 -1.3246047; NaN NaN … -1.5425231 -1.3230699])"
      ]
     },
     "metadata": {},
     "output_type": "display_data"
    }
   ],
   "source": [
    "using NetCDF\n",
    "(fplat,fplon,fpAIS,fpGSIC,fpGIS) = get_fingerprints()\n"
   ]
  },
  {
   "attachments": {},
   "cell_type": "markdown",
   "metadata": {},
   "source": [
    "The matrices of fpAIS, fpGSIC, and fpGIS, are constructed in the form of [Lon,Lat], therefore we want to nearest to or segment. The functions minimumlat(x) and minimumlon(x) help us to find this values."
   ]
  },
  {
   "cell_type": "code",
   "execution_count": 49,
   "metadata": {},
   "outputs": [
    {
     "data": {
      "text/plain": [
       "minimumlat (generic function with 1 method)"
      ]
     },
     "metadata": {},
     "output_type": "display_data"
    }
   ],
   "source": [
    "function minimumlat(x)\n",
    "    Distance=zeros(1,180);\n",
    "    for i in 1:180\n",
    "        distance1=(x-fplat[i])^2;\n",
    "        Distance[i]=distance1;\n",
    "    end\n",
    "    m=minimum(Distance)\n",
    "    RowNumber=findall(r->r==m,Distance);\n",
    "    return(RowNumber)\n",
    "end"
   ]
  },
  {
   "cell_type": "code",
   "execution_count": 54,
   "metadata": {},
   "outputs": [
    {
     "data": {
      "text/plain": [
       "minimumlon (generic function with 1 method)"
      ]
     },
     "metadata": {},
     "output_type": "display_data"
    }
   ],
   "source": [
    "function minimumlon(x)\n",
    "    Distance=zeros(1,360);\n",
    "    for i in 1:360\n",
    "        distance1=(x-fplon[i])^2;\n",
    "        Distance[i]=distance1;\n",
    "    end\n",
    "    m=minimum(Distance)\n",
    "    RowNumber=findall(r->r==m,Distance);\n",
    "    return(RowNumber)\n",
    "end"
   ]
  },
  {
   "attachments": {},
   "cell_type": "markdown",
   "metadata": {},
   "source": [
    "Segments selected Manzanillo,Colima : lat 19.1138 lon -104.3385\n",
    "                  New Orlands: lat 29.9511 lon -90.0715"
   ]
  },
  {
   "cell_type": "code",
   "execution_count": 52,
   "metadata": {},
   "outputs": [
    {
     "data": {
      "text/plain": [
       "1-element Vector{CartesianIndex{2}}:\n",
       " CartesianIndex(1, 110)"
      ]
     },
     "metadata": {},
     "output_type": "display_data"
    }
   ],
   "source": [
    "#Latitude selected for the segment\n",
    "minimumlat(19.1138)\n"
   ]
  },
  {
   "cell_type": "code",
   "execution_count": 56,
   "metadata": {},
   "outputs": [
    {
     "data": {
      "text/plain": [
       "1-element Vector{CartesianIndex{2}}:\n",
       " CartesianIndex(1, 256)"
      ]
     },
     "metadata": {},
     "output_type": "display_data"
    }
   ],
   "source": [
    "#Longitud selected for the sectment\n",
    "lon1=mod(-104.3385,360)\n",
    "minimumlon(lon1)"
   ]
  },
  {
   "attachments": {},
   "cell_type": "markdown",
   "metadata": {},
   "source": [
    "Fingerprint value"
   ]
  },
  {
   "cell_type": "code",
   "execution_count": 105,
   "metadata": {},
   "outputs": [
    {
     "data": {
      "text/plain": [
       "true"
      ]
     },
     "metadata": {},
     "output_type": "display_data"
    }
   ],
   "source": [
    "isnan(fpGSIC[256,110])\n"
   ]
  },
  {
   "cell_type": "code",
   "execution_count": 62,
   "metadata": {},
   "outputs": [
    {
     "ename": "UndefVarError",
     "evalue": "UndefVarError: AIS_RCP not defined",
     "output_type": "error",
     "traceback": [
      "UndefVarError: AIS_RCP not defined\n",
      "\n",
      "Stacktrace:\n",
      " [1] top-level scope\n",
      "   @ ~/Library/CloudStorage/GoogleDrive-ce3304@g.rit.edu/My Drive/Tutorials/Tutorials/CIAMPractice/FingerPrint.ipynb:1"
     ]
    }
   ],
   "source": [
    "fpAIS[256,110]*AIS+fpGIS[256,110]*GIS+fpGSIC*GLAC+TE+LWS"
   ]
  },
  {
   "attachments": {},
   "cell_type": "markdown",
   "metadata": {},
   "source": [
    "Code to obtain the components of global sea level rise"
   ]
  },
  {
   "cell_type": "code",
   "execution_count": 110,
   "metadata": {},
   "outputs": [],
   "source": [
    "import Pkg "
   ]
  },
  {
   "cell_type": "code",
   "execution_count": 114,
   "metadata": {},
   "outputs": [],
   "source": [
    "Pkg.add(\"CSV\")"
   ]
  },
  {
   "cell_type": "code",
   "execution_count": 125,
   "metadata": {},
   "outputs": [
    {
     "data": {
      "text/html": [
       "<div><div style = \"float: left;\"><span>451×11 DataFrame</span></div><div style = \"float: right;\"><span style = \"font-style: italic;\">426 rows omitted</span></div><div style = \"clear: both;\"></div></div><div class = \"data-frame\" style = \"overflow-x: scroll;\"><table class = \"data-frame\" style = \"margin-bottom: 6px;\"><thead><tr class = \"header\"><th class = \"rowNumber\" style = \"font-weight: bold; text-align: right;\">Row</th><th style = \"text-align: left;\">YEAR</th><th style = \"text-align: left;\">GMSL</th><th style = \"text-align: left;\">LWS</th><th style = \"text-align: left;\">GLAC</th><th style = \"text-align: left;\">GIS</th><th style = \"text-align: left;\">AIS</th><th style = \"text-align: left;\">TE</th><th style = \"text-align: left;\">TEMP</th><th style = \"text-align: left;\">OCHEAT</th><th style = \"text-align: left;\">CO2</th><th style = \"text-align: left;\">OCEANCO2</th></tr><tr class = \"subheader headerLastRow\"><th class = \"rowNumber\" style = \"font-weight: bold; text-align: right;\"></th><th title = \"Float64\" style = \"text-align: left;\">Float64</th><th title = \"Float64\" style = \"text-align: left;\">Float64</th><th title = \"Float64\" style = \"text-align: left;\">Float64</th><th title = \"Float64\" style = \"text-align: left;\">Float64</th><th title = \"Float64\" style = \"text-align: left;\">Float64</th><th title = \"Float64\" style = \"text-align: left;\">Float64</th><th title = \"Float64\" style = \"text-align: left;\">Float64</th><th title = \"Float64\" style = \"text-align: left;\">Float64</th><th title = \"Float64\" style = \"text-align: left;\">Float64</th><th title = \"Float64\" style = \"text-align: left;\">Float64</th><th title = \"Union{Missing, Float64}\" style = \"text-align: left;\">Float64?</th></tr></thead><tbody><tr><td class = \"rowNumber\" style = \"font-weight: bold; text-align: right;\">1</td><td style = \"text-align: right;\">1850.0</td><td style = \"text-align: right;\">-0.102153</td><td style = \"text-align: right;\">0.000325643</td><td style = \"text-align: right;\">-0.0307438</td><td style = \"text-align: right;\">0.00305963</td><td style = \"text-align: right;\">-0.0489542</td><td style = \"text-align: right;\">0.00727428</td><td style = \"text-align: right;\">-0.181525</td><td style = \"text-align: right;\">-18.8794</td><td style = \"text-align: right;\">279.192</td><td style = \"text-align: right;\">0.740886</td></tr><tr><td class = \"rowNumber\" style = \"font-weight: bold; text-align: right;\">2</td><td style = \"text-align: right;\">1851.0</td><td style = \"text-align: right;\">-0.0684015</td><td style = \"text-align: right;\">0.000326355</td><td style = \"text-align: right;\">-0.0272493</td><td style = \"text-align: right;\">0.00290103</td><td style = \"text-align: right;\">-0.042466</td><td style = \"text-align: right;\">0.00766773</td><td style = \"text-align: right;\">-0.0688389</td><td style = \"text-align: right;\">-5.6435</td><td style = \"text-align: right;\">278.942</td><td style = \"text-align: right;\">-2.30122</td></tr><tr><td class = \"rowNumber\" style = \"font-weight: bold; text-align: right;\">3</td><td style = \"text-align: right;\">1852.0</td><td style = \"text-align: right;\">-0.0955456</td><td style = \"text-align: right;\">0.000264489</td><td style = \"text-align: right;\">-0.030078</td><td style = \"text-align: right;\">0.00243201</td><td style = \"text-align: right;\">-0.0412545</td><td style = \"text-align: right;\">0.00804689</td><td style = \"text-align: right;\">-0.156925</td><td style = \"text-align: right;\">-34.7849</td><td style = \"text-align: right;\">279.874</td><td style = \"text-align: right;\">-1.57303</td></tr><tr><td class = \"rowNumber\" style = \"font-weight: bold; text-align: right;\">4</td><td style = \"text-align: right;\">1853.0</td><td style = \"text-align: right;\">-0.0599957</td><td style = \"text-align: right;\">-1.31477e-5</td><td style = \"text-align: right;\">-0.0251425</td><td style = \"text-align: right;\">0.00275303</td><td style = \"text-align: right;\">-0.0407208</td><td style = \"text-align: right;\">0.00840254</td><td style = \"text-align: right;\">-0.114708</td><td style = \"text-align: right;\">-30.7725</td><td style = \"text-align: right;\">282.065</td><td style = \"text-align: right;\">-1.06167</td></tr><tr><td class = \"rowNumber\" style = \"font-weight: bold; text-align: right;\">5</td><td style = \"text-align: right;\">1854.0</td><td style = \"text-align: right;\">-0.0836821</td><td style = \"text-align: right;\">0.000269126</td><td style = \"text-align: right;\">-0.0264085</td><td style = \"text-align: right;\">0.00268931</td><td style = \"text-align: right;\">-0.0407323</td><td style = \"text-align: right;\">0.00872585</td><td style = \"text-align: right;\">0.227197</td><td style = \"text-align: right;\">-21.4257</td><td style = \"text-align: right;\">282.073</td><td style = \"text-align: right;\">-1.00631</td></tr><tr><td class = \"rowNumber\" style = \"font-weight: bold; text-align: right;\">6</td><td style = \"text-align: right;\">1855.0</td><td style = \"text-align: right;\">-0.0115779</td><td style = \"text-align: right;\">0.000469725</td><td style = \"text-align: right;\">-0.0253438</td><td style = \"text-align: right;\">0.0025343</td><td style = \"text-align: right;\">-0.0409695</td><td style = \"text-align: right;\">0.00890898</td><td style = \"text-align: right;\">-0.0987867</td><td style = \"text-align: right;\">-29.2714</td><td style = \"text-align: right;\">282.778</td><td style = \"text-align: right;\">0.836196</td></tr><tr><td class = \"rowNumber\" style = \"font-weight: bold; text-align: right;\">7</td><td style = \"text-align: right;\">1856.0</td><td style = \"text-align: right;\">-0.0800312</td><td style = \"text-align: right;\">0.000438501</td><td style = \"text-align: right;\">-0.0273048</td><td style = \"text-align: right;\">0.00248161</td><td style = \"text-align: right;\">-0.039903</td><td style = \"text-align: right;\">0.00859525</td><td style = \"text-align: right;\">-0.0233152</td><td style = \"text-align: right;\">-23.576</td><td style = \"text-align: right;\">282.104</td><td style = \"text-align: right;\">-0.84116</td></tr><tr><td class = \"rowNumber\" style = \"font-weight: bold; text-align: right;\">8</td><td style = \"text-align: right;\">1857.0</td><td style = \"text-align: right;\">-0.0835417</td><td style = \"text-align: right;\">0.000261133</td><td style = \"text-align: right;\">-0.0264662</td><td style = \"text-align: right;\">0.00237941</td><td style = \"text-align: right;\">-0.0406448</td><td style = \"text-align: right;\">0.00773374</td><td style = \"text-align: right;\">-0.337109</td><td style = \"text-align: right;\">-42.0525</td><td style = \"text-align: right;\">282.789</td><td style = \"text-align: right;\">0.454979</td></tr><tr><td class = \"rowNumber\" style = \"font-weight: bold; text-align: right;\">9</td><td style = \"text-align: right;\">1858.0</td><td style = \"text-align: right;\">-0.0649237</td><td style = \"text-align: right;\">0.000713304</td><td style = \"text-align: right;\">-0.0258677</td><td style = \"text-align: right;\">0.0028196</td><td style = \"text-align: right;\">-0.0400596</td><td style = \"text-align: right;\">0.0070105</td><td style = \"text-align: right;\">-0.217046</td><td style = \"text-align: right;\">-47.2591</td><td style = \"text-align: right;\">282.447</td><td style = \"text-align: right;\">0.641629</td></tr><tr><td class = \"rowNumber\" style = \"font-weight: bold; text-align: right;\">10</td><td style = \"text-align: right;\">1859.0</td><td style = \"text-align: right;\">-0.0861455</td><td style = \"text-align: right;\">0.000238501</td><td style = \"text-align: right;\">-0.0284704</td><td style = \"text-align: right;\">0.00248637</td><td style = \"text-align: right;\">-0.0392834</td><td style = \"text-align: right;\">0.00691179</td><td style = \"text-align: right;\">-0.120571</td><td style = \"text-align: right;\">-17.2633</td><td style = \"text-align: right;\">282.572</td><td style = \"text-align: right;\">1.03848</td></tr><tr><td class = \"rowNumber\" style = \"font-weight: bold; text-align: right;\">11</td><td style = \"text-align: right;\">1860.0</td><td style = \"text-align: right;\">-0.0791547</td><td style = \"text-align: right;\">0.000276135</td><td style = \"text-align: right;\">-0.0255281</td><td style = \"text-align: right;\">0.00260752</td><td style = \"text-align: right;\">-0.0386931</td><td style = \"text-align: right;\">0.00722999</td><td style = \"text-align: right;\">0.127548</td><td style = \"text-align: right;\">-43.1367</td><td style = \"text-align: right;\">281.603</td><td style = \"text-align: right;\">2.856</td></tr><tr><td class = \"rowNumber\" style = \"font-weight: bold; text-align: right;\">12</td><td style = \"text-align: right;\">1861.0</td><td style = \"text-align: right;\">-0.12252</td><td style = \"text-align: right;\">0.000395369</td><td style = \"text-align: right;\">-0.027807</td><td style = \"text-align: right;\">0.00289106</td><td style = \"text-align: right;\">-0.0387227</td><td style = \"text-align: right;\">0.00761367</td><td style = \"text-align: right;\">0.117349</td><td style = \"text-align: right;\">-26.1717</td><td style = \"text-align: right;\">283.177</td><td style = \"text-align: right;\">0.410816</td></tr><tr><td class = \"rowNumber\" style = \"font-weight: bold; text-align: right;\">13</td><td style = \"text-align: right;\">1862.0</td><td style = \"text-align: right;\">-0.110518</td><td style = \"text-align: right;\">-0.000159292</td><td style = \"text-align: right;\">-0.0234276</td><td style = \"text-align: right;\">0.00314455</td><td style = \"text-align: right;\">-0.0384285</td><td style = \"text-align: right;\">0.00786477</td><td style = \"text-align: right;\">0.0886298</td><td style = \"text-align: right;\">-30.4483</td><td style = \"text-align: right;\">284.631</td><td style = \"text-align: right;\">1.28491</td></tr><tr><td style = \"text-align: right;\">&vellip;</td><td style = \"text-align: right;\">&vellip;</td><td style = \"text-align: right;\">&vellip;</td><td style = \"text-align: right;\">&vellip;</td><td style = \"text-align: right;\">&vellip;</td><td style = \"text-align: right;\">&vellip;</td><td style = \"text-align: right;\">&vellip;</td><td style = \"text-align: right;\">&vellip;</td><td style = \"text-align: right;\">&vellip;</td><td style = \"text-align: right;\">&vellip;</td><td style = \"text-align: right;\">&vellip;</td><td style = \"text-align: right;\">&vellip;</td></tr><tr><td class = \"rowNumber\" style = \"font-weight: bold; text-align: right;\">440</td><td style = \"text-align: right;\">2289.0</td><td style = \"text-align: right;\">10.8615</td><td style = \"text-align: right;\">0.000338813</td><td style = \"text-align: right;\">0.440594</td><td style = \"text-align: right;\">5.30258</td><td style = \"text-align: right;\">3.77364</td><td style = \"text-align: right;\">1.27859</td><td style = \"text-align: right;\">7.7016</td><td style = \"text-align: right;\">1061.1</td><td style = \"text-align: right;\">1539.38</td><td style = \"text-align: right;\">2.47539</td></tr><tr><td class = \"rowNumber\" style = \"font-weight: bold; text-align: right;\">441</td><td style = \"text-align: right;\">2290.0</td><td style = \"text-align: right;\">10.8938</td><td style = \"text-align: right;\">0.000308706</td><td style = \"text-align: right;\">0.441423</td><td style = \"text-align: right;\">5.31756</td><td style = \"text-align: right;\">3.79089</td><td style = \"text-align: right;\">1.28209</td><td style = \"text-align: right;\">7.73155</td><td style = \"text-align: right;\">1072.44</td><td style = \"text-align: right;\">1537.79</td><td style = \"text-align: right;\">3.04384</td></tr><tr><td class = \"rowNumber\" style = \"font-weight: bold; text-align: right;\">442</td><td style = \"text-align: right;\">2291.0</td><td style = \"text-align: right;\">10.9259</td><td style = \"text-align: right;\">0.000259407</td><td style = \"text-align: right;\">0.444686</td><td style = \"text-align: right;\">5.33184</td><td style = \"text-align: right;\">3.80817</td><td style = \"text-align: right;\">1.28558</td><td style = \"text-align: right;\">7.79635</td><td style = \"text-align: right;\">1062.71</td><td style = \"text-align: right;\">1537.56</td><td style = \"text-align: right;\">2.56298</td></tr><tr><td class = \"rowNumber\" style = \"font-weight: bold; text-align: right;\">443</td><td style = \"text-align: right;\">2292.0</td><td style = \"text-align: right;\">10.9621</td><td style = \"text-align: right;\">0.000526357</td><td style = \"text-align: right;\">0.441794</td><td style = \"text-align: right;\">5.34738</td><td style = \"text-align: right;\">3.82544</td><td style = \"text-align: right;\">1.28905</td><td style = \"text-align: right;\">7.85129</td><td style = \"text-align: right;\">1069.68</td><td style = \"text-align: right;\">1536.14</td><td style = \"text-align: right;\">2.03896</td></tr><tr><td class = \"rowNumber\" style = \"font-weight: bold; text-align: right;\">444</td><td style = \"text-align: right;\">2293.0</td><td style = \"text-align: right;\">10.992</td><td style = \"text-align: right;\">0.000300359</td><td style = \"text-align: right;\">0.442315</td><td style = \"text-align: right;\">5.36142</td><td style = \"text-align: right;\">3.84308</td><td style = \"text-align: right;\">1.29252</td><td style = \"text-align: right;\">7.62117</td><td style = \"text-align: right;\">1057.51</td><td style = \"text-align: right;\">1535.04</td><td style = \"text-align: right;\">1.88995</td></tr><tr><td class = \"rowNumber\" style = \"font-weight: bold; text-align: right;\">445</td><td style = \"text-align: right;\">2294.0</td><td style = \"text-align: right;\">11.0334</td><td style = \"text-align: right;\">9.229e-5</td><td style = \"text-align: right;\">0.443691</td><td style = \"text-align: right;\">5.37622</td><td style = \"text-align: right;\">3.85991</td><td style = \"text-align: right;\">1.29598</td><td style = \"text-align: right;\">7.57846</td><td style = \"text-align: right;\">1074.45</td><td style = \"text-align: right;\">1534.57</td><td style = \"text-align: right;\">2.38796</td></tr><tr><td class = \"rowNumber\" style = \"font-weight: bold; text-align: right;\">446</td><td style = \"text-align: right;\">2295.0</td><td style = \"text-align: right;\">11.0667</td><td style = \"text-align: right;\">0.000358451</td><td style = \"text-align: right;\">0.440108</td><td style = \"text-align: right;\">5.39087</td><td style = \"text-align: right;\">3.87753</td><td style = \"text-align: right;\">1.29943</td><td style = \"text-align: right;\">7.67288</td><td style = \"text-align: right;\">1079.85</td><td style = \"text-align: right;\">1533.24</td><td style = \"text-align: right;\">4.70266</td></tr><tr><td class = \"rowNumber\" style = \"font-weight: bold; text-align: right;\">447</td><td style = \"text-align: right;\">2296.0</td><td style = \"text-align: right;\">11.1016</td><td style = \"text-align: right;\">0.000586192</td><td style = \"text-align: right;\">0.441456</td><td style = \"text-align: right;\">5.40463</td><td style = \"text-align: right;\">3.89415</td><td style = \"text-align: right;\">1.30287</td><td style = \"text-align: right;\">7.63647</td><td style = \"text-align: right;\">1077.67</td><td style = \"text-align: right;\">1532.53</td><td style = \"text-align: right;\">1.28494</td></tr><tr><td class = \"rowNumber\" style = \"font-weight: bold; text-align: right;\">448</td><td style = \"text-align: right;\">2297.0</td><td style = \"text-align: right;\">11.1389</td><td style = \"text-align: right;\">0.000410899</td><td style = \"text-align: right;\">0.443172</td><td style = \"text-align: right;\">5.41908</td><td style = \"text-align: right;\">3.91154</td><td style = \"text-align: right;\">1.3063</td><td style = \"text-align: right;\">7.56527</td><td style = \"text-align: right;\">1088.0</td><td style = \"text-align: right;\">1531.85</td><td style = \"text-align: right;\">1.87472</td></tr><tr><td class = \"rowNumber\" style = \"font-weight: bold; text-align: right;\">449</td><td style = \"text-align: right;\">2298.0</td><td style = \"text-align: right;\">11.1681</td><td style = \"text-align: right;\">0.000687246</td><td style = \"text-align: right;\">0.4398</td><td style = \"text-align: right;\">5.43353</td><td style = \"text-align: right;\">3.92877</td><td style = \"text-align: right;\">1.30972</td><td style = \"text-align: right;\">7.57252</td><td style = \"text-align: right;\">1083.46</td><td style = \"text-align: right;\">1531.34</td><td style = \"text-align: right;\">4.64952</td></tr><tr><td class = \"rowNumber\" style = \"font-weight: bold; text-align: right;\">450</td><td style = \"text-align: right;\">2299.0</td><td style = \"text-align: right;\">11.2097</td><td style = \"text-align: right;\">0.000415554</td><td style = \"text-align: right;\">0.443747</td><td style = \"text-align: right;\">5.44696</td><td style = \"text-align: right;\">3.94655</td><td style = \"text-align: right;\">1.31313</td><td style = \"text-align: right;\">7.61457</td><td style = \"text-align: right;\">1108.84</td><td style = \"text-align: right;\">1529.67</td><td style = \"text-align: right;\">4.07233</td></tr><tr><td class = \"rowNumber\" style = \"font-weight: bold; text-align: right;\">451</td><td style = \"text-align: right;\">2300.0</td><td style = \"text-align: right;\">11.2533</td><td style = \"text-align: right;\">0.000162065</td><td style = \"text-align: right;\">0.440931</td><td style = \"text-align: right;\">5.46074</td><td style = \"text-align: right;\">3.96303</td><td style = \"text-align: right;\">1.31653</td><td style = \"text-align: right;\">7.7666</td><td style = \"text-align: right;\">1111.11</td><td style = \"text-align: right;\">1528.58</td><td style = \"text-align: right;\">missing</td></tr></tbody></table></div>"
      ],
      "text/latex": [
       "\\begin{tabular}{r|cccccccc}\n",
       "\t& YEAR & GMSL & LWS & GLAC & GIS & AIS & TE & \\\\\n",
       "\t\\hline\n",
       "\t& Float64 & Float64 & Float64 & Float64 & Float64 & Float64 & Float64 & \\\\\n",
       "\t\\hline\n",
       "\t1 & 1850.0 & -0.102153 & 0.000325643 & -0.0307438 & 0.00305963 & -0.0489542 & 0.00727428 & $\\dots$ \\\\\n",
       "\t2 & 1851.0 & -0.0684015 & 0.000326355 & -0.0272493 & 0.00290103 & -0.042466 & 0.00766773 & $\\dots$ \\\\\n",
       "\t3 & 1852.0 & -0.0955456 & 0.000264489 & -0.030078 & 0.00243201 & -0.0412545 & 0.00804689 & $\\dots$ \\\\\n",
       "\t4 & 1853.0 & -0.0599957 & -1.31477e-5 & -0.0251425 & 0.00275303 & -0.0407208 & 0.00840254 & $\\dots$ \\\\\n",
       "\t5 & 1854.0 & -0.0836821 & 0.000269126 & -0.0264085 & 0.00268931 & -0.0407323 & 0.00872585 & $\\dots$ \\\\\n",
       "\t6 & 1855.0 & -0.0115779 & 0.000469725 & -0.0253438 & 0.0025343 & -0.0409695 & 0.00890898 & $\\dots$ \\\\\n",
       "\t7 & 1856.0 & -0.0800312 & 0.000438501 & -0.0273048 & 0.00248161 & -0.039903 & 0.00859525 & $\\dots$ \\\\\n",
       "\t8 & 1857.0 & -0.0835417 & 0.000261133 & -0.0264662 & 0.00237941 & -0.0406448 & 0.00773374 & $\\dots$ \\\\\n",
       "\t9 & 1858.0 & -0.0649237 & 0.000713304 & -0.0258677 & 0.0028196 & -0.0400596 & 0.0070105 & $\\dots$ \\\\\n",
       "\t10 & 1859.0 & -0.0861455 & 0.000238501 & -0.0284704 & 0.00248637 & -0.0392834 & 0.00691179 & $\\dots$ \\\\\n",
       "\t11 & 1860.0 & -0.0791547 & 0.000276135 & -0.0255281 & 0.00260752 & -0.0386931 & 0.00722999 & $\\dots$ \\\\\n",
       "\t12 & 1861.0 & -0.12252 & 0.000395369 & -0.027807 & 0.00289106 & -0.0387227 & 0.00761367 & $\\dots$ \\\\\n",
       "\t13 & 1862.0 & -0.110518 & -0.000159292 & -0.0234276 & 0.00314455 & -0.0384285 & 0.00786477 & $\\dots$ \\\\\n",
       "\t14 & 1863.0 & -0.0484591 & 0.000424356 & -0.0293958 & 0.00267825 & -0.0375175 & 0.00802059 & $\\dots$ \\\\\n",
       "\t15 & 1864.0 & -0.0610652 & 0.000456041 & -0.0280727 & 0.00291857 & -0.0375701 & 0.00822771 & $\\dots$ \\\\\n",
       "\t16 & 1865.0 & -0.131179 & 0.000586616 & -0.0239057 & 0.00256679 & -0.0371993 & 0.00851017 & $\\dots$ \\\\\n",
       "\t17 & 1866.0 & -0.0812966 & 0.00027979 & -0.0280719 & 0.00260799 & -0.0371428 & 0.0088102 & $\\dots$ \\\\\n",
       "\t18 & 1867.0 & -0.112592 & 0.000378975 & -0.0270637 & 0.00236659 & -0.0366912 & 0.00910188 & $\\dots$ \\\\\n",
       "\t19 & 1868.0 & -0.0722088 & 0.000535681 & -0.0284454 & 0.00237785 & -0.0368257 & 0.00940324 & $\\dots$ \\\\\n",
       "\t20 & 1869.0 & -0.0875937 & -0.000226328 & -0.0255017 & 0.00209557 & -0.0366101 & 0.0097409 & $\\dots$ \\\\\n",
       "\t21 & 1870.0 & -0.0542138 & 0.000136165 & -0.02338 & 0.00274919 & -0.0360085 & 0.0101173 & $\\dots$ \\\\\n",
       "\t22 & 1871.0 & -0.120202 & 0.000516431 & -0.0274703 & 0.00263319 & -0.0347541 & 0.0104991 & $\\dots$ \\\\\n",
       "\t23 & 1872.0 & -0.0661901 & 0.000625252 & -0.0225793 & 0.00222432 & -0.0357658 & 0.010822 & $\\dots$ \\\\\n",
       "\t24 & 1873.0 & -0.101234 & 0.000158582 & -0.0233356 & 0.00233891 & -0.0346827 & 0.0110455 & $\\dots$ \\\\\n",
       "\t$\\dots$ & $\\dots$ & $\\dots$ & $\\dots$ & $\\dots$ & $\\dots$ & $\\dots$ & $\\dots$ &  \\\\\n",
       "\\end{tabular}\n"
      ],
      "text/plain": [
       "\u001b[1m451×11 DataFrame\u001b[0m\n",
       "\u001b[1m Row \u001b[0m│\u001b[1m YEAR    \u001b[0m\u001b[1m GMSL       \u001b[0m\u001b[1m LWS          \u001b[0m\u001b[1m GLAC       \u001b[0m\u001b[1m GIS        \u001b[0m\u001b[1m AIS        \u001b[0m\u001b[1m \u001b[0m ⋯\n",
       "     │\u001b[90m Float64 \u001b[0m\u001b[90m Float64    \u001b[0m\u001b[90m Float64      \u001b[0m\u001b[90m Float64    \u001b[0m\u001b[90m Float64    \u001b[0m\u001b[90m Float64    \u001b[0m\u001b[90m \u001b[0m ⋯\n",
       "─────┼──────────────────────────────────────────────────────────────────────────\n",
       "   1 │  1850.0  -0.102153    0.000325643  -0.0307438  0.00305963  -0.0489542   ⋯\n",
       "   2 │  1851.0  -0.0684015   0.000326355  -0.0272493  0.00290103  -0.042466\n",
       "   3 │  1852.0  -0.0955456   0.000264489  -0.030078   0.00243201  -0.0412545\n",
       "   4 │  1853.0  -0.0599957  -1.31477e-5   -0.0251425  0.00275303  -0.0407208\n",
       "   5 │  1854.0  -0.0836821   0.000269126  -0.0264085  0.00268931  -0.0407323   ⋯\n",
       "   6 │  1855.0  -0.0115779   0.000469725  -0.0253438  0.0025343   -0.0409695\n",
       "   7 │  1856.0  -0.0800312   0.000438501  -0.0273048  0.00248161  -0.039903\n",
       "   8 │  1857.0  -0.0835417   0.000261133  -0.0264662  0.00237941  -0.0406448\n",
       "  ⋮  │    ⋮         ⋮            ⋮            ⋮           ⋮           ⋮        ⋱\n",
       " 445 │  2294.0  11.0334      9.229e-5      0.443691   5.37622      3.85991     ⋯\n",
       " 446 │  2295.0  11.0667      0.000358451   0.440108   5.39087      3.87753\n",
       " 447 │  2296.0  11.1016      0.000586192   0.441456   5.40463      3.89415\n",
       " 448 │  2297.0  11.1389      0.000410899   0.443172   5.41908      3.91154\n",
       " 449 │  2298.0  11.1681      0.000687246   0.4398     5.43353      3.92877     ⋯\n",
       " 450 │  2299.0  11.2097      0.000415554   0.443747   5.44696      3.94655\n",
       " 451 │  2300.0  11.2533      0.000162065   0.440931   5.46074      3.96303\n",
       "\u001b[36m                                                  5 columns and 436 rows omitted\u001b[0m"
      ]
     },
     "metadata": {},
     "output_type": "display_data"
    }
   ],
   "source": [
    "using DataFrames\n",
    "using CSV\n",
    "Brickcomps = CSV.File(\"/Users/ce3304/Downloads/projections_MAP_RCP85_sneasybrick.csv\") |> DataFrame"
   ]
  },
  {
   "attachments": {},
   "cell_type": "markdown",
   "metadata": {},
   "source": [
    "Vectors of all values for (btime,AIS,GSIC,GIS,TE,LWS,GMSL)"
   ]
  },
  {
   "cell_type": "code",
   "execution_count": 150,
   "metadata": {},
   "outputs": [],
   "source": [
    "btime=Brickcomps[:,1];\n",
    "GMSL=Brickcomps[:,2];\n",
    "LWS=Brickcomps[:,3];\n",
    "GIS= Brickcomps[:,5];\n",
    "GSIC=Brickcomps[:,4];\n",
    "TE=Brickcomps[:,7];\n",
    "AIS=Brickcomps[:,6];\n"
   ]
  },
  {
   "attachments": {},
   "cell_type": "markdown",
   "metadata": {},
   "source": [
    "Tuple for brickcomps"
   ]
  },
  {
   "cell_type": "code",
   "execution_count": 148,
   "metadata": {},
   "outputs": [],
   "source": [
    "brickcomps=Tuple([btime,AIS,GSIC,GIS,TE,LWS,GMSL]);"
   ]
  },
  {
   "attachments": {},
   "cell_type": "markdown",
   "metadata": {},
   "source": [
    "Downscale function"
   ]
  },
  {
   "cell_type": "code",
   "execution_count": 146,
   "metadata": {},
   "outputs": [
    {
     "data": {
      "text/plain": [
       "downscale_brick (generic function with 4 methods)"
      ]
     },
     "metadata": {},
     "output_type": "display_data"
    }
   ],
   "source": [
    "using NetCDF\n",
    "function downscale_brick(brickcomps, lonlat, ensInds, ystart, yend, tstep)\n",
    "    # To do - check with vectors of lat, lon\n",
    "    (fplat,fplon,fpAIS,fpGSIC,fpGIS) = get_fingerprints()\n",
    "    (btime,AIS,GSIC,GIS,TE,LWS,GMSL) = brickcomps\n",
    "\n",
    "    # Select indices of time of interest, with respect to timestep\n",
    "    tinds = findall(x -> x .>= ystart && x .<=yend, btime)\n",
    "    years = collect(ystart:yend)\n",
    "    yinds = findall(x -> x % tstep==0, years)\n",
    "    # Need to normalize LSL relative to 2000\n",
    "    inorm = findall(x -> x==2000, btime)\n",
    "\n",
    "    tdim=length(btime)\n",
    "\n",
    "    if length(years)==length(tinds)\n",
    "        tinds = tinds[yinds]\n",
    "    else\n",
    "        println(\"Error: years outside of bounds\")\n",
    "        return nothing\n",
    "    end\n",
    "\n",
    "    num_ens = length(ensInds)\n",
    "\n",
    "    # Output matrix: ens x time x segment\n",
    "    lsl_out = zeros(num_ens, length(tinds), length(lonlat))\n",
    "\n",
    "    # Trim component vectors to timesteps and ensembles. Assume interval is 1 year\n",
    "    if tdim==size(AIS)[1] # check that time dimension is 1\n",
    "        # for normalizing\n",
    "        AIS_norm = AIS[inorm,ensInds]\n",
    "        GSIC_norm = GSIC[inorm,ensInds]\n",
    "        GIS_norm = GIS[inorm,ensInds]\n",
    "        TE_norm = TE[inorm,ensInds]\n",
    "        LWS_norm = LWS[inorm,ensInds]\n",
    "        GMSL_norm = GMSL[inorm,ensInds]\n",
    "        # actual projections\n",
    "        AIS = AIS[tinds,ensInds]\n",
    "        GSIC = GSIC[tinds,ensInds]\n",
    "        GIS = GIS[tinds,ensInds]\n",
    "        TE = TE[tinds,ensInds]\n",
    "        LWS = LWS[tinds,ensInds]\n",
    "        GMSL = GMSL[tinds,ensInds]\n",
    "    else\n",
    "        println(\"Error: time dimension is not 1 for brick components\")\n",
    "        return nothing\n",
    "    end\n",
    "\n",
    "    for f in 1:length(lonlat) # Loop through lonlat tuples\n",
    "\n",
    "        lon = lonlat[f][1]\n",
    "        lat = lonlat[f][2]\n",
    "        # Convert Longitude to degrees East\n",
    "        # CIAM Lat is already in (-90,90) by default\n",
    "        if lon <0\n",
    "            lon = lon + 360\n",
    "        end\n",
    "\n",
    "        # Find fingerprint degrees nearest to lat,lon\n",
    "        ilat = findall(isequal(minimum(abs.(fplat.-lat))),abs.(fplat.-lat))\n",
    "        ilon = findall(isequal(minimum(abs.(fplon.-lon))),abs.(fplon.-lon))\n",
    "\n",
    "\n",
    "        # Take average of closest lat/lon values\n",
    "        fpAIS_flat = collect(skipmissing(Iterators.flatten(fpAIS[ilon,ilat])))\n",
    "        fpGSIC_flat = collect(skipmissing(Iterators.flatten(fpGSIC[ilon,ilat])))\n",
    "        fpGIS_flat = collect(skipmissing(Iterators.flatten(fpGIS[ilon,ilat])))\n",
    "\n",
    "        fpAIS_loc = mean(fpAIS_flat[isnan.(fpAIS_flat).==false],dims=1)[1]\n",
    "        fpGSIC_loc = mean(fpGSIC_flat[isnan.(fpGSIC_flat).==false],dims=1)[1]\n",
    "        fpGIS_loc = mean(fpGIS_flat[isnan.(fpGIS_flat).==false],dims=1)[1]\n",
    "        fpTE_loc = 1.0\n",
    "        fpLWS_loc=1.0\n",
    "\n",
    "        # Keep searching nearby lat/lon values if fingerprint value is NaN unless limit is hit\n",
    "        inc =1\n",
    "\n",
    "        while isnan(fpAIS_loc) || isnan(fpGIS_loc) || isnan(fpGSIC_loc) && inc<5\n",
    "\n",
    "            newlonStart = lon_subtractor.(fplon[ilon],inc)[1]\n",
    "            newlatStart = lat_subtractor.(fplat[ilat],inc)[1]\n",
    "            newlonEnd = lon_adder.(fplon[ilon],inc)[1]\n",
    "            newlatEnd = lat_adder.(fplat[ilat],inc)[1]\n",
    "\n",
    "            latInd1 = minimum(findall(isequal(minimum(abs.(fplat.-newlatStart))),abs.(fplat.-newlatStart)))\n",
    "            #minimum(findall(x-> x in newlatStart,fplat))\n",
    "            latInd2 = maximum(findall(isequal(minimum(abs.(fplat.-newlatEnd))),abs.(fplat.-newlatEnd)))\n",
    "            #maximum(findall(x -> x in newlatEnd,fplat))\n",
    "\n",
    "            lonInd1 = minimum(findall(isequal(minimum(abs.(fplon.-newlonStart))),abs.(fplon.-newlonStart)))\n",
    "            #minimum(findall(x-> x in newlonStart,fplon))\n",
    "            lonInd2 = maximum(findall(isequal(minimum(abs.(fplon.-newlonEnd))),abs.(fplon.-newlonEnd)))\n",
    "            #maximum(findall(x -> x in newlonEnd,fplon))\n",
    "\n",
    "            if latInd2 < latInd1\n",
    "                latInds=[latInd1; 1:latInd2]\n",
    "            else\n",
    "                latInds=latInd1:latInd2\n",
    "            end\n",
    "\n",
    "            if lonInd2 < lonInd1\n",
    "                lonInds=[lonInd1; 1:lonInd2]\n",
    "            else\n",
    "                lonInds = lonInd1:lonInd2\n",
    "            end\n",
    "\n",
    "            fpAIS_flat = collect(skipmissing(Iterators.flatten(fpAIS[lonInds,latInds])))\n",
    "            fpGSIC_flat = collect(skipmissing(Iterators.flatten(fpGSIC[lonInds,latInds])))\n",
    "            fpGIS_flat = collect(skipmissing(Iterators.flatten(fpGIS[lonInds,latInds])))\n",
    "\n",
    "            fpAIS_loc = mean(fpAIS_flat[isnan.(fpAIS_flat).==false],dims=1)[1]\n",
    "            fpGSIC_loc = mean(fpGSIC_flat[isnan.(fpGSIC_flat).==false],dims=1)[1]\n",
    "            fpGIS_loc = mean(fpGIS_flat[isnan.(fpGIS_flat).==false],dims=1)[1]\n",
    "\n",
    "            inc = inc + 1\n",
    "\n",
    "        end\n",
    "\n",
    "        # If still NaN, throw an error\n",
    "        if isnan(fpAIS_loc) || isnan(fpGIS_loc) || isnan(fpGSIC_loc)\n",
    "            println(\"Error: no fingerprints found for ($(lon),$(lat))\")\n",
    "            return nothing\n",
    "        end\n",
    "\n",
    "       # Multiply fingerprints by BRICK ensemble members\n",
    "       if ndims(AIS) > 1\n",
    "            for n in 1:size(AIS)[2] # loop through ensemble members\n",
    "                lsl_out[n, :, f] = fpGIS_loc * GIS[:,n] + fpAIS_loc * AIS[:,n] + fpGSIC_loc * GSIC[:,n] +\n",
    "                                   fpTE_loc * TE[:,n] + fpLWS_loc * LWS[:,n]\n",
    "                # CIAM - LSL should be sea-level change relative to year 2000\n",
    "                lsl_norm = fpGIS_loc * GIS_norm[n] + fpAIS_loc * AIS_norm[n] + fpGSIC_loc * GSIC_norm[n] +\n",
    "                           fpTE_loc * TE_norm[n] + fpLWS_loc * LWS_norm[n]\n",
    "                lsl_out[n, :, f] = lsl_out[n, :, f] .- lsl_norm\n",
    "            end\n",
    "        else\n",
    "            lsl_out[1, :, f] = fpGIS_loc * GIS[:] + fpAIS_loc * AIS[:] + fpGSIC_loc * GSIC[:] +\n",
    "                fpTE_loc * TE[:] + fpLWS_loc * LWS[:]\n",
    "            # CIAM - LSL should be sea-level change relative to year 2000\n",
    "            lsl_norm = fpGIS_loc * GIS_norm + fpAIS_loc * AIS_norm + fpGSIC_loc * GSIC_norm +\n",
    "                       fpTE_loc * TE_norm + fpLWS_loc * LWS_norm\n",
    "            lsl_out[1, :, f] = lsl_out[1, :, f] .- lsl_norm\n",
    "        end\n",
    "\n",
    "    end # End lonlat tuple\n",
    "\n",
    "    return lsl_out,GMSL\n",
    "end"
   ]
  },
  {
   "cell_type": "code",
   "execution_count": 149,
   "metadata": {},
   "outputs": [
    {
     "ename": "BoundsError",
     "evalue": "BoundsError",
     "output_type": "error",
     "traceback": [
      "BoundsError\n",
      "\n",
      "Stacktrace:\n",
      " [1] getindex\n",
      "   @ ./number.jl:96 [inlined]\n",
      " [2] downscale_brick(brickcomps::NTuple{7, Vector{Float64}}, lonlat::Tuple{Float64, Float64}, ensInds::Vector{Int64}, ystart::Int64, yend::Int64, tstep::Int64)\n",
      "   @ Main ~/Library/CloudStorage/GoogleDrive-ce3304@g.rit.edu/My Drive/Tutorials/Tutorials/CIAMPractice/FingerPrint.ipynb:52\n",
      " [3] top-level scope\n",
      "   @ ~/Library/CloudStorage/GoogleDrive-ce3304@g.rit.edu/My Drive/Tutorials/Tutorials/CIAMPractice/FingerPrint.ipynb:6"
     ]
    }
   ],
   "source": [
    "ensInds=[1];\n",
    "lonlat= (-104.3385,19.1138);\n",
    "ystart=2010;\n",
    "yend=2200;\n",
    "tstep=10;\n",
    "downscale_brick(brickcomps, lonlat, ensInds, ystart, yend, tstep)"
   ]
  }
 ],
 "metadata": {
  "kernelspec": {
   "display_name": "Julia 1.6.1",
   "language": "julia",
   "name": "julia-1.6"
  },
  "language_info": {
   "file_extension": ".jl",
   "mimetype": "application/julia",
   "name": "julia",
   "version": "1.6.1"
  },
  "orig_nbformat": 4
 },
 "nbformat": 4,
 "nbformat_minor": 2
}
