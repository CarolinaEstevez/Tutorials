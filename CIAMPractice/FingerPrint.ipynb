{
 "cells": [
  {
   "cell_type": "code",
   "execution_count": 1,
   "metadata": {},
   "outputs": [
    {
     "data": {
      "text/plain": [
       "get_fingerprints (generic function with 1 method)"
      ]
     },
     "metadata": {},
     "output_type": "display_data"
    }
   ],
   "source": [
    "function get_fingerprints()\n",
    "\n",
    "    fp_dir = joinpath(@__DIR__, \"..\", \"data\")\n",
    "    isdir(fp_dir) || mkpath(fp_dir)\n",
    "    fp_file = joinpath(fp_dir, \"FINGERPRINTS_SLANGEN_Bakker.nc\")\n",
    "    if !isfile(fp_file)\n",
    "        url = \"https://github.com/scrim-network/BRICK/raw/master/fingerprints/FINGERPRINTS_SLANGEN_Bakker.nc\"\n",
    "        download(url, fp_file)\n",
    "    end\n",
    "\n",
    "    fplat = ncread(fp_file,\"lat\")\n",
    "    fplon = ncread(fp_file,\"lon\")\n",
    "    fpAIS = ncread(fp_file,\"AIS\")\n",
    "    fpGSIC = ncread(fp_file,\"GLAC\")\n",
    "    fpGIS = ncread(fp_file,\"GIS\")\n",
    "    ncclose()\n",
    "\n",
    "    return fplat,fplon,fpAIS,fpGSIC,fpGIS\n",
    "end"
   ]
  },
  {
   "cell_type": "code",
   "execution_count": 7,
   "metadata": {},
   "outputs": [
    {
     "data": {
      "text/plain": [
       "([-89.5, -88.5, -87.5, -86.5, -85.5, -84.5, -83.5, -82.5, -81.5, -80.5  …  80.5, 81.5, 82.5, 83.5, 84.5, 85.5, 86.5, 87.5, 88.5, 89.5], [0.5, 1.5, 2.5, 3.5, 4.5, 5.5, 6.5, 7.5, 8.5, 9.5  …  350.5, 351.5, 352.5, 353.5, 354.5, 355.5, 356.5, 357.5, 358.5, 359.5], Float32[NaN NaN … 1.1086327 1.1114359; NaN NaN … 1.108638 1.1114365; … ; NaN NaN … 1.1086223 1.1114353; NaN NaN … 1.1086272 1.1114354], Float32[NaN NaN … 0.021808445 0.09062562; NaN NaN … 0.022879047 0.091268495; … ; NaN NaN … 0.019840943 0.08925989; NaN NaN … 0.020792248 0.08995592], Float32[NaN NaN … -1.5367132 -1.3215039; NaN NaN … -1.5308045 -1.3199075; … ; NaN NaN … -1.5482318 -1.3246047; NaN NaN … -1.5425231 -1.3230699])"
      ]
     },
     "metadata": {},
     "output_type": "display_data"
    }
   ],
   "source": [
    "using NetCDF\n",
    "get_fingerprints()"
   ]
  },
  {
   "cell_type": "code",
   "execution_count": 9,
   "metadata": {},
   "outputs": [
    {
     "ename": "UndefVarError",
     "evalue": "UndefVarError: fplat not defined",
     "output_type": "error",
     "traceback": [
      "UndefVarError: fplat not defined\n",
      "\n",
      "Stacktrace:\n",
      " [1] top-level scope\n",
      "   @ ~/Library/CloudStorage/GoogleDrive-ce3304@g.rit.edu/My Drive/Tutorials/Tutorials/CIAMPractice/FingerPrint.ipynb:2"
     ]
    }
   ],
   "source": [
    "using DataFrames\n",
    "DataFrame(\"Lat\" => [fplat],\n",
    "        \"Lon\" => [fplon])"
   ]
  }
 ],
 "metadata": {
  "kernelspec": {
   "display_name": "Julia 1.6.1",
   "language": "julia",
   "name": "julia-1.6"
  },
  "language_info": {
   "file_extension": ".jl",
   "mimetype": "application/julia",
   "name": "julia",
   "version": "1.6.1"
  },
  "orig_nbformat": 4
 },
 "nbformat": 4,
 "nbformat_minor": 2
}
