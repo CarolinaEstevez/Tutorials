{
 "cells": [
  {
   "attachments": {},
   "cell_type": "markdown",
   "metadata": {},
   "source": [
    "Define the brickcomps "
   ]
  },
  {
   "cell_type": "code",
   "execution_count": 167,
   "metadata": {},
   "outputs": [],
   "source": [
    "using DataFrames\n",
    "using CSV\n",
    "AIS_Data = CSV.File(\"/Users/ce3304/Downloads/projections_csv/RCP85/projections_antarctic_RCP85_sneasybrick.csv\") |> DataFrame;"
   ]
  },
  {
   "cell_type": "code",
   "execution_count": 159,
   "metadata": {},
   "outputs": [],
   "source": [
    "GMSL_Data = CSV.File(\"/Users/ce3304/Downloads/projections_csv/RCP85/projections_gmsl_RCP85_sneasybrick.csv\") |> DataFrame;"
   ]
  },
  {
   "cell_type": "code",
   "execution_count": 160,
   "metadata": {},
   "outputs": [],
   "source": [
    "LWS_Data = CSV.File(\"/Users/ce3304/Downloads/projections_csv/RCP85/projections_landwater_storage_sl_RCP85_sneasybrick.csv\") |> DataFrame;"
   ]
  },
  {
   "cell_type": "code",
   "execution_count": 161,
   "metadata": {},
   "outputs": [],
   "source": [
    "TE_Data = CSV.File(\"/Users/ce3304/Downloads/projections_csv/RCP85/projections_thermal_RCP85_sneasybrick.csv\") |> DataFrame;"
   ]
  },
  {
   "cell_type": "code",
   "execution_count": 163,
   "metadata": {},
   "outputs": [],
   "source": [
    "GIS_Data = CSV.File(\"/Users/ce3304/Downloads/projections_csv/RCP85/projections_greenland_RCP85_sneasybrick.csv\") |> DataFrame;"
   ]
  },
  {
   "cell_type": "code",
   "execution_count": 164,
   "metadata": {},
   "outputs": [],
   "source": [
    "GSIC_Data = CSV.File(\"/Users/ce3304/Downloads/projections_csv/RCP85/projections_glaciers_RCP85_sneasybrick.csv\") |> DataFrame;"
   ]
  },
  {
   "attachments": {},
   "cell_type": "markdown",
   "metadata": {},
   "source": [
    "Construct Brick components"
   ]
  },
  {
   "cell_type": "code",
   "execution_count": 124,
   "metadata": {},
   "outputs": [],
   "source": [
    "Sim=10000\n",
    "GMSL=GMSL_Data[:,1:Sim];\n",
    "LWS=LWS_Data[:,1:Sim];\n",
    "GIS= GIS_Data[:,1:Sim];\n",
    "GSIC=GSIC_Data[:,1:Sim];\n",
    "TE=TE_Data[:,1:Sim];\n",
    "AIS=AIS_Data[:,1:Sim];"
   ]
  },
  {
   "cell_type": "code",
   "execution_count": 113,
   "metadata": {},
   "outputs": [],
   "source": [
    "Y=collect(1850:2300);\n",
    "\n",
    "btime=Y;\n",
    "\n"
   ]
  },
  {
   "cell_type": "code",
   "execution_count": 125,
   "metadata": {},
   "outputs": [],
   "source": [
    "brickcomps=Tuple([btime,AIS,GSIC,GIS,TE,LWS,GMSL]);"
   ]
  },
  {
   "attachments": {},
   "cell_type": "markdown",
   "metadata": {},
   "source": [
    "Run Brick downscale function"
   ]
  },
  {
   "cell_type": "code",
   "execution_count": 115,
   "metadata": {},
   "outputs": [
    {
     "data": {
      "text/plain": [
       "get_fingerprints (generic function with 1 method)"
      ]
     },
     "metadata": {},
     "output_type": "display_data"
    }
   ],
   "source": [
    "function get_fingerprints()\n",
    "\n",
    "    fp_dir = joinpath(@__DIR__, \"..\", \"data\")\n",
    "    isdir(fp_dir) || mkpath(fp_dir)\n",
    "    fp_file = joinpath(fp_dir, \"FINGERPRINTS_SLANGEN_Bakker.nc\")\n",
    "    if !isfile(fp_file)\n",
    "        url = \"https://github.com/scrim-network/BRICK/raw/master/fingerprints/FINGERPRINTS_SLANGEN_Bakker.nc\"\n",
    "        download(url, fp_file)\n",
    "    end\n",
    "\n",
    "    fplat = ncread(fp_file,\"lat\")\n",
    "    fplon = ncread(fp_file,\"lon\")\n",
    "    fpAIS = ncread(fp_file,\"AIS\")\n",
    "    fpGSIC = ncread(fp_file,\"GLAC\")\n",
    "    fpGIS = ncread(fp_file,\"GIS\")\n",
    "    ncclose()\n",
    "\n",
    "    return fplat,fplon,fpAIS,fpGSIC,fpGIS\n",
    "end"
   ]
  },
  {
   "cell_type": "code",
   "execution_count": 116,
   "metadata": {},
   "outputs": [
    {
     "data": {
      "text/plain": [
       "subtractor (generic function with 1 method)"
      ]
     },
     "metadata": {},
     "output_type": "display_data"
    }
   ],
   "source": [
    "function subtractor(minval,maxval)\n",
    "    function y(point,n)\n",
    "        if point - n < minval\n",
    "            return min(maxval,point - n + maxval)\n",
    "        else\n",
    "            return point - n\n",
    "        end\n",
    "    end\n",
    "end"
   ]
  },
  {
   "cell_type": "code",
   "execution_count": 117,
   "metadata": {},
   "outputs": [
    {
     "data": {
      "text/plain": [
       "adder (generic function with 1 method)"
      ]
     },
     "metadata": {},
     "output_type": "display_data"
    }
   ],
   "source": [
    "function adder(maxval)\n",
    "    function y(point,n)\n",
    "        if point + n > maxval\n",
    "            return point + n - maxval\n",
    "        else\n",
    "            return point + n\n",
    "        end\n",
    "    end\n",
    "end"
   ]
  },
  {
   "cell_type": "code",
   "execution_count": 118,
   "metadata": {},
   "outputs": [
    {
     "data": {
      "text/plain": [
       "(::var\"#y#209\"{Int64, Int64}) (generic function with 1 method)"
      ]
     },
     "metadata": {},
     "output_type": "display_data"
    }
   ],
   "source": [
    "lon_subtractor = subtractor(1,360)\n",
    "lon_adder = adder(360)\n",
    "lat_adder = adder(180)\n",
    "lat_subtractor = subtractor(1,180)"
   ]
  },
  {
   "cell_type": "code",
   "execution_count": 119,
   "metadata": {},
   "outputs": [
    {
     "data": {
      "text/plain": [
       "downscale_brick (generic function with 4 methods)"
      ]
     },
     "metadata": {},
     "output_type": "display_data"
    }
   ],
   "source": [
    "using Statistics\n",
    "using NetCDF\n",
    "function downscale_brick(brickcomps, lonlat, ensInds, ystart=2010, yend=2100, tstep=10)\n",
    "    # To do - check with vectors of lat, lon\n",
    "    (fplat,fplon,fpAIS,fpGSIC,fpGIS) = get_fingerprints()\n",
    "    (btime,AIS,GSIC,GIS,TE,LWS,GMSL) = brickcomps\n",
    "\n",
    "    # Select indices of time of interest, with respect to timestep\n",
    "    tinds = findall(x -> x .>= ystart && x .<=yend, btime)\n",
    "    years = collect(ystart:yend)\n",
    "    yinds = findall(x -> x % tstep==0, years)\n",
    "    # Need to normalize LSL relative to 2000\n",
    "    inorm = findall(x -> x==2000, btime)\n",
    "\n",
    "    tdim=length(btime)\n",
    "\n",
    "    if length(years)==length(tinds)\n",
    "        tinds = tinds[yinds]\n",
    "    else\n",
    "        println(\"Error: years outside of bounds\")\n",
    "        return nothing\n",
    "    end\n",
    "\n",
    "    num_ens = length(ensInds)\n",
    "    \n",
    "    # Output matrix: ens x time x segment\n",
    "    lsl_out = zeros(num_ens, length(tinds), length(lonlat))\n",
    "\n",
    "    # Trim component vectors to timesteps and ensembles. Assume interval is 1 year\n",
    "    if tdim==size(AIS)[1] # check that time dimension is 1\n",
    "        # for normalizing\n",
    "        AIS_norm = AIS[inorm,ensInds]\n",
    "        GSIC_norm = GSIC[inorm,ensInds]\n",
    "        GIS_norm = GIS[inorm,ensInds]\n",
    "        TE_norm = TE[inorm,ensInds]\n",
    "        LWS_norm = LWS[inorm,ensInds]\n",
    "        GMSL_norm = GMSL[inorm,ensInds]\n",
    "        # actual projections\n",
    "        AIS = AIS[tinds,ensInds]\n",
    "        GSIC = GSIC[tinds,ensInds]\n",
    "        GIS = GIS[tinds,ensInds]\n",
    "        TE = TE[tinds,ensInds]\n",
    "        LWS = LWS[tinds,ensInds]\n",
    "        GMSL = GMSL[tinds,ensInds]\n",
    "    else\n",
    "        println(\"Error: time dimension is not 1 for brick components\")\n",
    "        return nothing\n",
    "    end\n",
    "\n",
    "  \n",
    "\n",
    "    for f in 1:length(lonlat) # Loop through lonlat tuples\n",
    "\n",
    "        lon = lonlat[f][1]\n",
    "        lat = lonlat[f][2]\n",
    "        # Convert Longitude to degrees East\n",
    "        # CIAM Lat is already in (-90,90) by default\n",
    "        if lon <0\n",
    "            lon = lon + 360\n",
    "        end\n",
    "\n",
    "        # Find fingerprint degrees nearest to lat,lon\n",
    "        ilat = findall(isequal(minimum(abs.(fplat.-lat))),abs.(fplat.-lat))\n",
    "        ilon = findall(isequal(minimum(abs.(fplon.-lon))),abs.(fplon.-lon))\n",
    "\n",
    "\n",
    "        # Take average of closest lat/lon values\n",
    "        fpAIS_flat = collect(skipmissing(Iterators.flatten(fpAIS[ilon,ilat])))\n",
    "        fpGSIC_flat = collect(skipmissing(Iterators.flatten(fpGSIC[ilon,ilat])))\n",
    "        fpGIS_flat = collect(skipmissing(Iterators.flatten(fpGIS[ilon,ilat])))\n",
    "\n",
    "        fpAIS_loc = mean(fpAIS_flat[isnan.(fpAIS_flat).==false],dims=1)[1]\n",
    "        fpGSIC_loc = mean(fpGSIC_flat[isnan.(fpGSIC_flat).==false],dims=1)[1]\n",
    "        fpGIS_loc = mean(fpGIS_flat[isnan.(fpGIS_flat).==false],dims=1)[1]\n",
    "        fpTE_loc = 1.0\n",
    "        fpLWS_loc=1.0\n",
    "\n",
    "        # Keep searching nearby lat/lon values if fingerprint value is NaN unless limit is hit\n",
    "        inc =1\n",
    "\n",
    "        while isnan(fpAIS_loc) || isnan(fpGIS_loc) || isnan(fpGSIC_loc) && inc<5\n",
    "\n",
    "            newlonStart = lon_subtractor.(fplon[ilon],inc)[1]\n",
    "            newlatStart = lat_subtractor.(fplat[ilat],inc)[1]\n",
    "            newlonEnd = lon_adder.(fplon[ilon],inc)[1]\n",
    "            newlatEnd = lat_adder.(fplat[ilat],inc)[1]\n",
    "\n",
    "            latInd1 = minimum(findall(isequal(minimum(abs.(fplat.-newlatStart))),abs.(fplat.-newlatStart)))\n",
    "            #minimum(findall(x-> x in newlatStart,fplat))\n",
    "            latInd2 = maximum(findall(isequal(minimum(abs.(fplat.-newlatEnd))),abs.(fplat.-newlatEnd)))\n",
    "            #maximum(findall(x -> x in newlatEnd,fplat))\n",
    "\n",
    "            lonInd1 = minimum(findall(isequal(minimum(abs.(fplon.-newlonStart))),abs.(fplon.-newlonStart)))\n",
    "            #minimum(findall(x-> x in newlonStart,fplon))\n",
    "            lonInd2 = maximum(findall(isequal(minimum(abs.(fplon.-newlonEnd))),abs.(fplon.-newlonEnd)))\n",
    "            #maximum(findall(x -> x in newlonEnd,fplon))\n",
    "\n",
    "            if latInd2 < latInd1\n",
    "                latInds=[latInd1; 1:latInd2]\n",
    "            else\n",
    "                latInds=latInd1:latInd2\n",
    "            end\n",
    "\n",
    "            if lonInd2 < lonInd1\n",
    "                lonInds=[lonInd1; 1:lonInd2]\n",
    "            else\n",
    "                lonInds = lonInd1:lonInd2\n",
    "            end\n",
    "\n",
    "            fpAIS_flat = collect(skipmissing(Iterators.flatten(fpAIS[lonInds,latInds])))\n",
    "            fpGSIC_flat = collect(skipmissing(Iterators.flatten(fpGSIC[lonInds,latInds])))\n",
    "            fpGIS_flat = collect(skipmissing(Iterators.flatten(fpGIS[lonInds,latInds])))\n",
    "\n",
    "            fpAIS_loc = mean(fpAIS_flat[isnan.(fpAIS_flat).==false],dims=1)[1]\n",
    "            fpGSIC_loc = mean(fpGSIC_flat[isnan.(fpGSIC_flat).==false],dims=1)[1]\n",
    "            fpGIS_loc = mean(fpGIS_flat[isnan.(fpGIS_flat).==false],dims=1)[1]\n",
    "\n",
    "            inc = inc + 1\n",
    "\n",
    "        end\n",
    "\n",
    "        # If still NaN, throw an error\n",
    "        if isnan(fpAIS_loc) || isnan(fpGIS_loc) || isnan(fpGSIC_loc)\n",
    "            println(\"Error: no fingerprints found for ($(lon),$(lat))\")\n",
    "            return nothing\n",
    "        end\n",
    "       # Multiply fingerprints by BRICK ensemble members\n",
    "       if ndims(AIS) > 1\n",
    "        for n in 1:size(AIS)[2] # loop through ensemble members\n",
    "            lsl_out[n, :, f] = fpGIS_loc * GIS[:,n] + fpAIS_loc * AIS[:,n] + fpGSIC_loc * GSIC[:,n] +\n",
    "                               fpTE_loc * TE[:,n] + fpLWS_loc * LWS[:,n]\n",
    "            # CIAM - LSL should be sea-level change relative to year 2000\n",
    "            lsl_norm = fpGIS_loc * GIS_norm[1,n] + fpAIS_loc * AIS_norm[1,n] + fpGSIC_loc * GSIC_norm[1,n] +\n",
    "                       fpTE_loc * TE_norm[1,n] + fpLWS_loc * LWS_norm[1,n]\n",
    "            lsl_out[n, :, f] = lsl_out[n, :, f] .- lsl_norm\n",
    "            \n",
    "        end\n",
    "    else\n",
    "            lsl_out[1, :, f] = fpGIS_loc * GIS[:] + fpAIS_loc * AIS[:] + fpGSIC_loc * GSIC[:] +\n",
    "                                fpTE_loc * TE[:] + fpLWS_loc * LWS[:]\n",
    "            # CIAM - LSL should be sea-level change relative to year 2000\n",
    "            lsl_norm = fpGIS_loc * GIS_norm + fpAIS_loc * AIS_norm + fpGSIC_loc * GSIC_norm +\n",
    "                                fpTE_loc * TE_norm + fpLWS_loc * LWS_norm\n",
    "            lsl_out[1, :, f] = lsl_out[1, :, f] .- lsl_norm\n",
    "    end\n",
    "\n",
    "    end # End lonlat tuple\n",
    "\n",
    "    return lsl_out,GMSL\n",
    "end"
   ]
  },
  {
   "cell_type": "code",
   "execution_count": 139,
   "metadata": {},
   "outputs": [
    {
     "data": {
      "text/plain": [
       "([0.02676421779527241 0.06812314170115447 … 6.361669572580161 6.862617183909249; 0.024081657354711766 0.06299086519819136 … 3.673713132631384 3.99032120250646; … ; 0.032181918599016354 0.07211076206309919 … 5.156145274576946 5.615677439153576; 0.030560387249516846 0.06991447462590339 … 6.44974410335111 6.9719984662454415]\n",
       "\n",
       "[0.025283754282903553 0.06390356159746934 … 5.682386744769553 6.1214555837968625; 0.02304732387304978 0.059257821539559385 … 3.3212798100616925 3.60458242479375; … ; 0.030655010921650183 0.06810956394438224 … 4.535057511755059 4.9348544856717895; 0.029054709859027222 0.06582189420482644 … 5.6864725459669945 6.140884458605818], \u001b[1m20×10000 DataFrame\u001b[0m\n",
       "\u001b[1m Row \u001b[0m│\u001b[1m x1        \u001b[0m\u001b[1m x2        \u001b[0m\u001b[1m x3        \u001b[0m\u001b[1m x4        \u001b[0m\u001b[1m x5        \u001b[0m\u001b[1m x6        \u001b[0m\u001b[1m x7   \u001b[0m ⋯\n",
       "     │\u001b[90m Float64   \u001b[0m\u001b[90m Float64   \u001b[0m\u001b[90m Float64   \u001b[0m\u001b[90m Float64   \u001b[0m\u001b[90m Float64   \u001b[0m\u001b[90m Float64   \u001b[0m\u001b[90m Float\u001b[0m ⋯\n",
       "─────┼──────────────────────────────────────────────────────────────────────────\n",
       "   1 │ 0.0835504  0.0814309  0.0773876  0.0827359  0.0704417  0.0788344  0.066 ⋯\n",
       "   2 │ 0.126139   0.120532   0.127404   0.127121   0.116386   0.12249    0.093\n",
       "   3 │ 0.154978   0.164287   0.168247   0.17772    0.167748   0.168614   0.144\n",
       "   4 │ 0.222058   0.213359   0.227195   0.274093   0.243418   0.250072   0.205\n",
       "   5 │ 0.321216   0.268686   0.317427   0.369753   0.315526   0.336675   0.299 ⋯\n",
       "   6 │ 0.482262   0.371105   0.463613   0.498336   0.40659    0.454356   0.407\n",
       "   7 │ 0.796355   0.45418    0.726246   0.74682    0.634988   0.586536   0.558\n",
       "   8 │ 1.13156    0.569919   1.01338    1.04859    0.904395   0.881802   0.797\n",
       "  ⋮  │     ⋮          ⋮          ⋮          ⋮          ⋮          ⋮          ⋮ ⋱\n",
       "  14 │ 3.68619    2.10748    3.41715    3.58069    2.94206    3.27605    2.794 ⋯\n",
       "  15 │ 4.17404    2.37456    3.90759    4.08263    3.3411     3.76249    3.167\n",
       "  16 │ 4.66956    2.70065    4.42078    4.60829    3.74035    4.24943    3.551\n",
       "  17 │ 5.19007    3.00572    4.95769    5.11026    4.1352     4.719      3.948\n",
       "  18 │ 5.69432    3.31125    5.50468    5.59506    4.52915    5.22225    4.349 ⋯\n",
       "  19 │ 6.1991     3.63998    6.0298     6.06926    4.92789    5.7009     4.732\n",
       "  20 │ 6.67495    3.92105    6.59078    6.53303    5.31019    6.19301    5.093\n",
       "\u001b[36m                                                 9994 columns and 5 rows omitted\u001b[0m)"
      ]
     },
     "metadata": {},
     "output_type": "display_data"
    }
   ],
   "source": [
    "ensInds=collect(1:10000);\n",
    "lonlat= ([-104.3385,19.1138],[-90.0715,29.9511]);\n",
    "ystart=2010;\n",
    "yend=2200;\n",
    "tstep=10;\n",
    "\n",
    "lslrNew,H=downscale_brick(brickcomps, lonlat, ensInds, ystart, yend, tstep);"
   ]
  },
  {
   "attachments": {},
   "cell_type": "markdown",
   "metadata": {},
   "source": [
    "Save the Local SLR for Manzanillo, Colima and New Orleans in a CVS File \n",
    "1) Make a data frame for each one\n",
    "2) Save it as a CVS File"
   ]
  },
  {
   "attachments": {},
   "cell_type": "markdown",
   "metadata": {},
   "source": [
    "RCP 8.5 case"
   ]
  },
  {
   "cell_type": "code",
   "execution_count": 150,
   "metadata": {},
   "outputs": [],
   "source": [
    "#Manzanillo, Colima, Mexico Matrix\n",
    "COLlslr85=zeros(20,10001);\n",
    "#First colum are the years 2010 to 2200 with time step of 10 years\n",
    "for i in 1:20\n",
    "    COLlslr85[i,1]=2000+i*10\n",
    "end\n",
    "#SLR value for each year for each simulation \n",
    "for i in 1:10000\n",
    "    for j in 1:20\n",
    "        COLlslr85[j,i+1]=lslrNew[i,j,1]\n",
    "    end \n",
    "end "
   ]
  },
  {
   "cell_type": "code",
   "execution_count": 220,
   "metadata": {},
   "outputs": [],
   "source": [
    "#New Orleans Matrix\n",
    "NOlslr85=zeros(20,10001);\n",
    "#First colum are the years 2010 to 2200 with time step of 10 years\n",
    "for i in 1:20\n",
    "    NOlslr85[i,1]=2000+i*10\n",
    "end\n",
    "#SLR value for each year for each simulation \n",
    "for i in 1:10000\n",
    "    for j in 1:20\n",
    "        NOlslr85[j,i+1]=lslrNew[i,j,2]\n",
    "    end \n",
    "end "
   ]
  },
  {
   "cell_type": "code",
   "execution_count": 207,
   "metadata": {},
   "outputs": [
    {
     "ename": "MethodError",
     "evalue": "MethodError: Cannot `convert` an object of type String to an object of type Float64\nClosest candidates are:\n  convert(::Type{T}, !Matched::DoubleFloats.DoubleFloat{DoubleFloats.DoubleFloat{T}}) where T<:Union{Float16, Float32, Float64} at /Users/ce3304/.julia/packages/DoubleFloats/6UuOC/src/type/convert.jl:37\n  convert(::Type{T}, !Matched::Mimi.ScalarModelParameter{T}) where T at /Users/ce3304/.julia/packages/Mimi/OClro/src/core/types/params.jl:46\n  convert(::Type{T}, !Matched::DualNumbers.Dual) where T<:Union{Real, Complex} at /Users/ce3304/.julia/packages/DualNumbers/5knFX/src/dual.jl:24\n  ...",
     "output_type": "error",
     "traceback": [
      "MethodError: Cannot `convert` an object of type String to an object of type Float64\n",
      "Closest candidates are:\n",
      "  convert(::Type{T}, !Matched::DoubleFloats.DoubleFloat{DoubleFloats.DoubleFloat{T}}) where T<:Union{Float16, Float32, Float64} at /Users/ce3304/.julia/packages/DoubleFloats/6UuOC/src/type/convert.jl:37\n",
      "  convert(::Type{T}, !Matched::Mimi.ScalarModelParameter{T}) where T at /Users/ce3304/.julia/packages/Mimi/OClro/src/core/types/params.jl:46\n",
      "  convert(::Type{T}, !Matched::DualNumbers.Dual) where T<:Union{Real, Complex} at /Users/ce3304/.julia/packages/DualNumbers/5knFX/src/dual.jl:24\n",
      "  ...\n",
      "\n",
      "Stacktrace:\n",
      " [1] setindex!(::Matrix{Float64}, ::String, ::Int64, ::Int64)\n",
      "   @ Base ./array.jl:841\n",
      " [2] top-level scope\n",
      "   @ ~/Library/CloudStorage/GoogleDrive-ce3304@g.rit.edu/My Drive/Tutorials/Tutorials/CIAMPractice/Downscale /NewLslr.ipynb:2"
     ]
    }
   ],
   "source": [
    "Head=zeros(1,10001);\n",
    "Head[1,1]=\"Years\""
   ]
  },
  {
   "cell_type": "code",
   "execution_count": 147,
   "metadata": {},
   "outputs": [],
   "source": [
    "import Pkg \n",
    "Pkg.add(\"Tables\")\n"
   ]
  },
  {
   "cell_type": "code",
   "execution_count": 221,
   "metadata": {},
   "outputs": [
    {
     "data": {
      "text/plain": [
       "\"projections_NO_LSLR_RCP85.csv\""
      ]
     },
     "metadata": {},
     "output_type": "display_data"
    }
   ],
   "source": [
    "using CSV\n",
    "using Tables\n",
    "CSV.write(\"projections_Col_LSLR_RCP85.csv\", Tables.table(COLlslr85))\n",
    "CSV.write(\"projections_NO_LSLR_RCP85.csv\", Tables.table(NOlslr85))"
   ]
  },
  {
   "attachments": {},
   "cell_type": "markdown",
   "metadata": {},
   "source": [
    "RCP 6.0 case"
   ]
  },
  {
   "cell_type": "code",
   "execution_count": 166,
   "metadata": {},
   "outputs": [],
   "source": [
    "using DataFrames\n",
    "using CSV\n",
    "AIS_Data60 = CSV.File(\"/Users/ce3304/Downloads/projections_csv/RCP60/projections_antarctic_RCP60_sneasybrick.csv\") |> DataFrame;"
   ]
  },
  {
   "cell_type": "code",
   "execution_count": 178,
   "metadata": {},
   "outputs": [],
   "source": [
    "GMSL_Data60 = CSV.File(\"/Users/ce3304/Downloads/projections_csv/RCP60/projections_gmsl_RCP60_sneasybrick.csv\") |> DataFrame;"
   ]
  },
  {
   "cell_type": "code",
   "execution_count": 179,
   "metadata": {},
   "outputs": [],
   "source": [
    "LWS_Data60 = CSV.File(\"/Users/ce3304/Downloads/projections_csv/RCP60/projections_landwater_storage_sl_RCP60_sneasybrick.csv\") |> DataFrame;"
   ]
  },
  {
   "cell_type": "code",
   "execution_count": 176,
   "metadata": {},
   "outputs": [],
   "source": [
    "TE_Data60 = CSV.File(\"/Users/ce3304/Downloads/projections_csv/RCP60/projections_thermal_RCP60_sneasybrick.csv\") |> DataFrame;"
   ]
  },
  {
   "cell_type": "code",
   "execution_count": 183,
   "metadata": {},
   "outputs": [],
   "source": [
    "GIS_Data60 = CSV.File(\"/Users/ce3304/Downloads/projections_csv/RCP60/projections_greenland_RCP60_sneasybrick.csv\") |> DataFrame;"
   ]
  },
  {
   "cell_type": "code",
   "execution_count": 186,
   "metadata": {},
   "outputs": [],
   "source": [
    "GSIC_Data60 = CSV.File(\"/Users/ce3304/Downloads/projections_csv/RCP60/projections_glaciers_RCP60_sneasybrick.csv\") |> DataFrame;"
   ]
  },
  {
   "cell_type": "code",
   "execution_count": 189,
   "metadata": {},
   "outputs": [],
   "source": [
    "Sim=10000\n",
    "GMSL60=GMSL_Data60[:,1:Sim];\n",
    "LWS60=LWS_Data60[:,1:Sim];\n",
    "GIS60= GIS_Data60[:,1:Sim];\n",
    "GSIC60=GSIC_Data60[:,1:Sim];\n",
    "TE60=TE_Data60[:,1:Sim];\n",
    "AIS60=AIS_Data60[:,1:Sim];"
   ]
  },
  {
   "cell_type": "code",
   "execution_count": 192,
   "metadata": {},
   "outputs": [],
   "source": [
    "brickcomps60=Tuple([btime,AIS60,GSIC60,GIS60,TE60,LWS60,GMSL60]);"
   ]
  },
  {
   "cell_type": "code",
   "execution_count": 195,
   "metadata": {},
   "outputs": [],
   "source": [
    "ensInds=collect(1:10000);\n",
    "lonlat= ([-104.3385,19.1138],[-90.0715,29.9511]);\n",
    "ystart=2010;\n",
    "yend=2200;\n",
    "tstep=10;\n",
    "\n",
    "lslrNew60,H60=downscale_brick(brickcomps60, lonlat, ensInds, ystart, yend, tstep);"
   ]
  },
  {
   "cell_type": "code",
   "execution_count": 198,
   "metadata": {},
   "outputs": [],
   "source": [
    "#Manzanillo, Colima, Mexico Matrix\n",
    "COLlslr60=zeros(20,10001);\n",
    "#First colum are the years 2010 to 2200 with time step of 10 years\n",
    "for i in 1:20\n",
    "    COLlslr60[i,1]=2000+i*10\n",
    "end\n",
    "#SLR value for each year for each simulation \n",
    "for i in 1:10000\n",
    "    for j in 1:20\n",
    "        COLlslr60[j,i+1]=lslrNew60[i,j,1]\n",
    "    end \n",
    "end "
   ]
  },
  {
   "cell_type": "code",
   "execution_count": 218,
   "metadata": {},
   "outputs": [],
   "source": [
    "#New Orleans Matrix\n",
    "NOlslr60=zeros(20,10001);\n",
    "#First colum are the years 2010 to 2200 with time step of 10 years\n",
    "for i in 1:20\n",
    "    NOlslr60[i,1]=2000+i*10\n",
    "end\n",
    "#SLR value for each year for each simulation \n",
    "for i in 1:10000\n",
    "    for j in 1:20\n",
    "        NOlslr60[j,i+1]=lslrNew60[i,j,2]\n",
    "    end \n",
    "end "
   ]
  },
  {
   "cell_type": "code",
   "execution_count": 219,
   "metadata": {},
   "outputs": [
    {
     "data": {
      "text/plain": [
       "\"projections_NO_LSLR_RCP60.csv\""
      ]
     },
     "metadata": {},
     "output_type": "display_data"
    }
   ],
   "source": [
    "using CSV\n",
    "using Tables\n",
    "CSV.write(\"projections_Col_LSLR_RCP60.csv\", Tables.table(COLlslr60))\n",
    "CSV.write(\"projections_NO_LSLR_RCP60.csv\", Tables.table(NOlslr60))"
   ]
  },
  {
   "attachments": {},
   "cell_type": "markdown",
   "metadata": {},
   "source": [
    "RCP 4.5 case"
   ]
  },
  {
   "cell_type": "code",
   "execution_count": 171,
   "metadata": {},
   "outputs": [],
   "source": [
    "AIS_Data45 = CSV.File(\"/Users/ce3304/Downloads/projections_csv/RCP45/projections_antarctic_RCP45_sneasybrick.csv\") |> DataFrame;"
   ]
  },
  {
   "cell_type": "code",
   "execution_count": 177,
   "metadata": {},
   "outputs": [],
   "source": [
    "GMSL_Data45= CSV.File(\"/Users/ce3304/Downloads/projections_csv/RCP45/projections_gmsl_RCP45_sneasybrick.csv\") |> DataFrame;"
   ]
  },
  {
   "cell_type": "code",
   "execution_count": 169,
   "metadata": {},
   "outputs": [],
   "source": [
    "LWS_Data45 = CSV.File(\"/Users/ce3304/Downloads/projections_csv/RCP45/projections_landwater_storage_sl_RCP45_sneasybrick.csv\") |> DataFrame;"
   ]
  },
  {
   "cell_type": "code",
   "execution_count": 180,
   "metadata": {},
   "outputs": [],
   "source": [
    "TE_Data45 = CSV.File(\"/Users/ce3304/Downloads/projections_csv/RCP45/projections_thermal_RCP45_sneasybrick.csv\") |> DataFrame;"
   ]
  },
  {
   "cell_type": "code",
   "execution_count": 184,
   "metadata": {},
   "outputs": [],
   "source": [
    "GIS_Data45 = CSV.File(\"/Users/ce3304/Downloads/projections_csv/RCP45/projections_greenland_RCP45_sneasybrick.csv\") |> DataFrame;"
   ]
  },
  {
   "cell_type": "code",
   "execution_count": 187,
   "metadata": {},
   "outputs": [],
   "source": [
    "GSIC_Data45 = CSV.File(\"/Users/ce3304/Downloads/projections_csv/RCP45/projections_glaciers_RCP45_sneasybrick.csv\") |> DataFrame;"
   ]
  },
  {
   "cell_type": "code",
   "execution_count": 190,
   "metadata": {},
   "outputs": [],
   "source": [
    "Sim=10000\n",
    "GMSL45=GMSL_Data45[:,1:Sim];\n",
    "LWS45=LWS_Data45[:,1:Sim];\n",
    "GIS45= GIS_Data45[:,1:Sim];\n",
    "GSIC45=GSIC_Data45[:,1:Sim];\n",
    "TE45=TE_Data45[:,1:Sim];\n",
    "AIS45=AIS_Data45[:,1:Sim];"
   ]
  },
  {
   "cell_type": "code",
   "execution_count": 193,
   "metadata": {},
   "outputs": [],
   "source": [
    "brickcomps45=Tuple([btime,AIS45,GSIC45,GIS45,TE45,LWS45,GMSL45]);"
   ]
  },
  {
   "cell_type": "code",
   "execution_count": 196,
   "metadata": {},
   "outputs": [],
   "source": [
    "ensInds=collect(1:10000);\n",
    "lonlat= ([-104.3385,19.1138],[-90.0715,29.9511]);\n",
    "ystart=2010;\n",
    "yend=2200;\n",
    "tstep=10;\n",
    "\n",
    "lslrNew45,H=downscale_brick(brickcomps45, lonlat, ensInds, ystart, yend, tstep);"
   ]
  },
  {
   "cell_type": "code",
   "execution_count": 199,
   "metadata": {},
   "outputs": [],
   "source": [
    "#Manzanillo, Colima, Mexico Matrix\n",
    "COLlslr45=zeros(20,10001);\n",
    "#First colum are the years 2010 to 2200 with time step of 10 years\n",
    "for i in 1:20\n",
    "    COLlslr45[i,1]=2000+i*10\n",
    "end\n",
    "#SLR value for each year for each simulation \n",
    "for i in 1:10000\n",
    "    for j in 1:20\n",
    "        COLlslr45[j,i+1]=lslrNew45[i,j,1]\n",
    "    end \n",
    "end "
   ]
  },
  {
   "cell_type": "code",
   "execution_count": 216,
   "metadata": {},
   "outputs": [],
   "source": [
    "#New Orleans Matrix\n",
    "NOlslr45=zeros(20,10001);\n",
    "#First colum are the years 2010 to 2200 with time step of 10 years\n",
    "for i in 1:20\n",
    "    NOlslr45[i,1]=2000+i*10\n",
    "end\n",
    "#SLR value for each year for each simulation \n",
    "for i in 1:10000\n",
    "    for j in 1:20\n",
    "        NOlslr45[j,i+1]=lslrNew45[i,j,2]\n",
    "    end \n",
    "end "
   ]
  },
  {
   "cell_type": "code",
   "execution_count": 217,
   "metadata": {},
   "outputs": [
    {
     "data": {
      "text/plain": [
       "\"projections_NO_LSLR_RCP45.csv\""
      ]
     },
     "metadata": {},
     "output_type": "display_data"
    }
   ],
   "source": [
    "using CSV\n",
    "using Tables\n",
    "CSV.write(\"projections_Col_LSLR_RCP45.csv\", Tables.table(COLlslr45))\n",
    "CSV.write(\"projections_NO_LSLR_RCP45.csv\", Tables.table(NOlslr45))"
   ]
  },
  {
   "attachments": {},
   "cell_type": "markdown",
   "metadata": {},
   "source": [
    "RCP 2.6 case"
   ]
  },
  {
   "cell_type": "code",
   "execution_count": 181,
   "metadata": {},
   "outputs": [],
   "source": [
    "AIS_Data26 = CSV.File(\"/Users/ce3304/Downloads/projections_csv/RCP26/projections_antarctic_RCP26_sneasybrick.csv\") |> DataFrame;"
   ]
  },
  {
   "cell_type": "code",
   "execution_count": 174,
   "metadata": {},
   "outputs": [],
   "source": [
    "GMSL_Data26 = CSV.File(\"/Users/ce3304/Downloads/projections_csv/RCP26/projections_gmsl_RCP26_sneasybrick.csv\") |> DataFrame;"
   ]
  },
  {
   "cell_type": "code",
   "execution_count": 170,
   "metadata": {},
   "outputs": [],
   "source": [
    "LWS_Data26 = CSV.File(\"/Users/ce3304/Downloads/projections_csv/RCP26/projections_landwater_storage_sl_RCP26_sneasybrick.csv\") |> DataFrame;"
   ]
  },
  {
   "cell_type": "code",
   "execution_count": 182,
   "metadata": {},
   "outputs": [],
   "source": [
    "TE_Data26 = CSV.File(\"/Users/ce3304/Downloads/projections_csv/RCP26/projections_thermal_RCP26_sneasybrick.csv\") |> DataFrame;"
   ]
  },
  {
   "cell_type": "code",
   "execution_count": 185,
   "metadata": {},
   "outputs": [],
   "source": [
    "GIS_Data26 = CSV.File(\"/Users/ce3304/Downloads/projections_csv/RCP26/projections_greenland_RCP26_sneasybrick.csv\") |> DataFrame;"
   ]
  },
  {
   "cell_type": "code",
   "execution_count": 188,
   "metadata": {},
   "outputs": [],
   "source": [
    "GSIC_Data26 = CSV.File(\"/Users/ce3304/Downloads/projections_csv/RCP26/projections_glaciers_RCP26_sneasybrick.csv\") |> DataFrame;"
   ]
  },
  {
   "cell_type": "code",
   "execution_count": 191,
   "metadata": {},
   "outputs": [],
   "source": [
    "Sim=10000\n",
    "GMSL26=GMSL_Data26[:,1:Sim];\n",
    "LWS26=LWS_Data26[:,1:Sim];\n",
    "GIS26= GIS_Data26[:,1:Sim];\n",
    "GSIC26=GSIC_Data26[:,1:Sim];\n",
    "TE26=TE_Data26[:,1:Sim];\n",
    "AIS26=AIS_Data26[:,1:Sim];"
   ]
  },
  {
   "cell_type": "code",
   "execution_count": 194,
   "metadata": {},
   "outputs": [],
   "source": [
    "brickcomps26=Tuple([btime,AIS26,GSIC26,GIS26,TE26,LWS26,GMSL26]);"
   ]
  },
  {
   "cell_type": "code",
   "execution_count": 197,
   "metadata": {},
   "outputs": [],
   "source": [
    "ensInds=collect(1:10000);\n",
    "lonlat= ([-104.3385,19.1138],[-90.0715,29.9511]);\n",
    "ystart=2010;\n",
    "yend=2200;\n",
    "tstep=10;\n",
    "\n",
    "lslrNew26,H=downscale_brick(brickcomps26, lonlat, ensInds, ystart, yend, tstep);"
   ]
  },
  {
   "cell_type": "code",
   "execution_count": 200,
   "metadata": {},
   "outputs": [],
   "source": [
    "#Manzanillo, Colima, Mexico Matrix\n",
    "COLlslr26=zeros(20,10001);\n",
    "#First colum are the years 2010 to 2200 with time step of 10 years\n",
    "for i in 1:20\n",
    "    COLlslr26[i,1]=2000+i*10\n",
    "end\n",
    "#SLR value for each year for each simulation \n",
    "for i in 1:10000\n",
    "    for j in 1:20\n",
    "        COLlslr26[j,i+1]=lslrNew26[i,j,1]\n",
    "    end \n",
    "end "
   ]
  },
  {
   "cell_type": "code",
   "execution_count": 213,
   "metadata": {},
   "outputs": [],
   "source": [
    "#New Orleans Matrix\n",
    "NOlslr26=zeros(20,10001);\n",
    "#First colum are the years 2010 to 2200 with time step of 10 years\n",
    "for i in 1:20\n",
    "    NOlslr26[i,1]=2000+i*10\n",
    "end\n",
    "#SLR value for each year for each simulation \n",
    "for i in 1:10000\n",
    "    for j in 1:20\n",
    "        NOlslr26[j,i+1]=lslrNew26[i,j,2]\n",
    "    end \n",
    "end "
   ]
  },
  {
   "cell_type": "code",
   "execution_count": 215,
   "metadata": {},
   "outputs": [
    {
     "data": {
      "text/plain": [
       "\"projections_NO_LSLR_RCP26.csv\""
      ]
     },
     "metadata": {},
     "output_type": "display_data"
    }
   ],
   "source": [
    "using CSV\n",
    "using Tables\n",
    "CSV.write(\"projections_Col_LSLR_RCP26.csv\", Tables.table(COLlslr26))\n",
    "CSV.write(\"projections_NO_LSLR_RCP26.csv\", Tables.table(NOlslr26))"
   ]
  },
  {
   "cell_type": "code",
   "execution_count": 128,
   "metadata": {},
   "outputs": [
    {
     "ename": "MethodError",
     "evalue": "MethodError: Cannot `convert` an object of type Nothing to an object of type Float64\nClosest candidates are:\n  convert(::Type{T}, !Matched::DoubleFloats.DoubleFloat{DoubleFloats.DoubleFloat{T}}) where T<:Union{Float16, Float32, Float64} at /Users/ce3304/.julia/packages/DoubleFloats/6UuOC/src/type/convert.jl:37\n  convert(::Type{T}, !Matched::Mimi.ScalarModelParameter{T}) where T at /Users/ce3304/.julia/packages/Mimi/OClro/src/core/types/params.jl:46\n  convert(::Type{T}, !Matched::DualNumbers.Dual) where T<:Union{Real, Complex} at /Users/ce3304/.julia/packages/DualNumbers/5knFX/src/dual.jl:24\n  ...",
     "output_type": "error",
     "traceback": [
      "MethodError: Cannot `convert` an object of type Nothing to an object of type Float64\n",
      "Closest candidates are:\n",
      "  convert(::Type{T}, !Matched::DoubleFloats.DoubleFloat{DoubleFloats.DoubleFloat{T}}) where T<:Union{Float16, Float32, Float64} at /Users/ce3304/.julia/packages/DoubleFloats/6UuOC/src/type/convert.jl:37\n",
      "  convert(::Type{T}, !Matched::Mimi.ScalarModelParameter{T}) where T at /Users/ce3304/.julia/packages/Mimi/OClro/src/core/types/params.jl:46\n",
      "  convert(::Type{T}, !Matched::DualNumbers.Dual) where T<:Union{Real, Complex} at /Users/ce3304/.julia/packages/DualNumbers/5knFX/src/dual.jl:24\n",
      "  ...\n",
      "\n",
      "Stacktrace:\n",
      " [1] setindex!(A::Matrix{Float64}, x::Nothing, i1::Int64)\n",
      "   @ Base ./array.jl:839\n",
      " [2] top-level scope\n",
      "   @ ~/Library/CloudStorage/GoogleDrive-ce3304@g.rit.edu/My Drive/Tutorials/Tutorials/CIAMPractice/Downscale /NewLslr.ipynb:13"
     ]
    }
   ],
   "source": [
    "using MimiCIAM\n",
    "using Mimi\n",
    "M=zeros(1,10);\n",
    "for i in 1:10\n",
    "    new_lslr=zeros(20,2);\n",
    "    for j in 1:2\n",
    "        for k in 1:20\n",
    "        new_lslr[k,j]=lslrNew[i,k,j];\n",
    "        end \n",
    "     end \n",
    "    m = MimiCIAM.get_model(initfile =\"../ColimaUSA3_init.csv\")\n",
    "    update_param!(m, :slrcost, :lslr, new_lslr)\n",
    "    M[i]=run(m)\n",
    "end"
   ]
  },
  {
   "cell_type": "code",
   "execution_count": 122,
   "metadata": {},
   "outputs": [],
   "source": []
  }
 ],
 "metadata": {
  "kernelspec": {
   "display_name": "Julia 1.6.1",
   "language": "julia",
   "name": "julia-1.6"
  },
  "language_info": {
   "file_extension": ".jl",
   "mimetype": "application/julia",
   "name": "julia",
   "version": "1.6.1"
  },
  "orig_nbformat": 4
 },
 "nbformat": 4,
 "nbformat_minor": 2
}
