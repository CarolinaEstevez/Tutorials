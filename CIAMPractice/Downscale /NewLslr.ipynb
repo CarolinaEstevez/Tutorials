{
 "cells": [
  {
   "attachments": {},
   "cell_type": "markdown",
   "metadata": {},
   "source": [
    "Define the brickcomps "
   ]
  },
  {
   "cell_type": "code",
   "execution_count": 1,
   "metadata": {},
   "outputs": [],
   "source": [
    "using DataFrames\n",
    "using CSV\n",
    "AIS_Data = CSV.File(\"/Users/ce3304/Downloads/projections_csv/RCP85/projections_antarctic_RCP85_sneasybrick.csv\") |> DataFrame;"
   ]
  },
  {
   "cell_type": "code",
   "execution_count": 2,
   "metadata": {},
   "outputs": [],
   "source": [
    "GMSL_Data = CSV.File(\"/Users/ce3304/Downloads/projections_csv/RCP85/projections_gmsl_RCP85_sneasybrick.csv\") |> DataFrame;"
   ]
  },
  {
   "cell_type": "code",
   "execution_count": 3,
   "metadata": {},
   "outputs": [],
   "source": [
    "LWS_Data = CSV.File(\"/Users/ce3304/Downloads/projections_csv/RCP85/projections_landwater_storage_sl_RCP85_sneasybrick.csv\") |> DataFrame;"
   ]
  },
  {
   "cell_type": "code",
   "execution_count": 4,
   "metadata": {},
   "outputs": [],
   "source": [
    "TE_Data = CSV.File(\"/Users/ce3304/Downloads/projections_csv/RCP85/projections_thermal_RCP85_sneasybrick.csv\") |> DataFrame;"
   ]
  },
  {
   "cell_type": "code",
   "execution_count": 5,
   "metadata": {},
   "outputs": [],
   "source": [
    "GIS_Data = CSV.File(\"/Users/ce3304/Downloads/projections_csv/RCP85/projections_greenland_RCP85_sneasybrick.csv\") |> DataFrame;"
   ]
  },
  {
   "cell_type": "code",
   "execution_count": 6,
   "metadata": {},
   "outputs": [],
   "source": [
    "GSIC_Data = CSV.File(\"/Users/ce3304/Downloads/projections_csv/RCP85/projections_glaciers_RCP85_sneasybrick.csv\") |> DataFrame;"
   ]
  },
  {
   "attachments": {},
   "cell_type": "markdown",
   "metadata": {},
   "source": [
    "Construct Brick components"
   ]
  },
  {
   "cell_type": "code",
   "execution_count": 7,
   "metadata": {},
   "outputs": [],
   "source": [
    "Sim=10000\n",
    "GMSL=GMSL_Data[:,1:Sim];\n",
    "LWS=LWS_Data[:,1:Sim];\n",
    "GIS= GIS_Data[:,1:Sim];\n",
    "GSIC=GSIC_Data[:,1:Sim];\n",
    "TE=TE_Data[:,1:Sim];\n",
    "AIS=AIS_Data[:,1:Sim];"
   ]
  },
  {
   "cell_type": "code",
   "execution_count": 8,
   "metadata": {},
   "outputs": [],
   "source": [
    "Y=collect(1850:2300);\n",
    "\n",
    "btime=Y;\n",
    "\n"
   ]
  },
  {
   "cell_type": "code",
   "execution_count": 9,
   "metadata": {},
   "outputs": [],
   "source": [
    "brickcomps=Tuple([btime,AIS,GSIC,GIS,TE,LWS,GMSL]);"
   ]
  },
  {
   "attachments": {},
   "cell_type": "markdown",
   "metadata": {},
   "source": [
    "Run Brick downscale function"
   ]
  },
  {
   "cell_type": "code",
   "execution_count": 10,
   "metadata": {},
   "outputs": [
    {
     "data": {
      "text/plain": [
       "get_fingerprints (generic function with 1 method)"
      ]
     },
     "metadata": {},
     "output_type": "display_data"
    }
   ],
   "source": [
    "function get_fingerprints()\n",
    "\n",
    "    fp_dir = joinpath(@__DIR__, \"..\", \"data\")\n",
    "    isdir(fp_dir) || mkpath(fp_dir)\n",
    "    fp_file = joinpath(fp_dir, \"FINGERPRINTS_SLANGEN_Bakker.nc\")\n",
    "    if !isfile(fp_file)\n",
    "        url = \"https://github.com/scrim-network/BRICK/raw/master/fingerprints/FINGERPRINTS_SLANGEN_Bakker.nc\"\n",
    "        download(url, fp_file)\n",
    "    end\n",
    "\n",
    "    fplat = ncread(fp_file,\"lat\")\n",
    "    fplon = ncread(fp_file,\"lon\")\n",
    "    fpAIS = ncread(fp_file,\"AIS\")\n",
    "    fpGSIC = ncread(fp_file,\"GLAC\")\n",
    "    fpGIS = ncread(fp_file,\"GIS\")\n",
    "    ncclose()\n",
    "\n",
    "    return fplat,fplon,fpAIS,fpGSIC,fpGIS\n",
    "end"
   ]
  },
  {
   "cell_type": "code",
   "execution_count": 11,
   "metadata": {},
   "outputs": [
    {
     "data": {
      "text/plain": [
       "subtractor (generic function with 1 method)"
      ]
     },
     "metadata": {},
     "output_type": "display_data"
    }
   ],
   "source": [
    "function subtractor(minval,maxval)\n",
    "    function y(point,n)\n",
    "        if point - n < minval\n",
    "            return min(maxval,point - n + maxval)\n",
    "        else\n",
    "            return point - n\n",
    "        end\n",
    "    end\n",
    "end"
   ]
  },
  {
   "cell_type": "code",
   "execution_count": 12,
   "metadata": {},
   "outputs": [
    {
     "data": {
      "text/plain": [
       "adder (generic function with 1 method)"
      ]
     },
     "metadata": {},
     "output_type": "display_data"
    }
   ],
   "source": [
    "function adder(maxval)\n",
    "    function y(point,n)\n",
    "        if point + n > maxval\n",
    "            return point + n - maxval\n",
    "        else\n",
    "            return point + n\n",
    "        end\n",
    "    end\n",
    "end"
   ]
  },
  {
   "cell_type": "code",
   "execution_count": 13,
   "metadata": {},
   "outputs": [
    {
     "data": {
      "text/plain": [
       "(::var\"#y#9\"{Int64, Int64}) (generic function with 1 method)"
      ]
     },
     "metadata": {},
     "output_type": "display_data"
    }
   ],
   "source": [
    "lon_subtractor = subtractor(1,360)\n",
    "lon_adder = adder(360)\n",
    "lat_adder = adder(180)\n",
    "lat_subtractor = subtractor(1,180)"
   ]
  },
  {
   "cell_type": "code",
   "execution_count": 14,
   "metadata": {},
   "outputs": [
    {
     "data": {
      "text/plain": [
       "downscale_brick (generic function with 4 methods)"
      ]
     },
     "metadata": {},
     "output_type": "display_data"
    }
   ],
   "source": [
    "using Statistics\n",
    "using NetCDF\n",
    "function downscale_brick(brickcomps, lonlat, ensInds, ystart=2010, yend=2100, tstep=10)\n",
    "    # To do - check with vectors of lat, lon\n",
    "    (fplat,fplon,fpAIS,fpGSIC,fpGIS) = get_fingerprints()\n",
    "    (btime,AIS,GSIC,GIS,TE,LWS,GMSL) = brickcomps\n",
    "\n",
    "    # Select indices of time of interest, with respect to timestep\n",
    "    tinds = findall(x -> x .>= ystart && x .<=yend, btime)\n",
    "    years = collect(ystart:yend)\n",
    "    yinds = findall(x -> x % tstep==0, years)\n",
    "    # Need to normalize LSL relative to 2000\n",
    "    inorm = findall(x -> x==2000, btime)\n",
    "\n",
    "    tdim=length(btime)\n",
    "\n",
    "    if length(years)==length(tinds)\n",
    "        tinds = tinds[yinds]\n",
    "    else\n",
    "        println(\"Error: years outside of bounds\")\n",
    "        return nothing\n",
    "    end\n",
    "\n",
    "    num_ens = length(ensInds)\n",
    "    \n",
    "    # Output matrix: ens x time x segment\n",
    "    lsl_out = zeros(num_ens, length(tinds), length(lonlat))\n",
    "\n",
    "    # Trim component vectors to timesteps and ensembles. Assume interval is 1 year\n",
    "    if tdim==size(AIS)[1] # check that time dimension is 1\n",
    "        # for normalizing\n",
    "        AIS_norm = AIS[inorm,ensInds]\n",
    "        GSIC_norm = GSIC[inorm,ensInds]\n",
    "        GIS_norm = GIS[inorm,ensInds]\n",
    "        TE_norm = TE[inorm,ensInds]\n",
    "        LWS_norm = LWS[inorm,ensInds]\n",
    "        GMSL_norm = GMSL[inorm,ensInds]\n",
    "        # actual projections\n",
    "        AIS = AIS[tinds,ensInds]\n",
    "        GSIC = GSIC[tinds,ensInds]\n",
    "        GIS = GIS[tinds,ensInds]\n",
    "        TE = TE[tinds,ensInds]\n",
    "        LWS = LWS[tinds,ensInds]\n",
    "        GMSL = GMSL[tinds,ensInds]\n",
    "    else\n",
    "        println(\"Error: time dimension is not 1 for brick components\")\n",
    "        return nothing\n",
    "    end\n",
    "\n",
    "  \n",
    "\n",
    "    for f in 1:length(lonlat) # Loop through lonlat tuples\n",
    "\n",
    "        lon = lonlat[f][1]\n",
    "        lat = lonlat[f][2]\n",
    "        # Convert Longitude to degrees East\n",
    "        # CIAM Lat is already in (-90,90) by default\n",
    "        if lon <0\n",
    "            lon = lon + 360\n",
    "        end\n",
    "\n",
    "        # Find fingerprint degrees nearest to lat,lon\n",
    "        ilat = findall(isequal(minimum(abs.(fplat.-lat))),abs.(fplat.-lat))\n",
    "        ilon = findall(isequal(minimum(abs.(fplon.-lon))),abs.(fplon.-lon))\n",
    "\n",
    "\n",
    "        # Take average of closest lat/lon values\n",
    "        fpAIS_flat = collect(skipmissing(Iterators.flatten(fpAIS[ilon,ilat])))\n",
    "        fpGSIC_flat = collect(skipmissing(Iterators.flatten(fpGSIC[ilon,ilat])))\n",
    "        fpGIS_flat = collect(skipmissing(Iterators.flatten(fpGIS[ilon,ilat])))\n",
    "\n",
    "        fpAIS_loc = mean(fpAIS_flat[isnan.(fpAIS_flat).==false],dims=1)[1]\n",
    "        fpGSIC_loc = mean(fpGSIC_flat[isnan.(fpGSIC_flat).==false],dims=1)[1]\n",
    "        fpGIS_loc = mean(fpGIS_flat[isnan.(fpGIS_flat).==false],dims=1)[1]\n",
    "        fpTE_loc = 1.0\n",
    "        fpLWS_loc=1.0\n",
    "\n",
    "        # Keep searching nearby lat/lon values if fingerprint value is NaN unless limit is hit\n",
    "        inc =1\n",
    "\n",
    "        while isnan(fpAIS_loc) || isnan(fpGIS_loc) || isnan(fpGSIC_loc) && inc<5\n",
    "\n",
    "            newlonStart = lon_subtractor.(fplon[ilon],inc)[1]\n",
    "            newlatStart = lat_subtractor.(fplat[ilat],inc)[1]\n",
    "            newlonEnd = lon_adder.(fplon[ilon],inc)[1]\n",
    "            newlatEnd = lat_adder.(fplat[ilat],inc)[1]\n",
    "\n",
    "            latInd1 = minimum(findall(isequal(minimum(abs.(fplat.-newlatStart))),abs.(fplat.-newlatStart)))\n",
    "            #minimum(findall(x-> x in newlatStart,fplat))\n",
    "            latInd2 = maximum(findall(isequal(minimum(abs.(fplat.-newlatEnd))),abs.(fplat.-newlatEnd)))\n",
    "            #maximum(findall(x -> x in newlatEnd,fplat))\n",
    "\n",
    "            lonInd1 = minimum(findall(isequal(minimum(abs.(fplon.-newlonStart))),abs.(fplon.-newlonStart)))\n",
    "            #minimum(findall(x-> x in newlonStart,fplon))\n",
    "            lonInd2 = maximum(findall(isequal(minimum(abs.(fplon.-newlonEnd))),abs.(fplon.-newlonEnd)))\n",
    "            #maximum(findall(x -> x in newlonEnd,fplon))\n",
    "\n",
    "            if latInd2 < latInd1\n",
    "                latInds=[latInd1; 1:latInd2]\n",
    "            else\n",
    "                latInds=latInd1:latInd2\n",
    "            end\n",
    "\n",
    "            if lonInd2 < lonInd1\n",
    "                lonInds=[lonInd1; 1:lonInd2]\n",
    "            else\n",
    "                lonInds = lonInd1:lonInd2\n",
    "            end\n",
    "\n",
    "            fpAIS_flat = collect(skipmissing(Iterators.flatten(fpAIS[lonInds,latInds])))\n",
    "            fpGSIC_flat = collect(skipmissing(Iterators.flatten(fpGSIC[lonInds,latInds])))\n",
    "            fpGIS_flat = collect(skipmissing(Iterators.flatten(fpGIS[lonInds,latInds])))\n",
    "\n",
    "            fpAIS_loc = mean(fpAIS_flat[isnan.(fpAIS_flat).==false],dims=1)[1]\n",
    "            fpGSIC_loc = mean(fpGSIC_flat[isnan.(fpGSIC_flat).==false],dims=1)[1]\n",
    "            fpGIS_loc = mean(fpGIS_flat[isnan.(fpGIS_flat).==false],dims=1)[1]\n",
    "\n",
    "            inc = inc + 1\n",
    "\n",
    "        end\n",
    "\n",
    "        # If still NaN, throw an error\n",
    "        if isnan(fpAIS_loc) || isnan(fpGIS_loc) || isnan(fpGSIC_loc)\n",
    "            println(\"Error: no fingerprints found for ($(lon),$(lat))\")\n",
    "            return nothing\n",
    "        end\n",
    "       # Multiply fingerprints by BRICK ensemble members\n",
    "       if ndims(AIS) > 1\n",
    "        for n in 1:size(AIS)[2] # loop through ensemble members\n",
    "            lsl_out[n, :, f] = fpGIS_loc * GIS[:,n] + fpAIS_loc * AIS[:,n] + fpGSIC_loc * GSIC[:,n] +\n",
    "                               fpTE_loc * TE[:,n] + fpLWS_loc * LWS[:,n]\n",
    "            # CIAM - LSL should be sea-level change relative to year 2000\n",
    "            lsl_norm = fpGIS_loc * GIS_norm[1,n] + fpAIS_loc * AIS_norm[1,n] + fpGSIC_loc * GSIC_norm[1,n] +\n",
    "                       fpTE_loc * TE_norm[1,n] + fpLWS_loc * LWS_norm[1,n]\n",
    "            lsl_out[n, :, f] = lsl_out[n, :, f] .- lsl_norm\n",
    "            \n",
    "        end\n",
    "    else\n",
    "            lsl_out[1, :, f] = fpGIS_loc * GIS[:] + fpAIS_loc * AIS[:] + fpGSIC_loc * GSIC[:] +\n",
    "                                fpTE_loc * TE[:] + fpLWS_loc * LWS[:]\n",
    "            # CIAM - LSL should be sea-level change relative to year 2000\n",
    "            lsl_norm = fpGIS_loc * GIS_norm + fpAIS_loc * AIS_norm + fpGSIC_loc * GSIC_norm +\n",
    "                                fpTE_loc * TE_norm + fpLWS_loc * LWS_norm\n",
    "            lsl_out[1, :, f] = lsl_out[1, :, f] .- lsl_norm\n",
    "    end\n",
    "\n",
    "    end # End lonlat tuple\n",
    "\n",
    "    return lsl_out,GMSL\n",
    "end"
   ]
  },
  {
   "cell_type": "code",
   "execution_count": 15,
   "metadata": {},
   "outputs": [],
   "source": [
    "ensInds=collect(1:10000);\n",
    "lonlat= ([-104.3385,19.1138],[-90.0715,29.9511]);\n",
    "ystart=2010;\n",
    "yend=2200;\n",
    "tstep=10;\n",
    "\n",
    "lslrNew,H=downscale_brick(brickcomps, lonlat, ensInds, ystart, yend, tstep);"
   ]
  },
  {
   "attachments": {},
   "cell_type": "markdown",
   "metadata": {},
   "source": [
    "Save the Local SLR for Manzanillo, Colima and New Orleans in a CVS File \n",
    "1) Make a data frame for each one\n",
    "2) Save it as a CVS File"
   ]
  },
  {
   "attachments": {},
   "cell_type": "markdown",
   "metadata": {},
   "source": [
    "RCP 8.5 case"
   ]
  },
  {
   "cell_type": "code",
   "execution_count": 16,
   "metadata": {},
   "outputs": [],
   "source": [
    "#Manzanillo, Colima, Mexico Matrix\n",
    "COLlslr85=zeros(20,10001);\n",
    "#First colum are the years 2010 to 2200 with time step of 10 years\n",
    "for i in 1:20\n",
    "    COLlslr85[i,1]=2000+i*10\n",
    "end\n",
    "#SLR value for each year for each simulation \n",
    "for i in 1:10000\n",
    "    for j in 1:20\n",
    "        COLlslr85[j,i+1]=lslrNew[i,j,1]\n",
    "    end \n",
    "end "
   ]
  },
  {
   "cell_type": "code",
   "execution_count": 17,
   "metadata": {},
   "outputs": [],
   "source": [
    "#New Orleans Matrix\n",
    "NOlslr85=zeros(20,10001);\n",
    "#First colum are the years 2010 to 2200 with time step of 10 years\n",
    "for i in 1:20\n",
    "    NOlslr85[i,1]=2000+i*10\n",
    "end\n",
    "#SLR value for each year for each simulation \n",
    "for i in 1:10000\n",
    "    for j in 1:20\n",
    "        NOlslr85[j,i+1]=lslrNew[i,j,2]\n",
    "    end \n",
    "end "
   ]
  },
  {
   "cell_type": "code",
   "execution_count": 18,
   "metadata": {},
   "outputs": [
    {
     "name": "stderr",
     "output_type": "stream",
     "text": [
      "┌ Error: curl_easy_setopt: 48\n",
      "└ @ Downloads.Curl /Users/julia/buildbot/worker/package_macos64/build/usr/share/julia/stdlib/v1.6/Downloads/src/Curl/utils.jl:36\n",
      "┌ Error: curl_easy_setopt: 48\n",
      "└ @ Downloads.Curl /Users/julia/buildbot/worker/package_macos64/build/usr/share/julia/stdlib/v1.6/Downloads/src/Curl/utils.jl:36\n",
      "┌ Error: curl_easy_setopt: 48\n",
      "└ @ Downloads.Curl /Users/julia/buildbot/worker/package_macos64/build/usr/share/julia/stdlib/v1.6/Downloads/src/Curl/utils.jl:36\n"
     ]
    },
    {
     "name": "stderr",
     "output_type": "stream",
     "text": [
      "┌ Error: curl_easy_setopt: 48\n",
      "└ @ Downloads.Curl /Users/julia/buildbot/worker/package_macos64/build/usr/share/julia/stdlib/v1.6/Downloads/src/Curl/utils.jl:36\n",
      "┌ Error: curl_easy_setopt: 48\n",
      "└ @ Downloads.Curl /Users/julia/buildbot/worker/package_macos64/build/usr/share/julia/stdlib/v1.6/Downloads/src/Curl/utils.jl:36\n",
      "┌ Error: curl_easy_setopt: 48\n",
      "└ @ Downloads.Curl /Users/julia/buildbot/worker/package_macos64/build/usr/share/julia/stdlib/v1.6/Downloads/src/Curl/utils.jl:36\n"
     ]
    }
   ],
   "source": [
    "import Pkg \n",
    "Pkg.add(\"Tables\")\n"
   ]
  },
  {
   "cell_type": "code",
   "execution_count": 19,
   "metadata": {},
   "outputs": [
    {
     "data": {
      "text/plain": [
       "\"projections_NO_LSLR_RCP85.csv\""
      ]
     },
     "metadata": {},
     "output_type": "display_data"
    }
   ],
   "source": [
    "using CSV\n",
    "using Tables\n",
    "CSV.write(\"projections_Col_LSLR_RCP85.csv\", Tables.table(COLlslr85))\n",
    "CSV.write(\"projections_NO_LSLR_RCP85.csv\", Tables.table(NOlslr85))"
   ]
  },
  {
   "attachments": {},
   "cell_type": "markdown",
   "metadata": {},
   "source": [
    "RCP 6.0 case"
   ]
  },
  {
   "cell_type": "code",
   "execution_count": 20,
   "metadata": {},
   "outputs": [],
   "source": [
    "using DataFrames\n",
    "using CSV\n",
    "AIS_Data60 = CSV.File(\"/Users/ce3304/Downloads/projections_csv/RCP60/projections_antarctic_RCP60_sneasybrick.csv\") |> DataFrame;"
   ]
  },
  {
   "cell_type": "code",
   "execution_count": 21,
   "metadata": {},
   "outputs": [],
   "source": [
    "GMSL_Data60 = CSV.File(\"/Users/ce3304/Downloads/projections_csv/RCP60/projections_gmsl_RCP60_sneasybrick.csv\") |> DataFrame;"
   ]
  },
  {
   "cell_type": "code",
   "execution_count": 22,
   "metadata": {},
   "outputs": [],
   "source": [
    "LWS_Data60 = CSV.File(\"/Users/ce3304/Downloads/projections_csv/RCP60/projections_landwater_storage_sl_RCP60_sneasybrick.csv\") |> DataFrame;"
   ]
  },
  {
   "cell_type": "code",
   "execution_count": 23,
   "metadata": {},
   "outputs": [],
   "source": [
    "TE_Data60 = CSV.File(\"/Users/ce3304/Downloads/projections_csv/RCP60/projections_thermal_RCP60_sneasybrick.csv\") |> DataFrame;"
   ]
  },
  {
   "cell_type": "code",
   "execution_count": 24,
   "metadata": {},
   "outputs": [],
   "source": [
    "GIS_Data60 = CSV.File(\"/Users/ce3304/Downloads/projections_csv/RCP60/projections_greenland_RCP60_sneasybrick.csv\") |> DataFrame;"
   ]
  },
  {
   "cell_type": "code",
   "execution_count": 25,
   "metadata": {},
   "outputs": [],
   "source": [
    "GSIC_Data60 = CSV.File(\"/Users/ce3304/Downloads/projections_csv/RCP60/projections_glaciers_RCP60_sneasybrick.csv\") |> DataFrame;"
   ]
  },
  {
   "cell_type": "code",
   "execution_count": 26,
   "metadata": {},
   "outputs": [],
   "source": [
    "Sim=10000\n",
    "GMSL60=GMSL_Data60[:,1:Sim];\n",
    "LWS60=LWS_Data60[:,1:Sim];\n",
    "GIS60= GIS_Data60[:,1:Sim];\n",
    "GSIC60=GSIC_Data60[:,1:Sim];\n",
    "TE60=TE_Data60[:,1:Sim];\n",
    "AIS60=AIS_Data60[:,1:Sim];"
   ]
  },
  {
   "cell_type": "code",
   "execution_count": 27,
   "metadata": {},
   "outputs": [],
   "source": [
    "brickcomps60=Tuple([btime,AIS60,GSIC60,GIS60,TE60,LWS60,GMSL60]);"
   ]
  },
  {
   "cell_type": "code",
   "execution_count": 28,
   "metadata": {},
   "outputs": [],
   "source": [
    "ensInds=collect(1:10000);\n",
    "lonlat= ([-104.3385,19.1138],[-90.0715,29.9511]);\n",
    "ystart=2010;\n",
    "yend=2200;\n",
    "tstep=10;\n",
    "\n",
    "lslrNew60,H60=downscale_brick(brickcomps60, lonlat, ensInds, ystart, yend, tstep);"
   ]
  },
  {
   "cell_type": "code",
   "execution_count": 29,
   "metadata": {},
   "outputs": [],
   "source": [
    "#Manzanillo, Colima, Mexico Matrix\n",
    "COLlslr60=zeros(20,10001);\n",
    "#First colum are the years 2010 to 2200 with time step of 10 years\n",
    "for i in 1:20\n",
    "    COLlslr60[i,1]=2000+i*10\n",
    "end\n",
    "#SLR value for each year for each simulation \n",
    "for i in 1:10000\n",
    "    for j in 1:20\n",
    "        COLlslr60[j,i+1]=lslrNew60[i,j,1]\n",
    "    end \n",
    "end "
   ]
  },
  {
   "cell_type": "code",
   "execution_count": 30,
   "metadata": {},
   "outputs": [],
   "source": [
    "#New Orleans Matrix\n",
    "NOlslr60=zeros(20,10001);\n",
    "#First colum are the years 2010 to 2200 with time step of 10 years\n",
    "for i in 1:20\n",
    "    NOlslr60[i,1]=2000+i*10\n",
    "end\n",
    "#SLR value for each year for each simulation \n",
    "for i in 1:10000\n",
    "    for j in 1:20\n",
    "        NOlslr60[j,i+1]=lslrNew60[i,j,2]\n",
    "    end \n",
    "end "
   ]
  },
  {
   "cell_type": "code",
   "execution_count": 31,
   "metadata": {},
   "outputs": [
    {
     "data": {
      "text/plain": [
       "\"projections_NO_LSLR_RCP60.csv\""
      ]
     },
     "metadata": {},
     "output_type": "display_data"
    }
   ],
   "source": [
    "using CSV\n",
    "using Tables\n",
    "CSV.write(\"projections_Col_LSLR_RCP60.csv\", Tables.table(COLlslr60))\n",
    "CSV.write(\"projections_NO_LSLR_RCP60.csv\", Tables.table(NOlslr60))"
   ]
  },
  {
   "attachments": {},
   "cell_type": "markdown",
   "metadata": {},
   "source": [
    "RCP 4.5 case"
   ]
  },
  {
   "cell_type": "code",
   "execution_count": 32,
   "metadata": {},
   "outputs": [],
   "source": [
    "AIS_Data45 = CSV.File(\"/Users/ce3304/Downloads/projections_csv/RCP45/projections_antarctic_RCP45_sneasybrick.csv\") |> DataFrame;"
   ]
  },
  {
   "cell_type": "code",
   "execution_count": 33,
   "metadata": {},
   "outputs": [],
   "source": [
    "GMSL_Data45= CSV.File(\"/Users/ce3304/Downloads/projections_csv/RCP45/projections_gmsl_RCP45_sneasybrick.csv\") |> DataFrame;"
   ]
  },
  {
   "cell_type": "code",
   "execution_count": 34,
   "metadata": {},
   "outputs": [],
   "source": [
    "LWS_Data45 = CSV.File(\"/Users/ce3304/Downloads/projections_csv/RCP45/projections_landwater_storage_sl_RCP45_sneasybrick.csv\") |> DataFrame;"
   ]
  },
  {
   "cell_type": "code",
   "execution_count": 35,
   "metadata": {},
   "outputs": [],
   "source": [
    "TE_Data45 = CSV.File(\"/Users/ce3304/Downloads/projections_csv/RCP45/projections_thermal_RCP45_sneasybrick.csv\") |> DataFrame;"
   ]
  },
  {
   "cell_type": "code",
   "execution_count": 36,
   "metadata": {},
   "outputs": [],
   "source": [
    "GIS_Data45 = CSV.File(\"/Users/ce3304/Downloads/projections_csv/RCP45/projections_greenland_RCP45_sneasybrick.csv\") |> DataFrame;"
   ]
  },
  {
   "cell_type": "code",
   "execution_count": 37,
   "metadata": {},
   "outputs": [],
   "source": [
    "GSIC_Data45 = CSV.File(\"/Users/ce3304/Downloads/projections_csv/RCP45/projections_glaciers_RCP45_sneasybrick.csv\") |> DataFrame;"
   ]
  },
  {
   "cell_type": "code",
   "execution_count": 38,
   "metadata": {},
   "outputs": [],
   "source": [
    "Sim=10000\n",
    "GMSL45=GMSL_Data45[:,1:Sim];\n",
    "LWS45=LWS_Data45[:,1:Sim];\n",
    "GIS45= GIS_Data45[:,1:Sim];\n",
    "GSIC45=GSIC_Data45[:,1:Sim];\n",
    "TE45=TE_Data45[:,1:Sim];\n",
    "AIS45=AIS_Data45[:,1:Sim];"
   ]
  },
  {
   "cell_type": "code",
   "execution_count": 39,
   "metadata": {},
   "outputs": [],
   "source": [
    "brickcomps45=Tuple([btime,AIS45,GSIC45,GIS45,TE45,LWS45,GMSL45]);"
   ]
  },
  {
   "cell_type": "code",
   "execution_count": 40,
   "metadata": {},
   "outputs": [],
   "source": [
    "ensInds=collect(1:10000);\n",
    "lonlat= ([-104.3385,19.1138],[-90.0715,29.9511]);\n",
    "ystart=2010;\n",
    "yend=2200;\n",
    "tstep=10;\n",
    "\n",
    "lslrNew45,H=downscale_brick(brickcomps45, lonlat, ensInds, ystart, yend, tstep);"
   ]
  },
  {
   "cell_type": "code",
   "execution_count": 41,
   "metadata": {},
   "outputs": [],
   "source": [
    "#Manzanillo, Colima, Mexico Matrix\n",
    "COLlslr45=zeros(20,10001);\n",
    "#First colum are the years 2010 to 2200 with time step of 10 years\n",
    "for i in 1:20\n",
    "    COLlslr45[i,1]=2000+i*10\n",
    "end\n",
    "#SLR value for each year for each simulation \n",
    "for i in 1:10000\n",
    "    for j in 1:20\n",
    "        COLlslr45[j,i+1]=lslrNew45[i,j,1]\n",
    "    end \n",
    "end "
   ]
  },
  {
   "cell_type": "code",
   "execution_count": 42,
   "metadata": {},
   "outputs": [],
   "source": [
    "#New Orleans Matrix\n",
    "NOlslr45=zeros(20,10001);\n",
    "#First colum are the years 2010 to 2200 with time step of 10 years\n",
    "for i in 1:20\n",
    "    NOlslr45[i,1]=2000+i*10\n",
    "end\n",
    "#SLR value for each year for each simulation \n",
    "for i in 1:10000\n",
    "    for j in 1:20\n",
    "        NOlslr45[j,i+1]=lslrNew45[i,j,2]\n",
    "    end \n",
    "end "
   ]
  },
  {
   "cell_type": "code",
   "execution_count": 43,
   "metadata": {},
   "outputs": [
    {
     "data": {
      "text/plain": [
       "\"projections_NO_LSLR_RCP45.csv\""
      ]
     },
     "metadata": {},
     "output_type": "display_data"
    }
   ],
   "source": [
    "using CSV\n",
    "using Tables\n",
    "CSV.write(\"projections_Col_LSLR_RCP45.csv\", Tables.table(COLlslr45))\n",
    "CSV.write(\"projections_NO_LSLR_RCP45.csv\", Tables.table(NOlslr45))"
   ]
  },
  {
   "attachments": {},
   "cell_type": "markdown",
   "metadata": {},
   "source": [
    "RCP 2.6 case"
   ]
  },
  {
   "cell_type": "code",
   "execution_count": 44,
   "metadata": {},
   "outputs": [],
   "source": [
    "AIS_Data26 = CSV.File(\"/Users/ce3304/Downloads/projections_csv/RCP26/projections_antarctic_RCP26_sneasybrick.csv\") |> DataFrame;"
   ]
  },
  {
   "cell_type": "code",
   "execution_count": 45,
   "metadata": {},
   "outputs": [],
   "source": [
    "GMSL_Data26 = CSV.File(\"/Users/ce3304/Downloads/projections_csv/RCP26/projections_gmsl_RCP26_sneasybrick.csv\") |> DataFrame;"
   ]
  },
  {
   "cell_type": "code",
   "execution_count": 46,
   "metadata": {},
   "outputs": [],
   "source": [
    "LWS_Data26 = CSV.File(\"/Users/ce3304/Downloads/projections_csv/RCP26/projections_landwater_storage_sl_RCP26_sneasybrick.csv\") |> DataFrame;"
   ]
  },
  {
   "cell_type": "code",
   "execution_count": 47,
   "metadata": {},
   "outputs": [],
   "source": [
    "TE_Data26 = CSV.File(\"/Users/ce3304/Downloads/projections_csv/RCP26/projections_thermal_RCP26_sneasybrick.csv\") |> DataFrame;"
   ]
  },
  {
   "cell_type": "code",
   "execution_count": 48,
   "metadata": {},
   "outputs": [],
   "source": [
    "GIS_Data26 = CSV.File(\"/Users/ce3304/Downloads/projections_csv/RCP26/projections_greenland_RCP26_sneasybrick.csv\") |> DataFrame;"
   ]
  },
  {
   "cell_type": "code",
   "execution_count": 49,
   "metadata": {},
   "outputs": [],
   "source": [
    "GSIC_Data26 = CSV.File(\"/Users/ce3304/Downloads/projections_csv/RCP26/projections_glaciers_RCP26_sneasybrick.csv\") |> DataFrame;"
   ]
  },
  {
   "cell_type": "code",
   "execution_count": 50,
   "metadata": {},
   "outputs": [],
   "source": [
    "Sim=10000\n",
    "GMSL26=GMSL_Data26[:,1:Sim];\n",
    "LWS26=LWS_Data26[:,1:Sim];\n",
    "GIS26= GIS_Data26[:,1:Sim];\n",
    "GSIC26=GSIC_Data26[:,1:Sim];\n",
    "TE26=TE_Data26[:,1:Sim];\n",
    "AIS26=AIS_Data26[:,1:Sim];"
   ]
  },
  {
   "cell_type": "code",
   "execution_count": 51,
   "metadata": {},
   "outputs": [],
   "source": [
    "brickcomps26=Tuple([btime,AIS26,GSIC26,GIS26,TE26,LWS26,GMSL26]);"
   ]
  },
  {
   "cell_type": "code",
   "execution_count": 52,
   "metadata": {},
   "outputs": [],
   "source": [
    "ensInds=collect(1:10000);\n",
    "lonlat= ([-104.3385,19.1138],[-90.0715,29.9511]);\n",
    "ystart=2010;\n",
    "yend=2200;\n",
    "tstep=10;\n",
    "\n",
    "lslrNew26,H=downscale_brick(brickcomps26, lonlat, ensInds, ystart, yend, tstep);"
   ]
  },
  {
   "cell_type": "code",
   "execution_count": 53,
   "metadata": {},
   "outputs": [],
   "source": [
    "#Manzanillo, Colima, Mexico Matrix\n",
    "COLlslr26=zeros(20,10001);\n",
    "#First colum are the years 2010 to 2200 with time step of 10 years\n",
    "for i in 1:20\n",
    "    COLlslr26[i,1]=2000+i*10\n",
    "end\n",
    "#SLR value for each year for each simulation \n",
    "for i in 1:10000\n",
    "    for j in 1:20\n",
    "        COLlslr26[j,i+1]=lslrNew26[i,j,1]\n",
    "    end \n",
    "end "
   ]
  },
  {
   "cell_type": "code",
   "execution_count": 54,
   "metadata": {},
   "outputs": [],
   "source": [
    "#New Orleans Matrix\n",
    "NOlslr26=zeros(20,10001);\n",
    "#First colum are the years 2010 to 2200 with time step of 10 years\n",
    "for i in 1:20\n",
    "    NOlslr26[i,1]=2000+i*10\n",
    "end\n",
    "#SLR value for each year for each simulation \n",
    "for i in 1:10000\n",
    "    for j in 1:20\n",
    "        NOlslr26[j,i+1]=lslrNew26[i,j,2]\n",
    "    end \n",
    "end "
   ]
  },
  {
   "cell_type": "code",
   "execution_count": 55,
   "metadata": {},
   "outputs": [
    {
     "data": {
      "text/plain": [
       "\"projections_NO_LSLR_RCP26.csv\""
      ]
     },
     "metadata": {},
     "output_type": "display_data"
    }
   ],
   "source": [
    "using CSV\n",
    "using Tables\n",
    "CSV.write(\"projections_Col_LSLR_RCP26.csv\", Tables.table(COLlslr26))\n",
    "CSV.write(\"projections_NO_LSLR_RCP26.csv\", Tables.table(NOlslr26))"
   ]
  },
  {
   "cell_type": "code",
   "execution_count": 56,
   "metadata": {},
   "outputs": [
    {
     "data": {
      "text/plain": [
       "Cost_NewLslr1 (generic function with 1 method)"
      ]
     },
     "metadata": {},
     "output_type": "display_data"
    }
   ],
   "source": [
    "#Function to obatin Data Frames of No adaptation cost, Optimal cost, and NPV Optimal for 2 segments, Manzanillo, Colima, Mexico, and New Orleans, Louisiana, USA\n",
    "using MimiCIAM\n",
    "using Mimi\n",
    "function Cost_NewLslr1(Sim,timesteps,dataLslr)\n",
    "    NoAdaptCost_Col=zeros(timesteps,Sim);\n",
    "    NoAdaptCost_NO=zeros(timesteps,Sim);\n",
    "    OptimalCost_Col=zeros(timesteps,Sim);\n",
    "    OptimalCost_NO=zeros(timesteps,Sim);\n",
    "    NPVOptimal_Col=zeros(Sim);\n",
    "    NPVOptimal_NO=zeros(Sim);\n",
    "    for i in 1:Sim #Number of simulations\n",
    "        new_lslr=zeros(timesteps,2); \n",
    "        for j in 1:2 #Number of segmengts\n",
    "            for k in 1:timesteps #Number of time steps\n",
    "            new_lslr[k,j]=dataLslr[i,k,j];\n",
    "            end \n",
    "         end \n",
    "        m = MimiCIAM.get_model(initfile =\"../ColimaUSA1_init.csv\")\n",
    "        update_param!(m, :slrcost, :lslr, new_lslr)\n",
    "        run(m)\n",
    "        NoAdaptCost_Col[:,i]=m[:slrcost,:NoAdaptCost][:,1];;\n",
    "        NoAdaptCost_NO[:,i]=m[:slrcost,:NoAdaptCost][:,2];\n",
    "        OptimalCost_Col[:,i]=m[:slrcost,:OptimalCost][:,1];\n",
    "        OptimalCost_NO[:,i]=m[:slrcost,:OptimalCost][:,2];\n",
    "        NPVOptimal_Col[i]=m[:slrcost,:NPVOptimal][1];\n",
    "        NPVOptimal_NO[i]=m[:slrcost,:NPVOptimal][2];\n",
    "    end  \n",
    "    return NoAdaptCost_Col, NoAdaptCost_NO, OptimalCost_Col, OptimalCost_NO, NPVOptimal_Col,NPVOptimal_NO\n",
    "end \n"
   ]
  },
  {
   "cell_type": "code",
   "execution_count": 57,
   "metadata": {},
   "outputs": [
    {
     "data": {
      "text/plain": [
       "Cost_NewLslr2 (generic function with 1 method)"
      ]
     },
     "metadata": {},
     "output_type": "display_data"
    }
   ],
   "source": [
    "#Function to obatin Data Frames of No adaptation cost, Optimal cost, and NPV Optimal for 2 segments, Manzanillo, Colima, Mexico, and New Orleans, Louisiana, USA\n",
    "using MimiCIAM\n",
    "using Mimi\n",
    "function Cost_NewLslr2(Sim,timesteps,dataLslr)\n",
    "    NoAdaptCost_Col=zeros(timesteps,Sim);\n",
    "    NoAdaptCost_NO=zeros(timesteps,Sim);\n",
    "    OptimalCost_Col=zeros(timesteps,Sim);\n",
    "    OptimalCost_NO=zeros(timesteps,Sim);\n",
    "    NPVOptimal_Col=zeros(Sim);\n",
    "    NPVOptimal_NO=zeros(Sim);\n",
    "    for i in 1:Sim #Number of simulations\n",
    "        new_lslr=zeros(timesteps,2); \n",
    "        for j in 1:2 #Number of segmengts\n",
    "            for k in 1:timesteps #Number of time steps\n",
    "            new_lslr[k,j]=dataLslr[i,k,j];\n",
    "            end \n",
    "         end \n",
    "        m = MimiCIAM.get_model(initfile =\"../ColimaUSA2_init.csv\")\n",
    "        update_param!(m, :slrcost, :lslr, new_lslr)\n",
    "        run(m)\n",
    "        NoAdaptCost_Col[:,i]=m[:slrcost,:NoAdaptCost][:,1];;\n",
    "        NoAdaptCost_NO[:,i]=m[:slrcost,:NoAdaptCost][:,2];\n",
    "        OptimalCost_Col[:,i]=m[:slrcost,:OptimalCost][:,1];\n",
    "        OptimalCost_NO[:,i]=m[:slrcost,:OptimalCost][:,2];\n",
    "        NPVOptimal_Col[i]=m[:slrcost,:NPVOptimal][1];\n",
    "        NPVOptimal_NO[i]=m[:slrcost,:NPVOptimal][2];\n",
    "    end  \n",
    "    return NoAdaptCost_Col, NoAdaptCost_NO, OptimalCost_Col, OptimalCost_NO, NPVOptimal_Col,NPVOptimal_NO\n",
    "end \n"
   ]
  },
  {
   "cell_type": "code",
   "execution_count": 58,
   "metadata": {},
   "outputs": [
    {
     "data": {
      "text/plain": [
       "Cost_NewLslr3 (generic function with 1 method)"
      ]
     },
     "metadata": {},
     "output_type": "display_data"
    }
   ],
   "source": [
    "#Function to obatin Data Frames of No adaptation cost, Optimal cost, and NPV Optimal for 2 segments, Manzanillo, Colima, Mexico, and New Orleans, Louisiana, USA\n",
    "using MimiCIAM\n",
    "using Mimi\n",
    "function Cost_NewLslr3(Sim,timesteps,dataLslr)\n",
    "    NoAdaptCost_Col=zeros(timesteps,Sim);\n",
    "    NoAdaptCost_NO=zeros(timesteps,Sim);\n",
    "    OptimalCost_Col=zeros(timesteps,Sim);\n",
    "    OptimalCost_NO=zeros(timesteps,Sim);\n",
    "    NPVOptimal_Col=zeros(Sim);\n",
    "    NPVOptimal_NO=zeros(Sim);\n",
    "    for i in 1:Sim #Number of simulations\n",
    "        new_lslr=zeros(timesteps,2); \n",
    "        for j in 1:2 #Number of segmengts\n",
    "            for k in 1:timesteps #Number of time steps\n",
    "            new_lslr[k,j]=dataLslr[i,k,j];\n",
    "            end \n",
    "         end \n",
    "        m = MimiCIAM.get_model(initfile =\"../ColimaUSA3_init.csv\")\n",
    "        update_param!(m, :slrcost, :lslr, new_lslr)\n",
    "        run(m)\n",
    "        NoAdaptCost_Col[:,i]=m[:slrcost,:NoAdaptCost][:,1];;\n",
    "        NoAdaptCost_NO[:,i]=m[:slrcost,:NoAdaptCost][:,2];\n",
    "        OptimalCost_Col[:,i]=m[:slrcost,:OptimalCost][:,1];\n",
    "        OptimalCost_NO[:,i]=m[:slrcost,:OptimalCost][:,2];\n",
    "        NPVOptimal_Col[i]=m[:slrcost,:NPVOptimal][1];\n",
    "        NPVOptimal_NO[i]=m[:slrcost,:NPVOptimal][2];\n",
    "    end  \n",
    "    return NoAdaptCost_Col, NoAdaptCost_NO, OptimalCost_Col, OptimalCost_NO, NPVOptimal_Col,NPVOptimal_NO\n",
    "end \n"
   ]
  },
  {
   "cell_type": "code",
   "execution_count": 60,
   "metadata": {},
   "outputs": [
    {
     "data": {
      "text/plain": [
       "Cost_NewLslr4 (generic function with 1 method)"
      ]
     },
     "metadata": {},
     "output_type": "display_data"
    }
   ],
   "source": [
    "#Function to obatin Data Frames of No adaptation cost, Optimal cost, and NPV Optimal for 2 segments, Manzanillo, Colima, Mexico, and New Orleans, Louisiana, USA\n",
    "using MimiCIAM\n",
    "using Mimi\n",
    "function Cost_NewLslr4(Sim,timesteps,dataLslr)\n",
    "    NoAdaptCost_Col=zeros(timesteps,Sim);\n",
    "    NoAdaptCost_NO=zeros(timesteps,Sim);\n",
    "    OptimalCost_Col=zeros(timesteps,Sim);\n",
    "    OptimalCost_NO=zeros(timesteps,Sim);\n",
    "    NPVOptimal_Col=zeros(Sim);\n",
    "    NPVOptimal_NO=zeros(Sim);\n",
    "    for i in 1:Sim #Number of simulations\n",
    "        new_lslr=zeros(timesteps,2); \n",
    "        for j in 1:2 #Number of segmengts\n",
    "            for k in 1:timesteps #Number of time steps\n",
    "            new_lslr[k,j]=dataLslr[i,k,j];\n",
    "            end \n",
    "         end \n",
    "        m = MimiCIAM.get_model(initfile =\"../ColimaUSA4_init.csv\")\n",
    "        update_param!(m, :slrcost, :lslr, new_lslr)\n",
    "        run(m)\n",
    "        NoAdaptCost_Col[:,i]=m[:slrcost,:NoAdaptCost][:,1];;\n",
    "        NoAdaptCost_NO[:,i]=m[:slrcost,:NoAdaptCost][:,2];\n",
    "        OptimalCost_Col[:,i]=m[:slrcost,:OptimalCost][:,1];\n",
    "        OptimalCost_NO[:,i]=m[:slrcost,:OptimalCost][:,2];\n",
    "        NPVOptimal_Col[i]=m[:slrcost,:NPVOptimal][1];\n",
    "        NPVOptimal_NO[i]=m[:slrcost,:NPVOptimal][2];\n",
    "    end  \n",
    "    return NoAdaptCost_Col, NoAdaptCost_NO, OptimalCost_Col, OptimalCost_NO, NPVOptimal_Col,NPVOptimal_NO\n",
    "end \n"
   ]
  },
  {
   "cell_type": "code",
   "execution_count": 61,
   "metadata": {},
   "outputs": [
    {
     "data": {
      "text/plain": [
       "Cost_NewLslr5 (generic function with 1 method)"
      ]
     },
     "metadata": {},
     "output_type": "display_data"
    }
   ],
   "source": [
    "#Function to obatin Data Frames of No adaptation cost, Optimal cost, and NPV Optimal for 2 segments, Manzanillo, Colima, Mexico, and New Orleans, Louisiana, USA\n",
    "using MimiCIAM\n",
    "using Mimi\n",
    "function Cost_NewLslr5(Sim,timesteps,dataLslr)\n",
    "    NoAdaptCost_Col=zeros(timesteps,Sim);\n",
    "    NoAdaptCost_NO=zeros(timesteps,Sim);\n",
    "    OptimalCost_Col=zeros(timesteps,Sim);\n",
    "    OptimalCost_NO=zeros(timesteps,Sim);\n",
    "    NPVOptimal_Col=zeros(Sim);\n",
    "    NPVOptimal_NO=zeros(Sim);\n",
    "    for i in 1:Sim #Number of simulations\n",
    "        new_lslr=zeros(timesteps,2); \n",
    "        for j in 1:2 #Number of segmengts\n",
    "            for k in 1:timesteps #Number of time steps\n",
    "            new_lslr[k,j]=dataLslr[i,k,j];\n",
    "            end \n",
    "         end \n",
    "        m = MimiCIAM.get_model(initfile =\"../ColimaUSA5_init.csv\")\n",
    "        update_param!(m, :slrcost, :lslr, new_lslr)\n",
    "        run(m)\n",
    "        NoAdaptCost_Col[:,i]=m[:slrcost,:NoAdaptCost][:,1];;\n",
    "        NoAdaptCost_NO[:,i]=m[:slrcost,:NoAdaptCost][:,2];\n",
    "        OptimalCost_Col[:,i]=m[:slrcost,:OptimalCost][:,1];\n",
    "        OptimalCost_NO[:,i]=m[:slrcost,:OptimalCost][:,2];\n",
    "        NPVOptimal_Col[i]=m[:slrcost,:NPVOptimal][1];\n",
    "        NPVOptimal_NO[i]=m[:slrcost,:NPVOptimal][2];\n",
    "    end  \n",
    "    return NoAdaptCost_Col, NoAdaptCost_NO, OptimalCost_Col, OptimalCost_NO, NPVOptimal_Col,NPVOptimal_NO\n",
    "end \n"
   ]
  },
  {
   "cell_type": "code",
   "execution_count": 62,
   "metadata": {},
   "outputs": [],
   "source": [
    "#Data Frames of No adaptation cost, Optimal cost, and NPV Optimal for 2 segments, Manzanillo, Colima, Mexico, and New Orleans, Louisiana, USA\n",
    "#for RCP 8.5 \n"
   ]
  },
  {
   "cell_type": "code",
   "execution_count": 63,
   "metadata": {},
   "outputs": [],
   "source": [
    "#for RCP 8.5\n",
    "NoAdaptCost_Col85, NoAdaptCost_NO85, OptimalCost_Col85, OptimalCost_NO85, NPVOptimal_Col85,NPVOptimal_NO85=Cost_NewLslr5(10000,20,lslrNew);"
   ]
  },
  {
   "attachments": {},
   "cell_type": "markdown",
   "metadata": {},
   "source": [
    "CSV files for RCP 8.5 scenario"
   ]
  },
  {
   "cell_type": "code",
   "execution_count": 64,
   "metadata": {},
   "outputs": [
    {
     "data": {
      "text/plain": [
       "\"projections_NO_NPVOptimal_RCP85.csv\""
      ]
     },
     "metadata": {},
     "output_type": "display_data"
    }
   ],
   "source": [
    "using CSV\n",
    "using Tables\n",
    "CSV.write(\"projections_Col_NoAdaptCost_RCP85.csv\", Tables.table(NoAdaptCost_Col85))\n",
    "CSV.write(\"projections_NO_NoAdaptCost_RCP85.csv\", Tables.table(NoAdaptCost_NO85))\n",
    "CSV.write(\"projections_Col_OptimalCost_RCP85.csv\", Tables.table(OptimalCost_Col85))\n",
    "CSV.write(\"projections_NO_OptimalCost_RCP85.csv\", Tables.table(OptimalCost_NO85))\n",
    "CSV.write(\"projections_Col_NPVOptimal_RCP85.csv\", Tables.table(NPVOptimal_Col85))\n",
    "CSV.write(\"projections_NO_NPVOptimal_RCP85.csv\", Tables.table(NPVOptimal_NO85))"
   ]
  },
  {
   "cell_type": "code",
   "execution_count": 65,
   "metadata": {},
   "outputs": [],
   "source": [
    "#for RCP 6.0\n",
    "NoAdaptCost_Col60, NoAdaptCost_NO60, OptimalCost_Col60, OptimalCost_NO60, NPVOptimal_Col60,NPVOptimal_NO60=Cost_NewLslr4(10000,20,lslrNew60);"
   ]
  },
  {
   "attachments": {},
   "cell_type": "markdown",
   "metadata": {},
   "source": [
    "CSV files for RCP 6.0 scenario"
   ]
  },
  {
   "cell_type": "code",
   "execution_count": 66,
   "metadata": {},
   "outputs": [
    {
     "data": {
      "text/plain": [
       "\"projections_NO_NPVOptimal_RCP60.csv\""
      ]
     },
     "metadata": {},
     "output_type": "display_data"
    }
   ],
   "source": [
    "using CSV\n",
    "using Tables\n",
    "CSV.write(\"projections_Col_NoAdaptCost_RCP60.csv\", Tables.table(NoAdaptCost_Col60))\n",
    "CSV.write(\"projections_NO_NoAdaptCost_RCP60.csv\", Tables.table(NoAdaptCost_NO60))\n",
    "CSV.write(\"projections_Col_OptimalCost_RCP60.csv\", Tables.table(OptimalCost_Col60))\n",
    "CSV.write(\"projections_NO_OptimalCost_RCP60.csv\", Tables.table(OptimalCost_NO60))\n",
    "CSV.write(\"projections_Col_NPVOptimal_RCP60.csv\", Tables.table(NPVOptimal_Col60))\n",
    "CSV.write(\"projections_NO_NPVOptimal_RCP60.csv\", Tables.table(NPVOptimal_NO60))"
   ]
  },
  {
   "cell_type": "code",
   "execution_count": 67,
   "metadata": {},
   "outputs": [],
   "source": [
    "#for RCP 4.5\n",
    "NoAdaptCost_Col45, NoAdaptCost_NO45, OptimalCost_Col45, OptimalCost_NO45, NPVOptimal_Col45,NPVOptimal_NO45=Cost_NewLslr2(10000,20,lslrNew45);"
   ]
  },
  {
   "attachments": {},
   "cell_type": "markdown",
   "metadata": {},
   "source": [
    "CSV files for RCP 4.5 scenario "
   ]
  },
  {
   "cell_type": "code",
   "execution_count": 68,
   "metadata": {},
   "outputs": [
    {
     "data": {
      "text/plain": [
       "\"projections_NO_NPVOptimal_RCP45.csv\""
      ]
     },
     "metadata": {},
     "output_type": "display_data"
    }
   ],
   "source": [
    "using CSV\n",
    "using Tables\n",
    "CSV.write(\"projections_Col_NoAdaptCost_RCP45.csv\", Tables.table(NoAdaptCost_Col45))\n",
    "CSV.write(\"projections_NO_NoAdaptCost_RCP45.csv\", Tables.table(NoAdaptCost_NO45))\n",
    "CSV.write(\"projections_Col_OptimalCost_RCP45.csv\", Tables.table(OptimalCost_Col45))\n",
    "CSV.write(\"projections_NO_OptimalCost_RCP45.csv\", Tables.table(OptimalCost_NO45))\n",
    "CSV.write(\"projections_Col_NPVOptimal_RCP45.csv\", Tables.table(NPVOptimal_Col45))\n",
    "CSV.write(\"projections_NO_NPVOptimal_RCP45.csv\", Tables.table(NPVOptimal_NO45))"
   ]
  },
  {
   "cell_type": "code",
   "execution_count": 69,
   "metadata": {},
   "outputs": [],
   "source": [
    "#for RCP 2.6\n",
    "NoAdaptCost_Col26, NoAdaptCost_NO26, OptimalCost_Col26, OptimalCost_NO26, NPVOptimal_Col26,NPVOptimal_NO26=Cost_NewLslr1(10000,20,lslrNew26);"
   ]
  },
  {
   "attachments": {},
   "cell_type": "markdown",
   "metadata": {},
   "source": [
    "CSV files for RCP 2.6 "
   ]
  },
  {
   "cell_type": "code",
   "execution_count": 70,
   "metadata": {},
   "outputs": [
    {
     "data": {
      "text/plain": [
       "\"projections_NO_NPVOptimal_RCP26.csv\""
      ]
     },
     "metadata": {},
     "output_type": "display_data"
    }
   ],
   "source": [
    "using CSV\n",
    "using Tables\n",
    "CSV.write(\"projections_Col_NoAdaptCost_RCP26.csv\", Tables.table(NoAdaptCost_Col26))\n",
    "CSV.write(\"projections_NO_NoAdaptCost_RCP26.csv\", Tables.table(NoAdaptCost_NO26))\n",
    "CSV.write(\"projections_Col_OptimalCost_RCP26.csv\", Tables.table(OptimalCost_Col26))\n",
    "CSV.write(\"projections_NO_OptimalCost_RCP26.csv\", Tables.table(OptimalCost_NO26))\n",
    "CSV.write(\"projections_Col_NPVOptimal_RCP26.csv\", Tables.table(NPVOptimal_Col26))\n",
    "CSV.write(\"projections_NO_NPVOptimal_RCP26.csv\", Tables.table(NPVOptimal_NO26))"
   ]
  }
 ],
 "metadata": {
  "kernelspec": {
   "display_name": "Julia 1.6.1",
   "language": "julia",
   "name": "julia-1.6"
  },
  "language_info": {
   "file_extension": ".jl",
   "mimetype": "application/julia",
   "name": "julia",
   "version": "1.6.1"
  },
  "orig_nbformat": 4
 },
 "nbformat": 4,
 "nbformat_minor": 2
}
