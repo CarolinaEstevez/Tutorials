{
 "cells": [
  {
   "cell_type": "code",
   "execution_count": 2,
   "metadata": {},
   "outputs": [
    {
     "data": {
      "text/plain": [
       "20-element Vector{Float64}:\n",
       " 0.026383518\n",
       " 0.062283922\n",
       " 0.099761162\n",
       " 0.137296575\n",
       " 0.178237783\n",
       " 0.22648437\n",
       " 0.259194063\n",
       " 0.282185417\n",
       " 0.314424212\n",
       " 0.351167738\n",
       " 0.375803811\n",
       " 0.405379568\n",
       " 0.430774191\n",
       " 0.46522507\n",
       " 0.485395191\n",
       " 0.509296836\n",
       " 0.524170356\n",
       " 0.540456197\n",
       " 0.556842598\n",
       " 0.574569267"
      ]
     },
     "execution_count": 2,
     "metadata": {},
     "output_type": "execute_result"
    }
   ],
   "source": [
    "Col=[0.026383518\n",
    "0.062283922\n",
    "0.099761162\n",
    "0.137296575\n",
    "0.178237783\n",
    "0.22648437\n",
    "0.259194063\n",
    "0.282185417\n",
    "0.314424212\n",
    "0.351167738\n",
    "0.375803811\n",
    "0.405379568\n",
    "0.430774191\n",
    "0.46522507\n",
    "0.485395191\n",
    "0.509296836\n",
    "0.524170356\n",
    "0.540456197\n",
    "0.556842598\n",
    "0.574569267]"
   ]
  },
  {
   "cell_type": "code",
   "execution_count": 3,
   "metadata": {},
   "outputs": [
    {
     "data": {
      "text/plain": [
       "20-element Vector{Float64}:\n",
       " 0.032606819\n",
       " 0.063763775\n",
       " 0.103759703\n",
       " 0.145110278\n",
       " 0.191930983\n",
       " 0.232170474\n",
       " 0.277071593\n",
       " 0.311212531\n",
       " 0.348585863\n",
       " 0.396398542\n",
       " 0.429085539\n",
       " 0.463363202\n",
       " 0.498468202\n",
       " 0.513961827\n",
       " 0.53650759\n",
       " 0.552264225\n",
       " 0.579993341\n",
       " 0.6011484\n",
       " 0.620231865\n",
       " 0.642970123"
      ]
     },
     "execution_count": 3,
     "metadata": {},
     "output_type": "execute_result"
    }
   ],
   "source": [
    "NO=[0.032606819\n",
    "0.063763775\n",
    "0.103759703\n",
    "0.145110278\n",
    "0.191930983\n",
    "0.232170474\n",
    "0.277071593\n",
    "0.311212531\n",
    "0.348585863\n",
    "0.396398542\n",
    "0.429085539\n",
    "0.463363202\n",
    "0.498468202\n",
    "0.513961827\n",
    "0.53650759\n",
    "0.552264225\n",
    "0.579993341\n",
    "0.6011484\n",
    "0.620231865\n",
    "0.642970123]"
   ]
  },
  {
   "cell_type": "code",
   "execution_count": 4,
   "metadata": {},
   "outputs": [],
   "source": [
    "using MimiCIAM\n",
    "using Mimi\n",
    "\n",
    "m = MimiCIAM.get_model(initfile =\"../ColimaUSA1_init.csv\")\n",
    "new_lslr=[Col NO]\n",
    "update_param!(m, :slrcost, :lslr, new_lslr)\n",
    "run(m)"
   ]
  },
  {
   "cell_type": "code",
   "execution_count": 5,
   "metadata": {},
   "outputs": [
    {
     "data": {
      "text/plain": [
       "\"expected_NO_COL_RCP26_SSP1.csv\""
      ]
     },
     "execution_count": 5,
     "metadata": {},
     "output_type": "execute_result"
    }
   ],
   "source": [
    "#File with the data running the model with the random seed\n",
    "using CSV\n",
    "using Tables\n",
    "\n",
    "NOC_COL=m[:slrcost,:NoAdaptCost][:,1]\n",
    "OP_COL= m[:slrcost,:OptimalCost][:,1]\n",
    "NPVO_COL=m[:slrcost,:NPVOptimal][1]\n",
    "\n",
    "NOC_NO=m[:slrcost,:NoAdaptCost][:,2]\n",
    "OP_NO=m[:slrcost,:OptimalCost][:,2]\n",
    "NPVO_NO=m[:slrcost,:NPVOptimal][2]\n",
    "\n",
    "expected=[NOC_COL OP_COL NOC_NO OP_NO]\n",
    "CSV.write(\"expected_NO_COL_RCP26_SSP1.csv\", Tables.table(expected))"
   ]
  }
 ],
 "metadata": {
  "kernelspec": {
   "display_name": "Julia 1.6.1",
   "language": "julia",
   "name": "julia-1.6"
  },
  "language_info": {
   "file_extension": ".jl",
   "mimetype": "application/julia",
   "name": "julia",
   "version": "1.6.1"
  },
  "orig_nbformat": 4
 },
 "nbformat": 4,
 "nbformat_minor": 2
}
