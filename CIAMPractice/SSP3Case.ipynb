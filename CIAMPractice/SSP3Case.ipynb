{
 "cells": [
  {
   "cell_type": "code",
   "execution_count": 15,
   "metadata": {},
   "outputs": [
    {
     "data": {
      "text/plain": [
       "58"
      ]
     },
     "metadata": {},
     "output_type": "display_data"
    }
   ],
   "source": [
    "run_name = \"CaseSSP3\"\n",
    "\n",
    "init_settings = Dict(\n",
    "        :init_filename   => string(\"$run_name\", \"_init.csv\"),\n",
    "        :lslrfile        => \"lsl_rcp85_p50.csv\",\n",
    "        :subset          => false,\n",
    "        :ssp             => \"IIASAGDP_SSP3_v9_130219\",\n",
    "        :ssp_simplified  => 3\n",
    "    )\n",
    "\n",
    "MimiCIAM.write_init_file(run_name, \"..\", init_settings)"
   ]
  },
  {
   "cell_type": "code",
   "execution_count": null,
   "metadata": {},
   "outputs": [],
   "source": []
  },
  {
   "cell_type": "code",
   "execution_count": 13,
   "metadata": {},
   "outputs": [
    {
     "ename": "UndefVarError",
     "evalue": "UndefVarError: CaseSSP3_init not defined",
     "output_type": "error",
     "traceback": [
      "UndefVarError: CaseSSP3_init not defined\n",
      "\n",
      "Stacktrace:\n",
      " [1] top-level scope\n",
      "   @ ~/Library/CloudStorage/GoogleDrive-ce3304@g.rit.edu/My Drive/Tutorials/Tutorials/CIAMPractice/SSP3Case.ipynb:2"
     ]
    }
   ],
   "source": [
    "using MimiCIAM\n",
    "m = MimiCIAM.get_model(initfile =CaseSSP3_init.csv)\n",
    "run(m)"
   ]
  }
 ],
 "metadata": {
  "kernelspec": {
   "display_name": "Julia 1.7.3",
   "language": "julia",
   "name": "julia-1.7"
  },
  "language_info": {
   "file_extension": ".jl",
   "mimetype": "application/julia",
   "name": "julia",
   "version": "1.7.3"
  },
  "orig_nbformat": 4
 },
 "nbformat": 4,
 "nbformat_minor": 2
}
