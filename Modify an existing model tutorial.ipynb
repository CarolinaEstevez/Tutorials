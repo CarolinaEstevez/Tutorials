{
 "cells": [
  {
   "cell_type": "code",
   "execution_count": 1,
   "metadata": {},
   "outputs": [],
   "source": [
    "using MimiDICE2010\n",
    "m = MimiDICE2010.get_model()\n",
    "run(m)"
   ]
  },
  {
   "cell_type": "code",
   "execution_count": 2,
   "metadata": {},
   "outputs": [],
   "source": [
    "using Mimi\n",
    "update_param!(m, :fco22x, 3.000)\n",
    "run(m)"
   ]
  },
  {
   "cell_type": "code",
   "execution_count": 3,
   "metadata": {},
   "outputs": [
    {
     "data": {
      "text/plain": [
       "[1995, 2005, 2015, 2025, 2035, 2045, 2055, 2065, 2075, 2085  …  2415, 2425, 2435, 2445, 2455, 2465, 2475, 2485, 2495, 2505]"
      ]
     },
     "execution_count": 3,
     "metadata": {},
     "output_type": "execute_result"
    }
   ],
   "source": [
    "const ts = 10\n",
    "const years = collect(1995:ts:2505)\n",
    "nyears = length(years)\n",
    "set_dimension!(m, :time, years)"
   ]
  },
  {
   "cell_type": "code",
   "execution_count": 6,
   "metadata": {},
   "outputs": [
    {
     "ename": "LoadError",
     "evalue": "Model parameter connected to comp2's parameter S not found in model's parameter connections list.",
     "output_type": "error",
     "traceback": [
      "Model parameter connected to comp2's parameter S not found in model's parameter connections list.",
      "",
      "Stacktrace:",
      " [1] error(s::String)",
      "   @ Base ./error.jl:33",
      " [2] #get_model_param_name#72",
      "   @ ~/.julia/packages/Mimi/OClro/src/core/connections.jl:698 [inlined]",
      " [3] get_model_param_name",
      "   @ ~/.julia/packages/Mimi/OClro/src/core/connections.jl:690 [inlined]",
      " [4] update_params!(obj::Mimi.ModelDef, parameters::Dict{Any, Any}; update_timesteps::Nothing)",
      "   @ Mimi ~/.julia/packages/Mimi/OClro/src/core/connections.jl:1092",
      " [5] #update_params!#207",
      "   @ ~/.julia/packages/Mimi/OClro/src/core/delegate.jl:55 [inlined]",
      " [6] update_params!(m::Model, parameters::Dict{Any, Any})",
      "   @ Mimi ~/.julia/packages/Mimi/OClro/src/core/delegate.jl:55",
      " [7] top-level scope",
      "   @ In[6]:9"
     ]
    }
   ],
   "source": [
    "params = Dict{Any, Any}()\n",
    "params[:a1]         = 0.00008162\n",
    "params[:a2]         = 0.00204626\n",
    "params[:S]          = repeat([0.23], nyears)\n",
    "params = Dict{Any, Any}()\n",
    "params[(:comp1, :a1)]         = 0.00008162\n",
    "params[(:comp1, :a2)]         = 0.00204626\n",
    "params[(:comp2, :S)]          = repeat([0.23], nyears)\n",
    "update_params!(m, params)\n",
    "run(m)"
   ]
  },
  {
   "cell_type": "code",
   "execution_count": null,
   "metadata": {},
   "outputs": [],
   "source": [
    "params = Dict{Any, Any}()\n",
    "params[(:comp1, :a1)]         = 0.00008162\n",
    "params[(:comp1, :a2)]         = 0.00204626\n",
    "...\n",
    "params[(:comp2, :S)]          = repeat([0.23], nyears)\n",
    "..."
   ]
  }
 ],
 "metadata": {
  "kernelspec": {
   "display_name": "Julia 1.6.1",
   "language": "julia",
   "name": "julia-1.6"
  },
  "language_info": {
   "file_extension": ".jl",
   "mimetype": "application/julia",
   "name": "julia",
   "version": "1.6.1"
  },
  "orig_nbformat": 4
 },
 "nbformat": 4,
 "nbformat_minor": 2
}
