{
 "cells": [
  {
   "cell_type": "code",
   "execution_count": 35,
   "metadata": {},
   "outputs": [],
   "source": [
    "using MimiDICE2010\n",
    "m = MimiDICE2010.get_model()\n",
    "run(m)"
   ]
  },
  {
   "cell_type": "code",
   "execution_count": 36,
   "metadata": {},
   "outputs": [],
   "source": [
    "update_param!(m, :fco22x, 3.000)\n",
    "run(m)"
   ]
  },
  {
   "cell_type": "code",
   "execution_count": 13,
   "metadata": {},
   "outputs": [
    {
     "name": "stderr",
     "output_type": "stream",
     "text": [
      "WARNING: redefinition of constant years. This may fail, cause incorrect answers, or produce other errors.\n"
     ]
    },
    {
     "data": {
      "text/plain": [
       "[1995, 2005, 2015, 2025, 2035, 2045, 2055, 2065, 2075, 2085  …  2415, 2425, 2435, 2445, 2455, 2465, 2475, 2485, 2495, 2505]"
      ]
     },
     "execution_count": 13,
     "metadata": {},
     "output_type": "execute_result"
    }
   ],
   "source": [
    "const ts = 10\n",
    "const years = collect(1995:ts:2505)\n",
    "nyears = length(years)\n",
    "set_dimension!(m, :time, years)"
   ]
  },
  {
   "cell_type": "code",
   "execution_count": 18,
   "metadata": {},
   "outputs": [
    {
     "data": {
      "text/plain": [
       "Electron.Window(Application(Base.PipeEndpoint(RawFD(51) paused, 0 bytes waiting), Process(setenv(`\u001b[4m/Users/ce3304/.julia/artifacts/af89516f228377420737a306e9701ae844eee264/Julia.app/Contents/MacOS/Julia\u001b[24m \u001b[4m/Users/ce3304/.julia/packages/Electron/pOy6n/src/main.js\u001b[24m \u001b[4m/var/folders/t7/fy2lqlxs1mv8209nfcq776m58xvr_f/T/jlel-d322458ca70111ed3168df5eac814909\u001b[24m \u001b[4m/var/folders/t7/fy2lqlxs1mv8209nfcq776m58xvr_f/T/jlel-sn-d32512f0a70111ed13a71b60b8ad837c\u001b[24m \u001b[4mkN0Ca5JZw1wIss6dZHtumdfKZ2Q3L5cnheEpqV/+30hvRzHkGDF6tOUanK6qZjfkiWkNGgkra9+o0sLpNmZwJG/wNSGoDmFEGwhqNEfdJsc5BqbMG6EUVbryUI/DeLFahT9f6zsDpprvEo96HMHS8kqxPcw3+pBQlulsH53CSe0=\u001b[24m`,[\"VSCODE_CWD=/Users/ce3304\", \"XPC_FLAGS=0x0\", \"COMMAND_MODE=unix2003\", \"CONDA_PROMPT_MODIFIER=(base) \", \"PATH=/Applications/Julia-1.6.app/Contents/Resources/julia/bin:/Users/aewsma/anaconda3/bin:/Users/aewsma/anaconda3/condabin:/usr/bin:/bin:/usr/sbin:/sbin\", \"PWD=/Users/ce3304\", \"VSCODE_CODE_CACHE_PATH=/Users/ce3304/.anaconda/navigator/Code/CachedData/97dec172d3256f8ca4bfb2143f3f76b503ca0534\", \"VSCODE_HANDLES_UNCAUGHT_ERRORS=true\", \"XPC_SERVICE_NAME=application.com.microsoft.VSCode.152802133.152802359.FA3387CE-DD6E-4399-82A9-88A71F04FFDE\", \"OPENBLAS_MAIN_FREE=1\"  …  \"LINES=30\", \"USER=ce3304\", \"CONDA_SHLVL=1\", \"CONDA_EXE=/Users/aewsma/anaconda3/bin/conda\", \"HOME=/Users/ce3304\", \"CONDA_ROOT=/Users/aewsma/anaconda3\", \"ELECTRON_NO_ATTACH_CONSOLE=1\", \"PYTHONUNBUFFERED=1\", \"PYTHONIOENCODING=utf-8\", \"MLM_LICENSE_FILE=27004@license01.ad.rit.edu:27004@license02.ad.rit.edu:27004@license03.ad.rit.edu\"]), ProcessRunning), [1 window]), 4, true, Channel{Any}(128))"
      ]
     },
     "execution_count": 18,
     "metadata": {},
     "output_type": "execute_result"
    }
   ],
   "source": [
    "explore(m)"
   ]
  },
  {
   "cell_type": "code",
   "execution_count": 27,
   "metadata": {},
   "outputs": [],
   "source": [
    "params = Dict{Any, Any}()\n",
    "params[(:grosseconomy, :gama)]         = 0.00008162\n",
    "params[(:grosseconomy, :dk)]         = 0.00204626\n",
    "\n",
    "update_params!(m, params)\n",
    "run(m)"
   ]
  },
  {
   "cell_type": "code",
   "execution_count": 33,
   "metadata": {},
   "outputs": [
    {
     "data": {
      "text/html": [
       "<div><div style = \"float: left;\"><span>60×2 DataFrame</span></div><div style = \"float: right;\"><span style = \"font-style: italic;\">35 rows omitted</span></div><div style = \"clear: both;\"></div></div><div class = \"data-frame\" style = \"overflow-x: scroll;\"><table class = \"data-frame\" style = \"margin-bottom: 6px;\"><thead><tr class = \"header\"><th class = \"rowNumber\" style = \"font-weight: bold; text-align: right;\">Row</th><th style = \"text-align: left;\">time</th><th style = \"text-align: left;\">TATM</th></tr><tr class = \"subheader headerLastRow\"><th class = \"rowNumber\" style = \"font-weight: bold; text-align: right;\"></th><th title = \"Int64\" style = \"text-align: left;\">Int64</th><th title = \"Union{Missing, Float64}\" style = \"text-align: left;\">Float64?</th></tr></thead><tbody><tr><td class = \"rowNumber\" style = \"font-weight: bold; text-align: right;\">1</td><td style = \"text-align: right;\">2005</td><td style = \"text-align: right;\">0.83</td></tr><tr><td class = \"rowNumber\" style = \"font-weight: bold; text-align: right;\">2</td><td style = \"text-align: right;\">2015</td><td style = \"text-align: right;\">0.98</td></tr><tr><td class = \"rowNumber\" style = \"font-weight: bold; text-align: right;\">3</td><td style = \"text-align: right;\">2025</td><td style = \"text-align: right;\">1.71282</td></tr><tr><td class = \"rowNumber\" style = \"font-weight: bold; text-align: right;\">4</td><td style = \"text-align: right;\">2035</td><td style = \"text-align: right;\">2.43935</td></tr><tr><td class = \"rowNumber\" style = \"font-weight: bold; text-align: right;\">5</td><td style = \"text-align: right;\">2045</td><td style = \"text-align: right;\">3.10974</td></tr><tr><td class = \"rowNumber\" style = \"font-weight: bold; text-align: right;\">6</td><td style = \"text-align: right;\">2055</td><td style = \"text-align: right;\">3.70583</td></tr><tr><td class = \"rowNumber\" style = \"font-weight: bold; text-align: right;\">7</td><td style = \"text-align: right;\">2065</td><td style = \"text-align: right;\">4.22546</td></tr><tr><td class = \"rowNumber\" style = \"font-weight: bold; text-align: right;\">8</td><td style = \"text-align: right;\">2075</td><td style = \"text-align: right;\">4.67396</td></tr><tr><td class = \"rowNumber\" style = \"font-weight: bold; text-align: right;\">9</td><td style = \"text-align: right;\">2085</td><td style = \"text-align: right;\">5.05969</td></tr><tr><td class = \"rowNumber\" style = \"font-weight: bold; text-align: right;\">10</td><td style = \"text-align: right;\">2095</td><td style = \"text-align: right;\">5.39168</td></tr><tr><td class = \"rowNumber\" style = \"font-weight: bold; text-align: right;\">11</td><td style = \"text-align: right;\">2105</td><td style = \"text-align: right;\">5.67849</td></tr><tr><td class = \"rowNumber\" style = \"font-weight: bold; text-align: right;\">12</td><td style = \"text-align: right;\">2115</td><td style = \"text-align: right;\">5.93877</td></tr><tr><td class = \"rowNumber\" style = \"font-weight: bold; text-align: right;\">13</td><td style = \"text-align: right;\">2125</td><td style = \"text-align: right;\">6.17565</td></tr><tr><td style = \"text-align: right;\">&vellip;</td><td style = \"text-align: right;\">&vellip;</td><td style = \"text-align: right;\">&vellip;</td></tr><tr><td class = \"rowNumber\" style = \"font-weight: bold; text-align: right;\">49</td><td style = \"text-align: right;\">2485</td><td style = \"text-align: right;\">7.30671</td></tr><tr><td class = \"rowNumber\" style = \"font-weight: bold; text-align: right;\">50</td><td style = \"text-align: right;\">2495</td><td style = \"text-align: right;\">7.29882</td></tr><tr><td class = \"rowNumber\" style = \"font-weight: bold; text-align: right;\">51</td><td style = \"text-align: right;\">2505</td><td style = \"text-align: right;\">7.29147</td></tr><tr><td class = \"rowNumber\" style = \"font-weight: bold; text-align: right;\">52</td><td style = \"text-align: right;\">2515</td><td style = \"text-align: right;\">7.28452</td></tr><tr><td class = \"rowNumber\" style = \"font-weight: bold; text-align: right;\">53</td><td style = \"text-align: right;\">2525</td><td style = \"text-align: right;\">7.27787</td></tr><tr><td class = \"rowNumber\" style = \"font-weight: bold; text-align: right;\">54</td><td style = \"text-align: right;\">2535</td><td style = \"text-align: right;\">7.27142</td></tr><tr><td class = \"rowNumber\" style = \"font-weight: bold; text-align: right;\">55</td><td style = \"text-align: right;\">2545</td><td style = \"text-align: right;\">7.26509</td></tr><tr><td class = \"rowNumber\" style = \"font-weight: bold; text-align: right;\">56</td><td style = \"text-align: right;\">2555</td><td style = \"text-align: right;\">7.25883</td></tr><tr><td class = \"rowNumber\" style = \"font-weight: bold; text-align: right;\">57</td><td style = \"text-align: right;\">2565</td><td style = \"text-align: right;\">7.25258</td></tr><tr><td class = \"rowNumber\" style = \"font-weight: bold; text-align: right;\">58</td><td style = \"text-align: right;\">2575</td><td style = \"text-align: right;\">7.24631</td></tr><tr><td class = \"rowNumber\" style = \"font-weight: bold; text-align: right;\">59</td><td style = \"text-align: right;\">2585</td><td style = \"text-align: right;\">7.23998</td></tr><tr><td class = \"rowNumber\" style = \"font-weight: bold; text-align: right;\">60</td><td style = \"text-align: right;\">2595</td><td style = \"text-align: right;\">7.23357</td></tr></tbody></table></div>"
      ],
      "text/latex": [
       "\\begin{tabular}{r|cc}\n",
       "\t& time & TATM\\\\\n",
       "\t\\hline\n",
       "\t& Int64 & Float64?\\\\\n",
       "\t\\hline\n",
       "\t1 & 2005 & 0.83 \\\\\n",
       "\t2 & 2015 & 0.98 \\\\\n",
       "\t3 & 2025 & 1.71282 \\\\\n",
       "\t4 & 2035 & 2.43935 \\\\\n",
       "\t5 & 2045 & 3.10974 \\\\\n",
       "\t6 & 2055 & 3.70583 \\\\\n",
       "\t7 & 2065 & 4.22546 \\\\\n",
       "\t8 & 2075 & 4.67396 \\\\\n",
       "\t9 & 2085 & 5.05969 \\\\\n",
       "\t10 & 2095 & 5.39168 \\\\\n",
       "\t11 & 2105 & 5.67849 \\\\\n",
       "\t12 & 2115 & 5.93877 \\\\\n",
       "\t13 & 2125 & 6.17565 \\\\\n",
       "\t14 & 2135 & 6.39228 \\\\\n",
       "\t15 & 2145 & 6.59164 \\\\\n",
       "\t16 & 2155 & 6.77637 \\\\\n",
       "\t17 & 2165 & 6.9488 \\\\\n",
       "\t18 & 2175 & 7.11088 \\\\\n",
       "\t19 & 2185 & 7.2643 \\\\\n",
       "\t20 & 2195 & 7.41043 \\\\\n",
       "\t21 & 2205 & 7.55045 \\\\\n",
       "\t22 & 2215 & 7.68531 \\\\\n",
       "\t23 & 2225 & 7.8158 \\\\\n",
       "\t24 & 2235 & 7.94259 \\\\\n",
       "\t25 & 2245 & 8.06621 \\\\\n",
       "\t26 & 2255 & 8.14371 \\\\\n",
       "\t27 & 2265 & 8.14856 \\\\\n",
       "\t28 & 2275 & 8.11024 \\\\\n",
       "\t29 & 2285 & 8.04821 \\\\\n",
       "\t30 & 2295 & 7.97509 \\\\\n",
       "\t$\\dots$ & $\\dots$ & $\\dots$ \\\\\n",
       "\\end{tabular}\n"
      ],
      "text/plain": [
       "\u001b[1m60×2 DataFrame\u001b[0m\n",
       "\u001b[1m Row \u001b[0m│\u001b[1m time  \u001b[0m\u001b[1m TATM     \u001b[0m\n",
       "     │\u001b[90m Int64 \u001b[0m\u001b[90m Float64? \u001b[0m\n",
       "─────┼─────────────────\n",
       "   1 │  2005   0.83\n",
       "   2 │  2015   0.98\n",
       "   3 │  2025   1.71282\n",
       "   4 │  2035   2.43935\n",
       "   5 │  2045   3.10974\n",
       "   6 │  2055   3.70583\n",
       "   7 │  2065   4.22546\n",
       "   8 │  2075   4.67396\n",
       "   9 │  2085   5.05969\n",
       "  10 │  2095   5.39168\n",
       "  11 │  2105   5.67849\n",
       "  ⋮  │   ⋮       ⋮\n",
       "  51 │  2505   7.29147\n",
       "  52 │  2515   7.28452\n",
       "  53 │  2525   7.27787\n",
       "  54 │  2535   7.27142\n",
       "  55 │  2545   7.26509\n",
       "  56 │  2555   7.25883\n",
       "  57 │  2565   7.25258\n",
       "  58 │  2575   7.24631\n",
       "  59 │  2585   7.23998\n",
       "  60 │  2595   7.23357\n",
       "\u001b[36m        39 rows omitted\u001b[0m"
      ]
     },
     "execution_count": 33,
     "metadata": {},
     "output_type": "execute_result"
    }
   ],
   "source": [
    "getdataframe(m, :climatedynamics, :TATM)"
   ]
  },
  {
   "cell_type": "code",
   "execution_count": 34,
   "metadata": {},
   "outputs": [
    {
     "data": {
      "application/vnd.vegalite.v4+json": {
       "$schema": "https://vega.github.io/schema/vega-lite/v3.json",
       "data": {
        "values": [
         {
          "TATM": "0.83",
          "time": "2005-01-01"
         },
         {
          "TATM": "0.98",
          "time": "2015-01-01"
         },
         {
          "TATM": "1.712822975730652",
          "time": "2025-01-01"
         },
         {
          "TATM": "2.439347554924365",
          "time": "2035-01-01"
         },
         {
          "TATM": "3.109738944077634",
          "time": "2045-01-01"
         },
         {
          "TATM": "3.7058331924524923",
          "time": "2055-01-01"
         },
         {
          "TATM": "4.2254571872259925",
          "time": "2065-01-01"
         },
         {
          "TATM": "4.673958532850393",
          "time": "2075-01-01"
         },
         {
          "TATM": "5.059689730417582",
          "time": "2085-01-01"
         },
         {
          "TATM": "5.391676541705085",
          "time": "2095-01-01"
         },
         {
          "TATM": "5.678486832661902",
          "time": "2105-01-01"
         },
         {
          "TATM": "5.938772846955416",
          "time": "2115-01-01"
         },
         {
          "TATM": "6.175648572856375",
          "time": "2125-01-01"
         },
         {
          "TATM": "6.392281063431469",
          "time": "2135-01-01"
         },
         {
          "TATM": "6.591637420565192",
          "time": "2145-01-01"
         },
         {
          "TATM": "6.776372904941526",
          "time": "2155-01-01"
         },
         {
          "TATM": "6.94879761380718",
          "time": "2165-01-01"
         },
         {
          "TATM": "7.110884811368567",
          "time": "2175-01-01"
         },
         {
          "TATM": "7.26429945520792",
          "time": "2185-01-01"
         },
         {
          "TATM": "7.410434735261296",
          "time": "2195-01-01"
         },
         {
          "TATM": "7.550449958992667",
          "time": "2205-01-01"
         },
         {
          "TATM": "7.6853063575920855",
          "time": "2215-01-01"
         },
         {
          "TATM": "7.81579925635002",
          "time": "2225-01-01"
         },
         {
          "TATM": "7.94258609891358",
          "time": "2235-01-01"
         },
         {
          "TATM": "8.06621037011092",
          "time": "2245-01-01"
         },
         {
          "TATM": "8.14371118884675",
          "time": "2255-01-01"
         },
         {
          "TATM": "8.148556747998752",
          "time": "2265-01-01"
         },
         {
          "TATM": "8.110240317076347",
          "time": "2275-01-01"
         },
         {
          "TATM": "8.048209606966564",
          "time": "2285-01-01"
         },
         {
          "TATM": "7.9750902874662195",
          "time": "2295-01-01"
         },
         {
          "TATM": "7.898889137496328",
          "time": "2305-01-01"
         },
         {
          "TATM": "7.824502276974807",
          "time": "2315-01-01"
         },
         {
          "TATM": "7.754748568916868",
          "time": "2325-01-01"
         },
         {
          "TATM": "7.691077447120541",
          "time": "2335-01-01"
         },
         {
          "TATM": "7.634052772918403",
          "time": "2345-01-01"
         },
         {
          "TATM": "7.583682200160935",
          "time": "2355-01-01"
         },
         {
          "TATM": "7.539639793197552",
          "time": "2365-01-01"
         },
         {
          "TATM": "7.501414865266874",
          "time": "2375-01-01"
         },
         {
          "TATM": "7.468409898271246",
          "time": "2385-01-01"
         },
         {
          "TATM": "7.440003449023002",
          "time": "2395-01-01"
         },
         {
          "TATM": "7.415589129543144",
          "time": "2405-01-01"
         },
         {
          "TATM": "7.394598393599249",
          "time": "2415-01-01"
         },
         {
          "TATM": "7.3765125138534415",
          "time": "2425-01-01"
         },
         {
          "TATM": "7.360867485853702",
          "time": "2435-01-01"
         },
         {
          "TATM": "7.347254436190709",
          "time": "2445-01-01"
         },
         {
          "TATM": "7.335317297258441",
          "time": "2455-01-01"
         },
         {
          "TATM": "7.324748939115395",
          "time": "2465-01-01"
         },
         {
          "TATM": "7.3152865490055206",
          "time": "2475-01-01"
         },
         {
          "TATM": "7.306706771051505",
          "time": "2485-01-01"
         },
         {
          "TATM": "7.298820926902059",
          "time": "2495-01-01"
         },
         {
          "TATM": "7.2914705073622885",
          "time": "2505-01-01"
         },
         {
          "TATM": "7.284523037189052",
          "time": "2515-01-01"
         },
         {
          "TATM": "7.2778683574008225",
          "time": "2525-01-01"
         },
         {
          "TATM": "7.271415332453634",
          "time": "2535-01-01"
         },
         {
          "TATM": "7.265088966952725",
          "time": "2545-01-01"
         },
         {
          "TATM": "7.258827903594902",
          "time": "2555-01-01"
         },
         {
          "TATM": "7.252582267530033",
          "time": "2565-01-01"
         },
         {
          "TATM": "7.246311820031337",
          "time": "2575-01-01"
         },
         {
          "TATM": "7.239984384710947",
          "time": "2585-01-01"
         },
         {
          "TATM": "7.23357451144269",
          "time": "2595-01-01"
         }
        ]
       },
       "description": "plot for a specific component variable pair",
       "encoding": {
        "x": {
         "field": "time",
         "timeUnit": "utcyear",
         "type": "temporal"
        },
        "y": {
         "field": "TATM",
         "type": "quantitative"
        }
       },
       "height": 410,
       "mark": {
        "type": "line"
       },
       "title": "climatedynamics : TATM",
       "width": 450
      },
      "image/png": "[encoded data removed]",
      "image/svg+xml": "<?xml version=\"1.0\" encoding=\"utf-8\"?>\n<!DOCTYPE svg PUBLIC \"-//W3C//DTD SVG 1.1//EN\" \"http://www.w3.org/Graphics/SVG/1.1/DTD/svg11.dtd\">\n<svg xmlns=\"http://www.w3.org/2000/svg\" xmlns:xlink=\"http://www.w3.org/1999/xlink\" version=\"1.1\" class=\"marks\" width=\"490\" height=\"474\" viewBox=\"0 0 490 474\"><rect width=\"490\" height=\"474\" fill=\"white\"/><g fill=\"none\" stroke-miterlimit=\"10\" transform=\"translate(33,27)\"><g class=\"mark-group role-frame root\" role=\"graphics-object\" aria-roledescription=\"group mark container\"><g transform=\"translate(0,0)\"><path class=\"background\" aria-hidden=\"true\" d=\"M0.5,0.5h450v410h-450Z\" stroke=\"#ddd\"/><g><g class=\"mark-group role-axis\" aria-hidden=\"true\"><g transform=\"translate(0.5,410.5)\"><path class=\"background\" aria-hidden=\"true\" d=\"M0,0h0v0h0Z\" pointer-events=\"none\"/><g><g class=\"mark-rule role-axis-grid\" pointer-events=\"none\"><line transform=\"translate(34,-410)\" x2=\"0\" y2=\"410\" stroke=\"#ddd\" stroke-width=\"1\" opacity=\"1\"/><line transform=\"translate(72,-410)\" x2=\"0\" y2=\"410\" stroke=\"#ddd\" stroke-width=\"1\" opacity=\"1\"/><line transform=\"translate(111,-410)\" x2=\"0\" y2=\"410\" stroke=\"#ddd\" stroke-width=\"1\" opacity=\"1\"/><line transform=\"translate(149,-410)\" x2=\"0\" y2=\"410\" stroke=\"#ddd\" stroke-width=\"1\" opacity=\"1\"/><line transform=\"translate(187,-410)\" x2=\"0\" y2=\"410\" stroke=\"#ddd\" stroke-width=\"1\" opacity=\"1\"/><line transform=\"translate(225,-410)\" x2=\"0\" y2=\"410\" stroke=\"#ddd\" stroke-width=\"1\" opacity=\"1\"/><line transform=\"translate(263,-410)\" x2=\"0\" y2=\"410\" stroke=\"#ddd\" stroke-width=\"1\" opacity=\"1\"/><line transform=\"translate(301,-410)\" x2=\"0\" y2=\"410\" stroke=\"#ddd\" stroke-width=\"1\" opacity=\"1\"/><line transform=\"translate(339,-410)\" x2=\"0\" y2=\"410\" stroke=\"#ddd\" stroke-width=\"1\" opacity=\"1\"/><line transform=\"translate(378,-410)\" x2=\"0\" y2=\"410\" stroke=\"#ddd\" stroke-width=\"1\" opacity=\"1\"/><line transform=\"translate(416,-410)\" x2=\"0\" y2=\"410\" stroke=\"#ddd\" stroke-width=\"1\" opacity=\"1\"/></g></g><path class=\"foreground\" aria-hidden=\"true\" d=\"\" pointer-events=\"none\" display=\"none\"/></g></g><g class=\"mark-group role-axis\" aria-hidden=\"true\"><g transform=\"translate(0.5,0.5)\"><path class=\"background\" aria-hidden=\"true\" d=\"M0,0h0v0h0Z\" pointer-events=\"none\"/><g><g class=\"mark-rule role-axis-grid\" pointer-events=\"none\"><line transform=\"translate(0,410)\" x2=\"450\" y2=\"0\" stroke=\"#ddd\" stroke-width=\"1\" opacity=\"1\"/><line transform=\"translate(0,364)\" x2=\"450\" y2=\"0\" stroke=\"#ddd\" stroke-width=\"1\" opacity=\"1\"/><line transform=\"translate(0,319)\" x2=\"450\" y2=\"0\" stroke=\"#ddd\" stroke-width=\"1\" opacity=\"1\"/><line transform=\"translate(0,273)\" x2=\"450\" y2=\"0\" stroke=\"#ddd\" stroke-width=\"1\" opacity=\"1\"/><line transform=\"translate(0,228)\" x2=\"450\" y2=\"0\" stroke=\"#ddd\" stroke-width=\"1\" opacity=\"1\"/><line transform=\"translate(0,182)\" x2=\"450\" y2=\"0\" stroke=\"#ddd\" stroke-width=\"1\" opacity=\"1\"/><line transform=\"translate(0,137)\" x2=\"450\" y2=\"0\" stroke=\"#ddd\" stroke-width=\"1\" opacity=\"1\"/><line transform=\"translate(0,91)\" x2=\"450\" y2=\"0\" stroke=\"#ddd\" stroke-width=\"1\" opacity=\"1\"/><line transform=\"translate(0,46)\" x2=\"450\" y2=\"0\" stroke=\"#ddd\" stroke-width=\"1\" opacity=\"1\"/><line transform=\"translate(0,0)\" x2=\"450\" y2=\"0\" stroke=\"#ddd\" stroke-width=\"1\" opacity=\"1\"/></g></g><path class=\"foreground\" aria-hidden=\"true\" d=\"\" pointer-events=\"none\" display=\"none\"/></g></g><g class=\"mark-group role-axis\" role=\"graphics-symbol\" aria-roledescription=\"axis\" aria-label=\"X-axis titled 'time (year)' for a utc scale with values from 2005 to 2595\"><g transform=\"translate(0.5,410.5)\"><path class=\"background\" aria-hidden=\"true\" d=\"M0,0h0v0h0Z\" pointer-events=\"none\"/><g><g class=\"mark-rule role-axis-tick\" pointer-events=\"none\"><line transform=\"translate(34,0)\" x2=\"0\" y2=\"5\" stroke=\"#888\" stroke-width=\"1\" opacity=\"1\"/><line transform=\"translate(72,0)\" x2=\"0\" y2=\"5\" stroke=\"#888\" stroke-width=\"1\" opacity=\"1\"/><line transform=\"translate(111,0)\" x2=\"0\" y2=\"5\" stroke=\"#888\" stroke-width=\"1\" opacity=\"1\"/><line transform=\"translate(149,0)\" x2=\"0\" y2=\"5\" stroke=\"#888\" stroke-width=\"1\" opacity=\"1\"/><line transform=\"translate(187,0)\" x2=\"0\" y2=\"5\" stroke=\"#888\" stroke-width=\"1\" opacity=\"1\"/><line transform=\"translate(225,0)\" x2=\"0\" y2=\"5\" stroke=\"#888\" stroke-width=\"1\" opacity=\"1\"/><line transform=\"translate(263,0)\" x2=\"0\" y2=\"5\" stroke=\"#888\" stroke-width=\"1\" opacity=\"1\"/><line transform=\"translate(301,0)\" x2=\"0\" y2=\"5\" stroke=\"#888\" stroke-width=\"1\" opacity=\"1\"/><line transform=\"translate(339,0)\" x2=\"0\" y2=\"5\" stroke=\"#888\" stroke-width=\"1\" opacity=\"1\"/><line transform=\"translate(378,0)\" x2=\"0\" y2=\"5\" stroke=\"#888\" stroke-width=\"1\" opacity=\"1\"/><line transform=\"translate(416,0)\" x2=\"0\" y2=\"5\" stroke=\"#888\" stroke-width=\"1\" opacity=\"1\"/></g><g class=\"mark-text role-axis-label\" pointer-events=\"none\"><text text-anchor=\"middle\" transform=\"translate(34.32222856426891,15)\" font-family=\"sans-serif\" font-size=\"10px\" fill=\"#000\" opacity=\"1\">2050</text><text text-anchor=\"middle\" transform=\"translate(72.45757402792667,15)\" font-family=\"sans-serif\" font-size=\"10px\" fill=\"#000\" opacity=\"1\">2100</text><text text-anchor=\"middle\" transform=\"translate(110.59291949158441,15)\" font-family=\"sans-serif\" font-size=\"10px\" fill=\"#000\" opacity=\"1\">2150</text><text text-anchor=\"middle\" transform=\"translate(148.72826495524217,15)\" font-family=\"sans-serif\" font-size=\"10px\" fill=\"#000\" opacity=\"1\">2200</text><text text-anchor=\"middle\" transform=\"translate(186.8636104188999,15)\" font-family=\"sans-serif\" font-size=\"10px\" fill=\"#000\" opacity=\"1\">2250</text><text text-anchor=\"middle\" transform=\"translate(224.99895588255768,15)\" font-family=\"sans-serif\" font-size=\"10px\" fill=\"#000\" opacity=\"1\">2300</text><text text-anchor=\"middle\" transform=\"translate(263.1343013462154,15)\" font-family=\"sans-serif\" font-size=\"10px\" fill=\"#000\" opacity=\"1\">2350</text><text text-anchor=\"middle\" transform=\"translate(301.26964680987317,15)\" font-family=\"sans-serif\" font-size=\"10px\" fill=\"#000\" opacity=\"1\">2400</text><text text-anchor=\"middle\" transform=\"translate(339.40708050841556,15)\" font-family=\"sans-serif\" font-size=\"10px\" fill=\"#000\" opacity=\"1\">2450</text><text text-anchor=\"middle\" transform=\"translate(377.5424259720734,15)\" font-family=\"sans-serif\" font-size=\"10px\" fill=\"#000\" opacity=\"1\">2500</text><text text-anchor=\"middle\" transform=\"translate(415.67777143573113,15)\" font-family=\"sans-serif\" font-size=\"10px\" fill=\"#000\" opacity=\"1\">2550</text></g><g class=\"mark-rule role-axis-domain\" pointer-events=\"none\"><line transform=\"translate(0,0)\" x2=\"450\" y2=\"0\" stroke=\"#888\" stroke-width=\"1\" opacity=\"1\"/></g><g class=\"mark-text role-axis-title\" pointer-events=\"none\"><text text-anchor=\"middle\" transform=\"translate(225,30)\" font-family=\"sans-serif\" font-size=\"11px\" font-weight=\"bold\" fill=\"#000\" opacity=\"1\">time (year)</text></g></g><path class=\"foreground\" aria-hidden=\"true\" d=\"\" pointer-events=\"none\" display=\"none\"/></g></g><g class=\"mark-group role-axis\" role=\"graphics-symbol\" aria-roledescription=\"axis\" aria-label=\"Y-axis titled 'TATM' for a linear scale with values from 0 to 9\"><g transform=\"translate(0.5,0.5)\"><path class=\"background\" aria-hidden=\"true\" d=\"M0,0h0v0h0Z\" pointer-events=\"none\"/><g><g class=\"mark-rule role-axis-tick\" pointer-events=\"none\"><line transform=\"translate(0,410)\" x2=\"-5\" y2=\"0\" stroke=\"#888\" stroke-width=\"1\" opacity=\"1\"/><line transform=\"translate(0,364)\" x2=\"-5\" y2=\"0\" stroke=\"#888\" stroke-width=\"1\" opacity=\"1\"/><line transform=\"translate(0,319)\" x2=\"-5\" y2=\"0\" stroke=\"#888\" stroke-width=\"1\" opacity=\"1\"/><line transform=\"translate(0,273)\" x2=\"-5\" y2=\"0\" stroke=\"#888\" stroke-width=\"1\" opacity=\"1\"/><line transform=\"translate(0,228)\" x2=\"-5\" y2=\"0\" stroke=\"#888\" stroke-width=\"1\" opacity=\"1\"/><line transform=\"translate(0,182)\" x2=\"-5\" y2=\"0\" stroke=\"#888\" stroke-width=\"1\" opacity=\"1\"/><line transform=\"translate(0,137)\" x2=\"-5\" y2=\"0\" stroke=\"#888\" stroke-width=\"1\" opacity=\"1\"/><line transform=\"translate(0,91)\" x2=\"-5\" y2=\"0\" stroke=\"#888\" stroke-width=\"1\" opacity=\"1\"/><line transform=\"translate(0,46)\" x2=\"-5\" y2=\"0\" stroke=\"#888\" stroke-width=\"1\" opacity=\"1\"/><line transform=\"translate(0,0)\" x2=\"-5\" y2=\"0\" stroke=\"#888\" stroke-width=\"1\" opacity=\"1\"/></g><g class=\"mark-text role-axis-label\" pointer-events=\"none\"><text text-anchor=\"end\" transform=\"translate(-7,413)\" font-family=\"sans-serif\" font-size=\"10px\" fill=\"#000\" opacity=\"1\">0</text><text text-anchor=\"end\" transform=\"translate(-7,367.4444444444444)\" font-family=\"sans-serif\" font-size=\"10px\" fill=\"#000\" opacity=\"1\">1</text><text text-anchor=\"end\" transform=\"translate(-7,321.8888888888889)\" font-family=\"sans-serif\" font-size=\"10px\" fill=\"#000\" opacity=\"1\">2</text><text text-anchor=\"end\" transform=\"translate(-7,276.33333333333337)\" font-family=\"sans-serif\" font-size=\"10px\" fill=\"#000\" opacity=\"1\">3</text><text text-anchor=\"end\" transform=\"translate(-7,230.7777777777778)\" font-family=\"sans-serif\" font-size=\"10px\" fill=\"#000\" opacity=\"1\">4</text><text text-anchor=\"end\" transform=\"translate(-7,185.2222222222222)\" font-family=\"sans-serif\" font-size=\"10px\" fill=\"#000\" opacity=\"1\">5</text><text text-anchor=\"end\" transform=\"translate(-7,139.66666666666669)\" font-family=\"sans-serif\" font-size=\"10px\" fill=\"#000\" opacity=\"1\">6</text><text text-anchor=\"end\" transform=\"translate(-7,94.1111111111111)\" font-family=\"sans-serif\" font-size=\"10px\" fill=\"#000\" opacity=\"1\">7</text><text text-anchor=\"end\" transform=\"translate(-7,48.55555555555558)\" font-family=\"sans-serif\" font-size=\"10px\" fill=\"#000\" opacity=\"1\">8</text><text text-anchor=\"end\" transform=\"translate(-7,3)\" font-family=\"sans-serif\" font-size=\"10px\" fill=\"#000\" opacity=\"1\">9</text></g><g class=\"mark-rule role-axis-domain\" pointer-events=\"none\"><line transform=\"translate(0,410)\" x2=\"0\" y2=\"-410\" stroke=\"#888\" stroke-width=\"1\" opacity=\"1\"/></g><g class=\"mark-text role-axis-title\" pointer-events=\"none\"><text text-anchor=\"middle\" transform=\"translate(-17,205) rotate(-90) translate(0,-2)\" font-family=\"sans-serif\" font-size=\"11px\" font-weight=\"bold\" fill=\"#000\" opacity=\"1\">TATM</text></g></g><path class=\"foreground\" aria-hidden=\"true\" d=\"\" pointer-events=\"none\" display=\"none\"/></g></g><g class=\"mark-line role-mark marks\" role=\"graphics-object\" aria-roledescription=\"line mark container\"><path aria-label=\"time (year): 2004; TATM: 0.83\" role=\"graphics-symbol\" aria-roledescription=\"line mark\" d=\"M0,372.18888888888887L7.626233798777686,365.35555555555555L15.254555832440033,331.9713977722703L22.88078963121772,298.87416694233445L30.509111664880066,268.3341147697967L38.13534546365776,241.17871012160867L45.7636674973201,217.5069503597048L53.38990129609778,197.075222392371L61.01822332976013,179.50302339208793L68.64445712853782,164.37917976676835L76.27069092731551,151.31337762318003L83.89692472609319,139.4559036386977L91.52524675975553,128.66489834765403L99.15148055853322,118.796084888122L106.77980259219557,109.71429528536348L114.40603639097326,101.29856766377492L122.0343584246356,93.44366425989513L129.6605922234133,86.05969192654302L137.28891425707565,79.07080259608367L144.91514805585334,72.4135287269854L152.54138185463103,66.03505742366741L160.16761565340872,59.89159926524946L167.79593768707105,53.9469227662769L175.4221714858487,48.171077716159125L183.05049351951106,42.539305361613664L190.67672731828875,39.00871250809251L198.3050493519511,38.78797036894573L205.9312831507288,40.53349666652199L213.55960518439113,43.35934012707876L221.18583898316882,46.690331348761134L228.8120727819465,50.16171706961172L236.4383065807242,53.55045182670321L244.06662861438656,56.7281207493427L251.69286241316425,59.628694075619784L259.3211844468266,62.226484789272746L266.9474182456043,64.52114421489073L274.5757402792666,66.52752053211152L282.2019740780443,68.26887836006463L289.8302961117067,69.77243796764324L297.45652991048433,71.06650954450768L305.0848519441467,72.17871743192343L312.7110857429244,73.1349620693675L320.3394077765867,73.95887436889879L327.96564157536443,74.67159231110914L335.59396360902673,75.29174235131217L343.2201974078044,75.83554534711546L350.84851944146675,76.316992773632L358.47475324024447,76.74805721197075L366.10307527390677,77.13891376320925L373.7293090726845,77.49815777446173L381.35554287146215,77.83301022016242L388.98177667023987,78.14950608360986L396.6100987039022,78.45266371840698L404.2363325026799,78.74663485489005L411.86465453634224,79.03483594993139L419.4908883351199,79.32006216956555L427.11921036878226,79.6045855902985L434.74544416756,79.89023930968355L442.37376620122234,80.17848914094576L450,80.4704944787219\" stroke=\"#4c78a8\" stroke-width=\"2\"/></g><g class=\"mark-group role-title\"><g transform=\"translate(225,-22)\"><path class=\"background\" aria-hidden=\"true\" d=\"M0,0h0v0h0Z\" pointer-events=\"none\"/><g><g class=\"mark-text role-title-text\" role=\"graphics-symbol\" aria-roledescription=\"title\" aria-label=\"Title text 'climatedynamics : TATM'\" pointer-events=\"none\"><text text-anchor=\"middle\" transform=\"translate(0,10)\" font-family=\"sans-serif\" font-size=\"13px\" font-weight=\"bold\" fill=\"#000\" opacity=\"1\">climatedynamics : TATM</text></g></g><path class=\"foreground\" aria-hidden=\"true\" d=\"\" pointer-events=\"none\" display=\"none\"/></g></g></g><path class=\"foreground\" aria-hidden=\"true\" d=\"\" display=\"none\"/></g></g></g></svg>\n",
      "text/plain": [
       "@vlplot(\n",
       "    $schema=\"https://vega.github.io/schema/vega-lite/v3.json\",\n",
       "    height=410,\n",
       "    encoding={\n",
       "        x={\n",
       "            timeUnit=\"utcyear\",\n",
       "            field=\"time\",\n",
       "            type=\"temporal\"\n",
       "        },\n",
       "        y={\n",
       "            field=\"TATM\",\n",
       "            type=\"quantitative\"\n",
       "        }\n",
       "    },\n",
       "    data={\n",
       "        values=JSON.Writer.JSONText(\"[{\\\"time\\\":\\\"2005-01-01\\\",\\\"TATM\\\":\\\"0.83\\\"},{\\\"time\\\":\\\"2015-01-01\\\",\\\"TATM\\\":\\\"0.98\\\"},{\\\"time\\\":\\\"2025-01-01\\\",\\\"TATM\\\":\\\"1.712822975730652\\\"},{\\\"time\\\":\\\"2035-01-01\\\",\\\"TATM\\\":\\\"2.439347554924365\\\"},{\\\"time\\\":\\\"2045-01-01\\\",\\\"TATM\\\":\\\"3.109738944077634\\\"},{\\\"time\\\":\\\"2055-01-01\\\",\\\"TATM\\\":\\\"3.7058331924524923\\\"},{\\\"time\\\":\\\"2065-01-01\\\",\\\"TATM\\\":\\\"4.2254571872259925\\\"},{\\\"time\\\":\\\"2075-01-01\\\",\\\"TATM\\\":\\\"4.673958532850393\\\"},{\\\"time\\\":\\\"2085-01-01\\\",\\\"TATM\\\":\\\"5.059689730417582\\\"},{\\\"time\\\":\\\"2095-01-01\\\",\\\"TATM\\\":\\\"5.391676541705085\\\"},{\\\"time\\\":\\\"2105-01-01\\\",\\\"TATM\\\":\\\"5.678486832661902\\\"},{\\\"time\\\":\\\"2115-01-01\\\",\\\"TATM\\\":\\\"5.938772846955416\\\"},{\\\"time\\\":\\\"2125-01-01\\\",\\\"TATM\\\":\\\"6.175648572856375\\\"},{\\\"time\\\":\\\"2135-01-01\\\",\\\"TATM\\\":\\\"6.392281063431469\\\"},{\\\"time\\\":\\\"2145-01-01\\\",\\\"TATM\\\":\\\"6.591637420565192\\\"},{\\\"time\\\":\\\"2155-01-01\\\",\\\"TATM\\\":\\\"6.776372904941526\\\"},{\\\"time\\\":\\\"2165-01-01\\\",\\\"TATM\\\":\\\"6.94879761380718\\\"},{\\\"time\\\":\\\"2175-01-01\\\",\\\"TATM\\\":\\\"7.110884811368567\\\"},{\\\"time\\\":\\\"2185-01-01\\\",\\\"TATM\\\":\\\"7.26429945520792\\\"},{\\\"time\\\":\\\"2195-01-01\\\",\\\"TATM\\\":\\\"7.410434735261296\\\"},{\\\"time\\\":\\\"2205-01-01\\\",\\\"TATM\\\":\\\"7.550449958992667\\\"},{\\\"time\\\":\\\"2215-01-01\\\",\\\"TATM\\\":\\\"7.6853063575920855\\\"},{\\\"time\\\":\\\"2225-01-01\\\",\\\"TATM\\\":\\\"7.81579925635002\\\"},{\\\"time\\\":\\\"2235-01-01\\\",\\\"TATM\\\":\\\"7.94258609891358\\\"},{\\\"time\\\":\\\"2245-01-01\\\",\\\"TATM\\\":\\\"8.06621037011092\\\"},{\\\"time\\\":\\\"2255-01-01\\\",\\\"TATM\\\":\\\"8.14371118884675\\\"},{\\\"time\\\":\\\"2265-01-01\\\",\\\"TATM\\\":\\\"8.148556747998752\\\"},{\\\"time\\\":\\\"2275-01-01\\\",\\\"TATM\\\":\\\"8.110240317076347\\\"},{\\\"time\\\":\\\"2285-01-01\\\",\\\"TATM\\\":\\\"8.048209606966564\\\"},{\\\"time\\\":\\\"2295-01-01\\\",\\\"TATM\\\":\\\"7.9750902874662195\\\"},{\\\"time\\\":\\\"2305-01-01\\\",\\\"TATM\\\":\\\"7.898889137496328\\\"},{\\\"time\\\":\\\"2315-01-01\\\",\\\"TATM\\\":\\\"7.824502276974807\\\"},{\\\"time\\\":\\\"2325-01-01\\\",\\\"TATM\\\":\\\"7.754748568916868\\\"},{\\\"time\\\":\\\"2335-01-01\\\",\\\"TATM\\\":\\\"7.691077447120541\\\"},{\\\"time\\\":\\\"2345-01-01\\\",\\\"TATM\\\":\\\"7.634052772918403\\\"},{\\\"time\\\":\\\"2355-01-01\\\",\\\"TATM\\\":\\\"7.583682200160935\\\"},{\\\"time\\\":\\\"2365-01-01\\\",\\\"TATM\\\":\\\"7.539639793197552\\\"},{\\\"time\\\":\\\"2375-01-01\\\",\\\"TATM\\\":\\\"7.501414865266874\\\"},{\\\"time\\\":\\\"2385-01-01\\\",\\\"TATM\\\":\\\"7.468409898271246\\\"},{\\\"time\\\":\\\"2395-01-01\\\",\\\"TATM\\\":\\\"7.440003449023002\\\"},{\\\"time\\\":\\\"2405-01-01\\\",\\\"TATM\\\":\\\"7.415589129543144\\\"},{\\\"time\\\":\\\"2415-01-01\\\",\\\"TATM\\\":\\\"7.394598393599249\\\"},{\\\"time\\\":\\\"2425-01-01\\\",\\\"TATM\\\":\\\"7.3765125138534415\\\"},{\\\"time\\\":\\\"2435-01-01\\\",\\\"TATM\\\":\\\"7.360867485853702\\\"},{\\\"time\\\":\\\"2445-01-01\\\",\\\"TATM\\\":\\\"7.347254436190709\\\"},{\\\"time\\\":\\\"2455-01-01\\\",\\\"TATM\\\":\\\"7.335317297258441\\\"},{\\\"time\\\":\\\"2465-01-01\\\",\\\"TATM\\\":\\\"7.324748939115395\\\"},{\\\"time\\\":\\\"2475-01-01\\\",\\\"TATM\\\":\\\"7.3152865490055206\\\"},{\\\"time\\\":\\\"2485-01-01\\\",\\\"TATM\\\":\\\"7.306706771051505\\\"},{\\\"time\\\":\\\"2495-01-01\\\",\\\"TATM\\\":\\\"7.298820926902059\\\"},{\\\"time\\\":\\\"2505-01-01\\\",\\\"TATM\\\":\\\"7.2914705073622885\\\"},{\\\"time\\\":\\\"2515-01-01\\\",\\\"TATM\\\":\\\"7.284523037189052\\\"},{\\\"time\\\":\\\"2525-01-01\\\",\\\"TATM\\\":\\\"7.2778683574008225\\\"},{\\\"time\\\":\\\"2535-01-01\\\",\\\"TATM\\\":\\\"7.271415332453634\\\"},{\\\"time\\\":\\\"2545-01-01\\\",\\\"TATM\\\":\\\"7.265088966952725\\\"},{\\\"time\\\":\\\"2555-01-01\\\",\\\"TATM\\\":\\\"7.258827903594902\\\"},{\\\"time\\\":\\\"2565-01-01\\\",\\\"TATM\\\":\\\"7.252582267530033\\\"},{\\\"time\\\":\\\"2575-01-01\\\",\\\"TATM\\\":\\\"7.246311820031337\\\"},{\\\"time\\\":\\\"2585-01-01\\\",\\\"TATM\\\":\\\"7.239984384710947\\\"},{\\\"time\\\":\\\"2595-01-01\\\",\\\"TATM\\\":\\\"7.23357451144269\\\"}]\")\n",
       "    },\n",
       "    title=\"climatedynamics : TATM\",\n",
       "    width=450,\n",
       "    mark={\n",
       "        type=\"line\"\n",
       "    },\n",
       "    description=\"plot for a specific component variable pair\"\n",
       ")"
      ]
     },
     "execution_count": 34,
     "metadata": {},
     "output_type": "execute_result"
    }
   ],
   "source": [
    "Mimi.plot(m, :climatedynamics, :TATM)\n"
   ]
  }
 ],
 "metadata": {
  "kernelspec": {
   "display_name": "Julia 1.6.1",
   "language": "julia",
   "name": "julia-1.6"
  },
  "language_info": {
   "file_extension": ".jl",
   "mimetype": "application/julia",
   "name": "julia",
   "version": "1.6.1"
  },
  "orig_nbformat": 4
 },
 "nbformat": 4,
 "nbformat_minor": 2
}
