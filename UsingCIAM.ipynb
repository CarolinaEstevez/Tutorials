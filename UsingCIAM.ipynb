{
 "cells": [
  {
   "cell_type": "code",
   "execution_count": 3,
   "metadata": {},
   "outputs": [
    {
     "name": "stderr",
     "output_type": "stream",
     "text": [
      "\u001b[32m\u001b[1m    Updating\u001b[22m\u001b[39m registry at `~/.julia/registries/MimiRegistry`\n",
      "\u001b[32m\u001b[1m    Updating\u001b[22m\u001b[39m git-repo `https://github.com/mimiframework/MimiRegistry.git`\n"
     ]
    },
    {
     "name": "stderr",
     "output_type": "stream",
     "text": [
      "\u001b[32m\u001b[1m    Updating\u001b[22m\u001b[39m registry at `~/.julia/registries/General.toml`\n"
     ]
    },
    {
     "name": "stderr",
     "output_type": "stream",
     "text": [
      "\u001b[32m\u001b[1m   Resolving\u001b[22m\u001b[39m package versions...\n"
     ]
    },
    {
     "name": "stderr",
     "output_type": "stream",
     "text": [
      "\u001b[32m\u001b[1m   Installed\u001b[22m\u001b[39m SentinelArrays ──── v1.3.17\n"
     ]
    },
    {
     "name": "stderr",
     "output_type": "stream",
     "text": [
      "\u001b[32m\u001b[1m   Installed\u001b[22m\u001b[39m HDF5_jll ────────── v1.12.2+2\n",
      "\u001b[32m\u001b[1m   Installed\u001b[22m\u001b[39m NetCDF_jll ──────── v400.902.5+1\n"
     ]
    },
    {
     "name": "stderr",
     "output_type": "stream",
     "text": [
      "\u001b[32m\u001b[1m   Installed\u001b[22m\u001b[39m WorkerUtilities ─── v1.6.1\n",
      "\u001b[32m\u001b[1m   Installed\u001b[22m\u001b[39m Scratch ─────────── v1.1.1\n",
      "\u001b[32m\u001b[1m   Installed\u001b[22m\u001b[39m QueryOperators ──── v0.9.3\n",
      "\u001b[32m\u001b[1m   Installed\u001b[22m\u001b[39m ExprTools ───────── v0.1.8\n"
     ]
    },
    {
     "name": "stderr",
     "output_type": "stream",
     "text": [
      "\u001b[32m\u001b[1m   Installed\u001b[22m\u001b[39m Mocking ─────────── v0.7.5\n"
     ]
    },
    {
     "name": "stderr",
     "output_type": "stream",
     "text": [
      "\u001b[32m\u001b[1m   Installed\u001b[22m\u001b[39m RData ───────────── v0.8.3\n",
      "\u001b[32m\u001b[1m   Installed\u001b[22m\u001b[39m DataDeps ────────── v0.7.10\n",
      "\u001b[32m\u001b[1m   Installed\u001b[22m\u001b[39m NetCDF ──────────── v0.11.7\n",
      "\u001b[32m\u001b[1m   Installed\u001b[22m\u001b[39m CategoricalArrays ─ v0.10.7\n",
      "\u001b[32m\u001b[1m   Installed\u001b[22m\u001b[39m TimeZones ───────── v1.9.1\n"
     ]
    },
    {
     "name": "stderr",
     "output_type": "stream",
     "text": [
      "\u001b[32m\u001b[1m   Installed\u001b[22m\u001b[39m DiskArrays ──────── v0.3.8\n",
      "\u001b[32m\u001b[1m   Installed\u001b[22m\u001b[39m Query ───────────── v1.0.0\n"
     ]
    },
    {
     "name": "stderr",
     "output_type": "stream",
     "text": [
      "\u001b[32m\u001b[1m   Installed\u001b[22m\u001b[39m CSV ─────────────── v0.10.9\n"
     ]
    },
    {
     "name": "stderr",
     "output_type": "stream",
     "text": [
      "\u001b[32m\u001b[1m   Installed\u001b[22m\u001b[39m MimiCIAM ────────── v1.0.0\n"
     ]
    },
    {
     "name": "stderr",
     "output_type": "stream",
     "text": [
      "\u001b[32m\u001b[1m    Updating\u001b[22m\u001b[39m `~/.julia/environments/v1.7/Project.toml`\n",
      " \u001b[90m [b45ee815] \u001b[39m\u001b[92m+ MimiCIAM v1.0.0\u001b[39m\n",
      "\u001b[32m\u001b[1m    Updating\u001b[22m\u001b[39m `~/.julia/environments/v1.7/Manifest.toml`\n",
      " \u001b[90m [336ed68f] \u001b[39m\u001b[92m+ CSV v0.10.9\u001b[39m\n",
      " \u001b[90m [324d7699] \u001b[39m\u001b[92m+ CategoricalArrays v0.10.7\u001b[39m\n",
      " \u001b[90m [124859b0] \u001b[39m\u001b[92m+ DataDeps v0.7.10\u001b[39m\n",
      " \u001b[90m [3c3547ce] \u001b[39m\u001b[92m+ DiskArrays v0.3.8\u001b[39m\n",
      " \u001b[90m [e2ba6199] \u001b[39m\u001b[92m+ ExprTools v0.1.8\u001b[39m\n",
      " \u001b[90m [b45ee815] \u001b[39m\u001b[92m+ MimiCIAM v1.0.0\u001b[39m\n",
      " \u001b[90m [78c3b35d] \u001b[39m\u001b[92m+ Mocking v0.7.5\u001b[39m\n",
      " \u001b[90m [30363a11] \u001b[39m\u001b[92m+ NetCDF v0.11.7\u001b[39m\n",
      " \u001b[90m [1a8c2f83] \u001b[39m\u001b[92m+ Query v1.0.0\u001b[39m\n",
      " \u001b[90m [2aef5ad7] \u001b[39m\u001b[92m+ QueryOperators v0.9.3\u001b[39m\n",
      " \u001b[90m [df47a6cb] \u001b[39m\u001b[92m+ RData v0.8.3\u001b[39m\n",
      " \u001b[90m [6c6a2e73] \u001b[39m\u001b[92m+ Scratch v1.1.1\u001b[39m\n",
      " \u001b[90m [91c51154] \u001b[39m\u001b[92m+ SentinelArrays v1.3.17\u001b[39m\n",
      " \u001b[90m [f269a46b] \u001b[39m\u001b[92m+ TimeZones v1.9.1\u001b[39m\n",
      " \u001b[90m [76eceee3] \u001b[39m\u001b[92m+ WorkerUtilities v1.6.1\u001b[39m\n",
      " \u001b[90m [0234f1f7] \u001b[39m\u001b[92m+ HDF5_jll v1.12.2+2\u001b[39m\n",
      " \u001b[90m [94ce4f54] \u001b[39m\u001b[92m+ Libiconv_jll v1.16.1+2\u001b[39m\n",
      " \u001b[90m [7243133f] \u001b[39m\u001b[92m+ NetCDF_jll v400.902.5+1\u001b[39m\n",
      " \u001b[90m [02c8fc9c] \u001b[39m\u001b[92m+ XML2_jll v2.10.3+0\u001b[39m\n"
     ]
    },
    {
     "name": "stderr",
     "output_type": "stream",
     "text": [
      "\u001b[32m\u001b[1m    Building\u001b[22m\u001b[39m TimeZones → `~/.julia/scratchspaces/44cfe95a-1eb2-52ea-b672-e2afdf69b78f/a92ec4466fc6e3dd704e2668b5e7f24add36d242/build.log`\n"
     ]
    },
    {
     "name": "stderr",
     "output_type": "stream",
     "text": [
      "\u001b[32m\u001b[1mPrecompiling\u001b[22m\u001b[39m project...\n"
     ]
    },
    {
     "name": "stderr",
     "output_type": "stream",
     "text": [
      "\u001b[32m  ✓ \u001b[39m\u001b[90mSentinelArrays\u001b[39m\n"
     ]
    },
    {
     "name": "stderr",
     "output_type": "stream",
     "text": [
      "\u001b[32m  ✓ \u001b[39m\u001b[90mWorkerUtilities\u001b[39m\n"
     ]
    },
    {
     "name": "stderr",
     "output_type": "stream",
     "text": [
      "\u001b[32m  ✓ \u001b[39m\u001b[90mHDF5_jll\u001b[39m\n",
      "\u001b[32m  ✓ \u001b[39m\u001b[90mDiskArrays\u001b[39m\n"
     ]
    },
    {
     "name": "stderr",
     "output_type": "stream",
     "text": [
      "\u001b[32m  ✓ \u001b[39m\u001b[90mLibiconv_jll\u001b[39m\n",
      "\u001b[32m  ✓ \u001b[39m\u001b[90mQueryOperators\u001b[39m\n"
     ]
    },
    {
     "name": "stderr",
     "output_type": "stream",
     "text": [
      "\u001b[32m  ✓ \u001b[39m\u001b[90mDataDeps\u001b[39m\n",
      "\u001b[32m  ✓ \u001b[39m\u001b[90mCategoricalArrays\u001b[39m\n"
     ]
    },
    {
     "name": "stderr",
     "output_type": "stream",
     "text": [
      "\u001b[32m  ✓ \u001b[39m\u001b[90mXML2_jll\u001b[39m\n"
     ]
    },
    {
     "name": "stderr",
     "output_type": "stream",
     "text": [
      "\u001b[32m  ✓ \u001b[39m\u001b[90mQuery\u001b[39m\n"
     ]
    },
    {
     "name": "stderr",
     "output_type": "stream",
     "text": [
      "\u001b[32m  ✓ \u001b[39m\u001b[90mNetCDF_jll\u001b[39m\n"
     ]
    },
    {
     "name": "stderr",
     "output_type": "stream",
     "text": [
      "\u001b[32m  ✓ \u001b[39m\u001b[90mNetCDF\u001b[39m\n"
     ]
    },
    {
     "name": "stderr",
     "output_type": "stream",
     "text": [
      "\u001b[32m  ✓ \u001b[39m\u001b[90mRData\u001b[39m\n"
     ]
    },
    {
     "name": "stderr",
     "output_type": "stream",
     "text": [
      "\u001b[32m  ✓ \u001b[39m\u001b[90mCSV\u001b[39m\n"
     ]
    },
    {
     "name": "stderr",
     "output_type": "stream",
     "text": [
      "\u001b[32m  ✓ \u001b[39mMimiCIAM\n",
      "  15 dependencies successfully precompiled in 20 seconds (119 already precompiled)\n"
     ]
    }
   ],
   "source": [
    "import Pkg; Pkg.add(\"MimiCIAM\")\n"
   ]
  },
  {
   "cell_type": "code",
   "execution_count": 3,
   "metadata": {},
   "outputs": [],
   "source": [
    "using MimiCIAM\n",
    "m = MimiCIAM.get_model()\n",
    "run(m)"
   ]
  },
  {
   "cell_type": "code",
   "execution_count": 4,
   "metadata": {},
   "outputs": [],
   "source": [
    "using Mimi\n",
    "params = Dict{Any, Any}()\n",
    "params[(:slrcost, :mc)]         = 1\n",
    "params[(:slrcost, :discountrate)]   = 0.02\n",
    "\n",
    "update_params!(m, params)\n",
    "run(m)"
   ]
  },
  {
   "cell_type": "code",
   "execution_count": 5,
   "metadata": {},
   "outputs": [
    {
     "name": "stderr",
     "output_type": "stream",
     "text": [
      "┌ Warning: slrcost.Construct has > 2 indexed dimensions, not yet implemented in explorer\n",
      "└ @ Mimi /Users/ce3304/.julia/packages/Mimi/OClro/src/explorer/buildmenu.jl:76\n",
      "┌ Warning: slrcost.StormCapitalProtect has > 2 indexed dimensions, not yet implemented in explorer\n",
      "└ @ Mimi /Users/ce3304/.julia/packages/Mimi/OClro/src/explorer/buildmenu.jl:76\n",
      "┌ Warning: slrcost.StormPopProtect has > 2 indexed dimensions, not yet implemented in explorer\n",
      "└ @ Mimi /Users/ce3304/.julia/packages/Mimi/OClro/src/explorer/buildmenu.jl:76\n",
      "┌ Warning: slrcost.StormLossProtect has > 2 indexed dimensions, not yet implemented in explorer\n",
      "└ @ Mimi /Users/ce3304/.julia/packages/Mimi/OClro/src/explorer/buildmenu.jl:76\n",
      "┌ Warning: slrcost.StormCapitalRetreat has > 2 indexed dimensions, not yet implemented in explorer\n",
      "└ @ Mimi /Users/ce3304/.julia/packages/Mimi/OClro/src/explorer/buildmenu.jl:76\n",
      "┌ Warning: slrcost.StormPopRetreat has > 2 indexed dimensions, not yet implemented in explorer\n",
      "└ @ Mimi /Users/ce3304/.julia/packages/Mimi/OClro/src/explorer/buildmenu.jl:76\n",
      "┌ Warning: slrcost.StormLossRetreat has > 2 indexed dimensions, not yet implemented in explorer\n",
      "└ @ Mimi /Users/ce3304/.julia/packages/Mimi/OClro/src/explorer/buildmenu.jl:76\n",
      "┌ Warning: slrcost.FloodRetreat has > 2 indexed dimensions, not yet implemented in explorer\n",
      "└ @ Mimi /Users/ce3304/.julia/packages/Mimi/OClro/src/explorer/buildmenu.jl:76\n",
      "┌ Warning: slrcost.RelocateRetreat has > 2 indexed dimensions, not yet implemented in explorer\n",
      "└ @ Mimi /Users/ce3304/.julia/packages/Mimi/OClro/src/explorer/buildmenu.jl:76\n",
      "┌ Warning: slrcost.DryLandLossRetreat has > 2 indexed dimensions, not yet implemented in explorer\n",
      "└ @ Mimi /Users/ce3304/.julia/packages/Mimi/OClro/src/explorer/buildmenu.jl:76\n",
      "┌ Warning: slrcost.coastAreaRetreat has > 2 indexed dimensions, not yet implemented in explorer\n",
      "└ @ Mimi /Users/ce3304/.julia/packages/Mimi/OClro/src/explorer/buildmenu.jl:76\n",
      "┌ Warning: slrcost.H has > 2 indexed dimensions, not yet implemented in explorer\n",
      "└ @ Mimi /Users/ce3304/.julia/packages/Mimi/OClro/src/explorer/buildmenu.jl:76\n",
      "┌ Warning: slrcost.R has > 2 indexed dimensions, not yet implemented in explorer\n",
      "└ @ Mimi /Users/ce3304/.julia/packages/Mimi/OClro/src/explorer/buildmenu.jl:76\n",
      "┌ Warning: slrcost.SIGMA has > 2 indexed dimensions, not yet implemented in explorer\n",
      "└ @ Mimi /Users/ce3304/.julia/packages/Mimi/OClro/src/explorer/buildmenu.jl:76\n",
      "┌ Warning: slrcost.ProtectCost has > 2 indexed dimensions, not yet implemented in explorer\n",
      "└ @ Mimi /Users/ce3304/.julia/packages/Mimi/OClro/src/explorer/buildmenu.jl:76\n",
      "┌ Warning: slrcost.RetreatCost has > 2 indexed dimensions, not yet implemented in explorer\n",
      "└ @ Mimi /Users/ce3304/.julia/packages/Mimi/OClro/src/explorer/buildmenu.jl:76\n",
      "┌ Warning: slrcost.NPVRetreat has > 2 indexed dimensions, not yet implemented in explorer\n",
      "└ @ Mimi /Users/ce3304/.julia/packages/Mimi/OClro/src/explorer/buildmenu.jl:76\n",
      "┌ Warning: slrcost.NPVProtect has > 2 indexed dimensions, not yet implemented in explorer\n",
      "└ @ Mimi /Users/ce3304/.julia/packages/Mimi/OClro/src/explorer/buildmenu.jl:76\n"
     ]
    },
    {
     "data": {
      "text/plain": [
       "Electron.Window(Application(Base.PipeEndpoint(RawFD(24) paused, 0 bytes waiting), Process(setenv(`\u001b[4m/Users/ce3304/.julia/artifacts/af89516f228377420737a306e9701ae844eee264/Julia.app/Contents/MacOS/Julia\u001b[24m \u001b[4m/Users/ce3304/.julia/packages/Electron/pOy6n/src/main.js\u001b[24m \u001b[4m/var/folders/t7/fy2lqlxs1mv8209nfcq776m58xvr_f/T/jlel-2d13c81ea73311ed19a633ab2fd1ae8c\u001b[24m \u001b[4m/var/folders/t7/fy2lqlxs1mv8209nfcq776m58xvr_f/T/jlel-sn-2d13f168a73311ed0eb7d9772b711c37\u001b[24m \u001b[4mbpLhIbmDAC157WN8AppfLbqH52RU3j7X7p9QKVMheHrqpAztarEq3jYaslYNvupiGPltmya5kI/f1wbSolv4wCcjR+ARt69UJ1kilVY0r/+/cfABq7tUzEojSS3xCugN5C6T81lhys0EiWupSDzADjFFS4U57P49TyrVdV+Y0K4=\u001b[24m`,[\"VSCODE_CWD=/Users/ce3304\", \"XPC_FLAGS=0x0\", \"COMMAND_MODE=unix2003\", \"CONDA_PROMPT_MODIFIER=(base) \", \"PATH=/Users/aewsma/anaconda3/bin:/Users/aewsma/anaconda3/condabin:/usr/bin:/bin:/usr/sbin:/sbin\", \"PWD=/Users/ce3304\", \"VSCODE_CODE_CACHE_PATH=/Users/ce3304/.anaconda/navigator/Code/CachedData/97dec172d3256f8ca4bfb2143f3f76b503ca0534\", \"VSCODE_HANDLES_UNCAUGHT_ERRORS=true\", \"XPC_SERVICE_NAME=application.com.microsoft.VSCode.152802133.152802359.FA3387CE-DD6E-4399-82A9-88A71F04FFDE\", \"VSCODE_NLS_CONFIG={\\\"locale\\\":\\\"en-us\\\",\\\"availableLanguages\\\":{},\\\"_languagePackSupport\\\":true}\"  …  \"CONDA_DEFAULT_ENV=base\", \"USER=ce3304\", \"CONDA_SHLVL=1\", \"CONDA_EXE=/Users/aewsma/anaconda3/bin/conda\", \"HOME=/Users/ce3304\", \"CONDA_ROOT=/Users/aewsma/anaconda3\", \"ELECTRON_NO_ATTACH_CONSOLE=1\", \"JULIA_NUM_THREADS=\", \"OPENBLAS_MAIN_FREE=1\", \"MLM_LICENSE_FILE=27004@license01.ad.rit.edu:27004@license02.ad.rit.edu:27004@license03.ad.rit.edu\"]), ProcessRunning), [1 window]), 1, true, Channel{Any}(128))"
      ]
     },
     "metadata": {},
     "output_type": "display_data"
    }
   ],
   "source": [
    "explore(m)"
   ]
  }
 ],
 "metadata": {
  "kernelspec": {
   "display_name": "Julia 1.7.3",
   "language": "julia",
   "name": "julia-1.7"
  },
  "language_info": {
   "file_extension": ".jl",
   "mimetype": "application/julia",
   "name": "julia",
   "version": "1.7.3"
  },
  "orig_nbformat": 4
 },
 "nbformat": 4,
 "nbformat_minor": 2
}
