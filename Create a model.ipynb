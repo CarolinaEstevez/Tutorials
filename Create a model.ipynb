{
 "cells": [
  {
   "attachments": {},
   "cell_type": "markdown",
   "metadata": {},
   "source": [
    "Economy component, Contruction of components"
   ]
  },
  {
   "cell_type": "code",
   "execution_count": 2,
   "metadata": {},
   "outputs": [],
   "source": [
    "using Mimi # start by importing the Mimi package to your space\n",
    "\n",
    "@defcomp grosseconomy begin\n",
    "\tYGROSS\t= Variable(index=[time])\t# Gross output\n",
    "\tK\t= Variable(index=[time])\t# Capital\n",
    "\tl\t= Parameter(index=[time])\t# Labor\n",
    "\ttfp\t= Parameter(index=[time])\t# Total factor productivity\n",
    "\ts\t= Parameter(index=[time])\t# Savings rate\n",
    "\tdepk\t= Parameter()\t\t\t# Depreciation rate on capital - Note that it has no time index\n",
    "\tk0\t= Parameter()\t\t\t# Initial level of capital\n",
    "\tshare\t= Parameter()\t\t\t# Capital share\n",
    "\n",
    "\tfunction run_timestep(p, v, d, t)\n",
    "\t\t# Define an equation for K\n",
    "\t\tif is_first(t)\n",
    "\t\t\t# Note the use of v. and p. to distinguish between variables and \n",
    "\t\t\t# parameters\n",
    "\t\t\tv.K[t] \t= p.k0\t\n",
    "\t\telse\n",
    "\t\t\tv.K[t] \t= (1 - p.depk)^5 * v.K[t-1] + v.YGROSS[t-1] * p.s[t-1] * 5\n",
    "\t\tend\n",
    "\n",
    "\t\t# Define an equation for YGROSS\n",
    "\t\tv.YGROSS[t] = p.tfp[t] * v.K[t]^p.share * p.l[t]^(1-p.share)\n",
    "\tend\n",
    "end\n"
   ]
  },
  {
   "attachments": {},
   "cell_type": "markdown",
   "metadata": {},
   "source": [
    "Component for greenhouse gas emission"
   ]
  },
  {
   "cell_type": "code",
   "execution_count": 3,
   "metadata": {},
   "outputs": [],
   "source": [
    "@defcomp emissions begin\n",
    "\tE\t= Variable(index=[time])\t# Total greenhouse gas emissions\n",
    "\tsigma\t= Parameter(index=[time])\t# Emissions output ratio\n",
    "\tYGROSS\t= Parameter(index=[time])\t# Gross output - Note that YGROSS is now a parameter\n",
    "\n",
    "\tfunction run_timestep(p, v, d, t)\n",
    "\n",
    "\t# Define an equation for E\n",
    "\tv.E[t] = p.YGROSS[t] * p.sigma[t]\t# Note the p. in front of YGROSS\n",
    "\tend\n",
    "end"
   ]
  },
  {
   "attachments": {},
   "cell_type": "markdown",
   "metadata": {},
   "source": [
    "Construct the model using Mimi"
   ]
  },
  {
   "cell_type": "code",
   "execution_count": 4,
   "metadata": {},
   "outputs": [
    {
     "data": {
      "text/plain": [
       "construct_model (generic function with 1 method)"
      ]
     },
     "execution_count": 4,
     "metadata": {},
     "output_type": "execute_result"
    }
   ],
   "source": [
    "\n",
    "using Mimi\n",
    "\n",
    "function construct_model()\n",
    "\tm = Model()\n",
    "\n",
    "\tset_dimension!(m, :time, collect(2015:5:2110))\n",
    "\n",
    "\t# Order matters here. If the emissions component were defined first, the model would not run.\n",
    "\tadd_comp!(m, grosseconomy)  \n",
    "\tadd_comp!(m, emissions)\n",
    "\n",
    "\t# Update parameters for the grosseconomy component\n",
    "\tupdate_param!(m, :grosseconomy, :l, [(1. + 0.015)^t *6404 for t in 1:20])\n",
    "\tupdate_param!(m, :grosseconomy, :tfp, [(1 + 0.065)^t * 3.57 for t in 1:20])\n",
    "\tupdate_param!(m, :grosseconomy, :s, ones(20).* 0.22)\n",
    "\tupdate_param!(m, :grosseconomy, :depk, 0.1)\n",
    "\tupdate_param!(m, :grosseconomy, :k0, 130.)\n",
    "\tupdate_param!(m, :grosseconomy, :share, 0.3)\n",
    "\n",
    "\t# Update parameters for the emissions component\n",
    "\tupdate_param!(m, :emissions, :sigma, [(1. - 0.05)^t *0.58 for t in 1:20])\n",
    "\t\n",
    "\t# connect parameters for the emissions component\n",
    "\tconnect_param!(m, :emissions, :YGROSS, :grosseconomy, :YGROSS)  \n",
    "\n",
    "\treturn m\n",
    "\n",
    "end #end function"
   ]
  },
  {
   "attachments": {},
   "cell_type": "markdown",
   "metadata": {},
   "source": [
    "Run the model"
   ]
  },
  {
   "cell_type": "code",
   "execution_count": 5,
   "metadata": {},
   "outputs": [
    {
     "data": {
      "text/html": [
       "<div><div style = \"float: left;\"><span>20×2 DataFrame</span></div><div style = \"clear: both;\"></div></div><div class = \"data-frame\" style = \"overflow-x: scroll;\"><table class = \"data-frame\" style = \"margin-bottom: 6px;\"><thead><tr class = \"header\"><th class = \"rowNumber\" style = \"font-weight: bold; text-align: right;\">Row</th><th style = \"text-align: left;\">time</th><th style = \"text-align: left;\">E</th></tr><tr class = \"subheader headerLastRow\"><th class = \"rowNumber\" style = \"font-weight: bold; text-align: right;\"></th><th title = \"Int64\" style = \"text-align: left;\">Int64</th><th title = \"Union{Missing, Float64}\" style = \"text-align: left;\">Float64?</th></tr></thead><tbody><tr><td class = \"rowNumber\" style = \"font-weight: bold; text-align: right;\">1</td><td style = \"text-align: right;\">2015</td><td style = \"text-align: right;\">4211.09</td></tr><tr><td class = \"rowNumber\" style = \"font-weight: bold; text-align: right;\">2</td><td style = \"text-align: right;\">2020</td><td style = \"text-align: right;\">15079.5</td></tr><tr><td class = \"rowNumber\" style = \"font-weight: bold; text-align: right;\">3</td><td style = \"text-align: right;\">2025</td><td style = \"text-align: right;\">23922.3</td></tr><tr><td class = \"rowNumber\" style = \"font-weight: bold; text-align: right;\">4</td><td style = \"text-align: right;\">2030</td><td style = \"text-align: right;\">30255.8</td></tr><tr><td class = \"rowNumber\" style = \"font-weight: bold; text-align: right;\">5</td><td style = \"text-align: right;\">2035</td><td style = \"text-align: right;\">35175.7</td></tr><tr><td class = \"rowNumber\" style = \"font-weight: bold; text-align: right;\">6</td><td style = \"text-align: right;\">2040</td><td style = \"text-align: right;\">39293.0</td></tr><tr><td class = \"rowNumber\" style = \"font-weight: bold; text-align: right;\">7</td><td style = \"text-align: right;\">2045</td><td style = \"text-align: right;\">42947.7</td></tr><tr><td class = \"rowNumber\" style = \"font-weight: bold; text-align: right;\">8</td><td style = \"text-align: right;\">2050</td><td style = \"text-align: right;\">46344.9</td></tr><tr><td class = \"rowNumber\" style = \"font-weight: bold; text-align: right;\">9</td><td style = \"text-align: right;\">2055</td><td style = \"text-align: right;\">49617.2</td></tr><tr><td class = \"rowNumber\" style = \"font-weight: bold; text-align: right;\">10</td><td style = \"text-align: right;\">2060</td><td style = \"text-align: right;\">52854.3</td></tr><tr><td class = \"rowNumber\" style = \"font-weight: bold; text-align: right;\">11</td><td style = \"text-align: right;\">2065</td><td style = \"text-align: right;\">56119.7</td></tr><tr><td class = \"rowNumber\" style = \"font-weight: bold; text-align: right;\">12</td><td style = \"text-align: right;\">2070</td><td style = \"text-align: right;\">59459.6</td></tr><tr><td class = \"rowNumber\" style = \"font-weight: bold; text-align: right;\">13</td><td style = \"text-align: right;\">2075</td><td style = \"text-align: right;\">62909.4</td></tr><tr><td class = \"rowNumber\" style = \"font-weight: bold; text-align: right;\">14</td><td style = \"text-align: right;\">2080</td><td style = \"text-align: right;\">66496.9</td></tr><tr><td class = \"rowNumber\" style = \"font-weight: bold; text-align: right;\">15</td><td style = \"text-align: right;\">2085</td><td style = \"text-align: right;\">70244.9</td></tr><tr><td class = \"rowNumber\" style = \"font-weight: bold; text-align: right;\">16</td><td style = \"text-align: right;\">2090</td><td style = \"text-align: right;\">74173.1</td></tr><tr><td class = \"rowNumber\" style = \"font-weight: bold; text-align: right;\">17</td><td style = \"text-align: right;\">2095</td><td style = \"text-align: right;\">78299.0</td></tr><tr><td class = \"rowNumber\" style = \"font-weight: bold; text-align: right;\">18</td><td style = \"text-align: right;\">2100</td><td style = \"text-align: right;\">82638.8</td></tr><tr><td class = \"rowNumber\" style = \"font-weight: bold; text-align: right;\">19</td><td style = \"text-align: right;\">2105</td><td style = \"text-align: right;\">87208.1</td></tr><tr><td class = \"rowNumber\" style = \"font-weight: bold; text-align: right;\">20</td><td style = \"text-align: right;\">2110</td><td style = \"text-align: right;\">92022.3</td></tr></tbody></table></div>"
      ],
      "text/latex": [
       "\\begin{tabular}{r|cc}\n",
       "\t& time & E\\\\\n",
       "\t\\hline\n",
       "\t& Int64 & Float64?\\\\\n",
       "\t\\hline\n",
       "\t1 & 2015 & 4211.09 \\\\\n",
       "\t2 & 2020 & 15079.5 \\\\\n",
       "\t3 & 2025 & 23922.3 \\\\\n",
       "\t4 & 2030 & 30255.8 \\\\\n",
       "\t5 & 2035 & 35175.7 \\\\\n",
       "\t6 & 2040 & 39293.0 \\\\\n",
       "\t7 & 2045 & 42947.7 \\\\\n",
       "\t8 & 2050 & 46344.9 \\\\\n",
       "\t9 & 2055 & 49617.2 \\\\\n",
       "\t10 & 2060 & 52854.3 \\\\\n",
       "\t11 & 2065 & 56119.7 \\\\\n",
       "\t12 & 2070 & 59459.6 \\\\\n",
       "\t13 & 2075 & 62909.4 \\\\\n",
       "\t14 & 2080 & 66496.9 \\\\\n",
       "\t15 & 2085 & 70244.9 \\\\\n",
       "\t16 & 2090 & 74173.1 \\\\\n",
       "\t17 & 2095 & 78299.0 \\\\\n",
       "\t18 & 2100 & 82638.8 \\\\\n",
       "\t19 & 2105 & 87208.1 \\\\\n",
       "\t20 & 2110 & 92022.3 \\\\\n",
       "\\end{tabular}\n"
      ],
      "text/plain": [
       "\u001b[1m20×2 DataFrame\u001b[0m\n",
       "\u001b[1m Row \u001b[0m│\u001b[1m time  \u001b[0m\u001b[1m E        \u001b[0m\n",
       "     │\u001b[90m Int64 \u001b[0m\u001b[90m Float64? \u001b[0m\n",
       "─────┼─────────────────\n",
       "   1 │  2015   4211.09\n",
       "   2 │  2020  15079.5\n",
       "   3 │  2025  23922.3\n",
       "   4 │  2030  30255.8\n",
       "   5 │  2035  35175.7\n",
       "   6 │  2040  39293.0\n",
       "   7 │  2045  42947.7\n",
       "   8 │  2050  46344.9\n",
       "   9 │  2055  49617.2\n",
       "  10 │  2060  52854.3\n",
       "  11 │  2065  56119.7\n",
       "  12 │  2070  59459.6\n",
       "  13 │  2075  62909.4\n",
       "  14 │  2080  66496.9\n",
       "  15 │  2085  70244.9\n",
       "  16 │  2090  74173.1\n",
       "  17 │  2095  78299.0\n",
       "  18 │  2100  82638.8\n",
       "  19 │  2105  87208.1\n",
       "  20 │  2110  92022.3"
      ]
     },
     "execution_count": 5,
     "metadata": {},
     "output_type": "execute_result"
    }
   ],
   "source": [
    "# Run model\n",
    "m = construct_model()\n",
    "run(m)\n",
    "\n",
    "# Check model results\n",
    "getdataframe(m, :emissions, :E) # or m[:emissions, :E_Global] to return just the Array"
   ]
  },
  {
   "cell_type": "code",
   "execution_count": 8,
   "metadata": {},
   "outputs": [
    {
     "data": {
      "application/vnd.vegalite.v4+json": {
       "$schema": "https://vega.github.io/schema/vega-lite/v3.json",
       "data": {
        "values": [
         {
          "E": "4211.090591062387",
          "time": "2015-01-01"
         },
         {
          "E": "15079.467021779814",
          "time": "2020-01-01"
         },
         {
          "E": "23922.34250656177",
          "time": "2025-01-01"
         },
         {
          "E": "30255.835991903466",
          "time": "2030-01-01"
         },
         {
          "E": "35175.69763623216",
          "time": "2035-01-01"
         },
         {
          "E": "39293.007327689294",
          "time": "2040-01-01"
         },
         {
          "E": "42947.659714791596",
          "time": "2045-01-01"
         },
         {
          "E": "46344.92375399115",
          "time": "2050-01-01"
         },
         {
          "E": "49617.22023134532",
          "time": "2055-01-01"
         },
         {
          "E": "52854.33568269569",
          "time": "2060-01-01"
         },
         {
          "E": "56119.657629233516",
          "time": "2065-01-01"
         },
         {
          "E": "59459.60027273144",
          "time": "2070-01-01"
         },
         {
          "E": "62909.41007665139",
          "time": "2075-01-01"
         },
         {
          "E": "66496.902005524",
          "time": "2080-01-01"
         },
         {
          "E": "70244.9426237597",
          "time": "2085-01-01"
         },
         {
          "E": "74173.13994450058",
          "time": "2090-01-01"
         },
         {
          "E": "78299.0143500136",
          "time": "2095-01-01"
         },
         {
          "E": "82638.82192356508",
          "time": "2100-01-01"
         },
         {
          "E": "87208.1411195294",
          "time": "2105-01-01"
         },
         {
          "E": "92022.29655492865",
          "time": "2110-01-01"
         }
        ]
       },
       "description": "plot for a specific component variable pair",
       "encoding": {
        "x": {
         "field": "time",
         "timeUnit": "utcyear",
         "type": "temporal"
        },
        "y": {
         "field": "E",
         "type": "quantitative"
        }
       },
       "height": 410,
       "mark": {
        "type": "line"
       },
       "title": "emissions : E",
       "width": 450
      },
      "image/png": "[encoded data removed]",
      "image/svg+xml": "<?xml version=\"1.0\" encoding=\"utf-8\"?>\n<!DOCTYPE svg PUBLIC \"-//W3C//DTD SVG 1.1//EN\" \"http://www.w3.org/Graphics/SVG/1.1/DTD/svg11.dtd\">\n<svg xmlns=\"http://www.w3.org/2000/svg\" xmlns:xlink=\"http://www.w3.org/1999/xlink\" version=\"1.1\" class=\"marks\" width=\"523\" height=\"474\" viewBox=\"0 0 523 474\"><rect width=\"523\" height=\"474\" fill=\"white\"/><g fill=\"none\" stroke-miterlimit=\"10\" transform=\"translate(66,27)\"><g class=\"mark-group role-frame root\" role=\"graphics-object\" aria-roledescription=\"group mark container\"><g transform=\"translate(0,0)\"><path class=\"background\" aria-hidden=\"true\" d=\"M0.5,0.5h450v410h-450Z\" stroke=\"#ddd\"/><g><g class=\"mark-group role-axis\" aria-hidden=\"true\"><g transform=\"translate(0.5,410.5)\"><path class=\"background\" aria-hidden=\"true\" d=\"M0,0h0v0h0Z\" pointer-events=\"none\"/><g><g class=\"mark-rule role-axis-grid\" pointer-events=\"none\"><line transform=\"translate(24,-410)\" x2=\"0\" y2=\"410\" stroke=\"#ddd\" stroke-width=\"1\" opacity=\"1\"/><line transform=\"translate(71,-410)\" x2=\"0\" y2=\"410\" stroke=\"#ddd\" stroke-width=\"1\" opacity=\"1\"/><line transform=\"translate(118,-410)\" x2=\"0\" y2=\"410\" stroke=\"#ddd\" stroke-width=\"1\" opacity=\"1\"/><line transform=\"translate(166,-410)\" x2=\"0\" y2=\"410\" stroke=\"#ddd\" stroke-width=\"1\" opacity=\"1\"/><line transform=\"translate(213,-410)\" x2=\"0\" y2=\"410\" stroke=\"#ddd\" stroke-width=\"1\" opacity=\"1\"/><line transform=\"translate(261,-410)\" x2=\"0\" y2=\"410\" stroke=\"#ddd\" stroke-width=\"1\" opacity=\"1\"/><line transform=\"translate(308,-410)\" x2=\"0\" y2=\"410\" stroke=\"#ddd\" stroke-width=\"1\" opacity=\"1\"/><line transform=\"translate(355,-410)\" x2=\"0\" y2=\"410\" stroke=\"#ddd\" stroke-width=\"1\" opacity=\"1\"/><line transform=\"translate(403,-410)\" x2=\"0\" y2=\"410\" stroke=\"#ddd\" stroke-width=\"1\" opacity=\"1\"/><line transform=\"translate(450,-410)\" x2=\"0\" y2=\"410\" stroke=\"#ddd\" stroke-width=\"1\" opacity=\"1\"/></g></g><path class=\"foreground\" aria-hidden=\"true\" d=\"\" pointer-events=\"none\" display=\"none\"/></g></g><g class=\"mark-group role-axis\" aria-hidden=\"true\"><g transform=\"translate(0.5,0.5)\"><path class=\"background\" aria-hidden=\"true\" d=\"M0,0h0v0h0Z\" pointer-events=\"none\"/><g><g class=\"mark-rule role-axis-grid\" pointer-events=\"none\"><line transform=\"translate(0,410)\" x2=\"450\" y2=\"0\" stroke=\"#ddd\" stroke-width=\"1\" opacity=\"1\"/><line transform=\"translate(0,369)\" x2=\"450\" y2=\"0\" stroke=\"#ddd\" stroke-width=\"1\" opacity=\"1\"/><line transform=\"translate(0,328)\" x2=\"450\" y2=\"0\" stroke=\"#ddd\" stroke-width=\"1\" opacity=\"1\"/><line transform=\"translate(0,287)\" x2=\"450\" y2=\"0\" stroke=\"#ddd\" stroke-width=\"1\" opacity=\"1\"/><line transform=\"translate(0,246)\" x2=\"450\" y2=\"0\" stroke=\"#ddd\" stroke-width=\"1\" opacity=\"1\"/><line transform=\"translate(0,205)\" x2=\"450\" y2=\"0\" stroke=\"#ddd\" stroke-width=\"1\" opacity=\"1\"/><line transform=\"translate(0,164)\" x2=\"450\" y2=\"0\" stroke=\"#ddd\" stroke-width=\"1\" opacity=\"1\"/><line transform=\"translate(0,123)\" x2=\"450\" y2=\"0\" stroke=\"#ddd\" stroke-width=\"1\" opacity=\"1\"/><line transform=\"translate(0,82)\" x2=\"450\" y2=\"0\" stroke=\"#ddd\" stroke-width=\"1\" opacity=\"1\"/><line transform=\"translate(0,41)\" x2=\"450\" y2=\"0\" stroke=\"#ddd\" stroke-width=\"1\" opacity=\"1\"/><line transform=\"translate(0,0)\" x2=\"450\" y2=\"0\" stroke=\"#ddd\" stroke-width=\"1\" opacity=\"1\"/></g></g><path class=\"foreground\" aria-hidden=\"true\" d=\"\" pointer-events=\"none\" display=\"none\"/></g></g><g class=\"mark-group role-axis\" role=\"graphics-symbol\" aria-roledescription=\"axis\" aria-label=\"X-axis titled 'time (year)' for a utc scale with values from 2015 to 2110\"><g transform=\"translate(0.5,410.5)\"><path class=\"background\" aria-hidden=\"true\" d=\"M0,0h0v0h0Z\" pointer-events=\"none\"/><g><g class=\"mark-rule role-axis-tick\" pointer-events=\"none\"><line transform=\"translate(24,0)\" x2=\"0\" y2=\"5\" stroke=\"#888\" stroke-width=\"1\" opacity=\"1\"/><line transform=\"translate(71,0)\" x2=\"0\" y2=\"5\" stroke=\"#888\" stroke-width=\"1\" opacity=\"1\"/><line transform=\"translate(118,0)\" x2=\"0\" y2=\"5\" stroke=\"#888\" stroke-width=\"1\" opacity=\"1\"/><line transform=\"translate(166,0)\" x2=\"0\" y2=\"5\" stroke=\"#888\" stroke-width=\"1\" opacity=\"1\"/><line transform=\"translate(213,0)\" x2=\"0\" y2=\"5\" stroke=\"#888\" stroke-width=\"1\" opacity=\"1\"/><line transform=\"translate(261,0)\" x2=\"0\" y2=\"5\" stroke=\"#888\" stroke-width=\"1\" opacity=\"1\"/><line transform=\"translate(308,0)\" x2=\"0\" y2=\"5\" stroke=\"#888\" stroke-width=\"1\" opacity=\"1\"/><line transform=\"translate(355,0)\" x2=\"0\" y2=\"5\" stroke=\"#888\" stroke-width=\"1\" opacity=\"1\"/><line transform=\"translate(403,0)\" x2=\"0\" y2=\"5\" stroke=\"#888\" stroke-width=\"1\" opacity=\"1\"/><line transform=\"translate(450,0)\" x2=\"0\" y2=\"5\" stroke=\"#888\" stroke-width=\"1\" opacity=\"1\"/></g><g class=\"mark-text role-axis-label\" pointer-events=\"none\"><text text-anchor=\"middle\" transform=\"translate(23.68148020058793,15)\" font-family=\"sans-serif\" font-size=\"10px\" fill=\"#000\" opacity=\"1\">2020</text><text text-anchor=\"middle\" transform=\"translate(71.05740964897113,15)\" font-family=\"sans-serif\" font-size=\"10px\" fill=\"#000\" opacity=\"1\">2030</text><text text-anchor=\"middle\" transform=\"translate(118.42037005014699,15)\" font-family=\"sans-serif\" font-size=\"10px\" fill=\"#000\" opacity=\"1\">2040</text><text text-anchor=\"middle\" transform=\"translate(165.79629949853017,15)\" font-family=\"sans-serif\" font-size=\"10px\" fill=\"#000\" opacity=\"1\">2050</text><text text-anchor=\"middle\" transform=\"translate(213.15925989970606,15)\" font-family=\"sans-serif\" font-size=\"10px\" fill=\"#000\" opacity=\"1\">2060</text><text text-anchor=\"middle\" transform=\"translate(260.53518934808926,15)\" font-family=\"sans-serif\" font-size=\"10px\" fill=\"#000\" opacity=\"1\">2070</text><text text-anchor=\"middle\" transform=\"translate(307.8981497492651,15)\" font-family=\"sans-serif\" font-size=\"10px\" fill=\"#000\" opacity=\"1\">2080</text><text text-anchor=\"middle\" transform=\"translate(355.2740791976483,15)\" font-family=\"sans-serif\" font-size=\"10px\" fill=\"#000\" opacity=\"1\">2090</text><text text-anchor=\"middle\" transform=\"translate(402.6370395988241,15)\" font-family=\"sans-serif\" font-size=\"10px\" fill=\"#000\" opacity=\"1\">2100</text><text text-anchor=\"end\" transform=\"translate(450,15)\" font-family=\"sans-serif\" font-size=\"10px\" fill=\"#000\" opacity=\"1\">2110</text></g><g class=\"mark-rule role-axis-domain\" pointer-events=\"none\"><line transform=\"translate(0,0)\" x2=\"450\" y2=\"0\" stroke=\"#888\" stroke-width=\"1\" opacity=\"1\"/></g><g class=\"mark-text role-axis-title\" pointer-events=\"none\"><text text-anchor=\"middle\" transform=\"translate(225,30)\" font-family=\"sans-serif\" font-size=\"11px\" font-weight=\"bold\" fill=\"#000\" opacity=\"1\">time (year)</text></g></g><path class=\"foreground\" aria-hidden=\"true\" d=\"\" pointer-events=\"none\" display=\"none\"/></g></g><g class=\"mark-group role-axis\" role=\"graphics-symbol\" aria-roledescription=\"axis\" aria-label=\"Y-axis titled 'E' for a linear scale with values from 0 to 100,000\"><g transform=\"translate(0.5,0.5)\"><path class=\"background\" aria-hidden=\"true\" d=\"M0,0h0v0h0Z\" pointer-events=\"none\"/><g><g class=\"mark-rule role-axis-tick\" pointer-events=\"none\"><line transform=\"translate(0,410)\" x2=\"-5\" y2=\"0\" stroke=\"#888\" stroke-width=\"1\" opacity=\"1\"/><line transform=\"translate(0,369)\" x2=\"-5\" y2=\"0\" stroke=\"#888\" stroke-width=\"1\" opacity=\"1\"/><line transform=\"translate(0,328)\" x2=\"-5\" y2=\"0\" stroke=\"#888\" stroke-width=\"1\" opacity=\"1\"/><line transform=\"translate(0,287)\" x2=\"-5\" y2=\"0\" stroke=\"#888\" stroke-width=\"1\" opacity=\"1\"/><line transform=\"translate(0,246)\" x2=\"-5\" y2=\"0\" stroke=\"#888\" stroke-width=\"1\" opacity=\"1\"/><line transform=\"translate(0,205)\" x2=\"-5\" y2=\"0\" stroke=\"#888\" stroke-width=\"1\" opacity=\"1\"/><line transform=\"translate(0,164)\" x2=\"-5\" y2=\"0\" stroke=\"#888\" stroke-width=\"1\" opacity=\"1\"/><line transform=\"translate(0,123)\" x2=\"-5\" y2=\"0\" stroke=\"#888\" stroke-width=\"1\" opacity=\"1\"/><line transform=\"translate(0,82)\" x2=\"-5\" y2=\"0\" stroke=\"#888\" stroke-width=\"1\" opacity=\"1\"/><line transform=\"translate(0,41)\" x2=\"-5\" y2=\"0\" stroke=\"#888\" stroke-width=\"1\" opacity=\"1\"/><line transform=\"translate(0,0)\" x2=\"-5\" y2=\"0\" stroke=\"#888\" stroke-width=\"1\" opacity=\"1\"/></g><g class=\"mark-text role-axis-label\" pointer-events=\"none\"><text text-anchor=\"end\" transform=\"translate(-7,413)\" font-family=\"sans-serif\" font-size=\"10px\" fill=\"#000\" opacity=\"1\">0</text><text text-anchor=\"end\" transform=\"translate(-7,372)\" font-family=\"sans-serif\" font-size=\"10px\" fill=\"#000\" opacity=\"1\">10,000</text><text text-anchor=\"end\" transform=\"translate(-7,331)\" font-family=\"sans-serif\" font-size=\"10px\" fill=\"#000\" opacity=\"1\">20,000</text><text text-anchor=\"end\" transform=\"translate(-7,290)\" font-family=\"sans-serif\" font-size=\"10px\" fill=\"#000\" opacity=\"1\">30,000</text><text text-anchor=\"end\" transform=\"translate(-7,249)\" font-family=\"sans-serif\" font-size=\"10px\" fill=\"#000\" opacity=\"1\">40,000</text><text text-anchor=\"end\" transform=\"translate(-7,208)\" font-family=\"sans-serif\" font-size=\"10px\" fill=\"#000\" opacity=\"1\">50,000</text><text text-anchor=\"end\" transform=\"translate(-7,167)\" font-family=\"sans-serif\" font-size=\"10px\" fill=\"#000\" opacity=\"1\">60,000</text><text text-anchor=\"end\" transform=\"translate(-7,126.00000000000001)\" font-family=\"sans-serif\" font-size=\"10px\" fill=\"#000\" opacity=\"1\">70,000</text><text text-anchor=\"end\" transform=\"translate(-7,84.99999999999999)\" font-family=\"sans-serif\" font-size=\"10px\" fill=\"#000\" opacity=\"1\">80,000</text><text text-anchor=\"end\" transform=\"translate(-7,43.99999999999999)\" font-family=\"sans-serif\" font-size=\"10px\" fill=\"#000\" opacity=\"1\">90,000</text><text text-anchor=\"end\" transform=\"translate(-7,3)\" font-family=\"sans-serif\" font-size=\"10px\" fill=\"#000\" opacity=\"1\">100,000</text></g><g class=\"mark-rule role-axis-domain\" pointer-events=\"none\"><line transform=\"translate(0,410)\" x2=\"0\" y2=\"-410\" stroke=\"#888\" stroke-width=\"1\" opacity=\"1\"/></g><g class=\"mark-text role-axis-title\" pointer-events=\"none\"><text text-anchor=\"middle\" transform=\"translate(-50,205) rotate(-90) translate(0,-2)\" font-family=\"sans-serif\" font-size=\"11px\" font-weight=\"bold\" fill=\"#000\" opacity=\"1\">E</text></g></g><path class=\"foreground\" aria-hidden=\"true\" d=\"\" pointer-events=\"none\" display=\"none\"/></g></g><g class=\"mark-line role-mark marks\" role=\"graphics-object\" aria-roledescription=\"line mark container\"><path aria-label=\"time (year): 2014; E: 4211.09059106\" role=\"graphics-symbol\" aria-roledescription=\"line mark\" d=\"M0,392.7345285766442L23.68148020058793,348.1741852107028L47.3759294483832,311.91839572309675L71.05740964897113,285.9510724331958L94.73888984955906,265.77963969144815L118.42037005014699,248.89866995647387L142.11481929794226,233.91459516935444L165.79629949853017,219.98581260863628L189.47777969911812,206.5693970514842L213.15925989970606,193.29722370094768L236.8537091475013,179.90940372014262L260.53518934808926,166.2156388818011L284.21666954867715,152.07141868572933L307.8981497492651,137.36270177735162L331.59259899706035,121.99573524258518L355.2740791976483,105.89012622754764L378.95555939823623,88.97404116494421L402.6370395988241,71.1808301133832L426.3185197994121,52.44662140992945L450,32.70858412479253\" stroke=\"#4c78a8\" stroke-width=\"2\"/></g><g class=\"mark-group role-title\"><g transform=\"translate(225,-22)\"><path class=\"background\" aria-hidden=\"true\" d=\"M0,0h0v0h0Z\" pointer-events=\"none\"/><g><g class=\"mark-text role-title-text\" role=\"graphics-symbol\" aria-roledescription=\"title\" aria-label=\"Title text 'emissions : E'\" pointer-events=\"none\"><text text-anchor=\"middle\" transform=\"translate(0,10)\" font-family=\"sans-serif\" font-size=\"13px\" font-weight=\"bold\" fill=\"#000\" opacity=\"1\">emissions : E</text></g></g><path class=\"foreground\" aria-hidden=\"true\" d=\"\" pointer-events=\"none\" display=\"none\"/></g></g></g><path class=\"foreground\" aria-hidden=\"true\" d=\"\" display=\"none\"/></g></g></g></svg>\n",
      "text/plain": [
       "@vlplot(\n",
       "    $schema=\"https://vega.github.io/schema/vega-lite/v3.json\",\n",
       "    height=410,\n",
       "    encoding={\n",
       "        x={\n",
       "            timeUnit=\"utcyear\",\n",
       "            field=\"time\",\n",
       "            type=\"temporal\"\n",
       "        },\n",
       "        y={\n",
       "            field=\"E\",\n",
       "            type=\"quantitative\"\n",
       "        }\n",
       "    },\n",
       "    data={\n",
       "        values=JSON.Writer.JSONText(\"[{\\\"time\\\":\\\"2015-01-01\\\",\\\"E\\\":\\\"4211.090591062387\\\"},{\\\"time\\\":\\\"2020-01-01\\\",\\\"E\\\":\\\"15079.467021779814\\\"},{\\\"time\\\":\\\"2025-01-01\\\",\\\"E\\\":\\\"23922.34250656177\\\"},{\\\"time\\\":\\\"2030-01-01\\\",\\\"E\\\":\\\"30255.835991903466\\\"},{\\\"time\\\":\\\"2035-01-01\\\",\\\"E\\\":\\\"35175.69763623216\\\"},{\\\"time\\\":\\\"2040-01-01\\\",\\\"E\\\":\\\"39293.007327689294\\\"},{\\\"time\\\":\\\"2045-01-01\\\",\\\"E\\\":\\\"42947.659714791596\\\"},{\\\"time\\\":\\\"2050-01-01\\\",\\\"E\\\":\\\"46344.92375399115\\\"},{\\\"time\\\":\\\"2055-01-01\\\",\\\"E\\\":\\\"49617.22023134532\\\"},{\\\"time\\\":\\\"2060-01-01\\\",\\\"E\\\":\\\"52854.33568269569\\\"},{\\\"time\\\":\\\"2065-01-01\\\",\\\"E\\\":\\\"56119.657629233516\\\"},{\\\"time\\\":\\\"2070-01-01\\\",\\\"E\\\":\\\"59459.60027273144\\\"},{\\\"time\\\":\\\"2075-01-01\\\",\\\"E\\\":\\\"62909.41007665139\\\"},{\\\"time\\\":\\\"2080-01-01\\\",\\\"E\\\":\\\"66496.902005524\\\"},{\\\"time\\\":\\\"2085-01-01\\\",\\\"E\\\":\\\"70244.9426237597\\\"},{\\\"time\\\":\\\"2090-01-01\\\",\\\"E\\\":\\\"74173.13994450058\\\"},{\\\"time\\\":\\\"2095-01-01\\\",\\\"E\\\":\\\"78299.0143500136\\\"},{\\\"time\\\":\\\"2100-01-01\\\",\\\"E\\\":\\\"82638.82192356508\\\"},{\\\"time\\\":\\\"2105-01-01\\\",\\\"E\\\":\\\"87208.1411195294\\\"},{\\\"time\\\":\\\"2110-01-01\\\",\\\"E\\\":\\\"92022.29655492865\\\"}]\")\n",
       "    },\n",
       "    title=\"emissions : E\",\n",
       "    width=450,\n",
       "    mark={\n",
       "        type=\"line\"\n",
       "    },\n",
       "    description=\"plot for a specific component variable pair\"\n",
       ")"
      ]
     },
     "execution_count": 8,
     "metadata": {},
     "output_type": "execute_result"
    }
   ],
   "source": [
    "# Plot model results\n",
    "Mimi.plot(m, :emissions, :E)\n",
    "\n"
   ]
  }
 ],
 "metadata": {
  "kernelspec": {
   "display_name": "Julia 1.6.1",
   "language": "julia",
   "name": "julia-1.6"
  },
  "language_info": {
   "file_extension": ".jl",
   "mimetype": "application/julia",
   "name": "julia",
   "version": "1.6.1"
  },
  "orig_nbformat": 4
 },
 "nbformat": 4,
 "nbformat_minor": 2
}
